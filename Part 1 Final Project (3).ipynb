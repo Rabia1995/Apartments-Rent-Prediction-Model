<<<<<<< HEAD
{
 "cells": [
  {
   "cell_type": "markdown",
   "metadata": {
    "colab_type": "text",
    "id": "V6W7COL-nwCv"
   },
   "source": [
    "# Data Science Final Project: Part 1 Analysis\n",
    "\n",
    "This is a preliminary analysis of the rental data to predict rents for test 2 data. It is expected further work in Part 2 will result in improved estimations. This analysis and the outcomes will form the basis of Part 2.  \n",
    "This file has been broken up into 3 parts: \n",
    "\n",
    "\n",
    "1.   Data Exploration [https://colab.research.google.com/drive/1ui-CU-qfreGNuP69NaVPlmFKIiNBFxuL#scrollTo=K-ZZpcoaiGY6]\n",
    "2.   Data Preprocessing [https://colab.research.google.com/drive/1ui-CU-qfreGNuP69NaVPlmFKIiNBFxuL#scrollTo=HgGR6M-aojEZ]\n",
    "3.   Data Modelling [https://colab.research.google.com/drive/1ui-CU-qfreGNuP69NaVPlmFKIiNBFxuL#scrollTo=aPjrrxHJot6h]\n",
    "4.  Summary of Results and Further Work [https://colab.research.google.com/drive/1ui-CU-qfreGNuP69NaVPlmFKIiNBFxuL#scrollTo=9IVaqCL3pKBX]\n",
    "\n",
    "\n",
    "\n"
   ]
  },
  {
   "cell_type": "code",
   "execution_count": 1,
   "metadata": {
    "colab": {},
    "colab_type": "code",
    "id": "uTI3FuQFqCEH"
   },
   "outputs": [],
   "source": [
    "import numpy as np\n",
    "import pandas as pd\n",
    "import matplotlib.pyplot as plt\n",
    "import seaborn as sns\n",
    "\n",
    "from sklearn.linear_model import LinearRegression\n",
    "from sklearn.metrics import mean_squared_error\n",
    "\n",
    "from sklearn.ensemble import RandomForestRegressor\n",
    "from sklearn.ensemble import GradientBoostingRegressor\n",
    "\n",
    "%matplotlib inline"
   ]
  },
  {
   "cell_type": "code",
   "execution_count": 2,
   "metadata": {
    "colab": {},
    "colab_type": "code",
    "id": "fn-ehv0SqH7y"
   },
   "outputs": [],
   "source": [
    "train_df = pd.read_csv('https://grantmlong.com/data/SE_rents2018_train.csv', index_col=0)\n",
    "test_df = pd.read_csv('https://grantmlong.com/data/SE_rents2018_test1.csv', index_col=0)\n",
    "test2_df = pd.read_csv('https://grantmlong.com/data/SE_rents2018_test2.csv', index_col=0)\n",
    "submit1_df = pd.read_csv('https://grantmlong.com/data/SE_rents2018_test2.csv', index_col=0)\n",
    "submit2_df = pd.read_csv('https://grantmlong.com/data/SE_rents2018_test3.csv', index_col=0)"
   ]
  },
  {
   "cell_type": "markdown",
   "metadata": {
    "colab_type": "text",
    "id": "K-ZZpcoaiGY6"
   },
   "source": [
    "## Data Exploration\n",
    "\n",
    "This section we look at the data and determine the features for our model. We build our training data\n",
    "\n",
    "\n"
   ]
  },
  {
   "cell_type": "code",
   "execution_count": 3,
   "metadata": {
    "colab": {
     "base_uri": "https://localhost:8080/",
     "height": 1000
    },
    "colab_type": "code",
    "executionInfo": {
     "elapsed": 664,
     "status": "ok",
     "timestamp": 1574435373250,
     "user": {
      "displayName": "Jacinta Moore",
      "photoUrl": "",
      "userId": "14215851766389388616"
     },
     "user_tz": 300
    },
    "id": "D5_s5QoOohQ9",
    "outputId": "b88109de-21e0-4f88-f01c-d703606c3995"
   },
   "outputs": [
    {
     "data": {
      "text/html": [
       "<div>\n",
       "<style scoped>\n",
       "    .dataframe tbody tr th:only-of-type {\n",
       "        vertical-align: middle;\n",
       "    }\n",
       "\n",
       "    .dataframe tbody tr th {\n",
       "        vertical-align: top;\n",
       "    }\n",
       "\n",
       "    .dataframe thead th {\n",
       "        text-align: right;\n",
       "    }\n",
       "</style>\n",
       "<table border=\"1\" class=\"dataframe\">\n",
       "  <thead>\n",
       "    <tr style=\"text-align: right;\">\n",
       "      <th>rental_id</th>\n",
       "      <th>7286932</th>\n",
       "      <th>7231222</th>\n",
       "      <th>7334767</th>\n",
       "      <th>7305754</th>\n",
       "      <th>7189192</th>\n",
       "    </tr>\n",
       "  </thead>\n",
       "  <tbody>\n",
       "    <tr>\n",
       "      <td>addr_unit</td>\n",
       "      <td>#4K</td>\n",
       "      <td>#1R</td>\n",
       "      <td>#12C</td>\n",
       "      <td>#9B</td>\n",
       "      <td>#37EF</td>\n",
       "    </tr>\n",
       "    <tr>\n",
       "      <td>building_id</td>\n",
       "      <td>1390951</td>\n",
       "      <td>286561</td>\n",
       "      <td>17125</td>\n",
       "      <td>89242</td>\n",
       "      <td>89344</td>\n",
       "    </tr>\n",
       "    <tr>\n",
       "      <td>bedrooms</td>\n",
       "      <td>1</td>\n",
       "      <td>3</td>\n",
       "      <td>2</td>\n",
       "      <td>3</td>\n",
       "      <td>3</td>\n",
       "    </tr>\n",
       "    <tr>\n",
       "      <td>bathrooms</td>\n",
       "      <td>1</td>\n",
       "      <td>1</td>\n",
       "      <td>1</td>\n",
       "      <td>2</td>\n",
       "      <td>2</td>\n",
       "    </tr>\n",
       "    <tr>\n",
       "      <td>size_sqft</td>\n",
       "      <td>833</td>\n",
       "      <td>1200</td>\n",
       "      <td>0</td>\n",
       "      <td>1800</td>\n",
       "      <td>1850</td>\n",
       "    </tr>\n",
       "    <tr>\n",
       "      <td>created_at</td>\n",
       "      <td>2018-06-19 13:14:31</td>\n",
       "      <td>2018-06-02 08:15:03</td>\n",
       "      <td>2018-07-05 13:10:43</td>\n",
       "      <td>2018-06-25 16:56:00</td>\n",
       "      <td>2018-05-18 03:13:18</td>\n",
       "    </tr>\n",
       "    <tr>\n",
       "      <td>addr_street</td>\n",
       "      <td>63-36 99 STREET</td>\n",
       "      <td>164 STUYVESANT AVENUE</td>\n",
       "      <td>342 EAST 13 STREET</td>\n",
       "      <td>65 EAST 96 STREET</td>\n",
       "      <td>1214 FIFTH AVENUE</td>\n",
       "    </tr>\n",
       "    <tr>\n",
       "      <td>addr_city</td>\n",
       "      <td>Rego Park</td>\n",
       "      <td>Brooklyn</td>\n",
       "      <td>New York</td>\n",
       "      <td>New York</td>\n",
       "      <td>New York</td>\n",
       "    </tr>\n",
       "    <tr>\n",
       "      <td>addr_zip</td>\n",
       "      <td>11374</td>\n",
       "      <td>11221</td>\n",
       "      <td>10003</td>\n",
       "      <td>10128</td>\n",
       "      <td>10029</td>\n",
       "    </tr>\n",
       "    <tr>\n",
       "      <td>addr_lat</td>\n",
       "      <td>40.732</td>\n",
       "      <td>40.6899</td>\n",
       "      <td>40.7308</td>\n",
       "      <td>40.7871</td>\n",
       "      <td>40.7914</td>\n",
       "    </tr>\n",
       "    <tr>\n",
       "      <td>addr_lon</td>\n",
       "      <td>-73.857</td>\n",
       "      <td>-73.9337</td>\n",
       "      <td>-73.984</td>\n",
       "      <td>-73.9531</td>\n",
       "      <td>-73.9524</td>\n",
       "    </tr>\n",
       "    <tr>\n",
       "      <td>bin</td>\n",
       "      <td>4.53958e+06</td>\n",
       "      <td>3.04406e+06</td>\n",
       "      <td>1.00649e+06</td>\n",
       "      <td>1.05145e+06</td>\n",
       "      <td>1.05149e+06</td>\n",
       "    </tr>\n",
       "    <tr>\n",
       "      <td>bbl</td>\n",
       "      <td>4020997502</td>\n",
       "      <td>3016200049</td>\n",
       "      <td>1004540031</td>\n",
       "      <td>1016027501</td>\n",
       "      <td>1016077503</td>\n",
       "    </tr>\n",
       "    <tr>\n",
       "      <td>floor_count</td>\n",
       "      <td>2</td>\n",
       "      <td>3</td>\n",
       "      <td>5</td>\n",
       "      <td>16</td>\n",
       "      <td>50</td>\n",
       "    </tr>\n",
       "    <tr>\n",
       "      <td>year_built</td>\n",
       "      <td>1945</td>\n",
       "      <td>1899</td>\n",
       "      <td>1900</td>\n",
       "      <td>1924</td>\n",
       "      <td>2013</td>\n",
       "    </tr>\n",
       "    <tr>\n",
       "      <td>min_to_subway</td>\n",
       "      <td>3.3833</td>\n",
       "      <td>4.9333</td>\n",
       "      <td>1.1</td>\n",
       "      <td>2.05</td>\n",
       "      <td>2.6333</td>\n",
       "    </tr>\n",
       "    <tr>\n",
       "      <td>has_doorman</td>\n",
       "      <td>1</td>\n",
       "      <td>0</td>\n",
       "      <td>0</td>\n",
       "      <td>1</td>\n",
       "      <td>1</td>\n",
       "    </tr>\n",
       "    <tr>\n",
       "      <td>has_elevator</td>\n",
       "      <td>1</td>\n",
       "      <td>0</td>\n",
       "      <td>0</td>\n",
       "      <td>1</td>\n",
       "      <td>1</td>\n",
       "    </tr>\n",
       "    <tr>\n",
       "      <td>has_fireplace</td>\n",
       "      <td>0</td>\n",
       "      <td>0</td>\n",
       "      <td>0</td>\n",
       "      <td>0</td>\n",
       "      <td>0</td>\n",
       "    </tr>\n",
       "    <tr>\n",
       "      <td>has_dishwasher</td>\n",
       "      <td>1</td>\n",
       "      <td>0</td>\n",
       "      <td>0</td>\n",
       "      <td>1</td>\n",
       "      <td>0</td>\n",
       "    </tr>\n",
       "    <tr>\n",
       "      <td>is_furnished</td>\n",
       "      <td>0</td>\n",
       "      <td>0</td>\n",
       "      <td>0</td>\n",
       "      <td>0</td>\n",
       "      <td>0</td>\n",
       "    </tr>\n",
       "    <tr>\n",
       "      <td>has_gym</td>\n",
       "      <td>1</td>\n",
       "      <td>0</td>\n",
       "      <td>0</td>\n",
       "      <td>1</td>\n",
       "      <td>1</td>\n",
       "    </tr>\n",
       "    <tr>\n",
       "      <td>allows_pets</td>\n",
       "      <td>1</td>\n",
       "      <td>1</td>\n",
       "      <td>1</td>\n",
       "      <td>1</td>\n",
       "      <td>1</td>\n",
       "    </tr>\n",
       "    <tr>\n",
       "      <td>has_washer_dryer</td>\n",
       "      <td>1</td>\n",
       "      <td>0</td>\n",
       "      <td>0</td>\n",
       "      <td>1</td>\n",
       "      <td>0</td>\n",
       "    </tr>\n",
       "    <tr>\n",
       "      <td>has_garage</td>\n",
       "      <td>1</td>\n",
       "      <td>0</td>\n",
       "      <td>0</td>\n",
       "      <td>0</td>\n",
       "      <td>1</td>\n",
       "    </tr>\n",
       "    <tr>\n",
       "      <td>has_roofdeck</td>\n",
       "      <td>1</td>\n",
       "      <td>0</td>\n",
       "      <td>0</td>\n",
       "      <td>0</td>\n",
       "      <td>1</td>\n",
       "    </tr>\n",
       "    <tr>\n",
       "      <td>has_concierge</td>\n",
       "      <td>1</td>\n",
       "      <td>0</td>\n",
       "      <td>0</td>\n",
       "      <td>1</td>\n",
       "      <td>1</td>\n",
       "    </tr>\n",
       "    <tr>\n",
       "      <td>has_pool</td>\n",
       "      <td>0</td>\n",
       "      <td>0</td>\n",
       "      <td>0</td>\n",
       "      <td>0</td>\n",
       "      <td>1</td>\n",
       "    </tr>\n",
       "    <tr>\n",
       "      <td>has_garden</td>\n",
       "      <td>0</td>\n",
       "      <td>0</td>\n",
       "      <td>0</td>\n",
       "      <td>0</td>\n",
       "      <td>0</td>\n",
       "    </tr>\n",
       "    <tr>\n",
       "      <td>has_childrens_playroom</td>\n",
       "      <td>0</td>\n",
       "      <td>0</td>\n",
       "      <td>0</td>\n",
       "      <td>0</td>\n",
       "      <td>1</td>\n",
       "    </tr>\n",
       "    <tr>\n",
       "      <td>rent</td>\n",
       "      <td>2400</td>\n",
       "      <td>2750</td>\n",
       "      <td>3099</td>\n",
       "      <td>10500</td>\n",
       "      <td>12250</td>\n",
       "    </tr>\n",
       "    <tr>\n",
       "      <td>no_fee</td>\n",
       "      <td>0</td>\n",
       "      <td>1</td>\n",
       "      <td>0</td>\n",
       "      <td>0</td>\n",
       "      <td>0</td>\n",
       "    </tr>\n",
       "    <tr>\n",
       "      <td>description</td>\n",
       "      <td>New building, south facing one bedroom condo a...</td>\n",
       "      <td>Greetings – \\r\\n\\r\\nIf you are interested i ha...</td>\n",
       "      <td>TIME TO TRULY LOVE WHERE YOU LIVE, IN THE HEAR...</td>\n",
       "      <td>This charming, sun-flooded, and spacious 3 bed...</td>\n",
       "      <td>1214 Fifth Avenue is what New Yorkers dream ab...</td>\n",
       "    </tr>\n",
       "    <tr>\n",
       "      <td>neighborhood</td>\n",
       "      <td>Rego Park</td>\n",
       "      <td>Bedford-Stuyvesant</td>\n",
       "      <td>East Village</td>\n",
       "      <td>Upper East Side</td>\n",
       "      <td>Upper East Side</td>\n",
       "    </tr>\n",
       "    <tr>\n",
       "      <td>borough</td>\n",
       "      <td>Queens</td>\n",
       "      <td>Brooklyn</td>\n",
       "      <td>Manhattan</td>\n",
       "      <td>Manhattan</td>\n",
       "      <td>Manhattan</td>\n",
       "    </tr>\n",
       "    <tr>\n",
       "      <td>unit</td>\n",
       "      <td>4K</td>\n",
       "      <td>1R</td>\n",
       "      <td>12C</td>\n",
       "      <td>9B</td>\n",
       "      <td>37EF</td>\n",
       "    </tr>\n",
       "    <tr>\n",
       "      <td>floornumber</td>\n",
       "      <td>4</td>\n",
       "      <td>1</td>\n",
       "      <td>NaN</td>\n",
       "      <td>9</td>\n",
       "      <td>37</td>\n",
       "    </tr>\n",
       "    <tr>\n",
       "      <td>line</td>\n",
       "      <td>K</td>\n",
       "      <td>R</td>\n",
       "      <td>NaN</td>\n",
       "      <td>B</td>\n",
       "      <td>EF</td>\n",
       "    </tr>\n",
       "  </tbody>\n",
       "</table>\n",
       "</div>"
      ],
      "text/plain": [
       "rental_id                                                         7286932  \\\n",
       "addr_unit                                                             #4K   \n",
       "building_id                                                       1390951   \n",
       "bedrooms                                                                1   \n",
       "bathrooms                                                               1   \n",
       "size_sqft                                                             833   \n",
       "created_at                                            2018-06-19 13:14:31   \n",
       "addr_street                                               63-36 99 STREET   \n",
       "addr_city                                                       Rego Park   \n",
       "addr_zip                                                            11374   \n",
       "addr_lat                                                           40.732   \n",
       "addr_lon                                                          -73.857   \n",
       "bin                                                           4.53958e+06   \n",
       "bbl                                                            4020997502   \n",
       "floor_count                                                             2   \n",
       "year_built                                                           1945   \n",
       "min_to_subway                                                      3.3833   \n",
       "has_doorman                                                             1   \n",
       "has_elevator                                                            1   \n",
       "has_fireplace                                                           0   \n",
       "has_dishwasher                                                          1   \n",
       "is_furnished                                                            0   \n",
       "has_gym                                                                 1   \n",
       "allows_pets                                                             1   \n",
       "has_washer_dryer                                                        1   \n",
       "has_garage                                                              1   \n",
       "has_roofdeck                                                            1   \n",
       "has_concierge                                                           1   \n",
       "has_pool                                                                0   \n",
       "has_garden                                                              0   \n",
       "has_childrens_playroom                                                  0   \n",
       "rent                                                                 2400   \n",
       "no_fee                                                                  0   \n",
       "description             New building, south facing one bedroom condo a...   \n",
       "neighborhood                                                    Rego Park   \n",
       "borough                                                            Queens   \n",
       "unit                                                                   4K   \n",
       "floornumber                                                             4   \n",
       "line                                                                    K   \n",
       "\n",
       "rental_id                                                         7231222  \\\n",
       "addr_unit                                                             #1R   \n",
       "building_id                                                        286561   \n",
       "bedrooms                                                                3   \n",
       "bathrooms                                                               1   \n",
       "size_sqft                                                            1200   \n",
       "created_at                                            2018-06-02 08:15:03   \n",
       "addr_street                                         164 STUYVESANT AVENUE   \n",
       "addr_city                                                        Brooklyn   \n",
       "addr_zip                                                            11221   \n",
       "addr_lat                                                          40.6899   \n",
       "addr_lon                                                         -73.9337   \n",
       "bin                                                           3.04406e+06   \n",
       "bbl                                                            3016200049   \n",
       "floor_count                                                             3   \n",
       "year_built                                                           1899   \n",
       "min_to_subway                                                      4.9333   \n",
       "has_doorman                                                             0   \n",
       "has_elevator                                                            0   \n",
       "has_fireplace                                                           0   \n",
       "has_dishwasher                                                          0   \n",
       "is_furnished                                                            0   \n",
       "has_gym                                                                 0   \n",
       "allows_pets                                                             1   \n",
       "has_washer_dryer                                                        0   \n",
       "has_garage                                                              0   \n",
       "has_roofdeck                                                            0   \n",
       "has_concierge                                                           0   \n",
       "has_pool                                                                0   \n",
       "has_garden                                                              0   \n",
       "has_childrens_playroom                                                  0   \n",
       "rent                                                                 2750   \n",
       "no_fee                                                                  1   \n",
       "description             Greetings – \\r\\n\\r\\nIf you are interested i ha...   \n",
       "neighborhood                                           Bedford-Stuyvesant   \n",
       "borough                                                          Brooklyn   \n",
       "unit                                                                   1R   \n",
       "floornumber                                                             1   \n",
       "line                                                                    R   \n",
       "\n",
       "rental_id                                                         7334767  \\\n",
       "addr_unit                                                            #12C   \n",
       "building_id                                                         17125   \n",
       "bedrooms                                                                2   \n",
       "bathrooms                                                               1   \n",
       "size_sqft                                                               0   \n",
       "created_at                                            2018-07-05 13:10:43   \n",
       "addr_street                                            342 EAST 13 STREET   \n",
       "addr_city                                                        New York   \n",
       "addr_zip                                                            10003   \n",
       "addr_lat                                                          40.7308   \n",
       "addr_lon                                                          -73.984   \n",
       "bin                                                           1.00649e+06   \n",
       "bbl                                                            1004540031   \n",
       "floor_count                                                             5   \n",
       "year_built                                                           1900   \n",
       "min_to_subway                                                         1.1   \n",
       "has_doorman                                                             0   \n",
       "has_elevator                                                            0   \n",
       "has_fireplace                                                           0   \n",
       "has_dishwasher                                                          0   \n",
       "is_furnished                                                            0   \n",
       "has_gym                                                                 0   \n",
       "allows_pets                                                             1   \n",
       "has_washer_dryer                                                        0   \n",
       "has_garage                                                              0   \n",
       "has_roofdeck                                                            0   \n",
       "has_concierge                                                           0   \n",
       "has_pool                                                                0   \n",
       "has_garden                                                              0   \n",
       "has_childrens_playroom                                                  0   \n",
       "rent                                                                 3099   \n",
       "no_fee                                                                  0   \n",
       "description             TIME TO TRULY LOVE WHERE YOU LIVE, IN THE HEAR...   \n",
       "neighborhood                                                 East Village   \n",
       "borough                                                         Manhattan   \n",
       "unit                                                                  12C   \n",
       "floornumber                                                           NaN   \n",
       "line                                                                  NaN   \n",
       "\n",
       "rental_id                                                         7305754  \\\n",
       "addr_unit                                                             #9B   \n",
       "building_id                                                         89242   \n",
       "bedrooms                                                                3   \n",
       "bathrooms                                                               2   \n",
       "size_sqft                                                            1800   \n",
       "created_at                                            2018-06-25 16:56:00   \n",
       "addr_street                                             65 EAST 96 STREET   \n",
       "addr_city                                                        New York   \n",
       "addr_zip                                                            10128   \n",
       "addr_lat                                                          40.7871   \n",
       "addr_lon                                                         -73.9531   \n",
       "bin                                                           1.05145e+06   \n",
       "bbl                                                            1016027501   \n",
       "floor_count                                                            16   \n",
       "year_built                                                           1924   \n",
       "min_to_subway                                                        2.05   \n",
       "has_doorman                                                             1   \n",
       "has_elevator                                                            1   \n",
       "has_fireplace                                                           0   \n",
       "has_dishwasher                                                          1   \n",
       "is_furnished                                                            0   \n",
       "has_gym                                                                 1   \n",
       "allows_pets                                                             1   \n",
       "has_washer_dryer                                                        1   \n",
       "has_garage                                                              0   \n",
       "has_roofdeck                                                            0   \n",
       "has_concierge                                                           1   \n",
       "has_pool                                                                0   \n",
       "has_garden                                                              0   \n",
       "has_childrens_playroom                                                  0   \n",
       "rent                                                                10500   \n",
       "no_fee                                                                  0   \n",
       "description             This charming, sun-flooded, and spacious 3 bed...   \n",
       "neighborhood                                              Upper East Side   \n",
       "borough                                                         Manhattan   \n",
       "unit                                                                   9B   \n",
       "floornumber                                                             9   \n",
       "line                                                                    B   \n",
       "\n",
       "rental_id                                                         7189192  \n",
       "addr_unit                                                           #37EF  \n",
       "building_id                                                         89344  \n",
       "bedrooms                                                                3  \n",
       "bathrooms                                                               2  \n",
       "size_sqft                                                            1850  \n",
       "created_at                                            2018-05-18 03:13:18  \n",
       "addr_street                                             1214 FIFTH AVENUE  \n",
       "addr_city                                                        New York  \n",
       "addr_zip                                                            10029  \n",
       "addr_lat                                                          40.7914  \n",
       "addr_lon                                                         -73.9524  \n",
       "bin                                                           1.05149e+06  \n",
       "bbl                                                            1016077503  \n",
       "floor_count                                                            50  \n",
       "year_built                                                           2013  \n",
       "min_to_subway                                                      2.6333  \n",
       "has_doorman                                                             1  \n",
       "has_elevator                                                            1  \n",
       "has_fireplace                                                           0  \n",
       "has_dishwasher                                                          0  \n",
       "is_furnished                                                            0  \n",
       "has_gym                                                                 1  \n",
       "allows_pets                                                             1  \n",
       "has_washer_dryer                                                        0  \n",
       "has_garage                                                              1  \n",
       "has_roofdeck                                                            1  \n",
       "has_concierge                                                           1  \n",
       "has_pool                                                                1  \n",
       "has_garden                                                              0  \n",
       "has_childrens_playroom                                                  1  \n",
       "rent                                                                12250  \n",
       "no_fee                                                                  0  \n",
       "description             1214 Fifth Avenue is what New Yorkers dream ab...  \n",
       "neighborhood                                              Upper East Side  \n",
       "borough                                                         Manhattan  \n",
       "unit                                                                 37EF  \n",
       "floornumber                                                            37  \n",
       "line                                                                   EF  "
      ]
     },
     "execution_count": 3,
     "metadata": {},
     "output_type": "execute_result"
    }
   ],
   "source": [
    "train_df.sample(5).transpose()"
   ]
  },
  {
   "cell_type": "code",
   "execution_count": 4,
   "metadata": {
    "colab": {
     "base_uri": "https://localhost:8080/",
     "height": 34
    },
    "colab_type": "code",
    "executionInfo": {
     "elapsed": 417,
     "status": "ok",
     "timestamp": 1574368676864,
     "user": {
      "displayName": "Jacinta Moore",
      "photoUrl": "",
      "userId": "14215851766389388616"
     },
     "user_tz": 300
    },
    "id": "Z5F5catir0BW",
    "outputId": "34ff74de-266d-4537-ca26-c67b75489874"
   },
   "outputs": [
    {
     "data": {
      "text/plain": [
       "(12000, 38)"
      ]
     },
     "execution_count": 4,
     "metadata": {},
     "output_type": "execute_result"
    }
   ],
   "source": [
    "train_df.shape"
   ]
  },
  {
   "cell_type": "code",
   "execution_count": 5,
   "metadata": {
    "colab": {
     "base_uri": "https://localhost:8080/",
     "height": 34
    },
    "colab_type": "code",
    "executionInfo": {
     "elapsed": 390,
     "status": "ok",
     "timestamp": 1574368687206,
     "user": {
      "displayName": "Jacinta Moore",
      "photoUrl": "",
      "userId": "14215851766389388616"
     },
     "user_tz": 300
    },
    "id": "e-o5NYKor5j1",
    "outputId": "ef990429-d838-4277-96ba-dbac2a67b54e"
   },
   "outputs": [
    {
     "data": {
      "text/plain": [
       "(2000, 38)"
      ]
     },
     "execution_count": 5,
     "metadata": {},
     "output_type": "execute_result"
    }
   ],
   "source": [
    "test_df.shape"
   ]
  },
  {
   "cell_type": "code",
   "execution_count": 6,
   "metadata": {
    "colab": {
     "base_uri": "https://localhost:8080/",
     "height": 34
    },
    "colab_type": "code",
    "executionInfo": {
     "elapsed": 427,
     "status": "ok",
     "timestamp": 1574368731957,
     "user": {
      "displayName": "Jacinta Moore",
      "photoUrl": "",
      "userId": "14215851766389388616"
     },
     "user_tz": 300
    },
    "id": "FHwgbKRir8bo",
    "outputId": "2843fa66-e64c-4002-e463-6f539930cbd7"
   },
   "outputs": [
    {
     "data": {
      "text/plain": [
       "(2000, 38)"
      ]
     },
     "execution_count": 6,
     "metadata": {},
     "output_type": "execute_result"
    }
   ],
   "source": [
    "test2_df.shape"
   ]
  },
  {
   "cell_type": "code",
   "execution_count": 7,
   "metadata": {
    "colab": {
     "base_uri": "https://localhost:8080/",
     "height": 269
    },
    "colab_type": "code",
    "executionInfo": {
     "elapsed": 800,
     "status": "ok",
     "timestamp": 1574366466380,
     "user": {
      "displayName": "Jacinta Moore",
      "photoUrl": "",
      "userId": "14215851766389388616"
     },
     "user_tz": 300
    },
    "id": "6j_eaNSqrT5D",
    "outputId": "b09f9e52-c735-41fa-aef3-8995a0288693"
   },
   "outputs": [
    {
     "data": {
      "image/png": "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\n",
      "text/plain": [
       "<Figure size 432x288 with 1 Axes>"
      ]
     },
     "metadata": {
      "needs_background": "light"
     },
     "output_type": "display_data"
    }
   ],
   "source": [
    "_ = plt.hist(train_df['rent'], bins=100)"
   ]
  },
  {
   "cell_type": "code",
   "execution_count": 8,
   "metadata": {
    "colab": {
     "base_uri": "https://localhost:8080/",
     "height": 168
    },
    "colab_type": "code",
    "executionInfo": {
     "elapsed": 496,
     "status": "ok",
     "timestamp": 1574366467446,
     "user": {
      "displayName": "Jacinta Moore",
      "photoUrl": "",
      "userId": "14215851766389388616"
     },
     "user_tz": 300
    },
    "id": "K5EQekB9rUKa",
    "outputId": "53c7277d-84ca-4a28-8ea2-72e63cfc424d"
   },
   "outputs": [
    {
     "data": {
      "text/plain": [
       "count    12000.000000\n",
       "mean      3605.762917\n",
       "std       2897.069446\n",
       "min       1250.000000\n",
       "25%       2250.000000\n",
       "50%       2900.000000\n",
       "75%       3900.000000\n",
       "max      50000.000000\n",
       "Name: rent, dtype: float64"
      ]
     },
     "execution_count": 8,
     "metadata": {},
     "output_type": "execute_result"
    }
   ],
   "source": [
    "train_df['rent'].describe()"
   ]
  },
  {
   "cell_type": "code",
   "execution_count": 9,
   "metadata": {
    "colab": {
     "base_uri": "https://localhost:8080/",
     "height": 34
    },
    "colab_type": "code",
    "executionInfo": {
     "elapsed": 368,
     "status": "ok",
     "timestamp": 1574366472147,
     "user": {
      "displayName": "Jacinta Moore",
      "photoUrl": "",
      "userId": "14215851766389388616"
     },
     "user_tz": 300
    },
    "id": "-lxPtxAprUfW",
    "outputId": "b73166aa-2926-4b71-dfda-2d5d825a9806"
   },
   "outputs": [
    {
     "data": {
      "text/plain": [
       "0"
      ]
     },
     "execution_count": 9,
     "metadata": {},
     "output_type": "execute_result"
    }
   ],
   "source": [
    "train_df['rent'].isna().sum()"
   ]
  },
  {
   "cell_type": "code",
   "execution_count": 10,
   "metadata": {
    "colab": {
     "base_uri": "https://localhost:8080/",
     "height": 54
    },
    "colab_type": "code",
    "executionInfo": {
     "elapsed": 343,
     "status": "ok",
     "timestamp": 1574366473330,
     "user": {
      "displayName": "Jacinta Moore",
      "photoUrl": "",
      "userId": "14215851766389388616"
     },
     "user_tz": 300
    },
    "id": "EAAqPpaCnI0d",
    "outputId": "9603f889-3f78-4983-e2b0-ce83b0b570ba"
   },
   "outputs": [
    {
     "name": "stdout",
     "output_type": "stream",
     "text": [
      "['addr_unit', 'building_id', 'bedrooms', 'bathrooms', 'size_sqft', 'created_at', 'addr_street', 'addr_city', 'addr_zip', 'addr_lat', 'addr_lon', 'bin', 'bbl', 'floor_count', 'year_built', 'min_to_subway', 'has_doorman', 'has_elevator', 'has_fireplace', 'has_dishwasher', 'is_furnished', 'has_gym', 'allows_pets', 'has_washer_dryer', 'has_garage', 'has_roofdeck', 'has_concierge', 'has_pool', 'has_garden', 'has_childrens_playroom', 'rent', 'no_fee', 'description', 'neighborhood', 'borough', 'unit', 'floornumber', 'line']\n"
     ]
    }
   ],
   "source": [
    "print(list(train_df))"
   ]
  },
  {
   "cell_type": "code",
   "execution_count": 11,
   "metadata": {
    "colab": {
     "base_uri": "https://localhost:8080/",
     "height": 304
    },
    "colab_type": "code",
    "executionInfo": {
     "elapsed": 650,
     "status": "ok",
     "timestamp": 1574366474768,
     "user": {
      "displayName": "Jacinta Moore",
      "photoUrl": "",
      "userId": "14215851766389388616"
     },
     "user_tz": 300
    },
    "id": "aMnR3TkCnI0f",
    "outputId": "ddbf6bf3-d724-483d-d770-d4281e997a5b"
   },
   "outputs": [
    {
     "data": {
      "text/html": [
       "<div>\n",
       "<style scoped>\n",
       "    .dataframe tbody tr th:only-of-type {\n",
       "        vertical-align: middle;\n",
       "    }\n",
       "\n",
       "    .dataframe tbody tr th {\n",
       "        vertical-align: top;\n",
       "    }\n",
       "\n",
       "    .dataframe thead th {\n",
       "        text-align: right;\n",
       "    }\n",
       "</style>\n",
       "<table border=\"1\" class=\"dataframe\">\n",
       "  <thead>\n",
       "    <tr style=\"text-align: right;\">\n",
       "      <th></th>\n",
       "      <th>building_id</th>\n",
       "      <th>bedrooms</th>\n",
       "      <th>bathrooms</th>\n",
       "      <th>size_sqft</th>\n",
       "      <th>addr_zip</th>\n",
       "      <th>addr_lat</th>\n",
       "      <th>addr_lon</th>\n",
       "      <th>bin</th>\n",
       "      <th>bbl</th>\n",
       "      <th>floor_count</th>\n",
       "      <th>...</th>\n",
       "      <th>has_washer_dryer</th>\n",
       "      <th>has_garage</th>\n",
       "      <th>has_roofdeck</th>\n",
       "      <th>has_concierge</th>\n",
       "      <th>has_pool</th>\n",
       "      <th>has_garden</th>\n",
       "      <th>has_childrens_playroom</th>\n",
       "      <th>rent</th>\n",
       "      <th>no_fee</th>\n",
       "      <th>floornumber</th>\n",
       "    </tr>\n",
       "  </thead>\n",
       "  <tbody>\n",
       "    <tr>\n",
       "      <td>count</td>\n",
       "      <td>1.200000e+04</td>\n",
       "      <td>12000.000000</td>\n",
       "      <td>12000.000000</td>\n",
       "      <td>12000.000000</td>\n",
       "      <td>12000.000000</td>\n",
       "      <td>12000.000000</td>\n",
       "      <td>12000.000000</td>\n",
       "      <td>1.199900e+04</td>\n",
       "      <td>1.200000e+04</td>\n",
       "      <td>12000.000000</td>\n",
       "      <td>...</td>\n",
       "      <td>12000.000000</td>\n",
       "      <td>12000.000000</td>\n",
       "      <td>12000.000000</td>\n",
       "      <td>12000.000000</td>\n",
       "      <td>12000.000000</td>\n",
       "      <td>12000.000000</td>\n",
       "      <td>12000.000000</td>\n",
       "      <td>12000.000000</td>\n",
       "      <td>12000.000000</td>\n",
       "      <td>10723.000000</td>\n",
       "    </tr>\n",
       "    <tr>\n",
       "      <td>mean</td>\n",
       "      <td>1.529133e+06</td>\n",
       "      <td>1.657667</td>\n",
       "      <td>1.239500</td>\n",
       "      <td>850.465750</td>\n",
       "      <td>10682.779667</td>\n",
       "      <td>40.727507</td>\n",
       "      <td>-73.956837</td>\n",
       "      <td>2.370093e+06</td>\n",
       "      <td>2.287120e+09</td>\n",
       "      <td>10.266608</td>\n",
       "      <td>...</td>\n",
       "      <td>0.271667</td>\n",
       "      <td>0.170000</td>\n",
       "      <td>0.264083</td>\n",
       "      <td>0.208583</td>\n",
       "      <td>0.073167</td>\n",
       "      <td>0.132083</td>\n",
       "      <td>0.090500</td>\n",
       "      <td>3605.762917</td>\n",
       "      <td>0.490000</td>\n",
       "      <td>6.182738</td>\n",
       "    </tr>\n",
       "    <tr>\n",
       "      <td>std</td>\n",
       "      <td>4.301123e+06</td>\n",
       "      <td>1.079771</td>\n",
       "      <td>0.560208</td>\n",
       "      <td>515.773101</td>\n",
       "      <td>593.370964</td>\n",
       "      <td>0.053241</td>\n",
       "      <td>0.043024</td>\n",
       "      <td>1.242919e+06</td>\n",
       "      <td>1.202105e+09</td>\n",
       "      <td>12.019787</td>\n",
       "      <td>...</td>\n",
       "      <td>0.444837</td>\n",
       "      <td>0.375648</td>\n",
       "      <td>0.440862</td>\n",
       "      <td>0.406313</td>\n",
       "      <td>0.260421</td>\n",
       "      <td>0.338595</td>\n",
       "      <td>0.286909</td>\n",
       "      <td>2897.069446</td>\n",
       "      <td>0.499921</td>\n",
       "      <td>7.671545</td>\n",
       "    </tr>\n",
       "    <tr>\n",
       "      <td>min</td>\n",
       "      <td>7.300000e+01</td>\n",
       "      <td>0.000000</td>\n",
       "      <td>0.000000</td>\n",
       "      <td>0.000000</td>\n",
       "      <td>10001.000000</td>\n",
       "      <td>40.573898</td>\n",
       "      <td>-74.141570</td>\n",
       "      <td>1.000000e+06</td>\n",
       "      <td>0.000000e+00</td>\n",
       "      <td>0.000000</td>\n",
       "      <td>...</td>\n",
       "      <td>0.000000</td>\n",
       "      <td>0.000000</td>\n",
       "      <td>0.000000</td>\n",
       "      <td>0.000000</td>\n",
       "      <td>0.000000</td>\n",
       "      <td>0.000000</td>\n",
       "      <td>0.000000</td>\n",
       "      <td>1250.000000</td>\n",
       "      <td>0.000000</td>\n",
       "      <td>0.000000</td>\n",
       "    </tr>\n",
       "    <tr>\n",
       "      <td>25%</td>\n",
       "      <td>6.209200e+04</td>\n",
       "      <td>1.000000</td>\n",
       "      <td>1.000000</td>\n",
       "      <td>610.000000</td>\n",
       "      <td>10023.000000</td>\n",
       "      <td>40.693256</td>\n",
       "      <td>-73.986076</td>\n",
       "      <td>1.052139e+06</td>\n",
       "      <td>1.011220e+09</td>\n",
       "      <td>3.000000</td>\n",
       "      <td>...</td>\n",
       "      <td>0.000000</td>\n",
       "      <td>0.000000</td>\n",
       "      <td>0.000000</td>\n",
       "      <td>0.000000</td>\n",
       "      <td>0.000000</td>\n",
       "      <td>0.000000</td>\n",
       "      <td>0.000000</td>\n",
       "      <td>2250.000000</td>\n",
       "      <td>0.000000</td>\n",
       "      <td>2.000000</td>\n",
       "    </tr>\n",
       "    <tr>\n",
       "      <td>50%</td>\n",
       "      <td>2.495815e+05</td>\n",
       "      <td>2.000000</td>\n",
       "      <td>1.000000</td>\n",
       "      <td>800.000000</td>\n",
       "      <td>11103.000000</td>\n",
       "      <td>40.729028</td>\n",
       "      <td>-73.961700</td>\n",
       "      <td>3.019358e+06</td>\n",
       "      <td>3.006580e+09</td>\n",
       "      <td>5.000000</td>\n",
       "      <td>...</td>\n",
       "      <td>0.000000</td>\n",
       "      <td>0.000000</td>\n",
       "      <td>0.000000</td>\n",
       "      <td>0.000000</td>\n",
       "      <td>0.000000</td>\n",
       "      <td>0.000000</td>\n",
       "      <td>0.000000</td>\n",
       "      <td>2900.000000</td>\n",
       "      <td>0.000000</td>\n",
       "      <td>3.000000</td>\n",
       "    </tr>\n",
       "    <tr>\n",
       "      <td>75%</td>\n",
       "      <td>8.225132e+05</td>\n",
       "      <td>2.000000</td>\n",
       "      <td>1.000000</td>\n",
       "      <td>1000.000000</td>\n",
       "      <td>11218.000000</td>\n",
       "      <td>40.764599</td>\n",
       "      <td>-73.936663</td>\n",
       "      <td>3.326098e+06</td>\n",
       "      <td>3.050580e+09</td>\n",
       "      <td>12.000000</td>\n",
       "      <td>...</td>\n",
       "      <td>1.000000</td>\n",
       "      <td>0.000000</td>\n",
       "      <td>1.000000</td>\n",
       "      <td>0.000000</td>\n",
       "      <td>0.000000</td>\n",
       "      <td>0.000000</td>\n",
       "      <td>0.000000</td>\n",
       "      <td>3900.000000</td>\n",
       "      <td>1.000000</td>\n",
       "      <td>6.000000</td>\n",
       "    </tr>\n",
       "    <tr>\n",
       "      <td>max</td>\n",
       "      <td>1.877210e+07</td>\n",
       "      <td>8.000000</td>\n",
       "      <td>20.000000</td>\n",
       "      <td>10000.000000</td>\n",
       "      <td>11694.000000</td>\n",
       "      <td>40.909842</td>\n",
       "      <td>-73.730550</td>\n",
       "      <td>5.158986e+06</td>\n",
       "      <td>5.010640e+09</td>\n",
       "      <td>90.000000</td>\n",
       "      <td>...</td>\n",
       "      <td>1.000000</td>\n",
       "      <td>1.000000</td>\n",
       "      <td>1.000000</td>\n",
       "      <td>1.000000</td>\n",
       "      <td>1.000000</td>\n",
       "      <td>1.000000</td>\n",
       "      <td>1.000000</td>\n",
       "      <td>50000.000000</td>\n",
       "      <td>1.000000</td>\n",
       "      <td>78.000000</td>\n",
       "    </tr>\n",
       "  </tbody>\n",
       "</table>\n",
       "<p>8 rows × 29 columns</p>\n",
       "</div>"
      ],
      "text/plain": [
       "        building_id      bedrooms     bathrooms     size_sqft      addr_zip  \\\n",
       "count  1.200000e+04  12000.000000  12000.000000  12000.000000  12000.000000   \n",
       "mean   1.529133e+06      1.657667      1.239500    850.465750  10682.779667   \n",
       "std    4.301123e+06      1.079771      0.560208    515.773101    593.370964   \n",
       "min    7.300000e+01      0.000000      0.000000      0.000000  10001.000000   \n",
       "25%    6.209200e+04      1.000000      1.000000    610.000000  10023.000000   \n",
       "50%    2.495815e+05      2.000000      1.000000    800.000000  11103.000000   \n",
       "75%    8.225132e+05      2.000000      1.000000   1000.000000  11218.000000   \n",
       "max    1.877210e+07      8.000000     20.000000  10000.000000  11694.000000   \n",
       "\n",
       "           addr_lat      addr_lon           bin           bbl   floor_count  \\\n",
       "count  12000.000000  12000.000000  1.199900e+04  1.200000e+04  12000.000000   \n",
       "mean      40.727507    -73.956837  2.370093e+06  2.287120e+09     10.266608   \n",
       "std        0.053241      0.043024  1.242919e+06  1.202105e+09     12.019787   \n",
       "min       40.573898    -74.141570  1.000000e+06  0.000000e+00      0.000000   \n",
       "25%       40.693256    -73.986076  1.052139e+06  1.011220e+09      3.000000   \n",
       "50%       40.729028    -73.961700  3.019358e+06  3.006580e+09      5.000000   \n",
       "75%       40.764599    -73.936663  3.326098e+06  3.050580e+09     12.000000   \n",
       "max       40.909842    -73.730550  5.158986e+06  5.010640e+09     90.000000   \n",
       "\n",
       "       ...  has_washer_dryer    has_garage  has_roofdeck  has_concierge  \\\n",
       "count  ...      12000.000000  12000.000000  12000.000000   12000.000000   \n",
       "mean   ...          0.271667      0.170000      0.264083       0.208583   \n",
       "std    ...          0.444837      0.375648      0.440862       0.406313   \n",
       "min    ...          0.000000      0.000000      0.000000       0.000000   \n",
       "25%    ...          0.000000      0.000000      0.000000       0.000000   \n",
       "50%    ...          0.000000      0.000000      0.000000       0.000000   \n",
       "75%    ...          1.000000      0.000000      1.000000       0.000000   \n",
       "max    ...          1.000000      1.000000      1.000000       1.000000   \n",
       "\n",
       "           has_pool    has_garden  has_childrens_playroom          rent  \\\n",
       "count  12000.000000  12000.000000            12000.000000  12000.000000   \n",
       "mean       0.073167      0.132083                0.090500   3605.762917   \n",
       "std        0.260421      0.338595                0.286909   2897.069446   \n",
       "min        0.000000      0.000000                0.000000   1250.000000   \n",
       "25%        0.000000      0.000000                0.000000   2250.000000   \n",
       "50%        0.000000      0.000000                0.000000   2900.000000   \n",
       "75%        0.000000      0.000000                0.000000   3900.000000   \n",
       "max        1.000000      1.000000                1.000000  50000.000000   \n",
       "\n",
       "             no_fee   floornumber  \n",
       "count  12000.000000  10723.000000  \n",
       "mean       0.490000      6.182738  \n",
       "std        0.499921      7.671545  \n",
       "min        0.000000      0.000000  \n",
       "25%        0.000000      2.000000  \n",
       "50%        0.000000      3.000000  \n",
       "75%        1.000000      6.000000  \n",
       "max        1.000000     78.000000  \n",
       "\n",
       "[8 rows x 29 columns]"
      ]
     },
     "execution_count": 11,
     "metadata": {},
     "output_type": "execute_result"
    }
   ],
   "source": [
    "train_df.describe()"
   ]
  },
  {
   "cell_type": "code",
   "execution_count": 12,
   "metadata": {
    "colab": {
     "base_uri": "https://localhost:8080/",
     "height": 926
    },
    "colab_type": "code",
    "executionInfo": {
     "elapsed": 449,
     "status": "ok",
     "timestamp": 1574366479688,
     "user": {
      "displayName": "Jacinta Moore",
      "photoUrl": "",
      "userId": "14215851766389388616"
     },
     "user_tz": 300
    },
    "id": "M3j05EiHr627",
    "outputId": "e31fdf32-fa4b-4d0c-dcc7-0ee39bffd62b",
    "scrolled": false
   },
   "outputs": [
    {
     "data": {
      "text/html": [
       "<div>\n",
       "<style scoped>\n",
       "    .dataframe tbody tr th:only-of-type {\n",
       "        vertical-align: middle;\n",
       "    }\n",
       "\n",
       "    .dataframe tbody tr th {\n",
       "        vertical-align: top;\n",
       "    }\n",
       "\n",
       "    .dataframe thead th {\n",
       "        text-align: right;\n",
       "    }\n",
       "</style>\n",
       "<table border=\"1\" class=\"dataframe\">\n",
       "  <thead>\n",
       "    <tr style=\"text-align: right;\">\n",
       "      <th></th>\n",
       "      <th>building_id</th>\n",
       "      <th>bedrooms</th>\n",
       "      <th>bathrooms</th>\n",
       "      <th>size_sqft</th>\n",
       "      <th>addr_zip</th>\n",
       "      <th>addr_lat</th>\n",
       "      <th>addr_lon</th>\n",
       "      <th>bin</th>\n",
       "      <th>bbl</th>\n",
       "      <th>floor_count</th>\n",
       "      <th>...</th>\n",
       "      <th>has_washer_dryer</th>\n",
       "      <th>has_garage</th>\n",
       "      <th>has_roofdeck</th>\n",
       "      <th>has_concierge</th>\n",
       "      <th>has_pool</th>\n",
       "      <th>has_garden</th>\n",
       "      <th>has_childrens_playroom</th>\n",
       "      <th>rent</th>\n",
       "      <th>no_fee</th>\n",
       "      <th>floornumber</th>\n",
       "    </tr>\n",
       "  </thead>\n",
       "  <tbody>\n",
       "    <tr>\n",
       "      <td>building_id</td>\n",
       "      <td>1.000000</td>\n",
       "      <td>-0.001813</td>\n",
       "      <td>-0.016501</td>\n",
       "      <td>-0.006433</td>\n",
       "      <td>0.064199</td>\n",
       "      <td>-0.008653</td>\n",
       "      <td>0.105315</td>\n",
       "      <td>0.117460</td>\n",
       "      <td>0.090194</td>\n",
       "      <td>-0.116488</td>\n",
       "      <td>...</td>\n",
       "      <td>-0.030651</td>\n",
       "      <td>0.099141</td>\n",
       "      <td>-0.012773</td>\n",
       "      <td>-0.060398</td>\n",
       "      <td>0.038340</td>\n",
       "      <td>0.064100</td>\n",
       "      <td>0.011357</td>\n",
       "      <td>-0.035145</td>\n",
       "      <td>0.052429</td>\n",
       "      <td>-0.003418</td>\n",
       "    </tr>\n",
       "    <tr>\n",
       "      <td>bedrooms</td>\n",
       "      <td>-0.001813</td>\n",
       "      <td>1.000000</td>\n",
       "      <td>0.464287</td>\n",
       "      <td>0.525537</td>\n",
       "      <td>0.187639</td>\n",
       "      <td>-0.114986</td>\n",
       "      <td>0.093089</td>\n",
       "      <td>0.142331</td>\n",
       "      <td>0.151078</td>\n",
       "      <td>-0.228858</td>\n",
       "      <td>...</td>\n",
       "      <td>0.117120</td>\n",
       "      <td>-0.116837</td>\n",
       "      <td>-0.085111</td>\n",
       "      <td>-0.202524</td>\n",
       "      <td>-0.091116</td>\n",
       "      <td>0.048234</td>\n",
       "      <td>-0.083456</td>\n",
       "      <td>0.353337</td>\n",
       "      <td>-0.004335</td>\n",
       "      <td>-0.158895</td>\n",
       "    </tr>\n",
       "    <tr>\n",
       "      <td>bathrooms</td>\n",
       "      <td>-0.016501</td>\n",
       "      <td>0.464287</td>\n",
       "      <td>1.000000</td>\n",
       "      <td>0.565788</td>\n",
       "      <td>-0.088524</td>\n",
       "      <td>0.028441</td>\n",
       "      <td>-0.062992</td>\n",
       "      <td>-0.100642</td>\n",
       "      <td>-0.106358</td>\n",
       "      <td>0.091489</td>\n",
       "      <td>...</td>\n",
       "      <td>0.298722</td>\n",
       "      <td>0.051650</td>\n",
       "      <td>0.102592</td>\n",
       "      <td>0.105276</td>\n",
       "      <td>0.089527</td>\n",
       "      <td>0.104741</td>\n",
       "      <td>0.111949</td>\n",
       "      <td>0.611987</td>\n",
       "      <td>-0.003053</td>\n",
       "      <td>0.116938</td>\n",
       "    </tr>\n",
       "    <tr>\n",
       "      <td>size_sqft</td>\n",
       "      <td>-0.006433</td>\n",
       "      <td>0.525537</td>\n",
       "      <td>0.565788</td>\n",
       "      <td>1.000000</td>\n",
       "      <td>0.000576</td>\n",
       "      <td>-0.037717</td>\n",
       "      <td>-0.035054</td>\n",
       "      <td>-0.013148</td>\n",
       "      <td>-0.011608</td>\n",
       "      <td>0.020547</td>\n",
       "      <td>...</td>\n",
       "      <td>0.263907</td>\n",
       "      <td>0.005959</td>\n",
       "      <td>0.026781</td>\n",
       "      <td>0.040962</td>\n",
       "      <td>0.051020</td>\n",
       "      <td>0.137652</td>\n",
       "      <td>0.068867</td>\n",
       "      <td>0.649984</td>\n",
       "      <td>-0.074162</td>\n",
       "      <td>0.054328</td>\n",
       "    </tr>\n",
       "    <tr>\n",
       "      <td>addr_zip</td>\n",
       "      <td>0.064199</td>\n",
       "      <td>0.187639</td>\n",
       "      <td>-0.088524</td>\n",
       "      <td>0.000576</td>\n",
       "      <td>1.000000</td>\n",
       "      <td>-0.577385</td>\n",
       "      <td>0.462277</td>\n",
       "      <td>0.950995</td>\n",
       "      <td>0.952018</td>\n",
       "      <td>-0.447352</td>\n",
       "      <td>...</td>\n",
       "      <td>-0.113234</td>\n",
       "      <td>-0.116047</td>\n",
       "      <td>-0.107670</td>\n",
       "      <td>-0.354300</td>\n",
       "      <td>-0.193333</td>\n",
       "      <td>-0.006699</td>\n",
       "      <td>-0.162588</td>\n",
       "      <td>-0.325241</td>\n",
       "      <td>-0.066025</td>\n",
       "      <td>-0.376063</td>\n",
       "    </tr>\n",
       "    <tr>\n",
       "      <td>addr_lat</td>\n",
       "      <td>-0.008653</td>\n",
       "      <td>-0.114986</td>\n",
       "      <td>0.028441</td>\n",
       "      <td>-0.037717</td>\n",
       "      <td>-0.577385</td>\n",
       "      <td>1.000000</td>\n",
       "      <td>0.219029</td>\n",
       "      <td>-0.429858</td>\n",
       "      <td>-0.424711</td>\n",
       "      <td>0.195647</td>\n",
       "      <td>...</td>\n",
       "      <td>0.013967</td>\n",
       "      <td>0.057687</td>\n",
       "      <td>-0.000782</td>\n",
       "      <td>0.146865</td>\n",
       "      <td>0.104243</td>\n",
       "      <td>0.000178</td>\n",
       "      <td>0.066387</td>\n",
       "      <td>0.109536</td>\n",
       "      <td>0.002401</td>\n",
       "      <td>0.170598</td>\n",
       "    </tr>\n",
       "    <tr>\n",
       "      <td>addr_lon</td>\n",
       "      <td>0.105315</td>\n",
       "      <td>0.093089</td>\n",
       "      <td>-0.062992</td>\n",
       "      <td>-0.035054</td>\n",
       "      <td>0.462277</td>\n",
       "      <td>0.219029</td>\n",
       "      <td>1.000000</td>\n",
       "      <td>0.554511</td>\n",
       "      <td>0.563806</td>\n",
       "      <td>-0.281790</td>\n",
       "      <td>...</td>\n",
       "      <td>-0.165555</td>\n",
       "      <td>-0.055615</td>\n",
       "      <td>-0.168426</td>\n",
       "      <td>-0.270704</td>\n",
       "      <td>-0.100606</td>\n",
       "      <td>-0.038981</td>\n",
       "      <td>-0.140828</td>\n",
       "      <td>-0.262711</td>\n",
       "      <td>-0.041091</td>\n",
       "      <td>-0.239193</td>\n",
       "    </tr>\n",
       "    <tr>\n",
       "      <td>bin</td>\n",
       "      <td>0.117460</td>\n",
       "      <td>0.142331</td>\n",
       "      <td>-0.100642</td>\n",
       "      <td>-0.013148</td>\n",
       "      <td>0.950995</td>\n",
       "      <td>-0.429858</td>\n",
       "      <td>0.554511</td>\n",
       "      <td>1.000000</td>\n",
       "      <td>0.994155</td>\n",
       "      <td>-0.426813</td>\n",
       "      <td>...</td>\n",
       "      <td>-0.119801</td>\n",
       "      <td>-0.089042</td>\n",
       "      <td>-0.112548</td>\n",
       "      <td>-0.323696</td>\n",
       "      <td>-0.182156</td>\n",
       "      <td>-0.007928</td>\n",
       "      <td>-0.144938</td>\n",
       "      <td>-0.332165</td>\n",
       "      <td>-0.111486</td>\n",
       "      <td>-0.350957</td>\n",
       "    </tr>\n",
       "    <tr>\n",
       "      <td>bbl</td>\n",
       "      <td>0.090194</td>\n",
       "      <td>0.151078</td>\n",
       "      <td>-0.106358</td>\n",
       "      <td>-0.011608</td>\n",
       "      <td>0.952018</td>\n",
       "      <td>-0.424711</td>\n",
       "      <td>0.563806</td>\n",
       "      <td>0.994155</td>\n",
       "      <td>1.000000</td>\n",
       "      <td>-0.442496</td>\n",
       "      <td>...</td>\n",
       "      <td>-0.137143</td>\n",
       "      <td>-0.109457</td>\n",
       "      <td>-0.135245</td>\n",
       "      <td>-0.346828</td>\n",
       "      <td>-0.193851</td>\n",
       "      <td>-0.021434</td>\n",
       "      <td>-0.169315</td>\n",
       "      <td>-0.339157</td>\n",
       "      <td>-0.126716</td>\n",
       "      <td>-0.367065</td>\n",
       "    </tr>\n",
       "    <tr>\n",
       "      <td>floor_count</td>\n",
       "      <td>-0.116488</td>\n",
       "      <td>-0.228858</td>\n",
       "      <td>0.091489</td>\n",
       "      <td>0.020547</td>\n",
       "      <td>-0.447352</td>\n",
       "      <td>0.195647</td>\n",
       "      <td>-0.281790</td>\n",
       "      <td>-0.426813</td>\n",
       "      <td>-0.442496</td>\n",
       "      <td>1.000000</td>\n",
       "      <td>...</td>\n",
       "      <td>0.177199</td>\n",
       "      <td>0.380581</td>\n",
       "      <td>0.361168</td>\n",
       "      <td>0.655252</td>\n",
       "      <td>0.498138</td>\n",
       "      <td>0.084536</td>\n",
       "      <td>0.395460</td>\n",
       "      <td>0.253517</td>\n",
       "      <td>0.185316</td>\n",
       "      <td>0.769707</td>\n",
       "    </tr>\n",
       "    <tr>\n",
       "      <td>year_built</td>\n",
       "      <td>0.026593</td>\n",
       "      <td>-0.056614</td>\n",
       "      <td>-0.004480</td>\n",
       "      <td>-0.021524</td>\n",
       "      <td>-0.004916</td>\n",
       "      <td>-0.002415</td>\n",
       "      <td>-0.003623</td>\n",
       "      <td>0.010451</td>\n",
       "      <td>0.005694</td>\n",
       "      <td>0.151318</td>\n",
       "      <td>...</td>\n",
       "      <td>0.006949</td>\n",
       "      <td>0.084148</td>\n",
       "      <td>0.082307</td>\n",
       "      <td>0.085210</td>\n",
       "      <td>0.051083</td>\n",
       "      <td>0.006335</td>\n",
       "      <td>0.051941</td>\n",
       "      <td>-0.001037</td>\n",
       "      <td>0.049746</td>\n",
       "      <td>0.095295</td>\n",
       "    </tr>\n",
       "    <tr>\n",
       "      <td>min_to_subway</td>\n",
       "      <td>-0.006980</td>\n",
       "      <td>0.014171</td>\n",
       "      <td>0.017966</td>\n",
       "      <td>0.007718</td>\n",
       "      <td>0.023660</td>\n",
       "      <td>-0.026215</td>\n",
       "      <td>-0.012528</td>\n",
       "      <td>0.021091</td>\n",
       "      <td>0.015880</td>\n",
       "      <td>-0.011722</td>\n",
       "      <td>...</td>\n",
       "      <td>0.035343</td>\n",
       "      <td>0.031686</td>\n",
       "      <td>0.006643</td>\n",
       "      <td>-0.013324</td>\n",
       "      <td>-0.007238</td>\n",
       "      <td>0.009395</td>\n",
       "      <td>-0.007989</td>\n",
       "      <td>0.000010</td>\n",
       "      <td>-0.005945</td>\n",
       "      <td>-0.012333</td>\n",
       "    </tr>\n",
       "    <tr>\n",
       "      <td>has_doorman</td>\n",
       "      <td>-0.042830</td>\n",
       "      <td>-0.233059</td>\n",
       "      <td>0.108987</td>\n",
       "      <td>0.047766</td>\n",
       "      <td>-0.410034</td>\n",
       "      <td>0.191486</td>\n",
       "      <td>-0.259673</td>\n",
       "      <td>-0.380284</td>\n",
       "      <td>-0.403373</td>\n",
       "      <td>0.664202</td>\n",
       "      <td>...</td>\n",
       "      <td>0.248036</td>\n",
       "      <td>0.406196</td>\n",
       "      <td>0.421955</td>\n",
       "      <td>0.668138</td>\n",
       "      <td>0.340186</td>\n",
       "      <td>0.142268</td>\n",
       "      <td>0.345234</td>\n",
       "      <td>0.273486</td>\n",
       "      <td>0.252027</td>\n",
       "      <td>0.523314</td>\n",
       "    </tr>\n",
       "    <tr>\n",
       "      <td>has_elevator</td>\n",
       "      <td>0.061696</td>\n",
       "      <td>-0.278231</td>\n",
       "      <td>0.095867</td>\n",
       "      <td>0.029836</td>\n",
       "      <td>-0.362939</td>\n",
       "      <td>0.167685</td>\n",
       "      <td>-0.182011</td>\n",
       "      <td>-0.326176</td>\n",
       "      <td>-0.351657</td>\n",
       "      <td>0.560443</td>\n",
       "      <td>...</td>\n",
       "      <td>0.203386</td>\n",
       "      <td>0.392328</td>\n",
       "      <td>0.409244</td>\n",
       "      <td>0.526443</td>\n",
       "      <td>0.273776</td>\n",
       "      <td>0.099298</td>\n",
       "      <td>0.304430</td>\n",
       "      <td>0.238692</td>\n",
       "      <td>0.228047</td>\n",
       "      <td>0.453474</td>\n",
       "    </tr>\n",
       "    <tr>\n",
       "      <td>has_fireplace</td>\n",
       "      <td>-0.031611</td>\n",
       "      <td>0.049998</td>\n",
       "      <td>0.124532</td>\n",
       "      <td>0.155044</td>\n",
       "      <td>-0.072233</td>\n",
       "      <td>0.019505</td>\n",
       "      <td>-0.070451</td>\n",
       "      <td>-0.084767</td>\n",
       "      <td>-0.081656</td>\n",
       "      <td>-0.024808</td>\n",
       "      <td>...</td>\n",
       "      <td>0.088507</td>\n",
       "      <td>-0.030127</td>\n",
       "      <td>-0.013023</td>\n",
       "      <td>-0.025240</td>\n",
       "      <td>0.000800</td>\n",
       "      <td>0.049034</td>\n",
       "      <td>-0.010935</td>\n",
       "      <td>0.163483</td>\n",
       "      <td>-0.052129</td>\n",
       "      <td>-0.008051</td>\n",
       "    </tr>\n",
       "    <tr>\n",
       "      <td>has_dishwasher</td>\n",
       "      <td>0.023323</td>\n",
       "      <td>0.046002</td>\n",
       "      <td>0.161132</td>\n",
       "      <td>0.111761</td>\n",
       "      <td>-0.166108</td>\n",
       "      <td>0.078029</td>\n",
       "      <td>-0.138343</td>\n",
       "      <td>-0.173532</td>\n",
       "      <td>-0.185248</td>\n",
       "      <td>0.229530</td>\n",
       "      <td>...</td>\n",
       "      <td>0.334376</td>\n",
       "      <td>0.212473</td>\n",
       "      <td>0.286309</td>\n",
       "      <td>0.258104</td>\n",
       "      <td>0.112804</td>\n",
       "      <td>0.089919</td>\n",
       "      <td>0.121131</td>\n",
       "      <td>0.187002</td>\n",
       "      <td>0.276597</td>\n",
       "      <td>0.172159</td>\n",
       "    </tr>\n",
       "    <tr>\n",
       "      <td>is_furnished</td>\n",
       "      <td>-0.012521</td>\n",
       "      <td>-0.046021</td>\n",
       "      <td>0.050068</td>\n",
       "      <td>0.041965</td>\n",
       "      <td>-0.135857</td>\n",
       "      <td>0.054610</td>\n",
       "      <td>-0.085478</td>\n",
       "      <td>-0.131706</td>\n",
       "      <td>-0.132950</td>\n",
       "      <td>0.112042</td>\n",
       "      <td>...</td>\n",
       "      <td>0.086711</td>\n",
       "      <td>-0.002425</td>\n",
       "      <td>0.058287</td>\n",
       "      <td>0.076347</td>\n",
       "      <td>0.054185</td>\n",
       "      <td>0.034308</td>\n",
       "      <td>0.059076</td>\n",
       "      <td>0.133343</td>\n",
       "      <td>-0.028827</td>\n",
       "      <td>0.090309</td>\n",
       "    </tr>\n",
       "    <tr>\n",
       "      <td>has_gym</td>\n",
       "      <td>0.004550</td>\n",
       "      <td>-0.206094</td>\n",
       "      <td>0.113062</td>\n",
       "      <td>0.022605</td>\n",
       "      <td>-0.287916</td>\n",
       "      <td>0.115376</td>\n",
       "      <td>-0.224737</td>\n",
       "      <td>-0.263453</td>\n",
       "      <td>-0.292240</td>\n",
       "      <td>0.633673</td>\n",
       "      <td>...</td>\n",
       "      <td>0.292996</td>\n",
       "      <td>0.432486</td>\n",
       "      <td>0.535142</td>\n",
       "      <td>0.664979</td>\n",
       "      <td>0.394261</td>\n",
       "      <td>0.169583</td>\n",
       "      <td>0.460646</td>\n",
       "      <td>0.248213</td>\n",
       "      <td>0.285377</td>\n",
       "      <td>0.518792</td>\n",
       "    </tr>\n",
       "    <tr>\n",
       "      <td>allows_pets</td>\n",
       "      <td>0.040899</td>\n",
       "      <td>0.023819</td>\n",
       "      <td>0.087348</td>\n",
       "      <td>0.032325</td>\n",
       "      <td>-0.115378</td>\n",
       "      <td>0.015503</td>\n",
       "      <td>-0.153365</td>\n",
       "      <td>-0.144695</td>\n",
       "      <td>-0.160086</td>\n",
       "      <td>0.205669</td>\n",
       "      <td>...</td>\n",
       "      <td>0.177554</td>\n",
       "      <td>0.180943</td>\n",
       "      <td>0.270345</td>\n",
       "      <td>0.266168</td>\n",
       "      <td>0.093398</td>\n",
       "      <td>0.130835</td>\n",
       "      <td>0.162443</td>\n",
       "      <td>0.149247</td>\n",
       "      <td>0.271594</td>\n",
       "      <td>0.175281</td>\n",
       "    </tr>\n",
       "    <tr>\n",
       "      <td>has_washer_dryer</td>\n",
       "      <td>-0.030651</td>\n",
       "      <td>0.117120</td>\n",
       "      <td>0.298722</td>\n",
       "      <td>0.263907</td>\n",
       "      <td>-0.113234</td>\n",
       "      <td>0.013967</td>\n",
       "      <td>-0.165555</td>\n",
       "      <td>-0.119801</td>\n",
       "      <td>-0.137143</td>\n",
       "      <td>0.177199</td>\n",
       "      <td>...</td>\n",
       "      <td>1.000000</td>\n",
       "      <td>0.088676</td>\n",
       "      <td>0.239291</td>\n",
       "      <td>0.268367</td>\n",
       "      <td>0.106097</td>\n",
       "      <td>0.121955</td>\n",
       "      <td>0.191961</td>\n",
       "      <td>0.343123</td>\n",
       "      <td>0.120897</td>\n",
       "      <td>0.154859</td>\n",
       "    </tr>\n",
       "    <tr>\n",
       "      <td>has_garage</td>\n",
       "      <td>0.099141</td>\n",
       "      <td>-0.116837</td>\n",
       "      <td>0.051650</td>\n",
       "      <td>0.005959</td>\n",
       "      <td>-0.116047</td>\n",
       "      <td>0.057687</td>\n",
       "      <td>-0.055615</td>\n",
       "      <td>-0.089042</td>\n",
       "      <td>-0.109457</td>\n",
       "      <td>0.380581</td>\n",
       "      <td>...</td>\n",
       "      <td>0.088676</td>\n",
       "      <td>1.000000</td>\n",
       "      <td>0.295535</td>\n",
       "      <td>0.383031</td>\n",
       "      <td>0.323507</td>\n",
       "      <td>0.148442</td>\n",
       "      <td>0.244646</td>\n",
       "      <td>0.095437</td>\n",
       "      <td>0.180798</td>\n",
       "      <td>0.311203</td>\n",
       "    </tr>\n",
       "    <tr>\n",
       "      <td>has_roofdeck</td>\n",
       "      <td>-0.012773</td>\n",
       "      <td>-0.085111</td>\n",
       "      <td>0.102592</td>\n",
       "      <td>0.026781</td>\n",
       "      <td>-0.107670</td>\n",
       "      <td>-0.000782</td>\n",
       "      <td>-0.168426</td>\n",
       "      <td>-0.112548</td>\n",
       "      <td>-0.135245</td>\n",
       "      <td>0.361168</td>\n",
       "      <td>...</td>\n",
       "      <td>0.239291</td>\n",
       "      <td>0.295535</td>\n",
       "      <td>1.000000</td>\n",
       "      <td>0.413147</td>\n",
       "      <td>0.193187</td>\n",
       "      <td>0.166055</td>\n",
       "      <td>0.297292</td>\n",
       "      <td>0.174243</td>\n",
       "      <td>0.260231</td>\n",
       "      <td>0.291481</td>\n",
       "    </tr>\n",
       "    <tr>\n",
       "      <td>has_concierge</td>\n",
       "      <td>-0.060398</td>\n",
       "      <td>-0.202524</td>\n",
       "      <td>0.105276</td>\n",
       "      <td>0.040962</td>\n",
       "      <td>-0.354300</td>\n",
       "      <td>0.146865</td>\n",
       "      <td>-0.270704</td>\n",
       "      <td>-0.323696</td>\n",
       "      <td>-0.346828</td>\n",
       "      <td>0.655252</td>\n",
       "      <td>...</td>\n",
       "      <td>0.268367</td>\n",
       "      <td>0.383031</td>\n",
       "      <td>0.413147</td>\n",
       "      <td>1.000000</td>\n",
       "      <td>0.342509</td>\n",
       "      <td>0.179550</td>\n",
       "      <td>0.475757</td>\n",
       "      <td>0.260079</td>\n",
       "      <td>0.210697</td>\n",
       "      <td>0.535699</td>\n",
       "    </tr>\n",
       "    <tr>\n",
       "      <td>has_pool</td>\n",
       "      <td>0.038340</td>\n",
       "      <td>-0.091116</td>\n",
       "      <td>0.089527</td>\n",
       "      <td>0.051020</td>\n",
       "      <td>-0.193333</td>\n",
       "      <td>0.104243</td>\n",
       "      <td>-0.100606</td>\n",
       "      <td>-0.182156</td>\n",
       "      <td>-0.193851</td>\n",
       "      <td>0.498138</td>\n",
       "      <td>...</td>\n",
       "      <td>0.106097</td>\n",
       "      <td>0.323507</td>\n",
       "      <td>0.193187</td>\n",
       "      <td>0.342509</td>\n",
       "      <td>1.000000</td>\n",
       "      <td>0.088873</td>\n",
       "      <td>0.367574</td>\n",
       "      <td>0.170412</td>\n",
       "      <td>0.065794</td>\n",
       "      <td>0.398257</td>\n",
       "    </tr>\n",
       "    <tr>\n",
       "      <td>has_garden</td>\n",
       "      <td>0.064100</td>\n",
       "      <td>0.048234</td>\n",
       "      <td>0.104741</td>\n",
       "      <td>0.137652</td>\n",
       "      <td>-0.006699</td>\n",
       "      <td>0.000178</td>\n",
       "      <td>-0.038981</td>\n",
       "      <td>-0.007928</td>\n",
       "      <td>-0.021434</td>\n",
       "      <td>0.084536</td>\n",
       "      <td>...</td>\n",
       "      <td>0.121955</td>\n",
       "      <td>0.148442</td>\n",
       "      <td>0.166055</td>\n",
       "      <td>0.179550</td>\n",
       "      <td>0.088873</td>\n",
       "      <td>1.000000</td>\n",
       "      <td>0.247550</td>\n",
       "      <td>0.138419</td>\n",
       "      <td>0.053346</td>\n",
       "      <td>0.062580</td>\n",
       "    </tr>\n",
       "    <tr>\n",
       "      <td>has_childrens_playroom</td>\n",
       "      <td>0.011357</td>\n",
       "      <td>-0.083456</td>\n",
       "      <td>0.111949</td>\n",
       "      <td>0.068867</td>\n",
       "      <td>-0.162588</td>\n",
       "      <td>0.066387</td>\n",
       "      <td>-0.140828</td>\n",
       "      <td>-0.144938</td>\n",
       "      <td>-0.169315</td>\n",
       "      <td>0.395460</td>\n",
       "      <td>...</td>\n",
       "      <td>0.191961</td>\n",
       "      <td>0.244646</td>\n",
       "      <td>0.297292</td>\n",
       "      <td>0.475757</td>\n",
       "      <td>0.367574</td>\n",
       "      <td>0.247550</td>\n",
       "      <td>1.000000</td>\n",
       "      <td>0.193130</td>\n",
       "      <td>0.087075</td>\n",
       "      <td>0.322977</td>\n",
       "    </tr>\n",
       "    <tr>\n",
       "      <td>rent</td>\n",
       "      <td>-0.035145</td>\n",
       "      <td>0.353337</td>\n",
       "      <td>0.611987</td>\n",
       "      <td>0.649984</td>\n",
       "      <td>-0.325241</td>\n",
       "      <td>0.109536</td>\n",
       "      <td>-0.262711</td>\n",
       "      <td>-0.332165</td>\n",
       "      <td>-0.339157</td>\n",
       "      <td>0.253517</td>\n",
       "      <td>...</td>\n",
       "      <td>0.343123</td>\n",
       "      <td>0.095437</td>\n",
       "      <td>0.174243</td>\n",
       "      <td>0.260079</td>\n",
       "      <td>0.170412</td>\n",
       "      <td>0.138419</td>\n",
       "      <td>0.193130</td>\n",
       "      <td>1.000000</td>\n",
       "      <td>-0.001163</td>\n",
       "      <td>0.267151</td>\n",
       "    </tr>\n",
       "    <tr>\n",
       "      <td>no_fee</td>\n",
       "      <td>0.052429</td>\n",
       "      <td>-0.004335</td>\n",
       "      <td>-0.003053</td>\n",
       "      <td>-0.074162</td>\n",
       "      <td>-0.066025</td>\n",
       "      <td>0.002401</td>\n",
       "      <td>-0.041091</td>\n",
       "      <td>-0.111486</td>\n",
       "      <td>-0.126716</td>\n",
       "      <td>0.185316</td>\n",
       "      <td>...</td>\n",
       "      <td>0.120897</td>\n",
       "      <td>0.180798</td>\n",
       "      <td>0.260231</td>\n",
       "      <td>0.210697</td>\n",
       "      <td>0.065794</td>\n",
       "      <td>0.053346</td>\n",
       "      <td>0.087075</td>\n",
       "      <td>-0.001163</td>\n",
       "      <td>1.000000</td>\n",
       "      <td>0.157909</td>\n",
       "    </tr>\n",
       "    <tr>\n",
       "      <td>floornumber</td>\n",
       "      <td>-0.003418</td>\n",
       "      <td>-0.158895</td>\n",
       "      <td>0.116938</td>\n",
       "      <td>0.054328</td>\n",
       "      <td>-0.376063</td>\n",
       "      <td>0.170598</td>\n",
       "      <td>-0.239193</td>\n",
       "      <td>-0.350957</td>\n",
       "      <td>-0.367065</td>\n",
       "      <td>0.769707</td>\n",
       "      <td>...</td>\n",
       "      <td>0.154859</td>\n",
       "      <td>0.311203</td>\n",
       "      <td>0.291481</td>\n",
       "      <td>0.535699</td>\n",
       "      <td>0.398257</td>\n",
       "      <td>0.062580</td>\n",
       "      <td>0.322977</td>\n",
       "      <td>0.267151</td>\n",
       "      <td>0.157909</td>\n",
       "      <td>1.000000</td>\n",
       "    </tr>\n",
       "  </tbody>\n",
       "</table>\n",
       "<p>29 rows × 29 columns</p>\n",
       "</div>"
      ],
      "text/plain": [
       "                        building_id  bedrooms  bathrooms  size_sqft  addr_zip  \\\n",
       "building_id                1.000000 -0.001813  -0.016501  -0.006433  0.064199   \n",
       "bedrooms                  -0.001813  1.000000   0.464287   0.525537  0.187639   \n",
       "bathrooms                 -0.016501  0.464287   1.000000   0.565788 -0.088524   \n",
       "size_sqft                 -0.006433  0.525537   0.565788   1.000000  0.000576   \n",
       "addr_zip                   0.064199  0.187639  -0.088524   0.000576  1.000000   \n",
       "addr_lat                  -0.008653 -0.114986   0.028441  -0.037717 -0.577385   \n",
       "addr_lon                   0.105315  0.093089  -0.062992  -0.035054  0.462277   \n",
       "bin                        0.117460  0.142331  -0.100642  -0.013148  0.950995   \n",
       "bbl                        0.090194  0.151078  -0.106358  -0.011608  0.952018   \n",
       "floor_count               -0.116488 -0.228858   0.091489   0.020547 -0.447352   \n",
       "year_built                 0.026593 -0.056614  -0.004480  -0.021524 -0.004916   \n",
       "min_to_subway             -0.006980  0.014171   0.017966   0.007718  0.023660   \n",
       "has_doorman               -0.042830 -0.233059   0.108987   0.047766 -0.410034   \n",
       "has_elevator               0.061696 -0.278231   0.095867   0.029836 -0.362939   \n",
       "has_fireplace             -0.031611  0.049998   0.124532   0.155044 -0.072233   \n",
       "has_dishwasher             0.023323  0.046002   0.161132   0.111761 -0.166108   \n",
       "is_furnished              -0.012521 -0.046021   0.050068   0.041965 -0.135857   \n",
       "has_gym                    0.004550 -0.206094   0.113062   0.022605 -0.287916   \n",
       "allows_pets                0.040899  0.023819   0.087348   0.032325 -0.115378   \n",
       "has_washer_dryer          -0.030651  0.117120   0.298722   0.263907 -0.113234   \n",
       "has_garage                 0.099141 -0.116837   0.051650   0.005959 -0.116047   \n",
       "has_roofdeck              -0.012773 -0.085111   0.102592   0.026781 -0.107670   \n",
       "has_concierge             -0.060398 -0.202524   0.105276   0.040962 -0.354300   \n",
       "has_pool                   0.038340 -0.091116   0.089527   0.051020 -0.193333   \n",
       "has_garden                 0.064100  0.048234   0.104741   0.137652 -0.006699   \n",
       "has_childrens_playroom     0.011357 -0.083456   0.111949   0.068867 -0.162588   \n",
       "rent                      -0.035145  0.353337   0.611987   0.649984 -0.325241   \n",
       "no_fee                     0.052429 -0.004335  -0.003053  -0.074162 -0.066025   \n",
       "floornumber               -0.003418 -0.158895   0.116938   0.054328 -0.376063   \n",
       "\n",
       "                        addr_lat  addr_lon       bin       bbl  floor_count  \\\n",
       "building_id            -0.008653  0.105315  0.117460  0.090194    -0.116488   \n",
       "bedrooms               -0.114986  0.093089  0.142331  0.151078    -0.228858   \n",
       "bathrooms               0.028441 -0.062992 -0.100642 -0.106358     0.091489   \n",
       "size_sqft              -0.037717 -0.035054 -0.013148 -0.011608     0.020547   \n",
       "addr_zip               -0.577385  0.462277  0.950995  0.952018    -0.447352   \n",
       "addr_lat                1.000000  0.219029 -0.429858 -0.424711     0.195647   \n",
       "addr_lon                0.219029  1.000000  0.554511  0.563806    -0.281790   \n",
       "bin                    -0.429858  0.554511  1.000000  0.994155    -0.426813   \n",
       "bbl                    -0.424711  0.563806  0.994155  1.000000    -0.442496   \n",
       "floor_count             0.195647 -0.281790 -0.426813 -0.442496     1.000000   \n",
       "year_built             -0.002415 -0.003623  0.010451  0.005694     0.151318   \n",
       "min_to_subway          -0.026215 -0.012528  0.021091  0.015880    -0.011722   \n",
       "has_doorman             0.191486 -0.259673 -0.380284 -0.403373     0.664202   \n",
       "has_elevator            0.167685 -0.182011 -0.326176 -0.351657     0.560443   \n",
       "has_fireplace           0.019505 -0.070451 -0.084767 -0.081656    -0.024808   \n",
       "has_dishwasher          0.078029 -0.138343 -0.173532 -0.185248     0.229530   \n",
       "is_furnished            0.054610 -0.085478 -0.131706 -0.132950     0.112042   \n",
       "has_gym                 0.115376 -0.224737 -0.263453 -0.292240     0.633673   \n",
       "allows_pets             0.015503 -0.153365 -0.144695 -0.160086     0.205669   \n",
       "has_washer_dryer        0.013967 -0.165555 -0.119801 -0.137143     0.177199   \n",
       "has_garage              0.057687 -0.055615 -0.089042 -0.109457     0.380581   \n",
       "has_roofdeck           -0.000782 -0.168426 -0.112548 -0.135245     0.361168   \n",
       "has_concierge           0.146865 -0.270704 -0.323696 -0.346828     0.655252   \n",
       "has_pool                0.104243 -0.100606 -0.182156 -0.193851     0.498138   \n",
       "has_garden              0.000178 -0.038981 -0.007928 -0.021434     0.084536   \n",
       "has_childrens_playroom  0.066387 -0.140828 -0.144938 -0.169315     0.395460   \n",
       "rent                    0.109536 -0.262711 -0.332165 -0.339157     0.253517   \n",
       "no_fee                  0.002401 -0.041091 -0.111486 -0.126716     0.185316   \n",
       "floornumber             0.170598 -0.239193 -0.350957 -0.367065     0.769707   \n",
       "\n",
       "                        ...  has_washer_dryer  has_garage  has_roofdeck  \\\n",
       "building_id             ...         -0.030651    0.099141     -0.012773   \n",
       "bedrooms                ...          0.117120   -0.116837     -0.085111   \n",
       "bathrooms               ...          0.298722    0.051650      0.102592   \n",
       "size_sqft               ...          0.263907    0.005959      0.026781   \n",
       "addr_zip                ...         -0.113234   -0.116047     -0.107670   \n",
       "addr_lat                ...          0.013967    0.057687     -0.000782   \n",
       "addr_lon                ...         -0.165555   -0.055615     -0.168426   \n",
       "bin                     ...         -0.119801   -0.089042     -0.112548   \n",
       "bbl                     ...         -0.137143   -0.109457     -0.135245   \n",
       "floor_count             ...          0.177199    0.380581      0.361168   \n",
       "year_built              ...          0.006949    0.084148      0.082307   \n",
       "min_to_subway           ...          0.035343    0.031686      0.006643   \n",
       "has_doorman             ...          0.248036    0.406196      0.421955   \n",
       "has_elevator            ...          0.203386    0.392328      0.409244   \n",
       "has_fireplace           ...          0.088507   -0.030127     -0.013023   \n",
       "has_dishwasher          ...          0.334376    0.212473      0.286309   \n",
       "is_furnished            ...          0.086711   -0.002425      0.058287   \n",
       "has_gym                 ...          0.292996    0.432486      0.535142   \n",
       "allows_pets             ...          0.177554    0.180943      0.270345   \n",
       "has_washer_dryer        ...          1.000000    0.088676      0.239291   \n",
       "has_garage              ...          0.088676    1.000000      0.295535   \n",
       "has_roofdeck            ...          0.239291    0.295535      1.000000   \n",
       "has_concierge           ...          0.268367    0.383031      0.413147   \n",
       "has_pool                ...          0.106097    0.323507      0.193187   \n",
       "has_garden              ...          0.121955    0.148442      0.166055   \n",
       "has_childrens_playroom  ...          0.191961    0.244646      0.297292   \n",
       "rent                    ...          0.343123    0.095437      0.174243   \n",
       "no_fee                  ...          0.120897    0.180798      0.260231   \n",
       "floornumber             ...          0.154859    0.311203      0.291481   \n",
       "\n",
       "                        has_concierge  has_pool  has_garden  \\\n",
       "building_id                 -0.060398  0.038340    0.064100   \n",
       "bedrooms                    -0.202524 -0.091116    0.048234   \n",
       "bathrooms                    0.105276  0.089527    0.104741   \n",
       "size_sqft                    0.040962  0.051020    0.137652   \n",
       "addr_zip                    -0.354300 -0.193333   -0.006699   \n",
       "addr_lat                     0.146865  0.104243    0.000178   \n",
       "addr_lon                    -0.270704 -0.100606   -0.038981   \n",
       "bin                         -0.323696 -0.182156   -0.007928   \n",
       "bbl                         -0.346828 -0.193851   -0.021434   \n",
       "floor_count                  0.655252  0.498138    0.084536   \n",
       "year_built                   0.085210  0.051083    0.006335   \n",
       "min_to_subway               -0.013324 -0.007238    0.009395   \n",
       "has_doorman                  0.668138  0.340186    0.142268   \n",
       "has_elevator                 0.526443  0.273776    0.099298   \n",
       "has_fireplace               -0.025240  0.000800    0.049034   \n",
       "has_dishwasher               0.258104  0.112804    0.089919   \n",
       "is_furnished                 0.076347  0.054185    0.034308   \n",
       "has_gym                      0.664979  0.394261    0.169583   \n",
       "allows_pets                  0.266168  0.093398    0.130835   \n",
       "has_washer_dryer             0.268367  0.106097    0.121955   \n",
       "has_garage                   0.383031  0.323507    0.148442   \n",
       "has_roofdeck                 0.413147  0.193187    0.166055   \n",
       "has_concierge                1.000000  0.342509    0.179550   \n",
       "has_pool                     0.342509  1.000000    0.088873   \n",
       "has_garden                   0.179550  0.088873    1.000000   \n",
       "has_childrens_playroom       0.475757  0.367574    0.247550   \n",
       "rent                         0.260079  0.170412    0.138419   \n",
       "no_fee                       0.210697  0.065794    0.053346   \n",
       "floornumber                  0.535699  0.398257    0.062580   \n",
       "\n",
       "                        has_childrens_playroom      rent    no_fee  \\\n",
       "building_id                           0.011357 -0.035145  0.052429   \n",
       "bedrooms                             -0.083456  0.353337 -0.004335   \n",
       "bathrooms                             0.111949  0.611987 -0.003053   \n",
       "size_sqft                             0.068867  0.649984 -0.074162   \n",
       "addr_zip                             -0.162588 -0.325241 -0.066025   \n",
       "addr_lat                              0.066387  0.109536  0.002401   \n",
       "addr_lon                             -0.140828 -0.262711 -0.041091   \n",
       "bin                                  -0.144938 -0.332165 -0.111486   \n",
       "bbl                                  -0.169315 -0.339157 -0.126716   \n",
       "floor_count                           0.395460  0.253517  0.185316   \n",
       "year_built                            0.051941 -0.001037  0.049746   \n",
       "min_to_subway                        -0.007989  0.000010 -0.005945   \n",
       "has_doorman                           0.345234  0.273486  0.252027   \n",
       "has_elevator                          0.304430  0.238692  0.228047   \n",
       "has_fireplace                        -0.010935  0.163483 -0.052129   \n",
       "has_dishwasher                        0.121131  0.187002  0.276597   \n",
       "is_furnished                          0.059076  0.133343 -0.028827   \n",
       "has_gym                               0.460646  0.248213  0.285377   \n",
       "allows_pets                           0.162443  0.149247  0.271594   \n",
       "has_washer_dryer                      0.191961  0.343123  0.120897   \n",
       "has_garage                            0.244646  0.095437  0.180798   \n",
       "has_roofdeck                          0.297292  0.174243  0.260231   \n",
       "has_concierge                         0.475757  0.260079  0.210697   \n",
       "has_pool                              0.367574  0.170412  0.065794   \n",
       "has_garden                            0.247550  0.138419  0.053346   \n",
       "has_childrens_playroom                1.000000  0.193130  0.087075   \n",
       "rent                                  0.193130  1.000000 -0.001163   \n",
       "no_fee                                0.087075 -0.001163  1.000000   \n",
       "floornumber                           0.322977  0.267151  0.157909   \n",
       "\n",
       "                        floornumber  \n",
       "building_id               -0.003418  \n",
       "bedrooms                  -0.158895  \n",
       "bathrooms                  0.116938  \n",
       "size_sqft                  0.054328  \n",
       "addr_zip                  -0.376063  \n",
       "addr_lat                   0.170598  \n",
       "addr_lon                  -0.239193  \n",
       "bin                       -0.350957  \n",
       "bbl                       -0.367065  \n",
       "floor_count                0.769707  \n",
       "year_built                 0.095295  \n",
       "min_to_subway             -0.012333  \n",
       "has_doorman                0.523314  \n",
       "has_elevator               0.453474  \n",
       "has_fireplace             -0.008051  \n",
       "has_dishwasher             0.172159  \n",
       "is_furnished               0.090309  \n",
       "has_gym                    0.518792  \n",
       "allows_pets                0.175281  \n",
       "has_washer_dryer           0.154859  \n",
       "has_garage                 0.311203  \n",
       "has_roofdeck               0.291481  \n",
       "has_concierge              0.535699  \n",
       "has_pool                   0.398257  \n",
       "has_garden                 0.062580  \n",
       "has_childrens_playroom     0.322977  \n",
       "rent                       0.267151  \n",
       "no_fee                     0.157909  \n",
       "floornumber                1.000000  \n",
       "\n",
       "[29 rows x 29 columns]"
      ]
     },
     "execution_count": 12,
     "metadata": {},
     "output_type": "execute_result"
    }
   ],
   "source": [
    "train_df.corr()"
   ]
  },
  {
   "cell_type": "code",
   "execution_count": 13,
   "metadata": {
    "colab": {
     "base_uri": "https://localhost:8080/",
     "height": 327
    },
    "colab_type": "code",
    "executionInfo": {
     "elapsed": 1031,
     "status": "ok",
     "timestamp": 1574435384610,
     "user": {
      "displayName": "Jacinta Moore",
      "photoUrl": "",
      "userId": "14215851766389388616"
     },
     "user_tz": 300
    },
    "id": "OCUPl-BEr7L8",
    "outputId": "3fa5da5b-9409-4942-ad7b-74edbcb3cc5a"
   },
   "outputs": [
    {
     "data": {
      "image/png": "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\n",
      "text/plain": [
       "<Figure size 432x288 with 1 Axes>"
      ]
     },
     "metadata": {
      "needs_background": "light"
     },
     "output_type": "display_data"
    }
   ],
   "source": [
    "def heatmap(x, y, size):\n",
    "    fig, ax = plt.subplots()\n",
    "    \n",
    "    # Mapping from column names to integer coordinates\n",
    "    x_labels = [v for v in sorted(x.unique())]\n",
    "    y_labels = [v for v in sorted(y.unique())]\n",
    "    x_to_num = {p[1]:p[0] for p in enumerate(x_labels)} \n",
    "    y_to_num = {p[1]:p[0] for p in enumerate(y_labels)} \n",
    "    \n",
    "    size_scale = 500\n",
    "    ax.scatter(\n",
    "        x=x.map(x_to_num), # Use mapping for x\n",
    "        y=y.map(y_to_num), # Use mapping for y\n",
    "        s=size * size_scale, # Vector of square sizes, proportional to size parameter\n",
    "        marker='s' # Use square as scatterplot marker\n",
    "    )\n",
    "    \n",
    "    # Show column labels on the axes\n",
    "    ax.set_xticks([x_to_num[v] for v in x_labels])\n",
    "    ax.set_xticklabels(x_labels, rotation=45, horizontalalignment='right')\n",
    "    ax.set_yticks([y_to_num[v] for v in y_labels])\n",
    "    ax.set_yticklabels(y_labels)\n",
    "    \n",
    "\n",
    "columns = [\n",
    "    'bedrooms', 'year_built', 'bathrooms', 'min_to_subway', \n",
    "    'size_sqft', 'no_fee', 'has_doorman', 'rent', 'has_washer_dryer', 'has_concierge', 'floornumber'\n",
    "]\n",
    "corr = train_df[columns].corr()\n",
    "corr = pd.melt(corr.reset_index(), id_vars='index') # Unpivot the dataframe, so we can get pair of arrays for x and y\n",
    "corr.columns = ['x', 'y', 'value']\n",
    "heatmap(\n",
    "    x=corr['x'],\n",
    "    y=corr['y'],\n",
    "    size=corr['value'].abs()\n",
    ")"
   ]
  },
  {
   "cell_type": "code",
   "execution_count": 14,
   "metadata": {
    "colab": {
     "base_uri": "https://localhost:8080/",
     "height": 265
    },
    "colab_type": "code",
    "executionInfo": {
     "elapsed": 510,
     "status": "ok",
     "timestamp": 1574366489146,
     "user": {
      "displayName": "Jacinta Moore",
      "photoUrl": "",
      "userId": "14215851766389388616"
     },
     "user_tz": 300
    },
    "id": "Pe5SOF-Nr7kZ",
    "outputId": "6de9e0c4-9960-43ed-b971-76a02adfc018"
   },
   "outputs": [
    {
     "data": {
      "image/png": "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\n",
      "text/plain": [
       "<Figure size 432x288 with 1 Axes>"
      ]
     },
     "metadata": {
      "needs_background": "light"
     },
     "output_type": "display_data"
    }
   ],
   "source": [
    "_ = plt.plot(train_df['rent'], train_df['size_sqft'], marker='.', linestyle='none')"
   ]
  },
  {
   "cell_type": "code",
   "execution_count": 15,
   "metadata": {
    "colab": {
     "base_uri": "https://localhost:8080/",
     "height": 265
    },
    "colab_type": "code",
    "executionInfo": {
     "elapsed": 449,
     "status": "ok",
     "timestamp": 1574366490675,
     "user": {
      "displayName": "Jacinta Moore",
      "photoUrl": "",
      "userId": "14215851766389388616"
     },
     "user_tz": 300
    },
    "id": "gqlfNGGctxXa",
    "outputId": "377d8464-79a3-4566-bb53-c68732f5f918"
   },
   "outputs": [
    {
     "data": {
      "image/png": "iVBORw0KGgoAAAANSUhEUgAAAXsAAAD4CAYAAAANbUbJAAAABHNCSVQICAgIfAhkiAAAAAlwSFlzAAALEgAACxIB0t1+/AAAADh0RVh0U29mdHdhcmUAbWF0cGxvdGxpYiB2ZXJzaW9uMy4xLjEsIGh0dHA6Ly9tYXRwbG90bGliLm9yZy8QZhcZAAAcq0lEQVR4nO3dfZBc1Xnn8e9v3gRIEKTRWIgXI8bBBEQMhjEeCi+RHWNLChUcJ2tDXC7WNiXj4KpQ2a0NjqtsL6lKkWSTOA5UZAWztlMgSNZguxyErWLN2l5bMjMYjGQhS4wlIettJA1IAiTNy7N/9J2hp9Xd028z3dP396nq6nvPvX3vObevnmmdPk8fRQRmZtbcWupdATMzm34O9mZmKeBgb2aWAg72ZmYp4GBvZpYCbfWuQD4LFy6MJUuW1LsaZmazRn9//8GI6Cq0vSGD/ZIlS+jr66t3NczMZg1JO4ttdzeOmVkKONibmaWAg72ZWQo42JuZpYCDvZlZCkwZ7CVdIOn7krZI2izpT5PyBZLWS9qWPM8v8Ppbk322Sbq11g0wM7OplfLJfgT4rxFxKdAL3CHpMuAu4MmIuBh4MlmfRNIC4PPAO4FrgM8X+qPQ6Pp3DnHf97fTv3Oo3lUxMyvblOPsI2IvsDdZPippC3AecBOwLNnta8BTwJ/nvPz9wPqIOAwgaT2wHFhbg7rPmP6dQ3zk/g2cHBmjo62FB2/r5eoLZ+XfLDNLqbL67CUtAd4ObAQWJX8Ixv8gvCnPS84DXspa352U5Tv2Kkl9kvoGBwfLqda02zBwiJMjY4wFDI+MsWHgUL2rZGZWlpKDvaR5wDeAOyPiSKkvy1OWd7aUiFgTET0R0dPVVTDjty56uzvpaGuhVdDe1kJvd2e9q2RmVpaSfi5BUjuZQP9gRDyaFO+XtDgi9kpaDBzI89LdvNHVA3A+me6eWeXqC+fz4G29bBg4RG93p7twzGzWmTLYSxLwFWBLRPx91qZvA7cC9yTP38rz8u8Cf5X1pez7gM9UVeM6ufrC+Q7yZjZrldKNcx3wUeA9kp5NHivJBPkbJG0DbkjWkdQj6X6A5IvZvwSeTh53j39Za2ZmM0eNOOF4T09P+FcvzcxKJ6k/InoKbXcGrZlZCjjYm5mlgIO9mVkKONibmaWAg72ZWQo42JuZpYCDvZlZCjjYm5mlgIO9mVkKONibmaWAg72ZWQo42JuZpYCDvZlZCjjYm5mlgIO9mVkKONibmaVAKdMSPgDcCByIiMuTskeAS5JdzgZejogr87x2B3AUGAVGiv2wvpmZTZ9SJhz/KnAv8PXxgoj48PiypL8DXiny+ndHxMFKK2hmZtWbMthHxA8kLcm3LZmM/EPAe2pbLTMzq6Vq++z/E7A/IrYV2B7A9yT1S1pV7ECSVknqk9Q3ODhYZbXMzCxbtcH+FmBtke3XRcRVwArgDknXF9oxItZERE9E9HR1dVVZLTMzy1ZxsJfUBnwQeKTQPhGxJ3k+ADwGXFPp+czMrHLVfLJ/L/BCROzOt1HSXElnji8D7wM2VXE+MzOr0JTBXtJa4CfAJZJ2S/pEsulmcrpwJJ0r6fFkdRHwI0nPAT8F/iMinqhd1c3MrFSljMa5pUD5f8lTtgdYmSwPAFdUWT8zM6sBZ9CamaWAg72ZWQo42JuZpYCDvZlZCjjYm5mlgIO9mVkKONibmaWAg72ZWQo42JuZpYCDvZlZCjjYm5mlgIO9mVkKONibmaWAg72ZWQo42JuZpYCDvZlZCpQyU9UDkg5I2pRV9gVJv5b0bPJYWeC1yyVtlbRd0l21rLiZmZWulE/2XwWW5yn/h4i4Mnk8nrtRUitwH7ACuAy4RdJl1VTWzMwqM2Wwj4gfAIcrOPY1wPaIGIiIk8DDwE0VHMfMzKpUTZ/9pyX9POnmmZ9n+3nAS1nru5OyvCStktQnqW9wcLCKapmZWa5Kg/0/A28BrgT2An+XZx/lKYtCB4yINRHRExE9XV1dFVbLzMzyqSjYR8T+iBiNiDHgX8h02eTaDVyQtX4+sKeS85mZWXUqCvaSFmet/gGwKc9uTwMXS7pIUgdwM/DtSs5nZmbVaZtqB0lrgWXAQkm7gc8DyyRdSaZbZgfwyWTfc4H7I2JlRIxI+jTwXaAVeCAiNk9LK8zMrChFFOxGr5uenp7o6+urdzXMzGYNSf0R0VNouzNozcxSwMHezCwFHOzNzFLAwd7MLAUc7M3MUsDB3swsBRzszcxSwMHezCwFHOzNzFLAwd7MLAUc7M3MUsDB3swsBRzszcxSwMHezCwFHOzNzFJgymCfTCh+QNKmrLK/lfRCMuH4Y5LOLvDaHZKel/SsJP9AvZlZnZTyyf6rwPKcsvXA5RHxNuCXwGeKvP7dEXFlsR/VNzOz6TVlsI+IHwCHc8q+FxEjyeoGMpOJm5lZg6pFn/3HgXUFtgXwPUn9klYVO4ikVZL6JPUNDg7WoFpmZjauqmAv6bPACPBggV2ui4irgBXAHZKuL3SsiFgTET0R0dPV1VVNtczMLEfFwV7SrcCNwEeiwKzlEbEneT4APAZcU+n5zMyscm2VvEjScuDPgd+JiNcK7DMXaImIo8ny+4C7K65pjfTvHGLDwCF6uzsBJpavvnB+nWtmZjZ9pgz2ktYCy4CFknYDnycz+mYOsF4SwIaIuF3SucD9EbESWAQ8lmxvAx6KiCempRUl6t85xEfu38DJkTHaWlsggpGxoKOthQdv63XAN7OmNWWwj4hb8hR/pcC+e4CVyfIAcEVVtauxDQOHODkyxljA8MgYkPkGeXhkjA0DhxzszaxpVdSNM1v1dnfS0dbC8MgYrckn+9GxoL2tZaJbx8ysGaUq2F994XwevK3XffZmljqpCvaQCfjZgd1B3szSwD+EZmaWAg72ZmYp4GBvZpYCDvZmZingYG9mlgIO9mZmKeBgb2aWAg72ZmYp4GBvZpYCDvZmZingYG9mlgIO9mZmKeBgb2aWAiUFe0kPSDogaVNW2QJJ6yVtS57z/nykpFuTfbYl89aamdkMK/WT/VeB5TlldwFPRsTFwJPJ+iSSFpCZxvCdZCYb/3yhPwpmZjZ9Sgr2EfED4HBO8U3A15LlrwEfyPPS9wPrI+JwRAwB6zn1j4aZmU2zavrsF0XEXoDk+U159jkPeClrfXdSdgpJqyT1SeobHBysolpmZpZrur+gVZ6yyLdjRKyJiJ6I6Onq6prmapmZpUs1wX6/pMUAyfOBPPvsBi7IWj8f2FPFOc3MrALVBPtvA+Oja24FvpVnn+8C75M0P/li9n1JmZmZzaBSh16uBX4CXCJpt6RPAPcAN0jaBtyQrCOpR9L9ABFxGPhL4OnkcXdSZmZmM0gRebvQ66qnpyf6+vrqXQ0zs1lDUn9E9BTa7gxaM7MUcLA3M0sBB3szsxRwsDczSwEHezOzFHCwNzNLAQd7M7MUcLA3M0sBB3szsxRwsDczSwEHezOzFHCwNzNLAQd7M7MUcLA3M0sBB3szsxRwsDczS4GKg72kSyQ9m/U4IunOnH2WSXola5/PVV9lMzMrV1ulL4yIrcCVAJJagV8Dj+XZ9YcRcWOl5zEzs+rVqhvnd4EXI2JnjY5nZmY1VKtgfzOwtsC2ayU9J2mdpKWFDiBplaQ+SX2Dg4M1qpaZmUENgr2kDuD3gX/Ps/kZ4MKIuAL4J+CbhY4TEWsioicierq6uqqtlpmZZanFJ/sVwDMRsT93Q0QciYhjyfLjQLukhTU4p5mZlaEWwf4WCnThSDpHkpLla5LzHarBOc2aTv/OIe77/nb6dw7VuypWomrfs5l8zysejQMg6QzgBuCTWWW3A0TEauCPgE9JGgFeB26OiKjmnGbNqH/nEB+5fwMnR8boaGvhwdt6ufrC+fWulhVR7Xs20+95VZ/sI+K1iOiMiFeyylYngZ6IuDcilkbEFRHRGxE/rrbCZs1ow8AhTo6MMRYwPDLGhgH/B7jRVfuezfR77gxaswbQ291JR1sLrYL2thZ6uzvrXSWbQrXv2Uy/52rEXpWenp7o6+urdzXMZlT/ziE2DByit7vTXTizRLXvWS3fc0n9EdFTcLuDvZnZ7DdVsHc3jplZCjjYm5mlgIO9mVkKONibmaWAg/00KCUrztmSGb4OZjOjqgxaO1UpWXHOlszwdTCbOf5kX2OlZMU5WzLD18Fs5jjY11gpWXHOlszwdTCbOU6qmgalZMU5WzLD18GsNpxBa2aWAs6gNTMzB3szszSoxRy0OyQ9L+lZSaf0vSjjS5K2S/q5pKuqPaeZmZWnVuPs3x0RBwtsWwFcnDzeCfxz8mxVatYvN8ttV/b+QN7lRr0+zfoeVuOhjbtYt2kvKy5fzB+/8831rs60KnTvTse9MBNJVTcBX0+mI9wg6WxJiyNi7wycu2k1a0JSue3K3r+ttQUiGBkL2loEEiOjjXt9mvU9rMZDG3fxF489D8APt2U+PzZrwC90707XvVCLPvsAviepX9KqPNvPA17KWt+dlE0iaZWkPkl9g4ODNahWc2vWhKRy25W7//BoZJZHg+EGvz7N+h5WY92mvUXXm0nBe3ea7oVaBPvrIuIqMt01d0i6Pme78rzmlPGeEbEmInoioqerq6sG1WpuzZqQVG67cvdvb1VmuVW0N/j1adb3sBorLl9cdL2ZFLx3p+leqOk4e0lfAI5FxP/MKvsy8FRErE3WtwLLinXjeJx9aZq1v9d99unmPvvK7oVpTaqSNBdoiYijyfJ64O6IeCJrn98DPg2sJPPF7Jci4ppix3WwNzMrz1TBvtovaBcBj0kaP9ZDEfGEpNsBImI18DiZQL8deA34WJXnNDOzMlUV7CNiALgiT/nqrOUA7qjmPGZmVh1n0JqZpYCDvZlZCnimKt74Rnz+GR08tfUAA4PH6O6axyd/5y0T34o/tHEXD/y/X/Hyayc5+/R2Pv6u7opGCvTvHOLRZ3YTwB9edX7D/ARy7giIYqMEsq/X0GsnT6lj9mu37js6cdxdh17lic37WL70HG5Yek5J7St3ZEYtRzfc+fDPeOqXgyx7axdfvPntZb++mlFF2detliNSSq1TPUcJ1XM0zky0u9A5pvvcqf+J4+wstrGcS9HeKh5edS1b9x2dyOrL9ld/8Ntl3Yz9O4e45V8y5wLoaBVrV11b92kLs7MWAW6/vpuv/mRHJrMvJxP1czcu5e7vbJ64XgLmtL9Rx+y6t7aI4dH891erMskWxdqXW6+prnctMxLvfPhnfPPZPRPrH7jy3LICfjWZwLnXrdz7rNo61TOzt9z3vJZmot2FzlGLc/snjqeQncWWa3g02DBwqGAWX7nZfRsGDjGcBPrs4xer00xkVua244nN+944f04m6rpNeyddr2ByHSfVvUCgBxgNpmxfudmUtcxIfOqXg0XXp1JVJnDOdatVFmmpdapnZm89M2hnot2FzjET5059sB/PYmvJk+fb3ip6uzsLZvGVm93X291Je9sbl3z8+IXqNFOZlbntWL70nDfOn5OJuuLyxZOuVwuT6zip7q35kqczWsWU7Ss3m7KWGYnL3tpVdH0qVWUC51y3WmWRllqnemb21jODdibaXegcM3Hu1HfjgPvswX32+bjP3n32M3mOas/taQnNzFLAffZmZuZgb2aWBg72ZmYp4GBvZpYCqcqg7d85xD3rtvDS4dd466IzefHgqwweOc7JZFzzxV1zeUd3J/9ny34OHjtJR5tokXjvpYvYcfBVnv/1K3TNm0PvWzp5cst+xgIuO/cs7lpxKVv3HeWBHw3w+vAoZ53WznCShHRyZIxjJ0Y4eOwELRJndLQSguGRYG5HK0deH+bEaNDWkkkwev3kGAvndXDu2adPJFgcOnaCfUdOcM5Zc+icN4eXDr/GkeMjnNHRwqsnRhkN6Jzbzuntrex++TitgrZWcXIkOL29hZGx4ORosOCMdt684Axe2H+U31p0JgMHj3Hk+Chd8zq4aOFcdh1+jd7uTi5edCZHXx9m894jrLh8Mf/rRwO8ePBV3rJwLh97VzfrNu1l6eKzeGbXELsOv8YHrjxv0ugaeGMUzPrN+yZG4Pxi7xF+uuMwv7XoTN501mnsP3Kca7s7OXJihO37j3JiZIwPvyMz+uKRp3cxp62F/UdOcOjVE7z30kWTRsRkjwjatOcVBHzwqvP515/smBhB89Frl+QdRVTqaIdCo0Kyyy8558yqzpF7f5YyGqeeI2Vqde5G/R3/Rq1XLaRmNE7/ziE+tPrHFMnzqZjIM/VWyrS2iIiYlLkqidF82WoVGs9iHc82PDE8Num6574P47kAuZm/pWQoFsrkzC1vb820sZJzZMvOoGwRZOXeTcoirWd2a63O3ahz7zZqvUrl0TiJDQOHpiXQgwM9wOhYnJK5WstAD29ksY5nG+YePXd9LCtLNzvzt5QMxUKZnLnl2Vm65Z4jW3YGZXagzz1nPbNba3XuRp17t1HrVSupCfa93Z0USeisyjQddlZpbdEpmaut+dKSqzCexTqR9ZyzPfdsLVlZuuOZv6VmKBbK5Mwtz87SLfcc2bIzKNtyGpZ9znpmt9bq3I06926j1qtWKu7GkXQB8HXgHGAMWBMR/5izzzLgW8CvkqJHI+LuqY49XUlV7rN3n7377KvjPvvGNW0ZtJIWA4sj4hlJZwL9wAci4hdZ+ywD/ltE3FjOsZ1Ba2ZWnmnrs4+IvRHxTLJ8FNgCnFfp8czMbPrUpM9e0hLg7cDGPJuvlfScpHWSlhY5xipJfZL6BgfL+zlZMzMrrupgL2ke8A3gzog4krP5GeDCiLgC+Cfgm4WOExFrIqInInq6usr7OVkzMyuuqmAvqZ1MoH8wIh7N3R4RRyLiWLL8ONAuaWE15zQzs/JVnEErScBXgC0R8fcF9jkH2B8RIekaMn9cpnXwav/OIb7xzG6e3TXEC/uO5p2BajZbMLedV0+McGIkaG8Rw1kNbCEzLOqM9haOD48xPly7a14HB4+dZN6cVs6ff8bEb9D/bNfL7H3ldS5bfBYvDb3G4VeH+c2uudzzR1fw5f/7IvuPHOeihXP5zs/3MDKWOc7qj/bkHWkDTCzvO3J8YkTMNRd1lv179tkjIrLPcdfKS6e8PqX+FvpUv8k/nWbziA+bvaoZjfMu4IfA8zARV/4CeDNARKyW9GngU8AI8DrwZxHx46mOXelonP6dQ9yy5icTQylteiTT0jI6NvW+hSSJtqdkKmZnMQomJcLdfn130YBf6vylufMO586jO51me5amNa7pHI3zo4hQRLwtIq5MHo9HxOqIWJ3sc29ELI2IKyKit5RAX40NA4eKzntqtZHJjq3uGKNj+eegzc5izH0rn9i8r+gxS52/NHfe4dx5dKdTs2dpWuNqqgza3u7OovOeWm1ksmOrPEZL/jlos7MYc9/K8e6iQkqdvzR33uHceXSnU7NnaVrjarofQnOfvfvs3WdvaeQ5aM3MUsC/emlmZg72ZmZp4GBvZpYCDvZmZinQVHPQLrnrP+pdhaIEnHf2aRw9McKx46NcsOB0li89h817j7B08Vms27SPva+8Tm93J8svXzzxu/FHT4wQwB9edX7BkSvzz+jgqa0H2H/kOB9+x5tP+Z31cfc8vqWs0S3Z5yg2eqRRRpg0Sj3MGk3TjMZp9EBfCx2tYu2qa0/JNs2dixUysx2N5WSo3vP4Flb/YGBin6kyUrPPUSzjs1GyQhulHmb14NE4TWR4NPJmm+b7cz2SJ0M1NwN1qozU7HMUy/hslKzQRqmHWSNysJ9F2luVN9s035vYlidDNTcDdaqM1OxzFMv4bJSs0Eaph1kjappuHGj8rhz32U+/RqmH2UxzBq2ZWQq4z97MzBzszczSwMHezCwFqp2DdrmkrZK2S7orz/Y5kh5Jtm+UtKSa85mZWWUqDvaSWoH7gBXAZcAtki7L2e0TwFBE/CbwD8BfV3q+Sjy0cRcf/cpGHtq4a6Ksf+cQ931/O/07h07Zv9g2M7PZrJqfS7gG2B4RAwCSHgZuAn6Rtc9NwBeS5f8N3CtJMQNDgLLnI/3htoMAXHLOmQUzLJ19aWbNrJpunPOAl7LWdydlefeJiBHgFSBvpoukVZL6JPUNDg5WUa2MfPORFsuwdPalmTWzaoJ9vslecz+xl7JPpjBiTUT0RERPV1dXFdXKyDcfabEMS2dfmlkzq6YbZzdwQdb6+cCeAvvsltQG/AZwuIpzlmx8/tHc+UgfvK03b4bl1RfOL7jNzGy2qziDNgnevwR+F/g18DTwxxGxOWufO4DfjojbJd0MfDAiPjTVsZ1Ba2ZWnqkyaCv+ZB8RI5I+DXwXaAUeiIjNku4G+iLi28BXgH+VtJ3MJ/qbKz2fmZlVrqrJSyLiceDxnLLPZS0fB/5zNecwM7PqOYPWzCwFHOzNzFLAwd7MLAUc7M3MUqAhJy+RNAjsLLB5IXBwBqvTKNLabkhv29Pabkhv26tp94URUTAjtSGDfTGS+oqNJW1WaW03pLftaW03pLft09lud+OYmaWAg72ZWQrMxmC/pt4VqJO0thvS2/a0thvS2/Zpa/es67M3M7PyzcZP9mZmViYHezOzFJg1wX6qyc1nC0kPSDogaVNW2QJJ6yVtS57nJ+WS9KWkzT+XdFXWa25N9t8m6das8qslPZ+85kuS8k0gM+MkXSDp+5K2SNos6U+T8qZuu6TTJP1U0nNJu/9HUn6RpI1JGx6R1JGUz0nWtyfbl2Qd6zNJ+VZJ788qb+h/G5JaJf1M0neS9aZvu6Qdyb34rKS+pKy+93pENPyDzE8ovwh0Ax3Ac8Bl9a5XhW25HrgK2JRV9jfAXcnyXcBfJ8srgXVkZvzqBTYm5QuAgeR5frI8P9n2U+Da5DXrgBX1bnNSr8XAVcnymWTmQris2due1GVestwObEza82/AzUn5auBTyfKfAKuT5ZuBR5Lly5L7fg5wUfLvoXU2/NsA/gx4CPhOst70bQd2AAtzyup6r9f9opR44a4Fvpu1/hngM/WuVxXtWcLkYL8VWJwsLwa2JstfBm7J3Q+4BfhyVvmXk7LFwAtZ5ZP2a6QH8C3ghjS1HTgDeAZ4J5ksybakfOL+JjM/xLXJcluyn3Lv+fH9Gv3fBpkZ7J4E3gN8J2lL07ed/MG+rvf6bOnGKWVy89lsUUTsBUie35SUF2p3sfLdecobSvLf87eT+ZTb9G1PujGeBQ4A68l8Gn05IkaSXbLrOtG+ZPsrQCflX49G8UXgvwNjyXon6Wh7AN+T1C9pVVJW13u9qslLZlDJE5c3mULtLre8YUiaB3wDuDMijhTpamyatkfEKHClpLOBx4BL8+2WPJfbvnwf2Bqi3ZJuBA5ERL+kZePFeXZturYD10XEHklvAtZLeqHIvjNyr8+WT/alTG4+m+2XtBggeT6QlBdqd7Hy8/OUNwRJ7WQC/YMR8WhSnIq2A0TEy8BTZPplz1ZmHmeYXNeJ9iXbf4PMlJ7lXo9GcB3w+5J2AA+T6cr5Iiloe0TsSZ4PkPkDfw31vtfr3bdVYv9XG5kvJy7ijS9ilta7XlW0ZwmT++z/lslf3PxNsvx7TP7i5qdJ+QLgV2S+tJmfLC9Itj2d7Dv+xc3Kerc3qZeArwNfzClv6rYDXcDZyfLpwA+BG4F/Z/KXlH+SLN/B5C8p/y1ZXsrkLykHyHxBOSv+bQDLeOML2qZuOzAXODNr+cfA8nrf63W/Ccq4gCvJjOB4EfhsvetTRTvWAnuBYTJ/oT9Bpl/ySWBb8jz+hgq4L2nz80BP1nE+DmxPHh/LKu8BNiWvuZckS7reD+BdZP6r+XPg2eSxstnbDrwN+FnS7k3A55LybjIjKrYnwW9OUn5asr492d6ddazPJm3bStboi9nwb4PJwb6p256077nksXm8XvW+1/1zCWZmKTBb+uzNzKwKDvZmZingYG9mlgIO9mZmKeBgb2aWAg72ZmYp4GBvZpYC/x9t3MspyYyyKAAAAABJRU5ErkJggg==\n",
      "text/plain": [
       "<Figure size 432x288 with 1 Axes>"
      ]
     },
     "metadata": {
      "needs_background": "light"
     },
     "output_type": "display_data"
    }
   ],
   "source": [
    "_ = plt.plot(train_df['rent'], train_df['bathrooms'], marker='.', linestyle='none')"
   ]
  },
  {
   "cell_type": "code",
   "execution_count": 16,
   "metadata": {
    "colab": {
     "base_uri": "https://localhost:8080/",
     "height": 265
    },
    "colab_type": "code",
    "executionInfo": {
     "elapsed": 689,
     "status": "ok",
     "timestamp": 1574366494729,
     "user": {
      "displayName": "Jacinta Moore",
      "photoUrl": "",
      "userId": "14215851766389388616"
     },
     "user_tz": 300
    },
    "id": "8vhR-bRdzG0X",
    "outputId": "bbd62b7b-1d5d-4b41-9dea-fbe8c7453c80"
   },
   "outputs": [
    {
     "data": {
      "image/png": "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\n",
      "text/plain": [
       "<Figure size 432x288 with 1 Axes>"
      ]
     },
     "metadata": {
      "needs_background": "light"
     },
     "output_type": "display_data"
    }
   ],
   "source": [
    "_ = plt.plot(train_df['rent'], train_df['bedrooms'], marker='.', linestyle='none')"
   ]
  },
  {
   "cell_type": "code",
   "execution_count": 17,
   "metadata": {
    "colab": {},
    "colab_type": "code",
    "id": "sB4zNUHzuY-G"
   },
   "outputs": [],
   "source": [
    "# extract usable features\n",
    "feature_cols = [\n",
    "    'bedrooms', 'year_built', 'bathrooms', 'min_to_subway', \n",
    "    'size_sqft', 'no_fee', 'has_doorman',  'has_washer_dryer', 'floornumber'\n",
    "]\n",
    "train_features = train_df[feature_cols] "
   ]
  },
  {
   "cell_type": "markdown",
   "metadata": {
    "colab_type": "text",
    "id": "LA2ArZzOlOek"
   },
   "source": [
    "Adding a new feature using existing data: Distance to Central Park. Idea: the closer to central park the more the rent. "
   ]
  },
  {
   "cell_type": "code",
   "execution_count": 18,
   "metadata": {
    "colab": {},
    "colab_type": "code",
    "id": "YzmUaQuYlNwy"
   },
   "outputs": [],
   "source": [
    "def deg2rad(deg):\n",
    "  return deg * (np.pi/180)\n",
    "\n",
    "def getDistanceFromLatLonInKm(lat1,lon1,lat2=40.78,lon2=-73.965):\n",
    "  R = 6371  # Radius of the earth in km\n",
    "  dLat = deg2rad(lat2-lat1) \n",
    "  dLon = deg2rad(lon2-lon1) \n",
    "  a = np.sin(dLat/2) * np.sin(dLat/2) + np.cos(deg2rad(lat1)) * np.cos(deg2rad(lat2)) * np.sin(dLon/2) * np.sin(dLon/2)\n",
    "  c = 2 * np.arctan2(np.sqrt(a), np.sqrt(1-a)) \n",
    "  d = R * c  # Distance in km\n",
    "  return d"
   ]
  },
  {
   "cell_type": "code",
   "execution_count": 19,
   "metadata": {
    "colab": {},
    "colab_type": "code",
    "id": "qF0InZIGl_Qr"
   },
   "outputs": [],
   "source": [
    "train_df2 = train_df\n",
    "test_df2 = test_df"
   ]
  },
  {
   "cell_type": "code",
   "execution_count": 20,
   "metadata": {
    "colab": {},
    "colab_type": "code",
    "id": "2WFLT4galaR8"
   },
   "outputs": [],
   "source": [
    "train_df2['dist_centralPark'] = getDistanceFromLatLonInKm(train_df['addr_lat'], train_df['addr_lon'])\n",
    "test_df2['dist_centralPark'] = getDistanceFromLatLonInKm(test_df['addr_lat'], test_df['addr_lon'])"
   ]
  },
  {
   "cell_type": "code",
   "execution_count": 21,
   "metadata": {
    "colab": {},
    "colab_type": "code",
    "id": "hSpZAEMyrsJt"
   },
   "outputs": [],
   "source": [
    "submit1_df['dist_centralPark'] = getDistanceFromLatLonInKm(submit1_df['addr_lat'], submit1_df['addr_lon'])"
   ]
  },
  {
   "cell_type": "code",
   "execution_count": 22,
   "metadata": {
    "colab": {
     "base_uri": "https://localhost:8080/",
     "height": 386
    },
    "colab_type": "code",
    "executionInfo": {
     "elapsed": 528,
     "status": "ok",
     "timestamp": 1574435418299,
     "user": {
      "displayName": "Jacinta Moore",
      "photoUrl": "",
      "userId": "14215851766389388616"
     },
     "user_tz": 300
    },
    "id": "BflWgnb7lar9",
    "outputId": "a05247ed-63ff-4a05-f925-2c348e92a6c8"
   },
   "outputs": [
    {
     "data": {
      "text/plain": [
       "rental_id\n",
       "7236931    14.796742\n",
       "7331920     7.806511\n",
       "7139224     2.743952\n",
       "7364827     3.660724\n",
       "7242151    11.126183\n",
       "7171210     2.331770\n",
       "7286986     7.900183\n",
       "7418503     2.803593\n",
       "7304773     3.370226\n",
       "7180240     2.530775\n",
       "7199509     6.520788\n",
       "7374106     7.727537\n",
       "7211146     5.455471\n",
       "7205032     9.249498\n",
       "7303381     6.165054\n",
       "7257553    10.045174\n",
       "7371094     9.455008\n",
       "7386616    19.309963\n",
       "7161667     1.416285\n",
       "7256881     1.781116\n",
       "Name: dist_centralPark, dtype: float64"
      ]
     },
     "execution_count": 22,
     "metadata": {},
     "output_type": "execute_result"
    }
   ],
   "source": [
    "train_df2['dist_centralPark'].head(20)"
   ]
  },
  {
   "cell_type": "code",
   "execution_count": 23,
   "metadata": {
    "colab": {
     "base_uri": "https://localhost:8080/",
     "height": 282
    },
    "colab_type": "code",
    "executionInfo": {
     "elapsed": 1580,
     "status": "ok",
     "timestamp": 1574435442770,
     "user": {
      "displayName": "Jacinta Moore",
      "photoUrl": "",
      "userId": "14215851766389388616"
     },
     "user_tz": 300
    },
    "id": "ChbpI5i1qwgY",
    "outputId": "7d4bd60d-4e73-4217-8fd1-c655b74b5512"
   },
   "outputs": [
    {
     "data": {
      "text/plain": [
       "(0, 10000)"
      ]
     },
     "execution_count": 23,
     "metadata": {},
     "output_type": "execute_result"
    },
    {
     "data": {
      "image/png": "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\n",
      "text/plain": [
       "<Figure size 432x288 with 1 Axes>"
      ]
     },
     "metadata": {
      "needs_background": "light"
     },
     "output_type": "display_data"
    }
   ],
   "source": [
    "_ = plt.plot(train_df['rent'], train_df2['dist_centralPark'], marker='.', linestyle='none')\n",
    "plt.xlim(0, 10000)\n",
    "# not really a correlation"
   ]
  },
  {
   "cell_type": "code",
   "execution_count": 24,
   "metadata": {
    "colab": {},
    "colab_type": "code",
    "id": "lHDDen61ltp7"
   },
   "outputs": [],
   "source": [
    "# extract usable features\n",
    "feature_cols2 = [\n",
    "    'bedrooms', 'year_built', 'bathrooms', 'min_to_subway', \n",
    "    'size_sqft', 'no_fee', 'has_doorman',  'has_washer_dryer', 'floornumber', 'dist_centralPark'\n",
    "]\n",
    "train_features2 = train_df2[feature_cols2] "
   ]
  },
  {
   "cell_type": "code",
   "execution_count": 25,
   "metadata": {},
   "outputs": [],
   "source": [
    "# extract usable features\n",
    "feature_cols2 = [\n",
    "    'bedrooms', 'year_built', 'bathrooms', 'min_to_subway', \n",
    "    'size_sqft', 'no_fee', 'has_doorman',  'has_washer_dryer', 'floornumber', 'dist_centralPark'\n",
    "]\n",
    "test_features2 = test_df2[feature_cols2] "
   ]
  },
  {
   "cell_type": "markdown",
   "metadata": {
    "colab_type": "text",
    "id": "HgGR6M-aojEZ"
   },
   "source": [
    "## Data Preprocessing\n",
    "\n",
    "This section we look at missing data and outliers and deal with these\n",
    "\n"
   ]
  },
  {
   "cell_type": "markdown",
   "metadata": {
    "colab_type": "text",
    "id": "m2jx_CgDtHyB"
   },
   "source": [
    "#### 1. Missing Data\n",
    "'min_to_subway', 'year_built' , 'floornumber' have NaNs. Solutions: drop or impute. This round we will impute as the feature 'floornumber' has 10% (1200) values missing and dropping this would reduce the data to only 10,000 points. "
   ]
  },
  {
   "cell_type": "code",
   "execution_count": 26,
   "metadata": {
    "colab": {
     "base_uri": "https://localhost:8080/",
     "height": 34
    },
    "colab_type": "code",
    "executionInfo": {
     "elapsed": 325,
     "status": "ok",
     "timestamp": 1574366505378,
     "user": {
      "displayName": "Jacinta Moore",
      "photoUrl": "",
      "userId": "14215851766389388616"
     },
     "user_tz": 300
    },
    "id": "2R36HvWvudbC",
    "outputId": "04bb2886-0935-4873-845f-3e679659b5c5"
   },
   "outputs": [
    {
     "data": {
      "text/plain": [
       "0"
      ]
     },
     "execution_count": 26,
     "metadata": {},
     "output_type": "execute_result"
    }
   ],
   "source": [
    "train_df['bedrooms'].isna().sum()\n"
   ]
  },
  {
   "cell_type": "code",
   "execution_count": 27,
   "metadata": {
    "colab": {
     "base_uri": "https://localhost:8080/",
     "height": 34
    },
    "colab_type": "code",
    "executionInfo": {
     "elapsed": 338,
     "status": "ok",
     "timestamp": 1574366507347,
     "user": {
      "displayName": "Jacinta Moore",
      "photoUrl": "",
      "userId": "14215851766389388616"
     },
     "user_tz": 300
    },
    "id": "3hHU0IGOv8Na",
    "outputId": "e1ac3994-5e1a-4a82-b09e-ba42be3b1418"
   },
   "outputs": [
    {
     "data": {
      "text/plain": [
       "403"
      ]
     },
     "execution_count": 27,
     "metadata": {},
     "output_type": "execute_result"
    }
   ],
   "source": [
    "train_df['year_built'].isna().sum()"
   ]
  },
  {
   "cell_type": "code",
   "execution_count": 28,
   "metadata": {
    "colab": {
     "base_uri": "https://localhost:8080/",
     "height": 34
    },
    "colab_type": "code",
    "executionInfo": {
     "elapsed": 363,
     "status": "ok",
     "timestamp": 1574366508204,
     "user": {
      "displayName": "Jacinta Moore",
      "photoUrl": "",
      "userId": "14215851766389388616"
     },
     "user_tz": 300
    },
    "id": "sxjWSZD7v8gO",
    "outputId": "84aff1c6-c20b-4af7-e154-8e09de3fa07e"
   },
   "outputs": [
    {
     "data": {
      "text/plain": [
       "0"
      ]
     },
     "execution_count": 28,
     "metadata": {},
     "output_type": "execute_result"
    }
   ],
   "source": [
    "train_df['bathrooms'].isna().sum()"
   ]
  },
  {
   "cell_type": "code",
   "execution_count": 29,
   "metadata": {
    "colab": {
     "base_uri": "https://localhost:8080/",
     "height": 34
    },
    "colab_type": "code",
    "executionInfo": {
     "elapsed": 372,
     "status": "ok",
     "timestamp": 1574366509349,
     "user": {
      "displayName": "Jacinta Moore",
      "photoUrl": "",
      "userId": "14215851766389388616"
     },
     "user_tz": 300
    },
    "id": "-4GEN3upv8wT",
    "outputId": "f538343c-f2af-4586-ebb8-c62fff1acc8e"
   },
   "outputs": [
    {
     "data": {
      "text/plain": [
       "126"
      ]
     },
     "execution_count": 29,
     "metadata": {},
     "output_type": "execute_result"
    }
   ],
   "source": [
    "train_df['min_to_subway'].isna().sum()"
   ]
  },
  {
   "cell_type": "code",
   "execution_count": 30,
   "metadata": {
    "colab": {
     "base_uri": "https://localhost:8080/",
     "height": 34
    },
    "colab_type": "code",
    "executionInfo": {
     "elapsed": 406,
     "status": "ok",
     "timestamp": 1574366510713,
     "user": {
      "displayName": "Jacinta Moore",
      "photoUrl": "",
      "userId": "14215851766389388616"
     },
     "user_tz": 300
    },
    "id": "9JHTWqHYv8_z",
    "outputId": "15ffe7e8-6f31-483b-f26c-cdf69395b063"
   },
   "outputs": [
    {
     "data": {
      "text/plain": [
       "0"
      ]
     },
     "execution_count": 30,
     "metadata": {},
     "output_type": "execute_result"
    }
   ],
   "source": [
    "train_df['size_sqft'].isna().sum()"
   ]
  },
  {
   "cell_type": "code",
   "execution_count": 31,
   "metadata": {
    "colab": {
     "base_uri": "https://localhost:8080/",
     "height": 34
    },
    "colab_type": "code",
    "executionInfo": {
     "elapsed": 670,
     "status": "ok",
     "timestamp": 1574269182871,
     "user": {
      "displayName": "Jacinta Moore",
      "photoUrl": "",
      "userId": "14215851766389388616"
     },
     "user_tz": 300
    },
    "id": "wiaSyv9qv9QI",
    "outputId": "450ef1ef-08b6-45ad-ef3a-cd3f8ee31a8e"
   },
   "outputs": [
    {
     "data": {
      "text/plain": [
       "0"
      ]
     },
     "execution_count": 31,
     "metadata": {},
     "output_type": "execute_result"
    }
   ],
   "source": [
    "train_df['no_fee'].isna().sum()"
   ]
  },
  {
   "cell_type": "code",
   "execution_count": 32,
   "metadata": {
    "colab": {
     "base_uri": "https://localhost:8080/",
     "height": 34
    },
    "colab_type": "code",
    "executionInfo": {
     "elapsed": 549,
     "status": "ok",
     "timestamp": 1574269184735,
     "user": {
      "displayName": "Jacinta Moore",
      "photoUrl": "",
      "userId": "14215851766389388616"
     },
     "user_tz": 300
    },
    "id": "dTp4ZaChwILQ",
    "outputId": "625c4d7b-7dab-4da8-9f29-af38c2c43782"
   },
   "outputs": [
    {
     "data": {
      "text/plain": [
       "0"
      ]
     },
     "execution_count": 32,
     "metadata": {},
     "output_type": "execute_result"
    }
   ],
   "source": [
    "train_df['has_doorman'].isna().sum()"
   ]
  },
  {
   "cell_type": "code",
   "execution_count": 33,
   "metadata": {
    "colab": {
     "base_uri": "https://localhost:8080/",
     "height": 34
    },
    "colab_type": "code",
    "executionInfo": {
     "elapsed": 594,
     "status": "ok",
     "timestamp": 1574269186482,
     "user": {
      "displayName": "Jacinta Moore",
      "photoUrl": "",
      "userId": "14215851766389388616"
     },
     "user_tz": 300
    },
    "id": "6eBdNYVgwIfG",
    "outputId": "bf031996-01fc-4808-ce31-d3055237cd20"
   },
   "outputs": [
    {
     "data": {
      "text/plain": [
       "0"
      ]
     },
     "execution_count": 33,
     "metadata": {},
     "output_type": "execute_result"
    }
   ],
   "source": [
    "train_df['has_washer_dryer'].isna().sum()"
   ]
  },
  {
   "cell_type": "code",
   "execution_count": 34,
   "metadata": {
    "colab": {
     "base_uri": "https://localhost:8080/",
     "height": 34
    },
    "colab_type": "code",
    "executionInfo": {
     "elapsed": 401,
     "status": "ok",
     "timestamp": 1574269427727,
     "user": {
      "displayName": "Jacinta Moore",
      "photoUrl": "",
      "userId": "14215851766389388616"
     },
     "user_tz": 300
    },
    "id": "IjUpxThGwLGD",
    "outputId": "ee98f9bd-2027-4059-a1eb-5aa70fbf4775"
   },
   "outputs": [
    {
     "data": {
      "text/plain": [
       "1277"
      ]
     },
     "execution_count": 34,
     "metadata": {},
     "output_type": "execute_result"
    }
   ],
   "source": [
    "train_df['floornumber'].isna().sum()"
   ]
  },
  {
   "cell_type": "code",
   "execution_count": 35,
   "metadata": {},
   "outputs": [
    {
     "data": {
      "text/plain": [
       "count    10723.000000\n",
       "mean         6.182738\n",
       "std          7.671545\n",
       "min          0.000000\n",
       "25%          2.000000\n",
       "50%          3.000000\n",
       "75%          6.000000\n",
       "max         78.000000\n",
       "Name: floornumber, dtype: float64"
      ]
     },
     "execution_count": 35,
     "metadata": {},
     "output_type": "execute_result"
    }
   ],
   "source": [
    "train_df['floornumber'].describe()"
   ]
  },
  {
   "cell_type": "code",
   "execution_count": 36,
   "metadata": {
    "colab": {
     "base_uri": "https://localhost:8080/",
     "height": 168
    },
    "colab_type": "code",
    "executionInfo": {
     "elapsed": 434,
     "status": "ok",
     "timestamp": 1574368441620,
     "user": {
      "displayName": "Jacinta Moore",
      "photoUrl": "",
      "userId": "14215851766389388616"
     },
     "user_tz": 300
    },
    "id": "Y703Ub8Pq1xY",
    "outputId": "643c5a16-836e-4929-a0fd-7d93f9f5b8bf"
   },
   "outputs": [
    {
     "data": {
      "text/plain": [
       "count    1775.000000\n",
       "mean        6.291831\n",
       "std         8.066341\n",
       "min         1.000000\n",
       "25%         2.000000\n",
       "50%         3.000000\n",
       "75%         6.000000\n",
       "max        71.000000\n",
       "Name: floornumber, dtype: float64"
      ]
     },
     "execution_count": 36,
     "metadata": {},
     "output_type": "execute_result"
    }
   ],
   "source": [
    "test_df['floornumber'].describe()"
   ]
  },
  {
   "cell_type": "code",
   "execution_count": 37,
   "metadata": {
    "colab": {
     "base_uri": "https://localhost:8080/",
     "height": 168
    },
    "colab_type": "code",
    "executionInfo": {
     "elapsed": 407,
     "status": "ok",
     "timestamp": 1574269613053,
     "user": {
      "displayName": "Jacinta Moore",
      "photoUrl": "",
      "userId": "14215851766389388616"
     },
     "user_tz": 300
    },
    "id": "m0Lsg3gAx798",
    "outputId": "f7602dfa-1d09-44fe-b552-d43d1478b133"
   },
   "outputs": [
    {
     "data": {
      "text/plain": [
       "count     11874.000000\n",
       "mean         73.588716\n",
       "std        2681.611157\n",
       "min           0.016700\n",
       "25%           1.616700\n",
       "50%           2.750000\n",
       "75%           4.366700\n",
       "max      103343.616700\n",
       "Name: min_to_subway, dtype: float64"
      ]
     },
     "execution_count": 37,
     "metadata": {},
     "output_type": "execute_result"
    }
   ],
   "source": [
    "train_df['min_to_subway'].describe()"
   ]
  },
  {
   "cell_type": "code",
   "execution_count": 38,
   "metadata": {
    "colab": {
     "base_uri": "https://localhost:8080/",
     "height": 168
    },
    "colab_type": "code",
    "executionInfo": {
     "elapsed": 337,
     "status": "ok",
     "timestamp": 1574368484388,
     "user": {
      "displayName": "Jacinta Moore",
      "photoUrl": "",
      "userId": "14215851766389388616"
     },
     "user_tz": 300
    },
    "id": "K1qvrG43q1ag",
    "outputId": "8a45bd9a-7bf8-4893-b4b8-6d3b629bedc8",
    "scrolled": true
   },
   "outputs": [
    {
     "data": {
      "text/plain": [
       "count    1983.000000\n",
       "mean        3.768095\n",
       "std         4.110479\n",
       "min         0.016700\n",
       "25%         1.666700\n",
       "50%         2.816700\n",
       "75%         4.458350\n",
       "max        57.583300\n",
       "Name: min_to_subway, dtype: float64"
      ]
     },
     "execution_count": 38,
     "metadata": {},
     "output_type": "execute_result"
    }
   ],
   "source": [
    "test_df['min_to_subway'].describe()"
   ]
  },
  {
   "cell_type": "code",
   "execution_count": 39,
   "metadata": {
    "colab": {
     "base_uri": "https://localhost:8080/",
     "height": 168
    },
    "colab_type": "code",
    "executionInfo": {
     "elapsed": 456,
     "status": "ok",
     "timestamp": 1574269623121,
     "user": {
      "displayName": "Jacinta Moore",
      "photoUrl": "",
      "userId": "14215851766389388616"
     },
     "user_tz": 300
    },
    "id": "ZYg37N89x8aQ",
    "outputId": "90f3dd7b-8e18-4c49-a3d7-c6895590ae5a"
   },
   "outputs": [
    {
     "data": {
      "text/plain": [
       "count    11597.000000\n",
       "mean      1935.982668\n",
       "std        158.157134\n",
       "min          0.000000\n",
       "25%       1915.000000\n",
       "50%       1931.000000\n",
       "75%       1987.000000\n",
       "max       2019.000000\n",
       "Name: year_built, dtype: float64"
      ]
     },
     "execution_count": 39,
     "metadata": {},
     "output_type": "execute_result"
    }
   ],
   "source": [
    "train_df['year_built'].describe()"
   ]
  },
  {
   "cell_type": "code",
   "execution_count": 40,
   "metadata": {
    "colab": {
     "base_uri": "https://localhost:8080/",
     "height": 168
    },
    "colab_type": "code",
    "executionInfo": {
     "elapsed": 450,
     "status": "ok",
     "timestamp": 1574368518853,
     "user": {
      "displayName": "Jacinta Moore",
      "photoUrl": "",
      "userId": "14215851766389388616"
     },
     "user_tz": 300
    },
    "id": "UNPKj6bNrNXr",
    "outputId": "cbe9955e-fffc-479b-95a5-ddb71d643cb8"
   },
   "outputs": [
    {
     "data": {
      "text/plain": [
       "count    1933.000000\n",
       "mean     1934.515261\n",
       "std       164.135048\n",
       "min         0.000000\n",
       "25%      1915.000000\n",
       "50%      1931.000000\n",
       "75%      1987.000000\n",
       "max      2019.000000\n",
       "Name: year_built, dtype: float64"
      ]
     },
     "execution_count": 40,
     "metadata": {},
     "output_type": "execute_result"
    }
   ],
   "source": [
    "test_df['year_built'].describe()"
   ]
  },
  {
   "cell_type": "markdown",
   "metadata": {
    "colab_type": "text",
    "id": "gQw2F3DKyQTz"
   },
   "source": [
    "The features all have large outliers that result in a much higher mean than median so we will use median for the impute value for the missing values. "
   ]
  },
  {
   "cell_type": "code",
   "execution_count": 42,
   "metadata": {
    "colab": {},
    "colab_type": "code",
    "id": "smFM_TWEuXz9"
   },
   "outputs": [],
   "source": [
    "# impute missing values with medians\n",
    "train_features = train_features.fillna(train_features.median(), axis=0)\n",
    "\n",
    "# construct target vector\n",
    "train_target = train_df['rent']"
   ]
  },
  {
   "cell_type": "code",
   "execution_count": 43,
   "metadata": {
    "colab": {},
    "colab_type": "code",
    "id": "Vre3NyZhnnQJ"
   },
   "outputs": [],
   "source": [
    "# impute missing values with medians\n",
    "train_features2 = train_features2.fillna(train_features2.median(), axis=0)\n",
    "\n",
    "# construct target vector\n",
    "train_target2 = train_df2['rent']"
   ]
  },
  {
   "cell_type": "markdown",
   "metadata": {
    "colab_type": "text",
    "id": "_mMjb8rGsjXG"
   },
   "source": [
    "#### 2. Outlier Data\n",
    "From the above analysis it can be seen that the size_sqft and bathrooms have the value 0 for some data points. It is not possible for a rental space to have no size and it unusal for no bathroom in a rental. "
   ]
  },
  {
   "cell_type": "code",
   "execution_count": 44,
   "metadata": {
    "colab": {
     "base_uri": "https://localhost:8080/",
     "height": 34
    },
    "colab_type": "code",
    "executionInfo": {
     "elapsed": 439,
     "status": "ok",
     "timestamp": 1574366519612,
     "user": {
      "displayName": "Jacinta Moore",
      "photoUrl": "",
      "userId": "14215851766389388616"
     },
     "user_tz": 300
    },
    "id": "816TIZKRsjJH",
    "outputId": "b5243056-6099-47a3-b312-675bcc2a2f60"
   },
   "outputs": [
    {
     "data": {
      "text/plain": [
       "841"
      ]
     },
     "execution_count": 44,
     "metadata": {},
     "output_type": "execute_result"
    }
   ],
   "source": [
    "(train_features['size_sqft']==0).sum()\n",
    "## 841 values have outlier value of 0 for size_sqft"
   ]
  },
  {
   "cell_type": "code",
   "execution_count": 45,
   "metadata": {
    "colab": {
     "base_uri": "https://localhost:8080/",
     "height": 34
    },
    "colab_type": "code",
    "executionInfo": {
     "elapsed": 378,
     "status": "ok",
     "timestamp": 1574368580605,
     "user": {
      "displayName": "Jacinta Moore",
      "photoUrl": "",
      "userId": "14215851766389388616"
     },
     "user_tz": 300
    },
    "id": "ukccAkmlrewp",
    "outputId": "76b48a1e-17ca-4d2e-a74f-cb8e7f990d82"
   },
   "outputs": [
    {
     "ename": "NameError",
     "evalue": "name 'test_features' is not defined",
     "output_type": "error",
     "traceback": [
      "\u001b[1;31m---------------------------------------------------------------------------\u001b[0m",
      "\u001b[1;31mNameError\u001b[0m                                 Traceback (most recent call last)",
      "\u001b[1;32m<ipython-input-45-e135f7e4bcba>\u001b[0m in \u001b[0;36m<module>\u001b[1;34m\u001b[0m\n\u001b[1;32m----> 1\u001b[1;33m \u001b[1;33m(\u001b[0m\u001b[0mtest_features\u001b[0m\u001b[1;33m[\u001b[0m\u001b[1;34m'size_sqft'\u001b[0m\u001b[1;33m]\u001b[0m\u001b[1;33m==\u001b[0m\u001b[1;36m0\u001b[0m\u001b[1;33m)\u001b[0m\u001b[1;33m.\u001b[0m\u001b[0msum\u001b[0m\u001b[1;33m(\u001b[0m\u001b[1;33m)\u001b[0m\u001b[1;33m\u001b[0m\u001b[0m\n\u001b[0m",
      "\u001b[1;31mNameError\u001b[0m: name 'test_features' is not defined"
     ]
    }
   ],
   "source": [
    "(test_features['size_sqft']==0).sum()"
   ]
  },
  {
   "cell_type": "code",
   "execution_count": 106,
   "metadata": {
    "colab": {
     "base_uri": "https://localhost:8080/",
     "height": 34
    },
    "colab_type": "code",
    "executionInfo": {
     "elapsed": 586,
     "status": "ok",
     "timestamp": 1574433997994,
     "user": {
      "displayName": "Jacinta Moore",
      "photoUrl": "",
      "userId": "14215851766389388616"
     },
     "user_tz": 300
    },
    "id": "MJIItKF-saFI",
    "outputId": "d84b6c42-2bf9-4623-e423-fb49528af111"
   },
   "outputs": [
    {
     "data": {
      "text/plain": [
       "177"
      ]
     },
     "execution_count": 106,
     "metadata": {},
     "output_type": "execute_result"
    }
   ],
   "source": [
    "(submit1_df['size_sqft']==0).sum()"
   ]
  },
  {
   "cell_type": "code",
   "execution_count": 107,
   "metadata": {
    "colab": {
     "base_uri": "https://localhost:8080/",
     "height": 34
    },
    "colab_type": "code",
    "executionInfo": {
     "elapsed": 430,
     "status": "ok",
     "timestamp": 1574366521561,
     "user": {
      "displayName": "Jacinta Moore",
      "photoUrl": "",
      "userId": "14215851766389388616"
     },
     "user_tz": 300
    },
    "id": "BOOKcH1Yh1oN",
    "outputId": "3fe56fdc-09e7-4eac-9550-ad157d0ef53d"
   },
   "outputs": [
    {
     "data": {
      "text/plain": [
       "4"
      ]
     },
     "execution_count": 107,
     "metadata": {},
     "output_type": "execute_result"
    }
   ],
   "source": [
    "(train_features['bathrooms']==0).sum()\n",
    "## 4 values have outlier value of 0 for bathrooms...No bathrooms??"
   ]
  },
  {
   "cell_type": "code",
   "execution_count": 108,
   "metadata": {
    "colab": {
     "base_uri": "https://localhost:8080/",
     "height": 34
    },
    "colab_type": "code",
    "executionInfo": {
     "elapsed": 369,
     "status": "ok",
     "timestamp": 1574368604854,
     "user": {
      "displayName": "Jacinta Moore",
      "photoUrl": "",
      "userId": "14215851766389388616"
     },
     "user_tz": 300
    },
    "id": "EWZxxglqrkC0",
    "outputId": "49ddcf20-d2d1-4961-ec99-c2c5281d8e7d"
   },
   "outputs": [
    {
     "data": {
      "text/plain": [
       "3"
      ]
     },
     "execution_count": 108,
     "metadata": {},
     "output_type": "execute_result"
    }
   ],
   "source": [
    "(test_features['bathrooms']==0).sum()"
   ]
  },
  {
   "cell_type": "code",
   "execution_count": 109,
   "metadata": {
    "colab": {
     "base_uri": "https://localhost:8080/",
     "height": 34
    },
    "colab_type": "code",
    "executionInfo": {
     "elapsed": 424,
     "status": "ok",
     "timestamp": 1574270011276,
     "user": {
      "displayName": "Jacinta Moore",
      "photoUrl": "",
      "userId": "14215851766389388616"
     },
     "user_tz": 300
    },
    "id": "7jcdosFlyvaH",
    "outputId": "fc5efc46-6834-420d-d447-910e42ac3552"
   },
   "outputs": [
    {
     "data": {
      "text/plain": [
       "1556"
      ]
     },
     "execution_count": 109,
     "metadata": {},
     "output_type": "execute_result"
    }
   ],
   "source": [
    "(train_features['bedrooms']==0).sum()\n",
    "## 1556 values have outlier value of 0 for bedrooms...No bedrooms??Commercial rental?"
   ]
  },
  {
   "cell_type": "code",
   "execution_count": 47,
   "metadata": {
    "colab": {},
    "colab_type": "code",
    "id": "5r0n9ZApqLvP"
   },
   "outputs": [],
   "source": [
    "no_bedrooms = train_df[train_df['bedrooms']==0]"
   ]
  },
  {
   "cell_type": "code",
   "execution_count": 48,
   "metadata": {
    "colab": {
     "base_uri": "https://localhost:8080/",
     "height": 813
    },
    "colab_type": "code",
    "executionInfo": {
     "elapsed": 385,
     "status": "ok",
     "timestamp": 1574369033771,
     "user": {
      "displayName": "Jacinta Moore",
      "photoUrl": "",
      "userId": "14215851766389388616"
     },
     "user_tz": 300
    },
    "id": "RSmOrsZPtMg7",
    "outputId": "06b110bd-64bd-4da0-b1d7-082d64ccc9fb"
   },
   "outputs": [
    {
     "data": {
      "text/html": [
       "<div>\n",
       "<style scoped>\n",
       "    .dataframe tbody tr th:only-of-type {\n",
       "        vertical-align: middle;\n",
       "    }\n",
       "\n",
       "    .dataframe tbody tr th {\n",
       "        vertical-align: top;\n",
       "    }\n",
       "\n",
       "    .dataframe thead th {\n",
       "        text-align: right;\n",
       "    }\n",
       "</style>\n",
       "<table border=\"1\" class=\"dataframe\">\n",
       "  <thead>\n",
       "    <tr style=\"text-align: right;\">\n",
       "      <th></th>\n",
       "      <th>addr_unit</th>\n",
       "      <th>building_id</th>\n",
       "      <th>bedrooms</th>\n",
       "      <th>bathrooms</th>\n",
       "      <th>size_sqft</th>\n",
       "      <th>created_at</th>\n",
       "      <th>addr_street</th>\n",
       "      <th>addr_city</th>\n",
       "      <th>addr_zip</th>\n",
       "      <th>addr_lat</th>\n",
       "      <th>...</th>\n",
       "      <th>has_childrens_playroom</th>\n",
       "      <th>rent</th>\n",
       "      <th>no_fee</th>\n",
       "      <th>description</th>\n",
       "      <th>neighborhood</th>\n",
       "      <th>borough</th>\n",
       "      <th>unit</th>\n",
       "      <th>floornumber</th>\n",
       "      <th>line</th>\n",
       "      <th>dist_centralPark</th>\n",
       "    </tr>\n",
       "    <tr>\n",
       "      <th>rental_id</th>\n",
       "      <th></th>\n",
       "      <th></th>\n",
       "      <th></th>\n",
       "      <th></th>\n",
       "      <th></th>\n",
       "      <th></th>\n",
       "      <th></th>\n",
       "      <th></th>\n",
       "      <th></th>\n",
       "      <th></th>\n",
       "      <th></th>\n",
       "      <th></th>\n",
       "      <th></th>\n",
       "      <th></th>\n",
       "      <th></th>\n",
       "      <th></th>\n",
       "      <th></th>\n",
       "      <th></th>\n",
       "      <th></th>\n",
       "      <th></th>\n",
       "      <th></th>\n",
       "    </tr>\n",
       "  </thead>\n",
       "  <tbody>\n",
       "    <tr>\n",
       "      <td>7331920</td>\n",
       "      <td>#406</td>\n",
       "      <td>3373</td>\n",
       "      <td>0</td>\n",
       "      <td>1.0</td>\n",
       "      <td>475.0</td>\n",
       "      <td>2018-07-03 20:11:43</td>\n",
       "      <td>93 WORTH STREET</td>\n",
       "      <td>New York</td>\n",
       "      <td>10013</td>\n",
       "      <td>40.716599</td>\n",
       "      <td>...</td>\n",
       "      <td>0</td>\n",
       "      <td>3350</td>\n",
       "      <td>0</td>\n",
       "      <td>Want to live in the hottest neighborhood in to...</td>\n",
       "      <td>Tribeca</td>\n",
       "      <td>Manhattan</td>\n",
       "      <td>406</td>\n",
       "      <td>4.0</td>\n",
       "      <td>06</td>\n",
       "      <td>7.806511</td>\n",
       "    </tr>\n",
       "    <tr>\n",
       "      <td>7418503</td>\n",
       "      <td>#6G</td>\n",
       "      <td>18341149</td>\n",
       "      <td>0</td>\n",
       "      <td>1.0</td>\n",
       "      <td>500.0</td>\n",
       "      <td>2018-07-28 10:25:29</td>\n",
       "      <td>11-05 30 ROAD</td>\n",
       "      <td>Astoria</td>\n",
       "      <td>11102</td>\n",
       "      <td>40.771198</td>\n",
       "      <td>...</td>\n",
       "      <td>0</td>\n",
       "      <td>2075</td>\n",
       "      <td>0</td>\n",
       "      <td>Priceless view of NYC, 2 separate rooftops, 24...</td>\n",
       "      <td>Astoria</td>\n",
       "      <td>Queens</td>\n",
       "      <td>6G</td>\n",
       "      <td>6.0</td>\n",
       "      <td>G</td>\n",
       "      <td>2.803593</td>\n",
       "    </tr>\n",
       "    <tr>\n",
       "      <td>7180240</td>\n",
       "      <td>#23B</td>\n",
       "      <td>69853</td>\n",
       "      <td>0</td>\n",
       "      <td>1.0</td>\n",
       "      <td>400.0</td>\n",
       "      <td>2018-05-15 17:04:06</td>\n",
       "      <td>250 EAST 54 STREET</td>\n",
       "      <td>New York</td>\n",
       "      <td>10022</td>\n",
       "      <td>40.757301</td>\n",
       "      <td>...</td>\n",
       "      <td>0</td>\n",
       "      <td>2800</td>\n",
       "      <td>1</td>\n",
       "      <td>Make yourself at home at The Mondrian, Midtown...</td>\n",
       "      <td>Midtown East</td>\n",
       "      <td>Manhattan</td>\n",
       "      <td>23B</td>\n",
       "      <td>23.0</td>\n",
       "      <td>B</td>\n",
       "      <td>2.530775</td>\n",
       "    </tr>\n",
       "    <tr>\n",
       "      <td>7161667</td>\n",
       "      <td>#3C</td>\n",
       "      <td>78679</td>\n",
       "      <td>0</td>\n",
       "      <td>1.0</td>\n",
       "      <td>440.0</td>\n",
       "      <td>2018-05-09 13:51:48</td>\n",
       "      <td>1388 2 AVENUE</td>\n",
       "      <td>New York</td>\n",
       "      <td>10021</td>\n",
       "      <td>40.768289</td>\n",
       "      <td>...</td>\n",
       "      <td>0</td>\n",
       "      <td>1685</td>\n",
       "      <td>0</td>\n",
       "      <td>Large pre -war studio w High CEILINGS\\r\\nRENT ...</td>\n",
       "      <td>Upper East Side</td>\n",
       "      <td>Manhattan</td>\n",
       "      <td>3C</td>\n",
       "      <td>3.0</td>\n",
       "      <td>C</td>\n",
       "      <td>1.416285</td>\n",
       "    </tr>\n",
       "    <tr>\n",
       "      <td>7179904</td>\n",
       "      <td>#28Q</td>\n",
       "      <td>52861</td>\n",
       "      <td>0</td>\n",
       "      <td>1.0</td>\n",
       "      <td>608.0</td>\n",
       "      <td>2018-05-15 16:05:48</td>\n",
       "      <td>322 WEST 57TH STREET</td>\n",
       "      <td>New York</td>\n",
       "      <td>10019</td>\n",
       "      <td>40.766800</td>\n",
       "      <td>...</td>\n",
       "      <td>1</td>\n",
       "      <td>3138</td>\n",
       "      <td>1</td>\n",
       "      <td>The rent is $3,400/month. However, Landlord gi...</td>\n",
       "      <td>Midtown West</td>\n",
       "      <td>Manhattan</td>\n",
       "      <td>28Q</td>\n",
       "      <td>28.0</td>\n",
       "      <td>Q</td>\n",
       "      <td>2.183633</td>\n",
       "    </tr>\n",
       "    <tr>\n",
       "      <td>7279090</td>\n",
       "      <td>#30C</td>\n",
       "      <td>1474</td>\n",
       "      <td>0</td>\n",
       "      <td>1.0</td>\n",
       "      <td>500.0</td>\n",
       "      <td>2018-06-15 19:18:14</td>\n",
       "      <td>113 NASSAU STREET</td>\n",
       "      <td>New York</td>\n",
       "      <td>10038</td>\n",
       "      <td>40.710876</td>\n",
       "      <td>...</td>\n",
       "      <td>0</td>\n",
       "      <td>3350</td>\n",
       "      <td>1</td>\n",
       "      <td>**Net effective rent listed - one month free o...</td>\n",
       "      <td>Financial District</td>\n",
       "      <td>Manhattan</td>\n",
       "      <td>30C</td>\n",
       "      <td>30.0</td>\n",
       "      <td>C</td>\n",
       "      <td>8.474531</td>\n",
       "    </tr>\n",
       "    <tr>\n",
       "      <td>7383331</td>\n",
       "      <td>#3C</td>\n",
       "      <td>31768</td>\n",
       "      <td>0</td>\n",
       "      <td>1.0</td>\n",
       "      <td>400.0</td>\n",
       "      <td>2018-07-19 14:06:44</td>\n",
       "      <td>88 HORATIO STREET</td>\n",
       "      <td>New York</td>\n",
       "      <td>10014</td>\n",
       "      <td>40.738499</td>\n",
       "      <td>...</td>\n",
       "      <td>0</td>\n",
       "      <td>2200</td>\n",
       "      <td>0</td>\n",
       "      <td>This lovely light-filled coop studio is locate...</td>\n",
       "      <td>West Village</td>\n",
       "      <td>Manhattan</td>\n",
       "      <td>3C</td>\n",
       "      <td>3.0</td>\n",
       "      <td>C</td>\n",
       "      <td>5.845420</td>\n",
       "    </tr>\n",
       "    <tr>\n",
       "      <td>7423579</td>\n",
       "      <td>#2R</td>\n",
       "      <td>107200</td>\n",
       "      <td>0</td>\n",
       "      <td>1.0</td>\n",
       "      <td>350.0</td>\n",
       "      <td>2018-07-30 19:15:47</td>\n",
       "      <td>616 WEST 113 STREET</td>\n",
       "      <td>New York</td>\n",
       "      <td>10025</td>\n",
       "      <td>40.806323</td>\n",
       "      <td>...</td>\n",
       "      <td>0</td>\n",
       "      <td>2200</td>\n",
       "      <td>0</td>\n",
       "      <td>Very Large Lofted Studio Apartment near Columb...</td>\n",
       "      <td>Morningside Heights</td>\n",
       "      <td>Manhattan</td>\n",
       "      <td>2R</td>\n",
       "      <td>2.0</td>\n",
       "      <td>R</td>\n",
       "      <td>2.929543</td>\n",
       "    </tr>\n",
       "    <tr>\n",
       "      <td>7416625</td>\n",
       "      <td>#1A</td>\n",
       "      <td>212458</td>\n",
       "      <td>0</td>\n",
       "      <td>1.0</td>\n",
       "      <td>600.0</td>\n",
       "      <td>2018-07-27 15:48:10</td>\n",
       "      <td>374 8 STREET</td>\n",
       "      <td>Brooklyn</td>\n",
       "      <td>11215</td>\n",
       "      <td>40.667969</td>\n",
       "      <td>...</td>\n",
       "      <td>0</td>\n",
       "      <td>2050</td>\n",
       "      <td>1</td>\n",
       "      <td>amazing studio apartment, prime location, step...</td>\n",
       "      <td>Park Slope</td>\n",
       "      <td>Brooklyn</td>\n",
       "      <td>1A</td>\n",
       "      <td>1.0</td>\n",
       "      <td>A</td>\n",
       "      <td>12.545008</td>\n",
       "    </tr>\n",
       "    <tr>\n",
       "      <td>7241947</td>\n",
       "      <td>#8G</td>\n",
       "      <td>3862027</td>\n",
       "      <td>0</td>\n",
       "      <td>1.0</td>\n",
       "      <td>525.0</td>\n",
       "      <td>2018-06-05 16:08:44</td>\n",
       "      <td>465 WEST 23 STREET</td>\n",
       "      <td>New York</td>\n",
       "      <td>10011</td>\n",
       "      <td>40.747898</td>\n",
       "      <td>...</td>\n",
       "      <td>0</td>\n",
       "      <td>3300</td>\n",
       "      <td>0</td>\n",
       "      <td>(APPLICATION RECEIVED) Welcome to 465 West 23r...</td>\n",
       "      <td>Chelsea</td>\n",
       "      <td>Manhattan</td>\n",
       "      <td>8G</td>\n",
       "      <td>8.0</td>\n",
       "      <td>G</td>\n",
       "      <td>4.828108</td>\n",
       "    </tr>\n",
       "  </tbody>\n",
       "</table>\n",
       "<p>10 rows × 39 columns</p>\n",
       "</div>"
      ],
      "text/plain": [
       "          addr_unit  building_id  bedrooms  bathrooms  size_sqft  \\\n",
       "rental_id                                                          \n",
       "7331920        #406         3373         0        1.0      475.0   \n",
       "7418503         #6G     18341149         0        1.0      500.0   \n",
       "7180240        #23B        69853         0        1.0      400.0   \n",
       "7161667         #3C        78679         0        1.0      440.0   \n",
       "7179904        #28Q        52861         0        1.0      608.0   \n",
       "7279090        #30C         1474         0        1.0      500.0   \n",
       "7383331         #3C        31768         0        1.0      400.0   \n",
       "7423579         #2R       107200         0        1.0      350.0   \n",
       "7416625         #1A       212458         0        1.0      600.0   \n",
       "7241947         #8G      3862027         0        1.0      525.0   \n",
       "\n",
       "                    created_at           addr_street addr_city  addr_zip  \\\n",
       "rental_id                                                                  \n",
       "7331920    2018-07-03 20:11:43       93 WORTH STREET  New York     10013   \n",
       "7418503    2018-07-28 10:25:29         11-05 30 ROAD   Astoria     11102   \n",
       "7180240    2018-05-15 17:04:06    250 EAST 54 STREET  New York     10022   \n",
       "7161667    2018-05-09 13:51:48         1388 2 AVENUE  New York     10021   \n",
       "7179904    2018-05-15 16:05:48  322 WEST 57TH STREET  New York     10019   \n",
       "7279090    2018-06-15 19:18:14     113 NASSAU STREET  New York     10038   \n",
       "7383331    2018-07-19 14:06:44     88 HORATIO STREET  New York     10014   \n",
       "7423579    2018-07-30 19:15:47   616 WEST 113 STREET  New York     10025   \n",
       "7416625    2018-07-27 15:48:10          374 8 STREET  Brooklyn     11215   \n",
       "7241947    2018-06-05 16:08:44    465 WEST 23 STREET  New York     10011   \n",
       "\n",
       "            addr_lat  ...  has_childrens_playroom  rent  no_fee  \\\n",
       "rental_id             ...                                         \n",
       "7331920    40.716599  ...                       0  3350       0   \n",
       "7418503    40.771198  ...                       0  2075       0   \n",
       "7180240    40.757301  ...                       0  2800       1   \n",
       "7161667    40.768289  ...                       0  1685       0   \n",
       "7179904    40.766800  ...                       1  3138       1   \n",
       "7279090    40.710876  ...                       0  3350       1   \n",
       "7383331    40.738499  ...                       0  2200       0   \n",
       "7423579    40.806323  ...                       0  2200       0   \n",
       "7416625    40.667969  ...                       0  2050       1   \n",
       "7241947    40.747898  ...                       0  3300       0   \n",
       "\n",
       "                                                 description  \\\n",
       "rental_id                                                      \n",
       "7331920    Want to live in the hottest neighborhood in to...   \n",
       "7418503    Priceless view of NYC, 2 separate rooftops, 24...   \n",
       "7180240    Make yourself at home at The Mondrian, Midtown...   \n",
       "7161667    Large pre -war studio w High CEILINGS\\r\\nRENT ...   \n",
       "7179904    The rent is $3,400/month. However, Landlord gi...   \n",
       "7279090    **Net effective rent listed - one month free o...   \n",
       "7383331    This lovely light-filled coop studio is locate...   \n",
       "7423579    Very Large Lofted Studio Apartment near Columb...   \n",
       "7416625    amazing studio apartment, prime location, step...   \n",
       "7241947    (APPLICATION RECEIVED) Welcome to 465 West 23r...   \n",
       "\n",
       "                  neighborhood    borough  unit  floornumber  line  \\\n",
       "rental_id                                                            \n",
       "7331920                Tribeca  Manhattan   406          4.0    06   \n",
       "7418503                Astoria     Queens    6G          6.0     G   \n",
       "7180240           Midtown East  Manhattan   23B         23.0     B   \n",
       "7161667        Upper East Side  Manhattan    3C          3.0     C   \n",
       "7179904           Midtown West  Manhattan   28Q         28.0     Q   \n",
       "7279090     Financial District  Manhattan   30C         30.0     C   \n",
       "7383331           West Village  Manhattan    3C          3.0     C   \n",
       "7423579    Morningside Heights  Manhattan    2R          2.0     R   \n",
       "7416625             Park Slope   Brooklyn    1A          1.0     A   \n",
       "7241947                Chelsea  Manhattan    8G          8.0     G   \n",
       "\n",
       "           dist_centralPark  \n",
       "rental_id                    \n",
       "7331920            7.806511  \n",
       "7418503            2.803593  \n",
       "7180240            2.530775  \n",
       "7161667            1.416285  \n",
       "7179904            2.183633  \n",
       "7279090            8.474531  \n",
       "7383331            5.845420  \n",
       "7423579            2.929543  \n",
       "7416625           12.545008  \n",
       "7241947            4.828108  \n",
       "\n",
       "[10 rows x 39 columns]"
      ]
     },
     "execution_count": 48,
     "metadata": {},
     "output_type": "execute_result"
    }
   ],
   "source": [
    "no_bedrooms.head(10)"
   ]
  },
  {
   "cell_type": "code",
   "execution_count": 112,
   "metadata": {
    "colab": {
     "base_uri": "https://localhost:8080/",
     "height": 34
    },
    "colab_type": "code",
    "executionInfo": {
     "elapsed": 585,
     "status": "ok",
     "timestamp": 1574434075761,
     "user": {
      "displayName": "Jacinta Moore",
      "photoUrl": "",
      "userId": "14215851766389388616"
     },
     "user_tz": 300
    },
    "id": "nlVemw79rpvO",
    "outputId": "6f304e76-79aa-4c31-a088-8c5330a82553"
   },
   "outputs": [
    {
     "data": {
      "text/plain": [
       "264"
      ]
     },
     "execution_count": 112,
     "metadata": {},
     "output_type": "execute_result"
    }
   ],
   "source": [
    "(test_features['bedrooms']==0).sum()"
   ]
  },
  {
   "cell_type": "code",
   "execution_count": 113,
   "metadata": {
    "colab": {
     "base_uri": "https://localhost:8080/",
     "height": 34
    },
    "colab_type": "code",
    "executionInfo": {
     "elapsed": 515,
     "status": "ok",
     "timestamp": 1574434039682,
     "user": {
      "displayName": "Jacinta Moore",
      "photoUrl": "",
      "userId": "14215851766389388616"
     },
     "user_tz": 300
    },
    "id": "mV-eUQDGspWk",
    "outputId": "497e6440-15ff-4014-a42e-51a7f061ba64"
   },
   "outputs": [
    {
     "data": {
      "text/plain": [
       "253"
      ]
     },
     "execution_count": 113,
     "metadata": {},
     "output_type": "execute_result"
    }
   ],
   "source": [
    "(submit1_df['bedrooms']==0).sum()"
   ]
  },
  {
   "cell_type": "markdown",
   "metadata": {
    "colab_type": "text",
    "id": "2RqfEddy32cf"
   },
   "source": [
    "##### Large data points"
   ]
  },
  {
   "cell_type": "code",
   "execution_count": 49,
   "metadata": {
    "colab": {},
    "colab_type": "code",
    "id": "ZpVZasEf0ubq"
   },
   "outputs": [],
   "source": [
    "o_df = train_df.loc[train_df.size_sqft>=8000]"
   ]
  },
  {
   "cell_type": "code",
   "execution_count": 115,
   "metadata": {
    "colab": {
     "base_uri": "https://localhost:8080/",
     "height": 387
    },
    "colab_type": "code",
    "executionInfo": {
     "elapsed": 525,
     "status": "ok",
     "timestamp": 1574270638865,
     "user": {
      "displayName": "Jacinta Moore",
      "photoUrl": "",
      "userId": "14215851766389388616"
     },
     "user_tz": 300
    },
    "id": "7bVrJjpC1qYI",
    "outputId": "0b028906-5d11-4766-e3c2-81d53d2d7094"
   },
   "outputs": [
    {
     "data": {
      "text/html": [
       "<div>\n",
       "<style scoped>\n",
       "    .dataframe tbody tr th:only-of-type {\n",
       "        vertical-align: middle;\n",
       "    }\n",
       "\n",
       "    .dataframe tbody tr th {\n",
       "        vertical-align: top;\n",
       "    }\n",
       "\n",
       "    .dataframe thead th {\n",
       "        text-align: right;\n",
       "    }\n",
       "</style>\n",
       "<table border=\"1\" class=\"dataframe\">\n",
       "  <thead>\n",
       "    <tr style=\"text-align: right;\">\n",
       "      <th></th>\n",
       "      <th>addr_unit</th>\n",
       "      <th>building_id</th>\n",
       "      <th>bedrooms</th>\n",
       "      <th>bathrooms</th>\n",
       "      <th>size_sqft</th>\n",
       "      <th>created_at</th>\n",
       "      <th>addr_street</th>\n",
       "      <th>addr_city</th>\n",
       "      <th>addr_zip</th>\n",
       "      <th>addr_lat</th>\n",
       "      <th>...</th>\n",
       "      <th>rent</th>\n",
       "      <th>no_fee</th>\n",
       "      <th>description</th>\n",
       "      <th>neighborhood</th>\n",
       "      <th>borough</th>\n",
       "      <th>unit</th>\n",
       "      <th>floornumber</th>\n",
       "      <th>line</th>\n",
       "      <th>dist_centralPark</th>\n",
       "      <th>dist_timeSquare</th>\n",
       "    </tr>\n",
       "    <tr>\n",
       "      <th>rental_id</th>\n",
       "      <th></th>\n",
       "      <th></th>\n",
       "      <th></th>\n",
       "      <th></th>\n",
       "      <th></th>\n",
       "      <th></th>\n",
       "      <th></th>\n",
       "      <th></th>\n",
       "      <th></th>\n",
       "      <th></th>\n",
       "      <th></th>\n",
       "      <th></th>\n",
       "      <th></th>\n",
       "      <th></th>\n",
       "      <th></th>\n",
       "      <th></th>\n",
       "      <th></th>\n",
       "      <th></th>\n",
       "      <th></th>\n",
       "      <th></th>\n",
       "      <th></th>\n",
       "    </tr>\n",
       "  </thead>\n",
       "  <tbody>\n",
       "    <tr>\n",
       "      <td>7410124</td>\n",
       "      <td>#47</td>\n",
       "      <td>18246988</td>\n",
       "      <td>2</td>\n",
       "      <td>1.0</td>\n",
       "      <td>8500.0</td>\n",
       "      <td>2018-07-25 20:14:29</td>\n",
       "      <td>180 72 STREET</td>\n",
       "      <td>Brooklyn</td>\n",
       "      <td>11209</td>\n",
       "      <td>40.633999</td>\n",
       "      <td>...</td>\n",
       "      <td>2400</td>\n",
       "      <td>0</td>\n",
       "      <td>HOT!! HUGE 2 BEDROOM IN A BEAUTIFUL PREWAR  BU...</td>\n",
       "      <td>Bay Ridge</td>\n",
       "      <td>Brooklyn</td>\n",
       "      <td>47</td>\n",
       "      <td>47.0</td>\n",
       "      <td>NaN</td>\n",
       "      <td>17.153177</td>\n",
       "      <td>14.305187</td>\n",
       "    </tr>\n",
       "    <tr>\n",
       "      <td>7352536</td>\n",
       "      <td>#2</td>\n",
       "      <td>683038</td>\n",
       "      <td>2</td>\n",
       "      <td>1.0</td>\n",
       "      <td>10000.0</td>\n",
       "      <td>2018-07-10 18:03:07</td>\n",
       "      <td>1120 76 STREET</td>\n",
       "      <td>Brooklyn</td>\n",
       "      <td>11228</td>\n",
       "      <td>40.621860</td>\n",
       "      <td>...</td>\n",
       "      <td>2300</td>\n",
       "      <td>0</td>\n",
       "      <td>Beautiful two bedroom apartment in private hou...</td>\n",
       "      <td>Dyker Heights</td>\n",
       "      <td>Brooklyn</td>\n",
       "      <td>2</td>\n",
       "      <td>2.0</td>\n",
       "      <td>NaN</td>\n",
       "      <td>18.026849</td>\n",
       "      <td>15.303167</td>\n",
       "    </tr>\n",
       "    <tr>\n",
       "      <td>7148494</td>\n",
       "      <td>#3</td>\n",
       "      <td>1493896</td>\n",
       "      <td>5</td>\n",
       "      <td>1.0</td>\n",
       "      <td>9999.0</td>\n",
       "      <td>2018-05-04 17:04:02</td>\n",
       "      <td>801 WOODWARD AVENUE</td>\n",
       "      <td>Ridgewood</td>\n",
       "      <td>11385</td>\n",
       "      <td>40.703639</td>\n",
       "      <td>...</td>\n",
       "      <td>4000</td>\n",
       "      <td>1</td>\n",
       "      <td>NO FEE! Expansive, true 5BR/1.5BA full-floor a...</td>\n",
       "      <td>Ridgewood</td>\n",
       "      <td>Queens</td>\n",
       "      <td>3</td>\n",
       "      <td>3.0</td>\n",
       "      <td>NaN</td>\n",
       "      <td>9.964682</td>\n",
       "      <td>9.205950</td>\n",
       "    </tr>\n",
       "  </tbody>\n",
       "</table>\n",
       "<p>3 rows × 40 columns</p>\n",
       "</div>"
      ],
      "text/plain": [
       "          addr_unit  building_id  bedrooms  bathrooms  size_sqft  \\\n",
       "rental_id                                                          \n",
       "7410124         #47     18246988         2        1.0     8500.0   \n",
       "7352536          #2       683038         2        1.0    10000.0   \n",
       "7148494          #3      1493896         5        1.0     9999.0   \n",
       "\n",
       "                    created_at          addr_street  addr_city  addr_zip  \\\n",
       "rental_id                                                                  \n",
       "7410124    2018-07-25 20:14:29        180 72 STREET   Brooklyn     11209   \n",
       "7352536    2018-07-10 18:03:07       1120 76 STREET   Brooklyn     11228   \n",
       "7148494    2018-05-04 17:04:02  801 WOODWARD AVENUE  Ridgewood     11385   \n",
       "\n",
       "            addr_lat  ...  rent  no_fee  \\\n",
       "rental_id             ...                 \n",
       "7410124    40.633999  ...  2400       0   \n",
       "7352536    40.621860  ...  2300       0   \n",
       "7148494    40.703639  ...  4000       1   \n",
       "\n",
       "                                                 description   neighborhood  \\\n",
       "rental_id                                                                     \n",
       "7410124    HOT!! HUGE 2 BEDROOM IN A BEAUTIFUL PREWAR  BU...      Bay Ridge   \n",
       "7352536    Beautiful two bedroom apartment in private hou...  Dyker Heights   \n",
       "7148494    NO FEE! Expansive, true 5BR/1.5BA full-floor a...      Ridgewood   \n",
       "\n",
       "            borough  unit  floornumber  line  dist_centralPark  \\\n",
       "rental_id                                                        \n",
       "7410124    Brooklyn    47         47.0   NaN         17.153177   \n",
       "7352536    Brooklyn     2          2.0   NaN         18.026849   \n",
       "7148494      Queens     3          3.0   NaN          9.964682   \n",
       "\n",
       "           dist_timeSquare  \n",
       "rental_id                   \n",
       "7410124          14.305187  \n",
       "7352536          15.303167  \n",
       "7148494           9.205950  \n",
       "\n",
       "[3 rows x 40 columns]"
      ]
     },
     "execution_count": 115,
     "metadata": {},
     "output_type": "execute_result"
    }
   ],
   "source": [
    "o_df"
   ]
  },
  {
   "cell_type": "code",
   "execution_count": 50,
   "metadata": {
    "colab": {
     "base_uri": "https://localhost:8080/",
     "height": 547
    },
    "colab_type": "code",
    "executionInfo": {
     "elapsed": 400,
     "status": "ok",
     "timestamp": 1574271099355,
     "user": {
      "displayName": "Jacinta Moore",
      "photoUrl": "",
      "userId": "14215851766389388616"
     },
     "user_tz": 300
    },
    "id": "WTVs29D52N2_",
    "outputId": "5ca30304-0837-4658-b65b-13fac4edaf88"
   },
   "outputs": [
    {
     "data": {
      "text/html": [
       "<div>\n",
       "<style scoped>\n",
       "    .dataframe tbody tr th:only-of-type {\n",
       "        vertical-align: middle;\n",
       "    }\n",
       "\n",
       "    .dataframe tbody tr th {\n",
       "        vertical-align: top;\n",
       "    }\n",
       "\n",
       "    .dataframe thead th {\n",
       "        text-align: right;\n",
       "    }\n",
       "</style>\n",
       "<table border=\"1\" class=\"dataframe\">\n",
       "  <thead>\n",
       "    <tr style=\"text-align: right;\">\n",
       "      <th></th>\n",
       "      <th>addr_unit</th>\n",
       "      <th>building_id</th>\n",
       "      <th>bedrooms</th>\n",
       "      <th>bathrooms</th>\n",
       "      <th>size_sqft</th>\n",
       "      <th>created_at</th>\n",
       "      <th>addr_street</th>\n",
       "      <th>addr_city</th>\n",
       "      <th>addr_zip</th>\n",
       "      <th>addr_lat</th>\n",
       "      <th>...</th>\n",
       "      <th>has_childrens_playroom</th>\n",
       "      <th>rent</th>\n",
       "      <th>no_fee</th>\n",
       "      <th>description</th>\n",
       "      <th>neighborhood</th>\n",
       "      <th>borough</th>\n",
       "      <th>unit</th>\n",
       "      <th>floornumber</th>\n",
       "      <th>line</th>\n",
       "      <th>dist_centralPark</th>\n",
       "    </tr>\n",
       "    <tr>\n",
       "      <th>rental_id</th>\n",
       "      <th></th>\n",
       "      <th></th>\n",
       "      <th></th>\n",
       "      <th></th>\n",
       "      <th></th>\n",
       "      <th></th>\n",
       "      <th></th>\n",
       "      <th></th>\n",
       "      <th></th>\n",
       "      <th></th>\n",
       "      <th></th>\n",
       "      <th></th>\n",
       "      <th></th>\n",
       "      <th></th>\n",
       "      <th></th>\n",
       "      <th></th>\n",
       "      <th></th>\n",
       "      <th></th>\n",
       "      <th></th>\n",
       "      <th></th>\n",
       "      <th></th>\n",
       "    </tr>\n",
       "  </thead>\n",
       "  <tbody>\n",
       "    <tr>\n",
       "      <td>7204471</td>\n",
       "      <td>#1</td>\n",
       "      <td>205114</td>\n",
       "      <td>8</td>\n",
       "      <td>3.0</td>\n",
       "      <td>3500.0</td>\n",
       "      <td>2018-05-24 03:09:47</td>\n",
       "      <td>98 LINCOLN PLACE</td>\n",
       "      <td>Brooklyn</td>\n",
       "      <td>11217</td>\n",
       "      <td>40.676331</td>\n",
       "      <td>...</td>\n",
       "      <td>0</td>\n",
       "      <td>15000</td>\n",
       "      <td>0</td>\n",
       "      <td>This gorgeous four story home radiates eleganc...</td>\n",
       "      <td>Park Slope</td>\n",
       "      <td>Brooklyn</td>\n",
       "      <td>1</td>\n",
       "      <td>1.0</td>\n",
       "      <td>NaN</td>\n",
       "      <td>11.570058</td>\n",
       "    </tr>\n",
       "    <tr>\n",
       "      <td>7217803</td>\n",
       "      <td>#UPPER</td>\n",
       "      <td>20905</td>\n",
       "      <td>7</td>\n",
       "      <td>4.0</td>\n",
       "      <td>5000.0</td>\n",
       "      <td>2018-05-29 21:15:31</td>\n",
       "      <td>116 SULLIVAN STREET</td>\n",
       "      <td>New York</td>\n",
       "      <td>10012</td>\n",
       "      <td>40.726101</td>\n",
       "      <td>...</td>\n",
       "      <td>0</td>\n",
       "      <td>45000</td>\n",
       "      <td>0</td>\n",
       "      <td>The Upper Apartment at 116 Sullivan Street is ...</td>\n",
       "      <td>Soho</td>\n",
       "      <td>Manhattan</td>\n",
       "      <td>UPPER</td>\n",
       "      <td>NaN</td>\n",
       "      <td>NaN</td>\n",
       "      <td>6.790507</td>\n",
       "    </tr>\n",
       "    <tr>\n",
       "      <td>7356136</td>\n",
       "      <td>NaN</td>\n",
       "      <td>71734</td>\n",
       "      <td>7</td>\n",
       "      <td>4.0</td>\n",
       "      <td>6950.0</td>\n",
       "      <td>2018-07-11 15:50:18</td>\n",
       "      <td>461 EAST 57 STREET</td>\n",
       "      <td>New York</td>\n",
       "      <td>10022</td>\n",
       "      <td>40.757728</td>\n",
       "      <td>...</td>\n",
       "      <td>0</td>\n",
       "      <td>25000</td>\n",
       "      <td>0</td>\n",
       "      <td>461 East 57th Street is a grand 32’ wide, four...</td>\n",
       "      <td>Midtown East</td>\n",
       "      <td>Manhattan</td>\n",
       "      <td>NaN</td>\n",
       "      <td>NaN</td>\n",
       "      <td>NaN</td>\n",
       "      <td>2.501412</td>\n",
       "    </tr>\n",
       "    <tr>\n",
       "      <td>7146658</td>\n",
       "      <td>NaN</td>\n",
       "      <td>56881</td>\n",
       "      <td>7</td>\n",
       "      <td>7.0</td>\n",
       "      <td>7000.0</td>\n",
       "      <td>2018-05-04 12:49:49</td>\n",
       "      <td>51 WEST 73 STREET</td>\n",
       "      <td>New York</td>\n",
       "      <td>10023</td>\n",
       "      <td>40.777983</td>\n",
       "      <td>...</td>\n",
       "      <td>0</td>\n",
       "      <td>29500</td>\n",
       "      <td>0</td>\n",
       "      <td>This park block single family ELEVATOR townhou...</td>\n",
       "      <td>Upper West Side</td>\n",
       "      <td>Manhattan</td>\n",
       "      <td>NaN</td>\n",
       "      <td>NaN</td>\n",
       "      <td>NaN</td>\n",
       "      <td>1.070336</td>\n",
       "    </tr>\n",
       "    <tr>\n",
       "      <td>7371637</td>\n",
       "      <td>#1</td>\n",
       "      <td>283312</td>\n",
       "      <td>7</td>\n",
       "      <td>2.0</td>\n",
       "      <td>1800.0</td>\n",
       "      <td>2018-07-16 16:27:49</td>\n",
       "      <td>1033A DE KALB AVENUE</td>\n",
       "      <td>Brooklyn</td>\n",
       "      <td>11221</td>\n",
       "      <td>40.693642</td>\n",
       "      <td>...</td>\n",
       "      <td>0</td>\n",
       "      <td>4195</td>\n",
       "      <td>1</td>\n",
       "      <td>This is a huge floor through apt. with no less...</td>\n",
       "      <td>Bedford-Stuyvesant</td>\n",
       "      <td>Brooklyn</td>\n",
       "      <td>1</td>\n",
       "      <td>1.0</td>\n",
       "      <td>NaN</td>\n",
       "      <td>9.959251</td>\n",
       "    </tr>\n",
       "  </tbody>\n",
       "</table>\n",
       "<p>5 rows × 39 columns</p>\n",
       "</div>"
      ],
      "text/plain": [
       "          addr_unit  building_id  bedrooms  bathrooms  size_sqft  \\\n",
       "rental_id                                                          \n",
       "7204471          #1       205114         8        3.0     3500.0   \n",
       "7217803      #UPPER        20905         7        4.0     5000.0   \n",
       "7356136         NaN        71734         7        4.0     6950.0   \n",
       "7146658         NaN        56881         7        7.0     7000.0   \n",
       "7371637          #1       283312         7        2.0     1800.0   \n",
       "\n",
       "                    created_at           addr_street addr_city  addr_zip  \\\n",
       "rental_id                                                                  \n",
       "7204471    2018-05-24 03:09:47      98 LINCOLN PLACE  Brooklyn     11217   \n",
       "7217803    2018-05-29 21:15:31   116 SULLIVAN STREET  New York     10012   \n",
       "7356136    2018-07-11 15:50:18    461 EAST 57 STREET  New York     10022   \n",
       "7146658    2018-05-04 12:49:49     51 WEST 73 STREET  New York     10023   \n",
       "7371637    2018-07-16 16:27:49  1033A DE KALB AVENUE  Brooklyn     11221   \n",
       "\n",
       "            addr_lat  ...  has_childrens_playroom   rent  no_fee  \\\n",
       "rental_id             ...                                          \n",
       "7204471    40.676331  ...                       0  15000       0   \n",
       "7217803    40.726101  ...                       0  45000       0   \n",
       "7356136    40.757728  ...                       0  25000       0   \n",
       "7146658    40.777983  ...                       0  29500       0   \n",
       "7371637    40.693642  ...                       0   4195       1   \n",
       "\n",
       "                                                 description  \\\n",
       "rental_id                                                      \n",
       "7204471    This gorgeous four story home radiates eleganc...   \n",
       "7217803    The Upper Apartment at 116 Sullivan Street is ...   \n",
       "7356136    461 East 57th Street is a grand 32’ wide, four...   \n",
       "7146658    This park block single family ELEVATOR townhou...   \n",
       "7371637    This is a huge floor through apt. with no less...   \n",
       "\n",
       "                 neighborhood    borough   unit  floornumber  line  \\\n",
       "rental_id                                                            \n",
       "7204471            Park Slope   Brooklyn      1          1.0   NaN   \n",
       "7217803                  Soho  Manhattan  UPPER          NaN   NaN   \n",
       "7356136          Midtown East  Manhattan    NaN          NaN   NaN   \n",
       "7146658       Upper West Side  Manhattan    NaN          NaN   NaN   \n",
       "7371637    Bedford-Stuyvesant   Brooklyn      1          1.0   NaN   \n",
       "\n",
       "           dist_centralPark  \n",
       "rental_id                    \n",
       "7204471           11.570058  \n",
       "7217803            6.790507  \n",
       "7356136            2.501412  \n",
       "7146658            1.070336  \n",
       "7371637            9.959251  \n",
       "\n",
       "[5 rows x 39 columns]"
      ]
     },
     "execution_count": 50,
     "metadata": {},
     "output_type": "execute_result"
    }
   ],
   "source": [
    "obd_df = train_df.loc[train_df.bedrooms> 6]\n",
    "obd_df"
   ]
  },
  {
   "cell_type": "code",
   "execution_count": 51,
   "metadata": {
    "colab": {
     "base_uri": "https://localhost:8080/",
     "height": 270
    },
    "colab_type": "code",
    "executionInfo": {
     "elapsed": 401,
     "status": "ok",
     "timestamp": 1574270902302,
     "user": {
      "displayName": "Jacinta Moore",
      "photoUrl": "",
      "userId": "14215851766389388616"
     },
     "user_tz": 300
    },
    "id": "qvPoZyl-2qO9",
    "outputId": "bda4199e-325a-437a-a0c9-e5a00ee0298b"
   },
   "outputs": [
    {
     "data": {
      "text/html": [
       "<div>\n",
       "<style scoped>\n",
       "    .dataframe tbody tr th:only-of-type {\n",
       "        vertical-align: middle;\n",
       "    }\n",
       "\n",
       "    .dataframe tbody tr th {\n",
       "        vertical-align: top;\n",
       "    }\n",
       "\n",
       "    .dataframe thead th {\n",
       "        text-align: right;\n",
       "    }\n",
       "</style>\n",
       "<table border=\"1\" class=\"dataframe\">\n",
       "  <thead>\n",
       "    <tr style=\"text-align: right;\">\n",
       "      <th></th>\n",
       "      <th>addr_unit</th>\n",
       "      <th>building_id</th>\n",
       "      <th>bedrooms</th>\n",
       "      <th>bathrooms</th>\n",
       "      <th>size_sqft</th>\n",
       "      <th>created_at</th>\n",
       "      <th>addr_street</th>\n",
       "      <th>addr_city</th>\n",
       "      <th>addr_zip</th>\n",
       "      <th>addr_lat</th>\n",
       "      <th>...</th>\n",
       "      <th>has_childrens_playroom</th>\n",
       "      <th>rent</th>\n",
       "      <th>no_fee</th>\n",
       "      <th>description</th>\n",
       "      <th>neighborhood</th>\n",
       "      <th>borough</th>\n",
       "      <th>unit</th>\n",
       "      <th>floornumber</th>\n",
       "      <th>line</th>\n",
       "      <th>dist_centralPark</th>\n",
       "    </tr>\n",
       "    <tr>\n",
       "      <th>rental_id</th>\n",
       "      <th></th>\n",
       "      <th></th>\n",
       "      <th></th>\n",
       "      <th></th>\n",
       "      <th></th>\n",
       "      <th></th>\n",
       "      <th></th>\n",
       "      <th></th>\n",
       "      <th></th>\n",
       "      <th></th>\n",
       "      <th></th>\n",
       "      <th></th>\n",
       "      <th></th>\n",
       "      <th></th>\n",
       "      <th></th>\n",
       "      <th></th>\n",
       "      <th></th>\n",
       "      <th></th>\n",
       "      <th></th>\n",
       "      <th></th>\n",
       "      <th></th>\n",
       "    </tr>\n",
       "  </thead>\n",
       "  <tbody>\n",
       "    <tr>\n",
       "      <td>7236325</td>\n",
       "      <td>#7</td>\n",
       "      <td>87595</td>\n",
       "      <td>2</td>\n",
       "      <td>20.0</td>\n",
       "      <td>1200.0</td>\n",
       "      <td>2018-06-04 15:07:12</td>\n",
       "      <td>420 EAST 86 STREET</td>\n",
       "      <td>New York</td>\n",
       "      <td>10028</td>\n",
       "      <td>40.776358</td>\n",
       "      <td>...</td>\n",
       "      <td>0</td>\n",
       "      <td>5000</td>\n",
       "      <td>0</td>\n",
       "      <td>.</td>\n",
       "      <td>Upper East Side</td>\n",
       "      <td>Manhattan</td>\n",
       "      <td>7</td>\n",
       "      <td>NaN</td>\n",
       "      <td>NaN</td>\n",
       "      <td>1.414322</td>\n",
       "    </tr>\n",
       "    <tr>\n",
       "      <td>7151821</td>\n",
       "      <td>#6</td>\n",
       "      <td>126724</td>\n",
       "      <td>3</td>\n",
       "      <td>12.0</td>\n",
       "      <td>1200.0</td>\n",
       "      <td>2018-05-06 20:10:38</td>\n",
       "      <td>821 RIVERSIDE DRIVE</td>\n",
       "      <td>New York</td>\n",
       "      <td>10032</td>\n",
       "      <td>40.835610</td>\n",
       "      <td>...</td>\n",
       "      <td>0</td>\n",
       "      <td>3200</td>\n",
       "      <td>1</td>\n",
       "      <td>Washington Heights\\nOversized True 3 Bedroom\\n...</td>\n",
       "      <td>Washington Heights</td>\n",
       "      <td>Manhattan</td>\n",
       "      <td>6</td>\n",
       "      <td>6.0</td>\n",
       "      <td>NaN</td>\n",
       "      <td>6.383994</td>\n",
       "    </tr>\n",
       "    <tr>\n",
       "      <td>7160572</td>\n",
       "      <td>#D</td>\n",
       "      <td>951334</td>\n",
       "      <td>2</td>\n",
       "      <td>12.0</td>\n",
       "      <td>1069.0</td>\n",
       "      <td>2018-05-09 10:46:26</td>\n",
       "      <td>105 OCEANA DRIVE EAST</td>\n",
       "      <td>Brooklyn</td>\n",
       "      <td>11235</td>\n",
       "      <td>40.576302</td>\n",
       "      <td>...</td>\n",
       "      <td>0</td>\n",
       "      <td>2700</td>\n",
       "      <td>0</td>\n",
       "      <td>Nice 2 bed 2bath at Oceana Condominium&amp;Club\\r\\...</td>\n",
       "      <td>Brighton Beach</td>\n",
       "      <td>Brooklyn</td>\n",
       "      <td>D</td>\n",
       "      <td>NaN</td>\n",
       "      <td>NaN</td>\n",
       "      <td>22.659068</td>\n",
       "    </tr>\n",
       "  </tbody>\n",
       "</table>\n",
       "<p>3 rows × 39 columns</p>\n",
       "</div>"
      ],
      "text/plain": [
       "          addr_unit  building_id  bedrooms  bathrooms  size_sqft  \\\n",
       "rental_id                                                          \n",
       "7236325          #7        87595         2       20.0     1200.0   \n",
       "7151821          #6       126724         3       12.0     1200.0   \n",
       "7160572          #D       951334         2       12.0     1069.0   \n",
       "\n",
       "                    created_at            addr_street addr_city  addr_zip  \\\n",
       "rental_id                                                                   \n",
       "7236325    2018-06-04 15:07:12     420 EAST 86 STREET  New York     10028   \n",
       "7151821    2018-05-06 20:10:38    821 RIVERSIDE DRIVE  New York     10032   \n",
       "7160572    2018-05-09 10:46:26  105 OCEANA DRIVE EAST  Brooklyn     11235   \n",
       "\n",
       "            addr_lat  ...  has_childrens_playroom  rent  no_fee  \\\n",
       "rental_id             ...                                         \n",
       "7236325    40.776358  ...                       0  5000       0   \n",
       "7151821    40.835610  ...                       0  3200       1   \n",
       "7160572    40.576302  ...                       0  2700       0   \n",
       "\n",
       "                                                 description  \\\n",
       "rental_id                                                      \n",
       "7236325                                                    .   \n",
       "7151821    Washington Heights\\nOversized True 3 Bedroom\\n...   \n",
       "7160572    Nice 2 bed 2bath at Oceana Condominium&Club\\r\\...   \n",
       "\n",
       "                 neighborhood    borough  unit  floornumber  line  \\\n",
       "rental_id                                                           \n",
       "7236325       Upper East Side  Manhattan     7          NaN   NaN   \n",
       "7151821    Washington Heights  Manhattan     6          6.0   NaN   \n",
       "7160572        Brighton Beach   Brooklyn     D          NaN   NaN   \n",
       "\n",
       "           dist_centralPark  \n",
       "rental_id                    \n",
       "7236325            1.414322  \n",
       "7151821            6.383994  \n",
       "7160572           22.659068  \n",
       "\n",
       "[3 rows x 39 columns]"
      ]
     },
     "execution_count": 51,
     "metadata": {},
     "output_type": "execute_result"
    }
   ],
   "source": [
    "obath_df = train_df.loc[train_df.bathrooms>=8]\n",
    "obath_df\n",
    "## Clearly row 7160572 of 12 bathrooms is an error as the description says 2 bed 2 bath\n",
    "## row 7236325 also seems an error as there are only 2 bedrooms, most likely it should be 2 bath"
   ]
  },
  {
   "cell_type": "markdown",
   "metadata": {
    "colab_type": "text",
    "id": "9ZXTYUh73_Z5"
   },
   "source": [
    "At this point we are going to just be mindful of the outliers. In Part 2 we may consider adjusting these but it will depend if they will have an impact upon the results. At the moment they are only a couple of points out of 12,000."
   ]
  },
  {
   "cell_type": "markdown",
   "metadata": {
    "colab_type": "text",
    "id": "aPjrrxHJot6h"
   },
   "source": [
    "## Data Modelling \n",
    "This section we look at different models and model our training data"
   ]
  },
  {
   "cell_type": "code",
   "execution_count": 52,
   "metadata": {
    "colab": {
     "base_uri": "https://localhost:8080/",
     "height": 202
    },
    "colab_type": "code",
    "executionInfo": {
     "elapsed": 1560,
     "status": "ok",
     "timestamp": 1574435479871,
     "user": {
      "displayName": "Jacinta Moore",
      "photoUrl": "",
      "userId": "14215851766389388616"
     },
     "user_tz": 300
    },
    "id": "sgsw3jxTpHL5",
    "outputId": "91513f4c-ef66-4175-9a74-5f35c2b10f69"
   },
   "outputs": [
    {
     "name": "stderr",
     "output_type": "stream",
     "text": [
      "c:\\users\\taimoor\\appdata\\local\\programs\\python\\python37-32\\lib\\site-packages\\sklearn\\ensemble\\forest.py:245: FutureWarning: The default value of n_estimators will change from 10 in version 0.20 to 100 in 0.22.\n",
      "  \"10 in version 0.20 to 100 in 0.22.\", FutureWarning)\n"
     ]
    },
    {
     "data": {
      "text/plain": [
       "GradientBoostingRegressor(alpha=0.9, criterion='friedman_mse', init=None,\n",
       "                          learning_rate=0.1, loss='ls', max_depth=3,\n",
       "                          max_features=None, max_leaf_nodes=None,\n",
       "                          min_impurity_decrease=0.0, min_impurity_split=None,\n",
       "                          min_samples_leaf=1, min_samples_split=2,\n",
       "                          min_weight_fraction_leaf=0.0, n_estimators=100,\n",
       "                          n_iter_no_change=None, presort='auto',\n",
       "                          random_state=None, subsample=1.0, tol=0.0001,\n",
       "                          validation_fraction=0.1, verbose=0, warm_start=False)"
      ]
     },
     "execution_count": 52,
     "metadata": {},
     "output_type": "execute_result"
    }
   ],
   "source": [
    "# training a linear regression model\n",
    "lreg = LinearRegression()\n",
    "lreg.fit(train_features, train_target)\n",
    "\n",
    "# training a random forest regression model\n",
    "rf = RandomForestRegressor()\n",
    "rf.fit(train_features, train_target)\n",
    "\n",
    "#training a gradient boosting regressor\n",
    "gbt = GradientBoostingRegressor( )\n",
    "gbt.fit(train_features, train_target)"
   ]
  },
  {
   "cell_type": "code",
   "execution_count": 53,
   "metadata": {
    "colab": {},
    "colab_type": "code",
    "id": "8sNqibK39M43"
   },
   "outputs": [],
   "source": [
    "test_features = test_df[feature_cols] \n",
    "\n",
    "# impute missing values with medians\n",
    "test_features = test_features.fillna(train_features.median(), axis=0)"
   ]
  },
  {
   "cell_type": "code",
   "execution_count": 54,
   "metadata": {
    "colab": {
     "base_uri": "https://localhost:8080/",
     "height": 34
    },
    "colab_type": "code",
    "executionInfo": {
     "elapsed": 589,
     "status": "ok",
     "timestamp": 1574435487189,
     "user": {
      "displayName": "Jacinta Moore",
      "photoUrl": "",
      "userId": "14215851766389388616"
     },
     "user_tz": 300
    },
    "id": "eb0I0fZM8E7R",
    "outputId": "3ddbf70a-7b8f-48b9-976e-1feb3855bd5d"
   },
   "outputs": [
    {
     "data": {
      "text/plain": [
       "3674316.282033362"
      ]
     },
     "execution_count": 54,
     "metadata": {},
     "output_type": "execute_result"
    }
   ],
   "source": [
    "# construct predictions for linear regression \n",
    "test_df['predicted'] = lreg.predict(test_features)\n",
    "\n",
    "mean_squared_error(test_df['rent'], test_df['predicted'])"
   ]
  },
  {
   "cell_type": "code",
   "execution_count": 55,
   "metadata": {
    "colab": {
     "base_uri": "https://localhost:8080/",
     "height": 314
    },
    "colab_type": "code",
    "executionInfo": {
     "elapsed": 820,
     "status": "ok",
     "timestamp": 1574435489349,
     "user": {
      "displayName": "Jacinta Moore",
      "photoUrl": "",
      "userId": "14215851766389388616"
     },
     "user_tz": 300
    },
    "id": "4gni9W5AitcY",
    "outputId": "8edd566e-dd7d-4967-96b2-399de25d5840"
   },
   "outputs": [
    {
     "data": {
      "text/html": [
       "<div>\n",
       "<style scoped>\n",
       "    .dataframe tbody tr th:only-of-type {\n",
       "        vertical-align: middle;\n",
       "    }\n",
       "\n",
       "    .dataframe tbody tr th {\n",
       "        vertical-align: top;\n",
       "    }\n",
       "\n",
       "    .dataframe thead th {\n",
       "        text-align: right;\n",
       "    }\n",
       "</style>\n",
       "<table border=\"1\" class=\"dataframe\">\n",
       "  <thead>\n",
       "    <tr style=\"text-align: right;\">\n",
       "      <th></th>\n",
       "      <th>Est. Coefficient</th>\n",
       "    </tr>\n",
       "  </thead>\n",
       "  <tbody>\n",
       "    <tr>\n",
       "      <td>bedrooms</td>\n",
       "      <td>93.820141</td>\n",
       "    </tr>\n",
       "    <tr>\n",
       "      <td>year_built</td>\n",
       "      <td>-0.253577</td>\n",
       "    </tr>\n",
       "    <tr>\n",
       "      <td>bathrooms</td>\n",
       "      <td>1565.136826</td>\n",
       "    </tr>\n",
       "    <tr>\n",
       "      <td>min_to_subway</td>\n",
       "      <td>-0.009551</td>\n",
       "    </tr>\n",
       "    <tr>\n",
       "      <td>size_sqft</td>\n",
       "      <td>2.370571</td>\n",
       "    </tr>\n",
       "    <tr>\n",
       "      <td>no_fee</td>\n",
       "      <td>-211.058513</td>\n",
       "    </tr>\n",
       "    <tr>\n",
       "      <td>has_doorman</td>\n",
       "      <td>983.643437</td>\n",
       "    </tr>\n",
       "    <tr>\n",
       "      <td>has_washer_dryer</td>\n",
       "      <td>556.495863</td>\n",
       "    </tr>\n",
       "    <tr>\n",
       "      <td>floornumber</td>\n",
       "      <td>46.939678</td>\n",
       "    </tr>\n",
       "  </tbody>\n",
       "</table>\n",
       "</div>"
      ],
      "text/plain": [
       "                  Est. Coefficient\n",
       "bedrooms                 93.820141\n",
       "year_built               -0.253577\n",
       "bathrooms              1565.136826\n",
       "min_to_subway            -0.009551\n",
       "size_sqft                 2.370571\n",
       "no_fee                 -211.058513\n",
       "has_doorman             983.643437\n",
       "has_washer_dryer        556.495863\n",
       "floornumber              46.939678"
      ]
     },
     "execution_count": 55,
     "metadata": {},
     "output_type": "execute_result"
    }
   ],
   "source": [
    "pd.DataFrame(lreg.coef_, index=feature_cols,  columns = ['Est. Coefficient'])"
   ]
  },
  {
   "cell_type": "code",
   "execution_count": 56,
   "metadata": {
    "colab": {
     "base_uri": "https://localhost:8080/",
     "height": 305
    },
    "colab_type": "code",
    "executionInfo": {
     "elapsed": 998,
     "status": "ok",
     "timestamp": 1574435494831,
     "user": {
      "displayName": "Jacinta Moore",
      "photoUrl": "",
      "userId": "14215851766389388616"
     },
     "user_tz": 300
    },
    "id": "pswqLCf5kZdP",
    "outputId": "7b2d9830-b46b-4c6e-bb04-03dd94d49fee"
   },
   "outputs": [
    {
     "data": {
      "image/png": "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\n",
      "text/plain": [
       "<Figure size 432x288 with 1 Axes>"
      ]
     },
     "metadata": {
      "needs_background": "light"
     },
     "output_type": "display_data"
    }
   ],
   "source": [
    "_ = plt.scatter(train_df['rent'], lreg.predict(train_features))\n",
    "_ = plt.xlabel(\"Rents: $Y_i$\")\n",
    "_ = plt.ylabel(\"Predicted rents: $\\hat{Y}_i$\")\n",
    "_ = plt.title(\"Rents vs Predicted Rents: $Y_i$ vs $\\hat{Y}_i$\")\n",
    "_ = plt.plot([0, 20000], [0, 20000], linewidth=4, color='red')"
   ]
  },
  {
   "cell_type": "code",
   "execution_count": 57,
   "metadata": {
    "colab": {
     "base_uri": "https://localhost:8080/",
     "height": 34
    },
    "colab_type": "code",
    "executionInfo": {
     "elapsed": 504,
     "status": "ok",
     "timestamp": 1574435496806,
     "user": {
      "displayName": "Jacinta Moore",
      "photoUrl": "",
      "userId": "14215851766389388616"
     },
     "user_tz": 300
    },
    "id": "Sp72Ave09snn",
    "outputId": "9db18233-1d6e-44aa-f7bd-e0f845342186"
   },
   "outputs": [
    {
     "data": {
      "text/plain": [
       "2600653.142801305"
      ]
     },
     "execution_count": 57,
     "metadata": {},
     "output_type": "execute_result"
    }
   ],
   "source": [
    "# construct predictions for random forest regression\n",
    "test_df['predicted'] = rf.predict(test_features)\n",
    "\n",
    "mean_squared_error(test_df['rent'], test_df['predicted'])"
   ]
  },
  {
   "cell_type": "code",
   "execution_count": 58,
   "metadata": {
    "colab": {
     "base_uri": "https://localhost:8080/",
     "height": 34
    },
    "colab_type": "code",
    "executionInfo": {
     "elapsed": 630,
     "status": "ok",
     "timestamp": 1574435502551,
     "user": {
      "displayName": "Jacinta Moore",
      "photoUrl": "",
      "userId": "14215851766389388616"
     },
     "user_tz": 300
    },
    "id": "9eDsuYKX9ouI",
    "outputId": "069309a5-4b41-4290-b30a-5a81d8ae6161"
   },
   "outputs": [
    {
     "data": {
      "text/plain": [
       "2368364.235089532"
      ]
     },
     "execution_count": 58,
     "metadata": {},
     "output_type": "execute_result"
    }
   ],
   "source": [
    "# construct predictions for gradient boosting regression\n",
    "test_df['predicted'] = gbt.predict(test_features)\n",
    "\n",
    "mean_squared_error(test_df['rent'], test_df['predicted'])"
   ]
  },
  {
   "cell_type": "markdown",
   "metadata": {
    "colab_type": "text",
    "id": "nLFP6LTykfII"
   },
   "source": [
    "### 2. Model 2: Adding an additional feature: Distance to Central Park"
   ]
  },
  {
   "cell_type": "code",
   "execution_count": 59,
   "metadata": {
    "colab": {
     "base_uri": "https://localhost:8080/",
     "height": 202
    },
    "colab_type": "code",
    "executionInfo": {
     "elapsed": 1631,
     "status": "ok",
     "timestamp": 1574436661570,
     "user": {
      "displayName": "Jacinta Moore",
      "photoUrl": "",
      "userId": "14215851766389388616"
     },
     "user_tz": 300
    },
    "id": "rmIFaPmYnGEa",
    "outputId": "748b0b95-40ad-4708-855c-05cbb0c92f80"
   },
   "outputs": [
    {
     "name": "stderr",
     "output_type": "stream",
     "text": [
      "c:\\users\\taimoor\\appdata\\local\\programs\\python\\python37-32\\lib\\site-packages\\sklearn\\ensemble\\forest.py:245: FutureWarning: The default value of n_estimators will change from 10 in version 0.20 to 100 in 0.22.\n",
      "  \"10 in version 0.20 to 100 in 0.22.\", FutureWarning)\n"
     ]
    },
    {
     "data": {
      "text/plain": [
       "GradientBoostingRegressor(alpha=0.9, criterion='friedman_mse', init=None,\n",
       "                          learning_rate=0.1, loss='ls', max_depth=3,\n",
       "                          max_features=None, max_leaf_nodes=None,\n",
       "                          min_impurity_decrease=0.0, min_impurity_split=None,\n",
       "                          min_samples_leaf=1, min_samples_split=2,\n",
       "                          min_weight_fraction_leaf=0.0, n_estimators=100,\n",
       "                          n_iter_no_change=None, presort='auto',\n",
       "                          random_state=None, subsample=1.0, tol=0.0001,\n",
       "                          validation_fraction=0.1, verbose=0, warm_start=False)"
      ]
     },
     "execution_count": 59,
     "metadata": {},
     "output_type": "execute_result"
    }
   ],
   "source": [
    "# training and test model for train_df2\n",
    "# training a linear regression model\n",
    "lreg2 = LinearRegression()\n",
    "lreg2.fit(train_features2, train_target2)\n",
    "\n",
    "# training a random forest regression model\n",
    "rf2 = RandomForestRegressor()\n",
    "rf2.fit(train_features2, train_target2)\n",
    "\n",
    "#training a gradient boosting regressor\n",
    "gbt2 = GradientBoostingRegressor( )\n",
    "gbt2.fit(train_features2, train_target2)\n"
   ]
  },
  {
   "cell_type": "code",
   "execution_count": 60,
   "metadata": {
    "colab": {},
    "colab_type": "code",
    "id": "sUYGoFELn_Hm"
   },
   "outputs": [],
   "source": [
    "test_features2 = test_df2[feature_cols2] \n",
    "\n",
    "# impute missing values with medians\n",
    "test_features2 = test_features2.fillna(train_features2.median(), axis=0)"
   ]
  },
  {
   "cell_type": "code",
   "execution_count": 61,
   "metadata": {
    "colab": {
     "base_uri": "https://localhost:8080/",
     "height": 34
    },
    "colab_type": "code",
    "executionInfo": {
     "elapsed": 788,
     "status": "ok",
     "timestamp": 1574436675990,
     "user": {
      "displayName": "Jacinta Moore",
      "photoUrl": "",
      "userId": "14215851766389388616"
     },
     "user_tz": 300
    },
    "id": "a0H6idztoHEs",
    "outputId": "6389db4b-972e-4396-8c39-83b2202f49a9",
    "scrolled": true
   },
   "outputs": [
    {
     "data": {
      "text/plain": [
       "3475046.587785153"
      ]
     },
     "execution_count": 61,
     "metadata": {},
     "output_type": "execute_result"
    }
   ],
   "source": [
    "# construct predictions for linear regression \n",
    "test_df2['predicted'] = lreg2.predict(test_features2)\n",
    "\n",
    "mean_squared_error(test_df2['rent'], test_df2['predicted'])"
   ]
  },
  {
   "cell_type": "code",
   "execution_count": 67,
   "metadata": {
    "colab": {
     "base_uri": "https://localhost:8080/",
     "height": 34
    },
    "colab_type": "code",
    "executionInfo": {
     "elapsed": 838,
     "status": "ok",
     "timestamp": 1574436687867,
     "user": {
      "displayName": "Jacinta Moore",
      "photoUrl": "",
      "userId": "14215851766389388616"
     },
     "user_tz": 300
    },
    "id": "Tt5WXyY-oK5M",
    "outputId": "fd513d32-a5be-46c7-8959-fb5647061f89",
    "scrolled": true
   },
   "outputs": [
    {
     "data": {
      "text/plain": [
       "2011715.112142273"
      ]
     },
     "execution_count": 67,
     "metadata": {},
     "output_type": "execute_result"
    }
   ],
   "source": [
    "# construct predictions for random forest regression\n",
    "test_df2['predicted'] = rf2.predict(test_features2)\n",
    "\n",
    "mean_squared_error(test_df2['rent'], test_df2['predicted'])"
   ]
  },
  {
   "cell_type": "markdown",
   "metadata": {
    "colab_type": "text",
    "id": "9IVaqCL3pKBX"
   },
   "source": [
    "## Summary of Results and Further Work\n",
    "This section we look at the results of the modelling. Compare the results of the different models and then make decisions about further work to try improve the accuracy of our model in predicting the rents."
   ]
  },
  {
   "cell_type": "markdown",
   "metadata": {
    "colab_type": "text",
    "id": "CfvBsqOD_34F"
   },
   "source": [
    "|        Model       |                  Description              |         MSE       |\n",
    "|:-------------------|:-----------------------------------------:|------------------:|\n",
    "|  Linear Regression |         train_df: No additional data      | 3674316.2820333852|\n",
    "|  Random Forrest    |            train_df: No additional        | 2284878.990318595 |\n",
    "|  Gradient Boosting |            train_df: No additional        | 2367734.7918685228|\n",
    "|  Linear Regression | train_df2: Central Park distance included | 3475046.5877851504|\n",
    "|   Random Forrest   | train_df2: Central Park distance included | 2160942.3482092246|\n"
   ]
  },
  {
   "cell_type": "code",
   "execution_count": 69,
   "metadata": {
    "colab": {
     "base_uri": "https://localhost:8080/",
     "height": 202
    },
    "colab_type": "code",
    "executionInfo": {
     "elapsed": 490,
     "status": "ok",
     "timestamp": 1574435539314,
     "user": {
      "displayName": "Jacinta Moore",
      "photoUrl": "",
      "userId": "14215851766389388616"
     },
     "user_tz": 300
    },
    "id": "myzjIGHjpDdT",
    "outputId": "1c9a8837-ed11-4f8d-f41d-0daefa88e75e"
   },
   "outputs": [
    {
     "name": "stdout",
     "output_type": "stream",
     "text": [
      "Variable: size_sqft            Importance: 0.55\n",
      "Variable: bathrooms            Importance: 0.15\n",
      "Variable: dist_centralPark     Importance: 0.11\n",
      "Variable: floornumber          Importance: 0.05\n",
      "Variable: year_built           Importance: 0.04\n",
      "Variable: min_to_subway        Importance: 0.03\n",
      "Variable: bedrooms             Importance: 0.02\n",
      "Variable: has_doorman          Importance: 0.02\n",
      "Variable: no_fee               Importance: 0.01\n",
      "Variable: has_washer_dryer     Importance: 0.01\n"
     ]
    },
    {
     "data": {
      "text/plain": [
       "[None, None, None, None, None, None, None, None, None, None]"
      ]
     },
     "execution_count": 69,
     "metadata": {},
     "output_type": "execute_result"
    }
   ],
   "source": [
    "# Get numerical feature importances\n",
    "importances = list(rf2.feature_importances_)\n",
    "# List of tuples with variable and importance\n",
    "feature_importances = [(feature, round(importance, 2)) for feature, importance in zip(test_features2, importances)]\n",
    "# Sort the feature importances by most important first\n",
    "feature_importances = sorted(feature_importances, key = lambda x: x[1], reverse = True)\n",
    "# Print out the feature and importances \n",
    "[print('Variable: {:20} Importance: {}'.format(*pair)) for pair in feature_importances]"
   ]
  },
  {
   "cell_type": "markdown",
   "metadata": {
    "colab_type": "text",
    "id": "ZLPsk7jHpjAa"
   },
   "source": [
    "The results above show that for the Random Forrest Regressor the features with the most importance are size_sqft, number of bathrooms and distance to Central Park. The red flag is the number of bedrooms does not have a significant influence whereas we would expect it would. This could be the result of 10-13% of the data having recorded 0 number of bedrooms, where we would expect at least one and inspection of the data shows its not commerical but residential. "
   ]
  },
  {
   "cell_type": "markdown",
   "metadata": {
    "colab_type": "text",
    "id": "0kLiTVGGpgYf"
   },
   "source": [
    "## Modelling of Data for Submission"
   ]
  },
  {
   "cell_type": "code",
   "execution_count": 70,
   "metadata": {
    "colab": {
     "base_uri": "https://localhost:8080/",
     "height": 134
    },
    "colab_type": "code",
    "executionInfo": {
     "elapsed": 1130,
     "status": "ok",
     "timestamp": 1574436723990,
     "user": {
      "displayName": "Jacinta Moore",
      "photoUrl": "",
      "userId": "14215851766389388616"
     },
     "user_tz": 300
    },
    "id": "hI8pt4UitrHu",
    "outputId": "1f3d8b46-883b-45f8-acf0-99d2538633f1"
   },
   "outputs": [
    {
     "data": {
      "text/plain": [
       "RandomForestRegressor(bootstrap=True, criterion='mse', max_depth=None,\n",
       "                      max_features='auto', max_leaf_nodes=None,\n",
       "                      min_impurity_decrease=0.0, min_impurity_split=None,\n",
       "                      min_samples_leaf=1, min_samples_split=2,\n",
       "                      min_weight_fraction_leaf=0.0, n_estimators=10,\n",
       "                      n_jobs=None, oob_score=False, random_state=None,\n",
       "                      verbose=0, warm_start=False)"
      ]
     },
     "execution_count": 70,
     "metadata": {},
     "output_type": "execute_result"
    }
   ],
   "source": [
    "master_df = train_df2.append(test_df2, sort=False)\n",
    "\n",
    "master_features = master_df[feature_cols2].fillna(master_df[feature_cols2].median(), axis=0)\n",
    "master_target = master_df['rent']\n",
    "\n",
    "rf.fit(master_features, master_target)"
   ]
  },
  {
   "cell_type": "markdown",
   "metadata": {
    "colab_type": "text",
    "id": "vvFNyj9Vt_P0"
   },
   "source": [
    "### Create Submission"
   ]
  },
  {
   "cell_type": "code",
   "execution_count": 72,
   "metadata": {
    "colab": {
     "base_uri": "https://localhost:8080/",
     "height": 34
    },
    "colab_type": "code",
    "executionInfo": {
     "elapsed": 492,
     "status": "ok",
     "timestamp": 1574436729033,
     "user": {
      "displayName": "Jacinta Moore",
      "photoUrl": "",
      "userId": "14215851766389388616"
     },
     "user_tz": 300
    },
    "id": "b2M3eLpdt6Kf",
    "outputId": "1e190298-d8fc-4596-e747-dfa7a92c224d"
   },
   "outputs": [
    {
     "data": {
      "text/plain": [
       "6456851.651231443"
      ]
     },
     "execution_count": 72,
     "metadata": {},
     "output_type": "execute_result"
    }
   ],
   "source": [
    "submit1_features2 = submit1_df[feature_cols2].fillna(master_df[feature_cols2].median(), axis=0)\n",
    "submit1_df['predictions'] = rf.predict(submit1_features2)\n",
    "submit1_df['predictions'].to_csv('sample_submission1.csv', header=True)\n",
    "\n",
    "submit1_df['fake_rent'] = np.ones(submit1_df['predictions'].shape) * master_target.median()\n",
    "mean_squared_error(submit1_df['predictions'], submit1_df['fake_rent'])"
   ]
  },
  {
   "cell_type": "code",
   "execution_count": 0,
   "metadata": {
    "colab": {},
    "colab_type": "code",
    "id": "gChBHajzuvD5"
   },
   "outputs": [],
   "source": []
  }
 ],
 "metadata": {
  "colab": {
   "collapsed_sections": [],
   "name": "Part 1 Final Project.ipynb",
   "provenance": []
  },
  "kernelspec": {
   "display_name": "Python 3",
   "language": "python",
   "name": "python3"
  },
  "language_info": {
   "codemirror_mode": {
    "name": "ipython",
    "version": 3
   },
   "file_extension": ".py",
   "mimetype": "text/x-python",
   "name": "python",
   "nbconvert_exporter": "python",
   "pygments_lexer": "ipython3",
   "version": "3.7.0"
  }
 },
 "nbformat": 4,
 "nbformat_minor": 1
}
=======
{"nbformat":4,"nbformat_minor":0,"metadata":{"colab":{"name":"Part 1 Final Project.ipynb","provenance":[],"collapsed_sections":[]},"kernelspec":{"name":"python3","display_name":"Python 3"}},"cells":[{"cell_type":"markdown","metadata":{"id":"V6W7COL-nwCv","colab_type":"text"},"source":["# Data Science Final Project: Part 1 Analysis\n","\n","This is a preliminary analysis of the rental data to predict rents for test 2 data. It is expected further work in Part 2 will result in improved estimations. This analysis and the outcomes will form the basis of Part 2.  \n","This file has been broken up into 3 parts: \n","\n","\n","1.   Data Exploration [https://colab.research.google.com/drive/1ui-CU-qfreGNuP69NaVPlmFKIiNBFxuL#scrollTo=K-ZZpcoaiGY6]\n","2.   Data Preprocessing [https://colab.research.google.com/drive/1ui-CU-qfreGNuP69NaVPlmFKIiNBFxuL#scrollTo=HgGR6M-aojEZ]\n","3.   Data Modelling [https://colab.research.google.com/drive/1ui-CU-qfreGNuP69NaVPlmFKIiNBFxuL#scrollTo=aPjrrxHJot6h]\n","4.  Summary of Results and Further Work [https://colab.research.google.com/drive/1ui-CU-qfreGNuP69NaVPlmFKIiNBFxuL#scrollTo=9IVaqCL3pKBX]\n","\n","\n","\n"]},{"cell_type":"code","metadata":{"id":"uTI3FuQFqCEH","colab_type":"code","colab":{}},"source":["import numpy as np\n","import pandas as pd\n","import matplotlib.pyplot as plt\n","import seaborn as sns\n","\n","from sklearn.linear_model import LinearRegression\n","from sklearn.metrics import mean_squared_error\n","\n","from sklearn.ensemble import RandomForestRegressor\n","from sklearn.ensemble import GradientBoostingRegressor\n","\n","%matplotlib inline"],"execution_count":0,"outputs":[]},{"cell_type":"code","metadata":{"id":"fn-ehv0SqH7y","colab_type":"code","colab":{}},"source":["train_df = pd.read_csv('https://grantmlong.com/data/SE_rents2018_train.csv', index_col=0)\n","test_df = pd.read_csv('https://grantmlong.com/data/SE_rents2018_test1.csv', index_col=0)\n","submit1_df = pd.read_csv('https://grantmlong.com/data/SE_rents2018_test2.csv', index_col=0)\n","submit2_df = pd.read_csv('https://grantmlong.com/data/SE_rents2018_test3.csv', index_col=0)"],"execution_count":0,"outputs":[]},{"cell_type":"markdown","metadata":{"id":"K-ZZpcoaiGY6","colab_type":"text"},"source":["## Data Exploration\n","\n","This section we look at the data and determine the features for our model. We build our training data\n","\n","\n"]},{"cell_type":"code","metadata":{"id":"D5_s5QoOohQ9","colab_type":"code","outputId":"3792f1de-d9b9-4362-8c17-60406f92a4d1","executionInfo":{"status":"ok","timestamp":1574469151669,"user_tz":300,"elapsed":522,"user":{"displayName":"Jacinta Moore","photoUrl":"","userId":"14215851766389388616"}},"colab":{"base_uri":"https://localhost:8080/","height":1000}},"source":["train_df.sample(5).transpose()"],"execution_count":3,"outputs":[{"output_type":"execute_result","data":{"text/html":["<div>\n","<style scoped>\n","    .dataframe tbody tr th:only-of-type {\n","        vertical-align: middle;\n","    }\n","\n","    .dataframe tbody tr th {\n","        vertical-align: top;\n","    }\n","\n","    .dataframe thead th {\n","        text-align: right;\n","    }\n","</style>\n","<table border=\"1\" class=\"dataframe\">\n","  <thead>\n","    <tr style=\"text-align: right;\">\n","      <th>rental_id</th>\n","      <th>7394089</th>\n","      <th>7183477</th>\n","      <th>7282144</th>\n","      <th>7185244</th>\n","      <th>7209958</th>\n","    </tr>\n","  </thead>\n","  <tbody>\n","    <tr>\n","      <th>addr_unit</th>\n","      <td>#2</td>\n","      <td>#7D</td>\n","      <td>#5G</td>\n","      <td>#5A</td>\n","      <td>#5L</td>\n","    </tr>\n","    <tr>\n","      <th>building_id</th>\n","      <td>1482658</td>\n","      <td>86998</td>\n","      <td>1864378</td>\n","      <td>25696</td>\n","      <td>361810</td>\n","    </tr>\n","    <tr>\n","      <th>bedrooms</th>\n","      <td>2</td>\n","      <td>1</td>\n","      <td>1</td>\n","      <td>0</td>\n","      <td>1</td>\n","    </tr>\n","    <tr>\n","      <th>bathrooms</th>\n","      <td>2</td>\n","      <td>1</td>\n","      <td>1</td>\n","      <td>1</td>\n","      <td>1</td>\n","    </tr>\n","    <tr>\n","      <th>size_sqft</th>\n","      <td>900</td>\n","      <td>806</td>\n","      <td>775</td>\n","      <td>400</td>\n","      <td>0</td>\n","    </tr>\n","    <tr>\n","      <th>created_at</th>\n","      <td>2018-07-23 15:20:59</td>\n","      <td>2018-05-16 15:06:09</td>\n","      <td>2018-06-18 09:17:33</td>\n","      <td>2018-05-17 06:14:37</td>\n","      <td>2018-05-25 16:39:16</td>\n","    </tr>\n","    <tr>\n","      <th>addr_street</th>\n","      <td>111-04 76 DRIVE</td>\n","      <td>420 EAST 80 STREET</td>\n","      <td>135-16 82 AVENUE</td>\n","      <td>44 WEST 14 STREET</td>\n","      <td>26 WEST STREET</td>\n","    </tr>\n","    <tr>\n","      <th>addr_city</th>\n","      <td>Forest Hills</td>\n","      <td>New York</td>\n","      <td>Jamaica</td>\n","      <td>New York</td>\n","      <td>Brooklyn</td>\n","    </tr>\n","    <tr>\n","      <th>addr_zip</th>\n","      <td>11375</td>\n","      <td>10075</td>\n","      <td>11435</td>\n","      <td>10011</td>\n","      <td>11222</td>\n","    </tr>\n","    <tr>\n","      <th>addr_lat</th>\n","      <td>40.7151</td>\n","      <td>40.7723</td>\n","      <td>40.7143</td>\n","      <td>40.7366</td>\n","      <td>40.7272</td>\n","    </tr>\n","    <tr>\n","      <th>addr_lon</th>\n","      <td>-73.8358</td>\n","      <td>-73.951</td>\n","      <td>-73.8221</td>\n","      <td>-73.9959</td>\n","      <td>-73.9586</td>\n","    </tr>\n","    <tr>\n","      <th>bin</th>\n","      <td>4.07993e+06</td>\n","      <td>1.05035e+06</td>\n","      <td>4.20654e+06</td>\n","      <td>1.00971e+06</td>\n","      <td>3.42499e+06</td>\n","    </tr>\n","    <tr>\n","      <th>bbl</th>\n","      <td>4033420001</td>\n","      <td>1015590033</td>\n","      <td>4096680005</td>\n","      <td>1005770018</td>\n","      <td>3025710001</td>\n","    </tr>\n","    <tr>\n","      <th>floor_count</th>\n","      <td>2.5</td>\n","      <td>13</td>\n","      <td>6</td>\n","      <td>6</td>\n","      <td>7</td>\n","    </tr>\n","    <tr>\n","      <th>year_built</th>\n","      <td>1935</td>\n","      <td>1961</td>\n","      <td>1962</td>\n","      <td>1900</td>\n","      <td>2016</td>\n","    </tr>\n","    <tr>\n","      <th>min_to_subway</th>\n","      <td>4.1</td>\n","      <td>9.1333</td>\n","      <td>6.2333</td>\n","      <td>1.15</td>\n","      <td>4.3667</td>\n","    </tr>\n","    <tr>\n","      <th>has_doorman</th>\n","      <td>0</td>\n","      <td>1</td>\n","      <td>0</td>\n","      <td>0</td>\n","      <td>0</td>\n","    </tr>\n","    <tr>\n","      <th>has_elevator</th>\n","      <td>0</td>\n","      <td>1</td>\n","      <td>0</td>\n","      <td>0</td>\n","      <td>0</td>\n","    </tr>\n","    <tr>\n","      <th>has_fireplace</th>\n","      <td>0</td>\n","      <td>0</td>\n","      <td>0</td>\n","      <td>0</td>\n","      <td>0</td>\n","    </tr>\n","    <tr>\n","      <th>has_dishwasher</th>\n","      <td>0</td>\n","      <td>1</td>\n","      <td>0</td>\n","      <td>0</td>\n","      <td>1</td>\n","    </tr>\n","    <tr>\n","      <th>is_furnished</th>\n","      <td>0</td>\n","      <td>0</td>\n","      <td>0</td>\n","      <td>0</td>\n","      <td>0</td>\n","    </tr>\n","    <tr>\n","      <th>has_gym</th>\n","      <td>0</td>\n","      <td>0</td>\n","      <td>0</td>\n","      <td>0</td>\n","      <td>1</td>\n","    </tr>\n","    <tr>\n","      <th>allows_pets</th>\n","      <td>0</td>\n","      <td>1</td>\n","      <td>0</td>\n","      <td>0</td>\n","      <td>1</td>\n","    </tr>\n","    <tr>\n","      <th>has_washer_dryer</th>\n","      <td>1</td>\n","      <td>0</td>\n","      <td>0</td>\n","      <td>0</td>\n","      <td>0</td>\n","    </tr>\n","    <tr>\n","      <th>has_garage</th>\n","      <td>0</td>\n","      <td>0</td>\n","      <td>0</td>\n","      <td>0</td>\n","      <td>0</td>\n","    </tr>\n","    <tr>\n","      <th>has_roofdeck</th>\n","      <td>0</td>\n","      <td>0</td>\n","      <td>0</td>\n","      <td>0</td>\n","      <td>1</td>\n","    </tr>\n","    <tr>\n","      <th>has_concierge</th>\n","      <td>0</td>\n","      <td>1</td>\n","      <td>0</td>\n","      <td>0</td>\n","      <td>0</td>\n","    </tr>\n","    <tr>\n","      <th>has_pool</th>\n","      <td>0</td>\n","      <td>0</td>\n","      <td>0</td>\n","      <td>0</td>\n","      <td>0</td>\n","    </tr>\n","    <tr>\n","      <th>has_garden</th>\n","      <td>0</td>\n","      <td>0</td>\n","      <td>0</td>\n","      <td>0</td>\n","      <td>0</td>\n","    </tr>\n","    <tr>\n","      <th>has_childrens_playroom</th>\n","      <td>0</td>\n","      <td>0</td>\n","      <td>0</td>\n","      <td>0</td>\n","      <td>0</td>\n","    </tr>\n","    <tr>\n","      <th>rent</th>\n","      <td>2700</td>\n","      <td>3318</td>\n","      <td>1700</td>\n","      <td>2450</td>\n","      <td>3315</td>\n","    </tr>\n","    <tr>\n","      <th>no_fee</th>\n","      <td>0</td>\n","      <td>1</td>\n","      <td>0</td>\n","      <td>1</td>\n","      <td>1</td>\n","    </tr>\n","    <tr>\n","      <th>description</th>\n","      <td>Amazing Extra Large 2 Bedroom, 2 Full Bathroom...</td>\n","      <td>Oversized corner one bedroom features gracious...</td>\n","      <td>Large 1Br in Elev-Bldg. in Quiet Area 10-mins ...</td>\n","      <td>This beautiful Jr 1 Bedroom apartment is locat...</td>\n","      <td>Welcome to 26 West Street, a luxury doorman bu...</td>\n","    </tr>\n","    <tr>\n","      <th>neighborhood</th>\n","      <td>Forest Hills</td>\n","      <td>Upper East Side</td>\n","      <td>Briarwood</td>\n","      <td>Greenwich Village</td>\n","      <td>Greenpoint</td>\n","    </tr>\n","    <tr>\n","      <th>borough</th>\n","      <td>Queens</td>\n","      <td>Manhattan</td>\n","      <td>Queens</td>\n","      <td>Manhattan</td>\n","      <td>Brooklyn</td>\n","    </tr>\n","    <tr>\n","      <th>unit</th>\n","      <td>2</td>\n","      <td>7D</td>\n","      <td>5G</td>\n","      <td>5A</td>\n","      <td>5L</td>\n","    </tr>\n","    <tr>\n","      <th>floornumber</th>\n","      <td>2</td>\n","      <td>7</td>\n","      <td>5</td>\n","      <td>5</td>\n","      <td>5</td>\n","    </tr>\n","    <tr>\n","      <th>line</th>\n","      <td>NaN</td>\n","      <td>D</td>\n","      <td>G</td>\n","      <td>A</td>\n","      <td>L</td>\n","    </tr>\n","  </tbody>\n","</table>\n","</div>"],"text/plain":["rental_id                                                         7394089  ...                                            7209958\n","addr_unit                                                              #2  ...                                                #5L\n","building_id                                                       1482658  ...                                             361810\n","bedrooms                                                                2  ...                                                  1\n","bathrooms                                                               2  ...                                                  1\n","size_sqft                                                             900  ...                                                  0\n","created_at                                            2018-07-23 15:20:59  ...                                2018-05-25 16:39:16\n","addr_street                                               111-04 76 DRIVE  ...                                     26 WEST STREET\n","addr_city                                                    Forest Hills  ...                                           Brooklyn\n","addr_zip                                                            11375  ...                                              11222\n","addr_lat                                                          40.7151  ...                                            40.7272\n","addr_lon                                                         -73.8358  ...                                           -73.9586\n","bin                                                           4.07993e+06  ...                                        3.42499e+06\n","bbl                                                            4033420001  ...                                         3025710001\n","floor_count                                                           2.5  ...                                                  7\n","year_built                                                           1935  ...                                               2016\n","min_to_subway                                                         4.1  ...                                             4.3667\n","has_doorman                                                             0  ...                                                  0\n","has_elevator                                                            0  ...                                                  0\n","has_fireplace                                                           0  ...                                                  0\n","has_dishwasher                                                          0  ...                                                  1\n","is_furnished                                                            0  ...                                                  0\n","has_gym                                                                 0  ...                                                  1\n","allows_pets                                                             0  ...                                                  1\n","has_washer_dryer                                                        1  ...                                                  0\n","has_garage                                                              0  ...                                                  0\n","has_roofdeck                                                            0  ...                                                  1\n","has_concierge                                                           0  ...                                                  0\n","has_pool                                                                0  ...                                                  0\n","has_garden                                                              0  ...                                                  0\n","has_childrens_playroom                                                  0  ...                                                  0\n","rent                                                                 2700  ...                                               3315\n","no_fee                                                                  0  ...                                                  1\n","description             Amazing Extra Large 2 Bedroom, 2 Full Bathroom...  ...  Welcome to 26 West Street, a luxury doorman bu...\n","neighborhood                                                 Forest Hills  ...                                         Greenpoint\n","borough                                                            Queens  ...                                           Brooklyn\n","unit                                                                    2  ...                                                 5L\n","floornumber                                                             2  ...                                                  5\n","line                                                                  NaN  ...                                                  L\n","\n","[38 rows x 5 columns]"]},"metadata":{"tags":[]},"execution_count":3}]},{"cell_type":"code","metadata":{"id":"Z5F5catir0BW","colab_type":"code","outputId":"34ff74de-266d-4537-ca26-c67b75489874","executionInfo":{"status":"ok","timestamp":1574368676864,"user_tz":300,"elapsed":417,"user":{"displayName":"Jacinta Moore","photoUrl":"","userId":"14215851766389388616"}},"colab":{"base_uri":"https://localhost:8080/","height":34}},"source":["train_df.shape"],"execution_count":0,"outputs":[{"output_type":"execute_result","data":{"text/plain":["(12000, 39)"]},"metadata":{"tags":[]},"execution_count":60}]},{"cell_type":"code","metadata":{"id":"e-o5NYKor5j1","colab_type":"code","outputId":"ef990429-d838-4277-96ba-dbac2a67b54e","executionInfo":{"status":"ok","timestamp":1574368687206,"user_tz":300,"elapsed":390,"user":{"displayName":"Jacinta Moore","photoUrl":"","userId":"14215851766389388616"}},"colab":{"base_uri":"https://localhost:8080/","height":34}},"source":["test_df.shape"],"execution_count":0,"outputs":[{"output_type":"execute_result","data":{"text/plain":["(2000, 40)"]},"metadata":{"tags":[]},"execution_count":61}]},{"cell_type":"code","metadata":{"id":"FHwgbKRir8bo","colab_type":"code","outputId":"2843fa66-e64c-4002-e463-6f539930cbd7","executionInfo":{"status":"ok","timestamp":1574368731957,"user_tz":300,"elapsed":427,"user":{"displayName":"Jacinta Moore","photoUrl":"","userId":"14215851766389388616"}},"colab":{"base_uri":"https://localhost:8080/","height":34}},"source":["test2_df.shape"],"execution_count":0,"outputs":[{"output_type":"execute_result","data":{"text/plain":["(2000, 38)"]},"metadata":{"tags":[]},"execution_count":62}]},{"cell_type":"code","metadata":{"id":"6j_eaNSqrT5D","colab_type":"code","outputId":"b09f9e52-c735-41fa-aef3-8995a0288693","executionInfo":{"status":"ok","timestamp":1574366466380,"user_tz":300,"elapsed":800,"user":{"displayName":"Jacinta Moore","photoUrl":"","userId":"14215851766389388616"}},"colab":{"base_uri":"https://localhost:8080/","height":269}},"source":["_ = plt.hist(train_df['rent'], bins=100)"],"execution_count":0,"outputs":[{"output_type":"display_data","data":{"image/png":"iVBORw0KGgoAAAANSUhEUgAAAX0AAAD8CAYAAACb4nSYAAAABHNCSVQICAgIfAhkiAAAAAlwSFlz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\n","text/plain":["<Figure size 432x288 with 1 Axes>"]},"metadata":{"tags":[]}}]},{"cell_type":"code","metadata":{"id":"K5EQekB9rUKa","colab_type":"code","outputId":"53c7277d-84ca-4a28-8ea2-72e63cfc424d","executionInfo":{"status":"ok","timestamp":1574366467446,"user_tz":300,"elapsed":496,"user":{"displayName":"Jacinta Moore","photoUrl":"","userId":"14215851766389388616"}},"colab":{"base_uri":"https://localhost:8080/","height":168}},"source":["train_df['rent'].describe()"],"execution_count":0,"outputs":[{"output_type":"execute_result","data":{"text/plain":["count    12000.000000\n","mean      3605.762917\n","std       2897.069446\n","min       1250.000000\n","25%       2250.000000\n","50%       2900.000000\n","75%       3900.000000\n","max      50000.000000\n","Name: rent, dtype: float64"]},"metadata":{"tags":[]},"execution_count":5}]},{"cell_type":"code","metadata":{"id":"-lxPtxAprUfW","colab_type":"code","outputId":"b73166aa-2926-4b71-dfda-2d5d825a9806","executionInfo":{"status":"ok","timestamp":1574366472147,"user_tz":300,"elapsed":368,"user":{"displayName":"Jacinta Moore","photoUrl":"","userId":"14215851766389388616"}},"colab":{"base_uri":"https://localhost:8080/","height":34}},"source":["train_df['rent'].isna().sum()"],"execution_count":0,"outputs":[{"output_type":"execute_result","data":{"text/plain":["0"]},"metadata":{"tags":[]},"execution_count":6}]},{"cell_type":"code","metadata":{"id":"EAAqPpaCnI0d","colab_type":"code","outputId":"9603f889-3f78-4983-e2b0-ce83b0b570ba","executionInfo":{"status":"ok","timestamp":1574366473330,"user_tz":300,"elapsed":343,"user":{"displayName":"Jacinta Moore","photoUrl":"","userId":"14215851766389388616"}},"colab":{"base_uri":"https://localhost:8080/","height":54}},"source":["print(list(train_df))"],"execution_count":0,"outputs":[{"output_type":"stream","text":["['addr_unit', 'building_id', 'bedrooms', 'bathrooms', 'size_sqft', 'created_at', 'addr_street', 'addr_city', 'addr_zip', 'addr_lat', 'addr_lon', 'bin', 'bbl', 'floor_count', 'year_built', 'min_to_subway', 'has_doorman', 'has_elevator', 'has_fireplace', 'has_dishwasher', 'is_furnished', 'has_gym', 'allows_pets', 'has_washer_dryer', 'has_garage', 'has_roofdeck', 'has_concierge', 'has_pool', 'has_garden', 'has_childrens_playroom', 'rent', 'no_fee', 'description', 'neighborhood', 'borough', 'unit', 'floornumber', 'line']\n"],"name":"stdout"}]},{"cell_type":"code","metadata":{"id":"aMnR3TkCnI0f","colab_type":"code","outputId":"ddbf6bf3-d724-483d-d770-d4281e997a5b","executionInfo":{"status":"ok","timestamp":1574366474768,"user_tz":300,"elapsed":650,"user":{"displayName":"Jacinta Moore","photoUrl":"","userId":"14215851766389388616"}},"colab":{"base_uri":"https://localhost:8080/","height":304}},"source":["train_df.describe()"],"execution_count":0,"outputs":[{"output_type":"execute_result","data":{"text/html":["<div>\n","<style scoped>\n","    .dataframe tbody tr th:only-of-type {\n","        vertical-align: middle;\n","    }\n","\n","    .dataframe tbody tr th {\n","        vertical-align: top;\n","    }\n","\n","    .dataframe thead th {\n","        text-align: right;\n","    }\n","</style>\n","<table border=\"1\" class=\"dataframe\">\n","  <thead>\n","    <tr style=\"text-align: right;\">\n","      <th></th>\n","      <th>building_id</th>\n","      <th>bedrooms</th>\n","      <th>bathrooms</th>\n","      <th>size_sqft</th>\n","      <th>addr_zip</th>\n","      <th>addr_lat</th>\n","      <th>addr_lon</th>\n","      <th>bin</th>\n","      <th>bbl</th>\n","      <th>floor_count</th>\n","      <th>year_built</th>\n","      <th>min_to_subway</th>\n","      <th>has_doorman</th>\n","      <th>has_elevator</th>\n","      <th>has_fireplace</th>\n","      <th>has_dishwasher</th>\n","      <th>is_furnished</th>\n","      <th>has_gym</th>\n","      <th>allows_pets</th>\n","      <th>has_washer_dryer</th>\n","      <th>has_garage</th>\n","      <th>has_roofdeck</th>\n","      <th>has_concierge</th>\n","      <th>has_pool</th>\n","      <th>has_garden</th>\n","      <th>has_childrens_playroom</th>\n","      <th>rent</th>\n","      <th>no_fee</th>\n","      <th>floornumber</th>\n","    </tr>\n","  </thead>\n","  <tbody>\n","    <tr>\n","      <th>count</th>\n","      <td>1.200000e+04</td>\n","      <td>12000.000000</td>\n","      <td>12000.000000</td>\n","      <td>12000.000000</td>\n","      <td>12000.000000</td>\n","      <td>12000.000000</td>\n","      <td>12000.000000</td>\n","      <td>1.199900e+04</td>\n","      <td>1.200000e+04</td>\n","      <td>12000.000000</td>\n","      <td>11597.000000</td>\n","      <td>11874.000000</td>\n","      <td>12000.000000</td>\n","      <td>12000.000000</td>\n","      <td>12000.000000</td>\n","      <td>12000.000000</td>\n","      <td>12000.000000</td>\n","      <td>12000.000000</td>\n","      <td>12000.000000</td>\n","      <td>12000.000000</td>\n","      <td>12000.000000</td>\n","      <td>12000.000000</td>\n","      <td>12000.000000</td>\n","      <td>12000.000000</td>\n","      <td>12000.000000</td>\n","      <td>12000.000000</td>\n","      <td>12000.000000</td>\n","      <td>12000.000000</td>\n","      <td>10723.000000</td>\n","    </tr>\n","    <tr>\n","      <th>mean</th>\n","      <td>1.529133e+06</td>\n","      <td>1.657667</td>\n","      <td>1.239500</td>\n","      <td>850.465750</td>\n","      <td>10682.779667</td>\n","      <td>40.727507</td>\n","      <td>-73.956837</td>\n","      <td>2.370093e+06</td>\n","      <td>2.287120e+09</td>\n","      <td>10.266608</td>\n","      <td>1935.982668</td>\n","      <td>73.588716</td>\n","      <td>0.300333</td>\n","      <td>0.466083</td>\n","      <td>0.035917</td>\n","      <td>0.542583</td>\n","      <td>0.029833</td>\n","      <td>0.293000</td>\n","      <td>0.496667</td>\n","      <td>0.271667</td>\n","      <td>0.170000</td>\n","      <td>0.264083</td>\n","      <td>0.208583</td>\n","      <td>0.073167</td>\n","      <td>0.132083</td>\n","      <td>0.090500</td>\n","      <td>3605.762917</td>\n","      <td>0.490000</td>\n","      <td>6.182738</td>\n","    </tr>\n","    <tr>\n","      <th>std</th>\n","      <td>4.301123e+06</td>\n","      <td>1.079771</td>\n","      <td>0.560208</td>\n","      <td>515.773101</td>\n","      <td>593.370964</td>\n","      <td>0.053241</td>\n","      <td>0.043024</td>\n","      <td>1.242919e+06</td>\n","      <td>1.202105e+09</td>\n","      <td>12.019787</td>\n","      <td>158.157134</td>\n","      <td>2681.611157</td>\n","      <td>0.458422</td>\n","      <td>0.498869</td>\n","      <td>0.186090</td>\n","      <td>0.498204</td>\n","      <td>0.170134</td>\n","      <td>0.455157</td>\n","      <td>0.500010</td>\n","      <td>0.444837</td>\n","      <td>0.375648</td>\n","      <td>0.440862</td>\n","      <td>0.406313</td>\n","      <td>0.260421</td>\n","      <td>0.338595</td>\n","      <td>0.286909</td>\n","      <td>2897.069446</td>\n","      <td>0.499921</td>\n","      <td>7.671545</td>\n","    </tr>\n","    <tr>\n","      <th>min</th>\n","      <td>7.300000e+01</td>\n","      <td>0.000000</td>\n","      <td>0.000000</td>\n","      <td>0.000000</td>\n","      <td>10001.000000</td>\n","      <td>40.573898</td>\n","      <td>-74.141570</td>\n","      <td>1.000000e+06</td>\n","      <td>0.000000e+00</td>\n","      <td>0.000000</td>\n","      <td>0.000000</td>\n","      <td>0.016700</td>\n","      <td>0.000000</td>\n","      <td>0.000000</td>\n","      <td>0.000000</td>\n","      <td>0.000000</td>\n","      <td>0.000000</td>\n","      <td>0.000000</td>\n","      <td>0.000000</td>\n","      <td>0.000000</td>\n","      <td>0.000000</td>\n","      <td>0.000000</td>\n","      <td>0.000000</td>\n","      <td>0.000000</td>\n","      <td>0.000000</td>\n","      <td>0.000000</td>\n","      <td>1250.000000</td>\n","      <td>0.000000</td>\n","      <td>0.000000</td>\n","    </tr>\n","    <tr>\n","      <th>25%</th>\n","      <td>6.209200e+04</td>\n","      <td>1.000000</td>\n","      <td>1.000000</td>\n","      <td>610.000000</td>\n","      <td>10023.000000</td>\n","      <td>40.693256</td>\n","      <td>-73.986076</td>\n","      <td>1.052139e+06</td>\n","      <td>1.011220e+09</td>\n","      <td>3.000000</td>\n","      <td>1915.000000</td>\n","      <td>1.616700</td>\n","      <td>0.000000</td>\n","      <td>0.000000</td>\n","      <td>0.000000</td>\n","      <td>0.000000</td>\n","      <td>0.000000</td>\n","      <td>0.000000</td>\n","      <td>0.000000</td>\n","      <td>0.000000</td>\n","      <td>0.000000</td>\n","      <td>0.000000</td>\n","      <td>0.000000</td>\n","      <td>0.000000</td>\n","      <td>0.000000</td>\n","      <td>0.000000</td>\n","      <td>2250.000000</td>\n","      <td>0.000000</td>\n","      <td>2.000000</td>\n","    </tr>\n","    <tr>\n","      <th>50%</th>\n","      <td>2.495815e+05</td>\n","      <td>2.000000</td>\n","      <td>1.000000</td>\n","      <td>800.000000</td>\n","      <td>11103.000000</td>\n","      <td>40.729028</td>\n","      <td>-73.961700</td>\n","      <td>3.019358e+06</td>\n","      <td>3.006580e+09</td>\n","      <td>5.000000</td>\n","      <td>1931.000000</td>\n","      <td>2.750000</td>\n","      <td>0.000000</td>\n","      <td>0.000000</td>\n","      <td>0.000000</td>\n","      <td>1.000000</td>\n","      <td>0.000000</td>\n","      <td>0.000000</td>\n","      <td>0.000000</td>\n","      <td>0.000000</td>\n","      <td>0.000000</td>\n","      <td>0.000000</td>\n","      <td>0.000000</td>\n","      <td>0.000000</td>\n","      <td>0.000000</td>\n","      <td>0.000000</td>\n","      <td>2900.000000</td>\n","      <td>0.000000</td>\n","      <td>3.000000</td>\n","    </tr>\n","    <tr>\n","      <th>75%</th>\n","      <td>8.225132e+05</td>\n","      <td>2.000000</td>\n","      <td>1.000000</td>\n","      <td>1000.000000</td>\n","      <td>11218.000000</td>\n","      <td>40.764599</td>\n","      <td>-73.936663</td>\n","      <td>3.326098e+06</td>\n","      <td>3.050580e+09</td>\n","      <td>12.000000</td>\n","      <td>1987.000000</td>\n","      <td>4.366700</td>\n","      <td>1.000000</td>\n","      <td>1.000000</td>\n","      <td>0.000000</td>\n","      <td>1.000000</td>\n","      <td>0.000000</td>\n","      <td>1.000000</td>\n","      <td>1.000000</td>\n","      <td>1.000000</td>\n","      <td>0.000000</td>\n","      <td>1.000000</td>\n","      <td>0.000000</td>\n","      <td>0.000000</td>\n","      <td>0.000000</td>\n","      <td>0.000000</td>\n","      <td>3900.000000</td>\n","      <td>1.000000</td>\n","      <td>6.000000</td>\n","    </tr>\n","    <tr>\n","      <th>max</th>\n","      <td>1.877210e+07</td>\n","      <td>8.000000</td>\n","      <td>20.000000</td>\n","      <td>10000.000000</td>\n","      <td>11694.000000</td>\n","      <td>40.909842</td>\n","      <td>-73.730550</td>\n","      <td>5.158986e+06</td>\n","      <td>5.010640e+09</td>\n","      <td>90.000000</td>\n","      <td>2019.000000</td>\n","      <td>103343.616700</td>\n","      <td>1.000000</td>\n","      <td>1.000000</td>\n","      <td>1.000000</td>\n","      <td>1.000000</td>\n","      <td>1.000000</td>\n","      <td>1.000000</td>\n","      <td>1.000000</td>\n","      <td>1.000000</td>\n","      <td>1.000000</td>\n","      <td>1.000000</td>\n","      <td>1.000000</td>\n","      <td>1.000000</td>\n","      <td>1.000000</td>\n","      <td>1.000000</td>\n","      <td>50000.000000</td>\n","      <td>1.000000</td>\n","      <td>78.000000</td>\n","    </tr>\n","  </tbody>\n","</table>\n","</div>"],"text/plain":["        building_id      bedrooms  ...        no_fee   floornumber\n","count  1.200000e+04  12000.000000  ...  12000.000000  10723.000000\n","mean   1.529133e+06      1.657667  ...      0.490000      6.182738\n","std    4.301123e+06      1.079771  ...      0.499921      7.671545\n","min    7.300000e+01      0.000000  ...      0.000000      0.000000\n","25%    6.209200e+04      1.000000  ...      0.000000      2.000000\n","50%    2.495815e+05      2.000000  ...      0.000000      3.000000\n","75%    8.225132e+05      2.000000  ...      1.000000      6.000000\n","max    1.877210e+07      8.000000  ...      1.000000     78.000000\n","\n","[8 rows x 29 columns]"]},"metadata":{"tags":[]},"execution_count":8}]},{"cell_type":"code","metadata":{"id":"M3j05EiHr627","colab_type":"code","outputId":"e31fdf32-fa4b-4d0c-dcc7-0ee39bffd62b","executionInfo":{"status":"ok","timestamp":1574366479688,"user_tz":300,"elapsed":449,"user":{"displayName":"Jacinta Moore","photoUrl":"","userId":"14215851766389388616"}},"colab":{"base_uri":"https://localhost:8080/","height":926}},"source":["train_df.corr()"],"execution_count":0,"outputs":[{"output_type":"execute_result","data":{"text/html":["<div>\n","<style scoped>\n","    .dataframe tbody tr th:only-of-type {\n","        vertical-align: middle;\n","    }\n","\n","    .dataframe tbody tr th {\n","        vertical-align: top;\n","    }\n","\n","    .dataframe thead th {\n","        text-align: right;\n","    }\n","</style>\n","<table border=\"1\" class=\"dataframe\">\n","  <thead>\n","    <tr style=\"text-align: right;\">\n","      <th></th>\n","      <th>building_id</th>\n","      <th>bedrooms</th>\n","      <th>bathrooms</th>\n","      <th>size_sqft</th>\n","      <th>addr_zip</th>\n","      <th>addr_lat</th>\n","      <th>addr_lon</th>\n","      <th>bin</th>\n","      <th>bbl</th>\n","      <th>floor_count</th>\n","      <th>year_built</th>\n","      <th>min_to_subway</th>\n","      <th>has_doorman</th>\n","      <th>has_elevator</th>\n","      <th>has_fireplace</th>\n","      <th>has_dishwasher</th>\n","      <th>is_furnished</th>\n","      <th>has_gym</th>\n","      <th>allows_pets</th>\n","      <th>has_washer_dryer</th>\n","      <th>has_garage</th>\n","      <th>has_roofdeck</th>\n","      <th>has_concierge</th>\n","      <th>has_pool</th>\n","      <th>has_garden</th>\n","      <th>has_childrens_playroom</th>\n","      <th>rent</th>\n","      <th>no_fee</th>\n","      <th>floornumber</th>\n","    </tr>\n","  </thead>\n","  <tbody>\n","    <tr>\n","      <th>building_id</th>\n","      <td>1.000000</td>\n","      <td>-0.001813</td>\n","      <td>-0.016501</td>\n","      <td>-0.006433</td>\n","      <td>0.064199</td>\n","      <td>-0.008653</td>\n","      <td>0.105315</td>\n","      <td>0.117460</td>\n","      <td>0.090194</td>\n","      <td>-0.116488</td>\n","      <td>0.026593</td>\n","      <td>-0.006980</td>\n","      <td>-0.042830</td>\n","      <td>0.061696</td>\n","      <td>-0.031611</td>\n","      <td>0.023323</td>\n","      <td>-0.012521</td>\n","      <td>0.004550</td>\n","      <td>0.040899</td>\n","      <td>-0.030651</td>\n","      <td>0.099141</td>\n","      <td>-0.012773</td>\n","      <td>-0.060398</td>\n","      <td>0.038340</td>\n","      <td>0.064100</td>\n","      <td>0.011357</td>\n","      <td>-0.035145</td>\n","      <td>0.052429</td>\n","      <td>-0.003418</td>\n","    </tr>\n","    <tr>\n","      <th>bedrooms</th>\n","      <td>-0.001813</td>\n","      <td>1.000000</td>\n","      <td>0.464287</td>\n","      <td>0.525537</td>\n","      <td>0.187639</td>\n","      <td>-0.114986</td>\n","      <td>0.093089</td>\n","      <td>0.142331</td>\n","      <td>0.151078</td>\n","      <td>-0.228858</td>\n","      <td>-0.056614</td>\n","      <td>0.014171</td>\n","      <td>-0.233059</td>\n","      <td>-0.278231</td>\n","      <td>0.049998</td>\n","      <td>0.046002</td>\n","      <td>-0.046021</td>\n","      <td>-0.206094</td>\n","      <td>0.023819</td>\n","      <td>0.117120</td>\n","      <td>-0.116837</td>\n","      <td>-0.085111</td>\n","      <td>-0.202524</td>\n","      <td>-0.091116</td>\n","      <td>0.048234</td>\n","      <td>-0.083456</td>\n","      <td>0.353337</td>\n","      <td>-0.004335</td>\n","      <td>-0.158895</td>\n","    </tr>\n","    <tr>\n","      <th>bathrooms</th>\n","      <td>-0.016501</td>\n","      <td>0.464287</td>\n","      <td>1.000000</td>\n","      <td>0.565788</td>\n","      <td>-0.088524</td>\n","      <td>0.028441</td>\n","      <td>-0.062992</td>\n","      <td>-0.100642</td>\n","      <td>-0.106358</td>\n","      <td>0.091489</td>\n","      <td>-0.004480</td>\n","      <td>0.017966</td>\n","      <td>0.108987</td>\n","      <td>0.095867</td>\n","      <td>0.124532</td>\n","      <td>0.161132</td>\n","      <td>0.050068</td>\n","      <td>0.113062</td>\n","      <td>0.087348</td>\n","      <td>0.298722</td>\n","      <td>0.051650</td>\n","      <td>0.102592</td>\n","      <td>0.105276</td>\n","      <td>0.089527</td>\n","      <td>0.104741</td>\n","      <td>0.111949</td>\n","      <td>0.611987</td>\n","      <td>-0.003053</td>\n","      <td>0.116938</td>\n","    </tr>\n","    <tr>\n","      <th>size_sqft</th>\n","      <td>-0.006433</td>\n","      <td>0.525537</td>\n","      <td>0.565788</td>\n","      <td>1.000000</td>\n","      <td>0.000576</td>\n","      <td>-0.037717</td>\n","      <td>-0.035054</td>\n","      <td>-0.013148</td>\n","      <td>-0.011608</td>\n","      <td>0.020547</td>\n","      <td>-0.021524</td>\n","      <td>0.007718</td>\n","      <td>0.047766</td>\n","      <td>0.029836</td>\n","      <td>0.155044</td>\n","      <td>0.111761</td>\n","      <td>0.041965</td>\n","      <td>0.022605</td>\n","      <td>0.032325</td>\n","      <td>0.263907</td>\n","      <td>0.005959</td>\n","      <td>0.026781</td>\n","      <td>0.040962</td>\n","      <td>0.051020</td>\n","      <td>0.137652</td>\n","      <td>0.068867</td>\n","      <td>0.649984</td>\n","      <td>-0.074162</td>\n","      <td>0.054328</td>\n","    </tr>\n","    <tr>\n","      <th>addr_zip</th>\n","      <td>0.064199</td>\n","      <td>0.187639</td>\n","      <td>-0.088524</td>\n","      <td>0.000576</td>\n","      <td>1.000000</td>\n","      <td>-0.577385</td>\n","      <td>0.462277</td>\n","      <td>0.950995</td>\n","      <td>0.952018</td>\n","      <td>-0.447352</td>\n","      <td>-0.004916</td>\n","      <td>0.023660</td>\n","      <td>-0.410034</td>\n","      <td>-0.362939</td>\n","      <td>-0.072233</td>\n","      <td>-0.166108</td>\n","      <td>-0.135857</td>\n","      <td>-0.287916</td>\n","      <td>-0.115378</td>\n","      <td>-0.113234</td>\n","      <td>-0.116047</td>\n","      <td>-0.107670</td>\n","      <td>-0.354300</td>\n","      <td>-0.193333</td>\n","      <td>-0.006699</td>\n","      <td>-0.162588</td>\n","      <td>-0.325241</td>\n","      <td>-0.066025</td>\n","      <td>-0.376063</td>\n","    </tr>\n","    <tr>\n","      <th>addr_lat</th>\n","      <td>-0.008653</td>\n","      <td>-0.114986</td>\n","      <td>0.028441</td>\n","      <td>-0.037717</td>\n","      <td>-0.577385</td>\n","      <td>1.000000</td>\n","      <td>0.219029</td>\n","      <td>-0.429858</td>\n","      <td>-0.424711</td>\n","      <td>0.195647</td>\n","      <td>-0.002415</td>\n","      <td>-0.026215</td>\n","      <td>0.191486</td>\n","      <td>0.167685</td>\n","      <td>0.019505</td>\n","      <td>0.078029</td>\n","      <td>0.054610</td>\n","      <td>0.115376</td>\n","      <td>0.015503</td>\n","      <td>0.013967</td>\n","      <td>0.057687</td>\n","      <td>-0.000782</td>\n","      <td>0.146865</td>\n","      <td>0.104243</td>\n","      <td>0.000178</td>\n","      <td>0.066387</td>\n","      <td>0.109536</td>\n","      <td>0.002401</td>\n","      <td>0.170598</td>\n","    </tr>\n","    <tr>\n","      <th>addr_lon</th>\n","      <td>0.105315</td>\n","      <td>0.093089</td>\n","      <td>-0.062992</td>\n","      <td>-0.035054</td>\n","      <td>0.462277</td>\n","      <td>0.219029</td>\n","      <td>1.000000</td>\n","      <td>0.554511</td>\n","      <td>0.563806</td>\n","      <td>-0.281790</td>\n","      <td>-0.003623</td>\n","      <td>-0.012528</td>\n","      <td>-0.259673</td>\n","      <td>-0.182011</td>\n","      <td>-0.070451</td>\n","      <td>-0.138343</td>\n","      <td>-0.085478</td>\n","      <td>-0.224737</td>\n","      <td>-0.153365</td>\n","      <td>-0.165555</td>\n","      <td>-0.055615</td>\n","      <td>-0.168426</td>\n","      <td>-0.270704</td>\n","      <td>-0.100606</td>\n","      <td>-0.038981</td>\n","      <td>-0.140828</td>\n","      <td>-0.262711</td>\n","      <td>-0.041091</td>\n","      <td>-0.239193</td>\n","    </tr>\n","    <tr>\n","      <th>bin</th>\n","      <td>0.117460</td>\n","      <td>0.142331</td>\n","      <td>-0.100642</td>\n","      <td>-0.013148</td>\n","      <td>0.950995</td>\n","      <td>-0.429858</td>\n","      <td>0.554511</td>\n","      <td>1.000000</td>\n","      <td>0.994155</td>\n","      <td>-0.426813</td>\n","      <td>0.010451</td>\n","      <td>0.021091</td>\n","      <td>-0.380284</td>\n","      <td>-0.326176</td>\n","      <td>-0.084767</td>\n","      <td>-0.173532</td>\n","      <td>-0.131706</td>\n","      <td>-0.263453</td>\n","      <td>-0.144695</td>\n","      <td>-0.119801</td>\n","      <td>-0.089042</td>\n","      <td>-0.112548</td>\n","      <td>-0.323696</td>\n","      <td>-0.182156</td>\n","      <td>-0.007928</td>\n","      <td>-0.144938</td>\n","      <td>-0.332165</td>\n","      <td>-0.111486</td>\n","      <td>-0.350957</td>\n","    </tr>\n","    <tr>\n","      <th>bbl</th>\n","      <td>0.090194</td>\n","      <td>0.151078</td>\n","      <td>-0.106358</td>\n","      <td>-0.011608</td>\n","      <td>0.952018</td>\n","      <td>-0.424711</td>\n","      <td>0.563806</td>\n","      <td>0.994155</td>\n","      <td>1.000000</td>\n","      <td>-0.442496</td>\n","      <td>0.005694</td>\n","      <td>0.015880</td>\n","      <td>-0.403373</td>\n","      <td>-0.351657</td>\n","      <td>-0.081656</td>\n","      <td>-0.185248</td>\n","      <td>-0.132950</td>\n","      <td>-0.292240</td>\n","      <td>-0.160086</td>\n","      <td>-0.137143</td>\n","      <td>-0.109457</td>\n","      <td>-0.135245</td>\n","      <td>-0.346828</td>\n","      <td>-0.193851</td>\n","      <td>-0.021434</td>\n","      <td>-0.169315</td>\n","      <td>-0.339157</td>\n","      <td>-0.126716</td>\n","      <td>-0.367065</td>\n","    </tr>\n","    <tr>\n","      <th>floor_count</th>\n","      <td>-0.116488</td>\n","      <td>-0.228858</td>\n","      <td>0.091489</td>\n","      <td>0.020547</td>\n","      <td>-0.447352</td>\n","      <td>0.195647</td>\n","      <td>-0.281790</td>\n","      <td>-0.426813</td>\n","      <td>-0.442496</td>\n","      <td>1.000000</td>\n","      <td>0.151318</td>\n","      <td>-0.011722</td>\n","      <td>0.664202</td>\n","      <td>0.560443</td>\n","      <td>-0.024808</td>\n","      <td>0.229530</td>\n","      <td>0.112042</td>\n","      <td>0.633673</td>\n","      <td>0.205669</td>\n","      <td>0.177199</td>\n","      <td>0.380581</td>\n","      <td>0.361168</td>\n","      <td>0.655252</td>\n","      <td>0.498138</td>\n","      <td>0.084536</td>\n","      <td>0.395460</td>\n","      <td>0.253517</td>\n","      <td>0.185316</td>\n","      <td>0.769707</td>\n","    </tr>\n","    <tr>\n","      <th>year_built</th>\n","      <td>0.026593</td>\n","      <td>-0.056614</td>\n","      <td>-0.004480</td>\n","      <td>-0.021524</td>\n","      <td>-0.004916</td>\n","      <td>-0.002415</td>\n","      <td>-0.003623</td>\n","      <td>0.010451</td>\n","      <td>0.005694</td>\n","      <td>0.151318</td>\n","      <td>1.000000</td>\n","      <td>-0.031395</td>\n","      <td>0.094629</td>\n","      <td>0.091877</td>\n","      <td>-0.008686</td>\n","      <td>0.025308</td>\n","      <td>-0.014327</td>\n","      <td>0.095762</td>\n","      <td>0.044294</td>\n","      <td>0.006949</td>\n","      <td>0.084148</td>\n","      <td>0.082307</td>\n","      <td>0.085210</td>\n","      <td>0.051083</td>\n","      <td>0.006335</td>\n","      <td>0.051941</td>\n","      <td>-0.001037</td>\n","      <td>0.049746</td>\n","      <td>0.095295</td>\n","    </tr>\n","    <tr>\n","      <th>min_to_subway</th>\n","      <td>-0.006980</td>\n","      <td>0.014171</td>\n","      <td>0.017966</td>\n","      <td>0.007718</td>\n","      <td>0.023660</td>\n","      <td>-0.026215</td>\n","      <td>-0.012528</td>\n","      <td>0.021091</td>\n","      <td>0.015880</td>\n","      <td>-0.011722</td>\n","      <td>-0.031395</td>\n","      <td>1.000000</td>\n","      <td>-0.016984</td>\n","      <td>0.014982</td>\n","      <td>-0.005077</td>\n","      <td>0.004460</td>\n","      <td>-0.004594</td>\n","      <td>-0.009413</td>\n","      <td>-0.006284</td>\n","      <td>0.035343</td>\n","      <td>0.031686</td>\n","      <td>0.006643</td>\n","      <td>-0.013324</td>\n","      <td>-0.007238</td>\n","      <td>0.009395</td>\n","      <td>-0.007989</td>\n","      <td>0.000010</td>\n","      <td>-0.005945</td>\n","      <td>-0.012333</td>\n","    </tr>\n","    <tr>\n","      <th>has_doorman</th>\n","      <td>-0.042830</td>\n","      <td>-0.233059</td>\n","      <td>0.108987</td>\n","      <td>0.047766</td>\n","      <td>-0.410034</td>\n","      <td>0.191486</td>\n","      <td>-0.259673</td>\n","      <td>-0.380284</td>\n","      <td>-0.403373</td>\n","      <td>0.664202</td>\n","      <td>0.094629</td>\n","      <td>-0.016984</td>\n","      <td>1.000000</td>\n","      <td>0.663331</td>\n","      <td>-0.027788</td>\n","      <td>0.295768</td>\n","      <td>0.078518</td>\n","      <td>0.685812</td>\n","      <td>0.292331</td>\n","      <td>0.248036</td>\n","      <td>0.406196</td>\n","      <td>0.421955</td>\n","      <td>0.668138</td>\n","      <td>0.340186</td>\n","      <td>0.142268</td>\n","      <td>0.345234</td>\n","      <td>0.273486</td>\n","      <td>0.252027</td>\n","      <td>0.523314</td>\n","    </tr>\n","    <tr>\n","      <th>has_elevator</th>\n","      <td>0.061696</td>\n","      <td>-0.278231</td>\n","      <td>0.095867</td>\n","      <td>0.029836</td>\n","      <td>-0.362939</td>\n","      <td>0.167685</td>\n","      <td>-0.182011</td>\n","      <td>-0.326176</td>\n","      <td>-0.351657</td>\n","      <td>0.560443</td>\n","      <td>0.091877</td>\n","      <td>0.014982</td>\n","      <td>0.663331</td>\n","      <td>1.000000</td>\n","      <td>-0.050167</td>\n","      <td>0.305924</td>\n","      <td>0.081639</td>\n","      <td>0.606066</td>\n","      <td>0.243948</td>\n","      <td>0.203386</td>\n","      <td>0.392328</td>\n","      <td>0.409244</td>\n","      <td>0.526443</td>\n","      <td>0.273776</td>\n","      <td>0.099298</td>\n","      <td>0.304430</td>\n","      <td>0.238692</td>\n","      <td>0.228047</td>\n","      <td>0.453474</td>\n","    </tr>\n","    <tr>\n","      <th>has_fireplace</th>\n","      <td>-0.031611</td>\n","      <td>0.049998</td>\n","      <td>0.124532</td>\n","      <td>0.155044</td>\n","      <td>-0.072233</td>\n","      <td>0.019505</td>\n","      <td>-0.070451</td>\n","      <td>-0.084767</td>\n","      <td>-0.081656</td>\n","      <td>-0.024808</td>\n","      <td>-0.008686</td>\n","      <td>-0.005077</td>\n","      <td>-0.027788</td>\n","      <td>-0.050167</td>\n","      <td>1.000000</td>\n","      <td>0.053168</td>\n","      <td>0.042491</td>\n","      <td>-0.036684</td>\n","      <td>0.016961</td>\n","      <td>0.088507</td>\n","      <td>-0.030127</td>\n","      <td>-0.013023</td>\n","      <td>-0.025240</td>\n","      <td>0.000800</td>\n","      <td>0.049034</td>\n","      <td>-0.010935</td>\n","      <td>0.163483</td>\n","      <td>-0.052129</td>\n","      <td>-0.008051</td>\n","    </tr>\n","    <tr>\n","      <th>has_dishwasher</th>\n","      <td>0.023323</td>\n","      <td>0.046002</td>\n","      <td>0.161132</td>\n","      <td>0.111761</td>\n","      <td>-0.166108</td>\n","      <td>0.078029</td>\n","      <td>-0.138343</td>\n","      <td>-0.173532</td>\n","      <td>-0.185248</td>\n","      <td>0.229530</td>\n","      <td>0.025308</td>\n","      <td>0.004460</td>\n","      <td>0.295768</td>\n","      <td>0.305924</td>\n","      <td>0.053168</td>\n","      <td>1.000000</td>\n","      <td>0.043021</td>\n","      <td>0.322053</td>\n","      <td>0.256673</td>\n","      <td>0.334376</td>\n","      <td>0.212473</td>\n","      <td>0.286309</td>\n","      <td>0.258104</td>\n","      <td>0.112804</td>\n","      <td>0.089919</td>\n","      <td>0.121131</td>\n","      <td>0.187002</td>\n","      <td>0.276597</td>\n","      <td>0.172159</td>\n","    </tr>\n","    <tr>\n","      <th>is_furnished</th>\n","      <td>-0.012521</td>\n","      <td>-0.046021</td>\n","      <td>0.050068</td>\n","      <td>0.041965</td>\n","      <td>-0.135857</td>\n","      <td>0.054610</td>\n","      <td>-0.085478</td>\n","      <td>-0.131706</td>\n","      <td>-0.132950</td>\n","      <td>0.112042</td>\n","      <td>-0.014327</td>\n","      <td>-0.004594</td>\n","      <td>0.078518</td>\n","      <td>0.081639</td>\n","      <td>0.042491</td>\n","      <td>0.043021</td>\n","      <td>1.000000</td>\n","      <td>0.072221</td>\n","      <td>-0.014506</td>\n","      <td>0.086711</td>\n","      <td>-0.002425</td>\n","      <td>0.058287</td>\n","      <td>0.076347</td>\n","      <td>0.054185</td>\n","      <td>0.034308</td>\n","      <td>0.059076</td>\n","      <td>0.133343</td>\n","      <td>-0.028827</td>\n","      <td>0.090309</td>\n","    </tr>\n","    <tr>\n","      <th>has_gym</th>\n","      <td>0.004550</td>\n","      <td>-0.206094</td>\n","      <td>0.113062</td>\n","      <td>0.022605</td>\n","      <td>-0.287916</td>\n","      <td>0.115376</td>\n","      <td>-0.224737</td>\n","      <td>-0.263453</td>\n","      <td>-0.292240</td>\n","      <td>0.633673</td>\n","      <td>0.095762</td>\n","      <td>-0.009413</td>\n","      <td>0.685812</td>\n","      <td>0.606066</td>\n","      <td>-0.036684</td>\n","      <td>0.322053</td>\n","      <td>0.072221</td>\n","      <td>1.000000</td>\n","      <td>0.292123</td>\n","      <td>0.292996</td>\n","      <td>0.432486</td>\n","      <td>0.535142</td>\n","      <td>0.664979</td>\n","      <td>0.394261</td>\n","      <td>0.169583</td>\n","      <td>0.460646</td>\n","      <td>0.248213</td>\n","      <td>0.285377</td>\n","      <td>0.518792</td>\n","    </tr>\n","    <tr>\n","      <th>allows_pets</th>\n","      <td>0.040899</td>\n","      <td>0.023819</td>\n","      <td>0.087348</td>\n","      <td>0.032325</td>\n","      <td>-0.115378</td>\n","      <td>0.015503</td>\n","      <td>-0.153365</td>\n","      <td>-0.144695</td>\n","      <td>-0.160086</td>\n","      <td>0.205669</td>\n","      <td>0.044294</td>\n","      <td>-0.006284</td>\n","      <td>0.292331</td>\n","      <td>0.243948</td>\n","      <td>0.016961</td>\n","      <td>0.256673</td>\n","      <td>-0.014506</td>\n","      <td>0.292123</td>\n","      <td>1.000000</td>\n","      <td>0.177554</td>\n","      <td>0.180943</td>\n","      <td>0.270345</td>\n","      <td>0.266168</td>\n","      <td>0.093398</td>\n","      <td>0.130835</td>\n","      <td>0.162443</td>\n","      <td>0.149247</td>\n","      <td>0.271594</td>\n","      <td>0.175281</td>\n","    </tr>\n","    <tr>\n","      <th>has_washer_dryer</th>\n","      <td>-0.030651</td>\n","      <td>0.117120</td>\n","      <td>0.298722</td>\n","      <td>0.263907</td>\n","      <td>-0.113234</td>\n","      <td>0.013967</td>\n","      <td>-0.165555</td>\n","      <td>-0.119801</td>\n","      <td>-0.137143</td>\n","      <td>0.177199</td>\n","      <td>0.006949</td>\n","      <td>0.035343</td>\n","      <td>0.248036</td>\n","      <td>0.203386</td>\n","      <td>0.088507</td>\n","      <td>0.334376</td>\n","      <td>0.086711</td>\n","      <td>0.292996</td>\n","      <td>0.177554</td>\n","      <td>1.000000</td>\n","      <td>0.088676</td>\n","      <td>0.239291</td>\n","      <td>0.268367</td>\n","      <td>0.106097</td>\n","      <td>0.121955</td>\n","      <td>0.191961</td>\n","      <td>0.343123</td>\n","      <td>0.120897</td>\n","      <td>0.154859</td>\n","    </tr>\n","    <tr>\n","      <th>has_garage</th>\n","      <td>0.099141</td>\n","      <td>-0.116837</td>\n","      <td>0.051650</td>\n","      <td>0.005959</td>\n","      <td>-0.116047</td>\n","      <td>0.057687</td>\n","      <td>-0.055615</td>\n","      <td>-0.089042</td>\n","      <td>-0.109457</td>\n","      <td>0.380581</td>\n","      <td>0.084148</td>\n","      <td>0.031686</td>\n","      <td>0.406196</td>\n","      <td>0.392328</td>\n","      <td>-0.030127</td>\n","      <td>0.212473</td>\n","      <td>-0.002425</td>\n","      <td>0.432486</td>\n","      <td>0.180943</td>\n","      <td>0.088676</td>\n","      <td>1.000000</td>\n","      <td>0.295535</td>\n","      <td>0.383031</td>\n","      <td>0.323507</td>\n","      <td>0.148442</td>\n","      <td>0.244646</td>\n","      <td>0.095437</td>\n","      <td>0.180798</td>\n","      <td>0.311203</td>\n","    </tr>\n","    <tr>\n","      <th>has_roofdeck</th>\n","      <td>-0.012773</td>\n","      <td>-0.085111</td>\n","      <td>0.102592</td>\n","      <td>0.026781</td>\n","      <td>-0.107670</td>\n","      <td>-0.000782</td>\n","      <td>-0.168426</td>\n","      <td>-0.112548</td>\n","      <td>-0.135245</td>\n","      <td>0.361168</td>\n","      <td>0.082307</td>\n","      <td>0.006643</td>\n","      <td>0.421955</td>\n","      <td>0.409244</td>\n","      <td>-0.013023</td>\n","      <td>0.286309</td>\n","      <td>0.058287</td>\n","      <td>0.535142</td>\n","      <td>0.270345</td>\n","      <td>0.239291</td>\n","      <td>0.295535</td>\n","      <td>1.000000</td>\n","      <td>0.413147</td>\n","      <td>0.193187</td>\n","      <td>0.166055</td>\n","      <td>0.297292</td>\n","      <td>0.174243</td>\n","      <td>0.260231</td>\n","      <td>0.291481</td>\n","    </tr>\n","    <tr>\n","      <th>has_concierge</th>\n","      <td>-0.060398</td>\n","      <td>-0.202524</td>\n","      <td>0.105276</td>\n","      <td>0.040962</td>\n","      <td>-0.354300</td>\n","      <td>0.146865</td>\n","      <td>-0.270704</td>\n","      <td>-0.323696</td>\n","      <td>-0.346828</td>\n","      <td>0.655252</td>\n","      <td>0.085210</td>\n","      <td>-0.013324</td>\n","      <td>0.668138</td>\n","      <td>0.526443</td>\n","      <td>-0.025240</td>\n","      <td>0.258104</td>\n","      <td>0.076347</td>\n","      <td>0.664979</td>\n","      <td>0.266168</td>\n","      <td>0.268367</td>\n","      <td>0.383031</td>\n","      <td>0.413147</td>\n","      <td>1.000000</td>\n","      <td>0.342509</td>\n","      <td>0.179550</td>\n","      <td>0.475757</td>\n","      <td>0.260079</td>\n","      <td>0.210697</td>\n","      <td>0.535699</td>\n","    </tr>\n","    <tr>\n","      <th>has_pool</th>\n","      <td>0.038340</td>\n","      <td>-0.091116</td>\n","      <td>0.089527</td>\n","      <td>0.051020</td>\n","      <td>-0.193333</td>\n","      <td>0.104243</td>\n","      <td>-0.100606</td>\n","      <td>-0.182156</td>\n","      <td>-0.193851</td>\n","      <td>0.498138</td>\n","      <td>0.051083</td>\n","      <td>-0.007238</td>\n","      <td>0.340186</td>\n","      <td>0.273776</td>\n","      <td>0.000800</td>\n","      <td>0.112804</td>\n","      <td>0.054185</td>\n","      <td>0.394261</td>\n","      <td>0.093398</td>\n","      <td>0.106097</td>\n","      <td>0.323507</td>\n","      <td>0.193187</td>\n","      <td>0.342509</td>\n","      <td>1.000000</td>\n","      <td>0.088873</td>\n","      <td>0.367574</td>\n","      <td>0.170412</td>\n","      <td>0.065794</td>\n","      <td>0.398257</td>\n","    </tr>\n","    <tr>\n","      <th>has_garden</th>\n","      <td>0.064100</td>\n","      <td>0.048234</td>\n","      <td>0.104741</td>\n","      <td>0.137652</td>\n","      <td>-0.006699</td>\n","      <td>0.000178</td>\n","      <td>-0.038981</td>\n","      <td>-0.007928</td>\n","      <td>-0.021434</td>\n","      <td>0.084536</td>\n","      <td>0.006335</td>\n","      <td>0.009395</td>\n","      <td>0.142268</td>\n","      <td>0.099298</td>\n","      <td>0.049034</td>\n","      <td>0.089919</td>\n","      <td>0.034308</td>\n","      <td>0.169583</td>\n","      <td>0.130835</td>\n","      <td>0.121955</td>\n","      <td>0.148442</td>\n","      <td>0.166055</td>\n","      <td>0.179550</td>\n","      <td>0.088873</td>\n","      <td>1.000000</td>\n","      <td>0.247550</td>\n","      <td>0.138419</td>\n","      <td>0.053346</td>\n","      <td>0.062580</td>\n","    </tr>\n","    <tr>\n","      <th>has_childrens_playroom</th>\n","      <td>0.011357</td>\n","      <td>-0.083456</td>\n","      <td>0.111949</td>\n","      <td>0.068867</td>\n","      <td>-0.162588</td>\n","      <td>0.066387</td>\n","      <td>-0.140828</td>\n","      <td>-0.144938</td>\n","      <td>-0.169315</td>\n","      <td>0.395460</td>\n","      <td>0.051941</td>\n","      <td>-0.007989</td>\n","      <td>0.345234</td>\n","      <td>0.304430</td>\n","      <td>-0.010935</td>\n","      <td>0.121131</td>\n","      <td>0.059076</td>\n","      <td>0.460646</td>\n","      <td>0.162443</td>\n","      <td>0.191961</td>\n","      <td>0.244646</td>\n","      <td>0.297292</td>\n","      <td>0.475757</td>\n","      <td>0.367574</td>\n","      <td>0.247550</td>\n","      <td>1.000000</td>\n","      <td>0.193130</td>\n","      <td>0.087075</td>\n","      <td>0.322977</td>\n","    </tr>\n","    <tr>\n","      <th>rent</th>\n","      <td>-0.035145</td>\n","      <td>0.353337</td>\n","      <td>0.611987</td>\n","      <td>0.649984</td>\n","      <td>-0.325241</td>\n","      <td>0.109536</td>\n","      <td>-0.262711</td>\n","      <td>-0.332165</td>\n","      <td>-0.339157</td>\n","      <td>0.253517</td>\n","      <td>-0.001037</td>\n","      <td>0.000010</td>\n","      <td>0.273486</td>\n","      <td>0.238692</td>\n","      <td>0.163483</td>\n","      <td>0.187002</td>\n","      <td>0.133343</td>\n","      <td>0.248213</td>\n","      <td>0.149247</td>\n","      <td>0.343123</td>\n","      <td>0.095437</td>\n","      <td>0.174243</td>\n","      <td>0.260079</td>\n","      <td>0.170412</td>\n","      <td>0.138419</td>\n","      <td>0.193130</td>\n","      <td>1.000000</td>\n","      <td>-0.001163</td>\n","      <td>0.267151</td>\n","    </tr>\n","    <tr>\n","      <th>no_fee</th>\n","      <td>0.052429</td>\n","      <td>-0.004335</td>\n","      <td>-0.003053</td>\n","      <td>-0.074162</td>\n","      <td>-0.066025</td>\n","      <td>0.002401</td>\n","      <td>-0.041091</td>\n","      <td>-0.111486</td>\n","      <td>-0.126716</td>\n","      <td>0.185316</td>\n","      <td>0.049746</td>\n","      <td>-0.005945</td>\n","      <td>0.252027</td>\n","      <td>0.228047</td>\n","      <td>-0.052129</td>\n","      <td>0.276597</td>\n","      <td>-0.028827</td>\n","      <td>0.285377</td>\n","      <td>0.271594</td>\n","      <td>0.120897</td>\n","      <td>0.180798</td>\n","      <td>0.260231</td>\n","      <td>0.210697</td>\n","      <td>0.065794</td>\n","      <td>0.053346</td>\n","      <td>0.087075</td>\n","      <td>-0.001163</td>\n","      <td>1.000000</td>\n","      <td>0.157909</td>\n","    </tr>\n","    <tr>\n","      <th>floornumber</th>\n","      <td>-0.003418</td>\n","      <td>-0.158895</td>\n","      <td>0.116938</td>\n","      <td>0.054328</td>\n","      <td>-0.376063</td>\n","      <td>0.170598</td>\n","      <td>-0.239193</td>\n","      <td>-0.350957</td>\n","      <td>-0.367065</td>\n","      <td>0.769707</td>\n","      <td>0.095295</td>\n","      <td>-0.012333</td>\n","      <td>0.523314</td>\n","      <td>0.453474</td>\n","      <td>-0.008051</td>\n","      <td>0.172159</td>\n","      <td>0.090309</td>\n","      <td>0.518792</td>\n","      <td>0.175281</td>\n","      <td>0.154859</td>\n","      <td>0.311203</td>\n","      <td>0.291481</td>\n","      <td>0.535699</td>\n","      <td>0.398257</td>\n","      <td>0.062580</td>\n","      <td>0.322977</td>\n","      <td>0.267151</td>\n","      <td>0.157909</td>\n","      <td>1.000000</td>\n","    </tr>\n","  </tbody>\n","</table>\n","</div>"],"text/plain":["                        building_id  bedrooms  ...    no_fee  floornumber\n","building_id                1.000000 -0.001813  ...  0.052429    -0.003418\n","bedrooms                  -0.001813  1.000000  ... -0.004335    -0.158895\n","bathrooms                 -0.016501  0.464287  ... -0.003053     0.116938\n","size_sqft                 -0.006433  0.525537  ... -0.074162     0.054328\n","addr_zip                   0.064199  0.187639  ... -0.066025    -0.376063\n","addr_lat                  -0.008653 -0.114986  ...  0.002401     0.170598\n","addr_lon                   0.105315  0.093089  ... -0.041091    -0.239193\n","bin                        0.117460  0.142331  ... -0.111486    -0.350957\n","bbl                        0.090194  0.151078  ... -0.126716    -0.367065\n","floor_count               -0.116488 -0.228858  ...  0.185316     0.769707\n","year_built                 0.026593 -0.056614  ...  0.049746     0.095295\n","min_to_subway             -0.006980  0.014171  ... -0.005945    -0.012333\n","has_doorman               -0.042830 -0.233059  ...  0.252027     0.523314\n","has_elevator               0.061696 -0.278231  ...  0.228047     0.453474\n","has_fireplace             -0.031611  0.049998  ... -0.052129    -0.008051\n","has_dishwasher             0.023323  0.046002  ...  0.276597     0.172159\n","is_furnished              -0.012521 -0.046021  ... -0.028827     0.090309\n","has_gym                    0.004550 -0.206094  ...  0.285377     0.518792\n","allows_pets                0.040899  0.023819  ...  0.271594     0.175281\n","has_washer_dryer          -0.030651  0.117120  ...  0.120897     0.154859\n","has_garage                 0.099141 -0.116837  ...  0.180798     0.311203\n","has_roofdeck              -0.012773 -0.085111  ...  0.260231     0.291481\n","has_concierge             -0.060398 -0.202524  ...  0.210697     0.535699\n","has_pool                   0.038340 -0.091116  ...  0.065794     0.398257\n","has_garden                 0.064100  0.048234  ...  0.053346     0.062580\n","has_childrens_playroom     0.011357 -0.083456  ...  0.087075     0.322977\n","rent                      -0.035145  0.353337  ... -0.001163     0.267151\n","no_fee                     0.052429 -0.004335  ...  1.000000     0.157909\n","floornumber               -0.003418 -0.158895  ...  0.157909     1.000000\n","\n","[29 rows x 29 columns]"]},"metadata":{"tags":[]},"execution_count":9}]},{"cell_type":"code","metadata":{"id":"OCUPl-BEr7L8","colab_type":"code","outputId":"5994053a-9e66-4969-89e8-2f0c9d6ec824","executionInfo":{"status":"ok","timestamp":1574469169782,"user_tz":300,"elapsed":846,"user":{"displayName":"Jacinta Moore","photoUrl":"","userId":"14215851766389388616"}},"colab":{"base_uri":"https://localhost:8080/","height":327}},"source":["def heatmap(x, y, size):\n","    fig, ax = plt.subplots()\n","    \n","    # Mapping from column names to integer coordinates\n","    x_labels = [v for v in sorted(x.unique())]\n","    y_labels = [v for v in sorted(y.unique())]\n","    x_to_num = {p[1]:p[0] for p in enumerate(x_labels)} \n","    y_to_num = {p[1]:p[0] for p in enumerate(y_labels)} \n","    \n","    size_scale = 500\n","    ax.scatter(\n","        x=x.map(x_to_num), # Use mapping for x\n","        y=y.map(y_to_num), # Use mapping for y\n","        s=size * size_scale, # Vector of square sizes, proportional to size parameter\n","        marker='s' # Use square as scatterplot marker\n","    )\n","    \n","    # Show column labels on the axes\n","    ax.set_xticks([x_to_num[v] for v in x_labels])\n","    ax.set_xticklabels(x_labels, rotation=45, horizontalalignment='right')\n","    ax.set_yticks([y_to_num[v] for v in y_labels])\n","    ax.set_yticklabels(y_labels)\n","    \n","\n","columns = [\n","    'bedrooms', 'year_built', 'bathrooms', 'min_to_subway', \n","    'size_sqft', 'no_fee', 'has_doorman', 'rent', 'has_washer_dryer', 'has_concierge', 'floornumber'\n","]\n","corr = train_df[columns].corr()\n","corr = pd.melt(corr.reset_index(), id_vars='index') # Unpivot the dataframe, so we can get pair of arrays for x and y\n","corr.columns = ['x', 'y', 'value']\n","heatmap(\n","    x=corr['x'],\n","    y=corr['y'],\n","    size=corr['value'].abs()\n",")"],"execution_count":4,"outputs":[{"output_type":"display_data","data":{"image/png":"iVBORw0KGgoAAAANSUhEUgAAAb4AAAE2CAYAAAAebvdcAAAABHNCSVQICAgIfAhkiAAAAAlwSFlz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\nAElFTkSuQmCC\n","text/plain":["<Figure size 432x288 with 1 Axes>"]},"metadata":{"tags":[]}}]},{"cell_type":"code","metadata":{"id":"Pe5SOF-Nr7kZ","colab_type":"code","outputId":"6de9e0c4-9960-43ed-b971-76a02adfc018","executionInfo":{"status":"ok","timestamp":1574366489146,"user_tz":300,"elapsed":510,"user":{"displayName":"Jacinta Moore","photoUrl":"","userId":"14215851766389388616"}},"colab":{"base_uri":"https://localhost:8080/","height":265}},"source":["_ = plt.plot(train_df['rent'], train_df['size_sqft'], marker='.', linestyle='none')"],"execution_count":0,"outputs":[{"output_type":"display_data","data":{"image/png":"iVBORw0KGgoAAAANSUhEUgAAAYQAAAD4CAYAAADsKpHdAAAABHNCSVQICAgIfAhkiAAAAAlwSFlz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\nvmgaAAAAAElFTkSuQmCC\n","text/plain":["<Figure size 432x288 with 1 Axes>"]},"metadata":{"tags":[]}}]},{"cell_type":"code","metadata":{"id":"gqlfNGGctxXa","colab_type":"code","outputId":"377d8464-79a3-4566-bb53-c68732f5f918","executionInfo":{"status":"ok","timestamp":1574366490675,"user_tz":300,"elapsed":449,"user":{"displayName":"Jacinta Moore","photoUrl":"","userId":"14215851766389388616"}},"colab":{"base_uri":"https://localhost:8080/","height":265}},"source":["_ = plt.plot(train_df['rent'], train_df['bathrooms'], marker='.', linestyle='none')"],"execution_count":0,"outputs":[{"output_type":"display_data","data":{"image/png":"iVBORw0KGgoAAAANSUhEUgAAAXsAAAD4CAYAAAANbUbJAAAABHNCSVQICAgIfAhkiAAAAAlwSFlz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\nWQY42JuZZYCDvZlZBjjYm5llwP8H+sO9Jra821kAAAAASUVORK5CYII=\n","text/plain":["<Figure size 432x288 with 1 Axes>"]},"metadata":{"tags":[]}}]},{"cell_type":"code","metadata":{"id":"8vhR-bRdzG0X","colab_type":"code","outputId":"bbd62b7b-1d5d-4b41-9dea-fbe8c7453c80","executionInfo":{"status":"ok","timestamp":1574366494729,"user_tz":300,"elapsed":689,"user":{"displayName":"Jacinta Moore","photoUrl":"","userId":"14215851766389388616"}},"colab":{"base_uri":"https://localhost:8080/","height":265}},"source":["_ = plt.plot(train_df['rent'], train_df['bedrooms'], marker='.', linestyle='none')"],"execution_count":0,"outputs":[{"output_type":"display_data","data":{"image/png":"iVBORw0KGgoAAAANSUhEUgAAAWsAAAD4CAYAAAAqw8chAAAABHNCSVQICAgIfAhkiAAAAAlwSFlz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\nOfmS09Y4CwAAAABJRU5ErkJggg==\n","text/plain":["<Figure size 432x288 with 1 Axes>"]},"metadata":{"tags":[]}}]},{"cell_type":"code","metadata":{"id":"sB4zNUHzuY-G","colab_type":"code","colab":{}},"source":["# extract usable features\n","feature_cols = [\n","    'bedrooms', 'year_built', 'bathrooms', 'min_to_subway', \n","    'size_sqft', 'no_fee', 'has_doorman',  'has_washer_dryer', 'floornumber'\n","]\n","train_features = train_df[feature_cols] "],"execution_count":0,"outputs":[]},{"cell_type":"markdown","metadata":{"id":"LA2ArZzOlOek","colab_type":"text"},"source":["Adding a new feature using existing data: Distance to Central Park. Idea: the closer to central park the more the rent. "]},{"cell_type":"code","metadata":{"id":"YzmUaQuYlNwy","colab_type":"code","colab":{}},"source":["def deg2rad(deg):\n","  return deg * (np.pi/180)\n","\n","def getDistanceFromLatLonInKm(lat1,lon1,lat2=40.78,lon2=-73.965):\n","  R = 6371  # Radius of the earth in km\n","  dLat = deg2rad(lat2-lat1) \n","  dLon = deg2rad(lon2-lon1) \n","  a = np.sin(dLat/2) * np.sin(dLat/2) + np.cos(deg2rad(lat1)) * np.cos(deg2rad(lat2)) * np.sin(dLon/2) * np.sin(dLon/2)\n","  c = 2 * np.arctan2(np.sqrt(a), np.sqrt(1-a)) \n","  d = R * c  # Distance in km\n","  return d"],"execution_count":0,"outputs":[]},{"cell_type":"code","metadata":{"id":"qF0InZIGl_Qr","colab_type":"code","colab":{}},"source":["train_df2 = train_df\n","test_df2 = test_df"],"execution_count":0,"outputs":[]},{"cell_type":"code","metadata":{"id":"2WFLT4galaR8","colab_type":"code","colab":{}},"source":["train_df2['dist_centralPark'] = getDistanceFromLatLonInKm(train_df['addr_lat'], train_df['addr_lon'])\n","test_df2['dist_centralPark'] = getDistanceFromLatLonInKm(test_df['addr_lat'], test_df['addr_lon'])"],"execution_count":0,"outputs":[]},{"cell_type":"code","metadata":{"id":"hSpZAEMyrsJt","colab_type":"code","colab":{}},"source":["submit1_df['dist_centralPark'] = getDistanceFromLatLonInKm(submit1_df['addr_lat'], submit1_df['addr_lon'])"],"execution_count":0,"outputs":[]},{"cell_type":"code","metadata":{"id":"BflWgnb7lar9","colab_type":"code","outputId":"edd5c0e4-675d-4712-80da-a124a1a9473f","executionInfo":{"status":"ok","timestamp":1574469238407,"user_tz":300,"elapsed":343,"user":{"displayName":"Jacinta Moore","photoUrl":"","userId":"14215851766389388616"}},"colab":{"base_uri":"https://localhost:8080/","height":386}},"source":["train_df2['dist_centralPark'].head(20)"],"execution_count":10,"outputs":[{"output_type":"execute_result","data":{"text/plain":["rental_id\n","7236931    14.796742\n","7331920     7.806511\n","7139224     2.743952\n","7364827     3.660724\n","7242151    11.126183\n","7171210     2.331770\n","7286986     7.900183\n","7418503     2.803593\n","7304773     3.370226\n","7180240     2.530775\n","7199509     6.520788\n","7374106     7.727537\n","7211146     5.455471\n","7205032     9.249498\n","7303381     6.165054\n","7257553    10.045174\n","7371094     9.455008\n","7386616    19.309963\n","7161667     1.416285\n","7256881     1.781116\n","Name: dist_centralPark, dtype: float64"]},"metadata":{"tags":[]},"execution_count":10}]},{"cell_type":"code","metadata":{"id":"ChbpI5i1qwgY","colab_type":"code","outputId":"eccb7a01-7e62-44e0-ff96-53b0ead3c82a","executionInfo":{"status":"ok","timestamp":1574469276439,"user_tz":300,"elapsed":565,"user":{"displayName":"Jacinta Moore","photoUrl":"","userId":"14215851766389388616"}},"colab":{"base_uri":"https://localhost:8080/","height":265}},"source":["_ = plt.plot(train_df['rent'], train_df2['dist_centralPark'], marker='.', linestyle='none')\n","#plt.xlim(0, 10000)\n","# not really a correlation"],"execution_count":12,"outputs":[{"output_type":"display_data","data":{"image/png":"iVBORw0KGgoAAAANSUhEUgAAAXEAAAD4CAYAAAAaT9YAAAAABHNCSVQICAgIfAhkiAAAAAlwSFlz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\n","text/plain":["<Figure size 432x288 with 1 Axes>"]},"metadata":{"tags":[]}}]},{"cell_type":"code","metadata":{"id":"lHDDen61ltp7","colab_type":"code","colab":{}},"source":["# extract usable features\n","feature_cols2 = [\n","    'bedrooms', 'year_built', 'bathrooms', 'min_to_subway', \n","    'size_sqft', 'no_fee', 'has_doorman',  'has_washer_dryer', 'floornumber', 'dist_centralPark'\n","]\n","train_features2 = train_df2[feature_cols2] "],"execution_count":0,"outputs":[]},{"cell_type":"markdown","metadata":{"colab_type":"text","id":"HgGR6M-aojEZ"},"source":["## Data Preprocessing\n","\n","This section we look at missing data and outliers and deal with these\n","\n"]},{"cell_type":"markdown","metadata":{"id":"m2jx_CgDtHyB","colab_type":"text"},"source":["#### 1. Missing Data\n","'min_to_subway', 'year_built' , 'floornumber' have NaNs. Solutions: drop or impute. This round we will impute as the feature 'floornumber' has 10% (1200) values missing and dropping this would reduce the data to only 10,000 points. "]},{"cell_type":"code","metadata":{"id":"2R36HvWvudbC","colab_type":"code","outputId":"04bb2886-0935-4873-845f-3e679659b5c5","executionInfo":{"status":"ok","timestamp":1574366505378,"user_tz":300,"elapsed":325,"user":{"displayName":"Jacinta Moore","photoUrl":"","userId":"14215851766389388616"}},"colab":{"base_uri":"https://localhost:8080/","height":34}},"source":["train_df['bedrooms'].isna().sum()\n"],"execution_count":0,"outputs":[{"output_type":"execute_result","data":{"text/plain":["0"]},"metadata":{"tags":[]},"execution_count":15}]},{"cell_type":"code","metadata":{"id":"3hHU0IGOv8Na","colab_type":"code","outputId":"e1ac3994-5e1a-4a82-b09e-ba42be3b1418","executionInfo":{"status":"ok","timestamp":1574366507347,"user_tz":300,"elapsed":338,"user":{"displayName":"Jacinta Moore","photoUrl":"","userId":"14215851766389388616"}},"colab":{"base_uri":"https://localhost:8080/","height":34}},"source":["train_df['year_built'].isna().sum()"],"execution_count":0,"outputs":[{"output_type":"execute_result","data":{"text/plain":["403"]},"metadata":{"tags":[]},"execution_count":16}]},{"cell_type":"code","metadata":{"id":"sxjWSZD7v8gO","colab_type":"code","outputId":"84aff1c6-c20b-4af7-e154-8e09de3fa07e","executionInfo":{"status":"ok","timestamp":1574366508204,"user_tz":300,"elapsed":363,"user":{"displayName":"Jacinta Moore","photoUrl":"","userId":"14215851766389388616"}},"colab":{"base_uri":"https://localhost:8080/","height":34}},"source":["train_df['bathrooms'].isna().sum()"],"execution_count":0,"outputs":[{"output_type":"execute_result","data":{"text/plain":["0"]},"metadata":{"tags":[]},"execution_count":17}]},{"cell_type":"code","metadata":{"id":"-4GEN3upv8wT","colab_type":"code","outputId":"f538343c-f2af-4586-ebb8-c62fff1acc8e","executionInfo":{"status":"ok","timestamp":1574366509349,"user_tz":300,"elapsed":372,"user":{"displayName":"Jacinta Moore","photoUrl":"","userId":"14215851766389388616"}},"colab":{"base_uri":"https://localhost:8080/","height":34}},"source":["train_df['min_to_subway'].isna().sum()"],"execution_count":0,"outputs":[{"output_type":"execute_result","data":{"text/plain":["126"]},"metadata":{"tags":[]},"execution_count":18}]},{"cell_type":"code","metadata":{"id":"9JHTWqHYv8_z","colab_type":"code","outputId":"15ffe7e8-6f31-483b-f26c-cdf69395b063","executionInfo":{"status":"ok","timestamp":1574366510713,"user_tz":300,"elapsed":406,"user":{"displayName":"Jacinta Moore","photoUrl":"","userId":"14215851766389388616"}},"colab":{"base_uri":"https://localhost:8080/","height":34}},"source":["train_df['size_sqft'].isna().sum()"],"execution_count":0,"outputs":[{"output_type":"execute_result","data":{"text/plain":["0"]},"metadata":{"tags":[]},"execution_count":19}]},{"cell_type":"code","metadata":{"id":"wiaSyv9qv9QI","colab_type":"code","outputId":"450ef1ef-08b6-45ad-ef3a-cd3f8ee31a8e","executionInfo":{"status":"ok","timestamp":1574269182871,"user_tz":300,"elapsed":670,"user":{"displayName":"Jacinta Moore","photoUrl":"","userId":"14215851766389388616"}},"colab":{"base_uri":"https://localhost:8080/","height":34}},"source":["train_df['no_fee'].isna().sum()"],"execution_count":0,"outputs":[{"output_type":"execute_result","data":{"text/plain":["0"]},"metadata":{"tags":[]},"execution_count":31}]},{"cell_type":"code","metadata":{"id":"dTp4ZaChwILQ","colab_type":"code","outputId":"625c4d7b-7dab-4da8-9f29-af38c2c43782","executionInfo":{"status":"ok","timestamp":1574269184735,"user_tz":300,"elapsed":549,"user":{"displayName":"Jacinta Moore","photoUrl":"","userId":"14215851766389388616"}},"colab":{"base_uri":"https://localhost:8080/","height":34}},"source":["train_df['has_doorman'].isna().sum()"],"execution_count":0,"outputs":[{"output_type":"execute_result","data":{"text/plain":["0"]},"metadata":{"tags":[]},"execution_count":32}]},{"cell_type":"code","metadata":{"id":"6eBdNYVgwIfG","colab_type":"code","outputId":"bf031996-01fc-4808-ce31-d3055237cd20","executionInfo":{"status":"ok","timestamp":1574269186482,"user_tz":300,"elapsed":594,"user":{"displayName":"Jacinta Moore","photoUrl":"","userId":"14215851766389388616"}},"colab":{"base_uri":"https://localhost:8080/","height":34}},"source":["train_df['has_washer_dryer'].isna().sum()"],"execution_count":0,"outputs":[{"output_type":"execute_result","data":{"text/plain":["0"]},"metadata":{"tags":[]},"execution_count":33}]},{"cell_type":"code","metadata":{"id":"IjUpxThGwLGD","colab_type":"code","outputId":"ee98f9bd-2027-4059-a1eb-5aa70fbf4775","executionInfo":{"status":"ok","timestamp":1574269427727,"user_tz":300,"elapsed":401,"user":{"displayName":"Jacinta Moore","photoUrl":"","userId":"14215851766389388616"}},"colab":{"base_uri":"https://localhost:8080/","height":34}},"source":["train_df['floornumber'].isna().sum()"],"execution_count":0,"outputs":[{"output_type":"execute_result","data":{"text/plain":["1277"]},"metadata":{"tags":[]},"execution_count":37}]},{"cell_type":"code","metadata":{"id":"19X_Je-ixdib","colab_type":"code","outputId":"b93a7c93-8f89-4e95-c28a-dd8a0bd39dcc","executionInfo":{"status":"ok","timestamp":1574368435760,"user_tz":300,"elapsed":333,"user":{"displayName":"Jacinta Moore","photoUrl":"","userId":"14215851766389388616"}},"colab":{"base_uri":"https://localhost:8080/","height":168}},"source":["train_df['floornumber'].describe()\n"],"execution_count":0,"outputs":[{"output_type":"execute_result","data":{"text/plain":["count    10723.000000\n","mean         6.182738\n","std          7.671545\n","min          0.000000\n","25%          2.000000\n","50%          3.000000\n","75%          6.000000\n","max         78.000000\n","Name: floornumber, dtype: float64"]},"metadata":{"tags":[]},"execution_count":52}]},{"cell_type":"code","metadata":{"colab_type":"code","outputId":"643c5a16-836e-4929-a0fd-7d93f9f5b8bf","executionInfo":{"status":"ok","timestamp":1574368441620,"user_tz":300,"elapsed":434,"user":{"displayName":"Jacinta Moore","photoUrl":"","userId":"14215851766389388616"}},"id":"Y703Ub8Pq1xY","colab":{"base_uri":"https://localhost:8080/","height":168}},"source":["\n","test_df['floornumber'].describe()"],"execution_count":0,"outputs":[{"output_type":"execute_result","data":{"text/plain":["count    1775.000000\n","mean        6.291831\n","std         8.066341\n","min         1.000000\n","25%         2.000000\n","50%         3.000000\n","75%         6.000000\n","max        71.000000\n","Name: floornumber, dtype: float64"]},"metadata":{"tags":[]},"execution_count":53}]},{"cell_type":"code","metadata":{"id":"m0Lsg3gAx798","colab_type":"code","outputId":"f7602dfa-1d09-44fe-b552-d43d1478b133","executionInfo":{"status":"ok","timestamp":1574269613053,"user_tz":300,"elapsed":407,"user":{"displayName":"Jacinta Moore","photoUrl":"","userId":"14215851766389388616"}},"colab":{"base_uri":"https://localhost:8080/","height":168}},"source":["train_df['min_to_subway'].describe()"],"execution_count":0,"outputs":[{"output_type":"execute_result","data":{"text/plain":["count     11874.000000\n","mean         73.588716\n","std        2681.611157\n","min           0.016700\n","25%           1.616700\n","50%           2.750000\n","75%           4.366700\n","max      103343.616700\n","Name: min_to_subway, dtype: float64"]},"metadata":{"tags":[]},"execution_count":44}]},{"cell_type":"code","metadata":{"id":"K1qvrG43q1ag","colab_type":"code","outputId":"8a45bd9a-7bf8-4893-b4b8-6d3b629bedc8","executionInfo":{"status":"ok","timestamp":1574368484388,"user_tz":300,"elapsed":337,"user":{"displayName":"Jacinta Moore","photoUrl":"","userId":"14215851766389388616"}},"colab":{"base_uri":"https://localhost:8080/","height":168}},"source":["test_df['min_to_subway'].describe()"],"execution_count":0,"outputs":[{"output_type":"execute_result","data":{"text/plain":["count    1983.000000\n","mean        3.768095\n","std         4.110479\n","min         0.016700\n","25%         1.666700\n","50%         2.816700\n","75%         4.458350\n","max        57.583300\n","Name: min_to_subway, dtype: float64"]},"metadata":{"tags":[]},"execution_count":54}]},{"cell_type":"code","metadata":{"id":"ZYg37N89x8aQ","colab_type":"code","outputId":"90f3dd7b-8e18-4c49-a3d7-c6895590ae5a","executionInfo":{"status":"ok","timestamp":1574269623121,"user_tz":300,"elapsed":456,"user":{"displayName":"Jacinta Moore","photoUrl":"","userId":"14215851766389388616"}},"colab":{"base_uri":"https://localhost:8080/","height":168}},"source":["train_df['year_built'].describe()"],"execution_count":0,"outputs":[{"output_type":"execute_result","data":{"text/plain":["count    11597.000000\n","mean      1935.982668\n","std        158.157134\n","min          0.000000\n","25%       1915.000000\n","50%       1931.000000\n","75%       1987.000000\n","max       2019.000000\n","Name: year_built, dtype: float64"]},"metadata":{"tags":[]},"execution_count":45}]},{"cell_type":"code","metadata":{"id":"UNPKj6bNrNXr","colab_type":"code","outputId":"cbe9955e-fffc-479b-95a5-ddb71d643cb8","executionInfo":{"status":"ok","timestamp":1574368518853,"user_tz":300,"elapsed":450,"user":{"displayName":"Jacinta Moore","photoUrl":"","userId":"14215851766389388616"}},"colab":{"base_uri":"https://localhost:8080/","height":168}},"source":["test_df['year_built'].describe()"],"execution_count":0,"outputs":[{"output_type":"execute_result","data":{"text/plain":["count    1933.000000\n","mean     1934.515261\n","std       164.135048\n","min         0.000000\n","25%      1915.000000\n","50%      1931.000000\n","75%      1987.000000\n","max      2019.000000\n","Name: year_built, dtype: float64"]},"metadata":{"tags":[]},"execution_count":55}]},{"cell_type":"markdown","metadata":{"id":"gQw2F3DKyQTz","colab_type":"text"},"source":["The features all have large outliers that result in a much higher mean than median so we will use median for the impute value for the missing values. "]},{"cell_type":"code","metadata":{"colab_type":"code","id":"smFM_TWEuXz9","colab":{}},"source":["# impute missing values with medians\n","train_features = train_features.fillna(train_features.median(), axis=0)\n","\n","# construct target vector\n","train_target = train_df['rent']"],"execution_count":0,"outputs":[]},{"cell_type":"code","metadata":{"id":"Vre3NyZhnnQJ","colab_type":"code","colab":{}},"source":["# impute missing values with medians\n","train_features2 = train_features2.fillna(train_features2.median(), axis=0)\n","\n","# construct target vector\n","train_target2 = train_df2['rent']"],"execution_count":0,"outputs":[]},{"cell_type":"markdown","metadata":{"id":"_mMjb8rGsjXG","colab_type":"text"},"source":["#### 2. Outlier Data\n","From the above analysis it can be seen that the size_sqft and bathrooms have the value 0 for some data points. It is not possible for a rental space to have no size and it unusal for no bathroom in a rental. "]},{"cell_type":"code","metadata":{"id":"816TIZKRsjJH","colab_type":"code","outputId":"b5243056-6099-47a3-b312-675bcc2a2f60","executionInfo":{"status":"ok","timestamp":1574366519612,"user_tz":300,"elapsed":439,"user":{"displayName":"Jacinta Moore","photoUrl":"","userId":"14215851766389388616"}},"colab":{"base_uri":"https://localhost:8080/","height":34}},"source":["(train_features['size_sqft']==0).sum()\n","## 841 values have outlier value of 0 for size_sqft"],"execution_count":0,"outputs":[{"output_type":"execute_result","data":{"text/plain":["841"]},"metadata":{"tags":[]},"execution_count":21}]},{"cell_type":"code","metadata":{"id":"ukccAkmlrewp","colab_type":"code","outputId":"76b48a1e-17ca-4d2e-a74f-cb8e7f990d82","executionInfo":{"status":"ok","timestamp":1574368580605,"user_tz":300,"elapsed":378,"user":{"displayName":"Jacinta Moore","photoUrl":"","userId":"14215851766389388616"}},"colab":{"base_uri":"https://localhost:8080/","height":34}},"source":["(test_features['size_sqft']==0).sum()"],"execution_count":0,"outputs":[{"output_type":"execute_result","data":{"text/plain":["174"]},"metadata":{"tags":[]},"execution_count":56}]},{"cell_type":"code","metadata":{"colab_type":"code","outputId":"d84b6c42-2bf9-4623-e423-fb49528af111","executionInfo":{"status":"ok","timestamp":1574433997994,"user_tz":300,"elapsed":586,"user":{"displayName":"Jacinta Moore","photoUrl":"","userId":"14215851766389388616"}},"id":"MJIItKF-saFI","colab":{"base_uri":"https://localhost:8080/","height":34}},"source":["(submit1_df['size_sqft']==0).sum()"],"execution_count":0,"outputs":[{"output_type":"execute_result","data":{"text/plain":["177"]},"metadata":{"tags":[]},"execution_count":14}]},{"cell_type":"code","metadata":{"id":"BOOKcH1Yh1oN","colab_type":"code","outputId":"3fe56fdc-09e7-4eac-9550-ad157d0ef53d","executionInfo":{"status":"ok","timestamp":1574366521561,"user_tz":300,"elapsed":430,"user":{"displayName":"Jacinta Moore","photoUrl":"","userId":"14215851766389388616"}},"colab":{"base_uri":"https://localhost:8080/","height":34}},"source":["(train_features['bathrooms']==0).sum()\n","## 4 values have outlier value of 0 for bathrooms...No bathrooms??"],"execution_count":0,"outputs":[{"output_type":"execute_result","data":{"text/plain":["4"]},"metadata":{"tags":[]},"execution_count":22}]},{"cell_type":"code","metadata":{"id":"EWZxxglqrkC0","colab_type":"code","outputId":"49ddcf20-d2d1-4961-ec99-c2c5281d8e7d","executionInfo":{"status":"ok","timestamp":1574368604854,"user_tz":300,"elapsed":369,"user":{"displayName":"Jacinta Moore","photoUrl":"","userId":"14215851766389388616"}},"colab":{"base_uri":"https://localhost:8080/","height":34}},"source":["(test_features['bathrooms']==0).sum()"],"execution_count":0,"outputs":[{"output_type":"execute_result","data":{"text/plain":["3"]},"metadata":{"tags":[]},"execution_count":57}]},{"cell_type":"code","metadata":{"id":"7jcdosFlyvaH","colab_type":"code","outputId":"fc5efc46-6834-420d-d447-910e42ac3552","executionInfo":{"status":"ok","timestamp":1574270011276,"user_tz":300,"elapsed":424,"user":{"displayName":"Jacinta Moore","photoUrl":"","userId":"14215851766389388616"}},"colab":{"base_uri":"https://localhost:8080/","height":34}},"source":["(train_features['bedrooms']==0).sum()\n","## 1556 values have outlier value of 0 for bedrooms...No bedrooms??Commercial rental?"],"execution_count":0,"outputs":[{"output_type":"execute_result","data":{"text/plain":["1556"]},"metadata":{"tags":[]},"execution_count":54}]},{"cell_type":"code","metadata":{"id":"5r0n9ZApqLvP","colab_type":"code","colab":{}},"source":["no_bedrooms = train_df[train_df['bedrooms']==0]"],"execution_count":0,"outputs":[]},{"cell_type":"code","metadata":{"id":"RSmOrsZPtMg7","colab_type":"code","outputId":"06b110bd-64bd-4da0-b1d7-082d64ccc9fb","executionInfo":{"status":"ok","timestamp":1574369033771,"user_tz":300,"elapsed":385,"user":{"displayName":"Jacinta Moore","photoUrl":"","userId":"14215851766389388616"}},"colab":{"base_uri":"https://localhost:8080/","height":813}},"source":["no_bedrooms.head(10)"],"execution_count":0,"outputs":[{"output_type":"execute_result","data":{"text/html":["<div>\n","<style scoped>\n","    .dataframe tbody tr th:only-of-type {\n","        vertical-align: middle;\n","    }\n","\n","    .dataframe tbody tr th {\n","        vertical-align: top;\n","    }\n","\n","    .dataframe thead th {\n","        text-align: right;\n","    }\n","</style>\n","<table border=\"1\" class=\"dataframe\">\n","  <thead>\n","    <tr style=\"text-align: right;\">\n","      <th></th>\n","      <th>addr_unit</th>\n","      <th>building_id</th>\n","      <th>bedrooms</th>\n","      <th>bathrooms</th>\n","      <th>size_sqft</th>\n","      <th>created_at</th>\n","      <th>addr_street</th>\n","      <th>addr_city</th>\n","      <th>addr_zip</th>\n","      <th>addr_lat</th>\n","      <th>addr_lon</th>\n","      <th>bin</th>\n","      <th>bbl</th>\n","      <th>floor_count</th>\n","      <th>year_built</th>\n","      <th>min_to_subway</th>\n","      <th>has_doorman</th>\n","      <th>has_elevator</th>\n","      <th>has_fireplace</th>\n","      <th>has_dishwasher</th>\n","      <th>is_furnished</th>\n","      <th>has_gym</th>\n","      <th>allows_pets</th>\n","      <th>has_washer_dryer</th>\n","      <th>has_garage</th>\n","      <th>has_roofdeck</th>\n","      <th>has_concierge</th>\n","      <th>has_pool</th>\n","      <th>has_garden</th>\n","      <th>has_childrens_playroom</th>\n","      <th>rent</th>\n","      <th>no_fee</th>\n","      <th>description</th>\n","      <th>neighborhood</th>\n","      <th>borough</th>\n","      <th>unit</th>\n","      <th>floornumber</th>\n","      <th>line</th>\n","      <th>dist_centralPark</th>\n","    </tr>\n","    <tr>\n","      <th>rental_id</th>\n","      <th></th>\n","      <th></th>\n","      <th></th>\n","      <th></th>\n","      <th></th>\n","      <th></th>\n","      <th></th>\n","      <th></th>\n","      <th></th>\n","      <th></th>\n","      <th></th>\n","      <th></th>\n","      <th></th>\n","      <th></th>\n","      <th></th>\n","      <th></th>\n","      <th></th>\n","      <th></th>\n","      <th></th>\n","      <th></th>\n","      <th></th>\n","      <th></th>\n","      <th></th>\n","      <th></th>\n","      <th></th>\n","      <th></th>\n","      <th></th>\n","      <th></th>\n","      <th></th>\n","      <th></th>\n","      <th></th>\n","      <th></th>\n","      <th></th>\n","      <th></th>\n","      <th></th>\n","      <th></th>\n","      <th></th>\n","      <th></th>\n","      <th></th>\n","    </tr>\n","  </thead>\n","  <tbody>\n","    <tr>\n","      <th>7331920</th>\n","      <td>#406</td>\n","      <td>3373</td>\n","      <td>0</td>\n","      <td>1.0</td>\n","      <td>475.0</td>\n","      <td>2018-07-03 20:11:43</td>\n","      <td>93 WORTH STREET</td>\n","      <td>New York</td>\n","      <td>10013</td>\n","      <td>40.716599</td>\n","      <td>-74.004799</td>\n","      <td>1001883.0</td>\n","      <td>1001737504</td>\n","      <td>17.0</td>\n","      <td>2014.0</td>\n","      <td>3.2333</td>\n","      <td>1</td>\n","      <td>1</td>\n","      <td>0</td>\n","      <td>1</td>\n","      <td>0</td>\n","      <td>1</td>\n","      <td>1</td>\n","      <td>1</td>\n","      <td>0</td>\n","      <td>1</td>\n","      <td>1</td>\n","      <td>0</td>\n","      <td>0</td>\n","      <td>0</td>\n","      <td>3350</td>\n","      <td>0</td>\n","      <td>Want to live in the hottest neighborhood in to...</td>\n","      <td>Tribeca</td>\n","      <td>Manhattan</td>\n","      <td>406</td>\n","      <td>4.0</td>\n","      <td>06</td>\n","      <td>7.806511</td>\n","    </tr>\n","    <tr>\n","      <th>7418503</th>\n","      <td>#6G</td>\n","      <td>18341149</td>\n","      <td>0</td>\n","      <td>1.0</td>\n","      <td>500.0</td>\n","      <td>2018-07-28 10:25:29</td>\n","      <td>11-05 30 ROAD</td>\n","      <td>Astoria</td>\n","      <td>11102</td>\n","      <td>40.771198</td>\n","      <td>-73.933800</td>\n","      <td>4000000.0</td>\n","      <td>4005060029</td>\n","      <td>0.0</td>\n","      <td>NaN</td>\n","      <td>11.9500</td>\n","      <td>1</td>\n","      <td>1</td>\n","      <td>0</td>\n","      <td>1</td>\n","      <td>0</td>\n","      <td>1</td>\n","      <td>0</td>\n","      <td>0</td>\n","      <td>0</td>\n","      <td>1</td>\n","      <td>1</td>\n","      <td>0</td>\n","      <td>0</td>\n","      <td>0</td>\n","      <td>2075</td>\n","      <td>0</td>\n","      <td>Priceless view of NYC, 2 separate rooftops, 24...</td>\n","      <td>Astoria</td>\n","      <td>Queens</td>\n","      <td>6G</td>\n","      <td>6.0</td>\n","      <td>G</td>\n","      <td>2.803593</td>\n","    </tr>\n","    <tr>\n","      <th>7180240</th>\n","      <td>#23B</td>\n","      <td>69853</td>\n","      <td>0</td>\n","      <td>1.0</td>\n","      <td>400.0</td>\n","      <td>2018-05-15 17:04:06</td>\n","      <td>250 EAST 54 STREET</td>\n","      <td>New York</td>\n","      <td>10022</td>\n","      <td>40.757301</td>\n","      <td>-73.967201</td>\n","      <td>1038562.0</td>\n","      <td>1013277502</td>\n","      <td>43.0</td>\n","      <td>1990.0</td>\n","      <td>1.2167</td>\n","      <td>1</td>\n","      <td>1</td>\n","      <td>0</td>\n","      <td>1</td>\n","      <td>0</td>\n","      <td>1</td>\n","      <td>1</td>\n","      <td>0</td>\n","      <td>0</td>\n","      <td>1</td>\n","      <td>1</td>\n","      <td>0</td>\n","      <td>0</td>\n","      <td>0</td>\n","      <td>2800</td>\n","      <td>1</td>\n","      <td>Make yourself at home at The Mondrian, Midtown...</td>\n","      <td>Midtown East</td>\n","      <td>Manhattan</td>\n","      <td>23B</td>\n","      <td>23.0</td>\n","      <td>B</td>\n","      <td>2.530775</td>\n","    </tr>\n","    <tr>\n","      <th>7161667</th>\n","      <td>#3C</td>\n","      <td>78679</td>\n","      <td>0</td>\n","      <td>1.0</td>\n","      <td>440.0</td>\n","      <td>2018-05-09 13:51:48</td>\n","      <td>1388 2 AVENUE</td>\n","      <td>New York</td>\n","      <td>10021</td>\n","      <td>40.768289</td>\n","      <td>-73.958386</td>\n","      <td>1044857.0</td>\n","      <td>1014460004</td>\n","      <td>4.0</td>\n","      <td>1915.0</td>\n","      <td>6.0167</td>\n","      <td>0</td>\n","      <td>0</td>\n","      <td>0</td>\n","      <td>0</td>\n","      <td>0</td>\n","      <td>0</td>\n","      <td>0</td>\n","      <td>0</td>\n","      <td>0</td>\n","      <td>0</td>\n","      <td>0</td>\n","      <td>0</td>\n","      <td>0</td>\n","      <td>0</td>\n","      <td>1685</td>\n","      <td>0</td>\n","      <td>Large pre -war studio w High CEILINGS\\r\\nRENT ...</td>\n","      <td>Upper East Side</td>\n","      <td>Manhattan</td>\n","      <td>3C</td>\n","      <td>3.0</td>\n","      <td>C</td>\n","      <td>1.416285</td>\n","    </tr>\n","    <tr>\n","      <th>7179904</th>\n","      <td>#28Q</td>\n","      <td>52861</td>\n","      <td>0</td>\n","      <td>1.0</td>\n","      <td>608.0</td>\n","      <td>2018-05-15 16:05:48</td>\n","      <td>322 WEST 57TH STREET</td>\n","      <td>New York</td>\n","      <td>10019</td>\n","      <td>40.766800</td>\n","      <td>-73.984200</td>\n","      <td>1025450.0</td>\n","      <td>1010477503</td>\n","      <td>50.0</td>\n","      <td>1978.0</td>\n","      <td>1.6667</td>\n","      <td>1</td>\n","      <td>1</td>\n","      <td>0</td>\n","      <td>0</td>\n","      <td>0</td>\n","      <td>1</td>\n","      <td>1</td>\n","      <td>0</td>\n","      <td>1</td>\n","      <td>1</td>\n","      <td>1</td>\n","      <td>1</td>\n","      <td>0</td>\n","      <td>1</td>\n","      <td>3138</td>\n","      <td>1</td>\n","      <td>The rent is $3,400/month. However, Landlord gi...</td>\n","      <td>Midtown West</td>\n","      <td>Manhattan</td>\n","      <td>28Q</td>\n","      <td>28.0</td>\n","      <td>Q</td>\n","      <td>2.183633</td>\n","    </tr>\n","    <tr>\n","      <th>7279090</th>\n","      <td>#30C</td>\n","      <td>1474</td>\n","      <td>0</td>\n","      <td>1.0</td>\n","      <td>500.0</td>\n","      <td>2018-06-15 19:18:14</td>\n","      <td>113 NASSAU STREET</td>\n","      <td>New York</td>\n","      <td>10038</td>\n","      <td>40.710876</td>\n","      <td>-74.007369</td>\n","      <td>1089790.0</td>\n","      <td>1000900017</td>\n","      <td>30.0</td>\n","      <td>2012.0</td>\n","      <td>0.8667</td>\n","      <td>0</td>\n","      <td>1</td>\n","      <td>0</td>\n","      <td>1</td>\n","      <td>0</td>\n","      <td>1</td>\n","      <td>0</td>\n","      <td>0</td>\n","      <td>0</td>\n","      <td>1</td>\n","      <td>1</td>\n","      <td>0</td>\n","      <td>0</td>\n","      <td>0</td>\n","      <td>3350</td>\n","      <td>1</td>\n","      <td>**Net effective rent listed - one month free o...</td>\n","      <td>Financial District</td>\n","      <td>Manhattan</td>\n","      <td>30C</td>\n","      <td>30.0</td>\n","      <td>C</td>\n","      <td>8.474531</td>\n","    </tr>\n","    <tr>\n","      <th>7383331</th>\n","      <td>#3C</td>\n","      <td>31768</td>\n","      <td>0</td>\n","      <td>1.0</td>\n","      <td>400.0</td>\n","      <td>2018-07-19 14:06:44</td>\n","      <td>88 HORATIO STREET</td>\n","      <td>New York</td>\n","      <td>10014</td>\n","      <td>40.738499</td>\n","      <td>-74.007599</td>\n","      <td>1012134.0</td>\n","      <td>1006420045</td>\n","      <td>5.0</td>\n","      <td>1920.0</td>\n","      <td>3.1333</td>\n","      <td>0</td>\n","      <td>0</td>\n","      <td>0</td>\n","      <td>0</td>\n","      <td>0</td>\n","      <td>0</td>\n","      <td>1</td>\n","      <td>0</td>\n","      <td>0</td>\n","      <td>0</td>\n","      <td>0</td>\n","      <td>0</td>\n","      <td>0</td>\n","      <td>0</td>\n","      <td>2200</td>\n","      <td>0</td>\n","      <td>This lovely light-filled coop studio is locate...</td>\n","      <td>West Village</td>\n","      <td>Manhattan</td>\n","      <td>3C</td>\n","      <td>3.0</td>\n","      <td>C</td>\n","      <td>5.845420</td>\n","    </tr>\n","    <tr>\n","      <th>7423579</th>\n","      <td>#2R</td>\n","      <td>107200</td>\n","      <td>0</td>\n","      <td>1.0</td>\n","      <td>350.0</td>\n","      <td>2018-07-30 19:15:47</td>\n","      <td>616 WEST 113 STREET</td>\n","      <td>New York</td>\n","      <td>10025</td>\n","      <td>40.806323</td>\n","      <td>-73.966457</td>\n","      <td>1057341.0</td>\n","      <td>1018950030</td>\n","      <td>5.0</td>\n","      <td>1900.0</td>\n","      <td>2.2833</td>\n","      <td>0</td>\n","      <td>0</td>\n","      <td>1</td>\n","      <td>0</td>\n","      <td>0</td>\n","      <td>0</td>\n","      <td>0</td>\n","      <td>0</td>\n","      <td>0</td>\n","      <td>0</td>\n","      <td>0</td>\n","      <td>0</td>\n","      <td>1</td>\n","      <td>0</td>\n","      <td>2200</td>\n","      <td>0</td>\n","      <td>Very Large Lofted Studio Apartment near Columb...</td>\n","      <td>Morningside Heights</td>\n","      <td>Manhattan</td>\n","      <td>2R</td>\n","      <td>2.0</td>\n","      <td>R</td>\n","      <td>2.929543</td>\n","    </tr>\n","    <tr>\n","      <th>7416625</th>\n","      <td>#1A</td>\n","      <td>212458</td>\n","      <td>0</td>\n","      <td>1.0</td>\n","      <td>600.0</td>\n","      <td>2018-07-27 15:48:10</td>\n","      <td>374 8 STREET</td>\n","      <td>Brooklyn</td>\n","      <td>11215</td>\n","      <td>40.667969</td>\n","      <td>-73.982575</td>\n","      <td>3022154.0</td>\n","      <td>3010060020</td>\n","      <td>4.0</td>\n","      <td>1905.0</td>\n","      <td>1.4667</td>\n","      <td>0</td>\n","      <td>0</td>\n","      <td>0</td>\n","      <td>1</td>\n","      <td>0</td>\n","      <td>0</td>\n","      <td>1</td>\n","      <td>0</td>\n","      <td>0</td>\n","      <td>0</td>\n","      <td>0</td>\n","      <td>0</td>\n","      <td>0</td>\n","      <td>0</td>\n","      <td>2050</td>\n","      <td>1</td>\n","      <td>amazing studio apartment, prime location, step...</td>\n","      <td>Park Slope</td>\n","      <td>Brooklyn</td>\n","      <td>1A</td>\n","      <td>1.0</td>\n","      <td>A</td>\n","      <td>12.545008</td>\n","    </tr>\n","    <tr>\n","      <th>7241947</th>\n","      <td>#8G</td>\n","      <td>3862027</td>\n","      <td>0</td>\n","      <td>1.0</td>\n","      <td>525.0</td>\n","      <td>2018-06-05 16:08:44</td>\n","      <td>465 WEST 23 STREET</td>\n","      <td>New York</td>\n","      <td>10011</td>\n","      <td>40.747898</td>\n","      <td>-74.003601</td>\n","      <td>1067979.0</td>\n","      <td>1007217501</td>\n","      <td>19.0</td>\n","      <td>1932.0</td>\n","      <td>4.1500</td>\n","      <td>1</td>\n","      <td>1</td>\n","      <td>0</td>\n","      <td>0</td>\n","      <td>0</td>\n","      <td>1</td>\n","      <td>1</td>\n","      <td>0</td>\n","      <td>1</td>\n","      <td>1</td>\n","      <td>0</td>\n","      <td>1</td>\n","      <td>0</td>\n","      <td>0</td>\n","      <td>3300</td>\n","      <td>0</td>\n","      <td>(APPLICATION RECEIVED) Welcome to 465 West 23r...</td>\n","      <td>Chelsea</td>\n","      <td>Manhattan</td>\n","      <td>8G</td>\n","      <td>8.0</td>\n","      <td>G</td>\n","      <td>4.828108</td>\n","    </tr>\n","  </tbody>\n","</table>\n","</div>"],"text/plain":["          addr_unit  building_id  bedrooms  ...  floornumber  line dist_centralPark\n","rental_id                                   ...                                    \n","7331920        #406         3373         0  ...          4.0    06         7.806511\n","7418503         #6G     18341149         0  ...          6.0     G         2.803593\n","7180240        #23B        69853         0  ...         23.0     B         2.530775\n","7161667         #3C        78679         0  ...          3.0     C         1.416285\n","7179904        #28Q        52861         0  ...         28.0     Q         2.183633\n","7279090        #30C         1474         0  ...         30.0     C         8.474531\n","7383331         #3C        31768         0  ...          3.0     C         5.845420\n","7423579         #2R       107200         0  ...          2.0     R         2.929543\n","7416625         #1A       212458         0  ...          1.0     A        12.545008\n","7241947         #8G      3862027         0  ...          8.0     G         4.828108\n","\n","[10 rows x 39 columns]"]},"metadata":{"tags":[]},"execution_count":70}]},{"cell_type":"code","metadata":{"id":"nlVemw79rpvO","colab_type":"code","outputId":"6f304e76-79aa-4c31-a088-8c5330a82553","executionInfo":{"status":"ok","timestamp":1574434075761,"user_tz":300,"elapsed":585,"user":{"displayName":"Jacinta Moore","photoUrl":"","userId":"14215851766389388616"}},"colab":{"base_uri":"https://localhost:8080/","height":34}},"source":["(test_features['bedrooms']==0).sum()"],"execution_count":0,"outputs":[{"output_type":"execute_result","data":{"text/plain":["264"]},"metadata":{"tags":[]},"execution_count":18}]},{"cell_type":"code","metadata":{"colab_type":"code","outputId":"497e6440-15ff-4014-a42e-51a7f061ba64","executionInfo":{"status":"ok","timestamp":1574434039682,"user_tz":300,"elapsed":515,"user":{"displayName":"Jacinta Moore","photoUrl":"","userId":"14215851766389388616"}},"id":"mV-eUQDGspWk","colab":{"base_uri":"https://localhost:8080/","height":34}},"source":["(submit1_df['bedrooms']==0).sum()"],"execution_count":0,"outputs":[{"output_type":"execute_result","data":{"text/plain":["253"]},"metadata":{"tags":[]},"execution_count":16}]},{"cell_type":"markdown","metadata":{"id":"2RqfEddy32cf","colab_type":"text"},"source":["##### Large data points"]},{"cell_type":"code","metadata":{"id":"ZpVZasEf0ubq","colab_type":"code","colab":{}},"source":["o_df = train_df.loc[train_df.size_sqft>=8000]"],"execution_count":0,"outputs":[]},{"cell_type":"code","metadata":{"id":"7bVrJjpC1qYI","colab_type":"code","outputId":"0b028906-5d11-4766-e3c2-81d53d2d7094","executionInfo":{"status":"ok","timestamp":1574270638865,"user_tz":300,"elapsed":525,"user":{"displayName":"Jacinta Moore","photoUrl":"","userId":"14215851766389388616"}},"colab":{"base_uri":"https://localhost:8080/","height":387}},"source":["o_df"],"execution_count":0,"outputs":[{"output_type":"execute_result","data":{"text/html":["<div>\n","<style scoped>\n","    .dataframe tbody tr th:only-of-type {\n","        vertical-align: middle;\n","    }\n","\n","    .dataframe tbody tr th {\n","        vertical-align: top;\n","    }\n","\n","    .dataframe thead th {\n","        text-align: right;\n","    }\n","</style>\n","<table border=\"1\" class=\"dataframe\">\n","  <thead>\n","    <tr style=\"text-align: right;\">\n","      <th></th>\n","      <th>addr_unit</th>\n","      <th>building_id</th>\n","      <th>bedrooms</th>\n","      <th>bathrooms</th>\n","      <th>size_sqft</th>\n","      <th>created_at</th>\n","      <th>addr_street</th>\n","      <th>addr_city</th>\n","      <th>addr_zip</th>\n","      <th>addr_lat</th>\n","      <th>addr_lon</th>\n","      <th>bin</th>\n","      <th>bbl</th>\n","      <th>floor_count</th>\n","      <th>year_built</th>\n","      <th>min_to_subway</th>\n","      <th>has_doorman</th>\n","      <th>has_elevator</th>\n","      <th>has_fireplace</th>\n","      <th>has_dishwasher</th>\n","      <th>is_furnished</th>\n","      <th>has_gym</th>\n","      <th>allows_pets</th>\n","      <th>has_washer_dryer</th>\n","      <th>has_garage</th>\n","      <th>has_roofdeck</th>\n","      <th>has_concierge</th>\n","      <th>has_pool</th>\n","      <th>has_garden</th>\n","      <th>has_childrens_playroom</th>\n","      <th>rent</th>\n","      <th>no_fee</th>\n","      <th>description</th>\n","      <th>neighborhood</th>\n","      <th>borough</th>\n","      <th>unit</th>\n","      <th>floornumber</th>\n","      <th>line</th>\n","    </tr>\n","    <tr>\n","      <th>rental_id</th>\n","      <th></th>\n","      <th></th>\n","      <th></th>\n","      <th></th>\n","      <th></th>\n","      <th></th>\n","      <th></th>\n","      <th></th>\n","      <th></th>\n","      <th></th>\n","      <th></th>\n","      <th></th>\n","      <th></th>\n","      <th></th>\n","      <th></th>\n","      <th></th>\n","      <th></th>\n","      <th></th>\n","      <th></th>\n","      <th></th>\n","      <th></th>\n","      <th></th>\n","      <th></th>\n","      <th></th>\n","      <th></th>\n","      <th></th>\n","      <th></th>\n","      <th></th>\n","      <th></th>\n","      <th></th>\n","      <th></th>\n","      <th></th>\n","      <th></th>\n","      <th></th>\n","      <th></th>\n","      <th></th>\n","      <th></th>\n","      <th></th>\n","    </tr>\n","  </thead>\n","  <tbody>\n","    <tr>\n","      <th>7410124</th>\n","      <td>#47</td>\n","      <td>18246988</td>\n","      <td>2</td>\n","      <td>1.0</td>\n","      <td>8500.0</td>\n","      <td>2018-07-25 20:14:29</td>\n","      <td>180 72 STREET</td>\n","      <td>Brooklyn</td>\n","      <td>11209</td>\n","      <td>40.633999</td>\n","      <td>-74.030701</td>\n","      <td>3337149.0</td>\n","      <td>3059060018</td>\n","      <td>0.0</td>\n","      <td>NaN</td>\n","      <td>6.2000</td>\n","      <td>0</td>\n","      <td>1</td>\n","      <td>0</td>\n","      <td>1</td>\n","      <td>0</td>\n","      <td>0</td>\n","      <td>1</td>\n","      <td>0</td>\n","      <td>0</td>\n","      <td>0</td>\n","      <td>0</td>\n","      <td>0</td>\n","      <td>1</td>\n","      <td>0</td>\n","      <td>2400</td>\n","      <td>0</td>\n","      <td>HOT!! HUGE 2 BEDROOM IN A BEAUTIFUL PREWAR  BU...</td>\n","      <td>Bay Ridge</td>\n","      <td>Brooklyn</td>\n","      <td>47</td>\n","      <td>47.0</td>\n","      <td>NaN</td>\n","    </tr>\n","    <tr>\n","      <th>7352536</th>\n","      <td>#2</td>\n","      <td>683038</td>\n","      <td>2</td>\n","      <td>1.0</td>\n","      <td>10000.0</td>\n","      <td>2018-07-10 18:03:07</td>\n","      <td>1120 76 STREET</td>\n","      <td>Brooklyn</td>\n","      <td>11228</td>\n","      <td>40.621860</td>\n","      <td>-74.012089</td>\n","      <td>3160481.0</td>\n","      <td>3062310013</td>\n","      <td>3.0</td>\n","      <td>1955.0</td>\n","      <td>11.9833</td>\n","      <td>0</td>\n","      <td>0</td>\n","      <td>0</td>\n","      <td>0</td>\n","      <td>0</td>\n","      <td>0</td>\n","      <td>0</td>\n","      <td>0</td>\n","      <td>0</td>\n","      <td>0</td>\n","      <td>0</td>\n","      <td>0</td>\n","      <td>1</td>\n","      <td>0</td>\n","      <td>2300</td>\n","      <td>0</td>\n","      <td>Beautiful two bedroom apartment in private hou...</td>\n","      <td>Dyker Heights</td>\n","      <td>Brooklyn</td>\n","      <td>2</td>\n","      <td>2.0</td>\n","      <td>NaN</td>\n","    </tr>\n","    <tr>\n","      <th>7148494</th>\n","      <td>#3</td>\n","      <td>1493896</td>\n","      <td>5</td>\n","      <td>1.0</td>\n","      <td>9999.0</td>\n","      <td>2018-05-04 17:04:02</td>\n","      <td>801 WOODWARD AVENUE</td>\n","      <td>Ridgewood</td>\n","      <td>11385</td>\n","      <td>40.703639</td>\n","      <td>-73.903097</td>\n","      <td>4083359.0</td>\n","      <td>4034820062</td>\n","      <td>3.0</td>\n","      <td>1901.0</td>\n","      <td>1.4000</td>\n","      <td>0</td>\n","      <td>0</td>\n","      <td>0</td>\n","      <td>0</td>\n","      <td>0</td>\n","      <td>0</td>\n","      <td>1</td>\n","      <td>0</td>\n","      <td>0</td>\n","      <td>0</td>\n","      <td>0</td>\n","      <td>0</td>\n","      <td>0</td>\n","      <td>0</td>\n","      <td>4000</td>\n","      <td>1</td>\n","      <td>NO FEE! Expansive, true 5BR/1.5BA full-floor a...</td>\n","      <td>Ridgewood</td>\n","      <td>Queens</td>\n","      <td>3</td>\n","      <td>3.0</td>\n","      <td>NaN</td>\n","    </tr>\n","  </tbody>\n","</table>\n","</div>"],"text/plain":["          addr_unit  building_id  bedrooms  ...  unit  floornumber line\n","rental_id                                   ...                        \n","7410124         #47     18246988         2  ...    47         47.0  NaN\n","7352536          #2       683038         2  ...     2          2.0  NaN\n","7148494          #3      1493896         5  ...     3          3.0  NaN\n","\n","[3 rows x 38 columns]"]},"metadata":{"tags":[]},"execution_count":67}]},{"cell_type":"code","metadata":{"id":"WTVs29D52N2_","colab_type":"code","outputId":"5ca30304-0837-4658-b65b-13fac4edaf88","executionInfo":{"status":"ok","timestamp":1574271099355,"user_tz":300,"elapsed":400,"user":{"displayName":"Jacinta Moore","photoUrl":"","userId":"14215851766389388616"}},"colab":{"base_uri":"https://localhost:8080/","height":547}},"source":["obd_df = train_df.loc[train_df.bedrooms> 6]\n","obd_df"],"execution_count":0,"outputs":[{"output_type":"execute_result","data":{"text/html":["<div>\n","<style scoped>\n","    .dataframe tbody tr th:only-of-type {\n","        vertical-align: middle;\n","    }\n","\n","    .dataframe tbody tr th {\n","        vertical-align: top;\n","    }\n","\n","    .dataframe thead th {\n","        text-align: right;\n","    }\n","</style>\n","<table border=\"1\" class=\"dataframe\">\n","  <thead>\n","    <tr style=\"text-align: right;\">\n","      <th></th>\n","      <th>addr_unit</th>\n","      <th>building_id</th>\n","      <th>bedrooms</th>\n","      <th>bathrooms</th>\n","      <th>size_sqft</th>\n","      <th>created_at</th>\n","      <th>addr_street</th>\n","      <th>addr_city</th>\n","      <th>addr_zip</th>\n","      <th>addr_lat</th>\n","      <th>addr_lon</th>\n","      <th>bin</th>\n","      <th>bbl</th>\n","      <th>floor_count</th>\n","      <th>year_built</th>\n","      <th>min_to_subway</th>\n","      <th>has_doorman</th>\n","      <th>has_elevator</th>\n","      <th>has_fireplace</th>\n","      <th>has_dishwasher</th>\n","      <th>is_furnished</th>\n","      <th>has_gym</th>\n","      <th>allows_pets</th>\n","      <th>has_washer_dryer</th>\n","      <th>has_garage</th>\n","      <th>has_roofdeck</th>\n","      <th>has_concierge</th>\n","      <th>has_pool</th>\n","      <th>has_garden</th>\n","      <th>has_childrens_playroom</th>\n","      <th>rent</th>\n","      <th>no_fee</th>\n","      <th>description</th>\n","      <th>neighborhood</th>\n","      <th>borough</th>\n","      <th>unit</th>\n","      <th>floornumber</th>\n","      <th>line</th>\n","    </tr>\n","    <tr>\n","      <th>rental_id</th>\n","      <th></th>\n","      <th></th>\n","      <th></th>\n","      <th></th>\n","      <th></th>\n","      <th></th>\n","      <th></th>\n","      <th></th>\n","      <th></th>\n","      <th></th>\n","      <th></th>\n","      <th></th>\n","      <th></th>\n","      <th></th>\n","      <th></th>\n","      <th></th>\n","      <th></th>\n","      <th></th>\n","      <th></th>\n","      <th></th>\n","      <th></th>\n","      <th></th>\n","      <th></th>\n","      <th></th>\n","      <th></th>\n","      <th></th>\n","      <th></th>\n","      <th></th>\n","      <th></th>\n","      <th></th>\n","      <th></th>\n","      <th></th>\n","      <th></th>\n","      <th></th>\n","      <th></th>\n","      <th></th>\n","      <th></th>\n","      <th></th>\n","    </tr>\n","  </thead>\n","  <tbody>\n","    <tr>\n","      <th>7204471</th>\n","      <td>#1</td>\n","      <td>205114</td>\n","      <td>8</td>\n","      <td>3.0</td>\n","      <td>3500.0</td>\n","      <td>2018-05-24 03:09:47</td>\n","      <td>98 LINCOLN PLACE</td>\n","      <td>Brooklyn</td>\n","      <td>11217</td>\n","      <td>40.676331</td>\n","      <td>-73.976775</td>\n","      <td>3019614.0</td>\n","      <td>3009510013</td>\n","      <td>3.0</td>\n","      <td>1899.0</td>\n","      <td>3.0333</td>\n","      <td>0</td>\n","      <td>0</td>\n","      <td>0</td>\n","      <td>0</td>\n","      <td>0</td>\n","      <td>0</td>\n","      <td>0</td>\n","      <td>1</td>\n","      <td>0</td>\n","      <td>0</td>\n","      <td>0</td>\n","      <td>0</td>\n","      <td>1</td>\n","      <td>0</td>\n","      <td>15000</td>\n","      <td>0</td>\n","      <td>This gorgeous four story home radiates eleganc...</td>\n","      <td>Park Slope</td>\n","      <td>Brooklyn</td>\n","      <td>1</td>\n","      <td>1.0</td>\n","      <td>NaN</td>\n","    </tr>\n","    <tr>\n","      <th>7217803</th>\n","      <td>#UPPER</td>\n","      <td>20905</td>\n","      <td>7</td>\n","      <td>4.0</td>\n","      <td>5000.0</td>\n","      <td>2018-05-29 21:15:31</td>\n","      <td>116 SULLIVAN STREET</td>\n","      <td>New York</td>\n","      <td>10012</td>\n","      <td>40.726101</td>\n","      <td>-74.002899</td>\n","      <td>1007810.0</td>\n","      <td>1005040029</td>\n","      <td>5.0</td>\n","      <td>1900.0</td>\n","      <td>1.0167</td>\n","      <td>0</td>\n","      <td>0</td>\n","      <td>1</td>\n","      <td>0</td>\n","      <td>0</td>\n","      <td>0</td>\n","      <td>1</td>\n","      <td>1</td>\n","      <td>0</td>\n","      <td>1</td>\n","      <td>0</td>\n","      <td>0</td>\n","      <td>1</td>\n","      <td>0</td>\n","      <td>45000</td>\n","      <td>0</td>\n","      <td>The Upper Apartment at 116 Sullivan Street is ...</td>\n","      <td>Soho</td>\n","      <td>Manhattan</td>\n","      <td>UPPER</td>\n","      <td>NaN</td>\n","      <td>NaN</td>\n","    </tr>\n","    <tr>\n","      <th>7356136</th>\n","      <td>NaN</td>\n","      <td>71734</td>\n","      <td>7</td>\n","      <td>4.0</td>\n","      <td>6950.0</td>\n","      <td>2018-07-11 15:50:18</td>\n","      <td>461 EAST 57 STREET</td>\n","      <td>New York</td>\n","      <td>10022</td>\n","      <td>40.757728</td>\n","      <td>-73.960818</td>\n","      <td>1081204.0</td>\n","      <td>1013690022</td>\n","      <td>4.0</td>\n","      <td>1900.0</td>\n","      <td>3.1833</td>\n","      <td>0</td>\n","      <td>0</td>\n","      <td>0</td>\n","      <td>0</td>\n","      <td>0</td>\n","      <td>0</td>\n","      <td>0</td>\n","      <td>0</td>\n","      <td>0</td>\n","      <td>0</td>\n","      <td>0</td>\n","      <td>0</td>\n","      <td>1</td>\n","      <td>0</td>\n","      <td>25000</td>\n","      <td>0</td>\n","      <td>461 East 57th Street is a grand 32’ wide, four...</td>\n","      <td>Midtown East</td>\n","      <td>Manhattan</td>\n","      <td>NaN</td>\n","      <td>NaN</td>\n","      <td>NaN</td>\n","    </tr>\n","    <tr>\n","      <th>7146658</th>\n","      <td>NaN</td>\n","      <td>56881</td>\n","      <td>7</td>\n","      <td>7.0</td>\n","      <td>7000.0</td>\n","      <td>2018-05-04 12:49:49</td>\n","      <td>51 WEST 73 STREET</td>\n","      <td>New York</td>\n","      <td>10023</td>\n","      <td>40.777983</td>\n","      <td>-73.977430</td>\n","      <td>1028690.0</td>\n","      <td>1011260107</td>\n","      <td>4.0</td>\n","      <td>1910.0</td>\n","      <td>2.3167</td>\n","      <td>0</td>\n","      <td>1</td>\n","      <td>1</td>\n","      <td>1</td>\n","      <td>0</td>\n","      <td>0</td>\n","      <td>0</td>\n","      <td>1</td>\n","      <td>0</td>\n","      <td>0</td>\n","      <td>0</td>\n","      <td>0</td>\n","      <td>1</td>\n","      <td>0</td>\n","      <td>29500</td>\n","      <td>0</td>\n","      <td>This park block single family ELEVATOR townhou...</td>\n","      <td>Upper West Side</td>\n","      <td>Manhattan</td>\n","      <td>NaN</td>\n","      <td>NaN</td>\n","      <td>NaN</td>\n","    </tr>\n","    <tr>\n","      <th>7371637</th>\n","      <td>#1</td>\n","      <td>283312</td>\n","      <td>7</td>\n","      <td>2.0</td>\n","      <td>1800.0</td>\n","      <td>2018-07-16 16:27:49</td>\n","      <td>1033A DE KALB AVENUE</td>\n","      <td>Brooklyn</td>\n","      <td>11221</td>\n","      <td>40.693642</td>\n","      <td>-73.933648</td>\n","      <td>3388351.0</td>\n","      <td>3015990075</td>\n","      <td>3.0</td>\n","      <td>1931.0</td>\n","      <td>4.1167</td>\n","      <td>0</td>\n","      <td>0</td>\n","      <td>0</td>\n","      <td>0</td>\n","      <td>0</td>\n","      <td>0</td>\n","      <td>1</td>\n","      <td>0</td>\n","      <td>0</td>\n","      <td>0</td>\n","      <td>0</td>\n","      <td>0</td>\n","      <td>0</td>\n","      <td>0</td>\n","      <td>4195</td>\n","      <td>1</td>\n","      <td>This is a huge floor through apt. with no less...</td>\n","      <td>Bedford-Stuyvesant</td>\n","      <td>Brooklyn</td>\n","      <td>1</td>\n","      <td>1.0</td>\n","      <td>NaN</td>\n","    </tr>\n","  </tbody>\n","</table>\n","</div>"],"text/plain":["          addr_unit  building_id  bedrooms  ...   unit  floornumber line\n","rental_id                                   ...                         \n","7204471          #1       205114         8  ...      1          1.0  NaN\n","7217803      #UPPER        20905         7  ...  UPPER          NaN  NaN\n","7356136         NaN        71734         7  ...    NaN          NaN  NaN\n","7146658         NaN        56881         7  ...    NaN          NaN  NaN\n","7371637          #1       283312         7  ...      1          1.0  NaN\n","\n","[5 rows x 38 columns]"]},"metadata":{"tags":[]},"execution_count":72}]},{"cell_type":"code","metadata":{"id":"qvPoZyl-2qO9","colab_type":"code","outputId":"bda4199e-325a-437a-a0c9-e5a00ee0298b","executionInfo":{"status":"ok","timestamp":1574270902302,"user_tz":300,"elapsed":401,"user":{"displayName":"Jacinta Moore","photoUrl":"","userId":"14215851766389388616"}},"colab":{"base_uri":"https://localhost:8080/","height":270}},"source":["obath_df = train_df.loc[train_df.bathrooms>=8]\n","obath_df\n","## Clearly row 7160572 of 12 bathrooms is an error as the description says 2 bed 2 bath\n","## row 7236325 also seems an error as there are only 2 bedrooms, most likely it should be 2 bath"],"execution_count":0,"outputs":[{"output_type":"execute_result","data":{"text/html":["<div>\n","<style scoped>\n","    .dataframe tbody tr th:only-of-type {\n","        vertical-align: middle;\n","    }\n","\n","    .dataframe tbody tr th {\n","        vertical-align: top;\n","    }\n","\n","    .dataframe thead th {\n","        text-align: right;\n","    }\n","</style>\n","<table border=\"1\" class=\"dataframe\">\n","  <thead>\n","    <tr style=\"text-align: right;\">\n","      <th></th>\n","      <th>addr_unit</th>\n","      <th>building_id</th>\n","      <th>bedrooms</th>\n","      <th>bathrooms</th>\n","      <th>size_sqft</th>\n","      <th>created_at</th>\n","      <th>addr_street</th>\n","      <th>addr_city</th>\n","      <th>addr_zip</th>\n","      <th>addr_lat</th>\n","      <th>addr_lon</th>\n","      <th>bin</th>\n","      <th>bbl</th>\n","      <th>floor_count</th>\n","      <th>year_built</th>\n","      <th>min_to_subway</th>\n","      <th>has_doorman</th>\n","      <th>has_elevator</th>\n","      <th>has_fireplace</th>\n","      <th>has_dishwasher</th>\n","      <th>is_furnished</th>\n","      <th>has_gym</th>\n","      <th>allows_pets</th>\n","      <th>has_washer_dryer</th>\n","      <th>has_garage</th>\n","      <th>has_roofdeck</th>\n","      <th>has_concierge</th>\n","      <th>has_pool</th>\n","      <th>has_garden</th>\n","      <th>has_childrens_playroom</th>\n","      <th>rent</th>\n","      <th>no_fee</th>\n","      <th>description</th>\n","      <th>neighborhood</th>\n","      <th>borough</th>\n","      <th>unit</th>\n","      <th>floornumber</th>\n","      <th>line</th>\n","    </tr>\n","    <tr>\n","      <th>rental_id</th>\n","      <th></th>\n","      <th></th>\n","      <th></th>\n","      <th></th>\n","      <th></th>\n","      <th></th>\n","      <th></th>\n","      <th></th>\n","      <th></th>\n","      <th></th>\n","      <th></th>\n","      <th></th>\n","      <th></th>\n","      <th></th>\n","      <th></th>\n","      <th></th>\n","      <th></th>\n","      <th></th>\n","      <th></th>\n","      <th></th>\n","      <th></th>\n","      <th></th>\n","      <th></th>\n","      <th></th>\n","      <th></th>\n","      <th></th>\n","      <th></th>\n","      <th></th>\n","      <th></th>\n","      <th></th>\n","      <th></th>\n","      <th></th>\n","      <th></th>\n","      <th></th>\n","      <th></th>\n","      <th></th>\n","      <th></th>\n","      <th></th>\n","    </tr>\n","  </thead>\n","  <tbody>\n","    <tr>\n","      <th>7236325</th>\n","      <td>#7</td>\n","      <td>87595</td>\n","      <td>2</td>\n","      <td>20.0</td>\n","      <td>1200.0</td>\n","      <td>2018-06-04 15:07:12</td>\n","      <td>420 EAST 86 STREET</td>\n","      <td>New York</td>\n","      <td>10028</td>\n","      <td>40.776358</td>\n","      <td>-73.948907</td>\n","      <td>1085655.0</td>\n","      <td>1015657501</td>\n","      <td>6.0</td>\n","      <td>1935.0</td>\n","      <td>5.6833</td>\n","      <td>0</td>\n","      <td>1</td>\n","      <td>1</td>\n","      <td>1</td>\n","      <td>0</td>\n","      <td>0</td>\n","      <td>0</td>\n","      <td>0</td>\n","      <td>0</td>\n","      <td>0</td>\n","      <td>0</td>\n","      <td>0</td>\n","      <td>0</td>\n","      <td>0</td>\n","      <td>5000</td>\n","      <td>0</td>\n","      <td>.</td>\n","      <td>Upper East Side</td>\n","      <td>Manhattan</td>\n","      <td>7</td>\n","      <td>NaN</td>\n","      <td>NaN</td>\n","    </tr>\n","    <tr>\n","      <th>7151821</th>\n","      <td>#6</td>\n","      <td>126724</td>\n","      <td>3</td>\n","      <td>12.0</td>\n","      <td>1200.0</td>\n","      <td>2018-05-06 20:10:38</td>\n","      <td>821 RIVERSIDE DRIVE</td>\n","      <td>New York</td>\n","      <td>10032</td>\n","      <td>40.835610</td>\n","      <td>-73.946140</td>\n","      <td>1063285.0</td>\n","      <td>1021350004</td>\n","      <td>3.0</td>\n","      <td>1900.0</td>\n","      <td>2.1333</td>\n","      <td>0</td>\n","      <td>0</td>\n","      <td>0</td>\n","      <td>1</td>\n","      <td>0</td>\n","      <td>0</td>\n","      <td>1</td>\n","      <td>1</td>\n","      <td>0</td>\n","      <td>0</td>\n","      <td>0</td>\n","      <td>0</td>\n","      <td>0</td>\n","      <td>0</td>\n","      <td>3200</td>\n","      <td>1</td>\n","      <td>Washington Heights\\nOversized True 3 Bedroom\\n...</td>\n","      <td>Washington Heights</td>\n","      <td>Manhattan</td>\n","      <td>6</td>\n","      <td>6.0</td>\n","      <td>NaN</td>\n","    </tr>\n","    <tr>\n","      <th>7160572</th>\n","      <td>#D</td>\n","      <td>951334</td>\n","      <td>2</td>\n","      <td>12.0</td>\n","      <td>1069.0</td>\n","      <td>2018-05-09 10:46:26</td>\n","      <td>105 OCEANA DRIVE EAST</td>\n","      <td>Brooklyn</td>\n","      <td>11235</td>\n","      <td>40.576302</td>\n","      <td>-73.957497</td>\n","      <td>3350420.0</td>\n","      <td>3087207512</td>\n","      <td>7.0</td>\n","      <td>2002.0</td>\n","      <td>2.4833</td>\n","      <td>0</td>\n","      <td>1</td>\n","      <td>0</td>\n","      <td>1</td>\n","      <td>0</td>\n","      <td>1</td>\n","      <td>1</td>\n","      <td>1</td>\n","      <td>0</td>\n","      <td>0</td>\n","      <td>0</td>\n","      <td>1</td>\n","      <td>0</td>\n","      <td>0</td>\n","      <td>2700</td>\n","      <td>0</td>\n","      <td>Nice 2 bed 2bath at Oceana Condominium&amp;Club\\r\\...</td>\n","      <td>Brighton Beach</td>\n","      <td>Brooklyn</td>\n","      <td>D</td>\n","      <td>NaN</td>\n","      <td>NaN</td>\n","    </tr>\n","  </tbody>\n","</table>\n","</div>"],"text/plain":["          addr_unit  building_id  bedrooms  ...  unit  floornumber line\n","rental_id                                   ...                        \n","7236325          #7        87595         2  ...     7          NaN  NaN\n","7151821          #6       126724         3  ...     6          6.0  NaN\n","7160572          #D       951334         2  ...     D          NaN  NaN\n","\n","[3 rows x 38 columns]"]},"metadata":{"tags":[]},"execution_count":71}]},{"cell_type":"markdown","metadata":{"id":"9ZXTYUh73_Z5","colab_type":"text"},"source":["At this point we are going to just be mindful of the outliers. In Part 2 we may consider adjusting these but it will depend if they will have an impact upon the results. At the moment they are only a couple of points out of 12,000."]},{"cell_type":"markdown","metadata":{"id":"aPjrrxHJot6h","colab_type":"text"},"source":["## Data Modelling \n","This section we look at different models and model our training data"]},{"cell_type":"code","metadata":{"id":"sgsw3jxTpHL5","colab_type":"code","outputId":"5e6396b5-ce85-4324-efed-d9af313ba834","executionInfo":{"status":"ok","timestamp":1574469359461,"user_tz":300,"elapsed":1310,"user":{"displayName":"Jacinta Moore","photoUrl":"","userId":"14215851766389388616"}},"colab":{"base_uri":"https://localhost:8080/","height":202}},"source":["# training a linear regression model\n","lreg = LinearRegression()\n","lreg.fit(train_features, train_target)\n","\n","# training a random forest regression model\n","rf = RandomForestRegressor()\n","rf.fit(train_features, train_target)\n","\n","#training a gradient boosting regressor\n","gbt = GradientBoostingRegressor( )\n","gbt.fit(train_features, train_target)"],"execution_count":16,"outputs":[{"output_type":"stream","text":["/usr/local/lib/python3.6/dist-packages/sklearn/ensemble/forest.py:245: FutureWarning: The default value of n_estimators will change from 10 in version 0.20 to 100 in 0.22.\n","  \"10 in version 0.20 to 100 in 0.22.\", FutureWarning)\n"],"name":"stderr"},{"output_type":"execute_result","data":{"text/plain":["GradientBoostingRegressor(alpha=0.9, criterion='friedman_mse', init=None,\n","                          learning_rate=0.1, loss='ls', max_depth=3,\n","                          max_features=None, max_leaf_nodes=None,\n","                          min_impurity_decrease=0.0, min_impurity_split=None,\n","                          min_samples_leaf=1, min_samples_split=2,\n","                          min_weight_fraction_leaf=0.0, n_estimators=100,\n","                          n_iter_no_change=None, presort='auto',\n","                          random_state=None, subsample=1.0, tol=0.0001,\n","                          validation_fraction=0.1, verbose=0, warm_start=False)"]},"metadata":{"tags":[]},"execution_count":16}]},{"cell_type":"code","metadata":{"id":"8sNqibK39M43","colab_type":"code","colab":{}},"source":["test_features = test_df[feature_cols] \n","\n","# impute missing values with medians\n","test_features = test_features.fillna(train_features.median(), axis=0)"],"execution_count":0,"outputs":[]},{"cell_type":"code","metadata":{"id":"eb0I0fZM8E7R","colab_type":"code","outputId":"4ac35ce6-2571-4719-8955-6360a7edc0e2","executionInfo":{"status":"ok","timestamp":1574469387691,"user_tz":300,"elapsed":463,"user":{"displayName":"Jacinta Moore","photoUrl":"","userId":"14215851766389388616"}},"colab":{"base_uri":"https://localhost:8080/","height":34}},"source":["# construct predictions for linear regression \n","test_df['predicted'] = lreg.predict(test_features)\n","\n","mean_squared_error(test_df['rent'], test_df['predicted'])"],"execution_count":18,"outputs":[{"output_type":"execute_result","data":{"text/plain":["3674316.2820333852"]},"metadata":{"tags":[]},"execution_count":18}]},{"cell_type":"code","metadata":{"id":"4gni9W5AitcY","colab_type":"code","outputId":"f3342552-c57e-4712-d492-0262847f260d","executionInfo":{"status":"ok","timestamp":1574469398564,"user_tz":300,"elapsed":323,"user":{"displayName":"Jacinta Moore","photoUrl":"","userId":"14215851766389388616"}},"colab":{"base_uri":"https://localhost:8080/","height":314}},"source":["pd.DataFrame(lreg.coef_, index=feature_cols,  columns = ['Est. Coefficient'])"],"execution_count":19,"outputs":[{"output_type":"execute_result","data":{"text/html":["<div>\n","<style scoped>\n","    .dataframe tbody tr th:only-of-type {\n","        vertical-align: middle;\n","    }\n","\n","    .dataframe tbody tr th {\n","        vertical-align: top;\n","    }\n","\n","    .dataframe thead th {\n","        text-align: right;\n","    }\n","</style>\n","<table border=\"1\" class=\"dataframe\">\n","  <thead>\n","    <tr style=\"text-align: right;\">\n","      <th></th>\n","      <th>Est. Coefficient</th>\n","    </tr>\n","  </thead>\n","  <tbody>\n","    <tr>\n","      <th>bedrooms</th>\n","      <td>93.820141</td>\n","    </tr>\n","    <tr>\n","      <th>year_built</th>\n","      <td>-0.253577</td>\n","    </tr>\n","    <tr>\n","      <th>bathrooms</th>\n","      <td>1565.136826</td>\n","    </tr>\n","    <tr>\n","      <th>min_to_subway</th>\n","      <td>-0.009551</td>\n","    </tr>\n","    <tr>\n","      <th>size_sqft</th>\n","      <td>2.370571</td>\n","    </tr>\n","    <tr>\n","      <th>no_fee</th>\n","      <td>-211.058513</td>\n","    </tr>\n","    <tr>\n","      <th>has_doorman</th>\n","      <td>983.643437</td>\n","    </tr>\n","    <tr>\n","      <th>has_washer_dryer</th>\n","      <td>556.495863</td>\n","    </tr>\n","    <tr>\n","      <th>floornumber</th>\n","      <td>46.939678</td>\n","    </tr>\n","  </tbody>\n","</table>\n","</div>"],"text/plain":["                  Est. Coefficient\n","bedrooms                 93.820141\n","year_built               -0.253577\n","bathrooms              1565.136826\n","min_to_subway            -0.009551\n","size_sqft                 2.370571\n","no_fee                 -211.058513\n","has_doorman             983.643437\n","has_washer_dryer        556.495863\n","floornumber              46.939678"]},"metadata":{"tags":[]},"execution_count":19}]},{"cell_type":"code","metadata":{"id":"pswqLCf5kZdP","colab_type":"code","outputId":"1920f251-d9f5-4d7a-8f47-5a976049a8f1","executionInfo":{"status":"ok","timestamp":1574469408640,"user_tz":300,"elapsed":844,"user":{"displayName":"Jacinta Moore","photoUrl":"","userId":"14215851766389388616"}},"colab":{"base_uri":"https://localhost:8080/","height":305}},"source":["_ = plt.scatter(train_df['rent'], lreg.predict(train_features))\n","_ = plt.xlabel(\"Rents: $Y_i$\")\n","_ = plt.ylabel(\"Predicted rents: $\\hat{Y}_i$\")\n","_ = plt.title(\"Rents vs Predicted Rents: $Y_i$ vs $\\hat{Y}_i$\")\n","_ = plt.plot([0, 20000], [0, 20000], linewidth=4, color='red')"],"execution_count":20,"outputs":[{"output_type":"display_data","data":{"image/png":"iVBORw0KGgoAAAANSUhEUgAAAZoAAAEgCAYAAACNV7VwAAAABHNCSVQICAgIfAhkiAAAAAlwSFlz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\nUEzRGIZhGIHy/wFSa3kyPLOtzgAAAABJRU5ErkJggg==\n","text/plain":["<Figure size 432x288 with 1 Axes>"]},"metadata":{"tags":[]}}]},{"cell_type":"code","metadata":{"colab_type":"code","id":"Sp72Ave09snn","outputId":"24ca4aed-5c2d-4a5c-9fe9-dcc5f0c8f36b","executionInfo":{"status":"ok","timestamp":1574469416099,"user_tz":300,"elapsed":387,"user":{"displayName":"Jacinta Moore","photoUrl":"","userId":"14215851766389388616"}},"colab":{"base_uri":"https://localhost:8080/","height":34}},"source":["# construct predictions for random forest regression\n","test_df['predicted'] = rf.predict(test_features)\n","\n","mean_squared_error(test_df['rent'], test_df['predicted'])"],"execution_count":21,"outputs":[{"output_type":"execute_result","data":{"text/plain":["2327369.2845701836"]},"metadata":{"tags":[]},"execution_count":21}]},{"cell_type":"code","metadata":{"colab_type":"code","id":"9eDsuYKX9ouI","outputId":"3802b0a3-0f90-4361-e7b8-b300a41b0f51","executionInfo":{"status":"ok","timestamp":1574469420010,"user_tz":300,"elapsed":347,"user":{"displayName":"Jacinta Moore","photoUrl":"","userId":"14215851766389388616"}},"colab":{"base_uri":"https://localhost:8080/","height":34}},"source":["# construct predictions for gradient boosting regression\n","test_df['predicted'] = gbt.predict(test_features)\n","\n","mean_squared_error(test_df['rent'], test_df['predicted'])"],"execution_count":22,"outputs":[{"output_type":"execute_result","data":{"text/plain":["2371636.87583542"]},"metadata":{"tags":[]},"execution_count":22}]},{"cell_type":"markdown","metadata":{"id":"nLFP6LTykfII","colab_type":"text"},"source":["### 2. Model 2: Adding an additional feature: Distance to Central Park"]},{"cell_type":"code","metadata":{"id":"rmIFaPmYnGEa","colab_type":"code","outputId":"c3b1df7b-7038-416f-dd8c-5d2b2f6f58be","executionInfo":{"status":"ok","timestamp":1574469438701,"user_tz":300,"elapsed":1477,"user":{"displayName":"Jacinta Moore","photoUrl":"","userId":"14215851766389388616"}},"colab":{"base_uri":"https://localhost:8080/","height":202}},"source":["# training and test model for train_df2\n","# training a linear regression model\n","lreg2 = LinearRegression()\n","lreg2.fit(train_features2, train_target2)\n","\n","# training a random forest regression model\n","rf2 = RandomForestRegressor()\n","rf2.fit(train_features2, train_target2)\n","\n","#training a gradient boosting regressor\n","gbt2 = GradientBoostingRegressor( )\n","gbt2.fit(train_features2, train_target2)\n"],"execution_count":23,"outputs":[{"output_type":"stream","text":["/usr/local/lib/python3.6/dist-packages/sklearn/ensemble/forest.py:245: FutureWarning: The default value of n_estimators will change from 10 in version 0.20 to 100 in 0.22.\n","  \"10 in version 0.20 to 100 in 0.22.\", FutureWarning)\n"],"name":"stderr"},{"output_type":"execute_result","data":{"text/plain":["GradientBoostingRegressor(alpha=0.9, criterion='friedman_mse', init=None,\n","                          learning_rate=0.1, loss='ls', max_depth=3,\n","                          max_features=None, max_leaf_nodes=None,\n","                          min_impurity_decrease=0.0, min_impurity_split=None,\n","                          min_samples_leaf=1, min_samples_split=2,\n","                          min_weight_fraction_leaf=0.0, n_estimators=100,\n","                          n_iter_no_change=None, presort='auto',\n","                          random_state=None, subsample=1.0, tol=0.0001,\n","                          validation_fraction=0.1, verbose=0, warm_start=False)"]},"metadata":{"tags":[]},"execution_count":23}]},{"cell_type":"code","metadata":{"id":"sUYGoFELn_Hm","colab_type":"code","colab":{}},"source":["test_features2 = test_df2[feature_cols2] \n","\n","# impute missing values with medians\n","test_features2 = test_features2.fillna(train_features2.median(), axis=0)"],"execution_count":0,"outputs":[]},{"cell_type":"code","metadata":{"id":"a0H6idztoHEs","colab_type":"code","outputId":"4cf7d9f6-ad3e-4509-f437-b870b5ab217a","executionInfo":{"status":"ok","timestamp":1574469455067,"user_tz":300,"elapsed":421,"user":{"displayName":"Jacinta Moore","photoUrl":"","userId":"14215851766389388616"}},"colab":{"base_uri":"https://localhost:8080/","height":34}},"source":["# construct predictions for linear regression \n","test_df2['predicted'] = lreg2.predict(test_features2)\n","\n","mean_squared_error(test_df2['rent'], test_df2['predicted'])"],"execution_count":26,"outputs":[{"output_type":"execute_result","data":{"text/plain":["3475046.5877851504"]},"metadata":{"tags":[]},"execution_count":26}]},{"cell_type":"code","metadata":{"id":"Tt5WXyY-oK5M","colab_type":"code","outputId":"4e8b4560-25ed-4fa2-d870-e82cbede067a","executionInfo":{"status":"ok","timestamp":1574469460464,"user_tz":300,"elapsed":1699,"user":{"displayName":"Jacinta Moore","photoUrl":"","userId":"14215851766389388616"}},"colab":{"base_uri":"https://localhost:8080/","height":34}},"source":["# construct predictions for random forest regression\n","test_df2['predicted'] = rf2.predict(test_features2)\n","\n","mean_squared_error(test_df2['rent'], test_df2['predicted'])"],"execution_count":27,"outputs":[{"output_type":"execute_result","data":{"text/plain":["1935509.4269571565"]},"metadata":{"tags":[]},"execution_count":27}]},{"cell_type":"code","metadata":{"id":"UBjXqPZdseOI","colab_type":"code","colab":{"base_uri":"https://localhost:8080/","height":34},"outputId":"5916e22a-f03c-4527-b554-ac35bfefeb9e","executionInfo":{"status":"ok","timestamp":1574469515888,"user_tz":300,"elapsed":589,"user":{"displayName":"Jacinta Moore","photoUrl":"","userId":"14215851766389388616"}}},"source":["# construct predictions for random forest regression\n","test_df2['predicted'] = gbt2.predict(test_features2)\n","\n","mean_squared_error(test_df2['rent'], test_df2['predicted'])"],"execution_count":28,"outputs":[{"output_type":"execute_result","data":{"text/plain":["2172643.883476601"]},"metadata":{"tags":[]},"execution_count":28}]},{"cell_type":"markdown","metadata":{"colab_type":"text","id":"9IVaqCL3pKBX"},"source":["## Summary of Results and Further Work\n","This section we look at the results of the modelling. Compare the results of the different models and then make decisions about further work to try improve the accuracy of our model in predicting the rents."]},{"cell_type":"markdown","metadata":{"id":"CfvBsqOD_34F","colab_type":"text"},"source":["Model | Description| MSE\n","--- | --- | --\n","Linear Regression | train_df: No additional data | 3674316.2820333852\n","Random Forrest | train_df: No additional | 2284878.990318595\n","Gradient Boosting | train_df: No additional | 2367734.7918685228\n","Linear Regression | train_df2: Central Park distance included |3475046.5877851504\n","Random Forrest | train_df2: Central Park distance included | 2160942.3482092246"]},{"cell_type":"code","metadata":{"id":"myzjIGHjpDdT","colab_type":"code","outputId":"1c9a8837-ed11-4f8d-f41d-0daefa88e75e","executionInfo":{"status":"ok","timestamp":1574435539314,"user_tz":300,"elapsed":490,"user":{"displayName":"Jacinta Moore","photoUrl":"","userId":"14215851766389388616"}},"colab":{"base_uri":"https://localhost:8080/","height":202}},"source":["# Get numerical feature importances\n","importances = list(rf.feature_importances_)\n","# List of tuples with variable and importance\n","feature_importances = [(feature, round(importance, 2)) for feature, importance in zip(test_features2, importances)]\n","# Sort the feature importances by most important first\n","feature_importances = sorted(feature_importances, key = lambda x: x[1], reverse = True)\n","# Print out the feature and importances \n","[print('Variable: {:20} Importance: {}'.format(*pair)) for pair in feature_importances]"],"execution_count":0,"outputs":[{"output_type":"stream","text":["Variable: size_sqft            Importance: 0.57\n","Variable: bathrooms            Importance: 0.12\n","Variable: dist_centralPark     Importance: 0.12\n","Variable: year_built           Importance: 0.04\n","Variable: min_to_subway        Importance: 0.04\n","Variable: floornumber          Importance: 0.04\n","Variable: has_doorman          Importance: 0.03\n","Variable: bedrooms             Importance: 0.02\n","Variable: no_fee               Importance: 0.01\n","Variable: has_washer_dryer     Importance: 0.01\n"],"name":"stdout"},{"output_type":"execute_result","data":{"text/plain":["[None, None, None, None, None, None, None, None, None, None]"]},"metadata":{"tags":[]},"execution_count":89}]},{"cell_type":"markdown","metadata":{"id":"ZLPsk7jHpjAa","colab_type":"text"},"source":["The results above show that for the Random Forrest Regressor the features with the most importance are size_sqft, number of bathrooms and distance to Central Park. The red flag is the number of bedrooms does not have a significant influence whereas we would expect it would. This could be the result of 10-13% of the data having recorded 0 number of bedrooms, where we would expect at least one and inspection of the data shows its not commerical but residential. "]},{"cell_type":"markdown","metadata":{"id":"0kLiTVGGpgYf","colab_type":"text"},"source":["## Modelling of Data for Submission"]},{"cell_type":"code","metadata":{"id":"hI8pt4UitrHu","colab_type":"code","outputId":"e8a59d0c-8e52-4918-b8b0-465f3d70e7db","executionInfo":{"status":"ok","timestamp":1574469556046,"user_tz":300,"elapsed":950,"user":{"displayName":"Jacinta Moore","photoUrl":"","userId":"14215851766389388616"}},"colab":{"base_uri":"https://localhost:8080/","height":134}},"source":["master_df = train_df2.append(test_df2, sort=False)\n","\n","master_features = master_df[feature_cols2].fillna(master_df[feature_cols2].median(), axis=0)\n","master_target = master_df['rent']\n","\n","rf2.fit(master_features, master_target)"],"execution_count":30,"outputs":[{"output_type":"execute_result","data":{"text/plain":["RandomForestRegressor(bootstrap=True, criterion='mse', max_depth=None,\n","                      max_features='auto', max_leaf_nodes=None,\n","                      min_impurity_decrease=0.0, min_impurity_split=None,\n","                      min_samples_leaf=1, min_samples_split=2,\n","                      min_weight_fraction_leaf=0.0, n_estimators=10,\n","                      n_jobs=None, oob_score=False, random_state=None,\n","                      verbose=0, warm_start=False)"]},"metadata":{"tags":[]},"execution_count":30}]},{"cell_type":"markdown","metadata":{"id":"vvFNyj9Vt_P0","colab_type":"text"},"source":["### Create Submission"]},{"cell_type":"code","metadata":{"id":"b2M3eLpdt6Kf","colab_type":"code","outputId":"75fc3c12-1cfd-4ef2-f734-6f5092098f13","executionInfo":{"status":"ok","timestamp":1574470399815,"user_tz":300,"elapsed":364,"user":{"displayName":"Jacinta Moore","photoUrl":"","userId":"14215851766389388616"}},"colab":{"base_uri":"https://localhost:8080/","height":34}},"source":["submit1_features = submit1_df[feature_cols2].fillna(master_df[feature_cols2].median(), axis=0)\n","submit1_df['predictions'] = lreg2.predict(submit1_features)\n","submit1_df['predictions'].to_csv('sample_submission1.csv',  header=True)\n","\n","submit1_df['fake_rent'] = np.ones(submit1_df['predictions'].shape) * master_target.median()\n","mean_squared_error(submit1_df['predictions'], submit1_df['fake_rent'])"],"execution_count":47,"outputs":[{"output_type":"execute_result","data":{"text/plain":["5062366.950845999"]},"metadata":{"tags":[]},"execution_count":47}]},{"cell_type":"code","metadata":{"id":"gChBHajzuvD5","colab_type":"code","colab":{"base_uri":"https://localhost:8080/","height":34},"outputId":"6a2f5ec2-fc8c-4e6d-c446-687d73d4f6e0","executionInfo":{"status":"ok","timestamp":1574470433078,"user_tz":300,"elapsed":342,"user":{"displayName":"Jacinta Moore","photoUrl":"","userId":"14215851766389388616"}}},"source":["submit1_features = submit1_df[feature_cols2].fillna(master_df[feature_cols2].median(), axis=0)\n","submit1_df['predictions'] = rf2.predict(submit1_features)\n","submit1_df['predictions'].to_csv('sample_submission1.csv',  header=True)\n","\n","submit1_df['fake_rent'] = np.ones(submit1_df['predictions'].shape) * master_target.median()\n","mean_squared_error(submit1_df['predictions'], submit1_df['fake_rent'])"],"execution_count":49,"outputs":[{"output_type":"execute_result","data":{"text/plain":["6635004.759186832"]},"metadata":{"tags":[]},"execution_count":49}]}]}
>>>>>>> 4c6a681d5e21e3b8267ad15a21d7e074598fc1b9

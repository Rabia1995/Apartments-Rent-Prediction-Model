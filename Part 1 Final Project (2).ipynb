{
 "cells": [
  {
   "cell_type": "markdown",
   "metadata": {
    "colab_type": "text",
    "id": "V6W7COL-nwCv"
   },
   "source": [
    "# Data Science Final Project: Part 1 Analysis\n",
    "\n",
    "This is a preliminary analysis of the rental data to predict rents for test 2 data. It is expected further work in Part 2 will result in improved estimations. This analysis and the outcomes will form the basis of Part 2.  \n",
    "This file has been broken up into 3 parts: \n",
    "\n",
    "\n",
    "1.   Data Exploration [https://colab.research.google.com/drive/1ui-CU-qfreGNuP69NaVPlmFKIiNBFxuL#scrollTo=K-ZZpcoaiGY6]\n",
    "2.   Data Preprocessing [https://colab.research.google.com/drive/1ui-CU-qfreGNuP69NaVPlmFKIiNBFxuL#scrollTo=HgGR6M-aojEZ]\n",
    "3.   Data Modelling [https://colab.research.google.com/drive/1ui-CU-qfreGNuP69NaVPlmFKIiNBFxuL#scrollTo=aPjrrxHJot6h]\n",
    "4.  Summary of Results and Further Work [https://colab.research.google.com/drive/1ui-CU-qfreGNuP69NaVPlmFKIiNBFxuL#scrollTo=9IVaqCL3pKBX]\n",
    "\n",
    "\n",
    "\n"
   ]
  },
  {
   "cell_type": "code",
   "execution_count": 1,
   "metadata": {
    "colab": {},
    "colab_type": "code",
    "id": "uTI3FuQFqCEH"
   },
   "outputs": [
    {
     "ename": "ModuleNotFoundError",
     "evalue": "No module named 'numpy'",
     "output_type": "error",
     "traceback": [
      "\u001b[1;31m---------------------------------------------------------------------------\u001b[0m",
      "\u001b[1;31mModuleNotFoundError\u001b[0m                       Traceback (most recent call last)",
      "\u001b[1;32m<ipython-input-1-2a202b51cb07>\u001b[0m in \u001b[0;36m<module>\u001b[1;34m\u001b[0m\n\u001b[1;32m----> 1\u001b[1;33m \u001b[1;32mimport\u001b[0m \u001b[0mnumpy\u001b[0m \u001b[1;32mas\u001b[0m \u001b[0mnp\u001b[0m\u001b[1;33m\u001b[0m\u001b[1;33m\u001b[0m\u001b[0m\n\u001b[0m\u001b[0;32m      2\u001b[0m \u001b[1;32mimport\u001b[0m \u001b[0mpandas\u001b[0m \u001b[1;32mas\u001b[0m \u001b[0mpd\u001b[0m\u001b[1;33m\u001b[0m\u001b[1;33m\u001b[0m\u001b[0m\n\u001b[0;32m      3\u001b[0m \u001b[1;32mimport\u001b[0m \u001b[0mmatplotlib\u001b[0m\u001b[1;33m.\u001b[0m\u001b[0mpyplot\u001b[0m \u001b[1;32mas\u001b[0m \u001b[0mplt\u001b[0m\u001b[1;33m\u001b[0m\u001b[1;33m\u001b[0m\u001b[0m\n\u001b[0;32m      4\u001b[0m \u001b[1;32mimport\u001b[0m \u001b[0mseaborn\u001b[0m \u001b[1;32mas\u001b[0m \u001b[0msns\u001b[0m\u001b[1;33m\u001b[0m\u001b[1;33m\u001b[0m\u001b[0m\n\u001b[0;32m      5\u001b[0m \u001b[1;33m\u001b[0m\u001b[0m\n",
      "\u001b[1;31mModuleNotFoundError\u001b[0m: No module named 'numpy'"
     ]
    }
   ],
   "source": [
    "import numpy as np\n",
    "import pandas as pd\n",
    "import matplotlib.pyplot as plt\n",
    "import seaborn as sns\n",
    "\n",
    "from sklearn.linear_model import LinearRegression\n",
    "from sklearn.metrics import mean_squared_error\n",
    "\n",
    "from sklearn.ensemble import RandomForestRegressor\n",
    "from sklearn.ensemble import GradientBoostingRegressor\n",
    "\n",
    "%matplotlib inline"
   ]
  },
  {
   "cell_type": "code",
   "execution_count": 2,
   "metadata": {
    "colab": {},
    "colab_type": "code",
    "id": "fn-ehv0SqH7y"
   },
   "outputs": [],
   "source": [
    "train_df = pd.read_csv('https://grantmlong.com/data/SE_rents2018_train.csv', index_col=0)\n",
    "test_df = pd.read_csv('https://grantmlong.com/data/SE_rents2018_test1.csv', index_col=0)\n",
    "test2_df = pd.read_csv('https://grantmlong.com/data/SE_rents2018_test2.csv', index_col=0)\n",
    "submit2_df = pd.read_csv('https://grantmlong.com/data/SE_rents2018_test3.csv', index_col=0)"
   ]
  },
  {
   "cell_type": "markdown",
   "metadata": {
    "colab_type": "text",
    "id": "K-ZZpcoaiGY6"
   },
   "source": [
    "## Data Exploration\n",
    "\n",
    "This section we look at the data and determine the features for our model. We build our training data\n",
    "\n",
    "\n"
   ]
  },
  {
   "cell_type": "code",
   "execution_count": 3,
   "metadata": {
    "colab": {
     "base_uri": "https://localhost:8080/",
     "height": 1000
    },
    "colab_type": "code",
    "executionInfo": {
     "elapsed": 1695,
     "status": "ok",
     "timestamp": 1574366459062,
     "user": {
      "displayName": "Jacinta Moore",
      "photoUrl": "",
      "userId": "14215851766389388616"
     },
     "user_tz": 300
    },
    "id": "D5_s5QoOohQ9",
    "outputId": "6a976ed1-c58f-47ce-e7d7-6ef3383f92a5"
   },
   "outputs": [
    {
     "data": {
      "text/html": [
       "<div>\n",
       "<style scoped>\n",
       "    .dataframe tbody tr th:only-of-type {\n",
       "        vertical-align: middle;\n",
       "    }\n",
       "\n",
       "    .dataframe tbody tr th {\n",
       "        vertical-align: top;\n",
       "    }\n",
       "\n",
       "    .dataframe thead th {\n",
       "        text-align: right;\n",
       "    }\n",
       "</style>\n",
       "<table border=\"1\" class=\"dataframe\">\n",
       "  <thead>\n",
       "    <tr style=\"text-align: right;\">\n",
       "      <th>rental_id</th>\n",
       "      <th>7327024</th>\n",
       "      <th>7380433</th>\n",
       "      <th>7165192</th>\n",
       "      <th>7157698</th>\n",
       "      <th>7418575</th>\n",
       "    </tr>\n",
       "  </thead>\n",
       "  <tbody>\n",
       "    <tr>\n",
       "      <th>addr_unit</th>\n",
       "      <td>#A</td>\n",
       "      <td>#5</td>\n",
       "      <td>#9G</td>\n",
       "      <td>#2BB</td>\n",
       "      <td>#12E</td>\n",
       "    </tr>\n",
       "    <tr>\n",
       "      <th>building_id</th>\n",
       "      <td>75721</td>\n",
       "      <td>18375304</td>\n",
       "      <td>30589</td>\n",
       "      <td>110710</td>\n",
       "      <td>86119</td>\n",
       "    </tr>\n",
       "    <tr>\n",
       "      <th>bedrooms</th>\n",
       "      <td>0</td>\n",
       "      <td>1</td>\n",
       "      <td>1</td>\n",
       "      <td>1</td>\n",
       "      <td>1</td>\n",
       "    </tr>\n",
       "    <tr>\n",
       "      <th>bathrooms</th>\n",
       "      <td>1</td>\n",
       "      <td>1</td>\n",
       "      <td>1</td>\n",
       "      <td>1</td>\n",
       "      <td>1</td>\n",
       "    </tr>\n",
       "    <tr>\n",
       "      <th>size_sqft</th>\n",
       "      <td>0</td>\n",
       "      <td>800</td>\n",
       "      <td>650</td>\n",
       "      <td>450</td>\n",
       "      <td>725</td>\n",
       "    </tr>\n",
       "    <tr>\n",
       "      <th>created_at</th>\n",
       "      <td>2018-07-02 17:09:55</td>\n",
       "      <td>2018-07-18 17:56:43</td>\n",
       "      <td>2018-05-10 13:11:39</td>\n",
       "      <td>2018-05-08 13:29:47</td>\n",
       "      <td>2018-07-28 12:12:34</td>\n",
       "    </tr>\n",
       "    <tr>\n",
       "      <th>addr_street</th>\n",
       "      <td>125 EAST 71 STREET</td>\n",
       "      <td>105-01 65 ROAD</td>\n",
       "      <td>61 JANE STREET</td>\n",
       "      <td>280 WEST 117 STREET</td>\n",
       "      <td>301 EAST 87 STREET</td>\n",
       "    </tr>\n",
       "    <tr>\n",
       "      <th>addr_city</th>\n",
       "      <td>New York</td>\n",
       "      <td>Forest Hills</td>\n",
       "      <td>New York</td>\n",
       "      <td>New York</td>\n",
       "      <td>New York</td>\n",
       "    </tr>\n",
       "    <tr>\n",
       "      <th>addr_zip</th>\n",
       "      <td>10021</td>\n",
       "      <td>11375</td>\n",
       "      <td>10014</td>\n",
       "      <td>10026</td>\n",
       "      <td>10128</td>\n",
       "    </tr>\n",
       "    <tr>\n",
       "      <th>addr_lat</th>\n",
       "      <td>40.7702</td>\n",
       "      <td>40.7307</td>\n",
       "      <td>40.7384</td>\n",
       "      <td>40.8047</td>\n",
       "      <td>40.7786</td>\n",
       "    </tr>\n",
       "    <tr>\n",
       "      <th>addr_lon</th>\n",
       "      <td>-73.9632</td>\n",
       "      <td>-73.8506</td>\n",
       "      <td>-74.0059</td>\n",
       "      <td>-73.9546</td>\n",
       "      <td>-73.9508</td>\n",
       "    </tr>\n",
       "    <tr>\n",
       "      <th>bin</th>\n",
       "      <td>1.04283e+06</td>\n",
       "      <td>4.43207e+06</td>\n",
       "      <td>1.01164e+06</td>\n",
       "      <td>1.05839e+06</td>\n",
       "      <td>1.05004e+06</td>\n",
       "    </tr>\n",
       "    <tr>\n",
       "      <th>bbl</th>\n",
       "      <td>1014060111</td>\n",
       "      <td>4021510101</td>\n",
       "      <td>1006260012</td>\n",
       "      <td>1019220160</td>\n",
       "      <td>1015500001</td>\n",
       "    </tr>\n",
       "    <tr>\n",
       "      <th>floor_count</th>\n",
       "      <td>5</td>\n",
       "      <td>0</td>\n",
       "      <td>19</td>\n",
       "      <td>5</td>\n",
       "      <td>24</td>\n",
       "    </tr>\n",
       "    <tr>\n",
       "      <th>year_built</th>\n",
       "      <td>1910</td>\n",
       "      <td>NaN</td>\n",
       "      <td>1963</td>\n",
       "      <td>1910</td>\n",
       "      <td>1973</td>\n",
       "    </tr>\n",
       "    <tr>\n",
       "      <th>min_to_subway</th>\n",
       "      <td>2.7167</td>\n",
       "      <td>4.7333</td>\n",
       "      <td>2.4667</td>\n",
       "      <td>0.7333</td>\n",
       "      <td>2.7</td>\n",
       "    </tr>\n",
       "    <tr>\n",
       "      <th>has_doorman</th>\n",
       "      <td>0</td>\n",
       "      <td>0</td>\n",
       "      <td>1</td>\n",
       "      <td>0</td>\n",
       "      <td>1</td>\n",
       "    </tr>\n",
       "    <tr>\n",
       "      <th>has_elevator</th>\n",
       "      <td>0</td>\n",
       "      <td>1</td>\n",
       "      <td>1</td>\n",
       "      <td>0</td>\n",
       "      <td>1</td>\n",
       "    </tr>\n",
       "    <tr>\n",
       "      <th>has_fireplace</th>\n",
       "      <td>0</td>\n",
       "      <td>0</td>\n",
       "      <td>0</td>\n",
       "      <td>0</td>\n",
       "      <td>0</td>\n",
       "    </tr>\n",
       "    <tr>\n",
       "      <th>has_dishwasher</th>\n",
       "      <td>1</td>\n",
       "      <td>0</td>\n",
       "      <td>1</td>\n",
       "      <td>1</td>\n",
       "      <td>1</td>\n",
       "    </tr>\n",
       "    <tr>\n",
       "      <th>is_furnished</th>\n",
       "      <td>0</td>\n",
       "      <td>0</td>\n",
       "      <td>0</td>\n",
       "      <td>0</td>\n",
       "      <td>0</td>\n",
       "    </tr>\n",
       "    <tr>\n",
       "      <th>has_gym</th>\n",
       "      <td>0</td>\n",
       "      <td>0</td>\n",
       "      <td>0</td>\n",
       "      <td>0</td>\n",
       "      <td>0</td>\n",
       "    </tr>\n",
       "    <tr>\n",
       "      <th>allows_pets</th>\n",
       "      <td>0</td>\n",
       "      <td>0</td>\n",
       "      <td>1</td>\n",
       "      <td>1</td>\n",
       "      <td>1</td>\n",
       "    </tr>\n",
       "    <tr>\n",
       "      <th>has_washer_dryer</th>\n",
       "      <td>0</td>\n",
       "      <td>0</td>\n",
       "      <td>0</td>\n",
       "      <td>0</td>\n",
       "      <td>0</td>\n",
       "    </tr>\n",
       "    <tr>\n",
       "      <th>has_garage</th>\n",
       "      <td>0</td>\n",
       "      <td>0</td>\n",
       "      <td>0</td>\n",
       "      <td>0</td>\n",
       "      <td>0</td>\n",
       "    </tr>\n",
       "    <tr>\n",
       "      <th>has_roofdeck</th>\n",
       "      <td>0</td>\n",
       "      <td>0</td>\n",
       "      <td>1</td>\n",
       "      <td>0</td>\n",
       "      <td>1</td>\n",
       "    </tr>\n",
       "    <tr>\n",
       "      <th>has_concierge</th>\n",
       "      <td>0</td>\n",
       "      <td>0</td>\n",
       "      <td>0</td>\n",
       "      <td>0</td>\n",
       "      <td>0</td>\n",
       "    </tr>\n",
       "    <tr>\n",
       "      <th>has_pool</th>\n",
       "      <td>0</td>\n",
       "      <td>0</td>\n",
       "      <td>0</td>\n",
       "      <td>0</td>\n",
       "      <td>0</td>\n",
       "    </tr>\n",
       "    <tr>\n",
       "      <th>has_garden</th>\n",
       "      <td>0</td>\n",
       "      <td>0</td>\n",
       "      <td>0</td>\n",
       "      <td>0</td>\n",
       "      <td>0</td>\n",
       "    </tr>\n",
       "    <tr>\n",
       "      <th>has_childrens_playroom</th>\n",
       "      <td>0</td>\n",
       "      <td>0</td>\n",
       "      <td>0</td>\n",
       "      <td>0</td>\n",
       "      <td>0</td>\n",
       "    </tr>\n",
       "    <tr>\n",
       "      <th>rent</th>\n",
       "      <td>2000</td>\n",
       "      <td>1750</td>\n",
       "      <td>4800</td>\n",
       "      <td>2100</td>\n",
       "      <td>3495</td>\n",
       "    </tr>\n",
       "    <tr>\n",
       "      <th>no_fee</th>\n",
       "      <td>1</td>\n",
       "      <td>0</td>\n",
       "      <td>1</td>\n",
       "      <td>1</td>\n",
       "      <td>1</td>\n",
       "    </tr>\n",
       "    <tr>\n",
       "      <th>description</th>\n",
       "      <td>Great livable studio in a FANTASTIC location o...</td>\n",
       "      <td>Great Location!! Great Price! Bright,nice reno...</td>\n",
       "      <td>SPONSOR RENTAL- NO BOARD APPROVAL!\\nTotally re...</td>\n",
       "      <td>NO FEE!\\r\\n\\r\\nGut renovated JUNIOR 1-bed, clo...</td>\n",
       "      <td>Spacious and sunny 1 bedroom apt available Sep...</td>\n",
       "    </tr>\n",
       "    <tr>\n",
       "      <th>neighborhood</th>\n",
       "      <td>Upper East Side</td>\n",
       "      <td>Forest Hills</td>\n",
       "      <td>West Village</td>\n",
       "      <td>Central Harlem</td>\n",
       "      <td>Upper East Side</td>\n",
       "    </tr>\n",
       "    <tr>\n",
       "      <th>borough</th>\n",
       "      <td>Manhattan</td>\n",
       "      <td>Queens</td>\n",
       "      <td>Manhattan</td>\n",
       "      <td>Manhattan</td>\n",
       "      <td>Manhattan</td>\n",
       "    </tr>\n",
       "    <tr>\n",
       "      <th>unit</th>\n",
       "      <td>A</td>\n",
       "      <td>5</td>\n",
       "      <td>9G</td>\n",
       "      <td>2BB</td>\n",
       "      <td>12E</td>\n",
       "    </tr>\n",
       "    <tr>\n",
       "      <th>floornumber</th>\n",
       "      <td>NaN</td>\n",
       "      <td>5</td>\n",
       "      <td>9</td>\n",
       "      <td>2</td>\n",
       "      <td>12</td>\n",
       "    </tr>\n",
       "    <tr>\n",
       "      <th>line</th>\n",
       "      <td>NaN</td>\n",
       "      <td>NaN</td>\n",
       "      <td>G</td>\n",
       "      <td>BB</td>\n",
       "      <td>E</td>\n",
       "    </tr>\n",
       "  </tbody>\n",
       "</table>\n",
       "</div>"
      ],
      "text/plain": [
       "rental_id                                                         7327024  ...                                            7418575\n",
       "addr_unit                                                              #A  ...                                               #12E\n",
       "building_id                                                         75721  ...                                              86119\n",
       "bedrooms                                                                0  ...                                                  1\n",
       "bathrooms                                                               1  ...                                                  1\n",
       "size_sqft                                                               0  ...                                                725\n",
       "created_at                                            2018-07-02 17:09:55  ...                                2018-07-28 12:12:34\n",
       "addr_street                                            125 EAST 71 STREET  ...                                 301 EAST 87 STREET\n",
       "addr_city                                                        New York  ...                                           New York\n",
       "addr_zip                                                            10021  ...                                              10128\n",
       "addr_lat                                                          40.7702  ...                                            40.7786\n",
       "addr_lon                                                         -73.9632  ...                                           -73.9508\n",
       "bin                                                           1.04283e+06  ...                                        1.05004e+06\n",
       "bbl                                                            1014060111  ...                                         1015500001\n",
       "floor_count                                                             5  ...                                                 24\n",
       "year_built                                                           1910  ...                                               1973\n",
       "min_to_subway                                                      2.7167  ...                                                2.7\n",
       "has_doorman                                                             0  ...                                                  1\n",
       "has_elevator                                                            0  ...                                                  1\n",
       "has_fireplace                                                           0  ...                                                  0\n",
       "has_dishwasher                                                          1  ...                                                  1\n",
       "is_furnished                                                            0  ...                                                  0\n",
       "has_gym                                                                 0  ...                                                  0\n",
       "allows_pets                                                             0  ...                                                  1\n",
       "has_washer_dryer                                                        0  ...                                                  0\n",
       "has_garage                                                              0  ...                                                  0\n",
       "has_roofdeck                                                            0  ...                                                  1\n",
       "has_concierge                                                           0  ...                                                  0\n",
       "has_pool                                                                0  ...                                                  0\n",
       "has_garden                                                              0  ...                                                  0\n",
       "has_childrens_playroom                                                  0  ...                                                  0\n",
       "rent                                                                 2000  ...                                               3495\n",
       "no_fee                                                                  1  ...                                                  1\n",
       "description             Great livable studio in a FANTASTIC location o...  ...  Spacious and sunny 1 bedroom apt available Sep...\n",
       "neighborhood                                              Upper East Side  ...                                    Upper East Side\n",
       "borough                                                         Manhattan  ...                                          Manhattan\n",
       "unit                                                                    A  ...                                                12E\n",
       "floornumber                                                           NaN  ...                                                 12\n",
       "line                                                                  NaN  ...                                                  E\n",
       "\n",
       "[38 rows x 5 columns]"
      ]
     },
     "execution_count": 3,
     "metadata": {
      "tags": []
     },
     "output_type": "execute_result"
    }
   ],
   "source": [
    "train_df.sample(5).transpose()"
   ]
  },
  {
   "cell_type": "code",
   "execution_count": 3,
   "metadata": {
    "colab": {
     "base_uri": "https://localhost:8080/",
     "height": 34
    },
    "colab_type": "code",
    "executionInfo": {
     "elapsed": 417,
     "status": "ok",
     "timestamp": 1574368676864,
     "user": {
      "displayName": "Jacinta Moore",
      "photoUrl": "",
      "userId": "14215851766389388616"
     },
     "user_tz": 300
    },
    "id": "Z5F5catir0BW",
    "outputId": "34ff74de-266d-4537-ca26-c67b75489874"
   },
   "outputs": [
    {
     "data": {
      "text/plain": [
       "(12000, 38)"
      ]
     },
     "execution_count": 3,
     "metadata": {},
     "output_type": "execute_result"
    }
   ],
   "source": [
    "train_df.shape"
   ]
  },
  {
   "cell_type": "code",
   "execution_count": 4,
   "metadata": {
    "colab": {
     "base_uri": "https://localhost:8080/",
     "height": 34
    },
    "colab_type": "code",
    "executionInfo": {
     "elapsed": 390,
     "status": "ok",
     "timestamp": 1574368687206,
     "user": {
      "displayName": "Jacinta Moore",
      "photoUrl": "",
      "userId": "14215851766389388616"
     },
     "user_tz": 300
    },
    "id": "e-o5NYKor5j1",
    "outputId": "ef990429-d838-4277-96ba-dbac2a67b54e"
   },
   "outputs": [
    {
     "data": {
      "text/plain": [
       "(2000, 38)"
      ]
     },
     "execution_count": 4,
     "metadata": {},
     "output_type": "execute_result"
    }
   ],
   "source": [
    "test_df.shape"
   ]
  },
  {
   "cell_type": "code",
   "execution_count": 5,
   "metadata": {
    "colab": {
     "base_uri": "https://localhost:8080/",
     "height": 34
    },
    "colab_type": "code",
    "executionInfo": {
     "elapsed": 427,
     "status": "ok",
     "timestamp": 1574368731957,
     "user": {
      "displayName": "Jacinta Moore",
      "photoUrl": "",
      "userId": "14215851766389388616"
     },
     "user_tz": 300
    },
    "id": "FHwgbKRir8bo",
    "outputId": "2843fa66-e64c-4002-e463-6f539930cbd7"
   },
   "outputs": [
    {
     "data": {
      "text/plain": [
       "(2000, 38)"
      ]
     },
     "execution_count": 5,
     "metadata": {},
     "output_type": "execute_result"
    }
   ],
   "source": [
    "test2_df.shape"
   ]
  },
  {
   "cell_type": "code",
   "execution_count": 6,
   "metadata": {
    "colab": {
     "base_uri": "https://localhost:8080/",
     "height": 269
    },
    "colab_type": "code",
    "executionInfo": {
     "elapsed": 800,
     "status": "ok",
     "timestamp": 1574366466380,
     "user": {
      "displayName": "Jacinta Moore",
      "photoUrl": "",
      "userId": "14215851766389388616"
     },
     "user_tz": 300
    },
    "id": "6j_eaNSqrT5D",
    "outputId": "b09f9e52-c735-41fa-aef3-8995a0288693"
   },
   "outputs": [
    {
     "data": {
      "image/png": "[encoded data removed]",
      "text/plain": [
       "<Figure size 432x288 with 1 Axes>"
      ]
     },
     "metadata": {
      "needs_background": "light"
     },
     "output_type": "display_data"
    }
   ],
   "source": [
    "_ = plt.hist(train_df['rent'], bins=100)"
   ]
  },
  {
   "cell_type": "code",
   "execution_count": 7,
   "metadata": {
    "colab": {
     "base_uri": "https://localhost:8080/",
     "height": 168
    },
    "colab_type": "code",
    "executionInfo": {
     "elapsed": 496,
     "status": "ok",
     "timestamp": 1574366467446,
     "user": {
      "displayName": "Jacinta Moore",
      "photoUrl": "",
      "userId": "14215851766389388616"
     },
     "user_tz": 300
    },
    "id": "K5EQekB9rUKa",
    "outputId": "53c7277d-84ca-4a28-8ea2-72e63cfc424d"
   },
   "outputs": [
    {
     "data": {
      "text/plain": [
       "count    12000.000000\n",
       "mean      3605.762917\n",
       "std       2897.069446\n",
       "min       1250.000000\n",
       "25%       2250.000000\n",
       "50%       2900.000000\n",
       "75%       3900.000000\n",
       "max      50000.000000\n",
       "Name: rent, dtype: float64"
      ]
     },
     "execution_count": 7,
     "metadata": {},
     "output_type": "execute_result"
    }
   ],
   "source": [
    "train_df['rent'].describe()"
   ]
  },
  {
   "cell_type": "code",
   "execution_count": 8,
   "metadata": {
    "colab": {
     "base_uri": "https://localhost:8080/",
     "height": 34
    },
    "colab_type": "code",
    "executionInfo": {
     "elapsed": 368,
     "status": "ok",
     "timestamp": 1574366472147,
     "user": {
      "displayName": "Jacinta Moore",
      "photoUrl": "",
      "userId": "14215851766389388616"
     },
     "user_tz": 300
    },
    "id": "-lxPtxAprUfW",
    "outputId": "b73166aa-2926-4b71-dfda-2d5d825a9806"
   },
   "outputs": [
    {
     "data": {
      "text/plain": [
       "0"
      ]
     },
     "execution_count": 8,
     "metadata": {},
     "output_type": "execute_result"
    }
   ],
   "source": [
    "train_df['rent'].isna().sum()"
   ]
  },
  {
   "cell_type": "code",
   "execution_count": 9,
   "metadata": {
    "colab": {
     "base_uri": "https://localhost:8080/",
     "height": 54
    },
    "colab_type": "code",
    "executionInfo": {
     "elapsed": 343,
     "status": "ok",
     "timestamp": 1574366473330,
     "user": {
      "displayName": "Jacinta Moore",
      "photoUrl": "",
      "userId": "14215851766389388616"
     },
     "user_tz": 300
    },
    "id": "EAAqPpaCnI0d",
    "outputId": "9603f889-3f78-4983-e2b0-ce83b0b570ba"
   },
   "outputs": [
    {
     "name": "stdout",
     "output_type": "stream",
     "text": [
      "['addr_unit', 'building_id', 'bedrooms', 'bathrooms', 'size_sqft', 'created_at', 'addr_street', 'addr_city', 'addr_zip', 'addr_lat', 'addr_lon', 'bin', 'bbl', 'floor_count', 'year_built', 'min_to_subway', 'has_doorman', 'has_elevator', 'has_fireplace', 'has_dishwasher', 'is_furnished', 'has_gym', 'allows_pets', 'has_washer_dryer', 'has_garage', 'has_roofdeck', 'has_concierge', 'has_pool', 'has_garden', 'has_childrens_playroom', 'rent', 'no_fee', 'description', 'neighborhood', 'borough', 'unit', 'floornumber', 'line']\n"
     ]
    }
   ],
   "source": [
    "print(list(train_df))"
   ]
  },
  {
   "cell_type": "code",
   "execution_count": 10,
   "metadata": {
    "colab": {
     "base_uri": "https://localhost:8080/",
     "height": 304
    },
    "colab_type": "code",
    "executionInfo": {
     "elapsed": 650,
     "status": "ok",
     "timestamp": 1574366474768,
     "user": {
      "displayName": "Jacinta Moore",
      "photoUrl": "",
      "userId": "14215851766389388616"
     },
     "user_tz": 300
    },
    "id": "aMnR3TkCnI0f",
    "outputId": "ddbf6bf3-d724-483d-d770-d4281e997a5b"
   },
   "outputs": [
    {
     "data": {
      "text/html": [
       "<div>\n",
       "<style scoped>\n",
       "    .dataframe tbody tr th:only-of-type {\n",
       "        vertical-align: middle;\n",
       "    }\n",
       "\n",
       "    .dataframe tbody tr th {\n",
       "        vertical-align: top;\n",
       "    }\n",
       "\n",
       "    .dataframe thead th {\n",
       "        text-align: right;\n",
       "    }\n",
       "</style>\n",
       "<table border=\"1\" class=\"dataframe\">\n",
       "  <thead>\n",
       "    <tr style=\"text-align: right;\">\n",
       "      <th></th>\n",
       "      <th>building_id</th>\n",
       "      <th>bedrooms</th>\n",
       "      <th>bathrooms</th>\n",
       "      <th>size_sqft</th>\n",
       "      <th>addr_zip</th>\n",
       "      <th>addr_lat</th>\n",
       "      <th>addr_lon</th>\n",
       "      <th>bin</th>\n",
       "      <th>bbl</th>\n",
       "      <th>floor_count</th>\n",
       "      <th>...</th>\n",
       "      <th>has_washer_dryer</th>\n",
       "      <th>has_garage</th>\n",
       "      <th>has_roofdeck</th>\n",
       "      <th>has_concierge</th>\n",
       "      <th>has_pool</th>\n",
       "      <th>has_garden</th>\n",
       "      <th>has_childrens_playroom</th>\n",
       "      <th>rent</th>\n",
       "      <th>no_fee</th>\n",
       "      <th>floornumber</th>\n",
       "    </tr>\n",
       "  </thead>\n",
       "  <tbody>\n",
       "    <tr>\n",
       "      <td>count</td>\n",
       "      <td>1.200000e+04</td>\n",
       "      <td>12000.000000</td>\n",
       "      <td>12000.000000</td>\n",
       "      <td>12000.000000</td>\n",
       "      <td>12000.000000</td>\n",
       "      <td>12000.000000</td>\n",
       "      <td>12000.000000</td>\n",
       "      <td>1.199900e+04</td>\n",
       "      <td>1.200000e+04</td>\n",
       "      <td>12000.000000</td>\n",
       "      <td>...</td>\n",
       "      <td>12000.000000</td>\n",
       "      <td>12000.000000</td>\n",
       "      <td>12000.000000</td>\n",
       "      <td>12000.000000</td>\n",
       "      <td>12000.000000</td>\n",
       "      <td>12000.000000</td>\n",
       "      <td>12000.000000</td>\n",
       "      <td>12000.000000</td>\n",
       "      <td>12000.000000</td>\n",
       "      <td>10723.000000</td>\n",
       "    </tr>\n",
       "    <tr>\n",
       "      <td>mean</td>\n",
       "      <td>1.529133e+06</td>\n",
       "      <td>1.657667</td>\n",
       "      <td>1.239500</td>\n",
       "      <td>850.465750</td>\n",
       "      <td>10682.779667</td>\n",
       "      <td>40.727507</td>\n",
       "      <td>-73.956837</td>\n",
       "      <td>2.370093e+06</td>\n",
       "      <td>2.287120e+09</td>\n",
       "      <td>10.266608</td>\n",
       "      <td>...</td>\n",
       "      <td>0.271667</td>\n",
       "      <td>0.170000</td>\n",
       "      <td>0.264083</td>\n",
       "      <td>0.208583</td>\n",
       "      <td>0.073167</td>\n",
       "      <td>0.132083</td>\n",
       "      <td>0.090500</td>\n",
       "      <td>3605.762917</td>\n",
       "      <td>0.490000</td>\n",
       "      <td>6.182738</td>\n",
       "    </tr>\n",
       "    <tr>\n",
       "      <td>std</td>\n",
       "      <td>4.301123e+06</td>\n",
       "      <td>1.079771</td>\n",
       "      <td>0.560208</td>\n",
       "      <td>515.773101</td>\n",
       "      <td>593.370964</td>\n",
       "      <td>0.053241</td>\n",
       "      <td>0.043024</td>\n",
       "      <td>1.242919e+06</td>\n",
       "      <td>1.202105e+09</td>\n",
       "      <td>12.019787</td>\n",
       "      <td>...</td>\n",
       "      <td>0.444837</td>\n",
       "      <td>0.375648</td>\n",
       "      <td>0.440862</td>\n",
       "      <td>0.406313</td>\n",
       "      <td>0.260421</td>\n",
       "      <td>0.338595</td>\n",
       "      <td>0.286909</td>\n",
       "      <td>2897.069446</td>\n",
       "      <td>0.499921</td>\n",
       "      <td>7.671545</td>\n",
       "    </tr>\n",
       "    <tr>\n",
       "      <td>min</td>\n",
       "      <td>7.300000e+01</td>\n",
       "      <td>0.000000</td>\n",
       "      <td>0.000000</td>\n",
       "      <td>0.000000</td>\n",
       "      <td>10001.000000</td>\n",
       "      <td>40.573898</td>\n",
       "      <td>-74.141570</td>\n",
       "      <td>1.000000e+06</td>\n",
       "      <td>0.000000e+00</td>\n",
       "      <td>0.000000</td>\n",
       "      <td>...</td>\n",
       "      <td>0.000000</td>\n",
       "      <td>0.000000</td>\n",
       "      <td>0.000000</td>\n",
       "      <td>0.000000</td>\n",
       "      <td>0.000000</td>\n",
       "      <td>0.000000</td>\n",
       "      <td>0.000000</td>\n",
       "      <td>1250.000000</td>\n",
       "      <td>0.000000</td>\n",
       "      <td>0.000000</td>\n",
       "    </tr>\n",
       "    <tr>\n",
       "      <td>25%</td>\n",
       "      <td>6.209200e+04</td>\n",
       "      <td>1.000000</td>\n",
       "      <td>1.000000</td>\n",
       "      <td>610.000000</td>\n",
       "      <td>10023.000000</td>\n",
       "      <td>40.693256</td>\n",
       "      <td>-73.986076</td>\n",
       "      <td>1.052139e+06</td>\n",
       "      <td>1.011220e+09</td>\n",
       "      <td>3.000000</td>\n",
       "      <td>...</td>\n",
       "      <td>0.000000</td>\n",
       "      <td>0.000000</td>\n",
       "      <td>0.000000</td>\n",
       "      <td>0.000000</td>\n",
       "      <td>0.000000</td>\n",
       "      <td>0.000000</td>\n",
       "      <td>0.000000</td>\n",
       "      <td>2250.000000</td>\n",
       "      <td>0.000000</td>\n",
       "      <td>2.000000</td>\n",
       "    </tr>\n",
       "    <tr>\n",
       "      <td>50%</td>\n",
       "      <td>2.495815e+05</td>\n",
       "      <td>2.000000</td>\n",
       "      <td>1.000000</td>\n",
       "      <td>800.000000</td>\n",
       "      <td>11103.000000</td>\n",
       "      <td>40.729028</td>\n",
       "      <td>-73.961700</td>\n",
       "      <td>3.019358e+06</td>\n",
       "      <td>3.006580e+09</td>\n",
       "      <td>5.000000</td>\n",
       "      <td>...</td>\n",
       "      <td>0.000000</td>\n",
       "      <td>0.000000</td>\n",
       "      <td>0.000000</td>\n",
       "      <td>0.000000</td>\n",
       "      <td>0.000000</td>\n",
       "      <td>0.000000</td>\n",
       "      <td>0.000000</td>\n",
       "      <td>2900.000000</td>\n",
       "      <td>0.000000</td>\n",
       "      <td>3.000000</td>\n",
       "    </tr>\n",
       "    <tr>\n",
       "      <td>75%</td>\n",
       "      <td>8.225132e+05</td>\n",
       "      <td>2.000000</td>\n",
       "      <td>1.000000</td>\n",
       "      <td>1000.000000</td>\n",
       "      <td>11218.000000</td>\n",
       "      <td>40.764599</td>\n",
       "      <td>-73.936663</td>\n",
       "      <td>3.326098e+06</td>\n",
       "      <td>3.050580e+09</td>\n",
       "      <td>12.000000</td>\n",
       "      <td>...</td>\n",
       "      <td>1.000000</td>\n",
       "      <td>0.000000</td>\n",
       "      <td>1.000000</td>\n",
       "      <td>0.000000</td>\n",
       "      <td>0.000000</td>\n",
       "      <td>0.000000</td>\n",
       "      <td>0.000000</td>\n",
       "      <td>3900.000000</td>\n",
       "      <td>1.000000</td>\n",
       "      <td>6.000000</td>\n",
       "    </tr>\n",
       "    <tr>\n",
       "      <td>max</td>\n",
       "      <td>1.877210e+07</td>\n",
       "      <td>8.000000</td>\n",
       "      <td>20.000000</td>\n",
       "      <td>10000.000000</td>\n",
       "      <td>11694.000000</td>\n",
       "      <td>40.909842</td>\n",
       "      <td>-73.730550</td>\n",
       "      <td>5.158986e+06</td>\n",
       "      <td>5.010640e+09</td>\n",
       "      <td>90.000000</td>\n",
       "      <td>...</td>\n",
       "      <td>1.000000</td>\n",
       "      <td>1.000000</td>\n",
       "      <td>1.000000</td>\n",
       "      <td>1.000000</td>\n",
       "      <td>1.000000</td>\n",
       "      <td>1.000000</td>\n",
       "      <td>1.000000</td>\n",
       "      <td>50000.000000</td>\n",
       "      <td>1.000000</td>\n",
       "      <td>78.000000</td>\n",
       "    </tr>\n",
       "  </tbody>\n",
       "</table>\n",
       "<p>8 rows × 29 columns</p>\n",
       "</div>"
      ],
      "text/plain": [
       "        building_id      bedrooms     bathrooms     size_sqft      addr_zip  \\\n",
       "count  1.200000e+04  12000.000000  12000.000000  12000.000000  12000.000000   \n",
       "mean   1.529133e+06      1.657667      1.239500    850.465750  10682.779667   \n",
       "std    4.301123e+06      1.079771      0.560208    515.773101    593.370964   \n",
       "min    7.300000e+01      0.000000      0.000000      0.000000  10001.000000   \n",
       "25%    6.209200e+04      1.000000      1.000000    610.000000  10023.000000   \n",
       "50%    2.495815e+05      2.000000      1.000000    800.000000  11103.000000   \n",
       "75%    8.225132e+05      2.000000      1.000000   1000.000000  11218.000000   \n",
       "max    1.877210e+07      8.000000     20.000000  10000.000000  11694.000000   \n",
       "\n",
       "           addr_lat      addr_lon           bin           bbl   floor_count  \\\n",
       "count  12000.000000  12000.000000  1.199900e+04  1.200000e+04  12000.000000   \n",
       "mean      40.727507    -73.956837  2.370093e+06  2.287120e+09     10.266608   \n",
       "std        0.053241      0.043024  1.242919e+06  1.202105e+09     12.019787   \n",
       "min       40.573898    -74.141570  1.000000e+06  0.000000e+00      0.000000   \n",
       "25%       40.693256    -73.986076  1.052139e+06  1.011220e+09      3.000000   \n",
       "50%       40.729028    -73.961700  3.019358e+06  3.006580e+09      5.000000   \n",
       "75%       40.764599    -73.936663  3.326098e+06  3.050580e+09     12.000000   \n",
       "max       40.909842    -73.730550  5.158986e+06  5.010640e+09     90.000000   \n",
       "\n",
       "       ...  has_washer_dryer    has_garage  has_roofdeck  has_concierge  \\\n",
       "count  ...      12000.000000  12000.000000  12000.000000   12000.000000   \n",
       "mean   ...          0.271667      0.170000      0.264083       0.208583   \n",
       "std    ...          0.444837      0.375648      0.440862       0.406313   \n",
       "min    ...          0.000000      0.000000      0.000000       0.000000   \n",
       "25%    ...          0.000000      0.000000      0.000000       0.000000   \n",
       "50%    ...          0.000000      0.000000      0.000000       0.000000   \n",
       "75%    ...          1.000000      0.000000      1.000000       0.000000   \n",
       "max    ...          1.000000      1.000000      1.000000       1.000000   \n",
       "\n",
       "           has_pool    has_garden  has_childrens_playroom          rent  \\\n",
       "count  12000.000000  12000.000000            12000.000000  12000.000000   \n",
       "mean       0.073167      0.132083                0.090500   3605.762917   \n",
       "std        0.260421      0.338595                0.286909   2897.069446   \n",
       "min        0.000000      0.000000                0.000000   1250.000000   \n",
       "25%        0.000000      0.000000                0.000000   2250.000000   \n",
       "50%        0.000000      0.000000                0.000000   2900.000000   \n",
       "75%        0.000000      0.000000                0.000000   3900.000000   \n",
       "max        1.000000      1.000000                1.000000  50000.000000   \n",
       "\n",
       "             no_fee   floornumber  \n",
       "count  12000.000000  10723.000000  \n",
       "mean       0.490000      6.182738  \n",
       "std        0.499921      7.671545  \n",
       "min        0.000000      0.000000  \n",
       "25%        0.000000      2.000000  \n",
       "50%        0.000000      3.000000  \n",
       "75%        1.000000      6.000000  \n",
       "max        1.000000     78.000000  \n",
       "\n",
       "[8 rows x 29 columns]"
      ]
     },
     "execution_count": 10,
     "metadata": {},
     "output_type": "execute_result"
    }
   ],
   "source": [
    "train_df.describe()"
   ]
  },
  {
   "cell_type": "code",
   "execution_count": 11,
   "metadata": {
    "colab": {
     "base_uri": "https://localhost:8080/",
     "height": 926
    },
    "colab_type": "code",
    "executionInfo": {
     "elapsed": 449,
     "status": "ok",
     "timestamp": 1574366479688,
     "user": {
      "displayName": "Jacinta Moore",
      "photoUrl": "",
      "userId": "14215851766389388616"
     },
     "user_tz": 300
    },
    "id": "M3j05EiHr627",
    "outputId": "e31fdf32-fa4b-4d0c-dcc7-0ee39bffd62b"
   },
   "outputs": [
    {
     "data": {
      "text/html": [
       "<div>\n",
       "<style scoped>\n",
       "    .dataframe tbody tr th:only-of-type {\n",
       "        vertical-align: middle;\n",
       "    }\n",
       "\n",
       "    .dataframe tbody tr th {\n",
       "        vertical-align: top;\n",
       "    }\n",
       "\n",
       "    .dataframe thead th {\n",
       "        text-align: right;\n",
       "    }\n",
       "</style>\n",
       "<table border=\"1\" class=\"dataframe\">\n",
       "  <thead>\n",
       "    <tr style=\"text-align: right;\">\n",
       "      <th></th>\n",
       "      <th>building_id</th>\n",
       "      <th>bedrooms</th>\n",
       "      <th>bathrooms</th>\n",
       "      <th>size_sqft</th>\n",
       "      <th>addr_zip</th>\n",
       "      <th>addr_lat</th>\n",
       "      <th>addr_lon</th>\n",
       "      <th>bin</th>\n",
       "      <th>bbl</th>\n",
       "      <th>floor_count</th>\n",
       "      <th>...</th>\n",
       "      <th>has_washer_dryer</th>\n",
       "      <th>has_garage</th>\n",
       "      <th>has_roofdeck</th>\n",
       "      <th>has_concierge</th>\n",
       "      <th>has_pool</th>\n",
       "      <th>has_garden</th>\n",
       "      <th>has_childrens_playroom</th>\n",
       "      <th>rent</th>\n",
       "      <th>no_fee</th>\n",
       "      <th>floornumber</th>\n",
       "    </tr>\n",
       "  </thead>\n",
       "  <tbody>\n",
       "    <tr>\n",
       "      <td>building_id</td>\n",
       "      <td>1.000000</td>\n",
       "      <td>-0.001813</td>\n",
       "      <td>-0.016501</td>\n",
       "      <td>-0.006433</td>\n",
       "      <td>0.064199</td>\n",
       "      <td>-0.008653</td>\n",
       "      <td>0.105315</td>\n",
       "      <td>0.117460</td>\n",
       "      <td>0.090194</td>\n",
       "      <td>-0.116488</td>\n",
       "      <td>...</td>\n",
       "      <td>-0.030651</td>\n",
       "      <td>0.099141</td>\n",
       "      <td>-0.012773</td>\n",
       "      <td>-0.060398</td>\n",
       "      <td>0.038340</td>\n",
       "      <td>0.064100</td>\n",
       "      <td>0.011357</td>\n",
       "      <td>-0.035145</td>\n",
       "      <td>0.052429</td>\n",
       "      <td>-0.003418</td>\n",
       "    </tr>\n",
       "    <tr>\n",
       "      <td>bedrooms</td>\n",
       "      <td>-0.001813</td>\n",
       "      <td>1.000000</td>\n",
       "      <td>0.464287</td>\n",
       "      <td>0.525537</td>\n",
       "      <td>0.187639</td>\n",
       "      <td>-0.114986</td>\n",
       "      <td>0.093089</td>\n",
       "      <td>0.142331</td>\n",
       "      <td>0.151078</td>\n",
       "      <td>-0.228858</td>\n",
       "      <td>...</td>\n",
       "      <td>0.117120</td>\n",
       "      <td>-0.116837</td>\n",
       "      <td>-0.085111</td>\n",
       "      <td>-0.202524</td>\n",
       "      <td>-0.091116</td>\n",
       "      <td>0.048234</td>\n",
       "      <td>-0.083456</td>\n",
       "      <td>0.353337</td>\n",
       "      <td>-0.004335</td>\n",
       "      <td>-0.158895</td>\n",
       "    </tr>\n",
       "    <tr>\n",
       "      <td>bathrooms</td>\n",
       "      <td>-0.016501</td>\n",
       "      <td>0.464287</td>\n",
       "      <td>1.000000</td>\n",
       "      <td>0.565788</td>\n",
       "      <td>-0.088524</td>\n",
       "      <td>0.028441</td>\n",
       "      <td>-0.062992</td>\n",
       "      <td>-0.100642</td>\n",
       "      <td>-0.106358</td>\n",
       "      <td>0.091489</td>\n",
       "      <td>...</td>\n",
       "      <td>0.298722</td>\n",
       "      <td>0.051650</td>\n",
       "      <td>0.102592</td>\n",
       "      <td>0.105276</td>\n",
       "      <td>0.089527</td>\n",
       "      <td>0.104741</td>\n",
       "      <td>0.111949</td>\n",
       "      <td>0.611987</td>\n",
       "      <td>-0.003053</td>\n",
       "      <td>0.116938</td>\n",
       "    </tr>\n",
       "    <tr>\n",
       "      <td>size_sqft</td>\n",
       "      <td>-0.006433</td>\n",
       "      <td>0.525537</td>\n",
       "      <td>0.565788</td>\n",
       "      <td>1.000000</td>\n",
       "      <td>0.000576</td>\n",
       "      <td>-0.037717</td>\n",
       "      <td>-0.035054</td>\n",
       "      <td>-0.013148</td>\n",
       "      <td>-0.011608</td>\n",
       "      <td>0.020547</td>\n",
       "      <td>...</td>\n",
       "      <td>0.263907</td>\n",
       "      <td>0.005959</td>\n",
       "      <td>0.026781</td>\n",
       "      <td>0.040962</td>\n",
       "      <td>0.051020</td>\n",
       "      <td>0.137652</td>\n",
       "      <td>0.068867</td>\n",
       "      <td>0.649984</td>\n",
       "      <td>-0.074162</td>\n",
       "      <td>0.054328</td>\n",
       "    </tr>\n",
       "    <tr>\n",
       "      <td>addr_zip</td>\n",
       "      <td>0.064199</td>\n",
       "      <td>0.187639</td>\n",
       "      <td>-0.088524</td>\n",
       "      <td>0.000576</td>\n",
       "      <td>1.000000</td>\n",
       "      <td>-0.577385</td>\n",
       "      <td>0.462277</td>\n",
       "      <td>0.950995</td>\n",
       "      <td>0.952018</td>\n",
       "      <td>-0.447352</td>\n",
       "      <td>...</td>\n",
       "      <td>-0.113234</td>\n",
       "      <td>-0.116047</td>\n",
       "      <td>-0.107670</td>\n",
       "      <td>-0.354300</td>\n",
       "      <td>-0.193333</td>\n",
       "      <td>-0.006699</td>\n",
       "      <td>-0.162588</td>\n",
       "      <td>-0.325241</td>\n",
       "      <td>-0.066025</td>\n",
       "      <td>-0.376063</td>\n",
       "    </tr>\n",
       "    <tr>\n",
       "      <td>addr_lat</td>\n",
       "      <td>-0.008653</td>\n",
       "      <td>-0.114986</td>\n",
       "      <td>0.028441</td>\n",
       "      <td>-0.037717</td>\n",
       "      <td>-0.577385</td>\n",
       "      <td>1.000000</td>\n",
       "      <td>0.219029</td>\n",
       "      <td>-0.429858</td>\n",
       "      <td>-0.424711</td>\n",
       "      <td>0.195647</td>\n",
       "      <td>...</td>\n",
       "      <td>0.013967</td>\n",
       "      <td>0.057687</td>\n",
       "      <td>-0.000782</td>\n",
       "      <td>0.146865</td>\n",
       "      <td>0.104243</td>\n",
       "      <td>0.000178</td>\n",
       "      <td>0.066387</td>\n",
       "      <td>0.109536</td>\n",
       "      <td>0.002401</td>\n",
       "      <td>0.170598</td>\n",
       "    </tr>\n",
       "    <tr>\n",
       "      <td>addr_lon</td>\n",
       "      <td>0.105315</td>\n",
       "      <td>0.093089</td>\n",
       "      <td>-0.062992</td>\n",
       "      <td>-0.035054</td>\n",
       "      <td>0.462277</td>\n",
       "      <td>0.219029</td>\n",
       "      <td>1.000000</td>\n",
       "      <td>0.554511</td>\n",
       "      <td>0.563806</td>\n",
       "      <td>-0.281790</td>\n",
       "      <td>...</td>\n",
       "      <td>-0.165555</td>\n",
       "      <td>-0.055615</td>\n",
       "      <td>-0.168426</td>\n",
       "      <td>-0.270704</td>\n",
       "      <td>-0.100606</td>\n",
       "      <td>-0.038981</td>\n",
       "      <td>-0.140828</td>\n",
       "      <td>-0.262711</td>\n",
       "      <td>-0.041091</td>\n",
       "      <td>-0.239193</td>\n",
       "    </tr>\n",
       "    <tr>\n",
       "      <td>bin</td>\n",
       "      <td>0.117460</td>\n",
       "      <td>0.142331</td>\n",
       "      <td>-0.100642</td>\n",
       "      <td>-0.013148</td>\n",
       "      <td>0.950995</td>\n",
       "      <td>-0.429858</td>\n",
       "      <td>0.554511</td>\n",
       "      <td>1.000000</td>\n",
       "      <td>0.994155</td>\n",
       "      <td>-0.426813</td>\n",
       "      <td>...</td>\n",
       "      <td>-0.119801</td>\n",
       "      <td>-0.089042</td>\n",
       "      <td>-0.112548</td>\n",
       "      <td>-0.323696</td>\n",
       "      <td>-0.182156</td>\n",
       "      <td>-0.007928</td>\n",
       "      <td>-0.144938</td>\n",
       "      <td>-0.332165</td>\n",
       "      <td>-0.111486</td>\n",
       "      <td>-0.350957</td>\n",
       "    </tr>\n",
       "    <tr>\n",
       "      <td>bbl</td>\n",
       "      <td>0.090194</td>\n",
       "      <td>0.151078</td>\n",
       "      <td>-0.106358</td>\n",
       "      <td>-0.011608</td>\n",
       "      <td>0.952018</td>\n",
       "      <td>-0.424711</td>\n",
       "      <td>0.563806</td>\n",
       "      <td>0.994155</td>\n",
       "      <td>1.000000</td>\n",
       "      <td>-0.442496</td>\n",
       "      <td>...</td>\n",
       "      <td>-0.137143</td>\n",
       "      <td>-0.109457</td>\n",
       "      <td>-0.135245</td>\n",
       "      <td>-0.346828</td>\n",
       "      <td>-0.193851</td>\n",
       "      <td>-0.021434</td>\n",
       "      <td>-0.169315</td>\n",
       "      <td>-0.339157</td>\n",
       "      <td>-0.126716</td>\n",
       "      <td>-0.367065</td>\n",
       "    </tr>\n",
       "    <tr>\n",
       "      <td>floor_count</td>\n",
       "      <td>-0.116488</td>\n",
       "      <td>-0.228858</td>\n",
       "      <td>0.091489</td>\n",
       "      <td>0.020547</td>\n",
       "      <td>-0.447352</td>\n",
       "      <td>0.195647</td>\n",
       "      <td>-0.281790</td>\n",
       "      <td>-0.426813</td>\n",
       "      <td>-0.442496</td>\n",
       "      <td>1.000000</td>\n",
       "      <td>...</td>\n",
       "      <td>0.177199</td>\n",
       "      <td>0.380581</td>\n",
       "      <td>0.361168</td>\n",
       "      <td>0.655252</td>\n",
       "      <td>0.498138</td>\n",
       "      <td>0.084536</td>\n",
       "      <td>0.395460</td>\n",
       "      <td>0.253517</td>\n",
       "      <td>0.185316</td>\n",
       "      <td>0.769707</td>\n",
       "    </tr>\n",
       "    <tr>\n",
       "      <td>year_built</td>\n",
       "      <td>0.026593</td>\n",
       "      <td>-0.056614</td>\n",
       "      <td>-0.004480</td>\n",
       "      <td>-0.021524</td>\n",
       "      <td>-0.004916</td>\n",
       "      <td>-0.002415</td>\n",
       "      <td>-0.003623</td>\n",
       "      <td>0.010451</td>\n",
       "      <td>0.005694</td>\n",
       "      <td>0.151318</td>\n",
       "      <td>...</td>\n",
       "      <td>0.006949</td>\n",
       "      <td>0.084148</td>\n",
       "      <td>0.082307</td>\n",
       "      <td>0.085210</td>\n",
       "      <td>0.051083</td>\n",
       "      <td>0.006335</td>\n",
       "      <td>0.051941</td>\n",
       "      <td>-0.001037</td>\n",
       "      <td>0.049746</td>\n",
       "      <td>0.095295</td>\n",
       "    </tr>\n",
       "    <tr>\n",
       "      <td>min_to_subway</td>\n",
       "      <td>-0.006980</td>\n",
       "      <td>0.014171</td>\n",
       "      <td>0.017966</td>\n",
       "      <td>0.007718</td>\n",
       "      <td>0.023660</td>\n",
       "      <td>-0.026215</td>\n",
       "      <td>-0.012528</td>\n",
       "      <td>0.021091</td>\n",
       "      <td>0.015880</td>\n",
       "      <td>-0.011722</td>\n",
       "      <td>...</td>\n",
       "      <td>0.035343</td>\n",
       "      <td>0.031686</td>\n",
       "      <td>0.006643</td>\n",
       "      <td>-0.013324</td>\n",
       "      <td>-0.007238</td>\n",
       "      <td>0.009395</td>\n",
       "      <td>-0.007989</td>\n",
       "      <td>0.000010</td>\n",
       "      <td>-0.005945</td>\n",
       "      <td>-0.012333</td>\n",
       "    </tr>\n",
       "    <tr>\n",
       "      <td>has_doorman</td>\n",
       "      <td>-0.042830</td>\n",
       "      <td>-0.233059</td>\n",
       "      <td>0.108987</td>\n",
       "      <td>0.047766</td>\n",
       "      <td>-0.410034</td>\n",
       "      <td>0.191486</td>\n",
       "      <td>-0.259673</td>\n",
       "      <td>-0.380284</td>\n",
       "      <td>-0.403373</td>\n",
       "      <td>0.664202</td>\n",
       "      <td>...</td>\n",
       "      <td>0.248036</td>\n",
       "      <td>0.406196</td>\n",
       "      <td>0.421955</td>\n",
       "      <td>0.668138</td>\n",
       "      <td>0.340186</td>\n",
       "      <td>0.142268</td>\n",
       "      <td>0.345234</td>\n",
       "      <td>0.273486</td>\n",
       "      <td>0.252027</td>\n",
       "      <td>0.523314</td>\n",
       "    </tr>\n",
       "    <tr>\n",
       "      <td>has_elevator</td>\n",
       "      <td>0.061696</td>\n",
       "      <td>-0.278231</td>\n",
       "      <td>0.095867</td>\n",
       "      <td>0.029836</td>\n",
       "      <td>-0.362939</td>\n",
       "      <td>0.167685</td>\n",
       "      <td>-0.182011</td>\n",
       "      <td>-0.326176</td>\n",
       "      <td>-0.351657</td>\n",
       "      <td>0.560443</td>\n",
       "      <td>...</td>\n",
       "      <td>0.203386</td>\n",
       "      <td>0.392328</td>\n",
       "      <td>0.409244</td>\n",
       "      <td>0.526443</td>\n",
       "      <td>0.273776</td>\n",
       "      <td>0.099298</td>\n",
       "      <td>0.304430</td>\n",
       "      <td>0.238692</td>\n",
       "      <td>0.228047</td>\n",
       "      <td>0.453474</td>\n",
       "    </tr>\n",
       "    <tr>\n",
       "      <td>has_fireplace</td>\n",
       "      <td>-0.031611</td>\n",
       "      <td>0.049998</td>\n",
       "      <td>0.124532</td>\n",
       "      <td>0.155044</td>\n",
       "      <td>-0.072233</td>\n",
       "      <td>0.019505</td>\n",
       "      <td>-0.070451</td>\n",
       "      <td>-0.084767</td>\n",
       "      <td>-0.081656</td>\n",
       "      <td>-0.024808</td>\n",
       "      <td>...</td>\n",
       "      <td>0.088507</td>\n",
       "      <td>-0.030127</td>\n",
       "      <td>-0.013023</td>\n",
       "      <td>-0.025240</td>\n",
       "      <td>0.000800</td>\n",
       "      <td>0.049034</td>\n",
       "      <td>-0.010935</td>\n",
       "      <td>0.163483</td>\n",
       "      <td>-0.052129</td>\n",
       "      <td>-0.008051</td>\n",
       "    </tr>\n",
       "    <tr>\n",
       "      <td>has_dishwasher</td>\n",
       "      <td>0.023323</td>\n",
       "      <td>0.046002</td>\n",
       "      <td>0.161132</td>\n",
       "      <td>0.111761</td>\n",
       "      <td>-0.166108</td>\n",
       "      <td>0.078029</td>\n",
       "      <td>-0.138343</td>\n",
       "      <td>-0.173532</td>\n",
       "      <td>-0.185248</td>\n",
       "      <td>0.229530</td>\n",
       "      <td>...</td>\n",
       "      <td>0.334376</td>\n",
       "      <td>0.212473</td>\n",
       "      <td>0.286309</td>\n",
       "      <td>0.258104</td>\n",
       "      <td>0.112804</td>\n",
       "      <td>0.089919</td>\n",
       "      <td>0.121131</td>\n",
       "      <td>0.187002</td>\n",
       "      <td>0.276597</td>\n",
       "      <td>0.172159</td>\n",
       "    </tr>\n",
       "    <tr>\n",
       "      <td>is_furnished</td>\n",
       "      <td>-0.012521</td>\n",
       "      <td>-0.046021</td>\n",
       "      <td>0.050068</td>\n",
       "      <td>0.041965</td>\n",
       "      <td>-0.135857</td>\n",
       "      <td>0.054610</td>\n",
       "      <td>-0.085478</td>\n",
       "      <td>-0.131706</td>\n",
       "      <td>-0.132950</td>\n",
       "      <td>0.112042</td>\n",
       "      <td>...</td>\n",
       "      <td>0.086711</td>\n",
       "      <td>-0.002425</td>\n",
       "      <td>0.058287</td>\n",
       "      <td>0.076347</td>\n",
       "      <td>0.054185</td>\n",
       "      <td>0.034308</td>\n",
       "      <td>0.059076</td>\n",
       "      <td>0.133343</td>\n",
       "      <td>-0.028827</td>\n",
       "      <td>0.090309</td>\n",
       "    </tr>\n",
       "    <tr>\n",
       "      <td>has_gym</td>\n",
       "      <td>0.004550</td>\n",
       "      <td>-0.206094</td>\n",
       "      <td>0.113062</td>\n",
       "      <td>0.022605</td>\n",
       "      <td>-0.287916</td>\n",
       "      <td>0.115376</td>\n",
       "      <td>-0.224737</td>\n",
       "      <td>-0.263453</td>\n",
       "      <td>-0.292240</td>\n",
       "      <td>0.633673</td>\n",
       "      <td>...</td>\n",
       "      <td>0.292996</td>\n",
       "      <td>0.432486</td>\n",
       "      <td>0.535142</td>\n",
       "      <td>0.664979</td>\n",
       "      <td>0.394261</td>\n",
       "      <td>0.169583</td>\n",
       "      <td>0.460646</td>\n",
       "      <td>0.248213</td>\n",
       "      <td>0.285377</td>\n",
       "      <td>0.518792</td>\n",
       "    </tr>\n",
       "    <tr>\n",
       "      <td>allows_pets</td>\n",
       "      <td>0.040899</td>\n",
       "      <td>0.023819</td>\n",
       "      <td>0.087348</td>\n",
       "      <td>0.032325</td>\n",
       "      <td>-0.115378</td>\n",
       "      <td>0.015503</td>\n",
       "      <td>-0.153365</td>\n",
       "      <td>-0.144695</td>\n",
       "      <td>-0.160086</td>\n",
       "      <td>0.205669</td>\n",
       "      <td>...</td>\n",
       "      <td>0.177554</td>\n",
       "      <td>0.180943</td>\n",
       "      <td>0.270345</td>\n",
       "      <td>0.266168</td>\n",
       "      <td>0.093398</td>\n",
       "      <td>0.130835</td>\n",
       "      <td>0.162443</td>\n",
       "      <td>0.149247</td>\n",
       "      <td>0.271594</td>\n",
       "      <td>0.175281</td>\n",
       "    </tr>\n",
       "    <tr>\n",
       "      <td>has_washer_dryer</td>\n",
       "      <td>-0.030651</td>\n",
       "      <td>0.117120</td>\n",
       "      <td>0.298722</td>\n",
       "      <td>0.263907</td>\n",
       "      <td>-0.113234</td>\n",
       "      <td>0.013967</td>\n",
       "      <td>-0.165555</td>\n",
       "      <td>-0.119801</td>\n",
       "      <td>-0.137143</td>\n",
       "      <td>0.177199</td>\n",
       "      <td>...</td>\n",
       "      <td>1.000000</td>\n",
       "      <td>0.088676</td>\n",
       "      <td>0.239291</td>\n",
       "      <td>0.268367</td>\n",
       "      <td>0.106097</td>\n",
       "      <td>0.121955</td>\n",
       "      <td>0.191961</td>\n",
       "      <td>0.343123</td>\n",
       "      <td>0.120897</td>\n",
       "      <td>0.154859</td>\n",
       "    </tr>\n",
       "    <tr>\n",
       "      <td>has_garage</td>\n",
       "      <td>0.099141</td>\n",
       "      <td>-0.116837</td>\n",
       "      <td>0.051650</td>\n",
       "      <td>0.005959</td>\n",
       "      <td>-0.116047</td>\n",
       "      <td>0.057687</td>\n",
       "      <td>-0.055615</td>\n",
       "      <td>-0.089042</td>\n",
       "      <td>-0.109457</td>\n",
       "      <td>0.380581</td>\n",
       "      <td>...</td>\n",
       "      <td>0.088676</td>\n",
       "      <td>1.000000</td>\n",
       "      <td>0.295535</td>\n",
       "      <td>0.383031</td>\n",
       "      <td>0.323507</td>\n",
       "      <td>0.148442</td>\n",
       "      <td>0.244646</td>\n",
       "      <td>0.095437</td>\n",
       "      <td>0.180798</td>\n",
       "      <td>0.311203</td>\n",
       "    </tr>\n",
       "    <tr>\n",
       "      <td>has_roofdeck</td>\n",
       "      <td>-0.012773</td>\n",
       "      <td>-0.085111</td>\n",
       "      <td>0.102592</td>\n",
       "      <td>0.026781</td>\n",
       "      <td>-0.107670</td>\n",
       "      <td>-0.000782</td>\n",
       "      <td>-0.168426</td>\n",
       "      <td>-0.112548</td>\n",
       "      <td>-0.135245</td>\n",
       "      <td>0.361168</td>\n",
       "      <td>...</td>\n",
       "      <td>0.239291</td>\n",
       "      <td>0.295535</td>\n",
       "      <td>1.000000</td>\n",
       "      <td>0.413147</td>\n",
       "      <td>0.193187</td>\n",
       "      <td>0.166055</td>\n",
       "      <td>0.297292</td>\n",
       "      <td>0.174243</td>\n",
       "      <td>0.260231</td>\n",
       "      <td>0.291481</td>\n",
       "    </tr>\n",
       "    <tr>\n",
       "      <td>has_concierge</td>\n",
       "      <td>-0.060398</td>\n",
       "      <td>-0.202524</td>\n",
       "      <td>0.105276</td>\n",
       "      <td>0.040962</td>\n",
       "      <td>-0.354300</td>\n",
       "      <td>0.146865</td>\n",
       "      <td>-0.270704</td>\n",
       "      <td>-0.323696</td>\n",
       "      <td>-0.346828</td>\n",
       "      <td>0.655252</td>\n",
       "      <td>...</td>\n",
       "      <td>0.268367</td>\n",
       "      <td>0.383031</td>\n",
       "      <td>0.413147</td>\n",
       "      <td>1.000000</td>\n",
       "      <td>0.342509</td>\n",
       "      <td>0.179550</td>\n",
       "      <td>0.475757</td>\n",
       "      <td>0.260079</td>\n",
       "      <td>0.210697</td>\n",
       "      <td>0.535699</td>\n",
       "    </tr>\n",
       "    <tr>\n",
       "      <td>has_pool</td>\n",
       "      <td>0.038340</td>\n",
       "      <td>-0.091116</td>\n",
       "      <td>0.089527</td>\n",
       "      <td>0.051020</td>\n",
       "      <td>-0.193333</td>\n",
       "      <td>0.104243</td>\n",
       "      <td>-0.100606</td>\n",
       "      <td>-0.182156</td>\n",
       "      <td>-0.193851</td>\n",
       "      <td>0.498138</td>\n",
       "      <td>...</td>\n",
       "      <td>0.106097</td>\n",
       "      <td>0.323507</td>\n",
       "      <td>0.193187</td>\n",
       "      <td>0.342509</td>\n",
       "      <td>1.000000</td>\n",
       "      <td>0.088873</td>\n",
       "      <td>0.367574</td>\n",
       "      <td>0.170412</td>\n",
       "      <td>0.065794</td>\n",
       "      <td>0.398257</td>\n",
       "    </tr>\n",
       "    <tr>\n",
       "      <td>has_garden</td>\n",
       "      <td>0.064100</td>\n",
       "      <td>0.048234</td>\n",
       "      <td>0.104741</td>\n",
       "      <td>0.137652</td>\n",
       "      <td>-0.006699</td>\n",
       "      <td>0.000178</td>\n",
       "      <td>-0.038981</td>\n",
       "      <td>-0.007928</td>\n",
       "      <td>-0.021434</td>\n",
       "      <td>0.084536</td>\n",
       "      <td>...</td>\n",
       "      <td>0.121955</td>\n",
       "      <td>0.148442</td>\n",
       "      <td>0.166055</td>\n",
       "      <td>0.179550</td>\n",
       "      <td>0.088873</td>\n",
       "      <td>1.000000</td>\n",
       "      <td>0.247550</td>\n",
       "      <td>0.138419</td>\n",
       "      <td>0.053346</td>\n",
       "      <td>0.062580</td>\n",
       "    </tr>\n",
       "    <tr>\n",
       "      <td>has_childrens_playroom</td>\n",
       "      <td>0.011357</td>\n",
       "      <td>-0.083456</td>\n",
       "      <td>0.111949</td>\n",
       "      <td>0.068867</td>\n",
       "      <td>-0.162588</td>\n",
       "      <td>0.066387</td>\n",
       "      <td>-0.140828</td>\n",
       "      <td>-0.144938</td>\n",
       "      <td>-0.169315</td>\n",
       "      <td>0.395460</td>\n",
       "      <td>...</td>\n",
       "      <td>0.191961</td>\n",
       "      <td>0.244646</td>\n",
       "      <td>0.297292</td>\n",
       "      <td>0.475757</td>\n",
       "      <td>0.367574</td>\n",
       "      <td>0.247550</td>\n",
       "      <td>1.000000</td>\n",
       "      <td>0.193130</td>\n",
       "      <td>0.087075</td>\n",
       "      <td>0.322977</td>\n",
       "    </tr>\n",
       "    <tr>\n",
       "      <td>rent</td>\n",
       "      <td>-0.035145</td>\n",
       "      <td>0.353337</td>\n",
       "      <td>0.611987</td>\n",
       "      <td>0.649984</td>\n",
       "      <td>-0.325241</td>\n",
       "      <td>0.109536</td>\n",
       "      <td>-0.262711</td>\n",
       "      <td>-0.332165</td>\n",
       "      <td>-0.339157</td>\n",
       "      <td>0.253517</td>\n",
       "      <td>...</td>\n",
       "      <td>0.343123</td>\n",
       "      <td>0.095437</td>\n",
       "      <td>0.174243</td>\n",
       "      <td>0.260079</td>\n",
       "      <td>0.170412</td>\n",
       "      <td>0.138419</td>\n",
       "      <td>0.193130</td>\n",
       "      <td>1.000000</td>\n",
       "      <td>-0.001163</td>\n",
       "      <td>0.267151</td>\n",
       "    </tr>\n",
       "    <tr>\n",
       "      <td>no_fee</td>\n",
       "      <td>0.052429</td>\n",
       "      <td>-0.004335</td>\n",
       "      <td>-0.003053</td>\n",
       "      <td>-0.074162</td>\n",
       "      <td>-0.066025</td>\n",
       "      <td>0.002401</td>\n",
       "      <td>-0.041091</td>\n",
       "      <td>-0.111486</td>\n",
       "      <td>-0.126716</td>\n",
       "      <td>0.185316</td>\n",
       "      <td>...</td>\n",
       "      <td>0.120897</td>\n",
       "      <td>0.180798</td>\n",
       "      <td>0.260231</td>\n",
       "      <td>0.210697</td>\n",
       "      <td>0.065794</td>\n",
       "      <td>0.053346</td>\n",
       "      <td>0.087075</td>\n",
       "      <td>-0.001163</td>\n",
       "      <td>1.000000</td>\n",
       "      <td>0.157909</td>\n",
       "    </tr>\n",
       "    <tr>\n",
       "      <td>floornumber</td>\n",
       "      <td>-0.003418</td>\n",
       "      <td>-0.158895</td>\n",
       "      <td>0.116938</td>\n",
       "      <td>0.054328</td>\n",
       "      <td>-0.376063</td>\n",
       "      <td>0.170598</td>\n",
       "      <td>-0.239193</td>\n",
       "      <td>-0.350957</td>\n",
       "      <td>-0.367065</td>\n",
       "      <td>0.769707</td>\n",
       "      <td>...</td>\n",
       "      <td>0.154859</td>\n",
       "      <td>0.311203</td>\n",
       "      <td>0.291481</td>\n",
       "      <td>0.535699</td>\n",
       "      <td>0.398257</td>\n",
       "      <td>0.062580</td>\n",
       "      <td>0.322977</td>\n",
       "      <td>0.267151</td>\n",
       "      <td>0.157909</td>\n",
       "      <td>1.000000</td>\n",
       "    </tr>\n",
       "  </tbody>\n",
       "</table>\n",
       "<p>29 rows × 29 columns</p>\n",
       "</div>"
      ],
      "text/plain": [
       "                        building_id  bedrooms  bathrooms  size_sqft  addr_zip  \\\n",
       "building_id                1.000000 -0.001813  -0.016501  -0.006433  0.064199   \n",
       "bedrooms                  -0.001813  1.000000   0.464287   0.525537  0.187639   \n",
       "bathrooms                 -0.016501  0.464287   1.000000   0.565788 -0.088524   \n",
       "size_sqft                 -0.006433  0.525537   0.565788   1.000000  0.000576   \n",
       "addr_zip                   0.064199  0.187639  -0.088524   0.000576  1.000000   \n",
       "addr_lat                  -0.008653 -0.114986   0.028441  -0.037717 -0.577385   \n",
       "addr_lon                   0.105315  0.093089  -0.062992  -0.035054  0.462277   \n",
       "bin                        0.117460  0.142331  -0.100642  -0.013148  0.950995   \n",
       "bbl                        0.090194  0.151078  -0.106358  -0.011608  0.952018   \n",
       "floor_count               -0.116488 -0.228858   0.091489   0.020547 -0.447352   \n",
       "year_built                 0.026593 -0.056614  -0.004480  -0.021524 -0.004916   \n",
       "min_to_subway             -0.006980  0.014171   0.017966   0.007718  0.023660   \n",
       "has_doorman               -0.042830 -0.233059   0.108987   0.047766 -0.410034   \n",
       "has_elevator               0.061696 -0.278231   0.095867   0.029836 -0.362939   \n",
       "has_fireplace             -0.031611  0.049998   0.124532   0.155044 -0.072233   \n",
       "has_dishwasher             0.023323  0.046002   0.161132   0.111761 -0.166108   \n",
       "is_furnished              -0.012521 -0.046021   0.050068   0.041965 -0.135857   \n",
       "has_gym                    0.004550 -0.206094   0.113062   0.022605 -0.287916   \n",
       "allows_pets                0.040899  0.023819   0.087348   0.032325 -0.115378   \n",
       "has_washer_dryer          -0.030651  0.117120   0.298722   0.263907 -0.113234   \n",
       "has_garage                 0.099141 -0.116837   0.051650   0.005959 -0.116047   \n",
       "has_roofdeck              -0.012773 -0.085111   0.102592   0.026781 -0.107670   \n",
       "has_concierge             -0.060398 -0.202524   0.105276   0.040962 -0.354300   \n",
       "has_pool                   0.038340 -0.091116   0.089527   0.051020 -0.193333   \n",
       "has_garden                 0.064100  0.048234   0.104741   0.137652 -0.006699   \n",
       "has_childrens_playroom     0.011357 -0.083456   0.111949   0.068867 -0.162588   \n",
       "rent                      -0.035145  0.353337   0.611987   0.649984 -0.325241   \n",
       "no_fee                     0.052429 -0.004335  -0.003053  -0.074162 -0.066025   \n",
       "floornumber               -0.003418 -0.158895   0.116938   0.054328 -0.376063   \n",
       "\n",
       "                        addr_lat  addr_lon       bin       bbl  floor_count  \\\n",
       "building_id            -0.008653  0.105315  0.117460  0.090194    -0.116488   \n",
       "bedrooms               -0.114986  0.093089  0.142331  0.151078    -0.228858   \n",
       "bathrooms               0.028441 -0.062992 -0.100642 -0.106358     0.091489   \n",
       "size_sqft              -0.037717 -0.035054 -0.013148 -0.011608     0.020547   \n",
       "addr_zip               -0.577385  0.462277  0.950995  0.952018    -0.447352   \n",
       "addr_lat                1.000000  0.219029 -0.429858 -0.424711     0.195647   \n",
       "addr_lon                0.219029  1.000000  0.554511  0.563806    -0.281790   \n",
       "bin                    -0.429858  0.554511  1.000000  0.994155    -0.426813   \n",
       "bbl                    -0.424711  0.563806  0.994155  1.000000    -0.442496   \n",
       "floor_count             0.195647 -0.281790 -0.426813 -0.442496     1.000000   \n",
       "year_built             -0.002415 -0.003623  0.010451  0.005694     0.151318   \n",
       "min_to_subway          -0.026215 -0.012528  0.021091  0.015880    -0.011722   \n",
       "has_doorman             0.191486 -0.259673 -0.380284 -0.403373     0.664202   \n",
       "has_elevator            0.167685 -0.182011 -0.326176 -0.351657     0.560443   \n",
       "has_fireplace           0.019505 -0.070451 -0.084767 -0.081656    -0.024808   \n",
       "has_dishwasher          0.078029 -0.138343 -0.173532 -0.185248     0.229530   \n",
       "is_furnished            0.054610 -0.085478 -0.131706 -0.132950     0.112042   \n",
       "has_gym                 0.115376 -0.224737 -0.263453 -0.292240     0.633673   \n",
       "allows_pets             0.015503 -0.153365 -0.144695 -0.160086     0.205669   \n",
       "has_washer_dryer        0.013967 -0.165555 -0.119801 -0.137143     0.177199   \n",
       "has_garage              0.057687 -0.055615 -0.089042 -0.109457     0.380581   \n",
       "has_roofdeck           -0.000782 -0.168426 -0.112548 -0.135245     0.361168   \n",
       "has_concierge           0.146865 -0.270704 -0.323696 -0.346828     0.655252   \n",
       "has_pool                0.104243 -0.100606 -0.182156 -0.193851     0.498138   \n",
       "has_garden              0.000178 -0.038981 -0.007928 -0.021434     0.084536   \n",
       "has_childrens_playroom  0.066387 -0.140828 -0.144938 -0.169315     0.395460   \n",
       "rent                    0.109536 -0.262711 -0.332165 -0.339157     0.253517   \n",
       "no_fee                  0.002401 -0.041091 -0.111486 -0.126716     0.185316   \n",
       "floornumber             0.170598 -0.239193 -0.350957 -0.367065     0.769707   \n",
       "\n",
       "                        ...  has_washer_dryer  has_garage  has_roofdeck  \\\n",
       "building_id             ...         -0.030651    0.099141     -0.012773   \n",
       "bedrooms                ...          0.117120   -0.116837     -0.085111   \n",
       "bathrooms               ...          0.298722    0.051650      0.102592   \n",
       "size_sqft               ...          0.263907    0.005959      0.026781   \n",
       "addr_zip                ...         -0.113234   -0.116047     -0.107670   \n",
       "addr_lat                ...          0.013967    0.057687     -0.000782   \n",
       "addr_lon                ...         -0.165555   -0.055615     -0.168426   \n",
       "bin                     ...         -0.119801   -0.089042     -0.112548   \n",
       "bbl                     ...         -0.137143   -0.109457     -0.135245   \n",
       "floor_count             ...          0.177199    0.380581      0.361168   \n",
       "year_built              ...          0.006949    0.084148      0.082307   \n",
       "min_to_subway           ...          0.035343    0.031686      0.006643   \n",
       "has_doorman             ...          0.248036    0.406196      0.421955   \n",
       "has_elevator            ...          0.203386    0.392328      0.409244   \n",
       "has_fireplace           ...          0.088507   -0.030127     -0.013023   \n",
       "has_dishwasher          ...          0.334376    0.212473      0.286309   \n",
       "is_furnished            ...          0.086711   -0.002425      0.058287   \n",
       "has_gym                 ...          0.292996    0.432486      0.535142   \n",
       "allows_pets             ...          0.177554    0.180943      0.270345   \n",
       "has_washer_dryer        ...          1.000000    0.088676      0.239291   \n",
       "has_garage              ...          0.088676    1.000000      0.295535   \n",
       "has_roofdeck            ...          0.239291    0.295535      1.000000   \n",
       "has_concierge           ...          0.268367    0.383031      0.413147   \n",
       "has_pool                ...          0.106097    0.323507      0.193187   \n",
       "has_garden              ...          0.121955    0.148442      0.166055   \n",
       "has_childrens_playroom  ...          0.191961    0.244646      0.297292   \n",
       "rent                    ...          0.343123    0.095437      0.174243   \n",
       "no_fee                  ...          0.120897    0.180798      0.260231   \n",
       "floornumber             ...          0.154859    0.311203      0.291481   \n",
       "\n",
       "                        has_concierge  has_pool  has_garden  \\\n",
       "building_id                 -0.060398  0.038340    0.064100   \n",
       "bedrooms                    -0.202524 -0.091116    0.048234   \n",
       "bathrooms                    0.105276  0.089527    0.104741   \n",
       "size_sqft                    0.040962  0.051020    0.137652   \n",
       "addr_zip                    -0.354300 -0.193333   -0.006699   \n",
       "addr_lat                     0.146865  0.104243    0.000178   \n",
       "addr_lon                    -0.270704 -0.100606   -0.038981   \n",
       "bin                         -0.323696 -0.182156   -0.007928   \n",
       "bbl                         -0.346828 -0.193851   -0.021434   \n",
       "floor_count                  0.655252  0.498138    0.084536   \n",
       "year_built                   0.085210  0.051083    0.006335   \n",
       "min_to_subway               -0.013324 -0.007238    0.009395   \n",
       "has_doorman                  0.668138  0.340186    0.142268   \n",
       "has_elevator                 0.526443  0.273776    0.099298   \n",
       "has_fireplace               -0.025240  0.000800    0.049034   \n",
       "has_dishwasher               0.258104  0.112804    0.089919   \n",
       "is_furnished                 0.076347  0.054185    0.034308   \n",
       "has_gym                      0.664979  0.394261    0.169583   \n",
       "allows_pets                  0.266168  0.093398    0.130835   \n",
       "has_washer_dryer             0.268367  0.106097    0.121955   \n",
       "has_garage                   0.383031  0.323507    0.148442   \n",
       "has_roofdeck                 0.413147  0.193187    0.166055   \n",
       "has_concierge                1.000000  0.342509    0.179550   \n",
       "has_pool                     0.342509  1.000000    0.088873   \n",
       "has_garden                   0.179550  0.088873    1.000000   \n",
       "has_childrens_playroom       0.475757  0.367574    0.247550   \n",
       "rent                         0.260079  0.170412    0.138419   \n",
       "no_fee                       0.210697  0.065794    0.053346   \n",
       "floornumber                  0.535699  0.398257    0.062580   \n",
       "\n",
       "                        has_childrens_playroom      rent    no_fee  \\\n",
       "building_id                           0.011357 -0.035145  0.052429   \n",
       "bedrooms                             -0.083456  0.353337 -0.004335   \n",
       "bathrooms                             0.111949  0.611987 -0.003053   \n",
       "size_sqft                             0.068867  0.649984 -0.074162   \n",
       "addr_zip                             -0.162588 -0.325241 -0.066025   \n",
       "addr_lat                              0.066387  0.109536  0.002401   \n",
       "addr_lon                             -0.140828 -0.262711 -0.041091   \n",
       "bin                                  -0.144938 -0.332165 -0.111486   \n",
       "bbl                                  -0.169315 -0.339157 -0.126716   \n",
       "floor_count                           0.395460  0.253517  0.185316   \n",
       "year_built                            0.051941 -0.001037  0.049746   \n",
       "min_to_subway                        -0.007989  0.000010 -0.005945   \n",
       "has_doorman                           0.345234  0.273486  0.252027   \n",
       "has_elevator                          0.304430  0.238692  0.228047   \n",
       "has_fireplace                        -0.010935  0.163483 -0.052129   \n",
       "has_dishwasher                        0.121131  0.187002  0.276597   \n",
       "is_furnished                          0.059076  0.133343 -0.028827   \n",
       "has_gym                               0.460646  0.248213  0.285377   \n",
       "allows_pets                           0.162443  0.149247  0.271594   \n",
       "has_washer_dryer                      0.191961  0.343123  0.120897   \n",
       "has_garage                            0.244646  0.095437  0.180798   \n",
       "has_roofdeck                          0.297292  0.174243  0.260231   \n",
       "has_concierge                         0.475757  0.260079  0.210697   \n",
       "has_pool                              0.367574  0.170412  0.065794   \n",
       "has_garden                            0.247550  0.138419  0.053346   \n",
       "has_childrens_playroom                1.000000  0.193130  0.087075   \n",
       "rent                                  0.193130  1.000000 -0.001163   \n",
       "no_fee                                0.087075 -0.001163  1.000000   \n",
       "floornumber                           0.322977  0.267151  0.157909   \n",
       "\n",
       "                        floornumber  \n",
       "building_id               -0.003418  \n",
       "bedrooms                  -0.158895  \n",
       "bathrooms                  0.116938  \n",
       "size_sqft                  0.054328  \n",
       "addr_zip                  -0.376063  \n",
       "addr_lat                   0.170598  \n",
       "addr_lon                  -0.239193  \n",
       "bin                       -0.350957  \n",
       "bbl                       -0.367065  \n",
       "floor_count                0.769707  \n",
       "year_built                 0.095295  \n",
       "min_to_subway             -0.012333  \n",
       "has_doorman                0.523314  \n",
       "has_elevator               0.453474  \n",
       "has_fireplace             -0.008051  \n",
       "has_dishwasher             0.172159  \n",
       "is_furnished               0.090309  \n",
       "has_gym                    0.518792  \n",
       "allows_pets                0.175281  \n",
       "has_washer_dryer           0.154859  \n",
       "has_garage                 0.311203  \n",
       "has_roofdeck               0.291481  \n",
       "has_concierge              0.535699  \n",
       "has_pool                   0.398257  \n",
       "has_garden                 0.062580  \n",
       "has_childrens_playroom     0.322977  \n",
       "rent                       0.267151  \n",
       "no_fee                     0.157909  \n",
       "floornumber                1.000000  \n",
       "\n",
       "[29 rows x 29 columns]"
      ]
     },
     "execution_count": 11,
     "metadata": {},
     "output_type": "execute_result"
    }
   ],
   "source": [
    "train_df.corr()"
   ]
  },
  {
   "cell_type": "code",
   "execution_count": 12,
   "metadata": {
    "colab": {
     "base_uri": "https://localhost:8080/",
     "height": 327
    },
    "colab_type": "code",
    "executionInfo": {
     "elapsed": 574,
     "status": "ok",
     "timestamp": 1574366484472,
     "user": {
      "displayName": "Jacinta Moore",
      "photoUrl": "",
      "userId": "14215851766389388616"
     },
     "user_tz": 300
    },
    "id": "OCUPl-BEr7L8",
    "outputId": "04a8f219-1087-4ed7-eb6e-4b53518dbbbd"
   },
   "outputs": [
    {
     "data": {
      "image/png": "[encoded data removed]",
      "text/plain": [
       "<Figure size 432x288 with 1 Axes>"
      ]
     },
     "metadata": {
      "needs_background": "light"
     },
     "output_type": "display_data"
    }
   ],
   "source": [
    "def heatmap(x, y, size):\n",
    "    fig, ax = plt.subplots()\n",
    "    \n",
    "    # Mapping from column names to integer coordinates\n",
    "    x_labels = [v for v in sorted(x.unique())]\n",
    "    y_labels = [v for v in sorted(y.unique())]\n",
    "    x_to_num = {p[1]:p[0] for p in enumerate(x_labels)} \n",
    "    y_to_num = {p[1]:p[0] for p in enumerate(y_labels)} \n",
    "    \n",
    "    size_scale = 500\n",
    "    ax.scatter(\n",
    "        x=x.map(x_to_num), # Use mapping for x\n",
    "        y=y.map(y_to_num), # Use mapping for y\n",
    "        s=size * size_scale, # Vector of square sizes, proportional to size parameter\n",
    "        marker='s' # Use square as scatterplot marker\n",
    "    )\n",
    "    \n",
    "    # Show column labels on the axes\n",
    "    ax.set_xticks([x_to_num[v] for v in x_labels])\n",
    "    ax.set_xticklabels(x_labels, rotation=45, horizontalalignment='right')\n",
    "    ax.set_yticks([y_to_num[v] for v in y_labels])\n",
    "    ax.set_yticklabels(y_labels)\n",
    "    \n",
    "\n",
    "columns = [\n",
    "    'bedrooms', 'year_built', 'bathrooms', 'min_to_subway', \n",
    "    'size_sqft', 'no_fee', 'has_doorman', 'rent', 'has_washer_dryer', 'has_concierge', 'floornumber'\n",
    "]\n",
    "corr = train_df[columns].corr()\n",
    "corr = pd.melt(corr.reset_index(), id_vars='index') # Unpivot the dataframe, so we can get pair of arrays for x and y\n",
    "corr.columns = ['x', 'y', 'value']\n",
    "heatmap(\n",
    "    x=corr['x'],\n",
    "    y=corr['y'],\n",
    "    size=corr['value'].abs()\n",
    ")"
   ]
  },
  {
   "cell_type": "code",
   "execution_count": 13,
   "metadata": {
    "colab": {
     "base_uri": "https://localhost:8080/",
     "height": 265
    },
    "colab_type": "code",
    "executionInfo": {
     "elapsed": 510,
     "status": "ok",
     "timestamp": 1574366489146,
     "user": {
      "displayName": "Jacinta Moore",
      "photoUrl": "",
      "userId": "14215851766389388616"
     },
     "user_tz": 300
    },
    "id": "Pe5SOF-Nr7kZ",
    "outputId": "6de9e0c4-9960-43ed-b971-76a02adfc018"
   },
   "outputs": [
    {
     "data": {
      "image/png": "[encoded data removed]",
      "text/plain": [
       "<Figure size 432x288 with 1 Axes>"
      ]
     },
     "metadata": {
      "needs_background": "light"
     },
     "output_type": "display_data"
    }
   ],
   "source": [
    "_ = plt.plot(train_df['rent'], train_df['size_sqft'], marker='.', linestyle='none')"
   ]
  },
  {
   "cell_type": "code",
   "execution_count": 14,
   "metadata": {
    "colab": {
     "base_uri": "https://localhost:8080/",
     "height": 265
    },
    "colab_type": "code",
    "executionInfo": {
     "elapsed": 449,
     "status": "ok",
     "timestamp": 1574366490675,
     "user": {
      "displayName": "Jacinta Moore",
      "photoUrl": "",
      "userId": "14215851766389388616"
     },
     "user_tz": 300
    },
    "id": "gqlfNGGctxXa",
    "outputId": "377d8464-79a3-4566-bb53-c68732f5f918"
   },
   "outputs": [
    {
     "data": {
      "image/png": "[encoded data removed]",
      "text/plain": [
       "<Figure size 432x288 with 1 Axes>"
      ]
     },
     "metadata": {
      "needs_background": "light"
     },
     "output_type": "display_data"
    }
   ],
   "source": [
    "_ = plt.plot(train_df['rent'], train_df['bathrooms'], marker='.', linestyle='none')"
   ]
  },
  {
   "cell_type": "code",
   "execution_count": 15,
   "metadata": {
    "colab": {
     "base_uri": "https://localhost:8080/",
     "height": 265
    },
    "colab_type": "code",
    "executionInfo": {
     "elapsed": 689,
     "status": "ok",
     "timestamp": 1574366494729,
     "user": {
      "displayName": "Jacinta Moore",
      "photoUrl": "",
      "userId": "14215851766389388616"
     },
     "user_tz": 300
    },
    "id": "8vhR-bRdzG0X",
    "outputId": "bbd62b7b-1d5d-4b41-9dea-fbe8c7453c80"
   },
   "outputs": [
    {
     "data": {
      "image/png": "[encoded data removed]",
      "text/plain": [
       "<Figure size 432x288 with 1 Axes>"
      ]
     },
     "metadata": {
      "needs_background": "light"
     },
     "output_type": "display_data"
    }
   ],
   "source": [
    "_ = plt.plot(train_df['rent'], train_df['bedrooms'], marker='.', linestyle='none')"
   ]
  },
  {
   "cell_type": "code",
   "execution_count": 16,
   "metadata": {
    "colab": {},
    "colab_type": "code",
    "id": "sB4zNUHzuY-G"
   },
   "outputs": [],
   "source": [
    "# extract usable features\n",
    "feature_cols = [\n",
    "    'bedrooms', 'year_built', 'bathrooms', 'min_to_subway', \n",
    "    'size_sqft', 'no_fee', 'has_doorman',  'has_washer_dryer', 'floornumber'\n",
    "]\n",
    "train_features = train_df[feature_cols] "
   ]
  },
  {
   "cell_type": "markdown",
   "metadata": {
    "colab_type": "text",
    "id": "LA2ArZzOlOek"
   },
   "source": [
    "Adding a new feature using existing data: Distance to Central Park. Idea: the closer to central park the more the rent. "
   ]
  },
  {
   "cell_type": "code",
   "execution_count": 17,
   "metadata": {
    "colab": {},
    "colab_type": "code",
    "id": "YzmUaQuYlNwy"
   },
   "outputs": [],
   "source": [
    "def deg2rad(deg):\n",
    "  return deg * (np.pi/180)\n",
    "\n",
    "def getDistanceFromLatLonInKm(lat1,lon1,lat2=40.78,lon2=-73.965):\n",
    "  R = 6371  # Radius of the earth in km\n",
    "  dLat = deg2rad(lat2-lat1) \n",
    "  dLon = deg2rad(lon2-lon1) \n",
    "  a = np.sin(dLat/2) * np.sin(dLat/2) + np.cos(deg2rad(lat1)) * np.cos(deg2rad(lat2)) * np.sin(dLon/2) * np.sin(dLon/2)\n",
    "  c = 2 * np.arctan2(np.sqrt(a), np.sqrt(1-a)) \n",
    "  d = R * c  # Distance in km\n",
    "  return d"
   ]
  },
  {
   "cell_type": "code",
   "execution_count": 18,
   "metadata": {
    "colab": {},
    "colab_type": "code",
    "id": "qF0InZIGl_Qr"
   },
   "outputs": [],
   "source": [
    "train_df2 = train_df\n",
    "test_df2 = test_df"
   ]
  },
  {
   "cell_type": "code",
   "execution_count": 19,
   "metadata": {
    "colab": {},
    "colab_type": "code",
    "id": "2WFLT4galaR8"
   },
   "outputs": [],
   "source": [
    "train_df2['dist_centralPark'] = getDistanceFromLatLonInKm(train_df['addr_lat'], train_df['addr_lon'])\n",
    "test_df2['dist_centralPark'] = getDistanceFromLatLonInKm(test_df['addr_lat'], test_df['addr_lon'])"
   ]
  },
  {
   "cell_type": "code",
   "execution_count": 20,
   "metadata": {
    "colab": {
     "base_uri": "https://localhost:8080/",
     "height": 386
    },
    "colab_type": "code",
    "executionInfo": {
     "elapsed": 332,
     "status": "ok",
     "timestamp": 1574367183230,
     "user": {
      "displayName": "Jacinta Moore",
      "photoUrl": "",
      "userId": "14215851766389388616"
     },
     "user_tz": 300
    },
    "id": "BflWgnb7lar9",
    "outputId": "4a0d0f53-6663-4223-c28d-8ed0ae3f03e9"
   },
   "outputs": [
    {
     "data": {
      "text/plain": [
       "rental_id\n",
       "7236931    14.796742\n",
       "7331920     7.806511\n",
       "7139224     2.743952\n",
       "7364827     3.660724\n",
       "7242151    11.126183\n",
       "7171210     2.331770\n",
       "7286986     7.900183\n",
       "7418503     2.803593\n",
       "7304773     3.370226\n",
       "7180240     2.530775\n",
       "7199509     6.520788\n",
       "7374106     7.727537\n",
       "7211146     5.455471\n",
       "7205032     9.249498\n",
       "7303381     6.165054\n",
       "7257553    10.045174\n",
       "7371094     9.455008\n",
       "7386616    19.309963\n",
       "7161667     1.416285\n",
       "7256881     1.781116\n",
       "Name: dist_centralPark, dtype: float64"
      ]
     },
     "execution_count": 20,
     "metadata": {},
     "output_type": "execute_result"
    }
   ],
   "source": [
    "train_df['dist_centralPark'].head(20)"
   ]
  },
  {
   "cell_type": "code",
   "execution_count": 21,
   "metadata": {
    "colab": {
     "base_uri": "https://localhost:8080/",
     "height": 282
    },
    "colab_type": "code",
    "executionInfo": {
     "elapsed": 504,
     "status": "ok",
     "timestamp": 1574367327753,
     "user": {
      "displayName": "Jacinta Moore",
      "photoUrl": "",
      "userId": "14215851766389388616"
     },
     "user_tz": 300
    },
    "id": "ChbpI5i1qwgY",
    "outputId": "09513449-0d45-4a17-dd3b-81fef4d8f126"
   },
   "outputs": [
    {
     "data": {
      "text/plain": [
       "(0, 10000)"
      ]
     },
     "execution_count": 21,
     "metadata": {},
     "output_type": "execute_result"
    },
    {
     "data": {
      "image/png": "[encoded data removed]",
      "text/plain": [
       "<Figure size 432x288 with 1 Axes>"
      ]
     },
     "metadata": {
      "needs_background": "light"
     },
     "output_type": "display_data"
    }
   ],
   "source": [
    "_ = plt.plot(train_df['rent'], train_df['dist_centralPark'], marker='.', linestyle='none')\n",
    "plt.xlim(0, 10000)\n",
    "# not really a correlation"
   ]
  },
  {
   "cell_type": "code",
   "execution_count": 22,
   "metadata": {
    "colab": {},
    "colab_type": "code",
    "id": "lHDDen61ltp7"
   },
   "outputs": [],
   "source": [
    "# extract usable features\n",
    "feature_cols2 = [\n",
    "    'bedrooms', 'year_built', 'bathrooms', 'min_to_subway', \n",
    "    'size_sqft', 'no_fee', 'has_doorman',  'has_washer_dryer', 'floornumber', 'dist_centralPark'\n",
    "]\n",
    "train_features2 = train_df2[feature_cols2] "
   ]
  },
  {
   "cell_type": "markdown",
   "metadata": {
    "colab_type": "text",
    "id": "HgGR6M-aojEZ"
   },
   "source": [
    "## Data Preprocessing\n",
    "\n",
    "This section we look at missing data and outliers and deal with these\n",
    "\n"
   ]
  },
  {
   "cell_type": "markdown",
   "metadata": {
    "colab_type": "text",
    "id": "m2jx_CgDtHyB"
   },
   "source": [
    "#### 1. Missing Data\n",
    "'min_to_subway', 'year_built' , 'floornumber' have NaNs. Solutions: drop or impute. This round we will impute as the feature 'floornumber' has 10% (1200) values missing and dropping this would reduce the data to only 10,000 points. "
   ]
  },
  {
   "cell_type": "code",
   "execution_count": 23,
   "metadata": {
    "colab": {
     "base_uri": "https://localhost:8080/",
     "height": 34
    },
    "colab_type": "code",
    "executionInfo": {
     "elapsed": 325,
     "status": "ok",
     "timestamp": 1574366505378,
     "user": {
      "displayName": "Jacinta Moore",
      "photoUrl": "",
      "userId": "14215851766389388616"
     },
     "user_tz": 300
    },
    "id": "2R36HvWvudbC",
    "outputId": "04bb2886-0935-4873-845f-3e679659b5c5"
   },
   "outputs": [
    {
     "data": {
      "text/plain": [
       "0"
      ]
     },
     "execution_count": 23,
     "metadata": {},
     "output_type": "execute_result"
    }
   ],
   "source": [
    "train_df['bedrooms'].isna().sum()\n"
   ]
  },
  {
   "cell_type": "code",
   "execution_count": 16,
   "metadata": {
    "colab": {
     "base_uri": "https://localhost:8080/",
     "height": 34
    },
    "colab_type": "code",
    "executionInfo": {
     "elapsed": 338,
     "status": "ok",
     "timestamp": 1574366507347,
     "user": {
      "displayName": "Jacinta Moore",
      "photoUrl": "",
      "userId": "14215851766389388616"
     },
     "user_tz": 300
    },
    "id": "3hHU0IGOv8Na",
    "outputId": "e1ac3994-5e1a-4a82-b09e-ba42be3b1418"
   },
   "outputs": [
    {
     "data": {
      "text/plain": [
       "403"
      ]
     },
     "execution_count": 16,
     "metadata": {
      "tags": []
     },
     "output_type": "execute_result"
    }
   ],
   "source": [
    "train_df['year_built'].isna().sum()"
   ]
  },
  {
   "cell_type": "code",
   "execution_count": 17,
   "metadata": {
    "colab": {
     "base_uri": "https://localhost:8080/",
     "height": 34
    },
    "colab_type": "code",
    "executionInfo": {
     "elapsed": 363,
     "status": "ok",
     "timestamp": 1574366508204,
     "user": {
      "displayName": "Jacinta Moore",
      "photoUrl": "",
      "userId": "14215851766389388616"
     },
     "user_tz": 300
    },
    "id": "sxjWSZD7v8gO",
    "outputId": "84aff1c6-c20b-4af7-e154-8e09de3fa07e"
   },
   "outputs": [
    {
     "data": {
      "text/plain": [
       "0"
      ]
     },
     "execution_count": 17,
     "metadata": {
      "tags": []
     },
     "output_type": "execute_result"
    }
   ],
   "source": [
    "train_df['bathrooms'].isna().sum()"
   ]
  },
  {
   "cell_type": "code",
   "execution_count": 18,
   "metadata": {
    "colab": {
     "base_uri": "https://localhost:8080/",
     "height": 34
    },
    "colab_type": "code",
    "executionInfo": {
     "elapsed": 372,
     "status": "ok",
     "timestamp": 1574366509349,
     "user": {
      "displayName": "Jacinta Moore",
      "photoUrl": "",
      "userId": "14215851766389388616"
     },
     "user_tz": 300
    },
    "id": "-4GEN3upv8wT",
    "outputId": "f538343c-f2af-4586-ebb8-c62fff1acc8e"
   },
   "outputs": [
    {
     "data": {
      "text/plain": [
       "126"
      ]
     },
     "execution_count": 18,
     "metadata": {
      "tags": []
     },
     "output_type": "execute_result"
    }
   ],
   "source": [
    "train_df['min_to_subway'].isna().sum()"
   ]
  },
  {
   "cell_type": "code",
   "execution_count": 19,
   "metadata": {
    "colab": {
     "base_uri": "https://localhost:8080/",
     "height": 34
    },
    "colab_type": "code",
    "executionInfo": {
     "elapsed": 406,
     "status": "ok",
     "timestamp": 1574366510713,
     "user": {
      "displayName": "Jacinta Moore",
      "photoUrl": "",
      "userId": "14215851766389388616"
     },
     "user_tz": 300
    },
    "id": "9JHTWqHYv8_z",
    "outputId": "15ffe7e8-6f31-483b-f26c-cdf69395b063"
   },
   "outputs": [
    {
     "data": {
      "text/plain": [
       "0"
      ]
     },
     "execution_count": 19,
     "metadata": {
      "tags": []
     },
     "output_type": "execute_result"
    }
   ],
   "source": [
    "train_df['size_sqft'].isna().sum()"
   ]
  },
  {
   "cell_type": "code",
   "execution_count": 0,
   "metadata": {
    "colab": {
     "base_uri": "https://localhost:8080/",
     "height": 34
    },
    "colab_type": "code",
    "executionInfo": {
     "elapsed": 670,
     "status": "ok",
     "timestamp": 1574269182871,
     "user": {
      "displayName": "Jacinta Moore",
      "photoUrl": "",
      "userId": "14215851766389388616"
     },
     "user_tz": 300
    },
    "id": "wiaSyv9qv9QI",
    "outputId": "450ef1ef-08b6-45ad-ef3a-cd3f8ee31a8e"
   },
   "outputs": [
    {
     "data": {
      "text/plain": [
       "0"
      ]
     },
     "execution_count": 31,
     "metadata": {
      "tags": []
     },
     "output_type": "execute_result"
    }
   ],
   "source": [
    "train_df['no_fee'].isna().sum()"
   ]
  },
  {
   "cell_type": "code",
   "execution_count": 0,
   "metadata": {
    "colab": {
     "base_uri": "https://localhost:8080/",
     "height": 34
    },
    "colab_type": "code",
    "executionInfo": {
     "elapsed": 549,
     "status": "ok",
     "timestamp": 1574269184735,
     "user": {
      "displayName": "Jacinta Moore",
      "photoUrl": "",
      "userId": "14215851766389388616"
     },
     "user_tz": 300
    },
    "id": "dTp4ZaChwILQ",
    "outputId": "625c4d7b-7dab-4da8-9f29-af38c2c43782"
   },
   "outputs": [
    {
     "data": {
      "text/plain": [
       "0"
      ]
     },
     "execution_count": 32,
     "metadata": {
      "tags": []
     },
     "output_type": "execute_result"
    }
   ],
   "source": [
    "train_df['has_doorman'].isna().sum()"
   ]
  },
  {
   "cell_type": "code",
   "execution_count": 0,
   "metadata": {
    "colab": {
     "base_uri": "https://localhost:8080/",
     "height": 34
    },
    "colab_type": "code",
    "executionInfo": {
     "elapsed": 594,
     "status": "ok",
     "timestamp": 1574269186482,
     "user": {
      "displayName": "Jacinta Moore",
      "photoUrl": "",
      "userId": "14215851766389388616"
     },
     "user_tz": 300
    },
    "id": "6eBdNYVgwIfG",
    "outputId": "bf031996-01fc-4808-ce31-d3055237cd20"
   },
   "outputs": [
    {
     "data": {
      "text/plain": [
       "0"
      ]
     },
     "execution_count": 33,
     "metadata": {
      "tags": []
     },
     "output_type": "execute_result"
    }
   ],
   "source": [
    "train_df['has_washer_dryer'].isna().sum()"
   ]
  },
  {
   "cell_type": "code",
   "execution_count": 0,
   "metadata": {
    "colab": {
     "base_uri": "https://localhost:8080/",
     "height": 34
    },
    "colab_type": "code",
    "executionInfo": {
     "elapsed": 401,
     "status": "ok",
     "timestamp": 1574269427727,
     "user": {
      "displayName": "Jacinta Moore",
      "photoUrl": "",
      "userId": "14215851766389388616"
     },
     "user_tz": 300
    },
    "id": "IjUpxThGwLGD",
    "outputId": "ee98f9bd-2027-4059-a1eb-5aa70fbf4775"
   },
   "outputs": [
    {
     "data": {
      "text/plain": [
       "1277"
      ]
     },
     "execution_count": 37,
     "metadata": {
      "tags": []
     },
     "output_type": "execute_result"
    }
   ],
   "source": [
    "train_df['floornumber'].isna().sum()"
   ]
  },
  {
   "cell_type": "code",
   "execution_count": 24,
   "metadata": {
    "colab": {
     "base_uri": "https://localhost:8080/",
     "height": 168
    },
    "colab_type": "code",
    "executionInfo": {
     "elapsed": 333,
     "status": "ok",
     "timestamp": 1574368435760,
     "user": {
      "displayName": "Jacinta Moore",
      "photoUrl": "",
      "userId": "14215851766389388616"
     },
     "user_tz": 300
    },
    "id": "19X_Je-ixdib",
    "outputId": "b93a7c93-8f89-4e95-c28a-dd8a0bd39dcc"
   },
   "outputs": [
    {
     "data": {
      "text/plain": [
       "count    10723.000000\n",
       "mean         6.182738\n",
       "std          7.671545\n",
       "min          0.000000\n",
       "25%          2.000000\n",
       "50%          3.000000\n",
       "75%          6.000000\n",
       "max         78.000000\n",
       "Name: floornumber, dtype: float64"
      ]
     },
     "execution_count": 24,
     "metadata": {},
     "output_type": "execute_result"
    }
   ],
   "source": [
    "train_df['floornumber'].describe()\n"
   ]
  },
  {
   "cell_type": "code",
   "execution_count": 25,
   "metadata": {
    "colab": {
     "base_uri": "https://localhost:8080/",
     "height": 168
    },
    "colab_type": "code",
    "executionInfo": {
     "elapsed": 434,
     "status": "ok",
     "timestamp": 1574368441620,
     "user": {
      "displayName": "Jacinta Moore",
      "photoUrl": "",
      "userId": "14215851766389388616"
     },
     "user_tz": 300
    },
    "id": "Y703Ub8Pq1xY",
    "outputId": "643c5a16-836e-4929-a0fd-7d93f9f5b8bf"
   },
   "outputs": [
    {
     "data": {
      "text/plain": [
       "count    1775.000000\n",
       "mean        6.291831\n",
       "std         8.066341\n",
       "min         1.000000\n",
       "25%         2.000000\n",
       "50%         3.000000\n",
       "75%         6.000000\n",
       "max        71.000000\n",
       "Name: floornumber, dtype: float64"
      ]
     },
     "execution_count": 25,
     "metadata": {},
     "output_type": "execute_result"
    }
   ],
   "source": [
    "\n",
    "test_df['floornumber'].describe()"
   ]
  },
  {
   "cell_type": "code",
   "execution_count": 26,
   "metadata": {
    "colab": {
     "base_uri": "https://localhost:8080/",
     "height": 168
    },
    "colab_type": "code",
    "executionInfo": {
     "elapsed": 407,
     "status": "ok",
     "timestamp": 1574269613053,
     "user": {
      "displayName": "Jacinta Moore",
      "photoUrl": "",
      "userId": "14215851766389388616"
     },
     "user_tz": 300
    },
    "id": "m0Lsg3gAx798",
    "outputId": "f7602dfa-1d09-44fe-b552-d43d1478b133"
   },
   "outputs": [
    {
     "data": {
      "text/plain": [
       "count     11874.000000\n",
       "mean         73.588716\n",
       "std        2681.611157\n",
       "min           0.016700\n",
       "25%           1.616700\n",
       "50%           2.750000\n",
       "75%           4.366700\n",
       "max      103343.616700\n",
       "Name: min_to_subway, dtype: float64"
      ]
     },
     "execution_count": 26,
     "metadata": {},
     "output_type": "execute_result"
    }
   ],
   "source": [
    "train_df['min_to_subway'].describe()"
   ]
  },
  {
   "cell_type": "code",
   "execution_count": 27,
   "metadata": {
    "colab": {
     "base_uri": "https://localhost:8080/",
     "height": 168
    },
    "colab_type": "code",
    "executionInfo": {
     "elapsed": 337,
     "status": "ok",
     "timestamp": 1574368484388,
     "user": {
      "displayName": "Jacinta Moore",
      "photoUrl": "",
      "userId": "14215851766389388616"
     },
     "user_tz": 300
    },
    "id": "K1qvrG43q1ag",
    "outputId": "8a45bd9a-7bf8-4893-b4b8-6d3b629bedc8"
   },
   "outputs": [
    {
     "data": {
      "text/plain": [
       "count    1983.000000\n",
       "mean        3.768095\n",
       "std         4.110479\n",
       "min         0.016700\n",
       "25%         1.666700\n",
       "50%         2.816700\n",
       "75%         4.458350\n",
       "max        57.583300\n",
       "Name: min_to_subway, dtype: float64"
      ]
     },
     "execution_count": 27,
     "metadata": {},
     "output_type": "execute_result"
    }
   ],
   "source": [
    "test_df['min_to_subway'].describe()"
   ]
  },
  {
   "cell_type": "code",
   "execution_count": 28,
   "metadata": {
    "colab": {
     "base_uri": "https://localhost:8080/",
     "height": 168
    },
    "colab_type": "code",
    "executionInfo": {
     "elapsed": 456,
     "status": "ok",
     "timestamp": 1574269623121,
     "user": {
      "displayName": "Jacinta Moore",
      "photoUrl": "",
      "userId": "14215851766389388616"
     },
     "user_tz": 300
    },
    "id": "ZYg37N89x8aQ",
    "outputId": "90f3dd7b-8e18-4c49-a3d7-c6895590ae5a"
   },
   "outputs": [
    {
     "data": {
      "text/plain": [
       "count    11597.000000\n",
       "mean      1935.982668\n",
       "std        158.157134\n",
       "min          0.000000\n",
       "25%       1915.000000\n",
       "50%       1931.000000\n",
       "75%       1987.000000\n",
       "max       2019.000000\n",
       "Name: year_built, dtype: float64"
      ]
     },
     "execution_count": 28,
     "metadata": {},
     "output_type": "execute_result"
    }
   ],
   "source": [
    "train_df['year_built'].describe()"
   ]
  },
  {
   "cell_type": "code",
   "execution_count": 29,
   "metadata": {
    "colab": {
     "base_uri": "https://localhost:8080/",
     "height": 168
    },
    "colab_type": "code",
    "executionInfo": {
     "elapsed": 450,
     "status": "ok",
     "timestamp": 1574368518853,
     "user": {
      "displayName": "Jacinta Moore",
      "photoUrl": "",
      "userId": "14215851766389388616"
     },
     "user_tz": 300
    },
    "id": "UNPKj6bNrNXr",
    "outputId": "cbe9955e-fffc-479b-95a5-ddb71d643cb8"
   },
   "outputs": [
    {
     "data": {
      "text/plain": [
       "count    1933.000000\n",
       "mean     1934.515261\n",
       "std       164.135048\n",
       "min         0.000000\n",
       "25%      1915.000000\n",
       "50%      1931.000000\n",
       "75%      1987.000000\n",
       "max      2019.000000\n",
       "Name: year_built, dtype: float64"
      ]
     },
     "execution_count": 29,
     "metadata": {},
     "output_type": "execute_result"
    }
   ],
   "source": [
    "test_df['year_built'].describe()"
   ]
  },
  {
   "cell_type": "markdown",
   "metadata": {
    "colab_type": "text",
    "id": "gQw2F3DKyQTz"
   },
   "source": [
    "The features all have large outliers that result in a much higher mean than median so we will use median for the impute value for the missing values. "
   ]
  },
  {
   "cell_type": "code",
   "execution_count": 30,
   "metadata": {
    "colab": {},
    "colab_type": "code",
    "id": "smFM_TWEuXz9"
   },
   "outputs": [],
   "source": [
    "# impute missing values with medians\n",
    "train_features = train_features.fillna(train_features.median(), axis=0)\n",
    "\n",
    "# construct target vector\n",
    "train_target = train_df['rent']"
   ]
  },
  {
   "cell_type": "code",
   "execution_count": 31,
   "metadata": {
    "colab": {},
    "colab_type": "code",
    "id": "Vre3NyZhnnQJ"
   },
   "outputs": [],
   "source": [
    "# impute missing values with medians\n",
    "train_features2 = train_features2.fillna(train_features2.median(), axis=0)\n",
    "\n",
    "# construct target vector\n",
    "train_target2 = train_df2['rent']"
   ]
  },
  {
   "cell_type": "markdown",
   "metadata": {
    "colab_type": "text",
    "id": "_mMjb8rGsjXG"
   },
   "source": [
    "#### 2. Outlier Data\n",
    "From the above analysis it can be seen that the size_sqft and bathrooms have the value 0 for some data points. It is not possible for a rental space to have no size and it unusal for no bathroom in a rental. "
   ]
  },
  {
   "cell_type": "code",
   "execution_count": 32,
   "metadata": {
    "colab": {
     "base_uri": "https://localhost:8080/",
     "height": 34
    },
    "colab_type": "code",
    "executionInfo": {
     "elapsed": 439,
     "status": "ok",
     "timestamp": 1574366519612,
     "user": {
      "displayName": "Jacinta Moore",
      "photoUrl": "",
      "userId": "14215851766389388616"
     },
     "user_tz": 300
    },
    "id": "816TIZKRsjJH",
    "outputId": "b5243056-6099-47a3-b312-675bcc2a2f60"
   },
   "outputs": [
    {
     "data": {
      "text/plain": [
       "841"
      ]
     },
     "execution_count": 32,
     "metadata": {},
     "output_type": "execute_result"
    }
   ],
   "source": [
    "(train_features['size_sqft']==0).sum()\n",
    "## 841 values have outlier value of 0 for size_sqft"
   ]
  },
  {
   "cell_type": "code",
   "execution_count": 33,
   "metadata": {
    "colab": {
     "base_uri": "https://localhost:8080/",
     "height": 34
    },
    "colab_type": "code",
    "executionInfo": {
     "elapsed": 378,
     "status": "ok",
     "timestamp": 1574368580605,
     "user": {
      "displayName": "Jacinta Moore",
      "photoUrl": "",
      "userId": "14215851766389388616"
     },
     "user_tz": 300
    },
    "id": "ukccAkmlrewp",
    "outputId": "76b48a1e-17ca-4d2e-a74f-cb8e7f990d82"
   },
   "outputs": [
    {
     "ename": "NameError",
     "evalue": "name 'test_features' is not defined",
     "output_type": "error",
     "traceback": [
      "\u001b[1;31m---------------------------------------------------------------------------\u001b[0m",
      "\u001b[1;31mNameError\u001b[0m                                 Traceback (most recent call last)",
      "\u001b[1;32m<ipython-input-33-e135f7e4bcba>\u001b[0m in \u001b[0;36m<module>\u001b[1;34m\u001b[0m\n\u001b[1;32m----> 1\u001b[1;33m \u001b[1;33m(\u001b[0m\u001b[0mtest_features\u001b[0m\u001b[1;33m[\u001b[0m\u001b[1;34m'size_sqft'\u001b[0m\u001b[1;33m]\u001b[0m\u001b[1;33m==\u001b[0m\u001b[1;36m0\u001b[0m\u001b[1;33m)\u001b[0m\u001b[1;33m.\u001b[0m\u001b[0msum\u001b[0m\u001b[1;33m(\u001b[0m\u001b[1;33m)\u001b[0m\u001b[1;33m\u001b[0m\u001b[0m\n\u001b[0m",
      "\u001b[1;31mNameError\u001b[0m: name 'test_features' is not defined"
     ]
    }
   ],
   "source": [
    "(test_features['size_sqft']==0).sum()"
   ]
  },
  {
   "cell_type": "code",
   "execution_count": 63,
   "metadata": {
    "colab": {
     "base_uri": "https://localhost:8080/",
     "height": 34
    },
    "colab_type": "code",
    "executionInfo": {
     "elapsed": 439,
     "status": "ok",
     "timestamp": 1574368829552,
     "user": {
      "displayName": "Jacinta Moore",
      "photoUrl": "",
      "userId": "14215851766389388616"
     },
     "user_tz": 300
    },
    "id": "MJIItKF-saFI",
    "outputId": "df063c1e-5586-4e11-fa24-4404c1a21e30"
   },
   "outputs": [
    {
     "data": {
      "text/plain": [
       "177"
      ]
     },
     "execution_count": 63,
     "metadata": {
      "tags": []
     },
     "output_type": "execute_result"
    }
   ],
   "source": [
    "(test2_df['size_sqft']==0).sum()"
   ]
  },
  {
   "cell_type": "code",
   "execution_count": 22,
   "metadata": {
    "colab": {
     "base_uri": "https://localhost:8080/",
     "height": 34
    },
    "colab_type": "code",
    "executionInfo": {
     "elapsed": 430,
     "status": "ok",
     "timestamp": 1574366521561,
     "user": {
      "displayName": "Jacinta Moore",
      "photoUrl": "",
      "userId": "14215851766389388616"
     },
     "user_tz": 300
    },
    "id": "BOOKcH1Yh1oN",
    "outputId": "3fe56fdc-09e7-4eac-9550-ad157d0ef53d"
   },
   "outputs": [
    {
     "data": {
      "text/plain": [
       "4"
      ]
     },
     "execution_count": 22,
     "metadata": {
      "tags": []
     },
     "output_type": "execute_result"
    }
   ],
   "source": [
    "(train_features['bathrooms']==0).sum()\n",
    "## 4 values have outlier value of 0 for bathrooms...No bathrooms??"
   ]
  },
  {
   "cell_type": "code",
   "execution_count": 57,
   "metadata": {
    "colab": {
     "base_uri": "https://localhost:8080/",
     "height": 34
    },
    "colab_type": "code",
    "executionInfo": {
     "elapsed": 369,
     "status": "ok",
     "timestamp": 1574368604854,
     "user": {
      "displayName": "Jacinta Moore",
      "photoUrl": "",
      "userId": "14215851766389388616"
     },
     "user_tz": 300
    },
    "id": "EWZxxglqrkC0",
    "outputId": "49ddcf20-d2d1-4961-ec99-c2c5281d8e7d"
   },
   "outputs": [
    {
     "data": {
      "text/plain": [
       "3"
      ]
     },
     "execution_count": 57,
     "metadata": {
      "tags": []
     },
     "output_type": "execute_result"
    }
   ],
   "source": [
    "(test_features['bathrooms']==0).sum()"
   ]
  },
  {
   "cell_type": "code",
   "execution_count": 0,
   "metadata": {
    "colab": {
     "base_uri": "https://localhost:8080/",
     "height": 34
    },
    "colab_type": "code",
    "executionInfo": {
     "elapsed": 424,
     "status": "ok",
     "timestamp": 1574270011276,
     "user": {
      "displayName": "Jacinta Moore",
      "photoUrl": "",
      "userId": "14215851766389388616"
     },
     "user_tz": 300
    },
    "id": "7jcdosFlyvaH",
    "outputId": "fc5efc46-6834-420d-d447-910e42ac3552"
   },
   "outputs": [
    {
     "data": {
      "text/plain": [
       "1556"
      ]
     },
     "execution_count": 54,
     "metadata": {
      "tags": []
     },
     "output_type": "execute_result"
    }
   ],
   "source": [
    "(train_features['bedrooms']==0).sum()\n",
    "## 1556 values have outlier value of 0 for bedrooms...No bedrooms??Commercial rental?"
   ]
  },
  {
   "cell_type": "code",
   "execution_count": 0,
   "metadata": {
    "colab": {},
    "colab_type": "code",
    "id": "5r0n9ZApqLvP"
   },
   "outputs": [],
   "source": [
    "no_bedrooms = train_df[train_df['bedrooms']==0]"
   ]
  },
  {
   "cell_type": "code",
   "execution_count": 70,
   "metadata": {
    "colab": {
     "base_uri": "https://localhost:8080/",
     "height": 813
    },
    "colab_type": "code",
    "executionInfo": {
     "elapsed": 385,
     "status": "ok",
     "timestamp": 1574369033771,
     "user": {
      "displayName": "Jacinta Moore",
      "photoUrl": "",
      "userId": "14215851766389388616"
     },
     "user_tz": 300
    },
    "id": "RSmOrsZPtMg7",
    "outputId": "06b110bd-64bd-4da0-b1d7-082d64ccc9fb"
   },
   "outputs": [
    {
     "data": {
      "text/html": [
       "<div>\n",
       "<style scoped>\n",
       "    .dataframe tbody tr th:only-of-type {\n",
       "        vertical-align: middle;\n",
       "    }\n",
       "\n",
       "    .dataframe tbody tr th {\n",
       "        vertical-align: top;\n",
       "    }\n",
       "\n",
       "    .dataframe thead th {\n",
       "        text-align: right;\n",
       "    }\n",
       "</style>\n",
       "<table border=\"1\" class=\"dataframe\">\n",
       "  <thead>\n",
       "    <tr style=\"text-align: right;\">\n",
       "      <th></th>\n",
       "      <th>addr_unit</th>\n",
       "      <th>building_id</th>\n",
       "      <th>bedrooms</th>\n",
       "      <th>bathrooms</th>\n",
       "      <th>size_sqft</th>\n",
       "      <th>created_at</th>\n",
       "      <th>addr_street</th>\n",
       "      <th>addr_city</th>\n",
       "      <th>addr_zip</th>\n",
       "      <th>addr_lat</th>\n",
       "      <th>addr_lon</th>\n",
       "      <th>bin</th>\n",
       "      <th>bbl</th>\n",
       "      <th>floor_count</th>\n",
       "      <th>year_built</th>\n",
       "      <th>min_to_subway</th>\n",
       "      <th>has_doorman</th>\n",
       "      <th>has_elevator</th>\n",
       "      <th>has_fireplace</th>\n",
       "      <th>has_dishwasher</th>\n",
       "      <th>is_furnished</th>\n",
       "      <th>has_gym</th>\n",
       "      <th>allows_pets</th>\n",
       "      <th>has_washer_dryer</th>\n",
       "      <th>has_garage</th>\n",
       "      <th>has_roofdeck</th>\n",
       "      <th>has_concierge</th>\n",
       "      <th>has_pool</th>\n",
       "      <th>has_garden</th>\n",
       "      <th>has_childrens_playroom</th>\n",
       "      <th>rent</th>\n",
       "      <th>no_fee</th>\n",
       "      <th>description</th>\n",
       "      <th>neighborhood</th>\n",
       "      <th>borough</th>\n",
       "      <th>unit</th>\n",
       "      <th>floornumber</th>\n",
       "      <th>line</th>\n",
       "      <th>dist_centralPark</th>\n",
       "    </tr>\n",
       "    <tr>\n",
       "      <th>rental_id</th>\n",
       "      <th></th>\n",
       "      <th></th>\n",
       "      <th></th>\n",
       "      <th></th>\n",
       "      <th></th>\n",
       "      <th></th>\n",
       "      <th></th>\n",
       "      <th></th>\n",
       "      <th></th>\n",
       "      <th></th>\n",
       "      <th></th>\n",
       "      <th></th>\n",
       "      <th></th>\n",
       "      <th></th>\n",
       "      <th></th>\n",
       "      <th></th>\n",
       "      <th></th>\n",
       "      <th></th>\n",
       "      <th></th>\n",
       "      <th></th>\n",
       "      <th></th>\n",
       "      <th></th>\n",
       "      <th></th>\n",
       "      <th></th>\n",
       "      <th></th>\n",
       "      <th></th>\n",
       "      <th></th>\n",
       "      <th></th>\n",
       "      <th></th>\n",
       "      <th></th>\n",
       "      <th></th>\n",
       "      <th></th>\n",
       "      <th></th>\n",
       "      <th></th>\n",
       "      <th></th>\n",
       "      <th></th>\n",
       "      <th></th>\n",
       "      <th></th>\n",
       "      <th></th>\n",
       "    </tr>\n",
       "  </thead>\n",
       "  <tbody>\n",
       "    <tr>\n",
       "      <th>7331920</th>\n",
       "      <td>#406</td>\n",
       "      <td>3373</td>\n",
       "      <td>0</td>\n",
       "      <td>1.0</td>\n",
       "      <td>475.0</td>\n",
       "      <td>2018-07-03 20:11:43</td>\n",
       "      <td>93 WORTH STREET</td>\n",
       "      <td>New York</td>\n",
       "      <td>10013</td>\n",
       "      <td>40.716599</td>\n",
       "      <td>-74.004799</td>\n",
       "      <td>1001883.0</td>\n",
       "      <td>1001737504</td>\n",
       "      <td>17.0</td>\n",
       "      <td>2014.0</td>\n",
       "      <td>3.2333</td>\n",
       "      <td>1</td>\n",
       "      <td>1</td>\n",
       "      <td>0</td>\n",
       "      <td>1</td>\n",
       "      <td>0</td>\n",
       "      <td>1</td>\n",
       "      <td>1</td>\n",
       "      <td>1</td>\n",
       "      <td>0</td>\n",
       "      <td>1</td>\n",
       "      <td>1</td>\n",
       "      <td>0</td>\n",
       "      <td>0</td>\n",
       "      <td>0</td>\n",
       "      <td>3350</td>\n",
       "      <td>0</td>\n",
       "      <td>Want to live in the hottest neighborhood in to...</td>\n",
       "      <td>Tribeca</td>\n",
       "      <td>Manhattan</td>\n",
       "      <td>406</td>\n",
       "      <td>4.0</td>\n",
       "      <td>06</td>\n",
       "      <td>7.806511</td>\n",
       "    </tr>\n",
       "    <tr>\n",
       "      <th>7418503</th>\n",
       "      <td>#6G</td>\n",
       "      <td>18341149</td>\n",
       "      <td>0</td>\n",
       "      <td>1.0</td>\n",
       "      <td>500.0</td>\n",
       "      <td>2018-07-28 10:25:29</td>\n",
       "      <td>11-05 30 ROAD</td>\n",
       "      <td>Astoria</td>\n",
       "      <td>11102</td>\n",
       "      <td>40.771198</td>\n",
       "      <td>-73.933800</td>\n",
       "      <td>4000000.0</td>\n",
       "      <td>4005060029</td>\n",
       "      <td>0.0</td>\n",
       "      <td>NaN</td>\n",
       "      <td>11.9500</td>\n",
       "      <td>1</td>\n",
       "      <td>1</td>\n",
       "      <td>0</td>\n",
       "      <td>1</td>\n",
       "      <td>0</td>\n",
       "      <td>1</td>\n",
       "      <td>0</td>\n",
       "      <td>0</td>\n",
       "      <td>0</td>\n",
       "      <td>1</td>\n",
       "      <td>1</td>\n",
       "      <td>0</td>\n",
       "      <td>0</td>\n",
       "      <td>0</td>\n",
       "      <td>2075</td>\n",
       "      <td>0</td>\n",
       "      <td>Priceless view of NYC, 2 separate rooftops, 24...</td>\n",
       "      <td>Astoria</td>\n",
       "      <td>Queens</td>\n",
       "      <td>6G</td>\n",
       "      <td>6.0</td>\n",
       "      <td>G</td>\n",
       "      <td>2.803593</td>\n",
       "    </tr>\n",
       "    <tr>\n",
       "      <th>7180240</th>\n",
       "      <td>#23B</td>\n",
       "      <td>69853</td>\n",
       "      <td>0</td>\n",
       "      <td>1.0</td>\n",
       "      <td>400.0</td>\n",
       "      <td>2018-05-15 17:04:06</td>\n",
       "      <td>250 EAST 54 STREET</td>\n",
       "      <td>New York</td>\n",
       "      <td>10022</td>\n",
       "      <td>40.757301</td>\n",
       "      <td>-73.967201</td>\n",
       "      <td>1038562.0</td>\n",
       "      <td>1013277502</td>\n",
       "      <td>43.0</td>\n",
       "      <td>1990.0</td>\n",
       "      <td>1.2167</td>\n",
       "      <td>1</td>\n",
       "      <td>1</td>\n",
       "      <td>0</td>\n",
       "      <td>1</td>\n",
       "      <td>0</td>\n",
       "      <td>1</td>\n",
       "      <td>1</td>\n",
       "      <td>0</td>\n",
       "      <td>0</td>\n",
       "      <td>1</td>\n",
       "      <td>1</td>\n",
       "      <td>0</td>\n",
       "      <td>0</td>\n",
       "      <td>0</td>\n",
       "      <td>2800</td>\n",
       "      <td>1</td>\n",
       "      <td>Make yourself at home at The Mondrian, Midtown...</td>\n",
       "      <td>Midtown East</td>\n",
       "      <td>Manhattan</td>\n",
       "      <td>23B</td>\n",
       "      <td>23.0</td>\n",
       "      <td>B</td>\n",
       "      <td>2.530775</td>\n",
       "    </tr>\n",
       "    <tr>\n",
       "      <th>7161667</th>\n",
       "      <td>#3C</td>\n",
       "      <td>78679</td>\n",
       "      <td>0</td>\n",
       "      <td>1.0</td>\n",
       "      <td>440.0</td>\n",
       "      <td>2018-05-09 13:51:48</td>\n",
       "      <td>1388 2 AVENUE</td>\n",
       "      <td>New York</td>\n",
       "      <td>10021</td>\n",
       "      <td>40.768289</td>\n",
       "      <td>-73.958386</td>\n",
       "      <td>1044857.0</td>\n",
       "      <td>1014460004</td>\n",
       "      <td>4.0</td>\n",
       "      <td>1915.0</td>\n",
       "      <td>6.0167</td>\n",
       "      <td>0</td>\n",
       "      <td>0</td>\n",
       "      <td>0</td>\n",
       "      <td>0</td>\n",
       "      <td>0</td>\n",
       "      <td>0</td>\n",
       "      <td>0</td>\n",
       "      <td>0</td>\n",
       "      <td>0</td>\n",
       "      <td>0</td>\n",
       "      <td>0</td>\n",
       "      <td>0</td>\n",
       "      <td>0</td>\n",
       "      <td>0</td>\n",
       "      <td>1685</td>\n",
       "      <td>0</td>\n",
       "      <td>Large pre -war studio w High CEILINGS\\r\\nRENT ...</td>\n",
       "      <td>Upper East Side</td>\n",
       "      <td>Manhattan</td>\n",
       "      <td>3C</td>\n",
       "      <td>3.0</td>\n",
       "      <td>C</td>\n",
       "      <td>1.416285</td>\n",
       "    </tr>\n",
       "    <tr>\n",
       "      <th>7179904</th>\n",
       "      <td>#28Q</td>\n",
       "      <td>52861</td>\n",
       "      <td>0</td>\n",
       "      <td>1.0</td>\n",
       "      <td>608.0</td>\n",
       "      <td>2018-05-15 16:05:48</td>\n",
       "      <td>322 WEST 57TH STREET</td>\n",
       "      <td>New York</td>\n",
       "      <td>10019</td>\n",
       "      <td>40.766800</td>\n",
       "      <td>-73.984200</td>\n",
       "      <td>1025450.0</td>\n",
       "      <td>1010477503</td>\n",
       "      <td>50.0</td>\n",
       "      <td>1978.0</td>\n",
       "      <td>1.6667</td>\n",
       "      <td>1</td>\n",
       "      <td>1</td>\n",
       "      <td>0</td>\n",
       "      <td>0</td>\n",
       "      <td>0</td>\n",
       "      <td>1</td>\n",
       "      <td>1</td>\n",
       "      <td>0</td>\n",
       "      <td>1</td>\n",
       "      <td>1</td>\n",
       "      <td>1</td>\n",
       "      <td>1</td>\n",
       "      <td>0</td>\n",
       "      <td>1</td>\n",
       "      <td>3138</td>\n",
       "      <td>1</td>\n",
       "      <td>The rent is $3,400/month. However, Landlord gi...</td>\n",
       "      <td>Midtown West</td>\n",
       "      <td>Manhattan</td>\n",
       "      <td>28Q</td>\n",
       "      <td>28.0</td>\n",
       "      <td>Q</td>\n",
       "      <td>2.183633</td>\n",
       "    </tr>\n",
       "    <tr>\n",
       "      <th>7279090</th>\n",
       "      <td>#30C</td>\n",
       "      <td>1474</td>\n",
       "      <td>0</td>\n",
       "      <td>1.0</td>\n",
       "      <td>500.0</td>\n",
       "      <td>2018-06-15 19:18:14</td>\n",
       "      <td>113 NASSAU STREET</td>\n",
       "      <td>New York</td>\n",
       "      <td>10038</td>\n",
       "      <td>40.710876</td>\n",
       "      <td>-74.007369</td>\n",
       "      <td>1089790.0</td>\n",
       "      <td>1000900017</td>\n",
       "      <td>30.0</td>\n",
       "      <td>2012.0</td>\n",
       "      <td>0.8667</td>\n",
       "      <td>0</td>\n",
       "      <td>1</td>\n",
       "      <td>0</td>\n",
       "      <td>1</td>\n",
       "      <td>0</td>\n",
       "      <td>1</td>\n",
       "      <td>0</td>\n",
       "      <td>0</td>\n",
       "      <td>0</td>\n",
       "      <td>1</td>\n",
       "      <td>1</td>\n",
       "      <td>0</td>\n",
       "      <td>0</td>\n",
       "      <td>0</td>\n",
       "      <td>3350</td>\n",
       "      <td>1</td>\n",
       "      <td>**Net effective rent listed - one month free o...</td>\n",
       "      <td>Financial District</td>\n",
       "      <td>Manhattan</td>\n",
       "      <td>30C</td>\n",
       "      <td>30.0</td>\n",
       "      <td>C</td>\n",
       "      <td>8.474531</td>\n",
       "    </tr>\n",
       "    <tr>\n",
       "      <th>7383331</th>\n",
       "      <td>#3C</td>\n",
       "      <td>31768</td>\n",
       "      <td>0</td>\n",
       "      <td>1.0</td>\n",
       "      <td>400.0</td>\n",
       "      <td>2018-07-19 14:06:44</td>\n",
       "      <td>88 HORATIO STREET</td>\n",
       "      <td>New York</td>\n",
       "      <td>10014</td>\n",
       "      <td>40.738499</td>\n",
       "      <td>-74.007599</td>\n",
       "      <td>1012134.0</td>\n",
       "      <td>1006420045</td>\n",
       "      <td>5.0</td>\n",
       "      <td>1920.0</td>\n",
       "      <td>3.1333</td>\n",
       "      <td>0</td>\n",
       "      <td>0</td>\n",
       "      <td>0</td>\n",
       "      <td>0</td>\n",
       "      <td>0</td>\n",
       "      <td>0</td>\n",
       "      <td>1</td>\n",
       "      <td>0</td>\n",
       "      <td>0</td>\n",
       "      <td>0</td>\n",
       "      <td>0</td>\n",
       "      <td>0</td>\n",
       "      <td>0</td>\n",
       "      <td>0</td>\n",
       "      <td>2200</td>\n",
       "      <td>0</td>\n",
       "      <td>This lovely light-filled coop studio is locate...</td>\n",
       "      <td>West Village</td>\n",
       "      <td>Manhattan</td>\n",
       "      <td>3C</td>\n",
       "      <td>3.0</td>\n",
       "      <td>C</td>\n",
       "      <td>5.845420</td>\n",
       "    </tr>\n",
       "    <tr>\n",
       "      <th>7423579</th>\n",
       "      <td>#2R</td>\n",
       "      <td>107200</td>\n",
       "      <td>0</td>\n",
       "      <td>1.0</td>\n",
       "      <td>350.0</td>\n",
       "      <td>2018-07-30 19:15:47</td>\n",
       "      <td>616 WEST 113 STREET</td>\n",
       "      <td>New York</td>\n",
       "      <td>10025</td>\n",
       "      <td>40.806323</td>\n",
       "      <td>-73.966457</td>\n",
       "      <td>1057341.0</td>\n",
       "      <td>1018950030</td>\n",
       "      <td>5.0</td>\n",
       "      <td>1900.0</td>\n",
       "      <td>2.2833</td>\n",
       "      <td>0</td>\n",
       "      <td>0</td>\n",
       "      <td>1</td>\n",
       "      <td>0</td>\n",
       "      <td>0</td>\n",
       "      <td>0</td>\n",
       "      <td>0</td>\n",
       "      <td>0</td>\n",
       "      <td>0</td>\n",
       "      <td>0</td>\n",
       "      <td>0</td>\n",
       "      <td>0</td>\n",
       "      <td>1</td>\n",
       "      <td>0</td>\n",
       "      <td>2200</td>\n",
       "      <td>0</td>\n",
       "      <td>Very Large Lofted Studio Apartment near Columb...</td>\n",
       "      <td>Morningside Heights</td>\n",
       "      <td>Manhattan</td>\n",
       "      <td>2R</td>\n",
       "      <td>2.0</td>\n",
       "      <td>R</td>\n",
       "      <td>2.929543</td>\n",
       "    </tr>\n",
       "    <tr>\n",
       "      <th>7416625</th>\n",
       "      <td>#1A</td>\n",
       "      <td>212458</td>\n",
       "      <td>0</td>\n",
       "      <td>1.0</td>\n",
       "      <td>600.0</td>\n",
       "      <td>2018-07-27 15:48:10</td>\n",
       "      <td>374 8 STREET</td>\n",
       "      <td>Brooklyn</td>\n",
       "      <td>11215</td>\n",
       "      <td>40.667969</td>\n",
       "      <td>-73.982575</td>\n",
       "      <td>3022154.0</td>\n",
       "      <td>3010060020</td>\n",
       "      <td>4.0</td>\n",
       "      <td>1905.0</td>\n",
       "      <td>1.4667</td>\n",
       "      <td>0</td>\n",
       "      <td>0</td>\n",
       "      <td>0</td>\n",
       "      <td>1</td>\n",
       "      <td>0</td>\n",
       "      <td>0</td>\n",
       "      <td>1</td>\n",
       "      <td>0</td>\n",
       "      <td>0</td>\n",
       "      <td>0</td>\n",
       "      <td>0</td>\n",
       "      <td>0</td>\n",
       "      <td>0</td>\n",
       "      <td>0</td>\n",
       "      <td>2050</td>\n",
       "      <td>1</td>\n",
       "      <td>amazing studio apartment, prime location, step...</td>\n",
       "      <td>Park Slope</td>\n",
       "      <td>Brooklyn</td>\n",
       "      <td>1A</td>\n",
       "      <td>1.0</td>\n",
       "      <td>A</td>\n",
       "      <td>12.545008</td>\n",
       "    </tr>\n",
       "    <tr>\n",
       "      <th>7241947</th>\n",
       "      <td>#8G</td>\n",
       "      <td>3862027</td>\n",
       "      <td>0</td>\n",
       "      <td>1.0</td>\n",
       "      <td>525.0</td>\n",
       "      <td>2018-06-05 16:08:44</td>\n",
       "      <td>465 WEST 23 STREET</td>\n",
       "      <td>New York</td>\n",
       "      <td>10011</td>\n",
       "      <td>40.747898</td>\n",
       "      <td>-74.003601</td>\n",
       "      <td>1067979.0</td>\n",
       "      <td>1007217501</td>\n",
       "      <td>19.0</td>\n",
       "      <td>1932.0</td>\n",
       "      <td>4.1500</td>\n",
       "      <td>1</td>\n",
       "      <td>1</td>\n",
       "      <td>0</td>\n",
       "      <td>0</td>\n",
       "      <td>0</td>\n",
       "      <td>1</td>\n",
       "      <td>1</td>\n",
       "      <td>0</td>\n",
       "      <td>1</td>\n",
       "      <td>1</td>\n",
       "      <td>0</td>\n",
       "      <td>1</td>\n",
       "      <td>0</td>\n",
       "      <td>0</td>\n",
       "      <td>3300</td>\n",
       "      <td>0</td>\n",
       "      <td>(APPLICATION RECEIVED) Welcome to 465 West 23r...</td>\n",
       "      <td>Chelsea</td>\n",
       "      <td>Manhattan</td>\n",
       "      <td>8G</td>\n",
       "      <td>8.0</td>\n",
       "      <td>G</td>\n",
       "      <td>4.828108</td>\n",
       "    </tr>\n",
       "  </tbody>\n",
       "</table>\n",
       "</div>"
      ],
      "text/plain": [
       "          addr_unit  building_id  bedrooms  ...  floornumber  line dist_centralPark\n",
       "rental_id                                   ...                                    \n",
       "7331920        #406         3373         0  ...          4.0    06         7.806511\n",
       "7418503         #6G     18341149         0  ...          6.0     G         2.803593\n",
       "7180240        #23B        69853         0  ...         23.0     B         2.530775\n",
       "7161667         #3C        78679         0  ...          3.0     C         1.416285\n",
       "7179904        #28Q        52861         0  ...         28.0     Q         2.183633\n",
       "7279090        #30C         1474         0  ...         30.0     C         8.474531\n",
       "7383331         #3C        31768         0  ...          3.0     C         5.845420\n",
       "7423579         #2R       107200         0  ...          2.0     R         2.929543\n",
       "7416625         #1A       212458         0  ...          1.0     A        12.545008\n",
       "7241947         #8G      3862027         0  ...          8.0     G         4.828108\n",
       "\n",
       "[10 rows x 39 columns]"
      ]
     },
     "execution_count": 70,
     "metadata": {
      "tags": []
     },
     "output_type": "execute_result"
    }
   ],
   "source": [
    "no_bedrooms.head(10)"
   ]
  },
  {
   "cell_type": "code",
   "execution_count": 65,
   "metadata": {
    "colab": {
     "base_uri": "https://localhost:8080/",
     "height": 34
    },
    "colab_type": "code",
    "executionInfo": {
     "elapsed": 407,
     "status": "ok",
     "timestamp": 1574368861604,
     "user": {
      "displayName": "Jacinta Moore",
      "photoUrl": "",
      "userId": "14215851766389388616"
     },
     "user_tz": 300
    },
    "id": "nlVemw79rpvO",
    "outputId": "8656ac0f-7d0d-4414-e99f-69a43cabec13"
   },
   "outputs": [
    {
     "data": {
      "text/plain": [
       "264"
      ]
     },
     "execution_count": 65,
     "metadata": {
      "tags": []
     },
     "output_type": "execute_result"
    }
   ],
   "source": [
    "(test_features['bedrooms']==0).sum()"
   ]
  },
  {
   "cell_type": "code",
   "execution_count": 66,
   "metadata": {
    "colab": {
     "base_uri": "https://localhost:8080/",
     "height": 34
    },
    "colab_type": "code",
    "executionInfo": {
     "elapsed": 395,
     "status": "ok",
     "timestamp": 1574368887408,
     "user": {
      "displayName": "Jacinta Moore",
      "photoUrl": "",
      "userId": "14215851766389388616"
     },
     "user_tz": 300
    },
    "id": "mV-eUQDGspWk",
    "outputId": "d5ffdd2a-334e-4a5d-dce1-f2dd6c844abd"
   },
   "outputs": [
    {
     "data": {
      "text/plain": [
       "253"
      ]
     },
     "execution_count": 66,
     "metadata": {
      "tags": []
     },
     "output_type": "execute_result"
    }
   ],
   "source": [
    "(test2_df['bedrooms']==0).sum()"
   ]
  },
  {
   "cell_type": "markdown",
   "metadata": {
    "colab_type": "text",
    "id": "2RqfEddy32cf"
   },
   "source": [
    "##### Large data points"
   ]
  },
  {
   "cell_type": "code",
   "execution_count": 0,
   "metadata": {
    "colab": {},
    "colab_type": "code",
    "id": "ZpVZasEf0ubq"
   },
   "outputs": [],
   "source": [
    "o_df = train_df.loc[train_df.size_sqft>=8000]"
   ]
  },
  {
   "cell_type": "code",
   "execution_count": 0,
   "metadata": {
    "colab": {
     "base_uri": "https://localhost:8080/",
     "height": 387
    },
    "colab_type": "code",
    "executionInfo": {
     "elapsed": 525,
     "status": "ok",
     "timestamp": 1574270638865,
     "user": {
      "displayName": "Jacinta Moore",
      "photoUrl": "",
      "userId": "14215851766389388616"
     },
     "user_tz": 300
    },
    "id": "7bVrJjpC1qYI",
    "outputId": "0b028906-5d11-4766-e3c2-81d53d2d7094"
   },
   "outputs": [
    {
     "data": {
      "text/html": [
       "<div>\n",
       "<style scoped>\n",
       "    .dataframe tbody tr th:only-of-type {\n",
       "        vertical-align: middle;\n",
       "    }\n",
       "\n",
       "    .dataframe tbody tr th {\n",
       "        vertical-align: top;\n",
       "    }\n",
       "\n",
       "    .dataframe thead th {\n",
       "        text-align: right;\n",
       "    }\n",
       "</style>\n",
       "<table border=\"1\" class=\"dataframe\">\n",
       "  <thead>\n",
       "    <tr style=\"text-align: right;\">\n",
       "      <th></th>\n",
       "      <th>addr_unit</th>\n",
       "      <th>building_id</th>\n",
       "      <th>bedrooms</th>\n",
       "      <th>bathrooms</th>\n",
       "      <th>size_sqft</th>\n",
       "      <th>created_at</th>\n",
       "      <th>addr_street</th>\n",
       "      <th>addr_city</th>\n",
       "      <th>addr_zip</th>\n",
       "      <th>addr_lat</th>\n",
       "      <th>addr_lon</th>\n",
       "      <th>bin</th>\n",
       "      <th>bbl</th>\n",
       "      <th>floor_count</th>\n",
       "      <th>year_built</th>\n",
       "      <th>min_to_subway</th>\n",
       "      <th>has_doorman</th>\n",
       "      <th>has_elevator</th>\n",
       "      <th>has_fireplace</th>\n",
       "      <th>has_dishwasher</th>\n",
       "      <th>is_furnished</th>\n",
       "      <th>has_gym</th>\n",
       "      <th>allows_pets</th>\n",
       "      <th>has_washer_dryer</th>\n",
       "      <th>has_garage</th>\n",
       "      <th>has_roofdeck</th>\n",
       "      <th>has_concierge</th>\n",
       "      <th>has_pool</th>\n",
       "      <th>has_garden</th>\n",
       "      <th>has_childrens_playroom</th>\n",
       "      <th>rent</th>\n",
       "      <th>no_fee</th>\n",
       "      <th>description</th>\n",
       "      <th>neighborhood</th>\n",
       "      <th>borough</th>\n",
       "      <th>unit</th>\n",
       "      <th>floornumber</th>\n",
       "      <th>line</th>\n",
       "    </tr>\n",
       "    <tr>\n",
       "      <th>rental_id</th>\n",
       "      <th></th>\n",
       "      <th></th>\n",
       "      <th></th>\n",
       "      <th></th>\n",
       "      <th></th>\n",
       "      <th></th>\n",
       "      <th></th>\n",
       "      <th></th>\n",
       "      <th></th>\n",
       "      <th></th>\n",
       "      <th></th>\n",
       "      <th></th>\n",
       "      <th></th>\n",
       "      <th></th>\n",
       "      <th></th>\n",
       "      <th></th>\n",
       "      <th></th>\n",
       "      <th></th>\n",
       "      <th></th>\n",
       "      <th></th>\n",
       "      <th></th>\n",
       "      <th></th>\n",
       "      <th></th>\n",
       "      <th></th>\n",
       "      <th></th>\n",
       "      <th></th>\n",
       "      <th></th>\n",
       "      <th></th>\n",
       "      <th></th>\n",
       "      <th></th>\n",
       "      <th></th>\n",
       "      <th></th>\n",
       "      <th></th>\n",
       "      <th></th>\n",
       "      <th></th>\n",
       "      <th></th>\n",
       "      <th></th>\n",
       "      <th></th>\n",
       "    </tr>\n",
       "  </thead>\n",
       "  <tbody>\n",
       "    <tr>\n",
       "      <th>7410124</th>\n",
       "      <td>#47</td>\n",
       "      <td>18246988</td>\n",
       "      <td>2</td>\n",
       "      <td>1.0</td>\n",
       "      <td>8500.0</td>\n",
       "      <td>2018-07-25 20:14:29</td>\n",
       "      <td>180 72 STREET</td>\n",
       "      <td>Brooklyn</td>\n",
       "      <td>11209</td>\n",
       "      <td>40.633999</td>\n",
       "      <td>-74.030701</td>\n",
       "      <td>3337149.0</td>\n",
       "      <td>3059060018</td>\n",
       "      <td>0.0</td>\n",
       "      <td>NaN</td>\n",
       "      <td>6.2000</td>\n",
       "      <td>0</td>\n",
       "      <td>1</td>\n",
       "      <td>0</td>\n",
       "      <td>1</td>\n",
       "      <td>0</td>\n",
       "      <td>0</td>\n",
       "      <td>1</td>\n",
       "      <td>0</td>\n",
       "      <td>0</td>\n",
       "      <td>0</td>\n",
       "      <td>0</td>\n",
       "      <td>0</td>\n",
       "      <td>1</td>\n",
       "      <td>0</td>\n",
       "      <td>2400</td>\n",
       "      <td>0</td>\n",
       "      <td>HOT!! HUGE 2 BEDROOM IN A BEAUTIFUL PREWAR  BU...</td>\n",
       "      <td>Bay Ridge</td>\n",
       "      <td>Brooklyn</td>\n",
       "      <td>47</td>\n",
       "      <td>47.0</td>\n",
       "      <td>NaN</td>\n",
       "    </tr>\n",
       "    <tr>\n",
       "      <th>7352536</th>\n",
       "      <td>#2</td>\n",
       "      <td>683038</td>\n",
       "      <td>2</td>\n",
       "      <td>1.0</td>\n",
       "      <td>10000.0</td>\n",
       "      <td>2018-07-10 18:03:07</td>\n",
       "      <td>1120 76 STREET</td>\n",
       "      <td>Brooklyn</td>\n",
       "      <td>11228</td>\n",
       "      <td>40.621860</td>\n",
       "      <td>-74.012089</td>\n",
       "      <td>3160481.0</td>\n",
       "      <td>3062310013</td>\n",
       "      <td>3.0</td>\n",
       "      <td>1955.0</td>\n",
       "      <td>11.9833</td>\n",
       "      <td>0</td>\n",
       "      <td>0</td>\n",
       "      <td>0</td>\n",
       "      <td>0</td>\n",
       "      <td>0</td>\n",
       "      <td>0</td>\n",
       "      <td>0</td>\n",
       "      <td>0</td>\n",
       "      <td>0</td>\n",
       "      <td>0</td>\n",
       "      <td>0</td>\n",
       "      <td>0</td>\n",
       "      <td>1</td>\n",
       "      <td>0</td>\n",
       "      <td>2300</td>\n",
       "      <td>0</td>\n",
       "      <td>Beautiful two bedroom apartment in private hou...</td>\n",
       "      <td>Dyker Heights</td>\n",
       "      <td>Brooklyn</td>\n",
       "      <td>2</td>\n",
       "      <td>2.0</td>\n",
       "      <td>NaN</td>\n",
       "    </tr>\n",
       "    <tr>\n",
       "      <th>7148494</th>\n",
       "      <td>#3</td>\n",
       "      <td>1493896</td>\n",
       "      <td>5</td>\n",
       "      <td>1.0</td>\n",
       "      <td>9999.0</td>\n",
       "      <td>2018-05-04 17:04:02</td>\n",
       "      <td>801 WOODWARD AVENUE</td>\n",
       "      <td>Ridgewood</td>\n",
       "      <td>11385</td>\n",
       "      <td>40.703639</td>\n",
       "      <td>-73.903097</td>\n",
       "      <td>4083359.0</td>\n",
       "      <td>4034820062</td>\n",
       "      <td>3.0</td>\n",
       "      <td>1901.0</td>\n",
       "      <td>1.4000</td>\n",
       "      <td>0</td>\n",
       "      <td>0</td>\n",
       "      <td>0</td>\n",
       "      <td>0</td>\n",
       "      <td>0</td>\n",
       "      <td>0</td>\n",
       "      <td>1</td>\n",
       "      <td>0</td>\n",
       "      <td>0</td>\n",
       "      <td>0</td>\n",
       "      <td>0</td>\n",
       "      <td>0</td>\n",
       "      <td>0</td>\n",
       "      <td>0</td>\n",
       "      <td>4000</td>\n",
       "      <td>1</td>\n",
       "      <td>NO FEE! Expansive, true 5BR/1.5BA full-floor a...</td>\n",
       "      <td>Ridgewood</td>\n",
       "      <td>Queens</td>\n",
       "      <td>3</td>\n",
       "      <td>3.0</td>\n",
       "      <td>NaN</td>\n",
       "    </tr>\n",
       "  </tbody>\n",
       "</table>\n",
       "</div>"
      ],
      "text/plain": [
       "          addr_unit  building_id  bedrooms  ...  unit  floornumber line\n",
       "rental_id                                   ...                        \n",
       "7410124         #47     18246988         2  ...    47         47.0  NaN\n",
       "7352536          #2       683038         2  ...     2          2.0  NaN\n",
       "7148494          #3      1493896         5  ...     3          3.0  NaN\n",
       "\n",
       "[3 rows x 38 columns]"
      ]
     },
     "execution_count": 67,
     "metadata": {
      "tags": []
     },
     "output_type": "execute_result"
    }
   ],
   "source": [
    "o_df"
   ]
  },
  {
   "cell_type": "code",
   "execution_count": 0,
   "metadata": {
    "colab": {
     "base_uri": "https://localhost:8080/",
     "height": 547
    },
    "colab_type": "code",
    "executionInfo": {
     "elapsed": 400,
     "status": "ok",
     "timestamp": 1574271099355,
     "user": {
      "displayName": "Jacinta Moore",
      "photoUrl": "",
      "userId": "14215851766389388616"
     },
     "user_tz": 300
    },
    "id": "WTVs29D52N2_",
    "outputId": "5ca30304-0837-4658-b65b-13fac4edaf88"
   },
   "outputs": [
    {
     "data": {
      "text/html": [
       "<div>\n",
       "<style scoped>\n",
       "    .dataframe tbody tr th:only-of-type {\n",
       "        vertical-align: middle;\n",
       "    }\n",
       "\n",
       "    .dataframe tbody tr th {\n",
       "        vertical-align: top;\n",
       "    }\n",
       "\n",
       "    .dataframe thead th {\n",
       "        text-align: right;\n",
       "    }\n",
       "</style>\n",
       "<table border=\"1\" class=\"dataframe\">\n",
       "  <thead>\n",
       "    <tr style=\"text-align: right;\">\n",
       "      <th></th>\n",
       "      <th>addr_unit</th>\n",
       "      <th>building_id</th>\n",
       "      <th>bedrooms</th>\n",
       "      <th>bathrooms</th>\n",
       "      <th>size_sqft</th>\n",
       "      <th>created_at</th>\n",
       "      <th>addr_street</th>\n",
       "      <th>addr_city</th>\n",
       "      <th>addr_zip</th>\n",
       "      <th>addr_lat</th>\n",
       "      <th>addr_lon</th>\n",
       "      <th>bin</th>\n",
       "      <th>bbl</th>\n",
       "      <th>floor_count</th>\n",
       "      <th>year_built</th>\n",
       "      <th>min_to_subway</th>\n",
       "      <th>has_doorman</th>\n",
       "      <th>has_elevator</th>\n",
       "      <th>has_fireplace</th>\n",
       "      <th>has_dishwasher</th>\n",
       "      <th>is_furnished</th>\n",
       "      <th>has_gym</th>\n",
       "      <th>allows_pets</th>\n",
       "      <th>has_washer_dryer</th>\n",
       "      <th>has_garage</th>\n",
       "      <th>has_roofdeck</th>\n",
       "      <th>has_concierge</th>\n",
       "      <th>has_pool</th>\n",
       "      <th>has_garden</th>\n",
       "      <th>has_childrens_playroom</th>\n",
       "      <th>rent</th>\n",
       "      <th>no_fee</th>\n",
       "      <th>description</th>\n",
       "      <th>neighborhood</th>\n",
       "      <th>borough</th>\n",
       "      <th>unit</th>\n",
       "      <th>floornumber</th>\n",
       "      <th>line</th>\n",
       "    </tr>\n",
       "    <tr>\n",
       "      <th>rental_id</th>\n",
       "      <th></th>\n",
       "      <th></th>\n",
       "      <th></th>\n",
       "      <th></th>\n",
       "      <th></th>\n",
       "      <th></th>\n",
       "      <th></th>\n",
       "      <th></th>\n",
       "      <th></th>\n",
       "      <th></th>\n",
       "      <th></th>\n",
       "      <th></th>\n",
       "      <th></th>\n",
       "      <th></th>\n",
       "      <th></th>\n",
       "      <th></th>\n",
       "      <th></th>\n",
       "      <th></th>\n",
       "      <th></th>\n",
       "      <th></th>\n",
       "      <th></th>\n",
       "      <th></th>\n",
       "      <th></th>\n",
       "      <th></th>\n",
       "      <th></th>\n",
       "      <th></th>\n",
       "      <th></th>\n",
       "      <th></th>\n",
       "      <th></th>\n",
       "      <th></th>\n",
       "      <th></th>\n",
       "      <th></th>\n",
       "      <th></th>\n",
       "      <th></th>\n",
       "      <th></th>\n",
       "      <th></th>\n",
       "      <th></th>\n",
       "      <th></th>\n",
       "    </tr>\n",
       "  </thead>\n",
       "  <tbody>\n",
       "    <tr>\n",
       "      <th>7204471</th>\n",
       "      <td>#1</td>\n",
       "      <td>205114</td>\n",
       "      <td>8</td>\n",
       "      <td>3.0</td>\n",
       "      <td>3500.0</td>\n",
       "      <td>2018-05-24 03:09:47</td>\n",
       "      <td>98 LINCOLN PLACE</td>\n",
       "      <td>Brooklyn</td>\n",
       "      <td>11217</td>\n",
       "      <td>40.676331</td>\n",
       "      <td>-73.976775</td>\n",
       "      <td>3019614.0</td>\n",
       "      <td>3009510013</td>\n",
       "      <td>3.0</td>\n",
       "      <td>1899.0</td>\n",
       "      <td>3.0333</td>\n",
       "      <td>0</td>\n",
       "      <td>0</td>\n",
       "      <td>0</td>\n",
       "      <td>0</td>\n",
       "      <td>0</td>\n",
       "      <td>0</td>\n",
       "      <td>0</td>\n",
       "      <td>1</td>\n",
       "      <td>0</td>\n",
       "      <td>0</td>\n",
       "      <td>0</td>\n",
       "      <td>0</td>\n",
       "      <td>1</td>\n",
       "      <td>0</td>\n",
       "      <td>15000</td>\n",
       "      <td>0</td>\n",
       "      <td>This gorgeous four story home radiates eleganc...</td>\n",
       "      <td>Park Slope</td>\n",
       "      <td>Brooklyn</td>\n",
       "      <td>1</td>\n",
       "      <td>1.0</td>\n",
       "      <td>NaN</td>\n",
       "    </tr>\n",
       "    <tr>\n",
       "      <th>7217803</th>\n",
       "      <td>#UPPER</td>\n",
       "      <td>20905</td>\n",
       "      <td>7</td>\n",
       "      <td>4.0</td>\n",
       "      <td>5000.0</td>\n",
       "      <td>2018-05-29 21:15:31</td>\n",
       "      <td>116 SULLIVAN STREET</td>\n",
       "      <td>New York</td>\n",
       "      <td>10012</td>\n",
       "      <td>40.726101</td>\n",
       "      <td>-74.002899</td>\n",
       "      <td>1007810.0</td>\n",
       "      <td>1005040029</td>\n",
       "      <td>5.0</td>\n",
       "      <td>1900.0</td>\n",
       "      <td>1.0167</td>\n",
       "      <td>0</td>\n",
       "      <td>0</td>\n",
       "      <td>1</td>\n",
       "      <td>0</td>\n",
       "      <td>0</td>\n",
       "      <td>0</td>\n",
       "      <td>1</td>\n",
       "      <td>1</td>\n",
       "      <td>0</td>\n",
       "      <td>1</td>\n",
       "      <td>0</td>\n",
       "      <td>0</td>\n",
       "      <td>1</td>\n",
       "      <td>0</td>\n",
       "      <td>45000</td>\n",
       "      <td>0</td>\n",
       "      <td>The Upper Apartment at 116 Sullivan Street is ...</td>\n",
       "      <td>Soho</td>\n",
       "      <td>Manhattan</td>\n",
       "      <td>UPPER</td>\n",
       "      <td>NaN</td>\n",
       "      <td>NaN</td>\n",
       "    </tr>\n",
       "    <tr>\n",
       "      <th>7356136</th>\n",
       "      <td>NaN</td>\n",
       "      <td>71734</td>\n",
       "      <td>7</td>\n",
       "      <td>4.0</td>\n",
       "      <td>6950.0</td>\n",
       "      <td>2018-07-11 15:50:18</td>\n",
       "      <td>461 EAST 57 STREET</td>\n",
       "      <td>New York</td>\n",
       "      <td>10022</td>\n",
       "      <td>40.757728</td>\n",
       "      <td>-73.960818</td>\n",
       "      <td>1081204.0</td>\n",
       "      <td>1013690022</td>\n",
       "      <td>4.0</td>\n",
       "      <td>1900.0</td>\n",
       "      <td>3.1833</td>\n",
       "      <td>0</td>\n",
       "      <td>0</td>\n",
       "      <td>0</td>\n",
       "      <td>0</td>\n",
       "      <td>0</td>\n",
       "      <td>0</td>\n",
       "      <td>0</td>\n",
       "      <td>0</td>\n",
       "      <td>0</td>\n",
       "      <td>0</td>\n",
       "      <td>0</td>\n",
       "      <td>0</td>\n",
       "      <td>1</td>\n",
       "      <td>0</td>\n",
       "      <td>25000</td>\n",
       "      <td>0</td>\n",
       "      <td>461 East 57th Street is a grand 32’ wide, four...</td>\n",
       "      <td>Midtown East</td>\n",
       "      <td>Manhattan</td>\n",
       "      <td>NaN</td>\n",
       "      <td>NaN</td>\n",
       "      <td>NaN</td>\n",
       "    </tr>\n",
       "    <tr>\n",
       "      <th>7146658</th>\n",
       "      <td>NaN</td>\n",
       "      <td>56881</td>\n",
       "      <td>7</td>\n",
       "      <td>7.0</td>\n",
       "      <td>7000.0</td>\n",
       "      <td>2018-05-04 12:49:49</td>\n",
       "      <td>51 WEST 73 STREET</td>\n",
       "      <td>New York</td>\n",
       "      <td>10023</td>\n",
       "      <td>40.777983</td>\n",
       "      <td>-73.977430</td>\n",
       "      <td>1028690.0</td>\n",
       "      <td>1011260107</td>\n",
       "      <td>4.0</td>\n",
       "      <td>1910.0</td>\n",
       "      <td>2.3167</td>\n",
       "      <td>0</td>\n",
       "      <td>1</td>\n",
       "      <td>1</td>\n",
       "      <td>1</td>\n",
       "      <td>0</td>\n",
       "      <td>0</td>\n",
       "      <td>0</td>\n",
       "      <td>1</td>\n",
       "      <td>0</td>\n",
       "      <td>0</td>\n",
       "      <td>0</td>\n",
       "      <td>0</td>\n",
       "      <td>1</td>\n",
       "      <td>0</td>\n",
       "      <td>29500</td>\n",
       "      <td>0</td>\n",
       "      <td>This park block single family ELEVATOR townhou...</td>\n",
       "      <td>Upper West Side</td>\n",
       "      <td>Manhattan</td>\n",
       "      <td>NaN</td>\n",
       "      <td>NaN</td>\n",
       "      <td>NaN</td>\n",
       "    </tr>\n",
       "    <tr>\n",
       "      <th>7371637</th>\n",
       "      <td>#1</td>\n",
       "      <td>283312</td>\n",
       "      <td>7</td>\n",
       "      <td>2.0</td>\n",
       "      <td>1800.0</td>\n",
       "      <td>2018-07-16 16:27:49</td>\n",
       "      <td>1033A DE KALB AVENUE</td>\n",
       "      <td>Brooklyn</td>\n",
       "      <td>11221</td>\n",
       "      <td>40.693642</td>\n",
       "      <td>-73.933648</td>\n",
       "      <td>3388351.0</td>\n",
       "      <td>3015990075</td>\n",
       "      <td>3.0</td>\n",
       "      <td>1931.0</td>\n",
       "      <td>4.1167</td>\n",
       "      <td>0</td>\n",
       "      <td>0</td>\n",
       "      <td>0</td>\n",
       "      <td>0</td>\n",
       "      <td>0</td>\n",
       "      <td>0</td>\n",
       "      <td>1</td>\n",
       "      <td>0</td>\n",
       "      <td>0</td>\n",
       "      <td>0</td>\n",
       "      <td>0</td>\n",
       "      <td>0</td>\n",
       "      <td>0</td>\n",
       "      <td>0</td>\n",
       "      <td>4195</td>\n",
       "      <td>1</td>\n",
       "      <td>This is a huge floor through apt. with no less...</td>\n",
       "      <td>Bedford-Stuyvesant</td>\n",
       "      <td>Brooklyn</td>\n",
       "      <td>1</td>\n",
       "      <td>1.0</td>\n",
       "      <td>NaN</td>\n",
       "    </tr>\n",
       "  </tbody>\n",
       "</table>\n",
       "</div>"
      ],
      "text/plain": [
       "          addr_unit  building_id  bedrooms  ...   unit  floornumber line\n",
       "rental_id                                   ...                         \n",
       "7204471          #1       205114         8  ...      1          1.0  NaN\n",
       "7217803      #UPPER        20905         7  ...  UPPER          NaN  NaN\n",
       "7356136         NaN        71734         7  ...    NaN          NaN  NaN\n",
       "7146658         NaN        56881         7  ...    NaN          NaN  NaN\n",
       "7371637          #1       283312         7  ...      1          1.0  NaN\n",
       "\n",
       "[5 rows x 38 columns]"
      ]
     },
     "execution_count": 72,
     "metadata": {
      "tags": []
     },
     "output_type": "execute_result"
    }
   ],
   "source": [
    "obd_df = train_df.loc[train_df.bedrooms> 6]\n",
    "obd_df"
   ]
  },
  {
   "cell_type": "code",
   "execution_count": 0,
   "metadata": {
    "colab": {
     "base_uri": "https://localhost:8080/",
     "height": 270
    },
    "colab_type": "code",
    "executionInfo": {
     "elapsed": 401,
     "status": "ok",
     "timestamp": 1574270902302,
     "user": {
      "displayName": "Jacinta Moore",
      "photoUrl": "",
      "userId": "14215851766389388616"
     },
     "user_tz": 300
    },
    "id": "qvPoZyl-2qO9",
    "outputId": "bda4199e-325a-437a-a0c9-e5a00ee0298b"
   },
   "outputs": [
    {
     "data": {
      "text/html": [
       "<div>\n",
       "<style scoped>\n",
       "    .dataframe tbody tr th:only-of-type {\n",
       "        vertical-align: middle;\n",
       "    }\n",
       "\n",
       "    .dataframe tbody tr th {\n",
       "        vertical-align: top;\n",
       "    }\n",
       "\n",
       "    .dataframe thead th {\n",
       "        text-align: right;\n",
       "    }\n",
       "</style>\n",
       "<table border=\"1\" class=\"dataframe\">\n",
       "  <thead>\n",
       "    <tr style=\"text-align: right;\">\n",
       "      <th></th>\n",
       "      <th>addr_unit</th>\n",
       "      <th>building_id</th>\n",
       "      <th>bedrooms</th>\n",
       "      <th>bathrooms</th>\n",
       "      <th>size_sqft</th>\n",
       "      <th>created_at</th>\n",
       "      <th>addr_street</th>\n",
       "      <th>addr_city</th>\n",
       "      <th>addr_zip</th>\n",
       "      <th>addr_lat</th>\n",
       "      <th>addr_lon</th>\n",
       "      <th>bin</th>\n",
       "      <th>bbl</th>\n",
       "      <th>floor_count</th>\n",
       "      <th>year_built</th>\n",
       "      <th>min_to_subway</th>\n",
       "      <th>has_doorman</th>\n",
       "      <th>has_elevator</th>\n",
       "      <th>has_fireplace</th>\n",
       "      <th>has_dishwasher</th>\n",
       "      <th>is_furnished</th>\n",
       "      <th>has_gym</th>\n",
       "      <th>allows_pets</th>\n",
       "      <th>has_washer_dryer</th>\n",
       "      <th>has_garage</th>\n",
       "      <th>has_roofdeck</th>\n",
       "      <th>has_concierge</th>\n",
       "      <th>has_pool</th>\n",
       "      <th>has_garden</th>\n",
       "      <th>has_childrens_playroom</th>\n",
       "      <th>rent</th>\n",
       "      <th>no_fee</th>\n",
       "      <th>description</th>\n",
       "      <th>neighborhood</th>\n",
       "      <th>borough</th>\n",
       "      <th>unit</th>\n",
       "      <th>floornumber</th>\n",
       "      <th>line</th>\n",
       "    </tr>\n",
       "    <tr>\n",
       "      <th>rental_id</th>\n",
       "      <th></th>\n",
       "      <th></th>\n",
       "      <th></th>\n",
       "      <th></th>\n",
       "      <th></th>\n",
       "      <th></th>\n",
       "      <th></th>\n",
       "      <th></th>\n",
       "      <th></th>\n",
       "      <th></th>\n",
       "      <th></th>\n",
       "      <th></th>\n",
       "      <th></th>\n",
       "      <th></th>\n",
       "      <th></th>\n",
       "      <th></th>\n",
       "      <th></th>\n",
       "      <th></th>\n",
       "      <th></th>\n",
       "      <th></th>\n",
       "      <th></th>\n",
       "      <th></th>\n",
       "      <th></th>\n",
       "      <th></th>\n",
       "      <th></th>\n",
       "      <th></th>\n",
       "      <th></th>\n",
       "      <th></th>\n",
       "      <th></th>\n",
       "      <th></th>\n",
       "      <th></th>\n",
       "      <th></th>\n",
       "      <th></th>\n",
       "      <th></th>\n",
       "      <th></th>\n",
       "      <th></th>\n",
       "      <th></th>\n",
       "      <th></th>\n",
       "    </tr>\n",
       "  </thead>\n",
       "  <tbody>\n",
       "    <tr>\n",
       "      <th>7236325</th>\n",
       "      <td>#7</td>\n",
       "      <td>87595</td>\n",
       "      <td>2</td>\n",
       "      <td>20.0</td>\n",
       "      <td>1200.0</td>\n",
       "      <td>2018-06-04 15:07:12</td>\n",
       "      <td>420 EAST 86 STREET</td>\n",
       "      <td>New York</td>\n",
       "      <td>10028</td>\n",
       "      <td>40.776358</td>\n",
       "      <td>-73.948907</td>\n",
       "      <td>1085655.0</td>\n",
       "      <td>1015657501</td>\n",
       "      <td>6.0</td>\n",
       "      <td>1935.0</td>\n",
       "      <td>5.6833</td>\n",
       "      <td>0</td>\n",
       "      <td>1</td>\n",
       "      <td>1</td>\n",
       "      <td>1</td>\n",
       "      <td>0</td>\n",
       "      <td>0</td>\n",
       "      <td>0</td>\n",
       "      <td>0</td>\n",
       "      <td>0</td>\n",
       "      <td>0</td>\n",
       "      <td>0</td>\n",
       "      <td>0</td>\n",
       "      <td>0</td>\n",
       "      <td>0</td>\n",
       "      <td>5000</td>\n",
       "      <td>0</td>\n",
       "      <td>.</td>\n",
       "      <td>Upper East Side</td>\n",
       "      <td>Manhattan</td>\n",
       "      <td>7</td>\n",
       "      <td>NaN</td>\n",
       "      <td>NaN</td>\n",
       "    </tr>\n",
       "    <tr>\n",
       "      <th>7151821</th>\n",
       "      <td>#6</td>\n",
       "      <td>126724</td>\n",
       "      <td>3</td>\n",
       "      <td>12.0</td>\n",
       "      <td>1200.0</td>\n",
       "      <td>2018-05-06 20:10:38</td>\n",
       "      <td>821 RIVERSIDE DRIVE</td>\n",
       "      <td>New York</td>\n",
       "      <td>10032</td>\n",
       "      <td>40.835610</td>\n",
       "      <td>-73.946140</td>\n",
       "      <td>1063285.0</td>\n",
       "      <td>1021350004</td>\n",
       "      <td>3.0</td>\n",
       "      <td>1900.0</td>\n",
       "      <td>2.1333</td>\n",
       "      <td>0</td>\n",
       "      <td>0</td>\n",
       "      <td>0</td>\n",
       "      <td>1</td>\n",
       "      <td>0</td>\n",
       "      <td>0</td>\n",
       "      <td>1</td>\n",
       "      <td>1</td>\n",
       "      <td>0</td>\n",
       "      <td>0</td>\n",
       "      <td>0</td>\n",
       "      <td>0</td>\n",
       "      <td>0</td>\n",
       "      <td>0</td>\n",
       "      <td>3200</td>\n",
       "      <td>1</td>\n",
       "      <td>Washington Heights\\nOversized True 3 Bedroom\\n...</td>\n",
       "      <td>Washington Heights</td>\n",
       "      <td>Manhattan</td>\n",
       "      <td>6</td>\n",
       "      <td>6.0</td>\n",
       "      <td>NaN</td>\n",
       "    </tr>\n",
       "    <tr>\n",
       "      <th>7160572</th>\n",
       "      <td>#D</td>\n",
       "      <td>951334</td>\n",
       "      <td>2</td>\n",
       "      <td>12.0</td>\n",
       "      <td>1069.0</td>\n",
       "      <td>2018-05-09 10:46:26</td>\n",
       "      <td>105 OCEANA DRIVE EAST</td>\n",
       "      <td>Brooklyn</td>\n",
       "      <td>11235</td>\n",
       "      <td>40.576302</td>\n",
       "      <td>-73.957497</td>\n",
       "      <td>3350420.0</td>\n",
       "      <td>3087207512</td>\n",
       "      <td>7.0</td>\n",
       "      <td>2002.0</td>\n",
       "      <td>2.4833</td>\n",
       "      <td>0</td>\n",
       "      <td>1</td>\n",
       "      <td>0</td>\n",
       "      <td>1</td>\n",
       "      <td>0</td>\n",
       "      <td>1</td>\n",
       "      <td>1</td>\n",
       "      <td>1</td>\n",
       "      <td>0</td>\n",
       "      <td>0</td>\n",
       "      <td>0</td>\n",
       "      <td>1</td>\n",
       "      <td>0</td>\n",
       "      <td>0</td>\n",
       "      <td>2700</td>\n",
       "      <td>0</td>\n",
       "      <td>Nice 2 bed 2bath at Oceana Condominium&amp;Club\\r\\...</td>\n",
       "      <td>Brighton Beach</td>\n",
       "      <td>Brooklyn</td>\n",
       "      <td>D</td>\n",
       "      <td>NaN</td>\n",
       "      <td>NaN</td>\n",
       "    </tr>\n",
       "  </tbody>\n",
       "</table>\n",
       "</div>"
      ],
      "text/plain": [
       "          addr_unit  building_id  bedrooms  ...  unit  floornumber line\n",
       "rental_id                                   ...                        \n",
       "7236325          #7        87595         2  ...     7          NaN  NaN\n",
       "7151821          #6       126724         3  ...     6          6.0  NaN\n",
       "7160572          #D       951334         2  ...     D          NaN  NaN\n",
       "\n",
       "[3 rows x 38 columns]"
      ]
     },
     "execution_count": 71,
     "metadata": {
      "tags": []
     },
     "output_type": "execute_result"
    }
   ],
   "source": [
    "obath_df = train_df.loc[train_df.bathrooms>=8]\n",
    "obath_df\n",
    "## Clearly row 7160572 of 12 bathrooms is an error as the description says 2 bed 2 bath\n",
    "## row 7236325 also seems an error as there are only 2 bedrooms, most likely it should be 2 bath"
   ]
  },
  {
   "cell_type": "markdown",
   "metadata": {
    "colab_type": "text",
    "id": "9ZXTYUh73_Z5"
   },
   "source": [
    "At this point we are going to just be mindful of the outliers. In Part 2 we may consider adjusting these but it will depend if they will have an impact upon the results. At the moment they are only a couple of points out of 12,000."
   ]
  },
  {
   "cell_type": "markdown",
   "metadata": {
    "colab_type": "text",
    "id": "aPjrrxHJot6h"
   },
   "source": [
    "## Data Modelling \n",
    "This section we look at different models and model our training data"
   ]
  },
  {
   "cell_type": "code",
   "execution_count": 23,
   "metadata": {
    "colab": {
     "base_uri": "https://localhost:8080/",
     "height": 202
    },
    "colab_type": "code",
    "executionInfo": {
     "elapsed": 1277,
     "status": "ok",
     "timestamp": 1574366627084,
     "user": {
      "displayName": "Jacinta Moore",
      "photoUrl": "",
      "userId": "14215851766389388616"
     },
     "user_tz": 300
    },
    "id": "sgsw3jxTpHL5",
    "outputId": "f045343a-9432-49a7-ab66-837179b74edf"
   },
   "outputs": [
    {
     "name": "stderr",
     "output_type": "stream",
     "text": [
      "/usr/local/lib/python3.6/dist-packages/sklearn/ensemble/forest.py:245: FutureWarning: The default value of n_estimators will change from 10 in version 0.20 to 100 in 0.22.\n",
      "  \"10 in version 0.20 to 100 in 0.22.\", FutureWarning)\n"
     ]
    },
    {
     "data": {
      "text/plain": [
       "GradientBoostingRegressor(alpha=0.9, criterion='friedman_mse', init=None,\n",
       "                          learning_rate=0.1, loss='ls', max_depth=3,\n",
       "                          max_features=None, max_leaf_nodes=None,\n",
       "                          min_impurity_decrease=0.0, min_impurity_split=None,\n",
       "                          min_samples_leaf=1, min_samples_split=2,\n",
       "                          min_weight_fraction_leaf=0.0, n_estimators=100,\n",
       "                          n_iter_no_change=None, presort='auto',\n",
       "                          random_state=None, subsample=1.0, tol=0.0001,\n",
       "                          validation_fraction=0.1, verbose=0, warm_start=False)"
      ]
     },
     "execution_count": 23,
     "metadata": {
      "tags": []
     },
     "output_type": "execute_result"
    }
   ],
   "source": [
    "# training a linear regression model\n",
    "lreg = LinearRegression()\n",
    "lreg.fit(train_features, train_target)\n",
    "\n",
    "# training a random forest regression model\n",
    "rf = RandomForestRegressor()\n",
    "rf.fit(train_features, train_target)\n",
    "\n",
    "#training a gradient boosting regressor\n",
    "gbt = GradientBoostingRegressor( )\n",
    "gbt.fit(train_features, train_target)"
   ]
  },
  {
   "cell_type": "code",
   "execution_count": 0,
   "metadata": {
    "colab": {},
    "colab_type": "code",
    "id": "8sNqibK39M43"
   },
   "outputs": [],
   "source": [
    "test_features = test_df[feature_cols] \n",
    "\n",
    "# impute missing values with medians\n",
    "test_features = test_features.fillna(train_features.median(), axis=0)"
   ]
  },
  {
   "cell_type": "code",
   "execution_count": 25,
   "metadata": {
    "colab": {
     "base_uri": "https://localhost:8080/",
     "height": 34
    },
    "colab_type": "code",
    "executionInfo": {
     "elapsed": 385,
     "status": "ok",
     "timestamp": 1574366631471,
     "user": {
      "displayName": "Jacinta Moore",
      "photoUrl": "",
      "userId": "14215851766389388616"
     },
     "user_tz": 300
    },
    "id": "eb0I0fZM8E7R",
    "outputId": "f3cd675e-f500-4aac-ead5-32a3ab3cf954"
   },
   "outputs": [
    {
     "data": {
      "text/plain": [
       "3674316.2820333852"
      ]
     },
     "execution_count": 25,
     "metadata": {
      "tags": []
     },
     "output_type": "execute_result"
    }
   ],
   "source": [
    "# construct predictions for linear regression \n",
    "test_df['predicted'] = lreg.predict(test_features)\n",
    "\n",
    "mean_squared_error(test_df['rent'], test_df['predicted'])"
   ]
  },
  {
   "cell_type": "code",
   "execution_count": 28,
   "metadata": {
    "colab": {
     "base_uri": "https://localhost:8080/",
     "height": 34
    },
    "colab_type": "code",
    "executionInfo": {
     "elapsed": 346,
     "status": "ok",
     "timestamp": 1574366659670,
     "user": {
      "displayName": "Jacinta Moore",
      "photoUrl": "",
      "userId": "14215851766389388616"
     },
     "user_tz": 300
    },
    "id": "Sp72Ave09snn",
    "outputId": "317ec1e9-4c4e-41a0-bd35-915ed0efbb2e"
   },
   "outputs": [
    {
     "data": {
      "text/plain": [
       "2284878.990318595"
      ]
     },
     "execution_count": 28,
     "metadata": {
      "tags": []
     },
     "output_type": "execute_result"
    }
   ],
   "source": [
    "# construct predictions for random forest regression\n",
    "test_df['predicted'] = rf.predict(test_features)\n",
    "\n",
    "mean_squared_error(test_df['rent'], test_df['predicted'])"
   ]
  },
  {
   "cell_type": "code",
   "execution_count": 27,
   "metadata": {
    "colab": {
     "base_uri": "https://localhost:8080/",
     "height": 34
    },
    "colab_type": "code",
    "executionInfo": {
     "elapsed": 224,
     "status": "ok",
     "timestamp": 1574366634412,
     "user": {
      "displayName": "Jacinta Moore",
      "photoUrl": "",
      "userId": "14215851766389388616"
     },
     "user_tz": 300
    },
    "id": "9eDsuYKX9ouI",
    "outputId": "40c83d62-b64e-4ba1-e569-a2e4b80a9382"
   },
   "outputs": [
    {
     "data": {
      "text/plain": [
       "2372462.3660912327"
      ]
     },
     "execution_count": 27,
     "metadata": {
      "tags": []
     },
     "output_type": "execute_result"
    }
   ],
   "source": [
    "# construct predictions for gradient boosting regression\n",
    "test_df['predicted'] = gbt.predict(test_features)\n",
    "\n",
    "mean_squared_error(test_df['rent'], test_df['predicted'])"
   ]
  },
  {
   "cell_type": "code",
   "execution_count": 42,
   "metadata": {
    "colab": {
     "base_uri": "https://localhost:8080/",
     "height": 202
    },
    "colab_type": "code",
    "executionInfo": {
     "elapsed": 1495,
     "status": "ok",
     "timestamp": 1574367635430,
     "user": {
      "displayName": "Jacinta Moore",
      "photoUrl": "",
      "userId": "14215851766389388616"
     },
     "user_tz": 300
    },
    "id": "rmIFaPmYnGEa",
    "outputId": "22860add-3dfb-4d17-d3a6-d1d0491bd977"
   },
   "outputs": [
    {
     "name": "stderr",
     "output_type": "stream",
     "text": [
      "/usr/local/lib/python3.6/dist-packages/sklearn/ensemble/forest.py:245: FutureWarning: The default value of n_estimators will change from 10 in version 0.20 to 100 in 0.22.\n",
      "  \"10 in version 0.20 to 100 in 0.22.\", FutureWarning)\n"
     ]
    },
    {
     "data": {
      "text/plain": [
       "GradientBoostingRegressor(alpha=0.9, criterion='friedman_mse', init=None,\n",
       "                          learning_rate=0.1, loss='ls', max_depth=3,\n",
       "                          max_features=None, max_leaf_nodes=None,\n",
       "                          min_impurity_decrease=0.0, min_impurity_split=None,\n",
       "                          min_samples_leaf=1, min_samples_split=2,\n",
       "                          min_weight_fraction_leaf=0.0, n_estimators=100,\n",
       "                          n_iter_no_change=None, presort='auto',\n",
       "                          random_state=None, subsample=1.0, tol=0.0001,\n",
       "                          validation_fraction=0.1, verbose=0, warm_start=False)"
      ]
     },
     "execution_count": 42,
     "metadata": {
      "tags": []
     },
     "output_type": "execute_result"
    }
   ],
   "source": [
    "# training and test model for train_df2\n",
    "# training a linear regression model\n",
    "lreg = LinearRegression()\n",
    "lreg.fit(train_features2, train_target2)\n",
    "\n",
    "# training a random forest regression model\n",
    "rf = RandomForestRegressor()\n",
    "rf.fit(train_features2, train_target2)\n",
    "\n",
    "#training a gradient boosting regressor\n",
    "gbt = GradientBoostingRegressor( )\n",
    "gbt.fit(train_features2, train_target2)\n"
   ]
  },
  {
   "cell_type": "code",
   "execution_count": 0,
   "metadata": {
    "colab": {},
    "colab_type": "code",
    "id": "sUYGoFELn_Hm"
   },
   "outputs": [],
   "source": [
    "test_features2 = test_df2[feature_cols2] \n",
    "\n",
    "# impute missing values with medians\n",
    "test_features2 = test_features2.fillna(train_features2.median(), axis=0)"
   ]
  },
  {
   "cell_type": "code",
   "execution_count": 44,
   "metadata": {
    "colab": {
     "base_uri": "https://localhost:8080/",
     "height": 34
    },
    "colab_type": "code",
    "executionInfo": {
     "elapsed": 281,
     "status": "ok",
     "timestamp": 1574367744464,
     "user": {
      "displayName": "Jacinta Moore",
      "photoUrl": "",
      "userId": "14215851766389388616"
     },
     "user_tz": 300
    },
    "id": "a0H6idztoHEs",
    "outputId": "81a2bed9-6437-47fb-c428-1711219feca3"
   },
   "outputs": [
    {
     "data": {
      "text/plain": [
       "3475046.5877851504"
      ]
     },
     "execution_count": 44,
     "metadata": {
      "tags": []
     },
     "output_type": "execute_result"
    }
   ],
   "source": [
    "# construct predictions for linear regression \n",
    "test_df2['predicted'] = lreg.predict(test_features2)\n",
    "\n",
    "mean_squared_error(test_df2['rent'], test_df2['predicted'])"
   ]
  },
  {
   "cell_type": "code",
   "execution_count": 46,
   "metadata": {
    "colab": {
     "base_uri": "https://localhost:8080/",
     "height": 34
    },
    "colab_type": "code",
    "executionInfo": {
     "elapsed": 331,
     "status": "ok",
     "timestamp": 1574367777552,
     "user": {
      "displayName": "Jacinta Moore",
      "photoUrl": "",
      "userId": "14215851766389388616"
     },
     "user_tz": 300
    },
    "id": "Tt5WXyY-oK5M",
    "outputId": "c3a77303-a1e1-4ba4-ab0d-4f51c0220a49"
   },
   "outputs": [
    {
     "data": {
      "text/plain": [
       "2160942.3482092246"
      ]
     },
     "execution_count": 46,
     "metadata": {
      "tags": []
     },
     "output_type": "execute_result"
    }
   ],
   "source": [
    "# construct predictions for random forest regression\n",
    "test_df2['predicted'] = rf.predict(test_features2)\n",
    "\n",
    "mean_squared_error(test_df2['rent'], test_df2['predicted'])"
   ]
  },
  {
   "cell_type": "markdown",
   "metadata": {
    "colab_type": "text",
    "id": "9IVaqCL3pKBX"
   },
   "source": [
    "## Summary of Results and Further Work\n",
    "This section we look at the results of the modelling. Compare the results of the different models and then make decisions about further work to try improve the accuracy of our model in predicting the rents."
   ]
  },
  {
   "cell_type": "markdown",
   "metadata": {
    "colab_type": "text",
    "id": "CfvBsqOD_34F"
   },
   "source": [
    "Model | Description| MSE\n",
    "--- | --- | --\n",
    "Linear Regression | train_df: No additional data | 3674316.2820333852\n",
    "Random Forrest | train_df: No additional | 2284878.990318595\n",
    "Gradient Boosting | train_df: No additional | 2367734.7918685228\n",
    "Linear Regression | train_df2: Central Park distance included |3475046.5877851504\n",
    "Random Forrest | train_df2: Central Park distance included | 2160942.3482092246"
   ]
  },
  {
   "cell_type": "code",
   "execution_count": 47,
   "metadata": {
    "colab": {
     "base_uri": "https://localhost:8080/",
     "height": 202
    },
    "colab_type": "code",
    "executionInfo": {
     "elapsed": 356,
     "status": "ok",
     "timestamp": 1574368022419,
     "user": {
      "displayName": "Jacinta Moore",
      "photoUrl": "",
      "userId": "14215851766389388616"
     },
     "user_tz": 300
    },
    "id": "myzjIGHjpDdT",
    "outputId": "197bc810-0374-4f98-fce1-e3b0b71773c8"
   },
   "outputs": [
    {
     "name": "stdout",
     "output_type": "stream",
     "text": [
      "Variable: size_sqft            Importance: 0.57\n",
      "Variable: bathrooms            Importance: 0.14\n",
      "Variable: dist_centralPark     Importance: 0.12\n",
      "Variable: floornumber          Importance: 0.04\n",
      "Variable: year_built           Importance: 0.03\n",
      "Variable: min_to_subway        Importance: 0.03\n",
      "Variable: has_doorman          Importance: 0.03\n",
      "Variable: bedrooms             Importance: 0.02\n",
      "Variable: no_fee               Importance: 0.01\n",
      "Variable: has_washer_dryer     Importance: 0.01\n"
     ]
    },
    {
     "data": {
      "text/plain": [
       "[None, None, None, None, None, None, None, None, None, None]"
      ]
     },
     "execution_count": 47,
     "metadata": {
      "tags": []
     },
     "output_type": "execute_result"
    }
   ],
   "source": [
    "# Get numerical feature importances\n",
    "importances = list(rf.feature_importances_)\n",
    "# List of tuples with variable and importance\n",
    "feature_importances = [(feature, round(importance, 2)) for feature, importance in zip(test_features2, importances)]\n",
    "# Sort the feature importances by most important first\n",
    "feature_importances = sorted(feature_importances, key = lambda x: x[1], reverse = True)\n",
    "# Print out the feature and importances \n",
    "[print('Variable: {:20} Importance: {}'.format(*pair)) for pair in feature_importances]"
   ]
  },
  {
   "cell_type": "markdown",
   "metadata": {
    "colab_type": "text",
    "id": "ZLPsk7jHpjAa"
   },
   "source": [
    "The results above show that for the Random Forrest Regressor the features with the most importance are size_sqft, number of bathrooms and distance to Central Park. The red flag is the number of bedrooms does not have a significant influence whereas we would expect it would. This could be the result of 10-13% of the data having recorded 0 number of bedrooms, where we would expect at least one and inspection of the data shows its not commerical but residential. "
   ]
  },
  {
   "cell_type": "code",
   "execution_count": 0,
   "metadata": {
    "colab": {},
    "colab_type": "code",
    "id": "knHP_Slvpf06"
   },
   "outputs": [],
   "source": []
  },
  {
   "cell_type": "markdown",
   "metadata": {
    "colab_type": "text",
    "id": "0kLiTVGGpgYf"
   },
   "source": []
  }
 ],
 "metadata": {
  "colab": {
   "collapsed_sections": [],
   "name": "Part 1 Final Project.ipynb",
   "provenance": []
  },
  "kernelspec": {
   "display_name": "Python 3",
   "language": "python",
   "name": "python3"
  },
  "language_info": {
   "codemirror_mode": {
    "name": "ipython",
    "version": 3
   },
   "file_extension": ".py",
   "mimetype": "text/x-python",
   "name": "python",
   "nbconvert_exporter": "python",
   "pygments_lexer": "ipython3",
   "version": "3.7.4"
  }
 },
 "nbformat": 4,
 "nbformat_minor": 1
}

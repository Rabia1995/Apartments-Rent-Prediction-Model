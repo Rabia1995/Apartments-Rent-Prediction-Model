{
 "cells": [
  {
   "cell_type": "markdown",
   "metadata": {
    "colab_type": "text",
    "id": "V6W7COL-nwCv"
   },
   "source": [
    "# Data Science Final Project: Part 2 Analysis\n",
    "\n",
    "---\n",
    "\n",
    "\n",
    "\n",
    "This is analysis of the rental data. In this file we will look at implementing our recommendations from Part 1. This first involves cleaning up the data to reduce the MSE. Most of this work is in Data Exploration and Data preprocessing. We also will add external data sources to include new features to the model. \n",
    "\n",
    "\n",
    "1.   Data Exploration [https://colab.research.google.com/drive/1ui-CU-qfreGNuP69NaVPlmFKIiNBFxuL#scrollTo=K-ZZpcoaiGY6]\n",
    "2.   Data Preprocessing [https://colab.research.google.com/drive/1ui-CU-qfreGNuP69NaVPlmFKIiNBFxuL#scrollTo=HgGR6M-aojEZ]\n",
    "3.   Data Modelling [https://colab.research.google.com/drive/1ui-CU-qfreGNuP69NaVPlmFKIiNBFxuL#scrollTo=aPjrrxHJot6h]\n",
    "4.  Summary of Results and Further Work [https://colab.research.google.com/drive/1ui-CU-qfreGNuP69NaVPlmFKIiNBFxuL#scrollTo=9IVaqCL3pKBX]\n",
    "\n",
    "\n",
    "\n"
   ]
  },
  {
   "cell_type": "code",
   "execution_count": 1,
   "metadata": {
    "colab": {},
    "colab_type": "code",
    "id": "uTI3FuQFqCEH"
   },
   "outputs": [],
   "source": [
    "import numpy as np\n",
    "import pandas as pd\n",
    "import matplotlib.pyplot as plt\n",
    "import seaborn as sns\n",
    "\n",
    "from sklearn.linear_model import LinearRegression\n",
    "from sklearn.metrics import mean_squared_error\n",
    "from sklearn.metrics import r2_score\n",
    "\n",
    "from sklearn.ensemble import RandomForestRegressor\n",
    "from sklearn.ensemble import GradientBoostingRegressor\n",
    "\n",
    "%matplotlib inline"
   ]
  },
  {
   "cell_type": "code",
   "execution_count": 2,
   "metadata": {
    "colab": {},
    "colab_type": "code",
    "id": "fn-ehv0SqH7y"
   },
   "outputs": [],
   "source": [
    "train_df = pd.read_csv('https://grantmlong.com/data/SE_rents2018_train.csv', index_col=0)\n",
    "test_df = pd.read_csv('https://grantmlong.com/data/SE_rents2018_test1.csv', index_col=0)\n",
    "submit1_df = pd.read_csv('https://grantmlong.com/data/SE_rents2018_test2.csv', index_col=0)\n",
    "submit2_df = pd.read_csv('https://grantmlong.com/data/SE_rents2018_test3.csv', index_col=0)"
   ]
  },
  {
   "cell_type": "markdown",
   "metadata": {
    "colab_type": "text",
    "id": "K-ZZpcoaiGY6"
   },
   "source": [
    "## Data Exploration\n",
    "\n",
    "This section we look at the data and determine the features for our model. We build our training data\n",
    "\n",
    "\n"
   ]
  },
  {
   "cell_type": "code",
   "execution_count": 3,
   "metadata": {
    "colab": {
     "base_uri": "https://localhost:8080/",
     "height": 1000
    },
    "colab_type": "code",
    "id": "D5_s5QoOohQ9",
    "outputId": "8f79a927-d9cf-477e-e1b4-1d4fdf3842a2"
   },
   "outputs": [
    {
     "data": {
      "text/html": [
       "<div>\n",
       "<style scoped>\n",
       "    .dataframe tbody tr th:only-of-type {\n",
       "        vertical-align: middle;\n",
       "    }\n",
       "\n",
       "    .dataframe tbody tr th {\n",
       "        vertical-align: top;\n",
       "    }\n",
       "\n",
       "    .dataframe thead th {\n",
       "        text-align: right;\n",
       "    }\n",
       "</style>\n",
       "<table border=\"1\" class=\"dataframe\">\n",
       "  <thead>\n",
       "    <tr style=\"text-align: right;\">\n",
       "      <th>rental_id</th>\n",
       "      <th>7164265</th>\n",
       "      <th>7342705</th>\n",
       "      <th>7159258</th>\n",
       "      <th>7249891</th>\n",
       "      <th>7292359</th>\n",
       "    </tr>\n",
       "  </thead>\n",
       "  <tbody>\n",
       "    <tr>\n",
       "      <td>addr_unit</td>\n",
       "      <td>#523</td>\n",
       "      <td>#2NH</td>\n",
       "      <td>#14N</td>\n",
       "      <td>#17D</td>\n",
       "      <td>#C2</td>\n",
       "    </tr>\n",
       "    <tr>\n",
       "      <td>building_id</td>\n",
       "      <td>1984</td>\n",
       "      <td>150565</td>\n",
       "      <td>3866110</td>\n",
       "      <td>424</td>\n",
       "      <td>18397171</td>\n",
       "    </tr>\n",
       "    <tr>\n",
       "      <td>bedrooms</td>\n",
       "      <td>1</td>\n",
       "      <td>1</td>\n",
       "      <td>1</td>\n",
       "      <td>1</td>\n",
       "      <td>1</td>\n",
       "    </tr>\n",
       "    <tr>\n",
       "      <td>bathrooms</td>\n",
       "      <td>1</td>\n",
       "      <td>1</td>\n",
       "      <td>1</td>\n",
       "      <td>1</td>\n",
       "      <td>1</td>\n",
       "    </tr>\n",
       "    <tr>\n",
       "      <td>size_sqft</td>\n",
       "      <td>969</td>\n",
       "      <td>667</td>\n",
       "      <td>940</td>\n",
       "      <td>826</td>\n",
       "      <td>900</td>\n",
       "    </tr>\n",
       "    <tr>\n",
       "      <td>created_at</td>\n",
       "      <td>2018-05-10 10:03:57</td>\n",
       "      <td>2018-07-07 17:16:01</td>\n",
       "      <td>2018-05-08 18:06:12</td>\n",
       "      <td>2018-06-07 15:02:10</td>\n",
       "      <td>2018-06-20 17:41:24</td>\n",
       "    </tr>\n",
       "    <tr>\n",
       "      <td>addr_street</td>\n",
       "      <td>50 MURRAY STREET</td>\n",
       "      <td>125 COURT STREET</td>\n",
       "      <td>200 NORTH END AVENUE</td>\n",
       "      <td>40 BROAD STREET</td>\n",
       "      <td>68-29 BURNS STREET</td>\n",
       "    </tr>\n",
       "    <tr>\n",
       "      <td>addr_city</td>\n",
       "      <td>New York</td>\n",
       "      <td>Brooklyn</td>\n",
       "      <td>New York</td>\n",
       "      <td>New York</td>\n",
       "      <td>Forest Hills</td>\n",
       "    </tr>\n",
       "    <tr>\n",
       "      <td>addr_zip</td>\n",
       "      <td>10007</td>\n",
       "      <td>11201</td>\n",
       "      <td>10282</td>\n",
       "      <td>10004</td>\n",
       "      <td>11375</td>\n",
       "    </tr>\n",
       "    <tr>\n",
       "      <td>addr_lat</td>\n",
       "      <td>40.7136</td>\n",
       "      <td>40.6898</td>\n",
       "      <td>40.7161</td>\n",
       "      <td>40.706</td>\n",
       "      <td>40.7213</td>\n",
       "    </tr>\n",
       "    <tr>\n",
       "      <td>addr_lon</td>\n",
       "      <td>-74.0095</td>\n",
       "      <td>-73.9917</td>\n",
       "      <td>-74.0149</td>\n",
       "      <td>-74.0118</td>\n",
       "      <td>-73.8509</td>\n",
       "    </tr>\n",
       "    <tr>\n",
       "      <td>bin</td>\n",
       "      <td>1.00141e+06</td>\n",
       "      <td>3.38874e+06</td>\n",
       "      <td>1.08785e+06</td>\n",
       "      <td>1.07898e+06</td>\n",
       "      <td>4.43386e+06</td>\n",
       "    </tr>\n",
       "    <tr>\n",
       "      <td>bbl</td>\n",
       "      <td>1001260027</td>\n",
       "      <td>3002777501</td>\n",
       "      <td>1000167520</td>\n",
       "      <td>1000247501</td>\n",
       "      <td>4032340051</td>\n",
       "    </tr>\n",
       "    <tr>\n",
       "      <td>floor_count</td>\n",
       "      <td>21</td>\n",
       "      <td>11</td>\n",
       "      <td>32</td>\n",
       "      <td>31</td>\n",
       "      <td>0</td>\n",
       "    </tr>\n",
       "    <tr>\n",
       "      <td>year_built</td>\n",
       "      <td>1964</td>\n",
       "      <td>2005</td>\n",
       "      <td>2011</td>\n",
       "      <td>1982</td>\n",
       "      <td>NaN</td>\n",
       "    </tr>\n",
       "    <tr>\n",
       "      <td>min_to_subway</td>\n",
       "      <td>2.0667</td>\n",
       "      <td>3.65</td>\n",
       "      <td>3.7667</td>\n",
       "      <td>1.55</td>\n",
       "      <td>6.7167</td>\n",
       "    </tr>\n",
       "    <tr>\n",
       "      <td>has_doorman</td>\n",
       "      <td>1</td>\n",
       "      <td>1</td>\n",
       "      <td>1</td>\n",
       "      <td>1</td>\n",
       "      <td>0</td>\n",
       "    </tr>\n",
       "    <tr>\n",
       "      <td>has_elevator</td>\n",
       "      <td>1</td>\n",
       "      <td>1</td>\n",
       "      <td>1</td>\n",
       "      <td>1</td>\n",
       "      <td>1</td>\n",
       "    </tr>\n",
       "    <tr>\n",
       "      <td>has_fireplace</td>\n",
       "      <td>0</td>\n",
       "      <td>0</td>\n",
       "      <td>0</td>\n",
       "      <td>0</td>\n",
       "      <td>0</td>\n",
       "    </tr>\n",
       "    <tr>\n",
       "      <td>has_dishwasher</td>\n",
       "      <td>1</td>\n",
       "      <td>1</td>\n",
       "      <td>0</td>\n",
       "      <td>1</td>\n",
       "      <td>1</td>\n",
       "    </tr>\n",
       "    <tr>\n",
       "      <td>is_furnished</td>\n",
       "      <td>0</td>\n",
       "      <td>0</td>\n",
       "      <td>0</td>\n",
       "      <td>0</td>\n",
       "      <td>0</td>\n",
       "    </tr>\n",
       "    <tr>\n",
       "      <td>has_gym</td>\n",
       "      <td>1</td>\n",
       "      <td>1</td>\n",
       "      <td>1</td>\n",
       "      <td>1</td>\n",
       "      <td>1</td>\n",
       "    </tr>\n",
       "    <tr>\n",
       "      <td>allows_pets</td>\n",
       "      <td>1</td>\n",
       "      <td>1</td>\n",
       "      <td>0</td>\n",
       "      <td>1</td>\n",
       "      <td>1</td>\n",
       "    </tr>\n",
       "    <tr>\n",
       "      <td>has_washer_dryer</td>\n",
       "      <td>0</td>\n",
       "      <td>0</td>\n",
       "      <td>0</td>\n",
       "      <td>1</td>\n",
       "      <td>0</td>\n",
       "    </tr>\n",
       "    <tr>\n",
       "      <td>has_garage</td>\n",
       "      <td>1</td>\n",
       "      <td>1</td>\n",
       "      <td>0</td>\n",
       "      <td>0</td>\n",
       "      <td>0</td>\n",
       "    </tr>\n",
       "    <tr>\n",
       "      <td>has_roofdeck</td>\n",
       "      <td>1</td>\n",
       "      <td>1</td>\n",
       "      <td>1</td>\n",
       "      <td>1</td>\n",
       "      <td>0</td>\n",
       "    </tr>\n",
       "    <tr>\n",
       "      <td>has_concierge</td>\n",
       "      <td>1</td>\n",
       "      <td>1</td>\n",
       "      <td>1</td>\n",
       "      <td>1</td>\n",
       "      <td>0</td>\n",
       "    </tr>\n",
       "    <tr>\n",
       "      <td>has_pool</td>\n",
       "      <td>1</td>\n",
       "      <td>0</td>\n",
       "      <td>0</td>\n",
       "      <td>0</td>\n",
       "      <td>0</td>\n",
       "    </tr>\n",
       "    <tr>\n",
       "      <td>has_garden</td>\n",
       "      <td>1</td>\n",
       "      <td>0</td>\n",
       "      <td>0</td>\n",
       "      <td>0</td>\n",
       "      <td>1</td>\n",
       "    </tr>\n",
       "    <tr>\n",
       "      <td>has_childrens_playroom</td>\n",
       "      <td>1</td>\n",
       "      <td>0</td>\n",
       "      <td>0</td>\n",
       "      <td>0</td>\n",
       "      <td>0</td>\n",
       "    </tr>\n",
       "    <tr>\n",
       "      <td>rent</td>\n",
       "      <td>4850</td>\n",
       "      <td>3419</td>\n",
       "      <td>5400</td>\n",
       "      <td>3995</td>\n",
       "      <td>1850</td>\n",
       "    </tr>\n",
       "    <tr>\n",
       "      <td>no_fee</td>\n",
       "      <td>1</td>\n",
       "      <td>1</td>\n",
       "      <td>1</td>\n",
       "      <td>1</td>\n",
       "      <td>0</td>\n",
       "    </tr>\n",
       "    <tr>\n",
       "      <td>description</td>\n",
       "      <td>THIS IS A LARGE STUDIO LOFT + DEN APPROX 969 S...</td>\n",
       "      <td>* Listed rent is net effective, based on a gro...</td>\n",
       "      <td>Elegant, spacious, 940 SF 1-bedroom apartment ...</td>\n",
       "      <td>LEASES SIGNED - NO LONGER SHOWING\\n\\nCome home...</td>\n",
       "      <td>this is a renovated unit w/ beautiful large ne...</td>\n",
       "    </tr>\n",
       "    <tr>\n",
       "      <td>neighborhood</td>\n",
       "      <td>Tribeca</td>\n",
       "      <td>Downtown Brooklyn</td>\n",
       "      <td>Battery Park City</td>\n",
       "      <td>Financial District</td>\n",
       "      <td>Forest Hills</td>\n",
       "    </tr>\n",
       "    <tr>\n",
       "      <td>borough</td>\n",
       "      <td>Manhattan</td>\n",
       "      <td>Brooklyn</td>\n",
       "      <td>Manhattan</td>\n",
       "      <td>Manhattan</td>\n",
       "      <td>Queens</td>\n",
       "    </tr>\n",
       "    <tr>\n",
       "      <td>unit</td>\n",
       "      <td>523</td>\n",
       "      <td>2NH</td>\n",
       "      <td>14N</td>\n",
       "      <td>17D</td>\n",
       "      <td>C2</td>\n",
       "    </tr>\n",
       "    <tr>\n",
       "      <td>floornumber</td>\n",
       "      <td>5</td>\n",
       "      <td>2</td>\n",
       "      <td>14</td>\n",
       "      <td>17</td>\n",
       "      <td>2</td>\n",
       "    </tr>\n",
       "    <tr>\n",
       "      <td>line</td>\n",
       "      <td>23</td>\n",
       "      <td>NH</td>\n",
       "      <td>N</td>\n",
       "      <td>D</td>\n",
       "      <td>C</td>\n",
       "    </tr>\n",
       "  </tbody>\n",
       "</table>\n",
       "</div>"
      ],
      "text/plain": [
       "rental_id                                                         7164265  \\\n",
       "addr_unit                                                            #523   \n",
       "building_id                                                          1984   \n",
       "bedrooms                                                                1   \n",
       "bathrooms                                                               1   \n",
       "size_sqft                                                             969   \n",
       "created_at                                            2018-05-10 10:03:57   \n",
       "addr_street                                              50 MURRAY STREET   \n",
       "addr_city                                                        New York   \n",
       "addr_zip                                                            10007   \n",
       "addr_lat                                                          40.7136   \n",
       "addr_lon                                                         -74.0095   \n",
       "bin                                                           1.00141e+06   \n",
       "bbl                                                            1001260027   \n",
       "floor_count                                                            21   \n",
       "year_built                                                           1964   \n",
       "min_to_subway                                                      2.0667   \n",
       "has_doorman                                                             1   \n",
       "has_elevator                                                            1   \n",
       "has_fireplace                                                           0   \n",
       "has_dishwasher                                                          1   \n",
       "is_furnished                                                            0   \n",
       "has_gym                                                                 1   \n",
       "allows_pets                                                             1   \n",
       "has_washer_dryer                                                        0   \n",
       "has_garage                                                              1   \n",
       "has_roofdeck                                                            1   \n",
       "has_concierge                                                           1   \n",
       "has_pool                                                                1   \n",
       "has_garden                                                              1   \n",
       "has_childrens_playroom                                                  1   \n",
       "rent                                                                 4850   \n",
       "no_fee                                                                  1   \n",
       "description             THIS IS A LARGE STUDIO LOFT + DEN APPROX 969 S...   \n",
       "neighborhood                                                      Tribeca   \n",
       "borough                                                         Manhattan   \n",
       "unit                                                                  523   \n",
       "floornumber                                                             5   \n",
       "line                                                                   23   \n",
       "\n",
       "rental_id                                                         7342705  \\\n",
       "addr_unit                                                            #2NH   \n",
       "building_id                                                        150565   \n",
       "bedrooms                                                                1   \n",
       "bathrooms                                                               1   \n",
       "size_sqft                                                             667   \n",
       "created_at                                            2018-07-07 17:16:01   \n",
       "addr_street                                              125 COURT STREET   \n",
       "addr_city                                                        Brooklyn   \n",
       "addr_zip                                                            11201   \n",
       "addr_lat                                                          40.6898   \n",
       "addr_lon                                                         -73.9917   \n",
       "bin                                                           3.38874e+06   \n",
       "bbl                                                            3002777501   \n",
       "floor_count                                                            11   \n",
       "year_built                                                           2005   \n",
       "min_to_subway                                                        3.65   \n",
       "has_doorman                                                             1   \n",
       "has_elevator                                                            1   \n",
       "has_fireplace                                                           0   \n",
       "has_dishwasher                                                          1   \n",
       "is_furnished                                                            0   \n",
       "has_gym                                                                 1   \n",
       "allows_pets                                                             1   \n",
       "has_washer_dryer                                                        0   \n",
       "has_garage                                                              1   \n",
       "has_roofdeck                                                            1   \n",
       "has_concierge                                                           1   \n",
       "has_pool                                                                0   \n",
       "has_garden                                                              0   \n",
       "has_childrens_playroom                                                  0   \n",
       "rent                                                                 3419   \n",
       "no_fee                                                                  1   \n",
       "description             * Listed rent is net effective, based on a gro...   \n",
       "neighborhood                                            Downtown Brooklyn   \n",
       "borough                                                          Brooklyn   \n",
       "unit                                                                  2NH   \n",
       "floornumber                                                             2   \n",
       "line                                                                   NH   \n",
       "\n",
       "rental_id                                                         7159258  \\\n",
       "addr_unit                                                            #14N   \n",
       "building_id                                                       3866110   \n",
       "bedrooms                                                                1   \n",
       "bathrooms                                                               1   \n",
       "size_sqft                                                             940   \n",
       "created_at                                            2018-05-08 18:06:12   \n",
       "addr_street                                          200 NORTH END AVENUE   \n",
       "addr_city                                                        New York   \n",
       "addr_zip                                                            10282   \n",
       "addr_lat                                                          40.7161   \n",
       "addr_lon                                                         -74.0149   \n",
       "bin                                                           1.08785e+06   \n",
       "bbl                                                            1000167520   \n",
       "floor_count                                                            32   \n",
       "year_built                                                           2011   \n",
       "min_to_subway                                                      3.7667   \n",
       "has_doorman                                                             1   \n",
       "has_elevator                                                            1   \n",
       "has_fireplace                                                           0   \n",
       "has_dishwasher                                                          0   \n",
       "is_furnished                                                            0   \n",
       "has_gym                                                                 1   \n",
       "allows_pets                                                             0   \n",
       "has_washer_dryer                                                        0   \n",
       "has_garage                                                              0   \n",
       "has_roofdeck                                                            1   \n",
       "has_concierge                                                           1   \n",
       "has_pool                                                                0   \n",
       "has_garden                                                              0   \n",
       "has_childrens_playroom                                                  0   \n",
       "rent                                                                 5400   \n",
       "no_fee                                                                  1   \n",
       "description             Elegant, spacious, 940 SF 1-bedroom apartment ...   \n",
       "neighborhood                                            Battery Park City   \n",
       "borough                                                         Manhattan   \n",
       "unit                                                                  14N   \n",
       "floornumber                                                            14   \n",
       "line                                                                    N   \n",
       "\n",
       "rental_id                                                         7249891  \\\n",
       "addr_unit                                                            #17D   \n",
       "building_id                                                           424   \n",
       "bedrooms                                                                1   \n",
       "bathrooms                                                               1   \n",
       "size_sqft                                                             826   \n",
       "created_at                                            2018-06-07 15:02:10   \n",
       "addr_street                                               40 BROAD STREET   \n",
       "addr_city                                                        New York   \n",
       "addr_zip                                                            10004   \n",
       "addr_lat                                                           40.706   \n",
       "addr_lon                                                         -74.0118   \n",
       "bin                                                           1.07898e+06   \n",
       "bbl                                                            1000247501   \n",
       "floor_count                                                            31   \n",
       "year_built                                                           1982   \n",
       "min_to_subway                                                        1.55   \n",
       "has_doorman                                                             1   \n",
       "has_elevator                                                            1   \n",
       "has_fireplace                                                           0   \n",
       "has_dishwasher                                                          1   \n",
       "is_furnished                                                            0   \n",
       "has_gym                                                                 1   \n",
       "allows_pets                                                             1   \n",
       "has_washer_dryer                                                        1   \n",
       "has_garage                                                              0   \n",
       "has_roofdeck                                                            1   \n",
       "has_concierge                                                           1   \n",
       "has_pool                                                                0   \n",
       "has_garden                                                              0   \n",
       "has_childrens_playroom                                                  0   \n",
       "rent                                                                 3995   \n",
       "no_fee                                                                  1   \n",
       "description             LEASES SIGNED - NO LONGER SHOWING\\n\\nCome home...   \n",
       "neighborhood                                           Financial District   \n",
       "borough                                                         Manhattan   \n",
       "unit                                                                  17D   \n",
       "floornumber                                                            17   \n",
       "line                                                                    D   \n",
       "\n",
       "rental_id                                                         7292359  \n",
       "addr_unit                                                             #C2  \n",
       "building_id                                                      18397171  \n",
       "bedrooms                                                                1  \n",
       "bathrooms                                                               1  \n",
       "size_sqft                                                             900  \n",
       "created_at                                            2018-06-20 17:41:24  \n",
       "addr_street                                            68-29 BURNS STREET  \n",
       "addr_city                                                    Forest Hills  \n",
       "addr_zip                                                            11375  \n",
       "addr_lat                                                          40.7213  \n",
       "addr_lon                                                         -73.8509  \n",
       "bin                                                           4.43386e+06  \n",
       "bbl                                                            4032340051  \n",
       "floor_count                                                             0  \n",
       "year_built                                                            NaN  \n",
       "min_to_subway                                                      6.7167  \n",
       "has_doorman                                                             0  \n",
       "has_elevator                                                            1  \n",
       "has_fireplace                                                           0  \n",
       "has_dishwasher                                                          1  \n",
       "is_furnished                                                            0  \n",
       "has_gym                                                                 1  \n",
       "allows_pets                                                             1  \n",
       "has_washer_dryer                                                        0  \n",
       "has_garage                                                              0  \n",
       "has_roofdeck                                                            0  \n",
       "has_concierge                                                           0  \n",
       "has_pool                                                                0  \n",
       "has_garden                                                              1  \n",
       "has_childrens_playroom                                                  0  \n",
       "rent                                                                 1850  \n",
       "no_fee                                                                  0  \n",
       "description             this is a renovated unit w/ beautiful large ne...  \n",
       "neighborhood                                                 Forest Hills  \n",
       "borough                                                            Queens  \n",
       "unit                                                                   C2  \n",
       "floornumber                                                             2  \n",
       "line                                                                    C  "
      ]
     },
     "execution_count": 3,
     "metadata": {},
     "output_type": "execute_result"
    }
   ],
   "source": [
    "train_df.sample(5).transpose()"
   ]
  },
  {
   "cell_type": "code",
   "execution_count": 4,
   "metadata": {
    "colab": {
     "base_uri": "https://localhost:8080/",
     "height": 34
    },
    "colab_type": "code",
    "id": "Z5F5catir0BW",
    "outputId": "7f618636-30b4-4cc3-ce99-2b7cf8e4ae77"
   },
   "outputs": [
    {
     "data": {
      "text/plain": [
       "(12000, 38)"
      ]
     },
     "execution_count": 4,
     "metadata": {},
     "output_type": "execute_result"
    }
   ],
   "source": [
    "train_df.shape"
   ]
  },
  {
   "cell_type": "code",
   "execution_count": 5,
   "metadata": {
    "colab": {
     "base_uri": "https://localhost:8080/",
     "height": 34
    },
    "colab_type": "code",
    "id": "e-o5NYKor5j1",
    "outputId": "74b40ef3-a7d4-4c41-9895-bb9981f830dd"
   },
   "outputs": [
    {
     "data": {
      "text/plain": [
       "(2000, 38)"
      ]
     },
     "execution_count": 5,
     "metadata": {},
     "output_type": "execute_result"
    }
   ],
   "source": [
    "test_df.shape"
   ]
  },
  {
   "cell_type": "code",
   "execution_count": 6,
   "metadata": {
    "colab": {
     "base_uri": "https://localhost:8080/",
     "height": 269
    },
    "colab_type": "code",
    "id": "6j_eaNSqrT5D",
    "outputId": "66a91c36-deb4-47b5-dfec-3fb2a342017f"
   },
   "outputs": [
    {
     "data": {
      "image/png": "[encoded data removed]",
      "text/plain": [
       "<Figure size 432x288 with 1 Axes>"
      ]
     },
     "metadata": {
      "needs_background": "light"
     },
     "output_type": "display_data"
    }
   ],
   "source": [
    "_ = plt.hist(train_df['rent'], bins=100)"
   ]
  },
  {
   "cell_type": "code",
   "execution_count": 7,
   "metadata": {
    "colab": {
     "base_uri": "https://localhost:8080/",
     "height": 168
    },
    "colab_type": "code",
    "id": "K5EQekB9rUKa",
    "outputId": "13542996-82b3-4f44-bd62-a18c76fe827b"
   },
   "outputs": [
    {
     "data": {
      "text/plain": [
       "count    12000.000000\n",
       "mean      3605.762917\n",
       "std       2897.069446\n",
       "min       1250.000000\n",
       "25%       2250.000000\n",
       "50%       2900.000000\n",
       "75%       3900.000000\n",
       "max      50000.000000\n",
       "Name: rent, dtype: float64"
      ]
     },
     "execution_count": 7,
     "metadata": {},
     "output_type": "execute_result"
    }
   ],
   "source": [
    "train_df['rent'].describe()"
   ]
  },
  {
   "cell_type": "code",
   "execution_count": 8,
   "metadata": {
    "colab": {
     "base_uri": "https://localhost:8080/",
     "height": 34
    },
    "colab_type": "code",
    "id": "-lxPtxAprUfW",
    "outputId": "48ca0be6-20e4-4282-ca2f-e1597da48b51"
   },
   "outputs": [
    {
     "data": {
      "text/plain": [
       "0"
      ]
     },
     "execution_count": 8,
     "metadata": {},
     "output_type": "execute_result"
    }
   ],
   "source": [
    "train_df['rent'].isna().sum()"
   ]
  },
  {
   "cell_type": "code",
   "execution_count": 9,
   "metadata": {
    "colab": {
     "base_uri": "https://localhost:8080/",
     "height": 54
    },
    "colab_type": "code",
    "id": "EAAqPpaCnI0d",
    "outputId": "33039fa7-87c3-44d1-9311-f4e0e6f8e8b7"
   },
   "outputs": [
    {
     "name": "stdout",
     "output_type": "stream",
     "text": [
      "['addr_unit', 'building_id', 'bedrooms', 'bathrooms', 'size_sqft', 'created_at', 'addr_street', 'addr_city', 'addr_zip', 'addr_lat', 'addr_lon', 'bin', 'bbl', 'floor_count', 'year_built', 'min_to_subway', 'has_doorman', 'has_elevator', 'has_fireplace', 'has_dishwasher', 'is_furnished', 'has_gym', 'allows_pets', 'has_washer_dryer', 'has_garage', 'has_roofdeck', 'has_concierge', 'has_pool', 'has_garden', 'has_childrens_playroom', 'rent', 'no_fee', 'description', 'neighborhood', 'borough', 'unit', 'floornumber', 'line']\n"
     ]
    }
   ],
   "source": [
    "print(list(train_df))"
   ]
  },
  {
   "cell_type": "code",
   "execution_count": 10,
   "metadata": {
    "colab": {
     "base_uri": "https://localhost:8080/",
     "height": 304
    },
    "colab_type": "code",
    "id": "aMnR3TkCnI0f",
    "outputId": "cb5f78f9-0863-4a84-e84e-9d75969e0f03"
   },
   "outputs": [
    {
     "data": {
      "text/html": [
       "<div>\n",
       "<style scoped>\n",
       "    .dataframe tbody tr th:only-of-type {\n",
       "        vertical-align: middle;\n",
       "    }\n",
       "\n",
       "    .dataframe tbody tr th {\n",
       "        vertical-align: top;\n",
       "    }\n",
       "\n",
       "    .dataframe thead th {\n",
       "        text-align: right;\n",
       "    }\n",
       "</style>\n",
       "<table border=\"1\" class=\"dataframe\">\n",
       "  <thead>\n",
       "    <tr style=\"text-align: right;\">\n",
       "      <th></th>\n",
       "      <th>building_id</th>\n",
       "      <th>bedrooms</th>\n",
       "      <th>bathrooms</th>\n",
       "      <th>size_sqft</th>\n",
       "      <th>addr_zip</th>\n",
       "      <th>addr_lat</th>\n",
       "      <th>addr_lon</th>\n",
       "      <th>bin</th>\n",
       "      <th>bbl</th>\n",
       "      <th>floor_count</th>\n",
       "      <th>...</th>\n",
       "      <th>has_washer_dryer</th>\n",
       "      <th>has_garage</th>\n",
       "      <th>has_roofdeck</th>\n",
       "      <th>has_concierge</th>\n",
       "      <th>has_pool</th>\n",
       "      <th>has_garden</th>\n",
       "      <th>has_childrens_playroom</th>\n",
       "      <th>rent</th>\n",
       "      <th>no_fee</th>\n",
       "      <th>floornumber</th>\n",
       "    </tr>\n",
       "  </thead>\n",
       "  <tbody>\n",
       "    <tr>\n",
       "      <td>count</td>\n",
       "      <td>1.200000e+04</td>\n",
       "      <td>12000.000000</td>\n",
       "      <td>12000.000000</td>\n",
       "      <td>12000.000000</td>\n",
       "      <td>12000.000000</td>\n",
       "      <td>12000.000000</td>\n",
       "      <td>12000.000000</td>\n",
       "      <td>1.199900e+04</td>\n",
       "      <td>1.200000e+04</td>\n",
       "      <td>12000.000000</td>\n",
       "      <td>...</td>\n",
       "      <td>12000.000000</td>\n",
       "      <td>12000.000000</td>\n",
       "      <td>12000.000000</td>\n",
       "      <td>12000.000000</td>\n",
       "      <td>12000.000000</td>\n",
       "      <td>12000.000000</td>\n",
       "      <td>12000.000000</td>\n",
       "      <td>12000.000000</td>\n",
       "      <td>12000.000000</td>\n",
       "      <td>10723.000000</td>\n",
       "    </tr>\n",
       "    <tr>\n",
       "      <td>mean</td>\n",
       "      <td>1.529133e+06</td>\n",
       "      <td>1.657667</td>\n",
       "      <td>1.239500</td>\n",
       "      <td>850.465750</td>\n",
       "      <td>10682.779667</td>\n",
       "      <td>40.727507</td>\n",
       "      <td>-73.956837</td>\n",
       "      <td>2.370093e+06</td>\n",
       "      <td>2.287120e+09</td>\n",
       "      <td>10.266608</td>\n",
       "      <td>...</td>\n",
       "      <td>0.271667</td>\n",
       "      <td>0.170000</td>\n",
       "      <td>0.264083</td>\n",
       "      <td>0.208583</td>\n",
       "      <td>0.073167</td>\n",
       "      <td>0.132083</td>\n",
       "      <td>0.090500</td>\n",
       "      <td>3605.762917</td>\n",
       "      <td>0.490000</td>\n",
       "      <td>6.182738</td>\n",
       "    </tr>\n",
       "    <tr>\n",
       "      <td>std</td>\n",
       "      <td>4.301123e+06</td>\n",
       "      <td>1.079771</td>\n",
       "      <td>0.560208</td>\n",
       "      <td>515.773101</td>\n",
       "      <td>593.370964</td>\n",
       "      <td>0.053241</td>\n",
       "      <td>0.043024</td>\n",
       "      <td>1.242919e+06</td>\n",
       "      <td>1.202105e+09</td>\n",
       "      <td>12.019787</td>\n",
       "      <td>...</td>\n",
       "      <td>0.444837</td>\n",
       "      <td>0.375648</td>\n",
       "      <td>0.440862</td>\n",
       "      <td>0.406313</td>\n",
       "      <td>0.260421</td>\n",
       "      <td>0.338595</td>\n",
       "      <td>0.286909</td>\n",
       "      <td>2897.069446</td>\n",
       "      <td>0.499921</td>\n",
       "      <td>7.671545</td>\n",
       "    </tr>\n",
       "    <tr>\n",
       "      <td>min</td>\n",
       "      <td>7.300000e+01</td>\n",
       "      <td>0.000000</td>\n",
       "      <td>0.000000</td>\n",
       "      <td>0.000000</td>\n",
       "      <td>10001.000000</td>\n",
       "      <td>40.573898</td>\n",
       "      <td>-74.141570</td>\n",
       "      <td>1.000000e+06</td>\n",
       "      <td>0.000000e+00</td>\n",
       "      <td>0.000000</td>\n",
       "      <td>...</td>\n",
       "      <td>0.000000</td>\n",
       "      <td>0.000000</td>\n",
       "      <td>0.000000</td>\n",
       "      <td>0.000000</td>\n",
       "      <td>0.000000</td>\n",
       "      <td>0.000000</td>\n",
       "      <td>0.000000</td>\n",
       "      <td>1250.000000</td>\n",
       "      <td>0.000000</td>\n",
       "      <td>0.000000</td>\n",
       "    </tr>\n",
       "    <tr>\n",
       "      <td>25%</td>\n",
       "      <td>6.209200e+04</td>\n",
       "      <td>1.000000</td>\n",
       "      <td>1.000000</td>\n",
       "      <td>610.000000</td>\n",
       "      <td>10023.000000</td>\n",
       "      <td>40.693256</td>\n",
       "      <td>-73.986076</td>\n",
       "      <td>1.052139e+06</td>\n",
       "      <td>1.011220e+09</td>\n",
       "      <td>3.000000</td>\n",
       "      <td>...</td>\n",
       "      <td>0.000000</td>\n",
       "      <td>0.000000</td>\n",
       "      <td>0.000000</td>\n",
       "      <td>0.000000</td>\n",
       "      <td>0.000000</td>\n",
       "      <td>0.000000</td>\n",
       "      <td>0.000000</td>\n",
       "      <td>2250.000000</td>\n",
       "      <td>0.000000</td>\n",
       "      <td>2.000000</td>\n",
       "    </tr>\n",
       "    <tr>\n",
       "      <td>50%</td>\n",
       "      <td>2.495815e+05</td>\n",
       "      <td>2.000000</td>\n",
       "      <td>1.000000</td>\n",
       "      <td>800.000000</td>\n",
       "      <td>11103.000000</td>\n",
       "      <td>40.729028</td>\n",
       "      <td>-73.961700</td>\n",
       "      <td>3.019358e+06</td>\n",
       "      <td>3.006580e+09</td>\n",
       "      <td>5.000000</td>\n",
       "      <td>...</td>\n",
       "      <td>0.000000</td>\n",
       "      <td>0.000000</td>\n",
       "      <td>0.000000</td>\n",
       "      <td>0.000000</td>\n",
       "      <td>0.000000</td>\n",
       "      <td>0.000000</td>\n",
       "      <td>0.000000</td>\n",
       "      <td>2900.000000</td>\n",
       "      <td>0.000000</td>\n",
       "      <td>3.000000</td>\n",
       "    </tr>\n",
       "    <tr>\n",
       "      <td>75%</td>\n",
       "      <td>8.225132e+05</td>\n",
       "      <td>2.000000</td>\n",
       "      <td>1.000000</td>\n",
       "      <td>1000.000000</td>\n",
       "      <td>11218.000000</td>\n",
       "      <td>40.764599</td>\n",
       "      <td>-73.936663</td>\n",
       "      <td>3.326098e+06</td>\n",
       "      <td>3.050580e+09</td>\n",
       "      <td>12.000000</td>\n",
       "      <td>...</td>\n",
       "      <td>1.000000</td>\n",
       "      <td>0.000000</td>\n",
       "      <td>1.000000</td>\n",
       "      <td>0.000000</td>\n",
       "      <td>0.000000</td>\n",
       "      <td>0.000000</td>\n",
       "      <td>0.000000</td>\n",
       "      <td>3900.000000</td>\n",
       "      <td>1.000000</td>\n",
       "      <td>6.000000</td>\n",
       "    </tr>\n",
       "    <tr>\n",
       "      <td>max</td>\n",
       "      <td>1.877210e+07</td>\n",
       "      <td>8.000000</td>\n",
       "      <td>20.000000</td>\n",
       "      <td>10000.000000</td>\n",
       "      <td>11694.000000</td>\n",
       "      <td>40.909842</td>\n",
       "      <td>-73.730550</td>\n",
       "      <td>5.158986e+06</td>\n",
       "      <td>5.010640e+09</td>\n",
       "      <td>90.000000</td>\n",
       "      <td>...</td>\n",
       "      <td>1.000000</td>\n",
       "      <td>1.000000</td>\n",
       "      <td>1.000000</td>\n",
       "      <td>1.000000</td>\n",
       "      <td>1.000000</td>\n",
       "      <td>1.000000</td>\n",
       "      <td>1.000000</td>\n",
       "      <td>50000.000000</td>\n",
       "      <td>1.000000</td>\n",
       "      <td>78.000000</td>\n",
       "    </tr>\n",
       "  </tbody>\n",
       "</table>\n",
       "<p>8 rows × 29 columns</p>\n",
       "</div>"
      ],
      "text/plain": [
       "        building_id      bedrooms     bathrooms     size_sqft      addr_zip  \\\n",
       "count  1.200000e+04  12000.000000  12000.000000  12000.000000  12000.000000   \n",
       "mean   1.529133e+06      1.657667      1.239500    850.465750  10682.779667   \n",
       "std    4.301123e+06      1.079771      0.560208    515.773101    593.370964   \n",
       "min    7.300000e+01      0.000000      0.000000      0.000000  10001.000000   \n",
       "25%    6.209200e+04      1.000000      1.000000    610.000000  10023.000000   \n",
       "50%    2.495815e+05      2.000000      1.000000    800.000000  11103.000000   \n",
       "75%    8.225132e+05      2.000000      1.000000   1000.000000  11218.000000   \n",
       "max    1.877210e+07      8.000000     20.000000  10000.000000  11694.000000   \n",
       "\n",
       "           addr_lat      addr_lon           bin           bbl   floor_count  \\\n",
       "count  12000.000000  12000.000000  1.199900e+04  1.200000e+04  12000.000000   \n",
       "mean      40.727507    -73.956837  2.370093e+06  2.287120e+09     10.266608   \n",
       "std        0.053241      0.043024  1.242919e+06  1.202105e+09     12.019787   \n",
       "min       40.573898    -74.141570  1.000000e+06  0.000000e+00      0.000000   \n",
       "25%       40.693256    -73.986076  1.052139e+06  1.011220e+09      3.000000   \n",
       "50%       40.729028    -73.961700  3.019358e+06  3.006580e+09      5.000000   \n",
       "75%       40.764599    -73.936663  3.326098e+06  3.050580e+09     12.000000   \n",
       "max       40.909842    -73.730550  5.158986e+06  5.010640e+09     90.000000   \n",
       "\n",
       "       ...  has_washer_dryer    has_garage  has_roofdeck  has_concierge  \\\n",
       "count  ...      12000.000000  12000.000000  12000.000000   12000.000000   \n",
       "mean   ...          0.271667      0.170000      0.264083       0.208583   \n",
       "std    ...          0.444837      0.375648      0.440862       0.406313   \n",
       "min    ...          0.000000      0.000000      0.000000       0.000000   \n",
       "25%    ...          0.000000      0.000000      0.000000       0.000000   \n",
       "50%    ...          0.000000      0.000000      0.000000       0.000000   \n",
       "75%    ...          1.000000      0.000000      1.000000       0.000000   \n",
       "max    ...          1.000000      1.000000      1.000000       1.000000   \n",
       "\n",
       "           has_pool    has_garden  has_childrens_playroom          rent  \\\n",
       "count  12000.000000  12000.000000            12000.000000  12000.000000   \n",
       "mean       0.073167      0.132083                0.090500   3605.762917   \n",
       "std        0.260421      0.338595                0.286909   2897.069446   \n",
       "min        0.000000      0.000000                0.000000   1250.000000   \n",
       "25%        0.000000      0.000000                0.000000   2250.000000   \n",
       "50%        0.000000      0.000000                0.000000   2900.000000   \n",
       "75%        0.000000      0.000000                0.000000   3900.000000   \n",
       "max        1.000000      1.000000                1.000000  50000.000000   \n",
       "\n",
       "             no_fee   floornumber  \n",
       "count  12000.000000  10723.000000  \n",
       "mean       0.490000      6.182738  \n",
       "std        0.499921      7.671545  \n",
       "min        0.000000      0.000000  \n",
       "25%        0.000000      2.000000  \n",
       "50%        0.000000      3.000000  \n",
       "75%        1.000000      6.000000  \n",
       "max        1.000000     78.000000  \n",
       "\n",
       "[8 rows x 29 columns]"
      ]
     },
     "execution_count": 10,
     "metadata": {},
     "output_type": "execute_result"
    }
   ],
   "source": [
    "train_df.describe()"
   ]
  },
  {
   "cell_type": "code",
   "execution_count": 11,
   "metadata": {
    "colab": {
     "base_uri": "https://localhost:8080/",
     "height": 926
    },
    "colab_type": "code",
    "id": "M3j05EiHr627",
    "outputId": "c9ecfca1-d6f7-4e67-d082-57673fc4f45b",
    "scrolled": false
   },
   "outputs": [
    {
     "data": {
      "text/html": [
       "<div>\n",
       "<style scoped>\n",
       "    .dataframe tbody tr th:only-of-type {\n",
       "        vertical-align: middle;\n",
       "    }\n",
       "\n",
       "    .dataframe tbody tr th {\n",
       "        vertical-align: top;\n",
       "    }\n",
       "\n",
       "    .dataframe thead th {\n",
       "        text-align: right;\n",
       "    }\n",
       "</style>\n",
       "<table border=\"1\" class=\"dataframe\">\n",
       "  <thead>\n",
       "    <tr style=\"text-align: right;\">\n",
       "      <th></th>\n",
       "      <th>building_id</th>\n",
       "      <th>bedrooms</th>\n",
       "      <th>bathrooms</th>\n",
       "      <th>size_sqft</th>\n",
       "      <th>addr_zip</th>\n",
       "      <th>addr_lat</th>\n",
       "      <th>addr_lon</th>\n",
       "      <th>bin</th>\n",
       "      <th>bbl</th>\n",
       "      <th>floor_count</th>\n",
       "      <th>...</th>\n",
       "      <th>has_washer_dryer</th>\n",
       "      <th>has_garage</th>\n",
       "      <th>has_roofdeck</th>\n",
       "      <th>has_concierge</th>\n",
       "      <th>has_pool</th>\n",
       "      <th>has_garden</th>\n",
       "      <th>has_childrens_playroom</th>\n",
       "      <th>rent</th>\n",
       "      <th>no_fee</th>\n",
       "      <th>floornumber</th>\n",
       "    </tr>\n",
       "  </thead>\n",
       "  <tbody>\n",
       "    <tr>\n",
       "      <td>building_id</td>\n",
       "      <td>1.000000</td>\n",
       "      <td>-0.001813</td>\n",
       "      <td>-0.016501</td>\n",
       "      <td>-0.006433</td>\n",
       "      <td>0.064199</td>\n",
       "      <td>-0.008653</td>\n",
       "      <td>0.105315</td>\n",
       "      <td>0.117460</td>\n",
       "      <td>0.090194</td>\n",
       "      <td>-0.116488</td>\n",
       "      <td>...</td>\n",
       "      <td>-0.030651</td>\n",
       "      <td>0.099141</td>\n",
       "      <td>-0.012773</td>\n",
       "      <td>-0.060398</td>\n",
       "      <td>0.038340</td>\n",
       "      <td>0.064100</td>\n",
       "      <td>0.011357</td>\n",
       "      <td>-0.035145</td>\n",
       "      <td>0.052429</td>\n",
       "      <td>-0.003418</td>\n",
       "    </tr>\n",
       "    <tr>\n",
       "      <td>bedrooms</td>\n",
       "      <td>-0.001813</td>\n",
       "      <td>1.000000</td>\n",
       "      <td>0.464287</td>\n",
       "      <td>0.525537</td>\n",
       "      <td>0.187639</td>\n",
       "      <td>-0.114986</td>\n",
       "      <td>0.093089</td>\n",
       "      <td>0.142331</td>\n",
       "      <td>0.151078</td>\n",
       "      <td>-0.228858</td>\n",
       "      <td>...</td>\n",
       "      <td>0.117120</td>\n",
       "      <td>-0.116837</td>\n",
       "      <td>-0.085111</td>\n",
       "      <td>-0.202524</td>\n",
       "      <td>-0.091116</td>\n",
       "      <td>0.048234</td>\n",
       "      <td>-0.083456</td>\n",
       "      <td>0.353337</td>\n",
       "      <td>-0.004335</td>\n",
       "      <td>-0.158895</td>\n",
       "    </tr>\n",
       "    <tr>\n",
       "      <td>bathrooms</td>\n",
       "      <td>-0.016501</td>\n",
       "      <td>0.464287</td>\n",
       "      <td>1.000000</td>\n",
       "      <td>0.565788</td>\n",
       "      <td>-0.088524</td>\n",
       "      <td>0.028441</td>\n",
       "      <td>-0.062992</td>\n",
       "      <td>-0.100642</td>\n",
       "      <td>-0.106358</td>\n",
       "      <td>0.091489</td>\n",
       "      <td>...</td>\n",
       "      <td>0.298722</td>\n",
       "      <td>0.051650</td>\n",
       "      <td>0.102592</td>\n",
       "      <td>0.105276</td>\n",
       "      <td>0.089527</td>\n",
       "      <td>0.104741</td>\n",
       "      <td>0.111949</td>\n",
       "      <td>0.611987</td>\n",
       "      <td>-0.003053</td>\n",
       "      <td>0.116938</td>\n",
       "    </tr>\n",
       "    <tr>\n",
       "      <td>size_sqft</td>\n",
       "      <td>-0.006433</td>\n",
       "      <td>0.525537</td>\n",
       "      <td>0.565788</td>\n",
       "      <td>1.000000</td>\n",
       "      <td>0.000576</td>\n",
       "      <td>-0.037717</td>\n",
       "      <td>-0.035054</td>\n",
       "      <td>-0.013148</td>\n",
       "      <td>-0.011608</td>\n",
       "      <td>0.020547</td>\n",
       "      <td>...</td>\n",
       "      <td>0.263907</td>\n",
       "      <td>0.005959</td>\n",
       "      <td>0.026781</td>\n",
       "      <td>0.040962</td>\n",
       "      <td>0.051020</td>\n",
       "      <td>0.137652</td>\n",
       "      <td>0.068867</td>\n",
       "      <td>0.649984</td>\n",
       "      <td>-0.074162</td>\n",
       "      <td>0.054328</td>\n",
       "    </tr>\n",
       "    <tr>\n",
       "      <td>addr_zip</td>\n",
       "      <td>0.064199</td>\n",
       "      <td>0.187639</td>\n",
       "      <td>-0.088524</td>\n",
       "      <td>0.000576</td>\n",
       "      <td>1.000000</td>\n",
       "      <td>-0.577385</td>\n",
       "      <td>0.462277</td>\n",
       "      <td>0.950995</td>\n",
       "      <td>0.952018</td>\n",
       "      <td>-0.447352</td>\n",
       "      <td>...</td>\n",
       "      <td>-0.113234</td>\n",
       "      <td>-0.116047</td>\n",
       "      <td>-0.107670</td>\n",
       "      <td>-0.354300</td>\n",
       "      <td>-0.193333</td>\n",
       "      <td>-0.006699</td>\n",
       "      <td>-0.162588</td>\n",
       "      <td>-0.325241</td>\n",
       "      <td>-0.066025</td>\n",
       "      <td>-0.376063</td>\n",
       "    </tr>\n",
       "    <tr>\n",
       "      <td>addr_lat</td>\n",
       "      <td>-0.008653</td>\n",
       "      <td>-0.114986</td>\n",
       "      <td>0.028441</td>\n",
       "      <td>-0.037717</td>\n",
       "      <td>-0.577385</td>\n",
       "      <td>1.000000</td>\n",
       "      <td>0.219029</td>\n",
       "      <td>-0.429858</td>\n",
       "      <td>-0.424711</td>\n",
       "      <td>0.195647</td>\n",
       "      <td>...</td>\n",
       "      <td>0.013967</td>\n",
       "      <td>0.057687</td>\n",
       "      <td>-0.000782</td>\n",
       "      <td>0.146865</td>\n",
       "      <td>0.104243</td>\n",
       "      <td>0.000178</td>\n",
       "      <td>0.066387</td>\n",
       "      <td>0.109536</td>\n",
       "      <td>0.002401</td>\n",
       "      <td>0.170598</td>\n",
       "    </tr>\n",
       "    <tr>\n",
       "      <td>addr_lon</td>\n",
       "      <td>0.105315</td>\n",
       "      <td>0.093089</td>\n",
       "      <td>-0.062992</td>\n",
       "      <td>-0.035054</td>\n",
       "      <td>0.462277</td>\n",
       "      <td>0.219029</td>\n",
       "      <td>1.000000</td>\n",
       "      <td>0.554511</td>\n",
       "      <td>0.563806</td>\n",
       "      <td>-0.281790</td>\n",
       "      <td>...</td>\n",
       "      <td>-0.165555</td>\n",
       "      <td>-0.055615</td>\n",
       "      <td>-0.168426</td>\n",
       "      <td>-0.270704</td>\n",
       "      <td>-0.100606</td>\n",
       "      <td>-0.038981</td>\n",
       "      <td>-0.140828</td>\n",
       "      <td>-0.262711</td>\n",
       "      <td>-0.041091</td>\n",
       "      <td>-0.239193</td>\n",
       "    </tr>\n",
       "    <tr>\n",
       "      <td>bin</td>\n",
       "      <td>0.117460</td>\n",
       "      <td>0.142331</td>\n",
       "      <td>-0.100642</td>\n",
       "      <td>-0.013148</td>\n",
       "      <td>0.950995</td>\n",
       "      <td>-0.429858</td>\n",
       "      <td>0.554511</td>\n",
       "      <td>1.000000</td>\n",
       "      <td>0.994155</td>\n",
       "      <td>-0.426813</td>\n",
       "      <td>...</td>\n",
       "      <td>-0.119801</td>\n",
       "      <td>-0.089042</td>\n",
       "      <td>-0.112548</td>\n",
       "      <td>-0.323696</td>\n",
       "      <td>-0.182156</td>\n",
       "      <td>-0.007928</td>\n",
       "      <td>-0.144938</td>\n",
       "      <td>-0.332165</td>\n",
       "      <td>-0.111486</td>\n",
       "      <td>-0.350957</td>\n",
       "    </tr>\n",
       "    <tr>\n",
       "      <td>bbl</td>\n",
       "      <td>0.090194</td>\n",
       "      <td>0.151078</td>\n",
       "      <td>-0.106358</td>\n",
       "      <td>-0.011608</td>\n",
       "      <td>0.952018</td>\n",
       "      <td>-0.424711</td>\n",
       "      <td>0.563806</td>\n",
       "      <td>0.994155</td>\n",
       "      <td>1.000000</td>\n",
       "      <td>-0.442496</td>\n",
       "      <td>...</td>\n",
       "      <td>-0.137143</td>\n",
       "      <td>-0.109457</td>\n",
       "      <td>-0.135245</td>\n",
       "      <td>-0.346828</td>\n",
       "      <td>-0.193851</td>\n",
       "      <td>-0.021434</td>\n",
       "      <td>-0.169315</td>\n",
       "      <td>-0.339157</td>\n",
       "      <td>-0.126716</td>\n",
       "      <td>-0.367065</td>\n",
       "    </tr>\n",
       "    <tr>\n",
       "      <td>floor_count</td>\n",
       "      <td>-0.116488</td>\n",
       "      <td>-0.228858</td>\n",
       "      <td>0.091489</td>\n",
       "      <td>0.020547</td>\n",
       "      <td>-0.447352</td>\n",
       "      <td>0.195647</td>\n",
       "      <td>-0.281790</td>\n",
       "      <td>-0.426813</td>\n",
       "      <td>-0.442496</td>\n",
       "      <td>1.000000</td>\n",
       "      <td>...</td>\n",
       "      <td>0.177199</td>\n",
       "      <td>0.380581</td>\n",
       "      <td>0.361168</td>\n",
       "      <td>0.655252</td>\n",
       "      <td>0.498138</td>\n",
       "      <td>0.084536</td>\n",
       "      <td>0.395460</td>\n",
       "      <td>0.253517</td>\n",
       "      <td>0.185316</td>\n",
       "      <td>0.769707</td>\n",
       "    </tr>\n",
       "    <tr>\n",
       "      <td>year_built</td>\n",
       "      <td>0.026593</td>\n",
       "      <td>-0.056614</td>\n",
       "      <td>-0.004480</td>\n",
       "      <td>-0.021524</td>\n",
       "      <td>-0.004916</td>\n",
       "      <td>-0.002415</td>\n",
       "      <td>-0.003623</td>\n",
       "      <td>0.010451</td>\n",
       "      <td>0.005694</td>\n",
       "      <td>0.151318</td>\n",
       "      <td>...</td>\n",
       "      <td>0.006949</td>\n",
       "      <td>0.084148</td>\n",
       "      <td>0.082307</td>\n",
       "      <td>0.085210</td>\n",
       "      <td>0.051083</td>\n",
       "      <td>0.006335</td>\n",
       "      <td>0.051941</td>\n",
       "      <td>-0.001037</td>\n",
       "      <td>0.049746</td>\n",
       "      <td>0.095295</td>\n",
       "    </tr>\n",
       "    <tr>\n",
       "      <td>min_to_subway</td>\n",
       "      <td>-0.006980</td>\n",
       "      <td>0.014171</td>\n",
       "      <td>0.017966</td>\n",
       "      <td>0.007718</td>\n",
       "      <td>0.023660</td>\n",
       "      <td>-0.026215</td>\n",
       "      <td>-0.012528</td>\n",
       "      <td>0.021091</td>\n",
       "      <td>0.015880</td>\n",
       "      <td>-0.011722</td>\n",
       "      <td>...</td>\n",
       "      <td>0.035343</td>\n",
       "      <td>0.031686</td>\n",
       "      <td>0.006643</td>\n",
       "      <td>-0.013324</td>\n",
       "      <td>-0.007238</td>\n",
       "      <td>0.009395</td>\n",
       "      <td>-0.007989</td>\n",
       "      <td>0.000010</td>\n",
       "      <td>-0.005945</td>\n",
       "      <td>-0.012333</td>\n",
       "    </tr>\n",
       "    <tr>\n",
       "      <td>has_doorman</td>\n",
       "      <td>-0.042830</td>\n",
       "      <td>-0.233059</td>\n",
       "      <td>0.108987</td>\n",
       "      <td>0.047766</td>\n",
       "      <td>-0.410034</td>\n",
       "      <td>0.191486</td>\n",
       "      <td>-0.259673</td>\n",
       "      <td>-0.380284</td>\n",
       "      <td>-0.403373</td>\n",
       "      <td>0.664202</td>\n",
       "      <td>...</td>\n",
       "      <td>0.248036</td>\n",
       "      <td>0.406196</td>\n",
       "      <td>0.421955</td>\n",
       "      <td>0.668138</td>\n",
       "      <td>0.340186</td>\n",
       "      <td>0.142268</td>\n",
       "      <td>0.345234</td>\n",
       "      <td>0.273486</td>\n",
       "      <td>0.252027</td>\n",
       "      <td>0.523314</td>\n",
       "    </tr>\n",
       "    <tr>\n",
       "      <td>has_elevator</td>\n",
       "      <td>0.061696</td>\n",
       "      <td>-0.278231</td>\n",
       "      <td>0.095867</td>\n",
       "      <td>0.029836</td>\n",
       "      <td>-0.362939</td>\n",
       "      <td>0.167685</td>\n",
       "      <td>-0.182011</td>\n",
       "      <td>-0.326176</td>\n",
       "      <td>-0.351657</td>\n",
       "      <td>0.560443</td>\n",
       "      <td>...</td>\n",
       "      <td>0.203386</td>\n",
       "      <td>0.392328</td>\n",
       "      <td>0.409244</td>\n",
       "      <td>0.526443</td>\n",
       "      <td>0.273776</td>\n",
       "      <td>0.099298</td>\n",
       "      <td>0.304430</td>\n",
       "      <td>0.238692</td>\n",
       "      <td>0.228047</td>\n",
       "      <td>0.453474</td>\n",
       "    </tr>\n",
       "    <tr>\n",
       "      <td>has_fireplace</td>\n",
       "      <td>-0.031611</td>\n",
       "      <td>0.049998</td>\n",
       "      <td>0.124532</td>\n",
       "      <td>0.155044</td>\n",
       "      <td>-0.072233</td>\n",
       "      <td>0.019505</td>\n",
       "      <td>-0.070451</td>\n",
       "      <td>-0.084767</td>\n",
       "      <td>-0.081656</td>\n",
       "      <td>-0.024808</td>\n",
       "      <td>...</td>\n",
       "      <td>0.088507</td>\n",
       "      <td>-0.030127</td>\n",
       "      <td>-0.013023</td>\n",
       "      <td>-0.025240</td>\n",
       "      <td>0.000800</td>\n",
       "      <td>0.049034</td>\n",
       "      <td>-0.010935</td>\n",
       "      <td>0.163483</td>\n",
       "      <td>-0.052129</td>\n",
       "      <td>-0.008051</td>\n",
       "    </tr>\n",
       "    <tr>\n",
       "      <td>has_dishwasher</td>\n",
       "      <td>0.023323</td>\n",
       "      <td>0.046002</td>\n",
       "      <td>0.161132</td>\n",
       "      <td>0.111761</td>\n",
       "      <td>-0.166108</td>\n",
       "      <td>0.078029</td>\n",
       "      <td>-0.138343</td>\n",
       "      <td>-0.173532</td>\n",
       "      <td>-0.185248</td>\n",
       "      <td>0.229530</td>\n",
       "      <td>...</td>\n",
       "      <td>0.334376</td>\n",
       "      <td>0.212473</td>\n",
       "      <td>0.286309</td>\n",
       "      <td>0.258104</td>\n",
       "      <td>0.112804</td>\n",
       "      <td>0.089919</td>\n",
       "      <td>0.121131</td>\n",
       "      <td>0.187002</td>\n",
       "      <td>0.276597</td>\n",
       "      <td>0.172159</td>\n",
       "    </tr>\n",
       "    <tr>\n",
       "      <td>is_furnished</td>\n",
       "      <td>-0.012521</td>\n",
       "      <td>-0.046021</td>\n",
       "      <td>0.050068</td>\n",
       "      <td>0.041965</td>\n",
       "      <td>-0.135857</td>\n",
       "      <td>0.054610</td>\n",
       "      <td>-0.085478</td>\n",
       "      <td>-0.131706</td>\n",
       "      <td>-0.132950</td>\n",
       "      <td>0.112042</td>\n",
       "      <td>...</td>\n",
       "      <td>0.086711</td>\n",
       "      <td>-0.002425</td>\n",
       "      <td>0.058287</td>\n",
       "      <td>0.076347</td>\n",
       "      <td>0.054185</td>\n",
       "      <td>0.034308</td>\n",
       "      <td>0.059076</td>\n",
       "      <td>0.133343</td>\n",
       "      <td>-0.028827</td>\n",
       "      <td>0.090309</td>\n",
       "    </tr>\n",
       "    <tr>\n",
       "      <td>has_gym</td>\n",
       "      <td>0.004550</td>\n",
       "      <td>-0.206094</td>\n",
       "      <td>0.113062</td>\n",
       "      <td>0.022605</td>\n",
       "      <td>-0.287916</td>\n",
       "      <td>0.115376</td>\n",
       "      <td>-0.224737</td>\n",
       "      <td>-0.263453</td>\n",
       "      <td>-0.292240</td>\n",
       "      <td>0.633673</td>\n",
       "      <td>...</td>\n",
       "      <td>0.292996</td>\n",
       "      <td>0.432486</td>\n",
       "      <td>0.535142</td>\n",
       "      <td>0.664979</td>\n",
       "      <td>0.394261</td>\n",
       "      <td>0.169583</td>\n",
       "      <td>0.460646</td>\n",
       "      <td>0.248213</td>\n",
       "      <td>0.285377</td>\n",
       "      <td>0.518792</td>\n",
       "    </tr>\n",
       "    <tr>\n",
       "      <td>allows_pets</td>\n",
       "      <td>0.040899</td>\n",
       "      <td>0.023819</td>\n",
       "      <td>0.087348</td>\n",
       "      <td>0.032325</td>\n",
       "      <td>-0.115378</td>\n",
       "      <td>0.015503</td>\n",
       "      <td>-0.153365</td>\n",
       "      <td>-0.144695</td>\n",
       "      <td>-0.160086</td>\n",
       "      <td>0.205669</td>\n",
       "      <td>...</td>\n",
       "      <td>0.177554</td>\n",
       "      <td>0.180943</td>\n",
       "      <td>0.270345</td>\n",
       "      <td>0.266168</td>\n",
       "      <td>0.093398</td>\n",
       "      <td>0.130835</td>\n",
       "      <td>0.162443</td>\n",
       "      <td>0.149247</td>\n",
       "      <td>0.271594</td>\n",
       "      <td>0.175281</td>\n",
       "    </tr>\n",
       "    <tr>\n",
       "      <td>has_washer_dryer</td>\n",
       "      <td>-0.030651</td>\n",
       "      <td>0.117120</td>\n",
       "      <td>0.298722</td>\n",
       "      <td>0.263907</td>\n",
       "      <td>-0.113234</td>\n",
       "      <td>0.013967</td>\n",
       "      <td>-0.165555</td>\n",
       "      <td>-0.119801</td>\n",
       "      <td>-0.137143</td>\n",
       "      <td>0.177199</td>\n",
       "      <td>...</td>\n",
       "      <td>1.000000</td>\n",
       "      <td>0.088676</td>\n",
       "      <td>0.239291</td>\n",
       "      <td>0.268367</td>\n",
       "      <td>0.106097</td>\n",
       "      <td>0.121955</td>\n",
       "      <td>0.191961</td>\n",
       "      <td>0.343123</td>\n",
       "      <td>0.120897</td>\n",
       "      <td>0.154859</td>\n",
       "    </tr>\n",
       "    <tr>\n",
       "      <td>has_garage</td>\n",
       "      <td>0.099141</td>\n",
       "      <td>-0.116837</td>\n",
       "      <td>0.051650</td>\n",
       "      <td>0.005959</td>\n",
       "      <td>-0.116047</td>\n",
       "      <td>0.057687</td>\n",
       "      <td>-0.055615</td>\n",
       "      <td>-0.089042</td>\n",
       "      <td>-0.109457</td>\n",
       "      <td>0.380581</td>\n",
       "      <td>...</td>\n",
       "      <td>0.088676</td>\n",
       "      <td>1.000000</td>\n",
       "      <td>0.295535</td>\n",
       "      <td>0.383031</td>\n",
       "      <td>0.323507</td>\n",
       "      <td>0.148442</td>\n",
       "      <td>0.244646</td>\n",
       "      <td>0.095437</td>\n",
       "      <td>0.180798</td>\n",
       "      <td>0.311203</td>\n",
       "    </tr>\n",
       "    <tr>\n",
       "      <td>has_roofdeck</td>\n",
       "      <td>-0.012773</td>\n",
       "      <td>-0.085111</td>\n",
       "      <td>0.102592</td>\n",
       "      <td>0.026781</td>\n",
       "      <td>-0.107670</td>\n",
       "      <td>-0.000782</td>\n",
       "      <td>-0.168426</td>\n",
       "      <td>-0.112548</td>\n",
       "      <td>-0.135245</td>\n",
       "      <td>0.361168</td>\n",
       "      <td>...</td>\n",
       "      <td>0.239291</td>\n",
       "      <td>0.295535</td>\n",
       "      <td>1.000000</td>\n",
       "      <td>0.413147</td>\n",
       "      <td>0.193187</td>\n",
       "      <td>0.166055</td>\n",
       "      <td>0.297292</td>\n",
       "      <td>0.174243</td>\n",
       "      <td>0.260231</td>\n",
       "      <td>0.291481</td>\n",
       "    </tr>\n",
       "    <tr>\n",
       "      <td>has_concierge</td>\n",
       "      <td>-0.060398</td>\n",
       "      <td>-0.202524</td>\n",
       "      <td>0.105276</td>\n",
       "      <td>0.040962</td>\n",
       "      <td>-0.354300</td>\n",
       "      <td>0.146865</td>\n",
       "      <td>-0.270704</td>\n",
       "      <td>-0.323696</td>\n",
       "      <td>-0.346828</td>\n",
       "      <td>0.655252</td>\n",
       "      <td>...</td>\n",
       "      <td>0.268367</td>\n",
       "      <td>0.383031</td>\n",
       "      <td>0.413147</td>\n",
       "      <td>1.000000</td>\n",
       "      <td>0.342509</td>\n",
       "      <td>0.179550</td>\n",
       "      <td>0.475757</td>\n",
       "      <td>0.260079</td>\n",
       "      <td>0.210697</td>\n",
       "      <td>0.535699</td>\n",
       "    </tr>\n",
       "    <tr>\n",
       "      <td>has_pool</td>\n",
       "      <td>0.038340</td>\n",
       "      <td>-0.091116</td>\n",
       "      <td>0.089527</td>\n",
       "      <td>0.051020</td>\n",
       "      <td>-0.193333</td>\n",
       "      <td>0.104243</td>\n",
       "      <td>-0.100606</td>\n",
       "      <td>-0.182156</td>\n",
       "      <td>-0.193851</td>\n",
       "      <td>0.498138</td>\n",
       "      <td>...</td>\n",
       "      <td>0.106097</td>\n",
       "      <td>0.323507</td>\n",
       "      <td>0.193187</td>\n",
       "      <td>0.342509</td>\n",
       "      <td>1.000000</td>\n",
       "      <td>0.088873</td>\n",
       "      <td>0.367574</td>\n",
       "      <td>0.170412</td>\n",
       "      <td>0.065794</td>\n",
       "      <td>0.398257</td>\n",
       "    </tr>\n",
       "    <tr>\n",
       "      <td>has_garden</td>\n",
       "      <td>0.064100</td>\n",
       "      <td>0.048234</td>\n",
       "      <td>0.104741</td>\n",
       "      <td>0.137652</td>\n",
       "      <td>-0.006699</td>\n",
       "      <td>0.000178</td>\n",
       "      <td>-0.038981</td>\n",
       "      <td>-0.007928</td>\n",
       "      <td>-0.021434</td>\n",
       "      <td>0.084536</td>\n",
       "      <td>...</td>\n",
       "      <td>0.121955</td>\n",
       "      <td>0.148442</td>\n",
       "      <td>0.166055</td>\n",
       "      <td>0.179550</td>\n",
       "      <td>0.088873</td>\n",
       "      <td>1.000000</td>\n",
       "      <td>0.247550</td>\n",
       "      <td>0.138419</td>\n",
       "      <td>0.053346</td>\n",
       "      <td>0.062580</td>\n",
       "    </tr>\n",
       "    <tr>\n",
       "      <td>has_childrens_playroom</td>\n",
       "      <td>0.011357</td>\n",
       "      <td>-0.083456</td>\n",
       "      <td>0.111949</td>\n",
       "      <td>0.068867</td>\n",
       "      <td>-0.162588</td>\n",
       "      <td>0.066387</td>\n",
       "      <td>-0.140828</td>\n",
       "      <td>-0.144938</td>\n",
       "      <td>-0.169315</td>\n",
       "      <td>0.395460</td>\n",
       "      <td>...</td>\n",
       "      <td>0.191961</td>\n",
       "      <td>0.244646</td>\n",
       "      <td>0.297292</td>\n",
       "      <td>0.475757</td>\n",
       "      <td>0.367574</td>\n",
       "      <td>0.247550</td>\n",
       "      <td>1.000000</td>\n",
       "      <td>0.193130</td>\n",
       "      <td>0.087075</td>\n",
       "      <td>0.322977</td>\n",
       "    </tr>\n",
       "    <tr>\n",
       "      <td>rent</td>\n",
       "      <td>-0.035145</td>\n",
       "      <td>0.353337</td>\n",
       "      <td>0.611987</td>\n",
       "      <td>0.649984</td>\n",
       "      <td>-0.325241</td>\n",
       "      <td>0.109536</td>\n",
       "      <td>-0.262711</td>\n",
       "      <td>-0.332165</td>\n",
       "      <td>-0.339157</td>\n",
       "      <td>0.253517</td>\n",
       "      <td>...</td>\n",
       "      <td>0.343123</td>\n",
       "      <td>0.095437</td>\n",
       "      <td>0.174243</td>\n",
       "      <td>0.260079</td>\n",
       "      <td>0.170412</td>\n",
       "      <td>0.138419</td>\n",
       "      <td>0.193130</td>\n",
       "      <td>1.000000</td>\n",
       "      <td>-0.001163</td>\n",
       "      <td>0.267151</td>\n",
       "    </tr>\n",
       "    <tr>\n",
       "      <td>no_fee</td>\n",
       "      <td>0.052429</td>\n",
       "      <td>-0.004335</td>\n",
       "      <td>-0.003053</td>\n",
       "      <td>-0.074162</td>\n",
       "      <td>-0.066025</td>\n",
       "      <td>0.002401</td>\n",
       "      <td>-0.041091</td>\n",
       "      <td>-0.111486</td>\n",
       "      <td>-0.126716</td>\n",
       "      <td>0.185316</td>\n",
       "      <td>...</td>\n",
       "      <td>0.120897</td>\n",
       "      <td>0.180798</td>\n",
       "      <td>0.260231</td>\n",
       "      <td>0.210697</td>\n",
       "      <td>0.065794</td>\n",
       "      <td>0.053346</td>\n",
       "      <td>0.087075</td>\n",
       "      <td>-0.001163</td>\n",
       "      <td>1.000000</td>\n",
       "      <td>0.157909</td>\n",
       "    </tr>\n",
       "    <tr>\n",
       "      <td>floornumber</td>\n",
       "      <td>-0.003418</td>\n",
       "      <td>-0.158895</td>\n",
       "      <td>0.116938</td>\n",
       "      <td>0.054328</td>\n",
       "      <td>-0.376063</td>\n",
       "      <td>0.170598</td>\n",
       "      <td>-0.239193</td>\n",
       "      <td>-0.350957</td>\n",
       "      <td>-0.367065</td>\n",
       "      <td>0.769707</td>\n",
       "      <td>...</td>\n",
       "      <td>0.154859</td>\n",
       "      <td>0.311203</td>\n",
       "      <td>0.291481</td>\n",
       "      <td>0.535699</td>\n",
       "      <td>0.398257</td>\n",
       "      <td>0.062580</td>\n",
       "      <td>0.322977</td>\n",
       "      <td>0.267151</td>\n",
       "      <td>0.157909</td>\n",
       "      <td>1.000000</td>\n",
       "    </tr>\n",
       "  </tbody>\n",
       "</table>\n",
       "<p>29 rows × 29 columns</p>\n",
       "</div>"
      ],
      "text/plain": [
       "                        building_id  bedrooms  bathrooms  size_sqft  addr_zip  \\\n",
       "building_id                1.000000 -0.001813  -0.016501  -0.006433  0.064199   \n",
       "bedrooms                  -0.001813  1.000000   0.464287   0.525537  0.187639   \n",
       "bathrooms                 -0.016501  0.464287   1.000000   0.565788 -0.088524   \n",
       "size_sqft                 -0.006433  0.525537   0.565788   1.000000  0.000576   \n",
       "addr_zip                   0.064199  0.187639  -0.088524   0.000576  1.000000   \n",
       "addr_lat                  -0.008653 -0.114986   0.028441  -0.037717 -0.577385   \n",
       "addr_lon                   0.105315  0.093089  -0.062992  -0.035054  0.462277   \n",
       "bin                        0.117460  0.142331  -0.100642  -0.013148  0.950995   \n",
       "bbl                        0.090194  0.151078  -0.106358  -0.011608  0.952018   \n",
       "floor_count               -0.116488 -0.228858   0.091489   0.020547 -0.447352   \n",
       "year_built                 0.026593 -0.056614  -0.004480  -0.021524 -0.004916   \n",
       "min_to_subway             -0.006980  0.014171   0.017966   0.007718  0.023660   \n",
       "has_doorman               -0.042830 -0.233059   0.108987   0.047766 -0.410034   \n",
       "has_elevator               0.061696 -0.278231   0.095867   0.029836 -0.362939   \n",
       "has_fireplace             -0.031611  0.049998   0.124532   0.155044 -0.072233   \n",
       "has_dishwasher             0.023323  0.046002   0.161132   0.111761 -0.166108   \n",
       "is_furnished              -0.012521 -0.046021   0.050068   0.041965 -0.135857   \n",
       "has_gym                    0.004550 -0.206094   0.113062   0.022605 -0.287916   \n",
       "allows_pets                0.040899  0.023819   0.087348   0.032325 -0.115378   \n",
       "has_washer_dryer          -0.030651  0.117120   0.298722   0.263907 -0.113234   \n",
       "has_garage                 0.099141 -0.116837   0.051650   0.005959 -0.116047   \n",
       "has_roofdeck              -0.012773 -0.085111   0.102592   0.026781 -0.107670   \n",
       "has_concierge             -0.060398 -0.202524   0.105276   0.040962 -0.354300   \n",
       "has_pool                   0.038340 -0.091116   0.089527   0.051020 -0.193333   \n",
       "has_garden                 0.064100  0.048234   0.104741   0.137652 -0.006699   \n",
       "has_childrens_playroom     0.011357 -0.083456   0.111949   0.068867 -0.162588   \n",
       "rent                      -0.035145  0.353337   0.611987   0.649984 -0.325241   \n",
       "no_fee                     0.052429 -0.004335  -0.003053  -0.074162 -0.066025   \n",
       "floornumber               -0.003418 -0.158895   0.116938   0.054328 -0.376063   \n",
       "\n",
       "                        addr_lat  addr_lon       bin       bbl  floor_count  \\\n",
       "building_id            -0.008653  0.105315  0.117460  0.090194    -0.116488   \n",
       "bedrooms               -0.114986  0.093089  0.142331  0.151078    -0.228858   \n",
       "bathrooms               0.028441 -0.062992 -0.100642 -0.106358     0.091489   \n",
       "size_sqft              -0.037717 -0.035054 -0.013148 -0.011608     0.020547   \n",
       "addr_zip               -0.577385  0.462277  0.950995  0.952018    -0.447352   \n",
       "addr_lat                1.000000  0.219029 -0.429858 -0.424711     0.195647   \n",
       "addr_lon                0.219029  1.000000  0.554511  0.563806    -0.281790   \n",
       "bin                    -0.429858  0.554511  1.000000  0.994155    -0.426813   \n",
       "bbl                    -0.424711  0.563806  0.994155  1.000000    -0.442496   \n",
       "floor_count             0.195647 -0.281790 -0.426813 -0.442496     1.000000   \n",
       "year_built             -0.002415 -0.003623  0.010451  0.005694     0.151318   \n",
       "min_to_subway          -0.026215 -0.012528  0.021091  0.015880    -0.011722   \n",
       "has_doorman             0.191486 -0.259673 -0.380284 -0.403373     0.664202   \n",
       "has_elevator            0.167685 -0.182011 -0.326176 -0.351657     0.560443   \n",
       "has_fireplace           0.019505 -0.070451 -0.084767 -0.081656    -0.024808   \n",
       "has_dishwasher          0.078029 -0.138343 -0.173532 -0.185248     0.229530   \n",
       "is_furnished            0.054610 -0.085478 -0.131706 -0.132950     0.112042   \n",
       "has_gym                 0.115376 -0.224737 -0.263453 -0.292240     0.633673   \n",
       "allows_pets             0.015503 -0.153365 -0.144695 -0.160086     0.205669   \n",
       "has_washer_dryer        0.013967 -0.165555 -0.119801 -0.137143     0.177199   \n",
       "has_garage              0.057687 -0.055615 -0.089042 -0.109457     0.380581   \n",
       "has_roofdeck           -0.000782 -0.168426 -0.112548 -0.135245     0.361168   \n",
       "has_concierge           0.146865 -0.270704 -0.323696 -0.346828     0.655252   \n",
       "has_pool                0.104243 -0.100606 -0.182156 -0.193851     0.498138   \n",
       "has_garden              0.000178 -0.038981 -0.007928 -0.021434     0.084536   \n",
       "has_childrens_playroom  0.066387 -0.140828 -0.144938 -0.169315     0.395460   \n",
       "rent                    0.109536 -0.262711 -0.332165 -0.339157     0.253517   \n",
       "no_fee                  0.002401 -0.041091 -0.111486 -0.126716     0.185316   \n",
       "floornumber             0.170598 -0.239193 -0.350957 -0.367065     0.769707   \n",
       "\n",
       "                        ...  has_washer_dryer  has_garage  has_roofdeck  \\\n",
       "building_id             ...         -0.030651    0.099141     -0.012773   \n",
       "bedrooms                ...          0.117120   -0.116837     -0.085111   \n",
       "bathrooms               ...          0.298722    0.051650      0.102592   \n",
       "size_sqft               ...          0.263907    0.005959      0.026781   \n",
       "addr_zip                ...         -0.113234   -0.116047     -0.107670   \n",
       "addr_lat                ...          0.013967    0.057687     -0.000782   \n",
       "addr_lon                ...         -0.165555   -0.055615     -0.168426   \n",
       "bin                     ...         -0.119801   -0.089042     -0.112548   \n",
       "bbl                     ...         -0.137143   -0.109457     -0.135245   \n",
       "floor_count             ...          0.177199    0.380581      0.361168   \n",
       "year_built              ...          0.006949    0.084148      0.082307   \n",
       "min_to_subway           ...          0.035343    0.031686      0.006643   \n",
       "has_doorman             ...          0.248036    0.406196      0.421955   \n",
       "has_elevator            ...          0.203386    0.392328      0.409244   \n",
       "has_fireplace           ...          0.088507   -0.030127     -0.013023   \n",
       "has_dishwasher          ...          0.334376    0.212473      0.286309   \n",
       "is_furnished            ...          0.086711   -0.002425      0.058287   \n",
       "has_gym                 ...          0.292996    0.432486      0.535142   \n",
       "allows_pets             ...          0.177554    0.180943      0.270345   \n",
       "has_washer_dryer        ...          1.000000    0.088676      0.239291   \n",
       "has_garage              ...          0.088676    1.000000      0.295535   \n",
       "has_roofdeck            ...          0.239291    0.295535      1.000000   \n",
       "has_concierge           ...          0.268367    0.383031      0.413147   \n",
       "has_pool                ...          0.106097    0.323507      0.193187   \n",
       "has_garden              ...          0.121955    0.148442      0.166055   \n",
       "has_childrens_playroom  ...          0.191961    0.244646      0.297292   \n",
       "rent                    ...          0.343123    0.095437      0.174243   \n",
       "no_fee                  ...          0.120897    0.180798      0.260231   \n",
       "floornumber             ...          0.154859    0.311203      0.291481   \n",
       "\n",
       "                        has_concierge  has_pool  has_garden  \\\n",
       "building_id                 -0.060398  0.038340    0.064100   \n",
       "bedrooms                    -0.202524 -0.091116    0.048234   \n",
       "bathrooms                    0.105276  0.089527    0.104741   \n",
       "size_sqft                    0.040962  0.051020    0.137652   \n",
       "addr_zip                    -0.354300 -0.193333   -0.006699   \n",
       "addr_lat                     0.146865  0.104243    0.000178   \n",
       "addr_lon                    -0.270704 -0.100606   -0.038981   \n",
       "bin                         -0.323696 -0.182156   -0.007928   \n",
       "bbl                         -0.346828 -0.193851   -0.021434   \n",
       "floor_count                  0.655252  0.498138    0.084536   \n",
       "year_built                   0.085210  0.051083    0.006335   \n",
       "min_to_subway               -0.013324 -0.007238    0.009395   \n",
       "has_doorman                  0.668138  0.340186    0.142268   \n",
       "has_elevator                 0.526443  0.273776    0.099298   \n",
       "has_fireplace               -0.025240  0.000800    0.049034   \n",
       "has_dishwasher               0.258104  0.112804    0.089919   \n",
       "is_furnished                 0.076347  0.054185    0.034308   \n",
       "has_gym                      0.664979  0.394261    0.169583   \n",
       "allows_pets                  0.266168  0.093398    0.130835   \n",
       "has_washer_dryer             0.268367  0.106097    0.121955   \n",
       "has_garage                   0.383031  0.323507    0.148442   \n",
       "has_roofdeck                 0.413147  0.193187    0.166055   \n",
       "has_concierge                1.000000  0.342509    0.179550   \n",
       "has_pool                     0.342509  1.000000    0.088873   \n",
       "has_garden                   0.179550  0.088873    1.000000   \n",
       "has_childrens_playroom       0.475757  0.367574    0.247550   \n",
       "rent                         0.260079  0.170412    0.138419   \n",
       "no_fee                       0.210697  0.065794    0.053346   \n",
       "floornumber                  0.535699  0.398257    0.062580   \n",
       "\n",
       "                        has_childrens_playroom      rent    no_fee  \\\n",
       "building_id                           0.011357 -0.035145  0.052429   \n",
       "bedrooms                             -0.083456  0.353337 -0.004335   \n",
       "bathrooms                             0.111949  0.611987 -0.003053   \n",
       "size_sqft                             0.068867  0.649984 -0.074162   \n",
       "addr_zip                             -0.162588 -0.325241 -0.066025   \n",
       "addr_lat                              0.066387  0.109536  0.002401   \n",
       "addr_lon                             -0.140828 -0.262711 -0.041091   \n",
       "bin                                  -0.144938 -0.332165 -0.111486   \n",
       "bbl                                  -0.169315 -0.339157 -0.126716   \n",
       "floor_count                           0.395460  0.253517  0.185316   \n",
       "year_built                            0.051941 -0.001037  0.049746   \n",
       "min_to_subway                        -0.007989  0.000010 -0.005945   \n",
       "has_doorman                           0.345234  0.273486  0.252027   \n",
       "has_elevator                          0.304430  0.238692  0.228047   \n",
       "has_fireplace                        -0.010935  0.163483 -0.052129   \n",
       "has_dishwasher                        0.121131  0.187002  0.276597   \n",
       "is_furnished                          0.059076  0.133343 -0.028827   \n",
       "has_gym                               0.460646  0.248213  0.285377   \n",
       "allows_pets                           0.162443  0.149247  0.271594   \n",
       "has_washer_dryer                      0.191961  0.343123  0.120897   \n",
       "has_garage                            0.244646  0.095437  0.180798   \n",
       "has_roofdeck                          0.297292  0.174243  0.260231   \n",
       "has_concierge                         0.475757  0.260079  0.210697   \n",
       "has_pool                              0.367574  0.170412  0.065794   \n",
       "has_garden                            0.247550  0.138419  0.053346   \n",
       "has_childrens_playroom                1.000000  0.193130  0.087075   \n",
       "rent                                  0.193130  1.000000 -0.001163   \n",
       "no_fee                                0.087075 -0.001163  1.000000   \n",
       "floornumber                           0.322977  0.267151  0.157909   \n",
       "\n",
       "                        floornumber  \n",
       "building_id               -0.003418  \n",
       "bedrooms                  -0.158895  \n",
       "bathrooms                  0.116938  \n",
       "size_sqft                  0.054328  \n",
       "addr_zip                  -0.376063  \n",
       "addr_lat                   0.170598  \n",
       "addr_lon                  -0.239193  \n",
       "bin                       -0.350957  \n",
       "bbl                       -0.367065  \n",
       "floor_count                0.769707  \n",
       "year_built                 0.095295  \n",
       "min_to_subway             -0.012333  \n",
       "has_doorman                0.523314  \n",
       "has_elevator               0.453474  \n",
       "has_fireplace             -0.008051  \n",
       "has_dishwasher             0.172159  \n",
       "is_furnished               0.090309  \n",
       "has_gym                    0.518792  \n",
       "allows_pets                0.175281  \n",
       "has_washer_dryer           0.154859  \n",
       "has_garage                 0.311203  \n",
       "has_roofdeck               0.291481  \n",
       "has_concierge              0.535699  \n",
       "has_pool                   0.398257  \n",
       "has_garden                 0.062580  \n",
       "has_childrens_playroom     0.322977  \n",
       "rent                       0.267151  \n",
       "no_fee                     0.157909  \n",
       "floornumber                1.000000  \n",
       "\n",
       "[29 rows x 29 columns]"
      ]
     },
     "execution_count": 11,
     "metadata": {},
     "output_type": "execute_result"
    }
   ],
   "source": [
    "train_df.corr()"
   ]
  },
  {
   "cell_type": "code",
   "execution_count": 12,
   "metadata": {
    "colab": {
     "base_uri": "https://localhost:8080/",
     "height": 284
    },
    "colab_type": "code",
    "id": "GcmLMpTPbvqA",
    "outputId": "1c10f33a-2bee-4d54-9551-69cfaa5d28f7"
   },
   "outputs": [
    {
     "data": {
      "text/html": [
       "<div>\n",
       "<style scoped>\n",
       "    .dataframe tbody tr th:only-of-type {\n",
       "        vertical-align: middle;\n",
       "    }\n",
       "\n",
       "    .dataframe tbody tr th {\n",
       "        vertical-align: top;\n",
       "    }\n",
       "\n",
       "    .dataframe thead th {\n",
       "        text-align: right;\n",
       "    }\n",
       "</style>\n",
       "<table border=\"1\" class=\"dataframe\">\n",
       "  <thead>\n",
       "    <tr style=\"text-align: right;\">\n",
       "      <th></th>\n",
       "      <th>bedrooms</th>\n",
       "      <th>bathrooms</th>\n",
       "      <th>min_to_subway</th>\n",
       "      <th>size_sqft</th>\n",
       "      <th>floornumber</th>\n",
       "      <th>year_built</th>\n",
       "      <th>has_doorman</th>\n",
       "      <th>rent</th>\n",
       "    </tr>\n",
       "  </thead>\n",
       "  <tbody>\n",
       "    <tr>\n",
       "      <td>bedrooms</td>\n",
       "      <td>1.000000</td>\n",
       "      <td>0.464287</td>\n",
       "      <td>0.014171</td>\n",
       "      <td>0.525537</td>\n",
       "      <td>-0.158895</td>\n",
       "      <td>-0.056614</td>\n",
       "      <td>-0.233059</td>\n",
       "      <td>0.353337</td>\n",
       "    </tr>\n",
       "    <tr>\n",
       "      <td>bathrooms</td>\n",
       "      <td>0.464287</td>\n",
       "      <td>1.000000</td>\n",
       "      <td>0.017966</td>\n",
       "      <td>0.565788</td>\n",
       "      <td>0.116938</td>\n",
       "      <td>-0.004480</td>\n",
       "      <td>0.108987</td>\n",
       "      <td>0.611987</td>\n",
       "    </tr>\n",
       "    <tr>\n",
       "      <td>min_to_subway</td>\n",
       "      <td>0.014171</td>\n",
       "      <td>0.017966</td>\n",
       "      <td>1.000000</td>\n",
       "      <td>0.007718</td>\n",
       "      <td>-0.012333</td>\n",
       "      <td>-0.031395</td>\n",
       "      <td>-0.016984</td>\n",
       "      <td>0.000010</td>\n",
       "    </tr>\n",
       "    <tr>\n",
       "      <td>size_sqft</td>\n",
       "      <td>0.525537</td>\n",
       "      <td>0.565788</td>\n",
       "      <td>0.007718</td>\n",
       "      <td>1.000000</td>\n",
       "      <td>0.054328</td>\n",
       "      <td>-0.021524</td>\n",
       "      <td>0.047766</td>\n",
       "      <td>0.649984</td>\n",
       "    </tr>\n",
       "    <tr>\n",
       "      <td>floornumber</td>\n",
       "      <td>-0.158895</td>\n",
       "      <td>0.116938</td>\n",
       "      <td>-0.012333</td>\n",
       "      <td>0.054328</td>\n",
       "      <td>1.000000</td>\n",
       "      <td>0.095295</td>\n",
       "      <td>0.523314</td>\n",
       "      <td>0.267151</td>\n",
       "    </tr>\n",
       "    <tr>\n",
       "      <td>year_built</td>\n",
       "      <td>-0.056614</td>\n",
       "      <td>-0.004480</td>\n",
       "      <td>-0.031395</td>\n",
       "      <td>-0.021524</td>\n",
       "      <td>0.095295</td>\n",
       "      <td>1.000000</td>\n",
       "      <td>0.094629</td>\n",
       "      <td>-0.001037</td>\n",
       "    </tr>\n",
       "    <tr>\n",
       "      <td>has_doorman</td>\n",
       "      <td>-0.233059</td>\n",
       "      <td>0.108987</td>\n",
       "      <td>-0.016984</td>\n",
       "      <td>0.047766</td>\n",
       "      <td>0.523314</td>\n",
       "      <td>0.094629</td>\n",
       "      <td>1.000000</td>\n",
       "      <td>0.273486</td>\n",
       "    </tr>\n",
       "    <tr>\n",
       "      <td>rent</td>\n",
       "      <td>0.353337</td>\n",
       "      <td>0.611987</td>\n",
       "      <td>0.000010</td>\n",
       "      <td>0.649984</td>\n",
       "      <td>0.267151</td>\n",
       "      <td>-0.001037</td>\n",
       "      <td>0.273486</td>\n",
       "      <td>1.000000</td>\n",
       "    </tr>\n",
       "  </tbody>\n",
       "</table>\n",
       "</div>"
      ],
      "text/plain": [
       "               bedrooms  bathrooms  min_to_subway  size_sqft  floornumber  \\\n",
       "bedrooms       1.000000   0.464287       0.014171   0.525537    -0.158895   \n",
       "bathrooms      0.464287   1.000000       0.017966   0.565788     0.116938   \n",
       "min_to_subway  0.014171   0.017966       1.000000   0.007718    -0.012333   \n",
       "size_sqft      0.525537   0.565788       0.007718   1.000000     0.054328   \n",
       "floornumber   -0.158895   0.116938      -0.012333   0.054328     1.000000   \n",
       "year_built    -0.056614  -0.004480      -0.031395  -0.021524     0.095295   \n",
       "has_doorman   -0.233059   0.108987      -0.016984   0.047766     0.523314   \n",
       "rent           0.353337   0.611987       0.000010   0.649984     0.267151   \n",
       "\n",
       "               year_built  has_doorman      rent  \n",
       "bedrooms        -0.056614    -0.233059  0.353337  \n",
       "bathrooms       -0.004480     0.108987  0.611987  \n",
       "min_to_subway   -0.031395    -0.016984  0.000010  \n",
       "size_sqft       -0.021524     0.047766  0.649984  \n",
       "floornumber      0.095295     0.523314  0.267151  \n",
       "year_built       1.000000     0.094629 -0.001037  \n",
       "has_doorman      0.094629     1.000000  0.273486  \n",
       "rent            -0.001037     0.273486  1.000000  "
      ]
     },
     "execution_count": 12,
     "metadata": {},
     "output_type": "execute_result"
    }
   ],
   "source": [
    "# calculate correlation matrix\n",
    "corr = train_df[[\"bedrooms\", \"bathrooms\", \"min_to_subway\", \"size_sqft\", \"floornumber\", \"year_built\",\"has_doorman\", \"rent\"]].corr()\n",
    "corr"
   ]
  },
  {
   "cell_type": "code",
   "execution_count": 13,
   "metadata": {
    "colab": {
     "base_uri": "https://localhost:8080/",
     "height": 336
    },
    "colab_type": "code",
    "id": "MwMJkeZRbvqC",
    "outputId": "0a12fe87-70b4-4895-ea8f-fb5a6c877dbf"
   },
   "outputs": [
    {
     "data": {
      "image/png": "[encoded data removed]",
      "text/plain": [
       "<Figure size 576x288 with 2 Axes>"
      ]
     },
     "metadata": {
      "needs_background": "light"
     },
     "output_type": "display_data"
    }
   ],
   "source": [
    "# visualize correlation matrix\n",
    "plt.subplots(figsize=(8,4))\n",
    "\n",
    "fig = sns.heatmap(corr, \n",
    "            xticklabels=corr.columns.values,\n",
    "            yticklabels=corr.columns.values, annot=True)\n",
    "\n"
   ]
  },
  {
   "cell_type": "code",
   "execution_count": 14,
   "metadata": {
    "colab": {
     "base_uri": "https://localhost:8080/",
     "height": 265
    },
    "colab_type": "code",
    "id": "Pe5SOF-Nr7kZ",
    "outputId": "2c98624a-b2ad-44b2-a18f-845132e37f22"
   },
   "outputs": [
    {
     "data": {
      "image/png": "[encoded data removed]",
      "text/plain": [
       "<Figure size 432x288 with 1 Axes>"
      ]
     },
     "metadata": {
      "needs_background": "light"
     },
     "output_type": "display_data"
    }
   ],
   "source": [
    "_ = plt.plot(train_df['rent'], train_df['size_sqft'], marker='.', linestyle='none')"
   ]
  },
  {
   "cell_type": "code",
   "execution_count": 15,
   "metadata": {
    "colab": {
     "base_uri": "https://localhost:8080/",
     "height": 265
    },
    "colab_type": "code",
    "id": "gqlfNGGctxXa",
    "outputId": "e3fddc4c-1627-421d-96f6-a532ded5b1fe"
   },
   "outputs": [
    {
     "data": {
      "image/png": "[encoded data removed]",
      "text/plain": [
       "<Figure size 432x288 with 1 Axes>"
      ]
     },
     "metadata": {
      "needs_background": "light"
     },
     "output_type": "display_data"
    }
   ],
   "source": [
    "_ = plt.plot(train_df['rent'], train_df['bathrooms'], marker='.', linestyle='none')"
   ]
  },
  {
   "cell_type": "code",
   "execution_count": 16,
   "metadata": {
    "colab": {
     "base_uri": "https://localhost:8080/",
     "height": 265
    },
    "colab_type": "code",
    "id": "8vhR-bRdzG0X",
    "outputId": "eb5f1f64-1161-4f4c-a8a7-ca3dc4330e16"
   },
   "outputs": [
    {
     "data": {
      "image/png": "[encoded data removed]",
      "text/plain": [
       "<Figure size 432x288 with 1 Axes>"
      ]
     },
     "metadata": {
      "needs_background": "light"
     },
     "output_type": "display_data"
    }
   ],
   "source": [
    "_ = plt.plot(train_df['rent'], train_df['bedrooms'], marker='.', linestyle='none')"
   ]
  },
  {
   "cell_type": "code",
   "execution_count": 17,
   "metadata": {
    "colab": {},
    "colab_type": "code",
    "id": "sB4zNUHzuY-G"
   },
   "outputs": [],
   "source": [
    "# extract usable features\n",
    "feature_cols = [\n",
    "    'bedrooms', 'year_built', 'bathrooms', 'min_to_subway', \n",
    "    'size_sqft', 'no_fee', 'has_doorman',  'has_washer_dryer', 'floornumber'\n",
    "]\n",
    "train_features = train_df[feature_cols] "
   ]
  },
  {
   "cell_type": "markdown",
   "metadata": {
    "colab_type": "text",
    "id": "LA2ArZzOlOek"
   },
   "source": [
    "Adding a new feature using existing data: Distance to Central Park. Idea: the closer to central park the more the rent. "
   ]
  },
  {
   "cell_type": "code",
   "execution_count": 18,
   "metadata": {
    "colab": {},
    "colab_type": "code",
    "id": "YzmUaQuYlNwy"
   },
   "outputs": [],
   "source": [
    "def deg2rad(deg):\n",
    "  return deg * (np.pi/180)\n",
    "\n",
    "def getDistanceFromLatLonInKm(lat1,lon1,lat2=40.78,lon2=-73.965):\n",
    "  R = 6371  # Radius of the earth in km\n",
    "  dLat = deg2rad(lat2-lat1) \n",
    "  dLon = deg2rad(lon2-lon1) \n",
    "  a = np.sin(dLat/2) * np.sin(dLat/2) + np.cos(deg2rad(lat1)) * np.cos(deg2rad(lat2)) * np.sin(dLon/2) * np.sin(dLon/2)\n",
    "  c = 2 * np.arctan2(np.sqrt(a), np.sqrt(1-a)) \n",
    "  d = R * c  # Distance in km\n",
    "  return d"
   ]
  },
  {
   "cell_type": "code",
   "execution_count": 19,
   "metadata": {
    "colab": {},
    "colab_type": "code",
    "id": "2WFLT4galaR8"
   },
   "outputs": [],
   "source": [
    "train_df['dist_centralPark'] = getDistanceFromLatLonInKm(train_df['addr_lat'], train_df['addr_lon'])\n",
    "test_df['dist_centralPark'] = getDistanceFromLatLonInKm(test_df['addr_lat'], test_df['addr_lon'])"
   ]
  },
  {
   "cell_type": "code",
   "execution_count": 20,
   "metadata": {
    "colab": {
     "base_uri": "https://localhost:8080/",
     "height": 386
    },
    "colab_type": "code",
    "id": "BflWgnb7lar9",
    "outputId": "ab47d377-9a24-4adb-be7b-a2a7ff20f52a"
   },
   "outputs": [
    {
     "data": {
      "text/plain": [
       "rental_id\n",
       "7236931    14.796742\n",
       "7331920     7.806511\n",
       "7139224     2.743952\n",
       "7364827     3.660724\n",
       "7242151    11.126183\n",
       "7171210     2.331770\n",
       "7286986     7.900183\n",
       "7418503     2.803593\n",
       "7304773     3.370226\n",
       "7180240     2.530775\n",
       "7199509     6.520788\n",
       "7374106     7.727537\n",
       "7211146     5.455471\n",
       "7205032     9.249498\n",
       "7303381     6.165054\n",
       "7257553    10.045174\n",
       "7371094     9.455008\n",
       "7386616    19.309963\n",
       "7161667     1.416285\n",
       "7256881     1.781116\n",
       "Name: dist_centralPark, dtype: float64"
      ]
     },
     "execution_count": 20,
     "metadata": {},
     "output_type": "execute_result"
    }
   ],
   "source": [
    "train_df['dist_centralPark'].head(20)"
   ]
  },
  {
   "cell_type": "code",
   "execution_count": 21,
   "metadata": {
    "colab": {
     "base_uri": "https://localhost:8080/",
     "height": 265
    },
    "colab_type": "code",
    "id": "ChbpI5i1qwgY",
    "outputId": "4274f067-1f76-4caa-e406-2aa44b9657ab"
   },
   "outputs": [
    {
     "data": {
      "image/png": "[encoded data removed]",
      "text/plain": [
       "<Figure size 432x288 with 1 Axes>"
      ]
     },
     "metadata": {
      "needs_background": "light"
     },
     "output_type": "display_data"
    }
   ],
   "source": [
    "_ = plt.plot(train_df['rent'], train_df['dist_centralPark'], marker='.', linestyle='none')\n",
    "#plt.xlim(0, 10000)\n",
    "# not really a correlation"
   ]
  },
  {
   "cell_type": "code",
   "execution_count": 22,
   "metadata": {
    "colab": {},
    "colab_type": "code",
    "id": "jdW_8pIAbvqn"
   },
   "outputs": [],
   "source": [
    "def deg2rad(deg):\n",
    "  return deg * (np.pi/180)\n",
    "\n",
    "def getDistanceFromLatLonInKm2(lat1,lon1,lat2=40.758,lon2=-73.9855):\n",
    "  R = 6371  # Radius of the earth in km\n",
    "  dLat = deg2rad(lat2-lat1) \n",
    "  dLon = deg2rad(lon2-lon1) \n",
    "  a = np.sin(dLat/2) * np.sin(dLat/2) + np.cos(deg2rad(lat1)) * np.cos(deg2rad(lat2)) * np.sin(dLon/2) * np.sin(dLon/2)\n",
    "  c = 2 * np.arctan2(np.sqrt(a), np.sqrt(1-a)) \n",
    "  d = R * c  # Distance in km\n",
    "  return d"
   ]
  },
  {
   "cell_type": "code",
   "execution_count": 23,
   "metadata": {
    "colab": {},
    "colab_type": "code",
    "id": "bPWpgzbbbvqt"
   },
   "outputs": [],
   "source": [
    "train_df['dist_timeSquare'] = getDistanceFromLatLonInKm2(train_df['addr_lat'], train_df['addr_lon'])\n",
    "test_df['dist_timeSquare'] = getDistanceFromLatLonInKm2(test_df['addr_lat'], test_df['addr_lon'])"
   ]
  },
  {
   "cell_type": "code",
   "execution_count": 24,
   "metadata": {
    "colab": {
     "base_uri": "https://localhost:8080/",
     "height": 386
    },
    "colab_type": "code",
    "id": "JXcdVEtfbvqw",
    "outputId": "539370b1-4ac2-4854-bad8-780ee886de5f"
   },
   "outputs": [
    {
     "data": {
      "text/plain": [
       "rental_id\n",
       "7236931    12.529424\n",
       "7331920     4.882349\n",
       "7139224     1.535301\n",
       "7364827     0.747939\n",
       "7242151     9.213716\n",
       "7171210     5.180434\n",
       "7286986     8.966177\n",
       "7418503     4.594814\n",
       "7304773     1.008166\n",
       "7180240     1.543220\n",
       "7199509     7.190453\n",
       "7374106     5.890000\n",
       "7211146     8.381801\n",
       "7205032     8.244336\n",
       "7303381     9.016044\n",
       "7257553     8.325541\n",
       "7371094     7.129432\n",
       "7386616    16.851094\n",
       "7161667     2.554158\n",
       "7256881     4.394017\n",
       "Name: dist_timeSquare, dtype: float64"
      ]
     },
     "execution_count": 24,
     "metadata": {},
     "output_type": "execute_result"
    }
   ],
   "source": [
    "train_df['dist_timeSquare'].head(20)"
   ]
  },
  {
   "cell_type": "code",
   "execution_count": 25,
   "metadata": {
    "colab": {
     "base_uri": "https://localhost:8080/",
     "height": 282
    },
    "colab_type": "code",
    "id": "9QHQGdfWbvqy",
    "outputId": "c182a12d-119e-403f-8899-32d33b02775e"
   },
   "outputs": [
    {
     "data": {
      "text/plain": [
       "(0, 10000)"
      ]
     },
     "execution_count": 25,
     "metadata": {},
     "output_type": "execute_result"
    },
    {
     "data": {
      "image/png": "[encoded data removed]",
      "text/plain": [
       "<Figure size 432x288 with 1 Axes>"
      ]
     },
     "metadata": {
      "needs_background": "light"
     },
     "output_type": "display_data"
    }
   ],
   "source": [
    "_ = plt.plot(train_df['rent'], train_df['dist_timeSquare'], marker='.', linestyle='none')\n",
    "plt.xlim(0, 10000)\n",
    "# not really a correlation"
   ]
  },
  {
   "cell_type": "code",
   "execution_count": 26,
   "metadata": {
    "colab": {},
    "colab_type": "code",
    "id": "ULHSTUb6-PoS"
   },
   "outputs": [],
   "source": [
    "df1 = pd.read_csv('TaxData.csv')"
   ]
  },
  {
   "cell_type": "code",
   "execution_count": 27,
   "metadata": {
    "colab": {
     "base_uri": "https://localhost:8080/",
     "height": 442
    },
    "colab_type": "code",
    "id": "wO-ggKw8-U0q",
    "outputId": "f96af4bf-d20f-49ba-f5e6-6d93a20037fb"
   },
   "outputs": [
    {
     "data": {
      "text/html": [
       "<div>\n",
       "<style scoped>\n",
       "    .dataframe tbody tr th:only-of-type {\n",
       "        vertical-align: middle;\n",
       "    }\n",
       "\n",
       "    .dataframe tbody tr th {\n",
       "        vertical-align: top;\n",
       "    }\n",
       "\n",
       "    .dataframe thead th {\n",
       "        text-align: right;\n",
       "    }\n",
       "</style>\n",
       "<table border=\"1\" class=\"dataframe\">\n",
       "  <thead>\n",
       "    <tr style=\"text-align: right;\">\n",
       "      <th></th>\n",
       "      <th>STATEFIPS</th>\n",
       "      <th>STATE</th>\n",
       "      <th>ZIPCODE</th>\n",
       "      <th>AGI_STUB</th>\n",
       "      <th>N1</th>\n",
       "      <th>MARS1</th>\n",
       "      <th>MARS2</th>\n",
       "      <th>MARS4</th>\n",
       "      <th>ELF</th>\n",
       "      <th>CPREP</th>\n",
       "      <th>...</th>\n",
       "      <th>N85300</th>\n",
       "      <th>A85300</th>\n",
       "      <th>N11901</th>\n",
       "      <th>A11901</th>\n",
       "      <th>N11900</th>\n",
       "      <th>A11900</th>\n",
       "      <th>N11902</th>\n",
       "      <th>A11902</th>\n",
       "      <th>N12000</th>\n",
       "      <th>A12000</th>\n",
       "    </tr>\n",
       "  </thead>\n",
       "  <tbody>\n",
       "    <tr>\n",
       "      <td>0</td>\n",
       "      <td>36</td>\n",
       "      <td>NY</td>\n",
       "      <td>0</td>\n",
       "      <td>0</td>\n",
       "      <td>9580270</td>\n",
       "      <td>4940030</td>\n",
       "      <td>2950010</td>\n",
       "      <td>1479490</td>\n",
       "      <td>8838780</td>\n",
       "      <td>371720</td>\n",
       "      <td>...</td>\n",
       "      <td>365760</td>\n",
       "      <td>2798529</td>\n",
       "      <td>1888640</td>\n",
       "      <td>11352484</td>\n",
       "      <td>7414030</td>\n",
       "      <td>31799173</td>\n",
       "      <td>7191590</td>\n",
       "      <td>22501066</td>\n",
       "      <td>260090</td>\n",
       "      <td>8827498</td>\n",
       "    </tr>\n",
       "    <tr>\n",
       "      <td>1</td>\n",
       "      <td>36</td>\n",
       "      <td>NY</td>\n",
       "      <td>10001</td>\n",
       "      <td>0</td>\n",
       "      <td>15340</td>\n",
       "      <td>11080</td>\n",
       "      <td>2700</td>\n",
       "      <td>1170</td>\n",
       "      <td>14110</td>\n",
       "      <td>640</td>\n",
       "      <td>...</td>\n",
       "      <td>2030</td>\n",
       "      <td>10120</td>\n",
       "      <td>4090</td>\n",
       "      <td>58956</td>\n",
       "      <td>10730</td>\n",
       "      <td>79088</td>\n",
       "      <td>10000</td>\n",
       "      <td>41708</td>\n",
       "      <td>920</td>\n",
       "      <td>37351</td>\n",
       "    </tr>\n",
       "    <tr>\n",
       "      <td>2</td>\n",
       "      <td>36</td>\n",
       "      <td>NY</td>\n",
       "      <td>10002</td>\n",
       "      <td>0</td>\n",
       "      <td>42290</td>\n",
       "      <td>25770</td>\n",
       "      <td>10170</td>\n",
       "      <td>5480</td>\n",
       "      <td>39040</td>\n",
       "      <td>1880</td>\n",
       "      <td>...</td>\n",
       "      <td>1270</td>\n",
       "      <td>4744</td>\n",
       "      <td>9250</td>\n",
       "      <td>42382</td>\n",
       "      <td>30570</td>\n",
       "      <td>90728</td>\n",
       "      <td>29900</td>\n",
       "      <td>81427</td>\n",
       "      <td>820</td>\n",
       "      <td>9302</td>\n",
       "    </tr>\n",
       "    <tr>\n",
       "      <td>3</td>\n",
       "      <td>36</td>\n",
       "      <td>NY</td>\n",
       "      <td>10003</td>\n",
       "      <td>0</td>\n",
       "      <td>28950</td>\n",
       "      <td>22020</td>\n",
       "      <td>5340</td>\n",
       "      <td>870</td>\n",
       "      <td>26870</td>\n",
       "      <td>990</td>\n",
       "      <td>...</td>\n",
       "      <td>5410</td>\n",
       "      <td>79454</td>\n",
       "      <td>8660</td>\n",
       "      <td>123669</td>\n",
       "      <td>19410</td>\n",
       "      <td>214964</td>\n",
       "      <td>16970</td>\n",
       "      <td>83225</td>\n",
       "      <td>2870</td>\n",
       "      <td>131738</td>\n",
       "    </tr>\n",
       "    <tr>\n",
       "      <td>4</td>\n",
       "      <td>36</td>\n",
       "      <td>NY</td>\n",
       "      <td>10004</td>\n",
       "      <td>0</td>\n",
       "      <td>2450</td>\n",
       "      <td>1440</td>\n",
       "      <td>790</td>\n",
       "      <td>140</td>\n",
       "      <td>2260</td>\n",
       "      <td>110</td>\n",
       "      <td>...</td>\n",
       "      <td>700</td>\n",
       "      <td>4478</td>\n",
       "      <td>860</td>\n",
       "      <td>17042</td>\n",
       "      <td>1520</td>\n",
       "      <td>27167</td>\n",
       "      <td>1320</td>\n",
       "      <td>9897</td>\n",
       "      <td>230</td>\n",
       "      <td>17239</td>\n",
       "    </tr>\n",
       "    <tr>\n",
       "      <td>5</td>\n",
       "      <td>36</td>\n",
       "      <td>NY</td>\n",
       "      <td>10005</td>\n",
       "      <td>0</td>\n",
       "      <td>5920</td>\n",
       "      <td>4360</td>\n",
       "      <td>1240</td>\n",
       "      <td>150</td>\n",
       "      <td>5510</td>\n",
       "      <td>200</td>\n",
       "      <td>...</td>\n",
       "      <td>1240</td>\n",
       "      <td>29145</td>\n",
       "      <td>1730</td>\n",
       "      <td>25399</td>\n",
       "      <td>4080</td>\n",
       "      <td>91656</td>\n",
       "      <td>3690</td>\n",
       "      <td>17112</td>\n",
       "      <td>450</td>\n",
       "      <td>74453</td>\n",
       "    </tr>\n",
       "    <tr>\n",
       "      <td>6</td>\n",
       "      <td>36</td>\n",
       "      <td>NY</td>\n",
       "      <td>10006</td>\n",
       "      <td>0</td>\n",
       "      <td>2470</td>\n",
       "      <td>1790</td>\n",
       "      <td>510</td>\n",
       "      <td>90</td>\n",
       "      <td>2290</td>\n",
       "      <td>90</td>\n",
       "      <td>...</td>\n",
       "      <td>430</td>\n",
       "      <td>1568</td>\n",
       "      <td>710</td>\n",
       "      <td>9776</td>\n",
       "      <td>1690</td>\n",
       "      <td>11499</td>\n",
       "      <td>1560</td>\n",
       "      <td>6912</td>\n",
       "      <td>130</td>\n",
       "      <td>4454</td>\n",
       "    </tr>\n",
       "    <tr>\n",
       "      <td>7</td>\n",
       "      <td>36</td>\n",
       "      <td>NY</td>\n",
       "      <td>10007</td>\n",
       "      <td>0</td>\n",
       "      <td>3640</td>\n",
       "      <td>2130</td>\n",
       "      <td>1240</td>\n",
       "      <td>140</td>\n",
       "      <td>3370</td>\n",
       "      <td>130</td>\n",
       "      <td>...</td>\n",
       "      <td>1370</td>\n",
       "      <td>19575</td>\n",
       "      <td>1310</td>\n",
       "      <td>43579</td>\n",
       "      <td>2210</td>\n",
       "      <td>75252</td>\n",
       "      <td>1710</td>\n",
       "      <td>19652</td>\n",
       "      <td>560</td>\n",
       "      <td>55206</td>\n",
       "    </tr>\n",
       "    <tr>\n",
       "      <td>8</td>\n",
       "      <td>36</td>\n",
       "      <td>NY</td>\n",
       "      <td>10009</td>\n",
       "      <td>0</td>\n",
       "      <td>32690</td>\n",
       "      <td>23370</td>\n",
       "      <td>5090</td>\n",
       "      <td>3470</td>\n",
       "      <td>30080</td>\n",
       "      <td>1290</td>\n",
       "      <td>...</td>\n",
       "      <td>1570</td>\n",
       "      <td>4241</td>\n",
       "      <td>7410</td>\n",
       "      <td>44136</td>\n",
       "      <td>24380</td>\n",
       "      <td>80248</td>\n",
       "      <td>23570</td>\n",
       "      <td>62817</td>\n",
       "      <td>1010</td>\n",
       "      <td>11349</td>\n",
       "    </tr>\n",
       "    <tr>\n",
       "      <td>9</td>\n",
       "      <td>36</td>\n",
       "      <td>NY</td>\n",
       "      <td>10010</td>\n",
       "      <td>0</td>\n",
       "      <td>17540</td>\n",
       "      <td>12730</td>\n",
       "      <td>3700</td>\n",
       "      <td>680</td>\n",
       "      <td>16220</td>\n",
       "      <td>610</td>\n",
       "      <td>...</td>\n",
       "      <td>3280</td>\n",
       "      <td>19491</td>\n",
       "      <td>5030</td>\n",
       "      <td>63799</td>\n",
       "      <td>11990</td>\n",
       "      <td>126214</td>\n",
       "      <td>10640</td>\n",
       "      <td>60752</td>\n",
       "      <td>1570</td>\n",
       "      <td>65179</td>\n",
       "    </tr>\n",
       "  </tbody>\n",
       "</table>\n",
       "<p>10 rows × 153 columns</p>\n",
       "</div>"
      ],
      "text/plain": [
       "   STATEFIPS STATE  ZIPCODE  AGI_STUB       N1    MARS1    MARS2    MARS4  \\\n",
       "0         36    NY        0         0  9580270  4940030  2950010  1479490   \n",
       "1         36    NY    10001         0    15340    11080     2700     1170   \n",
       "2         36    NY    10002         0    42290    25770    10170     5480   \n",
       "3         36    NY    10003         0    28950    22020     5340      870   \n",
       "4         36    NY    10004         0     2450     1440      790      140   \n",
       "5         36    NY    10005         0     5920     4360     1240      150   \n",
       "6         36    NY    10006         0     2470     1790      510       90   \n",
       "7         36    NY    10007         0     3640     2130     1240      140   \n",
       "8         36    NY    10009         0    32690    23370     5090     3470   \n",
       "9         36    NY    10010         0    17540    12730     3700      680   \n",
       "\n",
       "       ELF   CPREP  ...  N85300   A85300   N11901    A11901   N11900  \\\n",
       "0  8838780  371720  ...  365760  2798529  1888640  11352484  7414030   \n",
       "1    14110     640  ...    2030    10120     4090     58956    10730   \n",
       "2    39040    1880  ...    1270     4744     9250     42382    30570   \n",
       "3    26870     990  ...    5410    79454     8660    123669    19410   \n",
       "4     2260     110  ...     700     4478      860     17042     1520   \n",
       "5     5510     200  ...    1240    29145     1730     25399     4080   \n",
       "6     2290      90  ...     430     1568      710      9776     1690   \n",
       "7     3370     130  ...    1370    19575     1310     43579     2210   \n",
       "8    30080    1290  ...    1570     4241     7410     44136    24380   \n",
       "9    16220     610  ...    3280    19491     5030     63799    11990   \n",
       "\n",
       "     A11900   N11902    A11902  N12000   A12000  \n",
       "0  31799173  7191590  22501066  260090  8827498  \n",
       "1     79088    10000     41708     920    37351  \n",
       "2     90728    29900     81427     820     9302  \n",
       "3    214964    16970     83225    2870   131738  \n",
       "4     27167     1320      9897     230    17239  \n",
       "5     91656     3690     17112     450    74453  \n",
       "6     11499     1560      6912     130     4454  \n",
       "7     75252     1710     19652     560    55206  \n",
       "8     80248    23570     62817    1010    11349  \n",
       "9    126214    10640     60752    1570    65179  \n",
       "\n",
       "[10 rows x 153 columns]"
      ]
     },
     "execution_count": 27,
     "metadata": {},
     "output_type": "execute_result"
    }
   ],
   "source": [
    "df1.head(10)"
   ]
  },
  {
   "cell_type": "code",
   "execution_count": 28,
   "metadata": {
    "colab": {
     "base_uri": "https://localhost:8080/",
     "height": 101
    },
    "colab_type": "code",
    "id": "_O5LOlGk-oih",
    "outputId": "14edd722-2120-4993-d5fe-45edb775d2b9"
   },
   "outputs": [
    {
     "name": "stdout",
     "output_type": "stream",
     "text": [
      "<class 'pandas.core.frame.DataFrame'>\n",
      "RangeIndex: 1537 entries, 0 to 1536\n",
      "Columns: 153 entries, STATEFIPS to A12000\n",
      "dtypes: int64(152), object(1)\n",
      "memory usage: 1.8+ MB\n"
     ]
    }
   ],
   "source": [
    "df1.info()"
   ]
  },
  {
   "cell_type": "code",
   "execution_count": 29,
   "metadata": {
    "colab": {},
    "colab_type": "code",
    "id": "_KpwexZU_p-0"
   },
   "outputs": [],
   "source": [
    "df1 = df1[['STATE', 'ZIPCODE', 'Adjusted gross income (AGI) [5]', 'Total income amount', 'Salaries and wages amount' ]]"
   ]
  },
  {
   "cell_type": "code",
   "execution_count": 30,
   "metadata": {
    "colab": {},
    "colab_type": "code",
    "id": "3A1S2Y0FABlo"
   },
   "outputs": [],
   "source": [
    "df1.rename(columns = {'ZIPCODE':'addr_zip'}, inplace = True)"
   ]
  },
  {
   "cell_type": "code",
   "execution_count": 31,
   "metadata": {
    "colab": {},
    "colab_type": "code",
    "id": "pbNevmcUAjL_"
   },
   "outputs": [],
   "source": [
    "train_df = pd.merge( train_df,df1, on=\"addr_zip\", how=\"left\")"
   ]
  },
  {
   "cell_type": "code",
   "execution_count": 32,
   "metadata": {
    "colab": {},
    "colab_type": "code",
    "id": "AuYH6HrwC1dR"
   },
   "outputs": [],
   "source": [
    "test_df = pd.merge( test_df,df1, on=\"addr_zip\", how=\"left\")"
   ]
  },
  {
   "cell_type": "code",
   "execution_count": 33,
   "metadata": {
    "colab": {
     "base_uri": "https://localhost:8080/",
     "height": 840
    },
    "colab_type": "code",
    "id": "84aSoJDYAvsX",
    "outputId": "58a7c47a-c977-4fac-e45c-947058913057"
   },
   "outputs": [
    {
     "name": "stdout",
     "output_type": "stream",
     "text": [
      "<class 'pandas.core.frame.DataFrame'>\n",
      "Int64Index: 12000 entries, 0 to 11999\n",
      "Data columns (total 44 columns):\n",
      "addr_unit                          11909 non-null object\n",
      "building_id                        12000 non-null int64\n",
      "bedrooms                           12000 non-null int64\n",
      "bathrooms                          12000 non-null float64\n",
      "size_sqft                          12000 non-null float64\n",
      "created_at                         12000 non-null object\n",
      "addr_street                        12000 non-null object\n",
      "addr_city                          12000 non-null object\n",
      "addr_zip                           12000 non-null int64\n",
      "addr_lat                           12000 non-null float64\n",
      "addr_lon                           12000 non-null float64\n",
      "bin                                11999 non-null float64\n",
      "bbl                                12000 non-null int64\n",
      "floor_count                        12000 non-null float64\n",
      "year_built                         11597 non-null float64\n",
      "min_to_subway                      11874 non-null float64\n",
      "has_doorman                        12000 non-null int64\n",
      "has_elevator                       12000 non-null int64\n",
      "has_fireplace                      12000 non-null int64\n",
      "has_dishwasher                     12000 non-null int64\n",
      "is_furnished                       12000 non-null int64\n",
      "has_gym                            12000 non-null int64\n",
      "allows_pets                        12000 non-null int64\n",
      "has_washer_dryer                   12000 non-null int64\n",
      "has_garage                         12000 non-null int64\n",
      "has_roofdeck                       12000 non-null int64\n",
      "has_concierge                      12000 non-null int64\n",
      "has_pool                           12000 non-null int64\n",
      "has_garden                         12000 non-null int64\n",
      "has_childrens_playroom             12000 non-null int64\n",
      "rent                               12000 non-null int64\n",
      "no_fee                             12000 non-null int64\n",
      "description                        11985 non-null object\n",
      "neighborhood                       11997 non-null object\n",
      "borough                            12000 non-null object\n",
      "unit                               11905 non-null object\n",
      "floornumber                        10723 non-null float64\n",
      "line                               8476 non-null object\n",
      "dist_centralPark                   12000 non-null float64\n",
      "dist_timeSquare                    12000 non-null float64\n",
      "STATE                              11840 non-null object\n",
      "Adjusted gross income (AGI) [5]    11840 non-null float64\n",
      "Total income amount                11840 non-null float64\n",
      "Salaries and wages amount          11840 non-null float64\n",
      "dtypes: float64(14), int64(20), object(10)\n",
      "memory usage: 3.7+ MB\n"
     ]
    }
   ],
   "source": [
    "train_df.info()\n",
    "## there were not tax data for all zipcodes so we will need to fill the NaN with the median"
   ]
  },
  {
   "cell_type": "code",
   "execution_count": 34,
   "metadata": {
    "colab": {
     "base_uri": "https://localhost:8080/",
     "height": 168
    },
    "colab_type": "code",
    "id": "2b_y_zenA79Z",
    "outputId": "f6769e1e-6469-4dc1-9bec-ac4f1674120b"
   },
   "outputs": [
    {
     "data": {
      "text/plain": [
       "count    12000.000000\n",
       "mean     10682.779667\n",
       "std        593.370964\n",
       "min      10001.000000\n",
       "25%      10023.000000\n",
       "50%      11103.000000\n",
       "75%      11218.000000\n",
       "max      11694.000000\n",
       "Name: addr_zip, dtype: float64"
      ]
     },
     "execution_count": 34,
     "metadata": {},
     "output_type": "execute_result"
    }
   ],
   "source": [
    "train_df['addr_zip'].describe()"
   ]
  },
  {
   "cell_type": "code",
   "execution_count": 35,
   "metadata": {
    "colab": {
     "base_uri": "https://localhost:8080/",
     "height": 276
    },
    "colab_type": "code",
    "id": "ujXhpac-DXVF",
    "outputId": "4f9fa35d-cc40-4a90-af60-b06e1b684743"
   },
   "outputs": [
    {
     "data": {
      "image/png": "[encoded data removed]",
      "text/plain": [
       "<Figure size 432x288 with 1 Axes>"
      ]
     },
     "metadata": {
      "needs_background": "light"
     },
     "output_type": "display_data"
    }
   ],
   "source": [
    "_ = plt.plot(train_df['rent'], train_df['Total income amount'], marker='.', linestyle='none')"
   ]
  },
  {
   "cell_type": "code",
   "execution_count": 36,
   "metadata": {
    "colab": {},
    "colab_type": "code",
    "id": "IkYCPshBbvqz"
   },
   "outputs": [],
   "source": [
    "# extract usable features\n",
    "feature_cols = [\n",
    "    'bedrooms', 'year_built', 'bathrooms', 'min_to_subway', \n",
    "    'size_sqft', 'no_fee', 'has_doorman',  'has_washer_dryer', 'floornumber', 'dist_centralPark', 'dist_timeSquare', 'Total income amount',\n",
    "]\n",
    "train_features = train_df[feature_cols] "
   ]
  },
  {
   "cell_type": "code",
   "execution_count": 37,
   "metadata": {
    "colab": {},
    "colab_type": "code",
    "id": "ou_tVxE7bvq1"
   },
   "outputs": [],
   "source": [
    "# extract usable features for test data\n",
    "test_features = test_df[feature_cols] "
   ]
  },
  {
   "cell_type": "markdown",
   "metadata": {
    "colab_type": "text",
    "id": "HgGR6M-aojEZ"
   },
   "source": [
    "## Data Preprocessing\n",
    "\n",
    "This section we look at missing data and outliers and deal with these\n",
    "\n"
   ]
  },
  {
   "cell_type": "markdown",
   "metadata": {
    "colab_type": "text",
    "id": "m2jx_CgDtHyB"
   },
   "source": [
    "#### 1. Missing Data\n",
    "'min_to_subway', 'year_built' , 'floornumber' have NaNs. Solutions: drop or impute. We will impute as the feature 'floornumber' has 10% (1200) values missing and dropping this would reduce the data to only 10,000 points. Because of the outliers we will use the median. We tested against the mean and there was only a negligble difference in the MSE. "
   ]
  },
  {
   "cell_type": "code",
   "execution_count": 38,
   "metadata": {
    "colab": {
     "base_uri": "https://localhost:8080/",
     "height": 34
    },
    "colab_type": "code",
    "id": "3hHU0IGOv8Na",
    "outputId": "a186e188-d484-4e5c-f2dc-4a527db224b3"
   },
   "outputs": [
    {
     "data": {
      "text/plain": [
       "403"
      ]
     },
     "execution_count": 38,
     "metadata": {},
     "output_type": "execute_result"
    }
   ],
   "source": [
    "train_df['year_built'].isna().sum()"
   ]
  },
  {
   "cell_type": "code",
   "execution_count": 39,
   "metadata": {
    "colab": {
     "base_uri": "https://localhost:8080/",
     "height": 34
    },
    "colab_type": "code",
    "id": "-4GEN3upv8wT",
    "outputId": "f3bc57c2-c022-4f61-cc33-def8867a2ae1"
   },
   "outputs": [
    {
     "data": {
      "text/plain": [
       "126"
      ]
     },
     "execution_count": 39,
     "metadata": {},
     "output_type": "execute_result"
    }
   ],
   "source": [
    "train_df['min_to_subway'].isna().sum()"
   ]
  },
  {
   "cell_type": "code",
   "execution_count": 40,
   "metadata": {
    "colab": {
     "base_uri": "https://localhost:8080/",
     "height": 706
    },
    "colab_type": "code",
    "id": "uBwiNTiMbvrG",
    "outputId": "91ee3314-5c69-4587-eb66-5e6059a85deb"
   },
   "outputs": [
    {
     "data": {
      "text/plain": [
       "addr_unit                           19\n",
       "building_id                          0\n",
       "bedrooms                             0\n",
       "bathrooms                            0\n",
       "size_sqft                            0\n",
       "created_at                           0\n",
       "addr_street                          0\n",
       "addr_city                            0\n",
       "addr_zip                             0\n",
       "addr_lat                             0\n",
       "addr_lon                             0\n",
       "bin                                  0\n",
       "bbl                                  0\n",
       "floor_count                          0\n",
       "year_built                          67\n",
       "min_to_subway                       17\n",
       "has_doorman                          0\n",
       "has_elevator                         0\n",
       "has_fireplace                        0\n",
       "has_dishwasher                       0\n",
       "is_furnished                         0\n",
       "has_gym                              0\n",
       "allows_pets                          0\n",
       "has_washer_dryer                     0\n",
       "has_garage                           0\n",
       "has_roofdeck                         0\n",
       "has_concierge                        0\n",
       "has_pool                             0\n",
       "has_garden                           0\n",
       "has_childrens_playroom               0\n",
       "rent                                 0\n",
       "no_fee                               0\n",
       "description                          1\n",
       "neighborhood                         0\n",
       "borough                              0\n",
       "unit                                19\n",
       "floornumber                        225\n",
       "line                               611\n",
       "dist_centralPark                     0\n",
       "dist_timeSquare                      0\n",
       "STATE                               21\n",
       "Adjusted gross income (AGI) [5]     21\n",
       "Total income amount                 21\n",
       "Salaries and wages amount           21\n",
       "dtype: int64"
      ]
     },
     "execution_count": 40,
     "metadata": {},
     "output_type": "execute_result"
    }
   ],
   "source": [
    "test_df.isna().sum()"
   ]
  },
  {
   "cell_type": "code",
   "execution_count": 41,
   "metadata": {
    "colab": {
     "base_uri": "https://localhost:8080/",
     "height": 34
    },
    "colab_type": "code",
    "id": "IjUpxThGwLGD",
    "outputId": "20184b66-740a-4552-9369-4a092dad148c"
   },
   "outputs": [
    {
     "data": {
      "text/plain": [
       "1277"
      ]
     },
     "execution_count": 41,
     "metadata": {},
     "output_type": "execute_result"
    }
   ],
   "source": [
    "train_df['floornumber'].isna().sum()"
   ]
  },
  {
   "cell_type": "code",
   "execution_count": 42,
   "metadata": {
    "colab": {
     "base_uri": "https://localhost:8080/",
     "height": 168
    },
    "colab_type": "code",
    "id": "REIF_isrbvrJ",
    "outputId": "be092765-5b99-4821-98b5-06f3163fb4c9"
   },
   "outputs": [
    {
     "data": {
      "text/plain": [
       "count    10723.000000\n",
       "mean         6.182738\n",
       "std          7.671545\n",
       "min          0.000000\n",
       "25%          2.000000\n",
       "50%          3.000000\n",
       "75%          6.000000\n",
       "max         78.000000\n",
       "Name: floornumber, dtype: float64"
      ]
     },
     "execution_count": 42,
     "metadata": {},
     "output_type": "execute_result"
    }
   ],
   "source": [
    "train_df['floornumber'].describe()"
   ]
  },
  {
   "cell_type": "code",
   "execution_count": 43,
   "metadata": {
    "colab": {
     "base_uri": "https://localhost:8080/",
     "height": 168
    },
    "colab_type": "code",
    "id": "Y703Ub8Pq1xY",
    "outputId": "c2dbbccd-bdf7-4060-8751-c1add3390930"
   },
   "outputs": [
    {
     "data": {
      "text/plain": [
       "count    1775.000000\n",
       "mean        6.291831\n",
       "std         8.066341\n",
       "min         1.000000\n",
       "25%         2.000000\n",
       "50%         3.000000\n",
       "75%         6.000000\n",
       "max        71.000000\n",
       "Name: floornumber, dtype: float64"
      ]
     },
     "execution_count": 43,
     "metadata": {},
     "output_type": "execute_result"
    }
   ],
   "source": [
    "test_df['floornumber'].describe()"
   ]
  },
  {
   "cell_type": "code",
   "execution_count": 44,
   "metadata": {
    "colab": {
     "base_uri": "https://localhost:8080/",
     "height": 168
    },
    "colab_type": "code",
    "id": "m0Lsg3gAx798",
    "outputId": "35c8b88a-b5be-4a37-9d9d-3da0f3072a5e"
   },
   "outputs": [
    {
     "data": {
      "text/plain": [
       "count     11874.000000\n",
       "mean         73.588716\n",
       "std        2681.611157\n",
       "min           0.016700\n",
       "25%           1.616700\n",
       "50%           2.750000\n",
       "75%           4.366700\n",
       "max      103343.616700\n",
       "Name: min_to_subway, dtype: float64"
      ]
     },
     "execution_count": 44,
     "metadata": {},
     "output_type": "execute_result"
    }
   ],
   "source": [
    "train_df['min_to_subway'].describe()"
   ]
  },
  {
   "cell_type": "code",
   "execution_count": 45,
   "metadata": {
    "colab": {
     "base_uri": "https://localhost:8080/",
     "height": 168
    },
    "colab_type": "code",
    "id": "K1qvrG43q1ag",
    "outputId": "c4b25dc5-f5ab-4c3b-e7c5-5f74a9150367",
    "scrolled": true
   },
   "outputs": [
    {
     "data": {
      "text/plain": [
       "count    1983.000000\n",
       "mean        3.768095\n",
       "std         4.110479\n",
       "min         0.016700\n",
       "25%         1.666700\n",
       "50%         2.816700\n",
       "75%         4.458350\n",
       "max        57.583300\n",
       "Name: min_to_subway, dtype: float64"
      ]
     },
     "execution_count": 45,
     "metadata": {},
     "output_type": "execute_result"
    }
   ],
   "source": [
    "test_df['min_to_subway'].describe()"
   ]
  },
  {
   "cell_type": "code",
   "execution_count": 46,
   "metadata": {
    "colab": {
     "base_uri": "https://localhost:8080/",
     "height": 168
    },
    "colab_type": "code",
    "id": "ZYg37N89x8aQ",
    "outputId": "fe3da730-6dee-4552-a6b3-075486a08c46"
   },
   "outputs": [
    {
     "data": {
      "text/plain": [
       "count    11597.000000\n",
       "mean      1935.982668\n",
       "std        158.157134\n",
       "min          0.000000\n",
       "25%       1915.000000\n",
       "50%       1931.000000\n",
       "75%       1987.000000\n",
       "max       2019.000000\n",
       "Name: year_built, dtype: float64"
      ]
     },
     "execution_count": 46,
     "metadata": {},
     "output_type": "execute_result"
    }
   ],
   "source": [
    "train_df['year_built'].describe()"
   ]
  },
  {
   "cell_type": "code",
   "execution_count": 47,
   "metadata": {
    "colab": {
     "base_uri": "https://localhost:8080/",
     "height": 168
    },
    "colab_type": "code",
    "id": "UNPKj6bNrNXr",
    "outputId": "acc275b6-e382-4e7d-d9b6-2aab297c2a8f"
   },
   "outputs": [
    {
     "data": {
      "text/plain": [
       "count    1933.000000\n",
       "mean     1934.515261\n",
       "std       164.135048\n",
       "min         0.000000\n",
       "25%      1915.000000\n",
       "50%      1931.000000\n",
       "75%      1987.000000\n",
       "max      2019.000000\n",
       "Name: year_built, dtype: float64"
      ]
     },
     "execution_count": 47,
     "metadata": {},
     "output_type": "execute_result"
    }
   ],
   "source": [
    "test_df['year_built'].describe()"
   ]
  },
  {
   "cell_type": "markdown",
   "metadata": {
    "colab_type": "text",
    "id": "gQw2F3DKyQTz"
   },
   "source": [
    "The features all have large outliers that result in a much higher mean than median so we will use median for the impute value for the missing values. "
   ]
  },
  {
   "cell_type": "code",
   "execution_count": 48,
   "metadata": {
    "colab": {},
    "colab_type": "code",
    "id": "smFM_TWEuXz9"
   },
   "outputs": [],
   "source": [
    "# impute missing values with medians\n",
    "train_features = train_features.fillna(train_features.mean(), axis=0)\n",
    "\n",
    "# construct target vector\n",
    "train_target = train_df['rent']"
   ]
  },
  {
   "cell_type": "markdown",
   "metadata": {
    "colab_type": "text",
    "id": "_mMjb8rGsjXG"
   },
   "source": [
    "#### 2. Outlier Data\n",
    "From the above analysis it can be seen that the size_sqft and bathrooms have the value 0 for some data points. It is not possible for a rental space to have no size and it unusal for no bathroom in a rental. "
   ]
  },
  {
   "cell_type": "code",
   "execution_count": 49,
   "metadata": {
    "colab": {
     "base_uri": "https://localhost:8080/",
     "height": 34
    },
    "colab_type": "code",
    "id": "816TIZKRsjJH",
    "outputId": "1a30a0d8-c8b1-4f16-bf1b-39569ddfb50c"
   },
   "outputs": [
    {
     "data": {
      "text/plain": [
       "841"
      ]
     },
     "execution_count": 49,
     "metadata": {},
     "output_type": "execute_result"
    }
   ],
   "source": [
    "(train_features['size_sqft']==0).sum()\n",
    "## 841 values have outlier value of 0 for size_sqft"
   ]
  },
  {
   "cell_type": "code",
   "execution_count": 50,
   "metadata": {
    "colab": {
     "base_uri": "https://localhost:8080/",
     "height": 168
    },
    "colab_type": "code",
    "id": "FK-nEapHuxvI",
    "outputId": "51729406-4825-468a-d4e6-537ce3653f22"
   },
   "outputs": [
    {
     "data": {
      "text/plain": [
       "count    12000.000000\n",
       "mean       850.465750\n",
       "std        515.773101\n",
       "min          0.000000\n",
       "25%        610.000000\n",
       "50%        800.000000\n",
       "75%       1000.000000\n",
       "max      10000.000000\n",
       "Name: size_sqft, dtype: float64"
      ]
     },
     "execution_count": 50,
     "metadata": {},
     "output_type": "execute_result"
    }
   ],
   "source": [
    "train_features['size_sqft'].describe()"
   ]
  },
  {
   "cell_type": "code",
   "execution_count": 51,
   "metadata": {
    "colab": {},
    "colab_type": "code",
    "id": "4OmqsMErsPaY"
   },
   "outputs": [],
   "source": [
    "#train_features['size_sqft']= train_features['size_sqft'].replace(0,train_features['size_sqft'].mean())"
   ]
  },
  {
   "cell_type": "markdown",
   "metadata": {
    "colab_type": "text",
    "id": "UDV9jSf6Rhlv"
   },
   "source": [
    "The minimum size for new apartments is 400sqft, so we are going to use instead of 0. An apartment or room must cannot physically have 0 sqft"
   ]
  },
  {
   "cell_type": "code",
   "execution_count": 52,
   "metadata": {
    "colab": {},
    "colab_type": "code",
    "id": "vMAHL_XGuTZN"
   },
   "outputs": [],
   "source": [
    " train_features.loc[train_features['size_sqft']==0, 'size_sqft']=400"
   ]
  },
  {
   "cell_type": "code",
   "execution_count": 53,
   "metadata": {
    "colab": {
     "base_uri": "https://localhost:8080/",
     "height": 118
    },
    "colab_type": "code",
    "id": "-iz8cG7_tSTH",
    "outputId": "ba911050-4ed9-421f-bf36-3cf47d2c080c"
   },
   "outputs": [
    {
     "name": "stderr",
     "output_type": "stream",
     "text": [
      "c:\\users\\taimoor\\appdata\\local\\programs\\python\\python37-32\\lib\\site-packages\\pandas\\core\\indexing.py:494: SettingWithCopyWarning: \n",
      "A value is trying to be set on a copy of a slice from a DataFrame.\n",
      "Try using .loc[row_indexer,col_indexer] = value instead\n",
      "\n",
      "See the caveats in the documentation: http://pandas.pydata.org/pandas-docs/stable/user_guide/indexing.html#returning-a-view-versus-a-copy\n",
      "  self.obj[item] = s\n"
     ]
    }
   ],
   "source": [
    " test_features.loc[test_features['size_sqft']==0, 'size_sqft']=400"
   ]
  },
  {
   "cell_type": "code",
   "execution_count": 54,
   "metadata": {
    "colab": {
     "base_uri": "https://localhost:8080/",
     "height": 168
    },
    "colab_type": "code",
    "id": "tIzvo25esl0E",
    "outputId": "b053b0b1-8120-4a70-d038-791ad78a7722"
   },
   "outputs": [
    {
     "data": {
      "text/plain": [
       "count    12000.000000\n",
       "mean       878.499083\n",
       "std        478.292247\n",
       "min         79.000000\n",
       "25%        610.000000\n",
       "50%        800.000000\n",
       "75%       1000.000000\n",
       "max      10000.000000\n",
       "Name: size_sqft, dtype: float64"
      ]
     },
     "execution_count": 54,
     "metadata": {},
     "output_type": "execute_result"
    }
   ],
   "source": [
    "train_features['size_sqft'].describe()"
   ]
  },
  {
   "cell_type": "code",
   "execution_count": 55,
   "metadata": {
    "colab": {
     "base_uri": "https://localhost:8080/",
     "height": 34
    },
    "colab_type": "code",
    "id": "BOOKcH1Yh1oN",
    "outputId": "501ace3b-4ca1-4d27-f307-09d21bac3c9b"
   },
   "outputs": [
    {
     "data": {
      "text/plain": [
       "4"
      ]
     },
     "execution_count": 55,
     "metadata": {},
     "output_type": "execute_result"
    }
   ],
   "source": [
    "(train_features['bathrooms']==0).sum()\n",
    "## 4 values have outlier value of 0 for bathrooms...No bathrooms??\n",
    "## Because this is only a small amount of data points we will leave as is\n",
    "## one of the datapoints actually according to the description does not have a bathroom in the apartment! "
   ]
  },
  {
   "cell_type": "code",
   "execution_count": 56,
   "metadata": {
    "colab": {
     "base_uri": "https://localhost:8080/",
     "height": 383
    },
    "colab_type": "code",
    "id": "LkISawD3SZUQ",
    "outputId": "c92ac6ac-349d-40d8-f446-96549f9f1150"
   },
   "outputs": [
    {
     "data": {
      "text/html": [
       "<div>\n",
       "<style scoped>\n",
       "    .dataframe tbody tr th:only-of-type {\n",
       "        vertical-align: middle;\n",
       "    }\n",
       "\n",
       "    .dataframe tbody tr th {\n",
       "        vertical-align: top;\n",
       "    }\n",
       "\n",
       "    .dataframe thead th {\n",
       "        text-align: right;\n",
       "    }\n",
       "</style>\n",
       "<table border=\"1\" class=\"dataframe\">\n",
       "  <thead>\n",
       "    <tr style=\"text-align: right;\">\n",
       "      <th></th>\n",
       "      <th>addr_unit</th>\n",
       "      <th>building_id</th>\n",
       "      <th>bedrooms</th>\n",
       "      <th>bathrooms</th>\n",
       "      <th>size_sqft</th>\n",
       "      <th>created_at</th>\n",
       "      <th>addr_street</th>\n",
       "      <th>addr_city</th>\n",
       "      <th>addr_zip</th>\n",
       "      <th>addr_lat</th>\n",
       "      <th>...</th>\n",
       "      <th>borough</th>\n",
       "      <th>unit</th>\n",
       "      <th>floornumber</th>\n",
       "      <th>line</th>\n",
       "      <th>dist_centralPark</th>\n",
       "      <th>dist_timeSquare</th>\n",
       "      <th>STATE</th>\n",
       "      <th>Adjusted gross income (AGI) [5]</th>\n",
       "      <th>Total income amount</th>\n",
       "      <th>Salaries and wages amount</th>\n",
       "    </tr>\n",
       "  </thead>\n",
       "  <tbody>\n",
       "    <tr>\n",
       "      <td>172</td>\n",
       "      <td>NaN</td>\n",
       "      <td>503473</td>\n",
       "      <td>2</td>\n",
       "      <td>0.0</td>\n",
       "      <td>0.0</td>\n",
       "      <td>2018-07-06 17:49:26</td>\n",
       "      <td>319 EAST 52 STREET</td>\n",
       "      <td>Brooklyn</td>\n",
       "      <td>11203</td>\n",
       "      <td>40.653066</td>\n",
       "      <td>...</td>\n",
       "      <td>Brooklyn</td>\n",
       "      <td>NaN</td>\n",
       "      <td>NaN</td>\n",
       "      <td>NaN</td>\n",
       "      <td>14.449637</td>\n",
       "      <td>12.625579</td>\n",
       "      <td>NY</td>\n",
       "      <td>1599379.0</td>\n",
       "      <td>1608986.0</td>\n",
       "      <td>1357584.0</td>\n",
       "    </tr>\n",
       "    <tr>\n",
       "      <td>5459</td>\n",
       "      <td>#3</td>\n",
       "      <td>158941</td>\n",
       "      <td>1</td>\n",
       "      <td>0.0</td>\n",
       "      <td>880.0</td>\n",
       "      <td>2018-07-27 00:49:29</td>\n",
       "      <td>496 COURT STREET</td>\n",
       "      <td>Brooklyn</td>\n",
       "      <td>11231</td>\n",
       "      <td>40.676940</td>\n",
       "      <td>...</td>\n",
       "      <td>Brooklyn</td>\n",
       "      <td>3</td>\n",
       "      <td>3.0</td>\n",
       "      <td>NaN</td>\n",
       "      <td>11.808926</td>\n",
       "      <td>9.083158</td>\n",
       "      <td>NY</td>\n",
       "      <td>2648560.0</td>\n",
       "      <td>2697067.0</td>\n",
       "      <td>1859023.0</td>\n",
       "    </tr>\n",
       "    <tr>\n",
       "      <td>7227</td>\n",
       "      <td>UNKNOWN</td>\n",
       "      <td>161965</td>\n",
       "      <td>0</td>\n",
       "      <td>0.0</td>\n",
       "      <td>0.0</td>\n",
       "      <td>2018-07-05 16:04:51</td>\n",
       "      <td>230 SMITH STREET</td>\n",
       "      <td>Brooklyn</td>\n",
       "      <td>11231</td>\n",
       "      <td>40.683953</td>\n",
       "      <td>...</td>\n",
       "      <td>Brooklyn</td>\n",
       "      <td>UNKNOWN</td>\n",
       "      <td>NaN</td>\n",
       "      <td>NaN</td>\n",
       "      <td>10.929659</td>\n",
       "      <td>8.255184</td>\n",
       "      <td>NY</td>\n",
       "      <td>2648560.0</td>\n",
       "      <td>2697067.0</td>\n",
       "      <td>1859023.0</td>\n",
       "    </tr>\n",
       "    <tr>\n",
       "      <td>9530</td>\n",
       "      <td>#1C</td>\n",
       "      <td>25639</td>\n",
       "      <td>0</td>\n",
       "      <td>0.0</td>\n",
       "      <td>0.0</td>\n",
       "      <td>2018-05-08 15:44:57</td>\n",
       "      <td>29 WEST 12 STREET</td>\n",
       "      <td>New York</td>\n",
       "      <td>10011</td>\n",
       "      <td>40.735335</td>\n",
       "      <td>...</td>\n",
       "      <td>Manhattan</td>\n",
       "      <td>1C</td>\n",
       "      <td>1.0</td>\n",
       "      <td>C</td>\n",
       "      <td>5.595790</td>\n",
       "      <td>2.660211</td>\n",
       "      <td>NY</td>\n",
       "      <td>9080628.0</td>\n",
       "      <td>9207647.0</td>\n",
       "      <td>5136080.0</td>\n",
       "    </tr>\n",
       "  </tbody>\n",
       "</table>\n",
       "<p>4 rows × 44 columns</p>\n",
       "</div>"
      ],
      "text/plain": [
       "     addr_unit  building_id  bedrooms  bathrooms  size_sqft  \\\n",
       "172        NaN       503473         2        0.0        0.0   \n",
       "5459        #3       158941         1        0.0      880.0   \n",
       "7227   UNKNOWN       161965         0        0.0        0.0   \n",
       "9530       #1C        25639         0        0.0        0.0   \n",
       "\n",
       "               created_at         addr_street addr_city  addr_zip   addr_lat  \\\n",
       "172   2018-07-06 17:49:26  319 EAST 52 STREET  Brooklyn     11203  40.653066   \n",
       "5459  2018-07-27 00:49:29    496 COURT STREET  Brooklyn     11231  40.676940   \n",
       "7227  2018-07-05 16:04:51    230 SMITH STREET  Brooklyn     11231  40.683953   \n",
       "9530  2018-05-08 15:44:57   29 WEST 12 STREET  New York     10011  40.735335   \n",
       "\n",
       "      ...    borough     unit  floornumber  line  dist_centralPark  \\\n",
       "172   ...   Brooklyn      NaN          NaN   NaN         14.449637   \n",
       "5459  ...   Brooklyn        3          3.0   NaN         11.808926   \n",
       "7227  ...   Brooklyn  UNKNOWN          NaN   NaN         10.929659   \n",
       "9530  ...  Manhattan       1C          1.0     C          5.595790   \n",
       "\n",
       "      dist_timeSquare  STATE  Adjusted gross income (AGI) [5]  \\\n",
       "172         12.625579     NY                        1599379.0   \n",
       "5459         9.083158     NY                        2648560.0   \n",
       "7227         8.255184     NY                        2648560.0   \n",
       "9530         2.660211     NY                        9080628.0   \n",
       "\n",
       "      Total income amount  Salaries and wages amount  \n",
       "172             1608986.0                  1357584.0  \n",
       "5459            2697067.0                  1859023.0  \n",
       "7227            2697067.0                  1859023.0  \n",
       "9530            9207647.0                  5136080.0  \n",
       "\n",
       "[4 rows x 44 columns]"
      ]
     },
     "execution_count": 56,
     "metadata": {},
     "output_type": "execute_result"
    }
   ],
   "source": [
    "train_df.loc[train_df.bathrooms == 0]"
   ]
  },
  {
   "cell_type": "code",
   "execution_count": 57,
   "metadata": {
    "colab": {
     "base_uri": "https://localhost:8080/",
     "height": 34
    },
    "colab_type": "code",
    "id": "EWZxxglqrkC0",
    "outputId": "5e297715-ad68-4d69-ff64-6389e2810a0e"
   },
   "outputs": [
    {
     "data": {
      "text/plain": [
       "3"
      ]
     },
     "execution_count": 57,
     "metadata": {},
     "output_type": "execute_result"
    }
   ],
   "source": [
    "(test_features['bathrooms']==0).sum()"
   ]
  },
  {
   "cell_type": "markdown",
   "metadata": {
    "colab_type": "text",
    "id": "2RqfEddy32cf"
   },
   "source": [
    "##### Large data points"
   ]
  },
  {
   "cell_type": "code",
   "execution_count": 58,
   "metadata": {
    "colab": {
     "base_uri": "https://localhost:8080/",
     "height": 136
    },
    "colab_type": "code",
    "id": "ZpVZasEf0ubq",
    "outputId": "c8fd183a-c814-4836-b444-692da1fd2a03"
   },
   "outputs": [
    {
     "data": {
      "text/html": [
       "<div>\n",
       "<style scoped>\n",
       "    .dataframe tbody tr th:only-of-type {\n",
       "        vertical-align: middle;\n",
       "    }\n",
       "\n",
       "    .dataframe tbody tr th {\n",
       "        vertical-align: top;\n",
       "    }\n",
       "\n",
       "    .dataframe thead th {\n",
       "        text-align: right;\n",
       "    }\n",
       "</style>\n",
       "<table border=\"1\" class=\"dataframe\">\n",
       "  <thead>\n",
       "    <tr style=\"text-align: right;\">\n",
       "      <th></th>\n",
       "      <th>bedrooms</th>\n",
       "      <th>year_built</th>\n",
       "      <th>bathrooms</th>\n",
       "      <th>min_to_subway</th>\n",
       "      <th>size_sqft</th>\n",
       "      <th>no_fee</th>\n",
       "      <th>has_doorman</th>\n",
       "      <th>has_washer_dryer</th>\n",
       "      <th>floornumber</th>\n",
       "      <th>dist_centralPark</th>\n",
       "      <th>dist_timeSquare</th>\n",
       "      <th>Total income amount</th>\n",
       "    </tr>\n",
       "  </thead>\n",
       "  <tbody>\n",
       "    <tr>\n",
       "      <td>38</td>\n",
       "      <td>2</td>\n",
       "      <td>1935.982668</td>\n",
       "      <td>1.0</td>\n",
       "      <td>6.2000</td>\n",
       "      <td>8500.0</td>\n",
       "      <td>0</td>\n",
       "      <td>0</td>\n",
       "      <td>0</td>\n",
       "      <td>47.0</td>\n",
       "      <td>17.153177</td>\n",
       "      <td>14.305187</td>\n",
       "      <td>2695383.0</td>\n",
       "    </tr>\n",
       "    <tr>\n",
       "      <td>3391</td>\n",
       "      <td>2</td>\n",
       "      <td>1955.000000</td>\n",
       "      <td>1.0</td>\n",
       "      <td>11.9833</td>\n",
       "      <td>10000.0</td>\n",
       "      <td>0</td>\n",
       "      <td>0</td>\n",
       "      <td>0</td>\n",
       "      <td>2.0</td>\n",
       "      <td>18.026849</td>\n",
       "      <td>15.303167</td>\n",
       "      <td>1249744.0</td>\n",
       "    </tr>\n",
       "    <tr>\n",
       "      <td>3959</td>\n",
       "      <td>5</td>\n",
       "      <td>1901.000000</td>\n",
       "      <td>1.0</td>\n",
       "      <td>1.4000</td>\n",
       "      <td>9999.0</td>\n",
       "      <td>1</td>\n",
       "      <td>0</td>\n",
       "      <td>0</td>\n",
       "      <td>3.0</td>\n",
       "      <td>9.964682</td>\n",
       "      <td>9.205950</td>\n",
       "      <td>2385630.0</td>\n",
       "    </tr>\n",
       "  </tbody>\n",
       "</table>\n",
       "</div>"
      ],
      "text/plain": [
       "      bedrooms   year_built  bathrooms  min_to_subway  size_sqft  no_fee  \\\n",
       "38           2  1935.982668        1.0         6.2000     8500.0       0   \n",
       "3391         2  1955.000000        1.0        11.9833    10000.0       0   \n",
       "3959         5  1901.000000        1.0         1.4000     9999.0       1   \n",
       "\n",
       "      has_doorman  has_washer_dryer  floornumber  dist_centralPark  \\\n",
       "38              0                 0         47.0         17.153177   \n",
       "3391            0                 0          2.0         18.026849   \n",
       "3959            0                 0          3.0          9.964682   \n",
       "\n",
       "      dist_timeSquare  Total income amount  \n",
       "38          14.305187            2695383.0  \n",
       "3391        15.303167            1249744.0  \n",
       "3959         9.205950            2385630.0  "
      ]
     },
     "execution_count": 58,
     "metadata": {},
     "output_type": "execute_result"
    }
   ],
   "source": [
    "train_features.loc[train_features.size_sqft>=8000]"
   ]
  },
  {
   "cell_type": "markdown",
   "metadata": {
    "colab_type": "text",
    "id": "z663cg5zUa36"
   },
   "source": [
    "These are clearly errors as the next largest apartment at 7200 sqft has a rent of 22,500 and the next following data points are similar. These apartments are out by a factor of 10. So we will divide these by 10 and the new max sqft should be 7200"
   ]
  },
  {
   "cell_type": "code",
   "execution_count": 59,
   "metadata": {
    "colab": {},
    "colab_type": "code",
    "id": "NfPQzk0yaFVx"
   },
   "outputs": [],
   "source": [
    " train_features.loc[train_features['size_sqft']>=8000, 'size_sqft']=train_features.loc[train_features.size_sqft>=8000].divide(10)"
   ]
  },
  {
   "cell_type": "code",
   "execution_count": 60,
   "metadata": {
    "colab": {
     "base_uri": "https://localhost:8080/",
     "height": 168
    },
    "colab_type": "code",
    "id": "w033XeCOcNeZ",
    "outputId": "6dd816c5-5efd-40b9-f123-8cdb12301409"
   },
   "outputs": [
    {
     "data": {
      "text/plain": [
       "count    12000.000000\n",
       "mean       876.361658\n",
       "std        458.316290\n",
       "min         79.000000\n",
       "25%        610.000000\n",
       "50%        800.000000\n",
       "75%       1000.000000\n",
       "max       7200.000000\n",
       "Name: size_sqft, dtype: float64"
      ]
     },
     "execution_count": 60,
     "metadata": {},
     "output_type": "execute_result"
    }
   ],
   "source": [
    "train_features.size_sqft.describe()"
   ]
  },
  {
   "cell_type": "code",
   "execution_count": 61,
   "metadata": {
    "colab": {
     "base_uri": "https://localhost:8080/",
     "height": 547
    },
    "colab_type": "code",
    "id": "WTVs29D52N2_",
    "outputId": "2bc3adb8-1eda-481f-c0a0-ae0f2984709b"
   },
   "outputs": [
    {
     "data": {
      "text/html": [
       "<div>\n",
       "<style scoped>\n",
       "    .dataframe tbody tr th:only-of-type {\n",
       "        vertical-align: middle;\n",
       "    }\n",
       "\n",
       "    .dataframe tbody tr th {\n",
       "        vertical-align: top;\n",
       "    }\n",
       "\n",
       "    .dataframe thead th {\n",
       "        text-align: right;\n",
       "    }\n",
       "</style>\n",
       "<table border=\"1\" class=\"dataframe\">\n",
       "  <thead>\n",
       "    <tr style=\"text-align: right;\">\n",
       "      <th></th>\n",
       "      <th>addr_unit</th>\n",
       "      <th>building_id</th>\n",
       "      <th>bedrooms</th>\n",
       "      <th>bathrooms</th>\n",
       "      <th>size_sqft</th>\n",
       "      <th>created_at</th>\n",
       "      <th>addr_street</th>\n",
       "      <th>addr_city</th>\n",
       "      <th>addr_zip</th>\n",
       "      <th>addr_lat</th>\n",
       "      <th>...</th>\n",
       "      <th>borough</th>\n",
       "      <th>unit</th>\n",
       "      <th>floornumber</th>\n",
       "      <th>line</th>\n",
       "      <th>dist_centralPark</th>\n",
       "      <th>dist_timeSquare</th>\n",
       "      <th>STATE</th>\n",
       "      <th>Adjusted gross income (AGI) [5]</th>\n",
       "      <th>Total income amount</th>\n",
       "      <th>Salaries and wages amount</th>\n",
       "    </tr>\n",
       "  </thead>\n",
       "  <tbody>\n",
       "    <tr>\n",
       "      <td>179</td>\n",
       "      <td>#1</td>\n",
       "      <td>205114</td>\n",
       "      <td>8</td>\n",
       "      <td>3.0</td>\n",
       "      <td>3500.0</td>\n",
       "      <td>2018-05-24 03:09:47</td>\n",
       "      <td>98 LINCOLN PLACE</td>\n",
       "      <td>Brooklyn</td>\n",
       "      <td>11217</td>\n",
       "      <td>40.676331</td>\n",
       "      <td>...</td>\n",
       "      <td>Brooklyn</td>\n",
       "      <td>1</td>\n",
       "      <td>1.0</td>\n",
       "      <td>NaN</td>\n",
       "      <td>11.570058</td>\n",
       "      <td>9.110862</td>\n",
       "      <td>NY</td>\n",
       "      <td>2851362.0</td>\n",
       "      <td>2897328.0</td>\n",
       "      <td>2181279.0</td>\n",
       "    </tr>\n",
       "    <tr>\n",
       "      <td>1078</td>\n",
       "      <td>#UPPER</td>\n",
       "      <td>20905</td>\n",
       "      <td>7</td>\n",
       "      <td>4.0</td>\n",
       "      <td>5000.0</td>\n",
       "      <td>2018-05-29 21:15:31</td>\n",
       "      <td>116 SULLIVAN STREET</td>\n",
       "      <td>New York</td>\n",
       "      <td>10012</td>\n",
       "      <td>40.726101</td>\n",
       "      <td>...</td>\n",
       "      <td>Manhattan</td>\n",
       "      <td>UPPER</td>\n",
       "      <td>NaN</td>\n",
       "      <td>NaN</td>\n",
       "      <td>6.790507</td>\n",
       "      <td>3.837968</td>\n",
       "      <td>NY</td>\n",
       "      <td>3558547.0</td>\n",
       "      <td>3605719.0</td>\n",
       "      <td>1919655.0</td>\n",
       "    </tr>\n",
       "    <tr>\n",
       "      <td>4657</td>\n",
       "      <td>NaN</td>\n",
       "      <td>71734</td>\n",
       "      <td>7</td>\n",
       "      <td>4.0</td>\n",
       "      <td>6950.0</td>\n",
       "      <td>2018-07-11 15:50:18</td>\n",
       "      <td>461 EAST 57 STREET</td>\n",
       "      <td>New York</td>\n",
       "      <td>10022</td>\n",
       "      <td>40.757728</td>\n",
       "      <td>...</td>\n",
       "      <td>Manhattan</td>\n",
       "      <td>NaN</td>\n",
       "      <td>NaN</td>\n",
       "      <td>NaN</td>\n",
       "      <td>2.501412</td>\n",
       "      <td>2.079118</td>\n",
       "      <td>NY</td>\n",
       "      <td>12031917.0</td>\n",
       "      <td>12169071.0</td>\n",
       "      <td>3589855.0</td>\n",
       "    </tr>\n",
       "    <tr>\n",
       "      <td>7047</td>\n",
       "      <td>NaN</td>\n",
       "      <td>56881</td>\n",
       "      <td>7</td>\n",
       "      <td>7.0</td>\n",
       "      <td>7000.0</td>\n",
       "      <td>2018-05-04 12:49:49</td>\n",
       "      <td>51 WEST 73 STREET</td>\n",
       "      <td>New York</td>\n",
       "      <td>10023</td>\n",
       "      <td>40.777983</td>\n",
       "      <td>...</td>\n",
       "      <td>Manhattan</td>\n",
       "      <td>NaN</td>\n",
       "      <td>NaN</td>\n",
       "      <td>NaN</td>\n",
       "      <td>1.070336</td>\n",
       "      <td>2.323677</td>\n",
       "      <td>NY</td>\n",
       "      <td>13623617.0</td>\n",
       "      <td>13798656.0</td>\n",
       "      <td>6189441.0</td>\n",
       "    </tr>\n",
       "    <tr>\n",
       "      <td>10903</td>\n",
       "      <td>#1</td>\n",
       "      <td>283312</td>\n",
       "      <td>7</td>\n",
       "      <td>2.0</td>\n",
       "      <td>1800.0</td>\n",
       "      <td>2018-07-16 16:27:49</td>\n",
       "      <td>1033A DE KALB AVENUE</td>\n",
       "      <td>Brooklyn</td>\n",
       "      <td>11221</td>\n",
       "      <td>40.693642</td>\n",
       "      <td>...</td>\n",
       "      <td>Brooklyn</td>\n",
       "      <td>1</td>\n",
       "      <td>1.0</td>\n",
       "      <td>NaN</td>\n",
       "      <td>9.959251</td>\n",
       "      <td>8.384776</td>\n",
       "      <td>NY</td>\n",
       "      <td>1764282.0</td>\n",
       "      <td>1784388.0</td>\n",
       "      <td>1571784.0</td>\n",
       "    </tr>\n",
       "  </tbody>\n",
       "</table>\n",
       "<p>5 rows × 44 columns</p>\n",
       "</div>"
      ],
      "text/plain": [
       "      addr_unit  building_id  bedrooms  bathrooms  size_sqft  \\\n",
       "179          #1       205114         8        3.0     3500.0   \n",
       "1078     #UPPER        20905         7        4.0     5000.0   \n",
       "4657        NaN        71734         7        4.0     6950.0   \n",
       "7047        NaN        56881         7        7.0     7000.0   \n",
       "10903        #1       283312         7        2.0     1800.0   \n",
       "\n",
       "                created_at           addr_street addr_city  addr_zip  \\\n",
       "179    2018-05-24 03:09:47      98 LINCOLN PLACE  Brooklyn     11217   \n",
       "1078   2018-05-29 21:15:31   116 SULLIVAN STREET  New York     10012   \n",
       "4657   2018-07-11 15:50:18    461 EAST 57 STREET  New York     10022   \n",
       "7047   2018-05-04 12:49:49     51 WEST 73 STREET  New York     10023   \n",
       "10903  2018-07-16 16:27:49  1033A DE KALB AVENUE  Brooklyn     11221   \n",
       "\n",
       "        addr_lat  ...    borough   unit  floornumber  line  dist_centralPark  \\\n",
       "179    40.676331  ...   Brooklyn      1          1.0   NaN         11.570058   \n",
       "1078   40.726101  ...  Manhattan  UPPER          NaN   NaN          6.790507   \n",
       "4657   40.757728  ...  Manhattan    NaN          NaN   NaN          2.501412   \n",
       "7047   40.777983  ...  Manhattan    NaN          NaN   NaN          1.070336   \n",
       "10903  40.693642  ...   Brooklyn      1          1.0   NaN          9.959251   \n",
       "\n",
       "       dist_timeSquare  STATE  Adjusted gross income (AGI) [5]  \\\n",
       "179           9.110862     NY                        2851362.0   \n",
       "1078          3.837968     NY                        3558547.0   \n",
       "4657          2.079118     NY                       12031917.0   \n",
       "7047          2.323677     NY                       13623617.0   \n",
       "10903         8.384776     NY                        1764282.0   \n",
       "\n",
       "       Total income amount  Salaries and wages amount  \n",
       "179              2897328.0                  2181279.0  \n",
       "1078             3605719.0                  1919655.0  \n",
       "4657            12169071.0                  3589855.0  \n",
       "7047            13798656.0                  6189441.0  \n",
       "10903            1784388.0                  1571784.0  \n",
       "\n",
       "[5 rows x 44 columns]"
      ]
     },
     "execution_count": 61,
     "metadata": {},
     "output_type": "execute_result"
    }
   ],
   "source": [
    "obd_df = train_df.loc[train_df.bedrooms> 6]\n",
    "obd_df\n",
    "# Most of these seem reasonable with the rent and the description"
   ]
  },
  {
   "cell_type": "code",
   "execution_count": 62,
   "metadata": {
    "colab": {
     "base_uri": "https://localhost:8080/",
     "height": 270
    },
    "colab_type": "code",
    "id": "qvPoZyl-2qO9",
    "outputId": "956f5746-24bd-4427-ccb8-6ed8d2573186"
   },
   "outputs": [
    {
     "data": {
      "text/html": [
       "<div>\n",
       "<style scoped>\n",
       "    .dataframe tbody tr th:only-of-type {\n",
       "        vertical-align: middle;\n",
       "    }\n",
       "\n",
       "    .dataframe tbody tr th {\n",
       "        vertical-align: top;\n",
       "    }\n",
       "\n",
       "    .dataframe thead th {\n",
       "        text-align: right;\n",
       "    }\n",
       "</style>\n",
       "<table border=\"1\" class=\"dataframe\">\n",
       "  <thead>\n",
       "    <tr style=\"text-align: right;\">\n",
       "      <th></th>\n",
       "      <th>addr_unit</th>\n",
       "      <th>building_id</th>\n",
       "      <th>bedrooms</th>\n",
       "      <th>bathrooms</th>\n",
       "      <th>size_sqft</th>\n",
       "      <th>created_at</th>\n",
       "      <th>addr_street</th>\n",
       "      <th>addr_city</th>\n",
       "      <th>addr_zip</th>\n",
       "      <th>addr_lat</th>\n",
       "      <th>...</th>\n",
       "      <th>borough</th>\n",
       "      <th>unit</th>\n",
       "      <th>floornumber</th>\n",
       "      <th>line</th>\n",
       "      <th>dist_centralPark</th>\n",
       "      <th>dist_timeSquare</th>\n",
       "      <th>STATE</th>\n",
       "      <th>Adjusted gross income (AGI) [5]</th>\n",
       "      <th>Total income amount</th>\n",
       "      <th>Salaries and wages amount</th>\n",
       "    </tr>\n",
       "  </thead>\n",
       "  <tbody>\n",
       "    <tr>\n",
       "      <td>8007</td>\n",
       "      <td>#7</td>\n",
       "      <td>87595</td>\n",
       "      <td>2</td>\n",
       "      <td>20.0</td>\n",
       "      <td>1200.0</td>\n",
       "      <td>2018-06-04 15:07:12</td>\n",
       "      <td>420 EAST 86 STREET</td>\n",
       "      <td>New York</td>\n",
       "      <td>10028</td>\n",
       "      <td>40.776358</td>\n",
       "      <td>...</td>\n",
       "      <td>Manhattan</td>\n",
       "      <td>7</td>\n",
       "      <td>NaN</td>\n",
       "      <td>NaN</td>\n",
       "      <td>1.414322</td>\n",
       "      <td>3.696479</td>\n",
       "      <td>NY</td>\n",
       "      <td>10544654.0</td>\n",
       "      <td>10676779.0</td>\n",
       "      <td>4532168.0</td>\n",
       "    </tr>\n",
       "    <tr>\n",
       "      <td>9265</td>\n",
       "      <td>#6</td>\n",
       "      <td>126724</td>\n",
       "      <td>3</td>\n",
       "      <td>12.0</td>\n",
       "      <td>1200.0</td>\n",
       "      <td>2018-05-06 20:10:38</td>\n",
       "      <td>821 RIVERSIDE DRIVE</td>\n",
       "      <td>New York</td>\n",
       "      <td>10032</td>\n",
       "      <td>40.835610</td>\n",
       "      <td>...</td>\n",
       "      <td>Manhattan</td>\n",
       "      <td>6</td>\n",
       "      <td>6.0</td>\n",
       "      <td>NaN</td>\n",
       "      <td>6.383994</td>\n",
       "      <td>9.243970</td>\n",
       "      <td>NY</td>\n",
       "      <td>1204675.0</td>\n",
       "      <td>1220621.0</td>\n",
       "      <td>1035413.0</td>\n",
       "    </tr>\n",
       "    <tr>\n",
       "      <td>11493</td>\n",
       "      <td>#D</td>\n",
       "      <td>951334</td>\n",
       "      <td>2</td>\n",
       "      <td>12.0</td>\n",
       "      <td>1069.0</td>\n",
       "      <td>2018-05-09 10:46:26</td>\n",
       "      <td>105 OCEANA DRIVE EAST</td>\n",
       "      <td>Brooklyn</td>\n",
       "      <td>11235</td>\n",
       "      <td>40.576302</td>\n",
       "      <td>...</td>\n",
       "      <td>Brooklyn</td>\n",
       "      <td>D</td>\n",
       "      <td>NaN</td>\n",
       "      <td>NaN</td>\n",
       "      <td>22.659068</td>\n",
       "      <td>20.341527</td>\n",
       "      <td>NY</td>\n",
       "      <td>2391564.0</td>\n",
       "      <td>2423909.0</td>\n",
       "      <td>1747241.0</td>\n",
       "    </tr>\n",
       "  </tbody>\n",
       "</table>\n",
       "<p>3 rows × 44 columns</p>\n",
       "</div>"
      ],
      "text/plain": [
       "      addr_unit  building_id  bedrooms  bathrooms  size_sqft  \\\n",
       "8007         #7        87595         2       20.0     1200.0   \n",
       "9265         #6       126724         3       12.0     1200.0   \n",
       "11493        #D       951334         2       12.0     1069.0   \n",
       "\n",
       "                created_at            addr_street addr_city  addr_zip  \\\n",
       "8007   2018-06-04 15:07:12     420 EAST 86 STREET  New York     10028   \n",
       "9265   2018-05-06 20:10:38    821 RIVERSIDE DRIVE  New York     10032   \n",
       "11493  2018-05-09 10:46:26  105 OCEANA DRIVE EAST  Brooklyn     11235   \n",
       "\n",
       "        addr_lat  ...    borough  unit  floornumber  line  dist_centralPark  \\\n",
       "8007   40.776358  ...  Manhattan     7          NaN   NaN          1.414322   \n",
       "9265   40.835610  ...  Manhattan     6          6.0   NaN          6.383994   \n",
       "11493  40.576302  ...   Brooklyn     D          NaN   NaN         22.659068   \n",
       "\n",
       "       dist_timeSquare  STATE  Adjusted gross income (AGI) [5]  \\\n",
       "8007          3.696479     NY                       10544654.0   \n",
       "9265          9.243970     NY                        1204675.0   \n",
       "11493        20.341527     NY                        2391564.0   \n",
       "\n",
       "       Total income amount  Salaries and wages amount  \n",
       "8007            10676779.0                  4532168.0  \n",
       "9265             1220621.0                  1035413.0  \n",
       "11493            2423909.0                  1747241.0  \n",
       "\n",
       "[3 rows x 44 columns]"
      ]
     },
     "execution_count": 62,
     "metadata": {},
     "output_type": "execute_result"
    }
   ],
   "source": [
    "obath_df = train_df.loc[train_df.bathrooms>=8]\n",
    "obath_df\n",
    "## These baths are errors as the description says they are only 2 bathrooms so we will change these to 2"
   ]
  },
  {
   "cell_type": "code",
   "execution_count": 63,
   "metadata": {
    "colab": {},
    "colab_type": "code",
    "id": "Pimd5dJAfCfX"
   },
   "outputs": [],
   "source": [
    " train_features.loc[train_features['bathrooms']>=8, 'bathrooms']=2"
   ]
  },
  {
   "cell_type": "code",
   "execution_count": 64,
   "metadata": {
    "colab": {
     "base_uri": "https://localhost:8080/",
     "height": 168
    },
    "colab_type": "code",
    "id": "lX5kmOrJfYGm",
    "outputId": "bd93d357-f0a6-457d-bfc7-39ad89706b3c"
   },
   "outputs": [
    {
     "data": {
      "text/plain": [
       "count    12000.000000\n",
       "mean         1.236333\n",
       "std          0.515107\n",
       "min          0.000000\n",
       "25%          1.000000\n",
       "50%          1.000000\n",
       "75%          1.000000\n",
       "max          7.000000\n",
       "Name: bathrooms, dtype: float64"
      ]
     },
     "execution_count": 64,
     "metadata": {},
     "output_type": "execute_result"
    }
   ],
   "source": [
    "train_features['bathrooms'].describe()"
   ]
  },
  {
   "cell_type": "markdown",
   "metadata": {
    "colab_type": "text",
    "id": "aPjrrxHJot6h"
   },
   "source": [
    "## Data Modelling \n",
    "This section we look at different models and model our training data"
   ]
  },
  {
   "cell_type": "code",
   "execution_count": 65,
   "metadata": {
    "colab": {
     "base_uri": "https://localhost:8080/",
     "height": 202
    },
    "colab_type": "code",
    "id": "sgsw3jxTpHL5",
    "outputId": "50338fac-e016-4b16-e5cd-33ec48094f75"
   },
   "outputs": [
    {
     "name": "stderr",
     "output_type": "stream",
     "text": [
      "c:\\users\\taimoor\\appdata\\local\\programs\\python\\python37-32\\lib\\site-packages\\sklearn\\ensemble\\forest.py:245: FutureWarning: The default value of n_estimators will change from 10 in version 0.20 to 100 in 0.22.\n",
      "  \"10 in version 0.20 to 100 in 0.22.\", FutureWarning)\n"
     ]
    },
    {
     "data": {
      "text/plain": [
       "GradientBoostingRegressor(alpha=0.9, criterion='friedman_mse', init=None,\n",
       "                          learning_rate=0.1, loss='ls', max_depth=3,\n",
       "                          max_features=None, max_leaf_nodes=None,\n",
       "                          min_impurity_decrease=0.0, min_impurity_split=None,\n",
       "                          min_samples_leaf=1, min_samples_split=2,\n",
       "                          min_weight_fraction_leaf=0.0, n_estimators=100,\n",
       "                          n_iter_no_change=None, presort='auto',\n",
       "                          random_state=None, subsample=1.0, tol=0.0001,\n",
       "                          validation_fraction=0.1, verbose=0, warm_start=False)"
      ]
     },
     "execution_count": 65,
     "metadata": {},
     "output_type": "execute_result"
    }
   ],
   "source": [
    "# training a linear regression model\n",
    "lreg = LinearRegression()\n",
    "lreg.fit(train_features, train_target)\n",
    "\n",
    "# training a random forest regression model\n",
    "rf = RandomForestRegressor()\n",
    "rf.fit(train_features, train_target)\n",
    "\n",
    "#training a gradient boosting regressor\n",
    "gbt = GradientBoostingRegressor( )\n",
    "gbt.fit(train_features, train_target)"
   ]
  },
  {
   "cell_type": "code",
   "execution_count": 66,
   "metadata": {
    "colab": {},
    "colab_type": "code",
    "id": "8sNqibK39M43"
   },
   "outputs": [],
   "source": [
    "test_features = test_df[feature_cols] \n",
    "\n",
    "# impute missing values with medians\n",
    "test_features = test_features.fillna(train_features.mean(), axis=0)"
   ]
  },
  {
   "cell_type": "code",
   "execution_count": 67,
   "metadata": {
    "colab": {
     "base_uri": "https://localhost:8080/",
     "height": 34
    },
    "colab_type": "code",
    "id": "eb0I0fZM8E7R",
    "outputId": "74b14cd2-a25b-4be2-c5e7-f897dc823078"
   },
   "outputs": [
    {
     "data": {
      "text/plain": [
       "3302751.603647452"
      ]
     },
     "execution_count": 67,
     "metadata": {},
     "output_type": "execute_result"
    }
   ],
   "source": [
    "# construct predictions for linear regression \n",
    "test_df['predicted'] = lreg.predict(test_features)\n",
    "\n",
    "mean_squared_error(test_df['rent'], test_df['predicted'])"
   ]
  },
  {
   "cell_type": "code",
   "execution_count": 68,
   "metadata": {
    "colab": {
     "base_uri": "https://localhost:8080/",
     "height": 402
    },
    "colab_type": "code",
    "id": "4gni9W5AitcY",
    "outputId": "14b9df98-581f-4002-81b2-bd5e572da83e"
   },
   "outputs": [
    {
     "data": {
      "text/html": [
       "<div>\n",
       "<style scoped>\n",
       "    .dataframe tbody tr th:only-of-type {\n",
       "        vertical-align: middle;\n",
       "    }\n",
       "\n",
       "    .dataframe tbody tr th {\n",
       "        vertical-align: top;\n",
       "    }\n",
       "\n",
       "    .dataframe thead th {\n",
       "        text-align: right;\n",
       "    }\n",
       "</style>\n",
       "<table border=\"1\" class=\"dataframe\">\n",
       "  <thead>\n",
       "    <tr style=\"text-align: right;\">\n",
       "      <th></th>\n",
       "      <th>Est. Coefficient</th>\n",
       "    </tr>\n",
       "  </thead>\n",
       "  <tbody>\n",
       "    <tr>\n",
       "      <td>bedrooms</td>\n",
       "      <td>-61.783632</td>\n",
       "    </tr>\n",
       "    <tr>\n",
       "      <td>year_built</td>\n",
       "      <td>-0.180048</td>\n",
       "    </tr>\n",
       "    <tr>\n",
       "      <td>bathrooms</td>\n",
       "      <td>1412.905146</td>\n",
       "    </tr>\n",
       "    <tr>\n",
       "      <td>min_to_subway</td>\n",
       "      <td>-0.007233</td>\n",
       "    </tr>\n",
       "    <tr>\n",
       "      <td>size_sqft</td>\n",
       "      <td>3.387089</td>\n",
       "    </tr>\n",
       "    <tr>\n",
       "      <td>no_fee</td>\n",
       "      <td>-112.197459</td>\n",
       "    </tr>\n",
       "    <tr>\n",
       "      <td>has_doorman</td>\n",
       "      <td>386.423625</td>\n",
       "    </tr>\n",
       "    <tr>\n",
       "      <td>has_washer_dryer</td>\n",
       "      <td>312.602948</td>\n",
       "    </tr>\n",
       "    <tr>\n",
       "      <td>floornumber</td>\n",
       "      <td>29.991998</td>\n",
       "    </tr>\n",
       "    <tr>\n",
       "      <td>dist_centralPark</td>\n",
       "      <td>127.328548</td>\n",
       "    </tr>\n",
       "    <tr>\n",
       "      <td>dist_timeSquare</td>\n",
       "      <td>-256.804472</td>\n",
       "    </tr>\n",
       "    <tr>\n",
       "      <td>Total income amount</td>\n",
       "      <td>0.000092</td>\n",
       "    </tr>\n",
       "  </tbody>\n",
       "</table>\n",
       "</div>"
      ],
      "text/plain": [
       "                     Est. Coefficient\n",
       "bedrooms                   -61.783632\n",
       "year_built                  -0.180048\n",
       "bathrooms                 1412.905146\n",
       "min_to_subway               -0.007233\n",
       "size_sqft                    3.387089\n",
       "no_fee                    -112.197459\n",
       "has_doorman                386.423625\n",
       "has_washer_dryer           312.602948\n",
       "floornumber                 29.991998\n",
       "dist_centralPark           127.328548\n",
       "dist_timeSquare           -256.804472\n",
       "Total income amount          0.000092"
      ]
     },
     "execution_count": 68,
     "metadata": {},
     "output_type": "execute_result"
    }
   ],
   "source": [
    "pd.DataFrame(lreg.coef_, index=feature_cols,  columns = ['Est. Coefficient'])"
   ]
  },
  {
   "cell_type": "code",
   "execution_count": 69,
   "metadata": {
    "colab": {
     "base_uri": "https://localhost:8080/",
     "height": 305
    },
    "colab_type": "code",
    "id": "pswqLCf5kZdP",
    "outputId": "2b091a4e-517f-4d60-938a-9e2dfe4f6c32"
   },
   "outputs": [
    {
     "data": {
      "image/png": "[encoded data removed]",
      "text/plain": [
       "<Figure size 432x288 with 1 Axes>"
      ]
     },
     "metadata": {
      "needs_background": "light"
     },
     "output_type": "display_data"
    }
   ],
   "source": [
    "_ = plt.scatter(train_df['rent'], lreg.predict(train_features))\n",
    "_ = plt.xlabel(\"Rents: $Y_i$\")\n",
    "_ = plt.ylabel(\"Predicted rents: $\\hat{Y}_i$\")\n",
    "_ = plt.title(\"Rents vs Predicted Rents: $Y_i$ vs $\\hat{Y}_i$\")\n",
    "_ = plt.plot([0, 20000], [0, 20000], linewidth=4, color='red')"
   ]
  },
  {
   "cell_type": "code",
   "execution_count": 70,
   "metadata": {
    "colab": {
     "base_uri": "https://localhost:8080/",
     "height": 34
    },
    "colab_type": "code",
    "id": "Sp72Ave09snn",
    "outputId": "6d7abed8-1bdd-4389-edb3-1cdf7601f155"
   },
   "outputs": [
    {
     "data": {
      "text/plain": [
       "1829975.763834846"
      ]
     },
     "execution_count": 70,
     "metadata": {},
     "output_type": "execute_result"
    }
   ],
   "source": [
    "# construct predictions for random forest regression\n",
    "test_df['predicted'] = rf.predict(test_features)\n",
    "\n",
    "mean_squared_error(test_df['rent'], test_df['predicted'])"
   ]
  },
  {
   "cell_type": "code",
   "execution_count": 71,
   "metadata": {
    "colab": {
     "base_uri": "https://localhost:8080/",
     "height": 34
    },
    "colab_type": "code",
    "id": "9eDsuYKX9ouI",
    "outputId": "fd28197c-9b2e-42d4-a25a-3a094c26b957"
   },
   "outputs": [
    {
     "data": {
      "text/plain": [
       "1784413.7499149593"
      ]
     },
     "execution_count": 71,
     "metadata": {},
     "output_type": "execute_result"
    }
   ],
   "source": [
    "# construct predictions for gradient boosting regression\n",
    "test_df['predicted'] = gbt.predict(test_features)\n",
    "\n",
    "mean_squared_error(test_df['rent'], test_df['predicted'])"
   ]
  },
  {
   "cell_type": "markdown",
   "metadata": {
    "colab_type": "text",
    "id": "9IVaqCL3pKBX"
   },
   "source": [
    "## Summary of Results and Further Work\n",
    "This section we look at the results of the modelling. Compare the results of the different models and then make decisions about further work to try improve the accuracy of our model in predicting the rents."
   ]
  },
  {
   "cell_type": "markdown",
   "metadata": {
    "colab_type": "text",
    "id": "TogmF-qsbvsP"
   },
   "source": [
    "|        Model       |                  Description              |         MSE       |\n",
    "|:-------------------|:-----------------------------------------:|------------------:|\n",
    "|  Linear Regression | Part 1 Results | 3149962.9103451534|\n",
    "|   Random Forrest   | Part 1 Results  | 1714305.522788979 |\n",
    "|  Linear Regression |         Data processed    | 3376496.050180577|\n",
    "|  Random Forrest    |            Data processed       | 1863485.08330918 |\n",
    "|  Gradient Boosting | Data processed | 1892829.8327573643\n",
    " |  Linear Regression |    Data processed (mean) | 3374010.081873952|\n",
    "|  Random Forrest    |     Data processed (mean used) | 1793222.516178181 |\n",
    "|  Gradient Boosting | Data processed | 1930595.698479731\n",
    "|  Random Forrest    |   Income feature added| 1665017.1774451786 |\n",
    "|  Gradient Boosting | Income | 1779734.0699590286 |\n"
   ]
  },
  {
   "cell_type": "markdown",
   "metadata": {
    "colab_type": "text",
    "id": "_ARZmVOeyxyj"
   },
   "source": [
    "Notes about analysis:\n",
    "\n",
    "SQft min of 300 was just an estimated guess for min value.\n",
    "\n",
    "Changing min number of bedrooms from 0 to 1 increased the MSE for RF model and decreased the importance of the bedrooms feature from 2 to 1%. Dont recommend we do this as 0 bedroom represents studios in general looking at descriptions. "
   ]
  },
  {
   "cell_type": "code",
   "execution_count": 72,
   "metadata": {
    "colab": {
     "base_uri": "https://localhost:8080/",
     "height": 235
    },
    "colab_type": "code",
    "id": "myzjIGHjpDdT",
    "outputId": "4471962c-8673-4790-bb13-3ac8e3680f34",
    "scrolled": false
   },
   "outputs": [
    {
     "name": "stdout",
     "output_type": "stream",
     "text": [
      "Variable: size_sqft            Importance: 0.58\n",
      "Variable: dist_timeSquare      Importance: 0.13\n",
      "Variable: bathrooms            Importance: 0.11\n",
      "Variable: Total income amount  Importance: 0.06\n",
      "Variable: dist_centralPark     Importance: 0.03\n",
      "Variable: bedrooms             Importance: 0.02\n",
      "Variable: year_built           Importance: 0.02\n",
      "Variable: min_to_subway        Importance: 0.02\n",
      "Variable: floornumber          Importance: 0.02\n",
      "Variable: has_doorman          Importance: 0.01\n",
      "Variable: has_washer_dryer     Importance: 0.01\n",
      "Variable: no_fee               Importance: 0.0\n"
     ]
    },
    {
     "data": {
      "text/plain": [
       "[None, None, None, None, None, None, None, None, None, None, None, None]"
      ]
     },
     "execution_count": 72,
     "metadata": {},
     "output_type": "execute_result"
    }
   ],
   "source": [
    "# Get numerical feature importances\n",
    "importances = list(rf.feature_importances_)\n",
    "# List of tuples with variable and importance\n",
    "feature_importances = [(feature, round(importance, 2)) for feature, importance in zip(test_features, importances)]\n",
    "# Sort the feature importances by most important first\n",
    "feature_importances = sorted(feature_importances, key = lambda x: x[1], reverse = True)\n",
    "# Print out the feature and importances \n",
    "[print('Variable: {:20} Importance: {}'.format(*pair)) for pair in feature_importances]"
   ]
  },
  {
   "cell_type": "code",
   "execution_count": 73,
   "metadata": {
    "colab": {
     "base_uri": "https://localhost:8080/",
     "height": 34
    },
    "colab_type": "code",
    "id": "gChBHajzuvD5",
    "outputId": "3c667dc7-392e-4cb6-e512-1875ddfbb6a2"
   },
   "outputs": [
    {
     "data": {
      "text/plain": [
       "0.7607114995880504"
      ]
     },
     "execution_count": 73,
     "metadata": {},
     "output_type": "execute_result"
    }
   ],
   "source": [
    "r2_score(test_df['rent'], test_df['predicted'])"
   ]
  }
 ],
 "metadata": {
  "colab": {
   "collapsed_sections": [],
   "name": "Part_2_Final_Project_Draft.ipynb",
   "provenance": []
  },
  "kernelspec": {
   "display_name": "Python 3",
   "language": "python",
   "name": "python3"
  },
  "language_info": {
   "codemirror_mode": {
    "name": "ipython",
    "version": 3
   },
   "file_extension": ".py",
   "mimetype": "text/x-python",
   "name": "python",
   "nbconvert_exporter": "python",
   "pygments_lexer": "ipython3",
   "version": "3.7.0"
  }
 },
 "nbformat": 4,
 "nbformat_minor": 1
}

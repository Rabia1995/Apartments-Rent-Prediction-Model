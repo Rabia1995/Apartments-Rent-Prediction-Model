{
 "cells": [
  {
   "cell_type": "markdown",
   "metadata": {
    "colab_type": "text",
    "id": "V6W7COL-nwCv"
   },
   "source": [
    "# Data Science Final Project: Part 2 Analysis\n",
    "\n",
    "---\n",
    "\n",
    "\n",
    "\n",
    "This is analysis of the rental data. In this file we will look at cleaning up the training data to reduce the MSE. Most of the work is in Data Exploration and Data preprocessing. \n",
    "\n",
    "\n",
    "1.   Data Exploration [https://colab.research.google.com/drive/1ui-CU-qfreGNuP69NaVPlmFKIiNBFxuL#scrollTo=K-ZZpcoaiGY6]\n",
    "2.   Data Preprocessing [https://colab.research.google.com/drive/1ui-CU-qfreGNuP69NaVPlmFKIiNBFxuL#scrollTo=HgGR6M-aojEZ]\n",
    "3.   Data Modelling [https://colab.research.google.com/drive/1ui-CU-qfreGNuP69NaVPlmFKIiNBFxuL#scrollTo=aPjrrxHJot6h]\n",
    "4.  Summary of Results and Further Work [https://colab.research.google.com/drive/1ui-CU-qfreGNuP69NaVPlmFKIiNBFxuL#scrollTo=9IVaqCL3pKBX]\n",
    "\n",
    "\n",
    "\n"
   ]
  },
  {
   "cell_type": "code",
   "execution_count": 1,
   "metadata": {
    "colab": {},
    "colab_type": "code",
    "id": "uTI3FuQFqCEH"
   },
   "outputs": [],
   "source": [
    "import numpy as np\n",
    "import pandas as pd\n",
    "import matplotlib.pyplot as plt\n",
    "import seaborn as sns\n",
    "\n",
    "from sklearn.linear_model import LinearRegression\n",
    "from sklearn.metrics import mean_squared_error\n",
    "\n",
    "from sklearn.ensemble import RandomForestRegressor\n",
    "from sklearn.ensemble import GradientBoostingRegressor\n",
    "\n",
    "%matplotlib inline"
   ]
  },
  {
   "cell_type": "code",
   "execution_count": 2,
   "metadata": {
    "colab": {},
    "colab_type": "code",
    "id": "fn-ehv0SqH7y"
   },
   "outputs": [],
   "source": [
    "train_df = pd.read_csv('https://grantmlong.com/data/SE_rents2018_train.csv', index_col=0)\n",
    "test_df = pd.read_csv('https://grantmlong.com/data/SE_rents2018_test1.csv', index_col=0)\n",
    "submit1_df = pd.read_csv('https://grantmlong.com/data/SE_rents2018_test2.csv', index_col=0)\n",
    "submit2_df = pd.read_csv('https://grantmlong.com/data/SE_rents2018_test3.csv', index_col=0)"
   ]
  },
  {
   "cell_type": "markdown",
   "metadata": {
    "colab_type": "text",
    "id": "K-ZZpcoaiGY6"
   },
   "source": [
    "## Data Exploration\n",
    "\n",
    "This section we look at the data and determine the features for our model. We build our training data\n",
    "\n",
    "\n"
   ]
  },
  {
   "cell_type": "code",
   "execution_count": 3,
   "metadata": {
    "colab": {
     "base_uri": "https://localhost:8080/",
     "height": 1000
    },
    "colab_type": "code",
    "id": "D5_s5QoOohQ9",
    "outputId": "c5c5462f-98c3-446d-f6de-1745805987da"
   },
   "outputs": [
    {
     "data": {
      "text/html": [
       "<div>\n",
       "<style scoped>\n",
       "    .dataframe tbody tr th:only-of-type {\n",
       "        vertical-align: middle;\n",
       "    }\n",
       "\n",
       "    .dataframe tbody tr th {\n",
       "        vertical-align: top;\n",
       "    }\n",
       "\n",
       "    .dataframe thead th {\n",
       "        text-align: right;\n",
       "    }\n",
       "</style>\n",
       "<table border=\"1\" class=\"dataframe\">\n",
       "  <thead>\n",
       "    <tr style=\"text-align: right;\">\n",
       "      <th>rental_id</th>\n",
       "      <th>7176649</th>\n",
       "      <th>7407586</th>\n",
       "      <th>7363522</th>\n",
       "      <th>7305208</th>\n",
       "      <th>7183885</th>\n",
       "    </tr>\n",
       "  </thead>\n",
       "  <tbody>\n",
       "    <tr>\n",
       "      <td>addr_unit</td>\n",
       "      <td>#TWOL</td>\n",
       "      <td>#1J</td>\n",
       "      <td>#427</td>\n",
       "      <td>#C7</td>\n",
       "      <td>#4B</td>\n",
       "    </tr>\n",
       "    <tr>\n",
       "      <td>building_id</td>\n",
       "      <td>383854</td>\n",
       "      <td>1395931</td>\n",
       "      <td>349444</td>\n",
       "      <td>1293502</td>\n",
       "      <td>219274</td>\n",
       "    </tr>\n",
       "    <tr>\n",
       "      <td>bedrooms</td>\n",
       "      <td>2</td>\n",
       "      <td>3</td>\n",
       "      <td>1</td>\n",
       "      <td>2</td>\n",
       "      <td>3</td>\n",
       "    </tr>\n",
       "    <tr>\n",
       "      <td>bathrooms</td>\n",
       "      <td>1</td>\n",
       "      <td>2</td>\n",
       "      <td>1</td>\n",
       "      <td>1</td>\n",
       "      <td>2</td>\n",
       "    </tr>\n",
       "    <tr>\n",
       "      <td>size_sqft</td>\n",
       "      <td>0</td>\n",
       "      <td>1500</td>\n",
       "      <td>750</td>\n",
       "      <td>805</td>\n",
       "      <td>1362</td>\n",
       "    </tr>\n",
       "    <tr>\n",
       "      <td>created_at</td>\n",
       "      <td>2018-05-14 17:59:25</td>\n",
       "      <td>2018-07-25 16:49:58</td>\n",
       "      <td>2018-07-13 13:08:03</td>\n",
       "      <td>2018-06-25 15:12:52</td>\n",
       "      <td>2018-05-16 16:10:47</td>\n",
       "    </tr>\n",
       "    <tr>\n",
       "      <td>addr_street</td>\n",
       "      <td>180 MESEROLE STREET</td>\n",
       "      <td>68-60 108 STREET</td>\n",
       "      <td>250 NORTH 10 STREET</td>\n",
       "      <td>20-64 31 STREET</td>\n",
       "      <td>279 PROSPECT AVENUE</td>\n",
       "    </tr>\n",
       "    <tr>\n",
       "      <td>addr_city</td>\n",
       "      <td>Brooklyn</td>\n",
       "      <td>Forest Hills</td>\n",
       "      <td>Brooklyn</td>\n",
       "      <td>Astoria</td>\n",
       "      <td>Brooklyn</td>\n",
       "    </tr>\n",
       "    <tr>\n",
       "      <td>addr_zip</td>\n",
       "      <td>11206</td>\n",
       "      <td>11375</td>\n",
       "      <td>11211</td>\n",
       "      <td>11105</td>\n",
       "      <td>11215</td>\n",
       "    </tr>\n",
       "    <tr>\n",
       "      <td>addr_lat</td>\n",
       "      <td>40.708</td>\n",
       "      <td>40.7252</td>\n",
       "      <td>40.7174</td>\n",
       "      <td>40.7786</td>\n",
       "      <td>40.6637</td>\n",
       "    </tr>\n",
       "    <tr>\n",
       "      <td>addr_lon</td>\n",
       "      <td>-73.9421</td>\n",
       "      <td>-73.8461</td>\n",
       "      <td>-73.9531</td>\n",
       "      <td>-73.9083</td>\n",
       "      <td>-73.989</td>\n",
       "    </tr>\n",
       "    <tr>\n",
       "      <td>bin</td>\n",
       "      <td>3.07114e+06</td>\n",
       "      <td>4.05223e+06</td>\n",
       "      <td>3.3981e+06</td>\n",
       "      <td>4.44946e+06</td>\n",
       "      <td>3.32516e+06</td>\n",
       "    </tr>\n",
       "    <tr>\n",
       "      <td>bbl</td>\n",
       "      <td>3030530016</td>\n",
       "      <td>4022110018</td>\n",
       "      <td>3023070001</td>\n",
       "      <td>4008480064</td>\n",
       "      <td>3010537501</td>\n",
       "    </tr>\n",
       "    <tr>\n",
       "      <td>floor_count</td>\n",
       "      <td>3</td>\n",
       "      <td>6</td>\n",
       "      <td>6</td>\n",
       "      <td>4</td>\n",
       "      <td>5</td>\n",
       "    </tr>\n",
       "    <tr>\n",
       "      <td>year_built</td>\n",
       "      <td>1920</td>\n",
       "      <td>1929</td>\n",
       "      <td>2014</td>\n",
       "      <td>1926</td>\n",
       "      <td>2004</td>\n",
       "    </tr>\n",
       "    <tr>\n",
       "      <td>min_to_subway</td>\n",
       "      <td>1.1</td>\n",
       "      <td>4.3667</td>\n",
       "      <td>3.85</td>\n",
       "      <td>5.1167</td>\n",
       "      <td>103344</td>\n",
       "    </tr>\n",
       "    <tr>\n",
       "      <td>has_doorman</td>\n",
       "      <td>0</td>\n",
       "      <td>0</td>\n",
       "      <td>1</td>\n",
       "      <td>0</td>\n",
       "      <td>0</td>\n",
       "    </tr>\n",
       "    <tr>\n",
       "      <td>has_elevator</td>\n",
       "      <td>0</td>\n",
       "      <td>0</td>\n",
       "      <td>1</td>\n",
       "      <td>0</td>\n",
       "      <td>1</td>\n",
       "    </tr>\n",
       "    <tr>\n",
       "      <td>has_fireplace</td>\n",
       "      <td>0</td>\n",
       "      <td>1</td>\n",
       "      <td>0</td>\n",
       "      <td>0</td>\n",
       "      <td>0</td>\n",
       "    </tr>\n",
       "    <tr>\n",
       "      <td>has_dishwasher</td>\n",
       "      <td>0</td>\n",
       "      <td>1</td>\n",
       "      <td>1</td>\n",
       "      <td>0</td>\n",
       "      <td>1</td>\n",
       "    </tr>\n",
       "    <tr>\n",
       "      <td>is_furnished</td>\n",
       "      <td>0</td>\n",
       "      <td>0</td>\n",
       "      <td>0</td>\n",
       "      <td>0</td>\n",
       "      <td>0</td>\n",
       "    </tr>\n",
       "    <tr>\n",
       "      <td>has_gym</td>\n",
       "      <td>0</td>\n",
       "      <td>0</td>\n",
       "      <td>1</td>\n",
       "      <td>0</td>\n",
       "      <td>0</td>\n",
       "    </tr>\n",
       "    <tr>\n",
       "      <td>allows_pets</td>\n",
       "      <td>0</td>\n",
       "      <td>1</td>\n",
       "      <td>1</td>\n",
       "      <td>0</td>\n",
       "      <td>0</td>\n",
       "    </tr>\n",
       "    <tr>\n",
       "      <td>has_washer_dryer</td>\n",
       "      <td>0</td>\n",
       "      <td>0</td>\n",
       "      <td>1</td>\n",
       "      <td>0</td>\n",
       "      <td>1</td>\n",
       "    </tr>\n",
       "    <tr>\n",
       "      <td>has_garage</td>\n",
       "      <td>0</td>\n",
       "      <td>0</td>\n",
       "      <td>1</td>\n",
       "      <td>0</td>\n",
       "      <td>1</td>\n",
       "    </tr>\n",
       "    <tr>\n",
       "      <td>has_roofdeck</td>\n",
       "      <td>1</td>\n",
       "      <td>0</td>\n",
       "      <td>1</td>\n",
       "      <td>0</td>\n",
       "      <td>0</td>\n",
       "    </tr>\n",
       "    <tr>\n",
       "      <td>has_concierge</td>\n",
       "      <td>0</td>\n",
       "      <td>0</td>\n",
       "      <td>1</td>\n",
       "      <td>0</td>\n",
       "      <td>0</td>\n",
       "    </tr>\n",
       "    <tr>\n",
       "      <td>has_pool</td>\n",
       "      <td>0</td>\n",
       "      <td>0</td>\n",
       "      <td>0</td>\n",
       "      <td>0</td>\n",
       "      <td>0</td>\n",
       "    </tr>\n",
       "    <tr>\n",
       "      <td>has_garden</td>\n",
       "      <td>0</td>\n",
       "      <td>0</td>\n",
       "      <td>1</td>\n",
       "      <td>0</td>\n",
       "      <td>0</td>\n",
       "    </tr>\n",
       "    <tr>\n",
       "      <td>has_childrens_playroom</td>\n",
       "      <td>0</td>\n",
       "      <td>0</td>\n",
       "      <td>0</td>\n",
       "      <td>0</td>\n",
       "      <td>0</td>\n",
       "    </tr>\n",
       "    <tr>\n",
       "      <td>rent</td>\n",
       "      <td>2400</td>\n",
       "      <td>3500</td>\n",
       "      <td>3351</td>\n",
       "      <td>2415</td>\n",
       "      <td>4750</td>\n",
       "    </tr>\n",
       "    <tr>\n",
       "      <td>no_fee</td>\n",
       "      <td>1</td>\n",
       "      <td>0</td>\n",
       "      <td>1</td>\n",
       "      <td>0</td>\n",
       "      <td>0</td>\n",
       "    </tr>\n",
       "    <tr>\n",
       "      <td>description</td>\n",
       "      <td>All Pets Allowed. Fresh coat of paint underway...</td>\n",
       "      <td>LOW FEE*** Exceptionally Very large Apt at pre...</td>\n",
       "      <td>*1 Month Free upfront on a 12 month lease*\\n\\n...</td>\n",
       "      <td>Totally Gut Renovated 2 Bedroom\\r\\nBrand New K...</td>\n",
       "      <td>Everything you've been looking for!\\r\\nSpaciou...</td>\n",
       "    </tr>\n",
       "    <tr>\n",
       "      <td>neighborhood</td>\n",
       "      <td>Williamsburg</td>\n",
       "      <td>Forest Hills</td>\n",
       "      <td>Williamsburg</td>\n",
       "      <td>Astoria</td>\n",
       "      <td>Park Slope</td>\n",
       "    </tr>\n",
       "    <tr>\n",
       "      <td>borough</td>\n",
       "      <td>Brooklyn</td>\n",
       "      <td>Queens</td>\n",
       "      <td>Brooklyn</td>\n",
       "      <td>Queens</td>\n",
       "      <td>Brooklyn</td>\n",
       "    </tr>\n",
       "    <tr>\n",
       "      <td>unit</td>\n",
       "      <td>TWOL</td>\n",
       "      <td>1J</td>\n",
       "      <td>427</td>\n",
       "      <td>C7</td>\n",
       "      <td>4B</td>\n",
       "    </tr>\n",
       "    <tr>\n",
       "      <td>floornumber</td>\n",
       "      <td>NaN</td>\n",
       "      <td>1</td>\n",
       "      <td>4</td>\n",
       "      <td>NaN</td>\n",
       "      <td>4</td>\n",
       "    </tr>\n",
       "    <tr>\n",
       "      <td>line</td>\n",
       "      <td>NaN</td>\n",
       "      <td>J</td>\n",
       "      <td>27</td>\n",
       "      <td>NaN</td>\n",
       "      <td>B</td>\n",
       "    </tr>\n",
       "  </tbody>\n",
       "</table>\n",
       "</div>"
      ],
      "text/plain": [
       "rental_id                                                         7176649  \\\n",
       "addr_unit                                                           #TWOL   \n",
       "building_id                                                        383854   \n",
       "bedrooms                                                                2   \n",
       "bathrooms                                                               1   \n",
       "size_sqft                                                               0   \n",
       "created_at                                            2018-05-14 17:59:25   \n",
       "addr_street                                           180 MESEROLE STREET   \n",
       "addr_city                                                        Brooklyn   \n",
       "addr_zip                                                            11206   \n",
       "addr_lat                                                           40.708   \n",
       "addr_lon                                                         -73.9421   \n",
       "bin                                                           3.07114e+06   \n",
       "bbl                                                            3030530016   \n",
       "floor_count                                                             3   \n",
       "year_built                                                           1920   \n",
       "min_to_subway                                                         1.1   \n",
       "has_doorman                                                             0   \n",
       "has_elevator                                                            0   \n",
       "has_fireplace                                                           0   \n",
       "has_dishwasher                                                          0   \n",
       "is_furnished                                                            0   \n",
       "has_gym                                                                 0   \n",
       "allows_pets                                                             0   \n",
       "has_washer_dryer                                                        0   \n",
       "has_garage                                                              0   \n",
       "has_roofdeck                                                            1   \n",
       "has_concierge                                                           0   \n",
       "has_pool                                                                0   \n",
       "has_garden                                                              0   \n",
       "has_childrens_playroom                                                  0   \n",
       "rent                                                                 2400   \n",
       "no_fee                                                                  1   \n",
       "description             All Pets Allowed. Fresh coat of paint underway...   \n",
       "neighborhood                                                 Williamsburg   \n",
       "borough                                                          Brooklyn   \n",
       "unit                                                                 TWOL   \n",
       "floornumber                                                           NaN   \n",
       "line                                                                  NaN   \n",
       "\n",
       "rental_id                                                         7407586  \\\n",
       "addr_unit                                                             #1J   \n",
       "building_id                                                       1395931   \n",
       "bedrooms                                                                3   \n",
       "bathrooms                                                               2   \n",
       "size_sqft                                                            1500   \n",
       "created_at                                            2018-07-25 16:49:58   \n",
       "addr_street                                              68-60 108 STREET   \n",
       "addr_city                                                    Forest Hills   \n",
       "addr_zip                                                            11375   \n",
       "addr_lat                                                          40.7252   \n",
       "addr_lon                                                         -73.8461   \n",
       "bin                                                           4.05223e+06   \n",
       "bbl                                                            4022110018   \n",
       "floor_count                                                             6   \n",
       "year_built                                                           1929   \n",
       "min_to_subway                                                      4.3667   \n",
       "has_doorman                                                             0   \n",
       "has_elevator                                                            0   \n",
       "has_fireplace                                                           1   \n",
       "has_dishwasher                                                          1   \n",
       "is_furnished                                                            0   \n",
       "has_gym                                                                 0   \n",
       "allows_pets                                                             1   \n",
       "has_washer_dryer                                                        0   \n",
       "has_garage                                                              0   \n",
       "has_roofdeck                                                            0   \n",
       "has_concierge                                                           0   \n",
       "has_pool                                                                0   \n",
       "has_garden                                                              0   \n",
       "has_childrens_playroom                                                  0   \n",
       "rent                                                                 3500   \n",
       "no_fee                                                                  0   \n",
       "description             LOW FEE*** Exceptionally Very large Apt at pre...   \n",
       "neighborhood                                                 Forest Hills   \n",
       "borough                                                            Queens   \n",
       "unit                                                                   1J   \n",
       "floornumber                                                             1   \n",
       "line                                                                    J   \n",
       "\n",
       "rental_id                                                         7363522  \\\n",
       "addr_unit                                                            #427   \n",
       "building_id                                                        349444   \n",
       "bedrooms                                                                1   \n",
       "bathrooms                                                               1   \n",
       "size_sqft                                                             750   \n",
       "created_at                                            2018-07-13 13:08:03   \n",
       "addr_street                                           250 NORTH 10 STREET   \n",
       "addr_city                                                        Brooklyn   \n",
       "addr_zip                                                            11211   \n",
       "addr_lat                                                          40.7174   \n",
       "addr_lon                                                         -73.9531   \n",
       "bin                                                            3.3981e+06   \n",
       "bbl                                                            3023070001   \n",
       "floor_count                                                             6   \n",
       "year_built                                                           2014   \n",
       "min_to_subway                                                        3.85   \n",
       "has_doorman                                                             1   \n",
       "has_elevator                                                            1   \n",
       "has_fireplace                                                           0   \n",
       "has_dishwasher                                                          1   \n",
       "is_furnished                                                            0   \n",
       "has_gym                                                                 1   \n",
       "allows_pets                                                             1   \n",
       "has_washer_dryer                                                        1   \n",
       "has_garage                                                              1   \n",
       "has_roofdeck                                                            1   \n",
       "has_concierge                                                           1   \n",
       "has_pool                                                                0   \n",
       "has_garden                                                              1   \n",
       "has_childrens_playroom                                                  0   \n",
       "rent                                                                 3351   \n",
       "no_fee                                                                  1   \n",
       "description             *1 Month Free upfront on a 12 month lease*\\n\\n...   \n",
       "neighborhood                                                 Williamsburg   \n",
       "borough                                                          Brooklyn   \n",
       "unit                                                                  427   \n",
       "floornumber                                                             4   \n",
       "line                                                                   27   \n",
       "\n",
       "rental_id                                                         7305208  \\\n",
       "addr_unit                                                             #C7   \n",
       "building_id                                                       1293502   \n",
       "bedrooms                                                                2   \n",
       "bathrooms                                                               1   \n",
       "size_sqft                                                             805   \n",
       "created_at                                            2018-06-25 15:12:52   \n",
       "addr_street                                               20-64 31 STREET   \n",
       "addr_city                                                         Astoria   \n",
       "addr_zip                                                            11105   \n",
       "addr_lat                                                          40.7786   \n",
       "addr_lon                                                         -73.9083   \n",
       "bin                                                           4.44946e+06   \n",
       "bbl                                                            4008480064   \n",
       "floor_count                                                             4   \n",
       "year_built                                                           1926   \n",
       "min_to_subway                                                      5.1167   \n",
       "has_doorman                                                             0   \n",
       "has_elevator                                                            0   \n",
       "has_fireplace                                                           0   \n",
       "has_dishwasher                                                          0   \n",
       "is_furnished                                                            0   \n",
       "has_gym                                                                 0   \n",
       "allows_pets                                                             0   \n",
       "has_washer_dryer                                                        0   \n",
       "has_garage                                                              0   \n",
       "has_roofdeck                                                            0   \n",
       "has_concierge                                                           0   \n",
       "has_pool                                                                0   \n",
       "has_garden                                                              0   \n",
       "has_childrens_playroom                                                  0   \n",
       "rent                                                                 2415   \n",
       "no_fee                                                                  0   \n",
       "description             Totally Gut Renovated 2 Bedroom\\r\\nBrand New K...   \n",
       "neighborhood                                                      Astoria   \n",
       "borough                                                            Queens   \n",
       "unit                                                                   C7   \n",
       "floornumber                                                           NaN   \n",
       "line                                                                  NaN   \n",
       "\n",
       "rental_id                                                         7183885  \n",
       "addr_unit                                                             #4B  \n",
       "building_id                                                        219274  \n",
       "bedrooms                                                                3  \n",
       "bathrooms                                                               2  \n",
       "size_sqft                                                            1362  \n",
       "created_at                                            2018-05-16 16:10:47  \n",
       "addr_street                                           279 PROSPECT AVENUE  \n",
       "addr_city                                                        Brooklyn  \n",
       "addr_zip                                                            11215  \n",
       "addr_lat                                                          40.6637  \n",
       "addr_lon                                                          -73.989  \n",
       "bin                                                           3.32516e+06  \n",
       "bbl                                                            3010537501  \n",
       "floor_count                                                             5  \n",
       "year_built                                                           2004  \n",
       "min_to_subway                                                      103344  \n",
       "has_doorman                                                             0  \n",
       "has_elevator                                                            1  \n",
       "has_fireplace                                                           0  \n",
       "has_dishwasher                                                          1  \n",
       "is_furnished                                                            0  \n",
       "has_gym                                                                 0  \n",
       "allows_pets                                                             0  \n",
       "has_washer_dryer                                                        1  \n",
       "has_garage                                                              1  \n",
       "has_roofdeck                                                            0  \n",
       "has_concierge                                                           0  \n",
       "has_pool                                                                0  \n",
       "has_garden                                                              0  \n",
       "has_childrens_playroom                                                  0  \n",
       "rent                                                                 4750  \n",
       "no_fee                                                                  0  \n",
       "description             Everything you've been looking for!\\r\\nSpaciou...  \n",
       "neighborhood                                                   Park Slope  \n",
       "borough                                                          Brooklyn  \n",
       "unit                                                                   4B  \n",
       "floornumber                                                             4  \n",
       "line                                                                    B  "
      ]
     },
     "execution_count": 3,
     "metadata": {},
     "output_type": "execute_result"
    }
   ],
   "source": [
    "train_df.sample(5).transpose()"
   ]
  },
  {
   "cell_type": "code",
   "execution_count": 4,
   "metadata": {
    "colab": {
     "base_uri": "https://localhost:8080/",
     "height": 34
    },
    "colab_type": "code",
    "id": "Z5F5catir0BW",
    "outputId": "e06c6546-7a71-48bf-a735-a275ea2fbb68"
   },
   "outputs": [
    {
     "data": {
      "text/plain": [
       "(12000, 38)"
      ]
     },
     "execution_count": 4,
     "metadata": {},
     "output_type": "execute_result"
    }
   ],
   "source": [
    "train_df.shape"
   ]
  },
  {
   "cell_type": "code",
   "execution_count": 5,
   "metadata": {
    "colab": {
     "base_uri": "https://localhost:8080/",
     "height": 34
    },
    "colab_type": "code",
    "id": "e-o5NYKor5j1",
    "outputId": "b9e2fa04-3fb1-4eea-ae50-d8b03bed90de"
   },
   "outputs": [
    {
     "data": {
      "text/plain": [
       "(2000, 38)"
      ]
     },
     "execution_count": 5,
     "metadata": {},
     "output_type": "execute_result"
    }
   ],
   "source": [
    "test_df.shape"
   ]
  },
  {
   "cell_type": "code",
   "execution_count": 6,
   "metadata": {
    "colab": {
     "base_uri": "https://localhost:8080/",
     "height": 34
    },
    "colab_type": "code",
    "id": "RyhV7rPgbvpw",
    "outputId": "635ae3c8-75e5-4b54-d1ef-4e7b5889f820"
   },
   "outputs": [
    {
     "data": {
      "text/plain": [
       "(2000, 38)"
      ]
     },
     "execution_count": 6,
     "metadata": {},
     "output_type": "execute_result"
    }
   ],
   "source": [
    "submit1_df.shape"
   ]
  },
  {
   "cell_type": "code",
   "execution_count": 7,
   "metadata": {
    "colab": {
     "base_uri": "https://localhost:8080/",
     "height": 269
    },
    "colab_type": "code",
    "id": "6j_eaNSqrT5D",
    "outputId": "b09f9e52-c735-41fa-aef3-8995a0288693"
   },
   "outputs": [
    {
     "data": {
      "image/png": "[encoded data removed]",
      "text/plain": [
       "<Figure size 432x288 with 1 Axes>"
      ]
     },
     "metadata": {
      "needs_background": "light"
     },
     "output_type": "display_data"
    }
   ],
   "source": [
    "_ = plt.hist(train_df['rent'], bins=100)"
   ]
  },
  {
   "cell_type": "code",
   "execution_count": 8,
   "metadata": {
    "colab": {
     "base_uri": "https://localhost:8080/",
     "height": 168
    },
    "colab_type": "code",
    "id": "K5EQekB9rUKa",
    "outputId": "c4dd1504-3abb-49f0-c555-94964b138c40"
   },
   "outputs": [
    {
     "data": {
      "text/plain": [
       "count    12000.000000\n",
       "mean      3605.762917\n",
       "std       2897.069446\n",
       "min       1250.000000\n",
       "25%       2250.000000\n",
       "50%       2900.000000\n",
       "75%       3900.000000\n",
       "max      50000.000000\n",
       "Name: rent, dtype: float64"
      ]
     },
     "execution_count": 8,
     "metadata": {},
     "output_type": "execute_result"
    }
   ],
   "source": [
    "train_df['rent'].describe()"
   ]
  },
  {
   "cell_type": "code",
   "execution_count": 9,
   "metadata": {
    "colab": {
     "base_uri": "https://localhost:8080/",
     "height": 34
    },
    "colab_type": "code",
    "id": "-lxPtxAprUfW",
    "outputId": "3d044093-8f2a-4f86-9277-139e1879429a"
   },
   "outputs": [
    {
     "data": {
      "text/plain": [
       "0"
      ]
     },
     "execution_count": 9,
     "metadata": {},
     "output_type": "execute_result"
    }
   ],
   "source": [
    "train_df['rent'].isna().sum()"
   ]
  },
  {
   "cell_type": "code",
   "execution_count": 10,
   "metadata": {
    "colab": {
     "base_uri": "https://localhost:8080/",
     "height": 54
    },
    "colab_type": "code",
    "id": "EAAqPpaCnI0d",
    "outputId": "d9442f3d-f531-4715-d12e-9d573f93c091"
   },
   "outputs": [
    {
     "name": "stdout",
     "output_type": "stream",
     "text": [
      "['addr_unit', 'building_id', 'bedrooms', 'bathrooms', 'size_sqft', 'created_at', 'addr_street', 'addr_city', 'addr_zip', 'addr_lat', 'addr_lon', 'bin', 'bbl', 'floor_count', 'year_built', 'min_to_subway', 'has_doorman', 'has_elevator', 'has_fireplace', 'has_dishwasher', 'is_furnished', 'has_gym', 'allows_pets', 'has_washer_dryer', 'has_garage', 'has_roofdeck', 'has_concierge', 'has_pool', 'has_garden', 'has_childrens_playroom', 'rent', 'no_fee', 'description', 'neighborhood', 'borough', 'unit', 'floornumber', 'line']\n"
     ]
    }
   ],
   "source": [
    "print(list(train_df))"
   ]
  },
  {
   "cell_type": "code",
   "execution_count": 11,
   "metadata": {
    "colab": {
     "base_uri": "https://localhost:8080/",
     "height": 304
    },
    "colab_type": "code",
    "id": "aMnR3TkCnI0f",
    "outputId": "b6a8e1ea-7f79-4a12-f834-aded136bb620"
   },
   "outputs": [
    {
     "data": {
      "text/html": [
       "<div>\n",
       "<style scoped>\n",
       "    .dataframe tbody tr th:only-of-type {\n",
       "        vertical-align: middle;\n",
       "    }\n",
       "\n",
       "    .dataframe tbody tr th {\n",
       "        vertical-align: top;\n",
       "    }\n",
       "\n",
       "    .dataframe thead th {\n",
       "        text-align: right;\n",
       "    }\n",
       "</style>\n",
       "<table border=\"1\" class=\"dataframe\">\n",
       "  <thead>\n",
       "    <tr style=\"text-align: right;\">\n",
       "      <th></th>\n",
       "      <th>building_id</th>\n",
       "      <th>bedrooms</th>\n",
       "      <th>bathrooms</th>\n",
       "      <th>size_sqft</th>\n",
       "      <th>addr_zip</th>\n",
       "      <th>addr_lat</th>\n",
       "      <th>addr_lon</th>\n",
       "      <th>bin</th>\n",
       "      <th>bbl</th>\n",
       "      <th>floor_count</th>\n",
       "      <th>...</th>\n",
       "      <th>has_washer_dryer</th>\n",
       "      <th>has_garage</th>\n",
       "      <th>has_roofdeck</th>\n",
       "      <th>has_concierge</th>\n",
       "      <th>has_pool</th>\n",
       "      <th>has_garden</th>\n",
       "      <th>has_childrens_playroom</th>\n",
       "      <th>rent</th>\n",
       "      <th>no_fee</th>\n",
       "      <th>floornumber</th>\n",
       "    </tr>\n",
       "  </thead>\n",
       "  <tbody>\n",
       "    <tr>\n",
       "      <td>count</td>\n",
       "      <td>1.200000e+04</td>\n",
       "      <td>12000.000000</td>\n",
       "      <td>12000.000000</td>\n",
       "      <td>12000.000000</td>\n",
       "      <td>12000.000000</td>\n",
       "      <td>12000.000000</td>\n",
       "      <td>12000.000000</td>\n",
       "      <td>1.199900e+04</td>\n",
       "      <td>1.200000e+04</td>\n",
       "      <td>12000.000000</td>\n",
       "      <td>...</td>\n",
       "      <td>12000.000000</td>\n",
       "      <td>12000.000000</td>\n",
       "      <td>12000.000000</td>\n",
       "      <td>12000.000000</td>\n",
       "      <td>12000.000000</td>\n",
       "      <td>12000.000000</td>\n",
       "      <td>12000.000000</td>\n",
       "      <td>12000.000000</td>\n",
       "      <td>12000.000000</td>\n",
       "      <td>10723.000000</td>\n",
       "    </tr>\n",
       "    <tr>\n",
       "      <td>mean</td>\n",
       "      <td>1.529133e+06</td>\n",
       "      <td>1.657667</td>\n",
       "      <td>1.239500</td>\n",
       "      <td>850.465750</td>\n",
       "      <td>10682.779667</td>\n",
       "      <td>40.727507</td>\n",
       "      <td>-73.956837</td>\n",
       "      <td>2.370093e+06</td>\n",
       "      <td>2.287120e+09</td>\n",
       "      <td>10.266608</td>\n",
       "      <td>...</td>\n",
       "      <td>0.271667</td>\n",
       "      <td>0.170000</td>\n",
       "      <td>0.264083</td>\n",
       "      <td>0.208583</td>\n",
       "      <td>0.073167</td>\n",
       "      <td>0.132083</td>\n",
       "      <td>0.090500</td>\n",
       "      <td>3605.762917</td>\n",
       "      <td>0.490000</td>\n",
       "      <td>6.182738</td>\n",
       "    </tr>\n",
       "    <tr>\n",
       "      <td>std</td>\n",
       "      <td>4.301123e+06</td>\n",
       "      <td>1.079771</td>\n",
       "      <td>0.560208</td>\n",
       "      <td>515.773101</td>\n",
       "      <td>593.370964</td>\n",
       "      <td>0.053241</td>\n",
       "      <td>0.043024</td>\n",
       "      <td>1.242919e+06</td>\n",
       "      <td>1.202105e+09</td>\n",
       "      <td>12.019787</td>\n",
       "      <td>...</td>\n",
       "      <td>0.444837</td>\n",
       "      <td>0.375648</td>\n",
       "      <td>0.440862</td>\n",
       "      <td>0.406313</td>\n",
       "      <td>0.260421</td>\n",
       "      <td>0.338595</td>\n",
       "      <td>0.286909</td>\n",
       "      <td>2897.069446</td>\n",
       "      <td>0.499921</td>\n",
       "      <td>7.671545</td>\n",
       "    </tr>\n",
       "    <tr>\n",
       "      <td>min</td>\n",
       "      <td>7.300000e+01</td>\n",
       "      <td>0.000000</td>\n",
       "      <td>0.000000</td>\n",
       "      <td>0.000000</td>\n",
       "      <td>10001.000000</td>\n",
       "      <td>40.573898</td>\n",
       "      <td>-74.141570</td>\n",
       "      <td>1.000000e+06</td>\n",
       "      <td>0.000000e+00</td>\n",
       "      <td>0.000000</td>\n",
       "      <td>...</td>\n",
       "      <td>0.000000</td>\n",
       "      <td>0.000000</td>\n",
       "      <td>0.000000</td>\n",
       "      <td>0.000000</td>\n",
       "      <td>0.000000</td>\n",
       "      <td>0.000000</td>\n",
       "      <td>0.000000</td>\n",
       "      <td>1250.000000</td>\n",
       "      <td>0.000000</td>\n",
       "      <td>0.000000</td>\n",
       "    </tr>\n",
       "    <tr>\n",
       "      <td>25%</td>\n",
       "      <td>6.209200e+04</td>\n",
       "      <td>1.000000</td>\n",
       "      <td>1.000000</td>\n",
       "      <td>610.000000</td>\n",
       "      <td>10023.000000</td>\n",
       "      <td>40.693256</td>\n",
       "      <td>-73.986076</td>\n",
       "      <td>1.052139e+06</td>\n",
       "      <td>1.011220e+09</td>\n",
       "      <td>3.000000</td>\n",
       "      <td>...</td>\n",
       "      <td>0.000000</td>\n",
       "      <td>0.000000</td>\n",
       "      <td>0.000000</td>\n",
       "      <td>0.000000</td>\n",
       "      <td>0.000000</td>\n",
       "      <td>0.000000</td>\n",
       "      <td>0.000000</td>\n",
       "      <td>2250.000000</td>\n",
       "      <td>0.000000</td>\n",
       "      <td>2.000000</td>\n",
       "    </tr>\n",
       "    <tr>\n",
       "      <td>50%</td>\n",
       "      <td>2.495815e+05</td>\n",
       "      <td>2.000000</td>\n",
       "      <td>1.000000</td>\n",
       "      <td>800.000000</td>\n",
       "      <td>11103.000000</td>\n",
       "      <td>40.729028</td>\n",
       "      <td>-73.961700</td>\n",
       "      <td>3.019358e+06</td>\n",
       "      <td>3.006580e+09</td>\n",
       "      <td>5.000000</td>\n",
       "      <td>...</td>\n",
       "      <td>0.000000</td>\n",
       "      <td>0.000000</td>\n",
       "      <td>0.000000</td>\n",
       "      <td>0.000000</td>\n",
       "      <td>0.000000</td>\n",
       "      <td>0.000000</td>\n",
       "      <td>0.000000</td>\n",
       "      <td>2900.000000</td>\n",
       "      <td>0.000000</td>\n",
       "      <td>3.000000</td>\n",
       "    </tr>\n",
       "    <tr>\n",
       "      <td>75%</td>\n",
       "      <td>8.225132e+05</td>\n",
       "      <td>2.000000</td>\n",
       "      <td>1.000000</td>\n",
       "      <td>1000.000000</td>\n",
       "      <td>11218.000000</td>\n",
       "      <td>40.764599</td>\n",
       "      <td>-73.936663</td>\n",
       "      <td>3.326098e+06</td>\n",
       "      <td>3.050580e+09</td>\n",
       "      <td>12.000000</td>\n",
       "      <td>...</td>\n",
       "      <td>1.000000</td>\n",
       "      <td>0.000000</td>\n",
       "      <td>1.000000</td>\n",
       "      <td>0.000000</td>\n",
       "      <td>0.000000</td>\n",
       "      <td>0.000000</td>\n",
       "      <td>0.000000</td>\n",
       "      <td>3900.000000</td>\n",
       "      <td>1.000000</td>\n",
       "      <td>6.000000</td>\n",
       "    </tr>\n",
       "    <tr>\n",
       "      <td>max</td>\n",
       "      <td>1.877210e+07</td>\n",
       "      <td>8.000000</td>\n",
       "      <td>20.000000</td>\n",
       "      <td>10000.000000</td>\n",
       "      <td>11694.000000</td>\n",
       "      <td>40.909842</td>\n",
       "      <td>-73.730550</td>\n",
       "      <td>5.158986e+06</td>\n",
       "      <td>5.010640e+09</td>\n",
       "      <td>90.000000</td>\n",
       "      <td>...</td>\n",
       "      <td>1.000000</td>\n",
       "      <td>1.000000</td>\n",
       "      <td>1.000000</td>\n",
       "      <td>1.000000</td>\n",
       "      <td>1.000000</td>\n",
       "      <td>1.000000</td>\n",
       "      <td>1.000000</td>\n",
       "      <td>50000.000000</td>\n",
       "      <td>1.000000</td>\n",
       "      <td>78.000000</td>\n",
       "    </tr>\n",
       "  </tbody>\n",
       "</table>\n",
       "<p>8 rows × 29 columns</p>\n",
       "</div>"
      ],
      "text/plain": [
       "        building_id      bedrooms     bathrooms     size_sqft      addr_zip  \\\n",
       "count  1.200000e+04  12000.000000  12000.000000  12000.000000  12000.000000   \n",
       "mean   1.529133e+06      1.657667      1.239500    850.465750  10682.779667   \n",
       "std    4.301123e+06      1.079771      0.560208    515.773101    593.370964   \n",
       "min    7.300000e+01      0.000000      0.000000      0.000000  10001.000000   \n",
       "25%    6.209200e+04      1.000000      1.000000    610.000000  10023.000000   \n",
       "50%    2.495815e+05      2.000000      1.000000    800.000000  11103.000000   \n",
       "75%    8.225132e+05      2.000000      1.000000   1000.000000  11218.000000   \n",
       "max    1.877210e+07      8.000000     20.000000  10000.000000  11694.000000   \n",
       "\n",
       "           addr_lat      addr_lon           bin           bbl   floor_count  \\\n",
       "count  12000.000000  12000.000000  1.199900e+04  1.200000e+04  12000.000000   \n",
       "mean      40.727507    -73.956837  2.370093e+06  2.287120e+09     10.266608   \n",
       "std        0.053241      0.043024  1.242919e+06  1.202105e+09     12.019787   \n",
       "min       40.573898    -74.141570  1.000000e+06  0.000000e+00      0.000000   \n",
       "25%       40.693256    -73.986076  1.052139e+06  1.011220e+09      3.000000   \n",
       "50%       40.729028    -73.961700  3.019358e+06  3.006580e+09      5.000000   \n",
       "75%       40.764599    -73.936663  3.326098e+06  3.050580e+09     12.000000   \n",
       "max       40.909842    -73.730550  5.158986e+06  5.010640e+09     90.000000   \n",
       "\n",
       "       ...  has_washer_dryer    has_garage  has_roofdeck  has_concierge  \\\n",
       "count  ...      12000.000000  12000.000000  12000.000000   12000.000000   \n",
       "mean   ...          0.271667      0.170000      0.264083       0.208583   \n",
       "std    ...          0.444837      0.375648      0.440862       0.406313   \n",
       "min    ...          0.000000      0.000000      0.000000       0.000000   \n",
       "25%    ...          0.000000      0.000000      0.000000       0.000000   \n",
       "50%    ...          0.000000      0.000000      0.000000       0.000000   \n",
       "75%    ...          1.000000      0.000000      1.000000       0.000000   \n",
       "max    ...          1.000000      1.000000      1.000000       1.000000   \n",
       "\n",
       "           has_pool    has_garden  has_childrens_playroom          rent  \\\n",
       "count  12000.000000  12000.000000            12000.000000  12000.000000   \n",
       "mean       0.073167      0.132083                0.090500   3605.762917   \n",
       "std        0.260421      0.338595                0.286909   2897.069446   \n",
       "min        0.000000      0.000000                0.000000   1250.000000   \n",
       "25%        0.000000      0.000000                0.000000   2250.000000   \n",
       "50%        0.000000      0.000000                0.000000   2900.000000   \n",
       "75%        0.000000      0.000000                0.000000   3900.000000   \n",
       "max        1.000000      1.000000                1.000000  50000.000000   \n",
       "\n",
       "             no_fee   floornumber  \n",
       "count  12000.000000  10723.000000  \n",
       "mean       0.490000      6.182738  \n",
       "std        0.499921      7.671545  \n",
       "min        0.000000      0.000000  \n",
       "25%        0.000000      2.000000  \n",
       "50%        0.000000      3.000000  \n",
       "75%        1.000000      6.000000  \n",
       "max        1.000000     78.000000  \n",
       "\n",
       "[8 rows x 29 columns]"
      ]
     },
     "execution_count": 11,
     "metadata": {},
     "output_type": "execute_result"
    }
   ],
   "source": [
    "train_df.describe()"
   ]
  },
  {
   "cell_type": "code",
   "execution_count": 12,
   "metadata": {
    "colab": {
     "base_uri": "https://localhost:8080/",
     "height": 926
    },
    "colab_type": "code",
    "id": "M3j05EiHr627",
    "outputId": "3ec05123-d302-4ccb-a199-cf20f5baabc1",
    "scrolled": false
   },
   "outputs": [
    {
     "data": {
      "text/html": [
       "<div>\n",
       "<style scoped>\n",
       "    .dataframe tbody tr th:only-of-type {\n",
       "        vertical-align: middle;\n",
       "    }\n",
       "\n",
       "    .dataframe tbody tr th {\n",
       "        vertical-align: top;\n",
       "    }\n",
       "\n",
       "    .dataframe thead th {\n",
       "        text-align: right;\n",
       "    }\n",
       "</style>\n",
       "<table border=\"1\" class=\"dataframe\">\n",
       "  <thead>\n",
       "    <tr style=\"text-align: right;\">\n",
       "      <th></th>\n",
       "      <th>building_id</th>\n",
       "      <th>bedrooms</th>\n",
       "      <th>bathrooms</th>\n",
       "      <th>size_sqft</th>\n",
       "      <th>addr_zip</th>\n",
       "      <th>addr_lat</th>\n",
       "      <th>addr_lon</th>\n",
       "      <th>bin</th>\n",
       "      <th>bbl</th>\n",
       "      <th>floor_count</th>\n",
       "      <th>...</th>\n",
       "      <th>has_washer_dryer</th>\n",
       "      <th>has_garage</th>\n",
       "      <th>has_roofdeck</th>\n",
       "      <th>has_concierge</th>\n",
       "      <th>has_pool</th>\n",
       "      <th>has_garden</th>\n",
       "      <th>has_childrens_playroom</th>\n",
       "      <th>rent</th>\n",
       "      <th>no_fee</th>\n",
       "      <th>floornumber</th>\n",
       "    </tr>\n",
       "  </thead>\n",
       "  <tbody>\n",
       "    <tr>\n",
       "      <td>building_id</td>\n",
       "      <td>1.000000</td>\n",
       "      <td>-0.001813</td>\n",
       "      <td>-0.016501</td>\n",
       "      <td>-0.006433</td>\n",
       "      <td>0.064199</td>\n",
       "      <td>-0.008653</td>\n",
       "      <td>0.105315</td>\n",
       "      <td>0.117460</td>\n",
       "      <td>0.090194</td>\n",
       "      <td>-0.116488</td>\n",
       "      <td>...</td>\n",
       "      <td>-0.030651</td>\n",
       "      <td>0.099141</td>\n",
       "      <td>-0.012773</td>\n",
       "      <td>-0.060398</td>\n",
       "      <td>0.038340</td>\n",
       "      <td>0.064100</td>\n",
       "      <td>0.011357</td>\n",
       "      <td>-0.035145</td>\n",
       "      <td>0.052429</td>\n",
       "      <td>-0.003418</td>\n",
       "    </tr>\n",
       "    <tr>\n",
       "      <td>bedrooms</td>\n",
       "      <td>-0.001813</td>\n",
       "      <td>1.000000</td>\n",
       "      <td>0.464287</td>\n",
       "      <td>0.525537</td>\n",
       "      <td>0.187639</td>\n",
       "      <td>-0.114986</td>\n",
       "      <td>0.093089</td>\n",
       "      <td>0.142331</td>\n",
       "      <td>0.151078</td>\n",
       "      <td>-0.228858</td>\n",
       "      <td>...</td>\n",
       "      <td>0.117120</td>\n",
       "      <td>-0.116837</td>\n",
       "      <td>-0.085111</td>\n",
       "      <td>-0.202524</td>\n",
       "      <td>-0.091116</td>\n",
       "      <td>0.048234</td>\n",
       "      <td>-0.083456</td>\n",
       "      <td>0.353337</td>\n",
       "      <td>-0.004335</td>\n",
       "      <td>-0.158895</td>\n",
       "    </tr>\n",
       "    <tr>\n",
       "      <td>bathrooms</td>\n",
       "      <td>-0.016501</td>\n",
       "      <td>0.464287</td>\n",
       "      <td>1.000000</td>\n",
       "      <td>0.565788</td>\n",
       "      <td>-0.088524</td>\n",
       "      <td>0.028441</td>\n",
       "      <td>-0.062992</td>\n",
       "      <td>-0.100642</td>\n",
       "      <td>-0.106358</td>\n",
       "      <td>0.091489</td>\n",
       "      <td>...</td>\n",
       "      <td>0.298722</td>\n",
       "      <td>0.051650</td>\n",
       "      <td>0.102592</td>\n",
       "      <td>0.105276</td>\n",
       "      <td>0.089527</td>\n",
       "      <td>0.104741</td>\n",
       "      <td>0.111949</td>\n",
       "      <td>0.611987</td>\n",
       "      <td>-0.003053</td>\n",
       "      <td>0.116938</td>\n",
       "    </tr>\n",
       "    <tr>\n",
       "      <td>size_sqft</td>\n",
       "      <td>-0.006433</td>\n",
       "      <td>0.525537</td>\n",
       "      <td>0.565788</td>\n",
       "      <td>1.000000</td>\n",
       "      <td>0.000576</td>\n",
       "      <td>-0.037717</td>\n",
       "      <td>-0.035054</td>\n",
       "      <td>-0.013148</td>\n",
       "      <td>-0.011608</td>\n",
       "      <td>0.020547</td>\n",
       "      <td>...</td>\n",
       "      <td>0.263907</td>\n",
       "      <td>0.005959</td>\n",
       "      <td>0.026781</td>\n",
       "      <td>0.040962</td>\n",
       "      <td>0.051020</td>\n",
       "      <td>0.137652</td>\n",
       "      <td>0.068867</td>\n",
       "      <td>0.649984</td>\n",
       "      <td>-0.074162</td>\n",
       "      <td>0.054328</td>\n",
       "    </tr>\n",
       "    <tr>\n",
       "      <td>addr_zip</td>\n",
       "      <td>0.064199</td>\n",
       "      <td>0.187639</td>\n",
       "      <td>-0.088524</td>\n",
       "      <td>0.000576</td>\n",
       "      <td>1.000000</td>\n",
       "      <td>-0.577385</td>\n",
       "      <td>0.462277</td>\n",
       "      <td>0.950995</td>\n",
       "      <td>0.952018</td>\n",
       "      <td>-0.447352</td>\n",
       "      <td>...</td>\n",
       "      <td>-0.113234</td>\n",
       "      <td>-0.116047</td>\n",
       "      <td>-0.107670</td>\n",
       "      <td>-0.354300</td>\n",
       "      <td>-0.193333</td>\n",
       "      <td>-0.006699</td>\n",
       "      <td>-0.162588</td>\n",
       "      <td>-0.325241</td>\n",
       "      <td>-0.066025</td>\n",
       "      <td>-0.376063</td>\n",
       "    </tr>\n",
       "    <tr>\n",
       "      <td>addr_lat</td>\n",
       "      <td>-0.008653</td>\n",
       "      <td>-0.114986</td>\n",
       "      <td>0.028441</td>\n",
       "      <td>-0.037717</td>\n",
       "      <td>-0.577385</td>\n",
       "      <td>1.000000</td>\n",
       "      <td>0.219029</td>\n",
       "      <td>-0.429858</td>\n",
       "      <td>-0.424711</td>\n",
       "      <td>0.195647</td>\n",
       "      <td>...</td>\n",
       "      <td>0.013967</td>\n",
       "      <td>0.057687</td>\n",
       "      <td>-0.000782</td>\n",
       "      <td>0.146865</td>\n",
       "      <td>0.104243</td>\n",
       "      <td>0.000178</td>\n",
       "      <td>0.066387</td>\n",
       "      <td>0.109536</td>\n",
       "      <td>0.002401</td>\n",
       "      <td>0.170598</td>\n",
       "    </tr>\n",
       "    <tr>\n",
       "      <td>addr_lon</td>\n",
       "      <td>0.105315</td>\n",
       "      <td>0.093089</td>\n",
       "      <td>-0.062992</td>\n",
       "      <td>-0.035054</td>\n",
       "      <td>0.462277</td>\n",
       "      <td>0.219029</td>\n",
       "      <td>1.000000</td>\n",
       "      <td>0.554511</td>\n",
       "      <td>0.563806</td>\n",
       "      <td>-0.281790</td>\n",
       "      <td>...</td>\n",
       "      <td>-0.165555</td>\n",
       "      <td>-0.055615</td>\n",
       "      <td>-0.168426</td>\n",
       "      <td>-0.270704</td>\n",
       "      <td>-0.100606</td>\n",
       "      <td>-0.038981</td>\n",
       "      <td>-0.140828</td>\n",
       "      <td>-0.262711</td>\n",
       "      <td>-0.041091</td>\n",
       "      <td>-0.239193</td>\n",
       "    </tr>\n",
       "    <tr>\n",
       "      <td>bin</td>\n",
       "      <td>0.117460</td>\n",
       "      <td>0.142331</td>\n",
       "      <td>-0.100642</td>\n",
       "      <td>-0.013148</td>\n",
       "      <td>0.950995</td>\n",
       "      <td>-0.429858</td>\n",
       "      <td>0.554511</td>\n",
       "      <td>1.000000</td>\n",
       "      <td>0.994155</td>\n",
       "      <td>-0.426813</td>\n",
       "      <td>...</td>\n",
       "      <td>-0.119801</td>\n",
       "      <td>-0.089042</td>\n",
       "      <td>-0.112548</td>\n",
       "      <td>-0.323696</td>\n",
       "      <td>-0.182156</td>\n",
       "      <td>-0.007928</td>\n",
       "      <td>-0.144938</td>\n",
       "      <td>-0.332165</td>\n",
       "      <td>-0.111486</td>\n",
       "      <td>-0.350957</td>\n",
       "    </tr>\n",
       "    <tr>\n",
       "      <td>bbl</td>\n",
       "      <td>0.090194</td>\n",
       "      <td>0.151078</td>\n",
       "      <td>-0.106358</td>\n",
       "      <td>-0.011608</td>\n",
       "      <td>0.952018</td>\n",
       "      <td>-0.424711</td>\n",
       "      <td>0.563806</td>\n",
       "      <td>0.994155</td>\n",
       "      <td>1.000000</td>\n",
       "      <td>-0.442496</td>\n",
       "      <td>...</td>\n",
       "      <td>-0.137143</td>\n",
       "      <td>-0.109457</td>\n",
       "      <td>-0.135245</td>\n",
       "      <td>-0.346828</td>\n",
       "      <td>-0.193851</td>\n",
       "      <td>-0.021434</td>\n",
       "      <td>-0.169315</td>\n",
       "      <td>-0.339157</td>\n",
       "      <td>-0.126716</td>\n",
       "      <td>-0.367065</td>\n",
       "    </tr>\n",
       "    <tr>\n",
       "      <td>floor_count</td>\n",
       "      <td>-0.116488</td>\n",
       "      <td>-0.228858</td>\n",
       "      <td>0.091489</td>\n",
       "      <td>0.020547</td>\n",
       "      <td>-0.447352</td>\n",
       "      <td>0.195647</td>\n",
       "      <td>-0.281790</td>\n",
       "      <td>-0.426813</td>\n",
       "      <td>-0.442496</td>\n",
       "      <td>1.000000</td>\n",
       "      <td>...</td>\n",
       "      <td>0.177199</td>\n",
       "      <td>0.380581</td>\n",
       "      <td>0.361168</td>\n",
       "      <td>0.655252</td>\n",
       "      <td>0.498138</td>\n",
       "      <td>0.084536</td>\n",
       "      <td>0.395460</td>\n",
       "      <td>0.253517</td>\n",
       "      <td>0.185316</td>\n",
       "      <td>0.769707</td>\n",
       "    </tr>\n",
       "    <tr>\n",
       "      <td>year_built</td>\n",
       "      <td>0.026593</td>\n",
       "      <td>-0.056614</td>\n",
       "      <td>-0.004480</td>\n",
       "      <td>-0.021524</td>\n",
       "      <td>-0.004916</td>\n",
       "      <td>-0.002415</td>\n",
       "      <td>-0.003623</td>\n",
       "      <td>0.010451</td>\n",
       "      <td>0.005694</td>\n",
       "      <td>0.151318</td>\n",
       "      <td>...</td>\n",
       "      <td>0.006949</td>\n",
       "      <td>0.084148</td>\n",
       "      <td>0.082307</td>\n",
       "      <td>0.085210</td>\n",
       "      <td>0.051083</td>\n",
       "      <td>0.006335</td>\n",
       "      <td>0.051941</td>\n",
       "      <td>-0.001037</td>\n",
       "      <td>0.049746</td>\n",
       "      <td>0.095295</td>\n",
       "    </tr>\n",
       "    <tr>\n",
       "      <td>min_to_subway</td>\n",
       "      <td>-0.006980</td>\n",
       "      <td>0.014171</td>\n",
       "      <td>0.017966</td>\n",
       "      <td>0.007718</td>\n",
       "      <td>0.023660</td>\n",
       "      <td>-0.026215</td>\n",
       "      <td>-0.012528</td>\n",
       "      <td>0.021091</td>\n",
       "      <td>0.015880</td>\n",
       "      <td>-0.011722</td>\n",
       "      <td>...</td>\n",
       "      <td>0.035343</td>\n",
       "      <td>0.031686</td>\n",
       "      <td>0.006643</td>\n",
       "      <td>-0.013324</td>\n",
       "      <td>-0.007238</td>\n",
       "      <td>0.009395</td>\n",
       "      <td>-0.007989</td>\n",
       "      <td>0.000010</td>\n",
       "      <td>-0.005945</td>\n",
       "      <td>-0.012333</td>\n",
       "    </tr>\n",
       "    <tr>\n",
       "      <td>has_doorman</td>\n",
       "      <td>-0.042830</td>\n",
       "      <td>-0.233059</td>\n",
       "      <td>0.108987</td>\n",
       "      <td>0.047766</td>\n",
       "      <td>-0.410034</td>\n",
       "      <td>0.191486</td>\n",
       "      <td>-0.259673</td>\n",
       "      <td>-0.380284</td>\n",
       "      <td>-0.403373</td>\n",
       "      <td>0.664202</td>\n",
       "      <td>...</td>\n",
       "      <td>0.248036</td>\n",
       "      <td>0.406196</td>\n",
       "      <td>0.421955</td>\n",
       "      <td>0.668138</td>\n",
       "      <td>0.340186</td>\n",
       "      <td>0.142268</td>\n",
       "      <td>0.345234</td>\n",
       "      <td>0.273486</td>\n",
       "      <td>0.252027</td>\n",
       "      <td>0.523314</td>\n",
       "    </tr>\n",
       "    <tr>\n",
       "      <td>has_elevator</td>\n",
       "      <td>0.061696</td>\n",
       "      <td>-0.278231</td>\n",
       "      <td>0.095867</td>\n",
       "      <td>0.029836</td>\n",
       "      <td>-0.362939</td>\n",
       "      <td>0.167685</td>\n",
       "      <td>-0.182011</td>\n",
       "      <td>-0.326176</td>\n",
       "      <td>-0.351657</td>\n",
       "      <td>0.560443</td>\n",
       "      <td>...</td>\n",
       "      <td>0.203386</td>\n",
       "      <td>0.392328</td>\n",
       "      <td>0.409244</td>\n",
       "      <td>0.526443</td>\n",
       "      <td>0.273776</td>\n",
       "      <td>0.099298</td>\n",
       "      <td>0.304430</td>\n",
       "      <td>0.238692</td>\n",
       "      <td>0.228047</td>\n",
       "      <td>0.453474</td>\n",
       "    </tr>\n",
       "    <tr>\n",
       "      <td>has_fireplace</td>\n",
       "      <td>-0.031611</td>\n",
       "      <td>0.049998</td>\n",
       "      <td>0.124532</td>\n",
       "      <td>0.155044</td>\n",
       "      <td>-0.072233</td>\n",
       "      <td>0.019505</td>\n",
       "      <td>-0.070451</td>\n",
       "      <td>-0.084767</td>\n",
       "      <td>-0.081656</td>\n",
       "      <td>-0.024808</td>\n",
       "      <td>...</td>\n",
       "      <td>0.088507</td>\n",
       "      <td>-0.030127</td>\n",
       "      <td>-0.013023</td>\n",
       "      <td>-0.025240</td>\n",
       "      <td>0.000800</td>\n",
       "      <td>0.049034</td>\n",
       "      <td>-0.010935</td>\n",
       "      <td>0.163483</td>\n",
       "      <td>-0.052129</td>\n",
       "      <td>-0.008051</td>\n",
       "    </tr>\n",
       "    <tr>\n",
       "      <td>has_dishwasher</td>\n",
       "      <td>0.023323</td>\n",
       "      <td>0.046002</td>\n",
       "      <td>0.161132</td>\n",
       "      <td>0.111761</td>\n",
       "      <td>-0.166108</td>\n",
       "      <td>0.078029</td>\n",
       "      <td>-0.138343</td>\n",
       "      <td>-0.173532</td>\n",
       "      <td>-0.185248</td>\n",
       "      <td>0.229530</td>\n",
       "      <td>...</td>\n",
       "      <td>0.334376</td>\n",
       "      <td>0.212473</td>\n",
       "      <td>0.286309</td>\n",
       "      <td>0.258104</td>\n",
       "      <td>0.112804</td>\n",
       "      <td>0.089919</td>\n",
       "      <td>0.121131</td>\n",
       "      <td>0.187002</td>\n",
       "      <td>0.276597</td>\n",
       "      <td>0.172159</td>\n",
       "    </tr>\n",
       "    <tr>\n",
       "      <td>is_furnished</td>\n",
       "      <td>-0.012521</td>\n",
       "      <td>-0.046021</td>\n",
       "      <td>0.050068</td>\n",
       "      <td>0.041965</td>\n",
       "      <td>-0.135857</td>\n",
       "      <td>0.054610</td>\n",
       "      <td>-0.085478</td>\n",
       "      <td>-0.131706</td>\n",
       "      <td>-0.132950</td>\n",
       "      <td>0.112042</td>\n",
       "      <td>...</td>\n",
       "      <td>0.086711</td>\n",
       "      <td>-0.002425</td>\n",
       "      <td>0.058287</td>\n",
       "      <td>0.076347</td>\n",
       "      <td>0.054185</td>\n",
       "      <td>0.034308</td>\n",
       "      <td>0.059076</td>\n",
       "      <td>0.133343</td>\n",
       "      <td>-0.028827</td>\n",
       "      <td>0.090309</td>\n",
       "    </tr>\n",
       "    <tr>\n",
       "      <td>has_gym</td>\n",
       "      <td>0.004550</td>\n",
       "      <td>-0.206094</td>\n",
       "      <td>0.113062</td>\n",
       "      <td>0.022605</td>\n",
       "      <td>-0.287916</td>\n",
       "      <td>0.115376</td>\n",
       "      <td>-0.224737</td>\n",
       "      <td>-0.263453</td>\n",
       "      <td>-0.292240</td>\n",
       "      <td>0.633673</td>\n",
       "      <td>...</td>\n",
       "      <td>0.292996</td>\n",
       "      <td>0.432486</td>\n",
       "      <td>0.535142</td>\n",
       "      <td>0.664979</td>\n",
       "      <td>0.394261</td>\n",
       "      <td>0.169583</td>\n",
       "      <td>0.460646</td>\n",
       "      <td>0.248213</td>\n",
       "      <td>0.285377</td>\n",
       "      <td>0.518792</td>\n",
       "    </tr>\n",
       "    <tr>\n",
       "      <td>allows_pets</td>\n",
       "      <td>0.040899</td>\n",
       "      <td>0.023819</td>\n",
       "      <td>0.087348</td>\n",
       "      <td>0.032325</td>\n",
       "      <td>-0.115378</td>\n",
       "      <td>0.015503</td>\n",
       "      <td>-0.153365</td>\n",
       "      <td>-0.144695</td>\n",
       "      <td>-0.160086</td>\n",
       "      <td>0.205669</td>\n",
       "      <td>...</td>\n",
       "      <td>0.177554</td>\n",
       "      <td>0.180943</td>\n",
       "      <td>0.270345</td>\n",
       "      <td>0.266168</td>\n",
       "      <td>0.093398</td>\n",
       "      <td>0.130835</td>\n",
       "      <td>0.162443</td>\n",
       "      <td>0.149247</td>\n",
       "      <td>0.271594</td>\n",
       "      <td>0.175281</td>\n",
       "    </tr>\n",
       "    <tr>\n",
       "      <td>has_washer_dryer</td>\n",
       "      <td>-0.030651</td>\n",
       "      <td>0.117120</td>\n",
       "      <td>0.298722</td>\n",
       "      <td>0.263907</td>\n",
       "      <td>-0.113234</td>\n",
       "      <td>0.013967</td>\n",
       "      <td>-0.165555</td>\n",
       "      <td>-0.119801</td>\n",
       "      <td>-0.137143</td>\n",
       "      <td>0.177199</td>\n",
       "      <td>...</td>\n",
       "      <td>1.000000</td>\n",
       "      <td>0.088676</td>\n",
       "      <td>0.239291</td>\n",
       "      <td>0.268367</td>\n",
       "      <td>0.106097</td>\n",
       "      <td>0.121955</td>\n",
       "      <td>0.191961</td>\n",
       "      <td>0.343123</td>\n",
       "      <td>0.120897</td>\n",
       "      <td>0.154859</td>\n",
       "    </tr>\n",
       "    <tr>\n",
       "      <td>has_garage</td>\n",
       "      <td>0.099141</td>\n",
       "      <td>-0.116837</td>\n",
       "      <td>0.051650</td>\n",
       "      <td>0.005959</td>\n",
       "      <td>-0.116047</td>\n",
       "      <td>0.057687</td>\n",
       "      <td>-0.055615</td>\n",
       "      <td>-0.089042</td>\n",
       "      <td>-0.109457</td>\n",
       "      <td>0.380581</td>\n",
       "      <td>...</td>\n",
       "      <td>0.088676</td>\n",
       "      <td>1.000000</td>\n",
       "      <td>0.295535</td>\n",
       "      <td>0.383031</td>\n",
       "      <td>0.323507</td>\n",
       "      <td>0.148442</td>\n",
       "      <td>0.244646</td>\n",
       "      <td>0.095437</td>\n",
       "      <td>0.180798</td>\n",
       "      <td>0.311203</td>\n",
       "    </tr>\n",
       "    <tr>\n",
       "      <td>has_roofdeck</td>\n",
       "      <td>-0.012773</td>\n",
       "      <td>-0.085111</td>\n",
       "      <td>0.102592</td>\n",
       "      <td>0.026781</td>\n",
       "      <td>-0.107670</td>\n",
       "      <td>-0.000782</td>\n",
       "      <td>-0.168426</td>\n",
       "      <td>-0.112548</td>\n",
       "      <td>-0.135245</td>\n",
       "      <td>0.361168</td>\n",
       "      <td>...</td>\n",
       "      <td>0.239291</td>\n",
       "      <td>0.295535</td>\n",
       "      <td>1.000000</td>\n",
       "      <td>0.413147</td>\n",
       "      <td>0.193187</td>\n",
       "      <td>0.166055</td>\n",
       "      <td>0.297292</td>\n",
       "      <td>0.174243</td>\n",
       "      <td>0.260231</td>\n",
       "      <td>0.291481</td>\n",
       "    </tr>\n",
       "    <tr>\n",
       "      <td>has_concierge</td>\n",
       "      <td>-0.060398</td>\n",
       "      <td>-0.202524</td>\n",
       "      <td>0.105276</td>\n",
       "      <td>0.040962</td>\n",
       "      <td>-0.354300</td>\n",
       "      <td>0.146865</td>\n",
       "      <td>-0.270704</td>\n",
       "      <td>-0.323696</td>\n",
       "      <td>-0.346828</td>\n",
       "      <td>0.655252</td>\n",
       "      <td>...</td>\n",
       "      <td>0.268367</td>\n",
       "      <td>0.383031</td>\n",
       "      <td>0.413147</td>\n",
       "      <td>1.000000</td>\n",
       "      <td>0.342509</td>\n",
       "      <td>0.179550</td>\n",
       "      <td>0.475757</td>\n",
       "      <td>0.260079</td>\n",
       "      <td>0.210697</td>\n",
       "      <td>0.535699</td>\n",
       "    </tr>\n",
       "    <tr>\n",
       "      <td>has_pool</td>\n",
       "      <td>0.038340</td>\n",
       "      <td>-0.091116</td>\n",
       "      <td>0.089527</td>\n",
       "      <td>0.051020</td>\n",
       "      <td>-0.193333</td>\n",
       "      <td>0.104243</td>\n",
       "      <td>-0.100606</td>\n",
       "      <td>-0.182156</td>\n",
       "      <td>-0.193851</td>\n",
       "      <td>0.498138</td>\n",
       "      <td>...</td>\n",
       "      <td>0.106097</td>\n",
       "      <td>0.323507</td>\n",
       "      <td>0.193187</td>\n",
       "      <td>0.342509</td>\n",
       "      <td>1.000000</td>\n",
       "      <td>0.088873</td>\n",
       "      <td>0.367574</td>\n",
       "      <td>0.170412</td>\n",
       "      <td>0.065794</td>\n",
       "      <td>0.398257</td>\n",
       "    </tr>\n",
       "    <tr>\n",
       "      <td>has_garden</td>\n",
       "      <td>0.064100</td>\n",
       "      <td>0.048234</td>\n",
       "      <td>0.104741</td>\n",
       "      <td>0.137652</td>\n",
       "      <td>-0.006699</td>\n",
       "      <td>0.000178</td>\n",
       "      <td>-0.038981</td>\n",
       "      <td>-0.007928</td>\n",
       "      <td>-0.021434</td>\n",
       "      <td>0.084536</td>\n",
       "      <td>...</td>\n",
       "      <td>0.121955</td>\n",
       "      <td>0.148442</td>\n",
       "      <td>0.166055</td>\n",
       "      <td>0.179550</td>\n",
       "      <td>0.088873</td>\n",
       "      <td>1.000000</td>\n",
       "      <td>0.247550</td>\n",
       "      <td>0.138419</td>\n",
       "      <td>0.053346</td>\n",
       "      <td>0.062580</td>\n",
       "    </tr>\n",
       "    <tr>\n",
       "      <td>has_childrens_playroom</td>\n",
       "      <td>0.011357</td>\n",
       "      <td>-0.083456</td>\n",
       "      <td>0.111949</td>\n",
       "      <td>0.068867</td>\n",
       "      <td>-0.162588</td>\n",
       "      <td>0.066387</td>\n",
       "      <td>-0.140828</td>\n",
       "      <td>-0.144938</td>\n",
       "      <td>-0.169315</td>\n",
       "      <td>0.395460</td>\n",
       "      <td>...</td>\n",
       "      <td>0.191961</td>\n",
       "      <td>0.244646</td>\n",
       "      <td>0.297292</td>\n",
       "      <td>0.475757</td>\n",
       "      <td>0.367574</td>\n",
       "      <td>0.247550</td>\n",
       "      <td>1.000000</td>\n",
       "      <td>0.193130</td>\n",
       "      <td>0.087075</td>\n",
       "      <td>0.322977</td>\n",
       "    </tr>\n",
       "    <tr>\n",
       "      <td>rent</td>\n",
       "      <td>-0.035145</td>\n",
       "      <td>0.353337</td>\n",
       "      <td>0.611987</td>\n",
       "      <td>0.649984</td>\n",
       "      <td>-0.325241</td>\n",
       "      <td>0.109536</td>\n",
       "      <td>-0.262711</td>\n",
       "      <td>-0.332165</td>\n",
       "      <td>-0.339157</td>\n",
       "      <td>0.253517</td>\n",
       "      <td>...</td>\n",
       "      <td>0.343123</td>\n",
       "      <td>0.095437</td>\n",
       "      <td>0.174243</td>\n",
       "      <td>0.260079</td>\n",
       "      <td>0.170412</td>\n",
       "      <td>0.138419</td>\n",
       "      <td>0.193130</td>\n",
       "      <td>1.000000</td>\n",
       "      <td>-0.001163</td>\n",
       "      <td>0.267151</td>\n",
       "    </tr>\n",
       "    <tr>\n",
       "      <td>no_fee</td>\n",
       "      <td>0.052429</td>\n",
       "      <td>-0.004335</td>\n",
       "      <td>-0.003053</td>\n",
       "      <td>-0.074162</td>\n",
       "      <td>-0.066025</td>\n",
       "      <td>0.002401</td>\n",
       "      <td>-0.041091</td>\n",
       "      <td>-0.111486</td>\n",
       "      <td>-0.126716</td>\n",
       "      <td>0.185316</td>\n",
       "      <td>...</td>\n",
       "      <td>0.120897</td>\n",
       "      <td>0.180798</td>\n",
       "      <td>0.260231</td>\n",
       "      <td>0.210697</td>\n",
       "      <td>0.065794</td>\n",
       "      <td>0.053346</td>\n",
       "      <td>0.087075</td>\n",
       "      <td>-0.001163</td>\n",
       "      <td>1.000000</td>\n",
       "      <td>0.157909</td>\n",
       "    </tr>\n",
       "    <tr>\n",
       "      <td>floornumber</td>\n",
       "      <td>-0.003418</td>\n",
       "      <td>-0.158895</td>\n",
       "      <td>0.116938</td>\n",
       "      <td>0.054328</td>\n",
       "      <td>-0.376063</td>\n",
       "      <td>0.170598</td>\n",
       "      <td>-0.239193</td>\n",
       "      <td>-0.350957</td>\n",
       "      <td>-0.367065</td>\n",
       "      <td>0.769707</td>\n",
       "      <td>...</td>\n",
       "      <td>0.154859</td>\n",
       "      <td>0.311203</td>\n",
       "      <td>0.291481</td>\n",
       "      <td>0.535699</td>\n",
       "      <td>0.398257</td>\n",
       "      <td>0.062580</td>\n",
       "      <td>0.322977</td>\n",
       "      <td>0.267151</td>\n",
       "      <td>0.157909</td>\n",
       "      <td>1.000000</td>\n",
       "    </tr>\n",
       "  </tbody>\n",
       "</table>\n",
       "<p>29 rows × 29 columns</p>\n",
       "</div>"
      ],
      "text/plain": [
       "                        building_id  bedrooms  bathrooms  size_sqft  addr_zip  \\\n",
       "building_id                1.000000 -0.001813  -0.016501  -0.006433  0.064199   \n",
       "bedrooms                  -0.001813  1.000000   0.464287   0.525537  0.187639   \n",
       "bathrooms                 -0.016501  0.464287   1.000000   0.565788 -0.088524   \n",
       "size_sqft                 -0.006433  0.525537   0.565788   1.000000  0.000576   \n",
       "addr_zip                   0.064199  0.187639  -0.088524   0.000576  1.000000   \n",
       "addr_lat                  -0.008653 -0.114986   0.028441  -0.037717 -0.577385   \n",
       "addr_lon                   0.105315  0.093089  -0.062992  -0.035054  0.462277   \n",
       "bin                        0.117460  0.142331  -0.100642  -0.013148  0.950995   \n",
       "bbl                        0.090194  0.151078  -0.106358  -0.011608  0.952018   \n",
       "floor_count               -0.116488 -0.228858   0.091489   0.020547 -0.447352   \n",
       "year_built                 0.026593 -0.056614  -0.004480  -0.021524 -0.004916   \n",
       "min_to_subway             -0.006980  0.014171   0.017966   0.007718  0.023660   \n",
       "has_doorman               -0.042830 -0.233059   0.108987   0.047766 -0.410034   \n",
       "has_elevator               0.061696 -0.278231   0.095867   0.029836 -0.362939   \n",
       "has_fireplace             -0.031611  0.049998   0.124532   0.155044 -0.072233   \n",
       "has_dishwasher             0.023323  0.046002   0.161132   0.111761 -0.166108   \n",
       "is_furnished              -0.012521 -0.046021   0.050068   0.041965 -0.135857   \n",
       "has_gym                    0.004550 -0.206094   0.113062   0.022605 -0.287916   \n",
       "allows_pets                0.040899  0.023819   0.087348   0.032325 -0.115378   \n",
       "has_washer_dryer          -0.030651  0.117120   0.298722   0.263907 -0.113234   \n",
       "has_garage                 0.099141 -0.116837   0.051650   0.005959 -0.116047   \n",
       "has_roofdeck              -0.012773 -0.085111   0.102592   0.026781 -0.107670   \n",
       "has_concierge             -0.060398 -0.202524   0.105276   0.040962 -0.354300   \n",
       "has_pool                   0.038340 -0.091116   0.089527   0.051020 -0.193333   \n",
       "has_garden                 0.064100  0.048234   0.104741   0.137652 -0.006699   \n",
       "has_childrens_playroom     0.011357 -0.083456   0.111949   0.068867 -0.162588   \n",
       "rent                      -0.035145  0.353337   0.611987   0.649984 -0.325241   \n",
       "no_fee                     0.052429 -0.004335  -0.003053  -0.074162 -0.066025   \n",
       "floornumber               -0.003418 -0.158895   0.116938   0.054328 -0.376063   \n",
       "\n",
       "                        addr_lat  addr_lon       bin       bbl  floor_count  \\\n",
       "building_id            -0.008653  0.105315  0.117460  0.090194    -0.116488   \n",
       "bedrooms               -0.114986  0.093089  0.142331  0.151078    -0.228858   \n",
       "bathrooms               0.028441 -0.062992 -0.100642 -0.106358     0.091489   \n",
       "size_sqft              -0.037717 -0.035054 -0.013148 -0.011608     0.020547   \n",
       "addr_zip               -0.577385  0.462277  0.950995  0.952018    -0.447352   \n",
       "addr_lat                1.000000  0.219029 -0.429858 -0.424711     0.195647   \n",
       "addr_lon                0.219029  1.000000  0.554511  0.563806    -0.281790   \n",
       "bin                    -0.429858  0.554511  1.000000  0.994155    -0.426813   \n",
       "bbl                    -0.424711  0.563806  0.994155  1.000000    -0.442496   \n",
       "floor_count             0.195647 -0.281790 -0.426813 -0.442496     1.000000   \n",
       "year_built             -0.002415 -0.003623  0.010451  0.005694     0.151318   \n",
       "min_to_subway          -0.026215 -0.012528  0.021091  0.015880    -0.011722   \n",
       "has_doorman             0.191486 -0.259673 -0.380284 -0.403373     0.664202   \n",
       "has_elevator            0.167685 -0.182011 -0.326176 -0.351657     0.560443   \n",
       "has_fireplace           0.019505 -0.070451 -0.084767 -0.081656    -0.024808   \n",
       "has_dishwasher          0.078029 -0.138343 -0.173532 -0.185248     0.229530   \n",
       "is_furnished            0.054610 -0.085478 -0.131706 -0.132950     0.112042   \n",
       "has_gym                 0.115376 -0.224737 -0.263453 -0.292240     0.633673   \n",
       "allows_pets             0.015503 -0.153365 -0.144695 -0.160086     0.205669   \n",
       "has_washer_dryer        0.013967 -0.165555 -0.119801 -0.137143     0.177199   \n",
       "has_garage              0.057687 -0.055615 -0.089042 -0.109457     0.380581   \n",
       "has_roofdeck           -0.000782 -0.168426 -0.112548 -0.135245     0.361168   \n",
       "has_concierge           0.146865 -0.270704 -0.323696 -0.346828     0.655252   \n",
       "has_pool                0.104243 -0.100606 -0.182156 -0.193851     0.498138   \n",
       "has_garden              0.000178 -0.038981 -0.007928 -0.021434     0.084536   \n",
       "has_childrens_playroom  0.066387 -0.140828 -0.144938 -0.169315     0.395460   \n",
       "rent                    0.109536 -0.262711 -0.332165 -0.339157     0.253517   \n",
       "no_fee                  0.002401 -0.041091 -0.111486 -0.126716     0.185316   \n",
       "floornumber             0.170598 -0.239193 -0.350957 -0.367065     0.769707   \n",
       "\n",
       "                        ...  has_washer_dryer  has_garage  has_roofdeck  \\\n",
       "building_id             ...         -0.030651    0.099141     -0.012773   \n",
       "bedrooms                ...          0.117120   -0.116837     -0.085111   \n",
       "bathrooms               ...          0.298722    0.051650      0.102592   \n",
       "size_sqft               ...          0.263907    0.005959      0.026781   \n",
       "addr_zip                ...         -0.113234   -0.116047     -0.107670   \n",
       "addr_lat                ...          0.013967    0.057687     -0.000782   \n",
       "addr_lon                ...         -0.165555   -0.055615     -0.168426   \n",
       "bin                     ...         -0.119801   -0.089042     -0.112548   \n",
       "bbl                     ...         -0.137143   -0.109457     -0.135245   \n",
       "floor_count             ...          0.177199    0.380581      0.361168   \n",
       "year_built              ...          0.006949    0.084148      0.082307   \n",
       "min_to_subway           ...          0.035343    0.031686      0.006643   \n",
       "has_doorman             ...          0.248036    0.406196      0.421955   \n",
       "has_elevator            ...          0.203386    0.392328      0.409244   \n",
       "has_fireplace           ...          0.088507   -0.030127     -0.013023   \n",
       "has_dishwasher          ...          0.334376    0.212473      0.286309   \n",
       "is_furnished            ...          0.086711   -0.002425      0.058287   \n",
       "has_gym                 ...          0.292996    0.432486      0.535142   \n",
       "allows_pets             ...          0.177554    0.180943      0.270345   \n",
       "has_washer_dryer        ...          1.000000    0.088676      0.239291   \n",
       "has_garage              ...          0.088676    1.000000      0.295535   \n",
       "has_roofdeck            ...          0.239291    0.295535      1.000000   \n",
       "has_concierge           ...          0.268367    0.383031      0.413147   \n",
       "has_pool                ...          0.106097    0.323507      0.193187   \n",
       "has_garden              ...          0.121955    0.148442      0.166055   \n",
       "has_childrens_playroom  ...          0.191961    0.244646      0.297292   \n",
       "rent                    ...          0.343123    0.095437      0.174243   \n",
       "no_fee                  ...          0.120897    0.180798      0.260231   \n",
       "floornumber             ...          0.154859    0.311203      0.291481   \n",
       "\n",
       "                        has_concierge  has_pool  has_garden  \\\n",
       "building_id                 -0.060398  0.038340    0.064100   \n",
       "bedrooms                    -0.202524 -0.091116    0.048234   \n",
       "bathrooms                    0.105276  0.089527    0.104741   \n",
       "size_sqft                    0.040962  0.051020    0.137652   \n",
       "addr_zip                    -0.354300 -0.193333   -0.006699   \n",
       "addr_lat                     0.146865  0.104243    0.000178   \n",
       "addr_lon                    -0.270704 -0.100606   -0.038981   \n",
       "bin                         -0.323696 -0.182156   -0.007928   \n",
       "bbl                         -0.346828 -0.193851   -0.021434   \n",
       "floor_count                  0.655252  0.498138    0.084536   \n",
       "year_built                   0.085210  0.051083    0.006335   \n",
       "min_to_subway               -0.013324 -0.007238    0.009395   \n",
       "has_doorman                  0.668138  0.340186    0.142268   \n",
       "has_elevator                 0.526443  0.273776    0.099298   \n",
       "has_fireplace               -0.025240  0.000800    0.049034   \n",
       "has_dishwasher               0.258104  0.112804    0.089919   \n",
       "is_furnished                 0.076347  0.054185    0.034308   \n",
       "has_gym                      0.664979  0.394261    0.169583   \n",
       "allows_pets                  0.266168  0.093398    0.130835   \n",
       "has_washer_dryer             0.268367  0.106097    0.121955   \n",
       "has_garage                   0.383031  0.323507    0.148442   \n",
       "has_roofdeck                 0.413147  0.193187    0.166055   \n",
       "has_concierge                1.000000  0.342509    0.179550   \n",
       "has_pool                     0.342509  1.000000    0.088873   \n",
       "has_garden                   0.179550  0.088873    1.000000   \n",
       "has_childrens_playroom       0.475757  0.367574    0.247550   \n",
       "rent                         0.260079  0.170412    0.138419   \n",
       "no_fee                       0.210697  0.065794    0.053346   \n",
       "floornumber                  0.535699  0.398257    0.062580   \n",
       "\n",
       "                        has_childrens_playroom      rent    no_fee  \\\n",
       "building_id                           0.011357 -0.035145  0.052429   \n",
       "bedrooms                             -0.083456  0.353337 -0.004335   \n",
       "bathrooms                             0.111949  0.611987 -0.003053   \n",
       "size_sqft                             0.068867  0.649984 -0.074162   \n",
       "addr_zip                             -0.162588 -0.325241 -0.066025   \n",
       "addr_lat                              0.066387  0.109536  0.002401   \n",
       "addr_lon                             -0.140828 -0.262711 -0.041091   \n",
       "bin                                  -0.144938 -0.332165 -0.111486   \n",
       "bbl                                  -0.169315 -0.339157 -0.126716   \n",
       "floor_count                           0.395460  0.253517  0.185316   \n",
       "year_built                            0.051941 -0.001037  0.049746   \n",
       "min_to_subway                        -0.007989  0.000010 -0.005945   \n",
       "has_doorman                           0.345234  0.273486  0.252027   \n",
       "has_elevator                          0.304430  0.238692  0.228047   \n",
       "has_fireplace                        -0.010935  0.163483 -0.052129   \n",
       "has_dishwasher                        0.121131  0.187002  0.276597   \n",
       "is_furnished                          0.059076  0.133343 -0.028827   \n",
       "has_gym                               0.460646  0.248213  0.285377   \n",
       "allows_pets                           0.162443  0.149247  0.271594   \n",
       "has_washer_dryer                      0.191961  0.343123  0.120897   \n",
       "has_garage                            0.244646  0.095437  0.180798   \n",
       "has_roofdeck                          0.297292  0.174243  0.260231   \n",
       "has_concierge                         0.475757  0.260079  0.210697   \n",
       "has_pool                              0.367574  0.170412  0.065794   \n",
       "has_garden                            0.247550  0.138419  0.053346   \n",
       "has_childrens_playroom                1.000000  0.193130  0.087075   \n",
       "rent                                  0.193130  1.000000 -0.001163   \n",
       "no_fee                                0.087075 -0.001163  1.000000   \n",
       "floornumber                           0.322977  0.267151  0.157909   \n",
       "\n",
       "                        floornumber  \n",
       "building_id               -0.003418  \n",
       "bedrooms                  -0.158895  \n",
       "bathrooms                  0.116938  \n",
       "size_sqft                  0.054328  \n",
       "addr_zip                  -0.376063  \n",
       "addr_lat                   0.170598  \n",
       "addr_lon                  -0.239193  \n",
       "bin                       -0.350957  \n",
       "bbl                       -0.367065  \n",
       "floor_count                0.769707  \n",
       "year_built                 0.095295  \n",
       "min_to_subway             -0.012333  \n",
       "has_doorman                0.523314  \n",
       "has_elevator               0.453474  \n",
       "has_fireplace             -0.008051  \n",
       "has_dishwasher             0.172159  \n",
       "is_furnished               0.090309  \n",
       "has_gym                    0.518792  \n",
       "allows_pets                0.175281  \n",
       "has_washer_dryer           0.154859  \n",
       "has_garage                 0.311203  \n",
       "has_roofdeck               0.291481  \n",
       "has_concierge              0.535699  \n",
       "has_pool                   0.398257  \n",
       "has_garden                 0.062580  \n",
       "has_childrens_playroom     0.322977  \n",
       "rent                       0.267151  \n",
       "no_fee                     0.157909  \n",
       "floornumber                1.000000  \n",
       "\n",
       "[29 rows x 29 columns]"
      ]
     },
     "execution_count": 12,
     "metadata": {},
     "output_type": "execute_result"
    }
   ],
   "source": [
    "train_df.corr()"
   ]
  },
  {
   "cell_type": "code",
   "execution_count": 13,
   "metadata": {
    "colab": {
     "base_uri": "https://localhost:8080/",
     "height": 284
    },
    "colab_type": "code",
    "id": "GcmLMpTPbvqA",
    "outputId": "dd4654dc-afd9-47ec-ad28-25a551e78dfe"
   },
   "outputs": [
    {
     "data": {
      "text/html": [
       "<div>\n",
       "<style scoped>\n",
       "    .dataframe tbody tr th:only-of-type {\n",
       "        vertical-align: middle;\n",
       "    }\n",
       "\n",
       "    .dataframe tbody tr th {\n",
       "        vertical-align: top;\n",
       "    }\n",
       "\n",
       "    .dataframe thead th {\n",
       "        text-align: right;\n",
       "    }\n",
       "</style>\n",
       "<table border=\"1\" class=\"dataframe\">\n",
       "  <thead>\n",
       "    <tr style=\"text-align: right;\">\n",
       "      <th></th>\n",
       "      <th>bedrooms</th>\n",
       "      <th>bathrooms</th>\n",
       "      <th>min_to_subway</th>\n",
       "      <th>size_sqft</th>\n",
       "      <th>floornumber</th>\n",
       "      <th>year_built</th>\n",
       "      <th>has_doorman</th>\n",
       "      <th>rent</th>\n",
       "    </tr>\n",
       "  </thead>\n",
       "  <tbody>\n",
       "    <tr>\n",
       "      <td>bedrooms</td>\n",
       "      <td>1.000000</td>\n",
       "      <td>0.464287</td>\n",
       "      <td>0.014171</td>\n",
       "      <td>0.525537</td>\n",
       "      <td>-0.158895</td>\n",
       "      <td>-0.056614</td>\n",
       "      <td>-0.233059</td>\n",
       "      <td>0.353337</td>\n",
       "    </tr>\n",
       "    <tr>\n",
       "      <td>bathrooms</td>\n",
       "      <td>0.464287</td>\n",
       "      <td>1.000000</td>\n",
       "      <td>0.017966</td>\n",
       "      <td>0.565788</td>\n",
       "      <td>0.116938</td>\n",
       "      <td>-0.004480</td>\n",
       "      <td>0.108987</td>\n",
       "      <td>0.611987</td>\n",
       "    </tr>\n",
       "    <tr>\n",
       "      <td>min_to_subway</td>\n",
       "      <td>0.014171</td>\n",
       "      <td>0.017966</td>\n",
       "      <td>1.000000</td>\n",
       "      <td>0.007718</td>\n",
       "      <td>-0.012333</td>\n",
       "      <td>-0.031395</td>\n",
       "      <td>-0.016984</td>\n",
       "      <td>0.000010</td>\n",
       "    </tr>\n",
       "    <tr>\n",
       "      <td>size_sqft</td>\n",
       "      <td>0.525537</td>\n",
       "      <td>0.565788</td>\n",
       "      <td>0.007718</td>\n",
       "      <td>1.000000</td>\n",
       "      <td>0.054328</td>\n",
       "      <td>-0.021524</td>\n",
       "      <td>0.047766</td>\n",
       "      <td>0.649984</td>\n",
       "    </tr>\n",
       "    <tr>\n",
       "      <td>floornumber</td>\n",
       "      <td>-0.158895</td>\n",
       "      <td>0.116938</td>\n",
       "      <td>-0.012333</td>\n",
       "      <td>0.054328</td>\n",
       "      <td>1.000000</td>\n",
       "      <td>0.095295</td>\n",
       "      <td>0.523314</td>\n",
       "      <td>0.267151</td>\n",
       "    </tr>\n",
       "    <tr>\n",
       "      <td>year_built</td>\n",
       "      <td>-0.056614</td>\n",
       "      <td>-0.004480</td>\n",
       "      <td>-0.031395</td>\n",
       "      <td>-0.021524</td>\n",
       "      <td>0.095295</td>\n",
       "      <td>1.000000</td>\n",
       "      <td>0.094629</td>\n",
       "      <td>-0.001037</td>\n",
       "    </tr>\n",
       "    <tr>\n",
       "      <td>has_doorman</td>\n",
       "      <td>-0.233059</td>\n",
       "      <td>0.108987</td>\n",
       "      <td>-0.016984</td>\n",
       "      <td>0.047766</td>\n",
       "      <td>0.523314</td>\n",
       "      <td>0.094629</td>\n",
       "      <td>1.000000</td>\n",
       "      <td>0.273486</td>\n",
       "    </tr>\n",
       "    <tr>\n",
       "      <td>rent</td>\n",
       "      <td>0.353337</td>\n",
       "      <td>0.611987</td>\n",
       "      <td>0.000010</td>\n",
       "      <td>0.649984</td>\n",
       "      <td>0.267151</td>\n",
       "      <td>-0.001037</td>\n",
       "      <td>0.273486</td>\n",
       "      <td>1.000000</td>\n",
       "    </tr>\n",
       "  </tbody>\n",
       "</table>\n",
       "</div>"
      ],
      "text/plain": [
       "               bedrooms  bathrooms  min_to_subway  size_sqft  floornumber  \\\n",
       "bedrooms       1.000000   0.464287       0.014171   0.525537    -0.158895   \n",
       "bathrooms      0.464287   1.000000       0.017966   0.565788     0.116938   \n",
       "min_to_subway  0.014171   0.017966       1.000000   0.007718    -0.012333   \n",
       "size_sqft      0.525537   0.565788       0.007718   1.000000     0.054328   \n",
       "floornumber   -0.158895   0.116938      -0.012333   0.054328     1.000000   \n",
       "year_built    -0.056614  -0.004480      -0.031395  -0.021524     0.095295   \n",
       "has_doorman   -0.233059   0.108987      -0.016984   0.047766     0.523314   \n",
       "rent           0.353337   0.611987       0.000010   0.649984     0.267151   \n",
       "\n",
       "               year_built  has_doorman      rent  \n",
       "bedrooms        -0.056614    -0.233059  0.353337  \n",
       "bathrooms       -0.004480     0.108987  0.611987  \n",
       "min_to_subway   -0.031395    -0.016984  0.000010  \n",
       "size_sqft       -0.021524     0.047766  0.649984  \n",
       "floornumber      0.095295     0.523314  0.267151  \n",
       "year_built       1.000000     0.094629 -0.001037  \n",
       "has_doorman      0.094629     1.000000  0.273486  \n",
       "rent            -0.001037     0.273486  1.000000  "
      ]
     },
     "execution_count": 13,
     "metadata": {},
     "output_type": "execute_result"
    }
   ],
   "source": [
    "# calculate correlation matrix\n",
    "corr = train_df[[\"bedrooms\", \"bathrooms\", \"min_to_subway\", \"size_sqft\", \"floornumber\", \"year_built\",\"has_doorman\", \"rent\"]].corr()\n",
    "corr"
   ]
  },
  {
   "cell_type": "code",
   "execution_count": 14,
   "metadata": {
    "colab": {
     "base_uri": "https://localhost:8080/",
     "height": 337
    },
    "colab_type": "code",
    "id": "MwMJkeZRbvqC",
    "outputId": "bc5b162e-5dcd-4bb9-f52b-26514f5a39c6"
   },
   "outputs": [
    {
     "data": {
      "image/png": "[encoded data removed]",
      "text/plain": [
       "<Figure size 576x288 with 2 Axes>"
      ]
     },
     "metadata": {
      "needs_background": "light"
     },
     "output_type": "display_data"
    }
   ],
   "source": [
    "# visualize correlation matrix\n",
    "plt.subplots(figsize=(8,4))\n",
    "\n",
    "fig = sns.heatmap(corr, \n",
    "            xticklabels=corr.columns.values,\n",
    "            yticklabels=corr.columns.values, annot=True)\n",
    "\n"
   ]
  },
  {
   "cell_type": "markdown",
   "metadata": {
    "colab_type": "text",
    "id": "Dful9t-ObvqE"
   },
   "source": [
    "Note: Bedrooms has the highest correlation (positive) with rent"
   ]
  },
  {
   "cell_type": "code",
   "execution_count": 15,
   "metadata": {
    "colab": {
     "base_uri": "https://localhost:8080/",
     "height": 265
    },
    "colab_type": "code",
    "id": "Pe5SOF-Nr7kZ",
    "outputId": "26af4c55-8430-4f0e-c732-528832d79cfc"
   },
   "outputs": [
    {
     "data": {
      "image/png": "[encoded data removed]",
      "text/plain": [
       "<Figure size 432x288 with 1 Axes>"
      ]
     },
     "metadata": {
      "needs_background": "light"
     },
     "output_type": "display_data"
    }
   ],
   "source": [
    "_ = plt.plot(train_df['rent'], train_df['size_sqft'], marker='.', linestyle='none')"
   ]
  },
  {
   "cell_type": "code",
   "execution_count": 16,
   "metadata": {
    "colab": {
     "base_uri": "https://localhost:8080/",
     "height": 265
    },
    "colab_type": "code",
    "id": "gqlfNGGctxXa",
    "outputId": "e55ca80b-2160-4c72-97a3-d811b0cc83ef"
   },
   "outputs": [
    {
     "data": {
      "image/png": "[encoded data removed]",
      "text/plain": [
       "<Figure size 432x288 with 1 Axes>"
      ]
     },
     "metadata": {
      "needs_background": "light"
     },
     "output_type": "display_data"
    }
   ],
   "source": [
    "_ = plt.plot(train_df['rent'], train_df['bathrooms'], marker='.', linestyle='none')"
   ]
  },
  {
   "cell_type": "code",
   "execution_count": 17,
   "metadata": {
    "colab": {
     "base_uri": "https://localhost:8080/",
     "height": 265
    },
    "colab_type": "code",
    "id": "8vhR-bRdzG0X",
    "outputId": "d64201c9-1a85-4c3e-f218-48e7fe89f998"
   },
   "outputs": [
    {
     "data": {
      "image/png": "[encoded data removed]",
      "text/plain": [
       "<Figure size 432x288 with 1 Axes>"
      ]
     },
     "metadata": {
      "needs_background": "light"
     },
     "output_type": "display_data"
    }
   ],
   "source": [
    "_ = plt.plot(train_df['rent'], train_df['bedrooms'], marker='.', linestyle='none')"
   ]
  },
  {
   "cell_type": "code",
   "execution_count": 18,
   "metadata": {
    "colab": {},
    "colab_type": "code",
    "id": "sB4zNUHzuY-G"
   },
   "outputs": [],
   "source": [
    "# extract usable features\n",
    "feature_cols = [\n",
    "    'bedrooms', 'year_built', 'bathrooms', 'min_to_subway', \n",
    "    'size_sqft', 'no_fee', 'has_doorman',  'has_washer_dryer', 'floornumber'\n",
    "]\n",
    "train_features = train_df[feature_cols] "
   ]
  },
  {
   "cell_type": "markdown",
   "metadata": {
    "colab_type": "text",
    "id": "LA2ArZzOlOek"
   },
   "source": [
    "Adding a new feature using existing data: Distance to Central Park. Idea: the closer to central park the more the rent. "
   ]
  },
  {
   "cell_type": "code",
   "execution_count": 19,
   "metadata": {
    "colab": {},
    "colab_type": "code",
    "id": "YzmUaQuYlNwy"
   },
   "outputs": [],
   "source": [
    "def deg2rad(deg):\n",
    "  return deg * (np.pi/180)\n",
    "\n",
    "def getDistanceFromLatLonInKm(lat1,lon1,lat2=40.78,lon2=-73.965):\n",
    "  R = 6371  # Radius of the earth in km\n",
    "  dLat = deg2rad(lat2-lat1) \n",
    "  dLon = deg2rad(lon2-lon1) \n",
    "  a = np.sin(dLat/2) * np.sin(dLat/2) + np.cos(deg2rad(lat1)) * np.cos(deg2rad(lat2)) * np.sin(dLon/2) * np.sin(dLon/2)\n",
    "  c = 2 * np.arctan2(np.sqrt(a), np.sqrt(1-a)) \n",
    "  d = R * c  # Distance in km\n",
    "  return d"
   ]
  },
  {
   "cell_type": "code",
   "execution_count": 20,
   "metadata": {
    "colab": {},
    "colab_type": "code",
    "id": "2WFLT4galaR8"
   },
   "outputs": [],
   "source": [
    "train_df['dist_centralPark'] = getDistanceFromLatLonInKm(train_df['addr_lat'], train_df['addr_lon'])\n",
    "test_df['dist_centralPark'] = getDistanceFromLatLonInKm(test_df['addr_lat'], test_df['addr_lon'])"
   ]
  },
  {
   "cell_type": "code",
   "execution_count": 21,
   "metadata": {
    "colab": {},
    "colab_type": "code",
    "id": "hSpZAEMyrsJt"
   },
   "outputs": [],
   "source": [
    "submit1_df['dist_centralPark'] = getDistanceFromLatLonInKm(submit1_df['addr_lat'], submit1_df['addr_lon'])"
   ]
  },
  {
   "cell_type": "code",
   "execution_count": 22,
   "metadata": {
    "colab": {
     "base_uri": "https://localhost:8080/",
     "height": 386
    },
    "colab_type": "code",
    "id": "BflWgnb7lar9",
    "outputId": "1cd09086-1b09-4fba-8dec-fbc1a27d54fc"
   },
   "outputs": [
    {
     "data": {
      "text/plain": [
       "rental_id\n",
       "7236931    14.796742\n",
       "7331920     7.806511\n",
       "7139224     2.743952\n",
       "7364827     3.660724\n",
       "7242151    11.126183\n",
       "7171210     2.331770\n",
       "7286986     7.900183\n",
       "7418503     2.803593\n",
       "7304773     3.370226\n",
       "7180240     2.530775\n",
       "7199509     6.520788\n",
       "7374106     7.727537\n",
       "7211146     5.455471\n",
       "7205032     9.249498\n",
       "7303381     6.165054\n",
       "7257553    10.045174\n",
       "7371094     9.455008\n",
       "7386616    19.309963\n",
       "7161667     1.416285\n",
       "7256881     1.781116\n",
       "Name: dist_centralPark, dtype: float64"
      ]
     },
     "execution_count": 22,
     "metadata": {},
     "output_type": "execute_result"
    }
   ],
   "source": [
    "train_df['dist_centralPark'].head(20)"
   ]
  },
  {
   "cell_type": "code",
   "execution_count": 23,
   "metadata": {
    "colab": {
     "base_uri": "https://localhost:8080/",
     "height": 265
    },
    "colab_type": "code",
    "id": "ChbpI5i1qwgY",
    "outputId": "3ebcbee2-7ed8-48eb-f893-0b0bb4d69539"
   },
   "outputs": [
    {
     "data": {
      "image/png": "[encoded data removed]",
      "text/plain": [
       "<Figure size 432x288 with 1 Axes>"
      ]
     },
     "metadata": {
      "needs_background": "light"
     },
     "output_type": "display_data"
    }
   ],
   "source": [
    "_ = plt.plot(train_df['rent'], train_df['dist_centralPark'], marker='.', linestyle='none')\n",
    "#plt.xlim(0, 10000)\n",
    "# not really a correlation"
   ]
  },
  {
   "cell_type": "code",
   "execution_count": 24,
   "metadata": {
    "colab": {},
    "colab_type": "code",
    "id": "jdW_8pIAbvqn"
   },
   "outputs": [],
   "source": [
    "def deg2rad(deg):\n",
    "  return deg * (np.pi/180)\n",
    "\n",
    "def getDistanceFromLatLonInKm2(lat1,lon1,lat2=40.758,lon2=-73.9855):\n",
    "  R = 6371  # Radius of the earth in km\n",
    "  dLat = deg2rad(lat2-lat1) \n",
    "  dLon = deg2rad(lon2-lon1) \n",
    "  a = np.sin(dLat/2) * np.sin(dLat/2) + np.cos(deg2rad(lat1)) * np.cos(deg2rad(lat2)) * np.sin(dLon/2) * np.sin(dLon/2)\n",
    "  c = 2 * np.arctan2(np.sqrt(a), np.sqrt(1-a)) \n",
    "  d = R * c  # Distance in km\n",
    "  return d"
   ]
  },
  {
   "cell_type": "code",
   "execution_count": 25,
   "metadata": {
    "colab": {},
    "colab_type": "code",
    "id": "bPWpgzbbbvqt"
   },
   "outputs": [],
   "source": [
    "train_df['dist_timeSquare'] = getDistanceFromLatLonInKm2(train_df['addr_lat'], train_df['addr_lon'])\n",
    "test_df['dist_timeSquare'] = getDistanceFromLatLonInKm2(test_df['addr_lat'], test_df['addr_lon'])"
   ]
  },
  {
   "cell_type": "code",
   "execution_count": 26,
   "metadata": {
    "colab": {},
    "colab_type": "code",
    "id": "yrOXkqxabvqv"
   },
   "outputs": [],
   "source": [
    "submit1_df['dist_timeSquare'] = getDistanceFromLatLonInKm2(submit1_df['addr_lat'], submit1_df['addr_lon'])"
   ]
  },
  {
   "cell_type": "code",
   "execution_count": 27,
   "metadata": {
    "colab": {
     "base_uri": "https://localhost:8080/",
     "height": 386
    },
    "colab_type": "code",
    "id": "JXcdVEtfbvqw",
    "outputId": "70ddcc0d-d899-430c-a4af-58428a05310e"
   },
   "outputs": [
    {
     "data": {
      "text/plain": [
       "rental_id\n",
       "7236931    12.529424\n",
       "7331920     4.882349\n",
       "7139224     1.535301\n",
       "7364827     0.747939\n",
       "7242151     9.213716\n",
       "7171210     5.180434\n",
       "7286986     8.966177\n",
       "7418503     4.594814\n",
       "7304773     1.008166\n",
       "7180240     1.543220\n",
       "7199509     7.190453\n",
       "7374106     5.890000\n",
       "7211146     8.381801\n",
       "7205032     8.244336\n",
       "7303381     9.016044\n",
       "7257553     8.325541\n",
       "7371094     7.129432\n",
       "7386616    16.851094\n",
       "7161667     2.554158\n",
       "7256881     4.394017\n",
       "Name: dist_timeSquare, dtype: float64"
      ]
     },
     "execution_count": 27,
     "metadata": {},
     "output_type": "execute_result"
    }
   ],
   "source": [
    "train_df['dist_timeSquare'].head(20)"
   ]
  },
  {
   "cell_type": "code",
   "execution_count": 28,
   "metadata": {
    "colab": {
     "base_uri": "https://localhost:8080/",
     "height": 282
    },
    "colab_type": "code",
    "id": "9QHQGdfWbvqy",
    "outputId": "758bdfd4-a2be-479f-c155-d2c842db69f8"
   },
   "outputs": [
    {
     "data": {
      "text/plain": [
       "(0, 10000)"
      ]
     },
     "execution_count": 28,
     "metadata": {},
     "output_type": "execute_result"
    },
    {
     "data": {
      "image/png": "[encoded data removed]",
      "text/plain": [
       "<Figure size 432x288 with 1 Axes>"
      ]
     },
     "metadata": {
      "needs_background": "light"
     },
     "output_type": "display_data"
    }
   ],
   "source": [
    "_ = plt.plot(train_df['rent'], train_df['dist_timeSquare'], marker='.', linestyle='none')\n",
    "plt.xlim(0, 10000)\n",
    "# not really a correlation"
   ]
  },
  {
   "cell_type": "code",
   "execution_count": null,
   "metadata": {},
   "outputs": [],
   "source": [
    "def deg2rad(deg):\n",
    "  return deg * (np.pi/180)\n",
    "\n",
    "def getDistanceFromLatLonInKm3(lat1,lon1,lat2=40.7233,lon2=-74.0030):\n",
    "  R = 6371  # Radius of the earth in km\n",
    "  dLat = deg2rad(lat2-lat1) \n",
    "  dLon = deg2rad(lon2-lon1) \n",
    "  a = np.sin(dLat/2) * np.sin(dLat/2) + np.cos(deg2rad(lat1)) * np.cos(deg2rad(lat2)) * np.sin(dLon/2) * np.sin(dLon/2)\n",
    "  c = 2 * np.arctan2(np.sqrt(a), np.sqrt(1-a)) \n",
    "  d = R * c  # Distance in km\n",
    "  return d"
   ]
  },
  {
   "cell_type": "code",
   "execution_count": null,
   "metadata": {},
   "outputs": [],
   "source": [
    "train_df['dist_soho'] = getDistanceFromLatLonInKm3(train_df['addr_lat'], train_df['addr_lon'])\n",
    "test_df['dist_soho'] = getDistanceFromLatLonInKm3(test_df['addr_lat'], test_df['addr_lon'])"
   ]
  },
  {
   "cell_type": "code",
   "execution_count": null,
   "metadata": {},
   "outputs": [],
   "source": [
    "submit1_df['dist_soho'] = getDistanceFromLatLonInKm3(submit1_df['addr_lat'], submit1_df['addr_lon'])"
   ]
  },
  {
   "cell_type": "code",
   "execution_count": null,
   "metadata": {},
   "outputs": [],
   "source": [
    "train_df['dist_soho'].head(20)"
   ]
  },
  {
   "cell_type": "code",
   "execution_count": null,
   "metadata": {},
   "outputs": [],
   "source": [
    "def deg2rad(deg):\n",
    "  return deg * (np.pi/180)\n",
    "\n",
    "def getDistanceFromLatLonInKm4(lat1,lon1,lat2=40.7163,lon2=-74.0086):\n",
    "  R = 6371  # Radius of the earth in km\n",
    "  dLat = deg2rad(lat2-lat1) \n",
    "  dLon = deg2rad(lon2-lon1) \n",
    "  a = np.sin(dLat/2) * np.sin(dLat/2) + np.cos(deg2rad(lat1)) * np.cos(deg2rad(lat2)) * np.sin(dLon/2) * np.sin(dLon/2)\n",
    "  c = 2 * np.arctan2(np.sqrt(a), np.sqrt(1-a)) \n",
    "  d = R * c  # Distance in km\n",
    "  return d"
   ]
  },
  {
   "cell_type": "code",
   "execution_count": null,
   "metadata": {},
   "outputs": [],
   "source": [
    "train_df['dist_tribeca'] = getDistanceFromLatLonInKm4(train_df['addr_lat'], train_df['addr_lon'])\n",
    "test_df['dist_tribeca'] = getDistanceFromLatLonInKm4(test_df['addr_lat'], test_df['addr_lon'])"
   ]
  },
  {
   "cell_type": "code",
   "execution_count": 29,
   "metadata": {},
   "outputs": [],
   "source": [
    "submit1_df['dist_tribeca'] = getDistanceFromLatLonInKm4(submit1_df['addr_lat'], submit1_df['addr_lon'])"
   ]
  },
  {
   "cell_type": "code",
   "execution_count": 36,
   "metadata": {},
   "outputs": [
    {
     "data": {
      "text/plain": [
       "rental_id\n",
       "7236931     8.726951\n",
       "7331920     0.322072\n",
       "7139224     5.553267\n",
       "7364827     4.321828\n",
       "7242151     6.658132\n",
       "7171210    10.209016\n",
       "7286986    11.536402\n",
       "7418503     8.773459\n",
       "7304773     5.115650\n",
       "7180240     5.740384\n",
       "7199509     9.625053\n",
       "7374106     4.721426\n",
       "7211146    13.407268\n",
       "7205032     7.845390\n",
       "7303381    14.042443\n",
       "7257553     6.436983\n",
       "7371094     4.054994\n",
       "7386616    12.484447\n",
       "7161667     7.163490\n",
       "7256881     9.413691\n",
       "Name: dist_tribeca, dtype: float64"
      ]
     },
     "execution_count": 36,
     "metadata": {},
     "output_type": "execute_result"
    }
   ],
   "source": [
    "train_df['dist_tribeca'].head(20)"
   ]
  },
  {
   "cell_type": "code",
   "execution_count": 37,
   "metadata": {},
   "outputs": [],
   "source": [
    "def deg2rad(deg):\n",
    "  return deg * (np.pi/180)\n",
    "\n",
    "def getDistanceFromLatLonInKm5(lat1,lon1,lat2=40.7401,lon2=-73.9903):\n",
    "  R = 6371  # Radius of the earth in km\n",
    "  dLat = deg2rad(lat2-lat1) \n",
    "  dLon = deg2rad(lon2-lon1) \n",
    "  a = np.sin(dLat/2) * np.sin(dLat/2) + np.cos(deg2rad(lat1)) * np.cos(deg2rad(lat2)) * np.sin(dLon/2) * np.sin(dLon/2)\n",
    "  c = 2 * np.arctan2(np.sqrt(a), np.sqrt(1-a)) \n",
    "  d = R * c  # Distance in km\n",
    "  return d"
   ]
  },
  {
   "cell_type": "code",
   "execution_count": 38,
   "metadata": {},
   "outputs": [],
   "source": [
    "train_df['dist_flatiron_district'] = getDistanceFromLatLonInKm5(train_df['addr_lat'], train_df['addr_lon'])\n",
    "test_df['dist_flatiron_district'] = getDistanceFromLatLonInKm5(test_df['addr_lat'], test_df['addr_lon'])"
   ]
  },
  {
   "cell_type": "code",
   "execution_count": 39,
   "metadata": {},
   "outputs": [],
   "source": [
    "submit1_df['dist_flatiron_district'] = getDistanceFromLatLonInKm5(submit1_df['addr_lat'], submit1_df['addr_lon'])"
   ]
  },
  {
   "cell_type": "code",
   "execution_count": 40,
   "metadata": {},
   "outputs": [
    {
     "data": {
      "text/plain": [
       "rental_id\n",
       "7236931    10.663376\n",
       "7331920     2.884739\n",
       "7139224     2.559754\n",
       "7364827     1.290306\n",
       "7242151     7.601325\n",
       "7171210     7.180027\n",
       "7286986     9.411616\n",
       "7418503     5.882679\n",
       "7304773     2.426946\n",
       "7180240     2.728485\n",
       "7199509     7.512837\n",
       "7374106     4.502831\n",
       "7211146    10.364843\n",
       "7205032     7.312777\n",
       "7303381    11.026132\n",
       "7257553     6.874995\n",
       "7371094     5.307991\n",
       "7386616    14.887315\n",
       "7161667     4.129349\n",
       "7256881     6.416783\n",
       "Name: dist_flatiron_district, dtype: float64"
      ]
     },
     "execution_count": 40,
     "metadata": {},
     "output_type": "execute_result"
    }
   ],
   "source": [
    "train_df['dist_flatiron_district'].head(20)"
   ]
  },
  {
   "cell_type": "code",
   "execution_count": 41,
   "metadata": {},
   "outputs": [],
   "source": [
    "def deg2rad(deg):\n",
    "  return deg * (np.pi/180)\n",
    "\n",
    "def getDistanceFromLatLonInKm6(lat1,lon1,lat2=40.7549,lon2=-73.9840):\n",
    "  R = 6371  # Radius of the earth in km\n",
    "  dLat = deg2rad(lat2-lat1) \n",
    "  dLon = deg2rad(lon2-lon1) \n",
    "  a = np.sin(dLat/2) * np.sin(dLat/2) + np.cos(deg2rad(lat1)) * np.cos(deg2rad(lat2)) * np.sin(dLon/2) * np.sin(dLon/2)\n",
    "  c = 2 * np.arctan2(np.sqrt(a), np.sqrt(1-a)) \n",
    "  d = R * c  # Distance in km\n",
    "  return d"
   ]
  },
  {
   "cell_type": "code",
   "execution_count": 42,
   "metadata": {},
   "outputs": [],
   "source": [
    "train_df['dist_mid_manhattan'] = getDistanceFromLatLonInKm6(train_df['addr_lat'], train_df['addr_lon'])\n",
    "test_df['dist_mid_manhattan'] = getDistanceFromLatLonInKm6(test_df['addr_lat'], test_df['addr_lon'])"
   ]
  },
  {
   "cell_type": "code",
   "execution_count": 43,
   "metadata": {},
   "outputs": [],
   "source": [
    "submit1_df['dist_mid_manhattan'] = getDistanceFromLatLonInKm6(submit1_df['addr_lat'], submit1_df['addr_lon'])"
   ]
  },
  {
   "cell_type": "code",
   "execution_count": 44,
   "metadata": {},
   "outputs": [
    {
     "data": {
      "text/plain": [
       "rental_id\n",
       "7236931    12.168351\n",
       "7331920     4.605374\n",
       "7139224     1.382683\n",
       "7364827     0.444551\n",
       "7242151     8.846778\n",
       "7171210     5.452516\n",
       "7286986     8.816047\n",
       "7418503     4.599955\n",
       "7304773     1.283710\n",
       "7180240     1.439928\n",
       "7199509     7.011780\n",
       "7374106     5.526294\n",
       "7211146     8.643017\n",
       "7205032     7.912035\n",
       "7303381     9.297335\n",
       "7257553     7.961852\n",
       "7371094     6.767318\n",
       "7386616    16.501794\n",
       "7161667     2.621165\n",
       "7256881     4.689244\n",
       "Name: dist_mid_manhattan, dtype: float64"
      ]
     },
     "execution_count": 44,
     "metadata": {},
     "output_type": "execute_result"
    }
   ],
   "source": [
    "train_df['dist_mid_manhattan'].head(20)"
   ]
  },
  {
   "cell_type": "code",
   "execution_count": 45,
   "metadata": {
    "colab": {},
    "colab_type": "code",
    "id": "IkYCPshBbvqz"
   },
   "outputs": [],
   "source": [
    "# extract usable features\n",
    "feature_cols = [\n",
    "    'bedrooms', 'year_built', 'bathrooms', 'min_to_subway', \n",
    "    'size_sqft', 'no_fee', 'has_doorman',  'has_washer_dryer', 'floornumber', 'dist_centralPark', 'dist_timeSquare', 'dist_soho',\n",
    "    'dist_tribeca', 'dist_flatiron_district', 'dist_mid_manhattan'\n",
    "]\n",
    "train_features = train_df[feature_cols] "
   ]
  },
  {
   "cell_type": "code",
   "execution_count": 46,
   "metadata": {
    "colab": {},
    "colab_type": "code",
    "id": "ou_tVxE7bvq1"
   },
   "outputs": [],
   "source": [
    "# extract usable features for test data\n",
    "test_features = test_df[feature_cols] "
   ]
  },
  {
   "cell_type": "code",
   "execution_count": 47,
   "metadata": {},
   "outputs": [
    {
     "data": {
      "text/html": [
       "<div>\n",
       "<style scoped>\n",
       "    .dataframe tbody tr th:only-of-type {\n",
       "        vertical-align: middle;\n",
       "    }\n",
       "\n",
       "    .dataframe tbody tr th {\n",
       "        vertical-align: top;\n",
       "    }\n",
       "\n",
       "    .dataframe thead th {\n",
       "        text-align: right;\n",
       "    }\n",
       "</style>\n",
       "<table border=\"1\" class=\"dataframe\">\n",
       "  <thead>\n",
       "    <tr style=\"text-align: right;\">\n",
       "      <th></th>\n",
       "      <th>bedrooms</th>\n",
       "      <th>bathrooms</th>\n",
       "      <th>min_to_subway</th>\n",
       "      <th>size_sqft</th>\n",
       "      <th>floornumber</th>\n",
       "      <th>year_built</th>\n",
       "      <th>has_doorman</th>\n",
       "      <th>rent</th>\n",
       "      <th>dist_centralPark</th>\n",
       "      <th>dist_timeSquare</th>\n",
       "      <th>dist_soho</th>\n",
       "      <th>dist_tribeca</th>\n",
       "      <th>dist_flatiron_district</th>\n",
       "      <th>dist_mid_manhattan</th>\n",
       "    </tr>\n",
       "  </thead>\n",
       "  <tbody>\n",
       "    <tr>\n",
       "      <td>bedrooms</td>\n",
       "      <td>1.000000</td>\n",
       "      <td>0.464287</td>\n",
       "      <td>0.014171</td>\n",
       "      <td>0.525537</td>\n",
       "      <td>-0.158895</td>\n",
       "      <td>-0.056614</td>\n",
       "      <td>-0.233059</td>\n",
       "      <td>0.353337</td>\n",
       "      <td>0.141022</td>\n",
       "      <td>0.155523</td>\n",
       "      <td>0.092720</td>\n",
       "      <td>0.078145</td>\n",
       "      <td>0.131186</td>\n",
       "      <td>0.152196</td>\n",
       "    </tr>\n",
       "    <tr>\n",
       "      <td>bathrooms</td>\n",
       "      <td>0.464287</td>\n",
       "      <td>1.000000</td>\n",
       "      <td>0.017966</td>\n",
       "      <td>0.565788</td>\n",
       "      <td>0.116938</td>\n",
       "      <td>-0.004480</td>\n",
       "      <td>0.108987</td>\n",
       "      <td>0.611987</td>\n",
       "      <td>-0.057818</td>\n",
       "      <td>-0.067363</td>\n",
       "      <td>-0.060364</td>\n",
       "      <td>-0.058068</td>\n",
       "      <td>-0.060587</td>\n",
       "      <td>-0.065352</td>\n",
       "    </tr>\n",
       "    <tr>\n",
       "      <td>min_to_subway</td>\n",
       "      <td>0.014171</td>\n",
       "      <td>0.017966</td>\n",
       "      <td>1.000000</td>\n",
       "      <td>0.007718</td>\n",
       "      <td>-0.012333</td>\n",
       "      <td>-0.031395</td>\n",
       "      <td>-0.016984</td>\n",
       "      <td>0.000010</td>\n",
       "      <td>0.022934</td>\n",
       "      <td>0.016056</td>\n",
       "      <td>-0.005068</td>\n",
       "      <td>-0.010411</td>\n",
       "      <td>0.007472</td>\n",
       "      <td>0.015205</td>\n",
       "    </tr>\n",
       "    <tr>\n",
       "      <td>size_sqft</td>\n",
       "      <td>0.525537</td>\n",
       "      <td>0.565788</td>\n",
       "      <td>0.007718</td>\n",
       "      <td>1.000000</td>\n",
       "      <td>0.054328</td>\n",
       "      <td>-0.021524</td>\n",
       "      <td>0.047766</td>\n",
       "      <td>0.649984</td>\n",
       "      <td>0.028321</td>\n",
       "      <td>0.014559</td>\n",
       "      <td>-0.019804</td>\n",
       "      <td>-0.027519</td>\n",
       "      <td>0.003541</td>\n",
       "      <td>0.014234</td>\n",
       "    </tr>\n",
       "    <tr>\n",
       "      <td>floornumber</td>\n",
       "      <td>-0.158895</td>\n",
       "      <td>0.116938</td>\n",
       "      <td>-0.012333</td>\n",
       "      <td>0.054328</td>\n",
       "      <td>1.000000</td>\n",
       "      <td>0.095295</td>\n",
       "      <td>0.523314</td>\n",
       "      <td>0.267151</td>\n",
       "      <td>-0.258176</td>\n",
       "      <td>-0.321750</td>\n",
       "      <td>-0.226814</td>\n",
       "      <td>-0.207024</td>\n",
       "      <td>-0.283741</td>\n",
       "      <td>-0.316587</td>\n",
       "    </tr>\n",
       "    <tr>\n",
       "      <td>year_built</td>\n",
       "      <td>-0.056614</td>\n",
       "      <td>-0.004480</td>\n",
       "      <td>-0.031395</td>\n",
       "      <td>-0.021524</td>\n",
       "      <td>0.095295</td>\n",
       "      <td>1.000000</td>\n",
       "      <td>0.094629</td>\n",
       "      <td>-0.001037</td>\n",
       "      <td>-0.025043</td>\n",
       "      <td>-0.037718</td>\n",
       "      <td>-0.028661</td>\n",
       "      <td>-0.025778</td>\n",
       "      <td>-0.037596</td>\n",
       "      <td>-0.039073</td>\n",
       "    </tr>\n",
       "    <tr>\n",
       "      <td>has_doorman</td>\n",
       "      <td>-0.233059</td>\n",
       "      <td>0.108987</td>\n",
       "      <td>-0.016984</td>\n",
       "      <td>0.047766</td>\n",
       "      <td>0.523314</td>\n",
       "      <td>0.094629</td>\n",
       "      <td>1.000000</td>\n",
       "      <td>0.273486</td>\n",
       "      <td>-0.326067</td>\n",
       "      <td>-0.388177</td>\n",
       "      <td>-0.288483</td>\n",
       "      <td>-0.264997</td>\n",
       "      <td>-0.349748</td>\n",
       "      <td>-0.383485</td>\n",
       "    </tr>\n",
       "    <tr>\n",
       "      <td>rent</td>\n",
       "      <td>0.353337</td>\n",
       "      <td>0.611987</td>\n",
       "      <td>0.000010</td>\n",
       "      <td>0.649984</td>\n",
       "      <td>0.267151</td>\n",
       "      <td>-0.001037</td>\n",
       "      <td>0.273486</td>\n",
       "      <td>1.000000</td>\n",
       "      <td>-0.247304</td>\n",
       "      <td>-0.323942</td>\n",
       "      <td>-0.324047</td>\n",
       "      <td>-0.303952</td>\n",
       "      <td>-0.335823</td>\n",
       "      <td>-0.323957</td>\n",
       "    </tr>\n",
       "    <tr>\n",
       "      <td>dist_centralPark</td>\n",
       "      <td>0.141022</td>\n",
       "      <td>-0.057818</td>\n",
       "      <td>0.022934</td>\n",
       "      <td>0.028321</td>\n",
       "      <td>-0.258176</td>\n",
       "      <td>-0.025043</td>\n",
       "      <td>-0.326067</td>\n",
       "      <td>-0.247304</td>\n",
       "      <td>1.000000</td>\n",
       "      <td>0.908245</td>\n",
       "      <td>0.433986</td>\n",
       "      <td>0.308710</td>\n",
       "      <td>0.717555</td>\n",
       "      <td>0.889897</td>\n",
       "    </tr>\n",
       "    <tr>\n",
       "      <td>dist_timeSquare</td>\n",
       "      <td>0.155523</td>\n",
       "      <td>-0.067363</td>\n",
       "      <td>0.016056</td>\n",
       "      <td>0.014559</td>\n",
       "      <td>-0.321750</td>\n",
       "      <td>-0.037718</td>\n",
       "      <td>-0.388177</td>\n",
       "      <td>-0.323942</td>\n",
       "      <td>0.908245</td>\n",
       "      <td>1.000000</td>\n",
       "      <td>0.747965</td>\n",
       "      <td>0.647532</td>\n",
       "      <td>0.935598</td>\n",
       "      <td>0.998583</td>\n",
       "    </tr>\n",
       "    <tr>\n",
       "      <td>dist_soho</td>\n",
       "      <td>0.092720</td>\n",
       "      <td>-0.060364</td>\n",
       "      <td>-0.005068</td>\n",
       "      <td>-0.019804</td>\n",
       "      <td>-0.226814</td>\n",
       "      <td>-0.028661</td>\n",
       "      <td>-0.288483</td>\n",
       "      <td>-0.324047</td>\n",
       "      <td>0.433986</td>\n",
       "      <td>0.747965</td>\n",
       "      <td>1.000000</td>\n",
       "      <td>0.988229</td>\n",
       "      <td>0.926562</td>\n",
       "      <td>0.775427</td>\n",
       "    </tr>\n",
       "    <tr>\n",
       "      <td>dist_tribeca</td>\n",
       "      <td>0.078145</td>\n",
       "      <td>-0.058068</td>\n",
       "      <td>-0.010411</td>\n",
       "      <td>-0.027519</td>\n",
       "      <td>-0.207024</td>\n",
       "      <td>-0.025778</td>\n",
       "      <td>-0.264997</td>\n",
       "      <td>-0.303952</td>\n",
       "      <td>0.308710</td>\n",
       "      <td>0.647532</td>\n",
       "      <td>0.988229</td>\n",
       "      <td>1.000000</td>\n",
       "      <td>0.860887</td>\n",
       "      <td>0.678190</td>\n",
       "    </tr>\n",
       "    <tr>\n",
       "      <td>dist_flatiron_district</td>\n",
       "      <td>0.131186</td>\n",
       "      <td>-0.060587</td>\n",
       "      <td>0.007472</td>\n",
       "      <td>0.003541</td>\n",
       "      <td>-0.283741</td>\n",
       "      <td>-0.037596</td>\n",
       "      <td>-0.349748</td>\n",
       "      <td>-0.335823</td>\n",
       "      <td>0.717555</td>\n",
       "      <td>0.935598</td>\n",
       "      <td>0.926562</td>\n",
       "      <td>0.860887</td>\n",
       "      <td>1.000000</td>\n",
       "      <td>0.951201</td>\n",
       "    </tr>\n",
       "    <tr>\n",
       "      <td>dist_mid_manhattan</td>\n",
       "      <td>0.152196</td>\n",
       "      <td>-0.065352</td>\n",
       "      <td>0.015205</td>\n",
       "      <td>0.014234</td>\n",
       "      <td>-0.316587</td>\n",
       "      <td>-0.039073</td>\n",
       "      <td>-0.383485</td>\n",
       "      <td>-0.323957</td>\n",
       "      <td>0.889897</td>\n",
       "      <td>0.998583</td>\n",
       "      <td>0.775427</td>\n",
       "      <td>0.678190</td>\n",
       "      <td>0.951201</td>\n",
       "      <td>1.000000</td>\n",
       "    </tr>\n",
       "  </tbody>\n",
       "</table>\n",
       "</div>"
      ],
      "text/plain": [
       "                        bedrooms  bathrooms  min_to_subway  size_sqft  \\\n",
       "bedrooms                1.000000   0.464287       0.014171   0.525537   \n",
       "bathrooms               0.464287   1.000000       0.017966   0.565788   \n",
       "min_to_subway           0.014171   0.017966       1.000000   0.007718   \n",
       "size_sqft               0.525537   0.565788       0.007718   1.000000   \n",
       "floornumber            -0.158895   0.116938      -0.012333   0.054328   \n",
       "year_built             -0.056614  -0.004480      -0.031395  -0.021524   \n",
       "has_doorman            -0.233059   0.108987      -0.016984   0.047766   \n",
       "rent                    0.353337   0.611987       0.000010   0.649984   \n",
       "dist_centralPark        0.141022  -0.057818       0.022934   0.028321   \n",
       "dist_timeSquare         0.155523  -0.067363       0.016056   0.014559   \n",
       "dist_soho               0.092720  -0.060364      -0.005068  -0.019804   \n",
       "dist_tribeca            0.078145  -0.058068      -0.010411  -0.027519   \n",
       "dist_flatiron_district  0.131186  -0.060587       0.007472   0.003541   \n",
       "dist_mid_manhattan      0.152196  -0.065352       0.015205   0.014234   \n",
       "\n",
       "                        floornumber  year_built  has_doorman      rent  \\\n",
       "bedrooms                  -0.158895   -0.056614    -0.233059  0.353337   \n",
       "bathrooms                  0.116938   -0.004480     0.108987  0.611987   \n",
       "min_to_subway             -0.012333   -0.031395    -0.016984  0.000010   \n",
       "size_sqft                  0.054328   -0.021524     0.047766  0.649984   \n",
       "floornumber                1.000000    0.095295     0.523314  0.267151   \n",
       "year_built                 0.095295    1.000000     0.094629 -0.001037   \n",
       "has_doorman                0.523314    0.094629     1.000000  0.273486   \n",
       "rent                       0.267151   -0.001037     0.273486  1.000000   \n",
       "dist_centralPark          -0.258176   -0.025043    -0.326067 -0.247304   \n",
       "dist_timeSquare           -0.321750   -0.037718    -0.388177 -0.323942   \n",
       "dist_soho                 -0.226814   -0.028661    -0.288483 -0.324047   \n",
       "dist_tribeca              -0.207024   -0.025778    -0.264997 -0.303952   \n",
       "dist_flatiron_district    -0.283741   -0.037596    -0.349748 -0.335823   \n",
       "dist_mid_manhattan        -0.316587   -0.039073    -0.383485 -0.323957   \n",
       "\n",
       "                        dist_centralPark  dist_timeSquare  dist_soho  \\\n",
       "bedrooms                        0.141022         0.155523   0.092720   \n",
       "bathrooms                      -0.057818        -0.067363  -0.060364   \n",
       "min_to_subway                   0.022934         0.016056  -0.005068   \n",
       "size_sqft                       0.028321         0.014559  -0.019804   \n",
       "floornumber                    -0.258176        -0.321750  -0.226814   \n",
       "year_built                     -0.025043        -0.037718  -0.028661   \n",
       "has_doorman                    -0.326067        -0.388177  -0.288483   \n",
       "rent                           -0.247304        -0.323942  -0.324047   \n",
       "dist_centralPark                1.000000         0.908245   0.433986   \n",
       "dist_timeSquare                 0.908245         1.000000   0.747965   \n",
       "dist_soho                       0.433986         0.747965   1.000000   \n",
       "dist_tribeca                    0.308710         0.647532   0.988229   \n",
       "dist_flatiron_district          0.717555         0.935598   0.926562   \n",
       "dist_mid_manhattan              0.889897         0.998583   0.775427   \n",
       "\n",
       "                        dist_tribeca  dist_flatiron_district  \\\n",
       "bedrooms                    0.078145                0.131186   \n",
       "bathrooms                  -0.058068               -0.060587   \n",
       "min_to_subway              -0.010411                0.007472   \n",
       "size_sqft                  -0.027519                0.003541   \n",
       "floornumber                -0.207024               -0.283741   \n",
       "year_built                 -0.025778               -0.037596   \n",
       "has_doorman                -0.264997               -0.349748   \n",
       "rent                       -0.303952               -0.335823   \n",
       "dist_centralPark            0.308710                0.717555   \n",
       "dist_timeSquare             0.647532                0.935598   \n",
       "dist_soho                   0.988229                0.926562   \n",
       "dist_tribeca                1.000000                0.860887   \n",
       "dist_flatiron_district      0.860887                1.000000   \n",
       "dist_mid_manhattan          0.678190                0.951201   \n",
       "\n",
       "                        dist_mid_manhattan  \n",
       "bedrooms                          0.152196  \n",
       "bathrooms                        -0.065352  \n",
       "min_to_subway                     0.015205  \n",
       "size_sqft                         0.014234  \n",
       "floornumber                      -0.316587  \n",
       "year_built                       -0.039073  \n",
       "has_doorman                      -0.383485  \n",
       "rent                             -0.323957  \n",
       "dist_centralPark                  0.889897  \n",
       "dist_timeSquare                   0.998583  \n",
       "dist_soho                         0.775427  \n",
       "dist_tribeca                      0.678190  \n",
       "dist_flatiron_district            0.951201  \n",
       "dist_mid_manhattan                1.000000  "
      ]
     },
     "execution_count": 47,
     "metadata": {},
     "output_type": "execute_result"
    }
   ],
   "source": [
    "corr = train_df[[\"bedrooms\", \"bathrooms\", \"min_to_subway\", \"size_sqft\", \"floornumber\", \"year_built\",\"has_doorman\", \"rent\",  \"dist_centralPark\", \"dist_timeSquare\", \"dist_soho\", \"dist_tribeca\", \"dist_flatiron_district\", \"dist_mid_manhattan\"]].corr()\n",
    "corr"
   ]
  },
  {
   "cell_type": "code",
   "execution_count": 48,
   "metadata": {},
   "outputs": [
    {
     "data": {
      "image/png": "[encoded data removed]",
      "text/plain": [
       "<Figure size 576x432 with 2 Axes>"
      ]
     },
     "metadata": {
      "needs_background": "light"
     },
     "output_type": "display_data"
    }
   ],
   "source": [
    "\n",
    "# visualize correlation matrix\n",
    "plt.subplots(figsize=(8,6))\n",
    "\n",
    "fig = sns.heatmap(corr, \n",
    "            xticklabels=corr.columns.values,\n",
    "            yticklabels=corr.columns.values)\n",
    "\n"
   ]
  },
  {
   "cell_type": "markdown",
   "metadata": {
    "colab_type": "text",
    "id": "HgGR6M-aojEZ"
   },
   "source": [
    "## Data Preprocessing\n",
    "\n",
    "This section we look at missing data and outliers and deal with these\n",
    "\n"
   ]
  },
  {
   "cell_type": "markdown",
   "metadata": {
    "colab_type": "text",
    "id": "m2jx_CgDtHyB"
   },
   "source": [
    "#### 1. Missing Data\n",
    "'min_to_subway', 'year_built' , 'floornumber' have NaNs. Solutions: drop or impute. This round we will impute as the feature 'floornumber' has 10% (1200) values missing and dropping this would reduce the data to only 10,000 points. "
   ]
  },
  {
   "cell_type": "code",
   "execution_count": 49,
   "metadata": {
    "colab": {
     "base_uri": "https://localhost:8080/",
     "height": 34
    },
    "colab_type": "code",
    "id": "3hHU0IGOv8Na",
    "outputId": "e4793f5d-a17b-47c3-8064-c542f79e0f66"
   },
   "outputs": [
    {
     "data": {
      "text/plain": [
       "403"
      ]
     },
     "execution_count": 49,
     "metadata": {},
     "output_type": "execute_result"
    }
   ],
   "source": [
    "train_df['year_built'].isna().sum()"
   ]
  },
  {
   "cell_type": "code",
   "execution_count": 50,
   "metadata": {
    "colab": {
     "base_uri": "https://localhost:8080/",
     "height": 34
    },
    "colab_type": "code",
    "id": "-4GEN3upv8wT",
    "outputId": "b1dcd432-f95b-47c7-c365-d8158da40759"
   },
   "outputs": [
    {
     "data": {
      "text/plain": [
       "126"
      ]
     },
     "execution_count": 50,
     "metadata": {},
     "output_type": "execute_result"
    }
   ],
   "source": [
    "train_df['min_to_subway'].isna().sum()"
   ]
  },
  {
   "cell_type": "code",
   "execution_count": 51,
   "metadata": {
    "colab": {
     "base_uri": "https://localhost:8080/",
     "height": 706
    },
    "colab_type": "code",
    "id": "uBwiNTiMbvrG",
    "outputId": "b066ecf3-fb1c-4a35-f439-b49c7b27250c"
   },
   "outputs": [
    {
     "data": {
      "text/plain": [
       "addr_unit                  19\n",
       "building_id                 0\n",
       "bedrooms                    0\n",
       "bathrooms                   0\n",
       "size_sqft                   0\n",
       "created_at                  0\n",
       "addr_street                 0\n",
       "addr_city                   0\n",
       "addr_zip                    0\n",
       "addr_lat                    0\n",
       "addr_lon                    0\n",
       "bin                         0\n",
       "bbl                         0\n",
       "floor_count                 0\n",
       "year_built                 67\n",
       "min_to_subway              17\n",
       "has_doorman                 0\n",
       "has_elevator                0\n",
       "has_fireplace               0\n",
       "has_dishwasher              0\n",
       "is_furnished                0\n",
       "has_gym                     0\n",
       "allows_pets                 0\n",
       "has_washer_dryer            0\n",
       "has_garage                  0\n",
       "has_roofdeck                0\n",
       "has_concierge               0\n",
       "has_pool                    0\n",
       "has_garden                  0\n",
       "has_childrens_playroom      0\n",
       "rent                        0\n",
       "no_fee                      0\n",
       "description                 1\n",
       "neighborhood                0\n",
       "borough                     0\n",
       "unit                       19\n",
       "floornumber               225\n",
       "line                      611\n",
       "dist_centralPark            0\n",
       "dist_timeSquare             0\n",
       "dist_soho                   0\n",
       "dist_tribeca                0\n",
       "dist_flatiron_district      0\n",
       "dist_mid_manhattan          0\n",
       "dtype: int64"
      ]
     },
     "execution_count": 51,
     "metadata": {},
     "output_type": "execute_result"
    }
   ],
   "source": [
    "test_df.isna().sum()"
   ]
  },
  {
   "cell_type": "code",
   "execution_count": 52,
   "metadata": {
    "colab": {
     "base_uri": "https://localhost:8080/",
     "height": 34
    },
    "colab_type": "code",
    "id": "IjUpxThGwLGD",
    "outputId": "7d54628f-4496-41bd-a395-d17ffe987a6a"
   },
   "outputs": [
    {
     "data": {
      "text/plain": [
       "1277"
      ]
     },
     "execution_count": 52,
     "metadata": {},
     "output_type": "execute_result"
    }
   ],
   "source": [
    "train_df['floornumber'].isna().sum()"
   ]
  },
  {
   "cell_type": "code",
   "execution_count": 53,
   "metadata": {
    "colab": {
     "base_uri": "https://localhost:8080/",
     "height": 168
    },
    "colab_type": "code",
    "id": "REIF_isrbvrJ",
    "outputId": "694159e9-46ad-4be6-8a24-1c42a9d66c3b"
   },
   "outputs": [
    {
     "data": {
      "text/plain": [
       "count    10723.000000\n",
       "mean         6.182738\n",
       "std          7.671545\n",
       "min          0.000000\n",
       "25%          2.000000\n",
       "50%          3.000000\n",
       "75%          6.000000\n",
       "max         78.000000\n",
       "Name: floornumber, dtype: float64"
      ]
     },
     "execution_count": 53,
     "metadata": {},
     "output_type": "execute_result"
    }
   ],
   "source": [
    "train_df['floornumber'].describe()"
   ]
  },
  {
   "cell_type": "code",
   "execution_count": 54,
   "metadata": {
    "colab": {
     "base_uri": "https://localhost:8080/",
     "height": 168
    },
    "colab_type": "code",
    "id": "Y703Ub8Pq1xY",
    "outputId": "eb0f9d6c-56cd-49d3-99cb-841366cbacd3"
   },
   "outputs": [
    {
     "data": {
      "text/plain": [
       "count    1775.000000\n",
       "mean        6.291831\n",
       "std         8.066341\n",
       "min         1.000000\n",
       "25%         2.000000\n",
       "50%         3.000000\n",
       "75%         6.000000\n",
       "max        71.000000\n",
       "Name: floornumber, dtype: float64"
      ]
     },
     "execution_count": 54,
     "metadata": {},
     "output_type": "execute_result"
    }
   ],
   "source": [
    "test_df['floornumber'].describe()"
   ]
  },
  {
   "cell_type": "code",
   "execution_count": 55,
   "metadata": {
    "colab": {
     "base_uri": "https://localhost:8080/",
     "height": 168
    },
    "colab_type": "code",
    "id": "m0Lsg3gAx798",
    "outputId": "ae5fe7f8-f7b3-4697-fc0f-df7d972b6cf2"
   },
   "outputs": [
    {
     "data": {
      "text/plain": [
       "count     11874.000000\n",
       "mean         73.588716\n",
       "std        2681.611157\n",
       "min           0.016700\n",
       "25%           1.616700\n",
       "50%           2.750000\n",
       "75%           4.366700\n",
       "max      103343.616700\n",
       "Name: min_to_subway, dtype: float64"
      ]
     },
     "execution_count": 55,
     "metadata": {},
     "output_type": "execute_result"
    }
   ],
   "source": [
    "train_df['min_to_subway'].describe()"
   ]
  },
  {
   "cell_type": "code",
   "execution_count": 56,
   "metadata": {
    "colab": {
     "base_uri": "https://localhost:8080/",
     "height": 168
    },
    "colab_type": "code",
    "id": "K1qvrG43q1ag",
    "outputId": "4b6dc5b9-a2cc-4111-a968-13116dc0814a",
    "scrolled": true
   },
   "outputs": [
    {
     "data": {
      "text/plain": [
       "count    1983.000000\n",
       "mean        3.768095\n",
       "std         4.110479\n",
       "min         0.016700\n",
       "25%         1.666700\n",
       "50%         2.816700\n",
       "75%         4.458350\n",
       "max        57.583300\n",
       "Name: min_to_subway, dtype: float64"
      ]
     },
     "execution_count": 56,
     "metadata": {},
     "output_type": "execute_result"
    }
   ],
   "source": [
    "test_df['min_to_subway'].describe()"
   ]
  },
  {
   "cell_type": "code",
   "execution_count": 57,
   "metadata": {
    "colab": {
     "base_uri": "https://localhost:8080/",
     "height": 168
    },
    "colab_type": "code",
    "id": "ZYg37N89x8aQ",
    "outputId": "c6cb9368-0fb8-42b3-87c2-b4d4c79e59bb"
   },
   "outputs": [
    {
     "data": {
      "text/plain": [
       "count    11597.000000\n",
       "mean      1935.982668\n",
       "std        158.157134\n",
       "min          0.000000\n",
       "25%       1915.000000\n",
       "50%       1931.000000\n",
       "75%       1987.000000\n",
       "max       2019.000000\n",
       "Name: year_built, dtype: float64"
      ]
     },
     "execution_count": 57,
     "metadata": {},
     "output_type": "execute_result"
    }
   ],
   "source": [
    "train_df['year_built'].describe()"
   ]
  },
  {
   "cell_type": "code",
   "execution_count": 58,
   "metadata": {
    "colab": {
     "base_uri": "https://localhost:8080/",
     "height": 168
    },
    "colab_type": "code",
    "id": "UNPKj6bNrNXr",
    "outputId": "3f2b8fa8-214c-440e-a0b6-92f3374d2131"
   },
   "outputs": [
    {
     "data": {
      "text/plain": [
       "count    1933.000000\n",
       "mean     1934.515261\n",
       "std       164.135048\n",
       "min         0.000000\n",
       "25%      1915.000000\n",
       "50%      1931.000000\n",
       "75%      1987.000000\n",
       "max      2019.000000\n",
       "Name: year_built, dtype: float64"
      ]
     },
     "execution_count": 58,
     "metadata": {},
     "output_type": "execute_result"
    }
   ],
   "source": [
    "test_df['year_built'].describe()"
   ]
  },
  {
   "cell_type": "markdown",
   "metadata": {
    "colab_type": "text",
    "id": "gQw2F3DKyQTz"
   },
   "source": [
    "The features all have large outliers that result in a much higher mean than median so we will use median for the impute value for the missing values. "
   ]
  },
  {
   "cell_type": "code",
   "execution_count": 59,
   "metadata": {
    "colab": {},
    "colab_type": "code",
    "id": "smFM_TWEuXz9"
   },
   "outputs": [],
   "source": [
    "# impute missing values with medians\n",
    "train_features = train_features.fillna(train_features.mean(), axis=0)\n",
    "\n",
    "# construct target vector\n",
    "train_target = train_df['rent']"
   ]
  },
  {
   "cell_type": "markdown",
   "metadata": {
    "colab_type": "text",
    "id": "_mMjb8rGsjXG"
   },
   "source": [
    "#### 2. Outlier Data\n",
    "From the above analysis it can be seen that the size_sqft and bathrooms have the value 0 for some data points. It is not possible for a rental space to have no size and it unusal for no bathroom in a rental. "
   ]
  },
  {
   "cell_type": "code",
   "execution_count": 60,
   "metadata": {
    "colab": {
     "base_uri": "https://localhost:8080/",
     "height": 34
    },
    "colab_type": "code",
    "id": "816TIZKRsjJH",
    "outputId": "d6acf568-efc7-4b8a-b53e-52269c3163ca"
   },
   "outputs": [
    {
     "data": {
      "text/plain": [
       "841"
      ]
     },
     "execution_count": 60,
     "metadata": {},
     "output_type": "execute_result"
    }
   ],
   "source": [
    "(train_features['size_sqft']==0).sum()\n",
    "## 841 values have outlier value of 0 for size_sqft"
   ]
  },
  {
   "cell_type": "code",
   "execution_count": 61,
   "metadata": {
    "colab": {
     "base_uri": "https://localhost:8080/",
     "height": 168
    },
    "colab_type": "code",
    "id": "FK-nEapHuxvI",
    "outputId": "0b472dba-22d8-41df-e5ce-68343b91fc14"
   },
   "outputs": [
    {
     "data": {
      "text/plain": [
       "count    12000.000000\n",
       "mean       850.465750\n",
       "std        515.773101\n",
       "min          0.000000\n",
       "25%        610.000000\n",
       "50%        800.000000\n",
       "75%       1000.000000\n",
       "max      10000.000000\n",
       "Name: size_sqft, dtype: float64"
      ]
     },
     "execution_count": 61,
     "metadata": {},
     "output_type": "execute_result"
    }
   ],
   "source": [
    "train_features['size_sqft'].describe()"
   ]
  },
  {
   "cell_type": "code",
   "execution_count": 62,
   "metadata": {
    "colab": {},
    "colab_type": "code",
    "id": "4OmqsMErsPaY"
   },
   "outputs": [],
   "source": [
    "train_features['size_sqft']= train_features['size_sqft'].replace(0,train_features['size_sqft'].mean())"
   ]
  },
  {
   "cell_type": "code",
   "execution_count": 63,
   "metadata": {
    "colab": {
     "base_uri": "https://localhost:8080/",
     "height": 118
    },
    "colab_type": "code",
    "id": "vMAHL_XGuTZN",
    "outputId": "ffc17380-1759-4e55-f2a0-a341a3ad66c3"
   },
   "outputs": [],
   "source": [
    " train_features.loc[train_features['size_sqft']==0, 'size_sqft']=300"
   ]
  },
  {
   "cell_type": "code",
   "execution_count": 64,
   "metadata": {
    "colab": {
     "base_uri": "https://localhost:8080/",
     "height": 168
    },
    "colab_type": "code",
    "id": "tIzvo25esl0E",
    "outputId": "d61a6fd4-8a30-4099-8829-b2014f0ae013"
   },
   "outputs": [
    {
     "data": {
      "text/plain": [
       "count    12000.000000\n",
       "mean       910.069225\n",
       "std        460.189182\n",
       "min         79.000000\n",
       "25%        675.000000\n",
       "50%        850.000000\n",
       "75%       1000.000000\n",
       "max      10000.000000\n",
       "Name: size_sqft, dtype: float64"
      ]
     },
     "execution_count": 64,
     "metadata": {},
     "output_type": "execute_result"
    }
   ],
   "source": [
    "train_features['size_sqft'].describe()"
   ]
  },
  {
   "cell_type": "code",
   "execution_count": 65,
   "metadata": {
    "colab": {
     "base_uri": "https://localhost:8080/",
     "height": 34
    },
    "colab_type": "code",
    "id": "ukccAkmlrewp",
    "outputId": "fc311134-2f4a-4fe7-f130-0f9997770183"
   },
   "outputs": [
    {
     "data": {
      "text/plain": [
       "174"
      ]
     },
     "execution_count": 65,
     "metadata": {},
     "output_type": "execute_result"
    }
   ],
   "source": [
    "(test_features['size_sqft']==0).sum()"
   ]
  },
  {
   "cell_type": "code",
   "execution_count": 66,
   "metadata": {
    "colab": {},
    "colab_type": "code",
    "id": "-iz8cG7_tSTH"
   },
   "outputs": [
    {
     "name": "stderr",
     "output_type": "stream",
     "text": [
      "c:\\users\\taimoor\\appdata\\local\\programs\\python\\python37-32\\lib\\site-packages\\pandas\\core\\indexing.py:494: SettingWithCopyWarning: \n",
      "A value is trying to be set on a copy of a slice from a DataFrame.\n",
      "Try using .loc[row_indexer,col_indexer] = value instead\n",
      "\n",
      "See the caveats in the documentation: http://pandas.pydata.org/pandas-docs/stable/user_guide/indexing.html#returning-a-view-versus-a-copy\n",
      "  self.obj[item] = s\n"
     ]
    }
   ],
   "source": [
    " test_features.loc[test_features['size_sqft']==0, 'size_sqft']=300"
   ]
  },
  {
   "cell_type": "code",
   "execution_count": 67,
   "metadata": {
    "colab": {
     "base_uri": "https://localhost:8080/",
     "height": 34
    },
    "colab_type": "code",
    "id": "MJIItKF-saFI",
    "outputId": "81168b78-34e7-47b3-d939-494355a44318"
   },
   "outputs": [
    {
     "data": {
      "text/plain": [
       "177"
      ]
     },
     "execution_count": 67,
     "metadata": {},
     "output_type": "execute_result"
    }
   ],
   "source": [
    "(submit1_df['size_sqft']==0).sum()"
   ]
  },
  {
   "cell_type": "code",
   "execution_count": 68,
   "metadata": {
    "colab": {
     "base_uri": "https://localhost:8080/",
     "height": 34
    },
    "colab_type": "code",
    "id": "BOOKcH1Yh1oN",
    "outputId": "68026dfb-7a5b-45d7-a561-352901a139f5"
   },
   "outputs": [
    {
     "data": {
      "text/plain": [
       "4"
      ]
     },
     "execution_count": 68,
     "metadata": {},
     "output_type": "execute_result"
    }
   ],
   "source": [
    "(train_features['bathrooms']==0).sum()\n",
    "## 4 values have outlier value of 0 for bathrooms...No bathrooms??"
   ]
  },
  {
   "cell_type": "code",
   "execution_count": 69,
   "metadata": {
    "colab": {
     "base_uri": "https://localhost:8080/",
     "height": 34
    },
    "colab_type": "code",
    "id": "EWZxxglqrkC0",
    "outputId": "2cef16b8-7499-411b-94ed-4835c9dc4fa2"
   },
   "outputs": [
    {
     "data": {
      "text/plain": [
       "3"
      ]
     },
     "execution_count": 69,
     "metadata": {},
     "output_type": "execute_result"
    }
   ],
   "source": [
    "(test_features['bathrooms']==0).sum()"
   ]
  },
  {
   "cell_type": "code",
   "execution_count": 70,
   "metadata": {
    "colab": {
     "base_uri": "https://localhost:8080/",
     "height": 34
    },
    "colab_type": "code",
    "id": "7jcdosFlyvaH",
    "outputId": "51561fd2-b84a-484d-8cd1-3a933492208f"
   },
   "outputs": [
    {
     "data": {
      "text/plain": [
       "1556"
      ]
     },
     "execution_count": 70,
     "metadata": {},
     "output_type": "execute_result"
    }
   ],
   "source": [
    "(train_features['bedrooms']==0).sum()\n",
    "## 1556 values have outlier value of 0 for bedrooms...No bedrooms??Commercial rental?"
   ]
  },
  {
   "cell_type": "code",
   "execution_count": 71,
   "metadata": {
    "colab": {},
    "colab_type": "code",
    "id": "OxTJoRf3xb5a"
   },
   "outputs": [],
   "source": [
    " train_features.loc[train_features['bedrooms']==0, 'bedrooms']=1"
   ]
  },
  {
   "cell_type": "code",
   "execution_count": 72,
   "metadata": {
    "colab": {
     "base_uri": "https://localhost:8080/",
     "height": 168
    },
    "colab_type": "code",
    "id": "rLLT31ibx1_y",
    "outputId": "fb4b4a72-0416-454d-bf94-7304af23fd2a"
   },
   "outputs": [
    {
     "data": {
      "text/plain": [
       "count    12000.000000\n",
       "mean         1.787333\n",
       "std          0.921327\n",
       "min          1.000000\n",
       "25%          1.000000\n",
       "50%          2.000000\n",
       "75%          2.000000\n",
       "max          8.000000\n",
       "Name: bedrooms, dtype: float64"
      ]
     },
     "execution_count": 72,
     "metadata": {},
     "output_type": "execute_result"
    }
   ],
   "source": [
    "train_features['bedrooms'].describe()"
   ]
  },
  {
   "cell_type": "code",
   "execution_count": 73,
   "metadata": {
    "colab": {},
    "colab_type": "code",
    "id": "5r0n9ZApqLvP"
   },
   "outputs": [],
   "source": [
    "no_bedrooms = train_df[train_df['bedrooms']==0]"
   ]
  },
  {
   "cell_type": "code",
   "execution_count": 74,
   "metadata": {
    "colab": {
     "base_uri": "https://localhost:8080/",
     "height": 813
    },
    "colab_type": "code",
    "id": "RSmOrsZPtMg7",
    "outputId": "b00dcb66-7121-41bf-b50a-5007de962f23"
   },
   "outputs": [
    {
     "data": {
      "text/html": [
       "<div>\n",
       "<style scoped>\n",
       "    .dataframe tbody tr th:only-of-type {\n",
       "        vertical-align: middle;\n",
       "    }\n",
       "\n",
       "    .dataframe tbody tr th {\n",
       "        vertical-align: top;\n",
       "    }\n",
       "\n",
       "    .dataframe thead th {\n",
       "        text-align: right;\n",
       "    }\n",
       "</style>\n",
       "<table border=\"1\" class=\"dataframe\">\n",
       "  <thead>\n",
       "    <tr style=\"text-align: right;\">\n",
       "      <th></th>\n",
       "      <th>addr_unit</th>\n",
       "      <th>building_id</th>\n",
       "      <th>bedrooms</th>\n",
       "      <th>bathrooms</th>\n",
       "      <th>size_sqft</th>\n",
       "      <th>created_at</th>\n",
       "      <th>addr_street</th>\n",
       "      <th>addr_city</th>\n",
       "      <th>addr_zip</th>\n",
       "      <th>addr_lat</th>\n",
       "      <th>...</th>\n",
       "      <th>borough</th>\n",
       "      <th>unit</th>\n",
       "      <th>floornumber</th>\n",
       "      <th>line</th>\n",
       "      <th>dist_centralPark</th>\n",
       "      <th>dist_timeSquare</th>\n",
       "      <th>dist_soho</th>\n",
       "      <th>dist_tribeca</th>\n",
       "      <th>dist_flatiron_district</th>\n",
       "      <th>dist_mid_manhattan</th>\n",
       "    </tr>\n",
       "    <tr>\n",
       "      <th>rental_id</th>\n",
       "      <th></th>\n",
       "      <th></th>\n",
       "      <th></th>\n",
       "      <th></th>\n",
       "      <th></th>\n",
       "      <th></th>\n",
       "      <th></th>\n",
       "      <th></th>\n",
       "      <th></th>\n",
       "      <th></th>\n",
       "      <th></th>\n",
       "      <th></th>\n",
       "      <th></th>\n",
       "      <th></th>\n",
       "      <th></th>\n",
       "      <th></th>\n",
       "      <th></th>\n",
       "      <th></th>\n",
       "      <th></th>\n",
       "      <th></th>\n",
       "      <th></th>\n",
       "    </tr>\n",
       "  </thead>\n",
       "  <tbody>\n",
       "    <tr>\n",
       "      <td>7331920</td>\n",
       "      <td>#406</td>\n",
       "      <td>3373</td>\n",
       "      <td>0</td>\n",
       "      <td>1.0</td>\n",
       "      <td>475.0</td>\n",
       "      <td>2018-07-03 20:11:43</td>\n",
       "      <td>93 WORTH STREET</td>\n",
       "      <td>New York</td>\n",
       "      <td>10013</td>\n",
       "      <td>40.716599</td>\n",
       "      <td>...</td>\n",
       "      <td>Manhattan</td>\n",
       "      <td>406</td>\n",
       "      <td>4.0</td>\n",
       "      <td>06</td>\n",
       "      <td>7.806511</td>\n",
       "      <td>4.882349</td>\n",
       "      <td>0.760437</td>\n",
       "      <td>0.322072</td>\n",
       "      <td>2.884739</td>\n",
       "      <td>4.605374</td>\n",
       "    </tr>\n",
       "    <tr>\n",
       "      <td>7418503</td>\n",
       "      <td>#6G</td>\n",
       "      <td>18341149</td>\n",
       "      <td>0</td>\n",
       "      <td>1.0</td>\n",
       "      <td>500.0</td>\n",
       "      <td>2018-07-28 10:25:29</td>\n",
       "      <td>11-05 30 ROAD</td>\n",
       "      <td>Astoria</td>\n",
       "      <td>11102</td>\n",
       "      <td>40.771198</td>\n",
       "      <td>...</td>\n",
       "      <td>Queens</td>\n",
       "      <td>6G</td>\n",
       "      <td>6.0</td>\n",
       "      <td>G</td>\n",
       "      <td>2.803593</td>\n",
       "      <td>4.594814</td>\n",
       "      <td>7.896182</td>\n",
       "      <td>8.773459</td>\n",
       "      <td>5.882679</td>\n",
       "      <td>4.599955</td>\n",
       "    </tr>\n",
       "    <tr>\n",
       "      <td>7180240</td>\n",
       "      <td>#23B</td>\n",
       "      <td>69853</td>\n",
       "      <td>0</td>\n",
       "      <td>1.0</td>\n",
       "      <td>400.0</td>\n",
       "      <td>2018-05-15 17:04:06</td>\n",
       "      <td>250 EAST 54 STREET</td>\n",
       "      <td>New York</td>\n",
       "      <td>10022</td>\n",
       "      <td>40.757301</td>\n",
       "      <td>...</td>\n",
       "      <td>Manhattan</td>\n",
       "      <td>23B</td>\n",
       "      <td>23.0</td>\n",
       "      <td>B</td>\n",
       "      <td>2.530775</td>\n",
       "      <td>1.543220</td>\n",
       "      <td>4.836396</td>\n",
       "      <td>5.740384</td>\n",
       "      <td>2.728485</td>\n",
       "      <td>1.439928</td>\n",
       "    </tr>\n",
       "    <tr>\n",
       "      <td>7161667</td>\n",
       "      <td>#3C</td>\n",
       "      <td>78679</td>\n",
       "      <td>0</td>\n",
       "      <td>1.0</td>\n",
       "      <td>440.0</td>\n",
       "      <td>2018-05-09 13:51:48</td>\n",
       "      <td>1388 2 AVENUE</td>\n",
       "      <td>New York</td>\n",
       "      <td>10021</td>\n",
       "      <td>40.768289</td>\n",
       "      <td>...</td>\n",
       "      <td>Manhattan</td>\n",
       "      <td>3C</td>\n",
       "      <td>3.0</td>\n",
       "      <td>C</td>\n",
       "      <td>1.416285</td>\n",
       "      <td>2.554158</td>\n",
       "      <td>6.257117</td>\n",
       "      <td>7.163490</td>\n",
       "      <td>4.129349</td>\n",
       "      <td>2.621165</td>\n",
       "    </tr>\n",
       "    <tr>\n",
       "      <td>7179904</td>\n",
       "      <td>#28Q</td>\n",
       "      <td>52861</td>\n",
       "      <td>0</td>\n",
       "      <td>1.0</td>\n",
       "      <td>608.0</td>\n",
       "      <td>2018-05-15 16:05:48</td>\n",
       "      <td>322 WEST 57TH STREET</td>\n",
       "      <td>New York</td>\n",
       "      <td>10019</td>\n",
       "      <td>40.766800</td>\n",
       "      <td>...</td>\n",
       "      <td>Manhattan</td>\n",
       "      <td>28Q</td>\n",
       "      <td>28.0</td>\n",
       "      <td>Q</td>\n",
       "      <td>2.183633</td>\n",
       "      <td>0.984618</td>\n",
       "      <td>5.089674</td>\n",
       "      <td>5.979789</td>\n",
       "      <td>3.013039</td>\n",
       "      <td>1.323319</td>\n",
       "    </tr>\n",
       "    <tr>\n",
       "      <td>7279090</td>\n",
       "      <td>#30C</td>\n",
       "      <td>1474</td>\n",
       "      <td>0</td>\n",
       "      <td>1.0</td>\n",
       "      <td>500.0</td>\n",
       "      <td>2018-06-15 19:18:14</td>\n",
       "      <td>113 NASSAU STREET</td>\n",
       "      <td>New York</td>\n",
       "      <td>10038</td>\n",
       "      <td>40.710876</td>\n",
       "      <td>...</td>\n",
       "      <td>Manhattan</td>\n",
       "      <td>30C</td>\n",
       "      <td>30.0</td>\n",
       "      <td>C</td>\n",
       "      <td>8.474531</td>\n",
       "      <td>5.554455</td>\n",
       "      <td>1.429683</td>\n",
       "      <td>0.611941</td>\n",
       "      <td>3.553642</td>\n",
       "      <td>5.276388</td>\n",
       "    </tr>\n",
       "    <tr>\n",
       "      <td>7383331</td>\n",
       "      <td>#3C</td>\n",
       "      <td>31768</td>\n",
       "      <td>0</td>\n",
       "      <td>1.0</td>\n",
       "      <td>400.0</td>\n",
       "      <td>2018-07-19 14:06:44</td>\n",
       "      <td>88 HORATIO STREET</td>\n",
       "      <td>New York</td>\n",
       "      <td>10014</td>\n",
       "      <td>40.738499</td>\n",
       "      <td>...</td>\n",
       "      <td>Manhattan</td>\n",
       "      <td>3C</td>\n",
       "      <td>3.0</td>\n",
       "      <td>C</td>\n",
       "      <td>5.845420</td>\n",
       "      <td>2.857922</td>\n",
       "      <td>1.733875</td>\n",
       "      <td>2.469823</td>\n",
       "      <td>1.468283</td>\n",
       "      <td>2.697815</td>\n",
       "    </tr>\n",
       "    <tr>\n",
       "      <td>7423579</td>\n",
       "      <td>#2R</td>\n",
       "      <td>107200</td>\n",
       "      <td>0</td>\n",
       "      <td>1.0</td>\n",
       "      <td>350.0</td>\n",
       "      <td>2018-07-30 19:15:47</td>\n",
       "      <td>616 WEST 113 STREET</td>\n",
       "      <td>New York</td>\n",
       "      <td>10025</td>\n",
       "      <td>40.806323</td>\n",
       "      <td>...</td>\n",
       "      <td>Manhattan</td>\n",
       "      <td>2R</td>\n",
       "      <td>2.0</td>\n",
       "      <td>R</td>\n",
       "      <td>2.929543</td>\n",
       "      <td>5.607379</td>\n",
       "      <td>9.731207</td>\n",
       "      <td>10.620746</td>\n",
       "      <td>7.632464</td>\n",
       "      <td>5.905672</td>\n",
       "    </tr>\n",
       "    <tr>\n",
       "      <td>7416625</td>\n",
       "      <td>#1A</td>\n",
       "      <td>212458</td>\n",
       "      <td>0</td>\n",
       "      <td>1.0</td>\n",
       "      <td>600.0</td>\n",
       "      <td>2018-07-27 15:48:10</td>\n",
       "      <td>374 8 STREET</td>\n",
       "      <td>Brooklyn</td>\n",
       "      <td>11215</td>\n",
       "      <td>40.667969</td>\n",
       "      <td>...</td>\n",
       "      <td>Brooklyn</td>\n",
       "      <td>1A</td>\n",
       "      <td>1.0</td>\n",
       "      <td>A</td>\n",
       "      <td>12.545008</td>\n",
       "      <td>10.014025</td>\n",
       "      <td>6.388956</td>\n",
       "      <td>5.804837</td>\n",
       "      <td>8.046993</td>\n",
       "      <td>9.667031</td>\n",
       "    </tr>\n",
       "    <tr>\n",
       "      <td>7241947</td>\n",
       "      <td>#8G</td>\n",
       "      <td>3862027</td>\n",
       "      <td>0</td>\n",
       "      <td>1.0</td>\n",
       "      <td>525.0</td>\n",
       "      <td>2018-06-05 16:08:44</td>\n",
       "      <td>465 WEST 23 STREET</td>\n",
       "      <td>New York</td>\n",
       "      <td>10011</td>\n",
       "      <td>40.747898</td>\n",
       "      <td>...</td>\n",
       "      <td>Manhattan</td>\n",
       "      <td>8G</td>\n",
       "      <td>8.0</td>\n",
       "      <td>G</td>\n",
       "      <td>4.828108</td>\n",
       "      <td>1.893813</td>\n",
       "      <td>2.735653</td>\n",
       "      <td>3.538706</td>\n",
       "      <td>1.416865</td>\n",
       "      <td>1.825469</td>\n",
       "    </tr>\n",
       "  </tbody>\n",
       "</table>\n",
       "<p>10 rows × 44 columns</p>\n",
       "</div>"
      ],
      "text/plain": [
       "          addr_unit  building_id  bedrooms  bathrooms  size_sqft  \\\n",
       "rental_id                                                          \n",
       "7331920        #406         3373         0        1.0      475.0   \n",
       "7418503         #6G     18341149         0        1.0      500.0   \n",
       "7180240        #23B        69853         0        1.0      400.0   \n",
       "7161667         #3C        78679         0        1.0      440.0   \n",
       "7179904        #28Q        52861         0        1.0      608.0   \n",
       "7279090        #30C         1474         0        1.0      500.0   \n",
       "7383331         #3C        31768         0        1.0      400.0   \n",
       "7423579         #2R       107200         0        1.0      350.0   \n",
       "7416625         #1A       212458         0        1.0      600.0   \n",
       "7241947         #8G      3862027         0        1.0      525.0   \n",
       "\n",
       "                    created_at           addr_street addr_city  addr_zip  \\\n",
       "rental_id                                                                  \n",
       "7331920    2018-07-03 20:11:43       93 WORTH STREET  New York     10013   \n",
       "7418503    2018-07-28 10:25:29         11-05 30 ROAD   Astoria     11102   \n",
       "7180240    2018-05-15 17:04:06    250 EAST 54 STREET  New York     10022   \n",
       "7161667    2018-05-09 13:51:48         1388 2 AVENUE  New York     10021   \n",
       "7179904    2018-05-15 16:05:48  322 WEST 57TH STREET  New York     10019   \n",
       "7279090    2018-06-15 19:18:14     113 NASSAU STREET  New York     10038   \n",
       "7383331    2018-07-19 14:06:44     88 HORATIO STREET  New York     10014   \n",
       "7423579    2018-07-30 19:15:47   616 WEST 113 STREET  New York     10025   \n",
       "7416625    2018-07-27 15:48:10          374 8 STREET  Brooklyn     11215   \n",
       "7241947    2018-06-05 16:08:44    465 WEST 23 STREET  New York     10011   \n",
       "\n",
       "            addr_lat  ...    borough  unit  floornumber  line  \\\n",
       "rental_id             ...                                       \n",
       "7331920    40.716599  ...  Manhattan   406          4.0    06   \n",
       "7418503    40.771198  ...     Queens    6G          6.0     G   \n",
       "7180240    40.757301  ...  Manhattan   23B         23.0     B   \n",
       "7161667    40.768289  ...  Manhattan    3C          3.0     C   \n",
       "7179904    40.766800  ...  Manhattan   28Q         28.0     Q   \n",
       "7279090    40.710876  ...  Manhattan   30C         30.0     C   \n",
       "7383331    40.738499  ...  Manhattan    3C          3.0     C   \n",
       "7423579    40.806323  ...  Manhattan    2R          2.0     R   \n",
       "7416625    40.667969  ...   Brooklyn    1A          1.0     A   \n",
       "7241947    40.747898  ...  Manhattan    8G          8.0     G   \n",
       "\n",
       "           dist_centralPark  dist_timeSquare  dist_soho  dist_tribeca  \\\n",
       "rental_id                                                               \n",
       "7331920            7.806511         4.882349   0.760437      0.322072   \n",
       "7418503            2.803593         4.594814   7.896182      8.773459   \n",
       "7180240            2.530775         1.543220   4.836396      5.740384   \n",
       "7161667            1.416285         2.554158   6.257117      7.163490   \n",
       "7179904            2.183633         0.984618   5.089674      5.979789   \n",
       "7279090            8.474531         5.554455   1.429683      0.611941   \n",
       "7383331            5.845420         2.857922   1.733875      2.469823   \n",
       "7423579            2.929543         5.607379   9.731207     10.620746   \n",
       "7416625           12.545008        10.014025   6.388956      5.804837   \n",
       "7241947            4.828108         1.893813   2.735653      3.538706   \n",
       "\n",
       "           dist_flatiron_district  dist_mid_manhattan  \n",
       "rental_id                                              \n",
       "7331920                  2.884739            4.605374  \n",
       "7418503                  5.882679            4.599955  \n",
       "7180240                  2.728485            1.439928  \n",
       "7161667                  4.129349            2.621165  \n",
       "7179904                  3.013039            1.323319  \n",
       "7279090                  3.553642            5.276388  \n",
       "7383331                  1.468283            2.697815  \n",
       "7423579                  7.632464            5.905672  \n",
       "7416625                  8.046993            9.667031  \n",
       "7241947                  1.416865            1.825469  \n",
       "\n",
       "[10 rows x 44 columns]"
      ]
     },
     "execution_count": 74,
     "metadata": {},
     "output_type": "execute_result"
    }
   ],
   "source": [
    "no_bedrooms.head(10)"
   ]
  },
  {
   "cell_type": "code",
   "execution_count": 75,
   "metadata": {
    "colab": {
     "base_uri": "https://localhost:8080/",
     "height": 34
    },
    "colab_type": "code",
    "id": "nlVemw79rpvO",
    "outputId": "44ab37ba-2dbe-437b-b5bf-7e12354f2ec3"
   },
   "outputs": [
    {
     "data": {
      "text/plain": [
       "264"
      ]
     },
     "execution_count": 75,
     "metadata": {},
     "output_type": "execute_result"
    }
   ],
   "source": [
    "(test_features['bedrooms']==0).sum()"
   ]
  },
  {
   "cell_type": "code",
   "execution_count": 76,
   "metadata": {
    "colab": {
     "base_uri": "https://localhost:8080/",
     "height": 118
    },
    "colab_type": "code",
    "id": "TKlhYrxGx-f3",
    "outputId": "222a100f-9a7e-4423-981b-65ec3e1aaae6"
   },
   "outputs": [],
   "source": [
    "test_features.loc[test_features['bedrooms']==0, 'bedrooms']=1"
   ]
  },
  {
   "cell_type": "code",
   "execution_count": 77,
   "metadata": {
    "colab": {
     "base_uri": "https://localhost:8080/",
     "height": 34
    },
    "colab_type": "code",
    "id": "mV-eUQDGspWk",
    "outputId": "b6be581c-c1bd-4dcb-8952-347db90c18d8"
   },
   "outputs": [
    {
     "data": {
      "text/plain": [
       "253"
      ]
     },
     "execution_count": 77,
     "metadata": {},
     "output_type": "execute_result"
    }
   ],
   "source": [
    "(submit1_df['bedrooms']==0).sum()"
   ]
  },
  {
   "cell_type": "markdown",
   "metadata": {
    "colab_type": "text",
    "id": "2RqfEddy32cf"
   },
   "source": [
    "##### Large data points"
   ]
  },
  {
   "cell_type": "code",
   "execution_count": 78,
   "metadata": {
    "colab": {},
    "colab_type": "code",
    "id": "ZpVZasEf0ubq"
   },
   "outputs": [],
   "source": [
    "o_df = train_df.loc[train_df.size_sqft>=8000]"
   ]
  },
  {
   "cell_type": "code",
   "execution_count": 79,
   "metadata": {
    "colab": {
     "base_uri": "https://localhost:8080/",
     "height": 387
    },
    "colab_type": "code",
    "id": "7bVrJjpC1qYI",
    "outputId": "13fd2eca-4c15-4f2a-a4f0-080b2e469004"
   },
   "outputs": [
    {
     "data": {
      "text/html": [
       "<div>\n",
       "<style scoped>\n",
       "    .dataframe tbody tr th:only-of-type {\n",
       "        vertical-align: middle;\n",
       "    }\n",
       "\n",
       "    .dataframe tbody tr th {\n",
       "        vertical-align: top;\n",
       "    }\n",
       "\n",
       "    .dataframe thead th {\n",
       "        text-align: right;\n",
       "    }\n",
       "</style>\n",
       "<table border=\"1\" class=\"dataframe\">\n",
       "  <thead>\n",
       "    <tr style=\"text-align: right;\">\n",
       "      <th></th>\n",
       "      <th>addr_unit</th>\n",
       "      <th>building_id</th>\n",
       "      <th>bedrooms</th>\n",
       "      <th>bathrooms</th>\n",
       "      <th>size_sqft</th>\n",
       "      <th>created_at</th>\n",
       "      <th>addr_street</th>\n",
       "      <th>addr_city</th>\n",
       "      <th>addr_zip</th>\n",
       "      <th>addr_lat</th>\n",
       "      <th>...</th>\n",
       "      <th>borough</th>\n",
       "      <th>unit</th>\n",
       "      <th>floornumber</th>\n",
       "      <th>line</th>\n",
       "      <th>dist_centralPark</th>\n",
       "      <th>dist_timeSquare</th>\n",
       "      <th>dist_soho</th>\n",
       "      <th>dist_tribeca</th>\n",
       "      <th>dist_flatiron_district</th>\n",
       "      <th>dist_mid_manhattan</th>\n",
       "    </tr>\n",
       "    <tr>\n",
       "      <th>rental_id</th>\n",
       "      <th></th>\n",
       "      <th></th>\n",
       "      <th></th>\n",
       "      <th></th>\n",
       "      <th></th>\n",
       "      <th></th>\n",
       "      <th></th>\n",
       "      <th></th>\n",
       "      <th></th>\n",
       "      <th></th>\n",
       "      <th></th>\n",
       "      <th></th>\n",
       "      <th></th>\n",
       "      <th></th>\n",
       "      <th></th>\n",
       "      <th></th>\n",
       "      <th></th>\n",
       "      <th></th>\n",
       "      <th></th>\n",
       "      <th></th>\n",
       "      <th></th>\n",
       "    </tr>\n",
       "  </thead>\n",
       "  <tbody>\n",
       "    <tr>\n",
       "      <td>7410124</td>\n",
       "      <td>#47</td>\n",
       "      <td>18246988</td>\n",
       "      <td>2</td>\n",
       "      <td>1.0</td>\n",
       "      <td>8500.0</td>\n",
       "      <td>2018-07-25 20:14:29</td>\n",
       "      <td>180 72 STREET</td>\n",
       "      <td>Brooklyn</td>\n",
       "      <td>11209</td>\n",
       "      <td>40.633999</td>\n",
       "      <td>...</td>\n",
       "      <td>Brooklyn</td>\n",
       "      <td>47</td>\n",
       "      <td>47.0</td>\n",
       "      <td>NaN</td>\n",
       "      <td>17.153177</td>\n",
       "      <td>14.305187</td>\n",
       "      <td>10.200890</td>\n",
       "      <td>9.339331</td>\n",
       "      <td>12.279846</td>\n",
       "      <td>14.008280</td>\n",
       "    </tr>\n",
       "    <tr>\n",
       "      <td>7352536</td>\n",
       "      <td>#2</td>\n",
       "      <td>683038</td>\n",
       "      <td>2</td>\n",
       "      <td>1.0</td>\n",
       "      <td>10000.0</td>\n",
       "      <td>2018-07-10 18:03:07</td>\n",
       "      <td>1120 76 STREET</td>\n",
       "      <td>Brooklyn</td>\n",
       "      <td>11228</td>\n",
       "      <td>40.621860</td>\n",
       "      <td>...</td>\n",
       "      <td>Brooklyn</td>\n",
       "      <td>2</td>\n",
       "      <td>2.0</td>\n",
       "      <td>NaN</td>\n",
       "      <td>18.026849</td>\n",
       "      <td>15.303167</td>\n",
       "      <td>11.305622</td>\n",
       "      <td>10.505364</td>\n",
       "      <td>13.275444</td>\n",
       "      <td>14.981746</td>\n",
       "    </tr>\n",
       "    <tr>\n",
       "      <td>7148494</td>\n",
       "      <td>#3</td>\n",
       "      <td>1493896</td>\n",
       "      <td>5</td>\n",
       "      <td>1.0</td>\n",
       "      <td>9999.0</td>\n",
       "      <td>2018-05-04 17:04:02</td>\n",
       "      <td>801 WOODWARD AVENUE</td>\n",
       "      <td>Ridgewood</td>\n",
       "      <td>11385</td>\n",
       "      <td>40.703639</td>\n",
       "      <td>...</td>\n",
       "      <td>Queens</td>\n",
       "      <td>3</td>\n",
       "      <td>3.0</td>\n",
       "      <td>NaN</td>\n",
       "      <td>9.964682</td>\n",
       "      <td>9.205950</td>\n",
       "      <td>8.699408</td>\n",
       "      <td>9.003434</td>\n",
       "      <td>8.393060</td>\n",
       "      <td>8.886171</td>\n",
       "    </tr>\n",
       "  </tbody>\n",
       "</table>\n",
       "<p>3 rows × 44 columns</p>\n",
       "</div>"
      ],
      "text/plain": [
       "          addr_unit  building_id  bedrooms  bathrooms  size_sqft  \\\n",
       "rental_id                                                          \n",
       "7410124         #47     18246988         2        1.0     8500.0   \n",
       "7352536          #2       683038         2        1.0    10000.0   \n",
       "7148494          #3      1493896         5        1.0     9999.0   \n",
       "\n",
       "                    created_at          addr_street  addr_city  addr_zip  \\\n",
       "rental_id                                                                  \n",
       "7410124    2018-07-25 20:14:29        180 72 STREET   Brooklyn     11209   \n",
       "7352536    2018-07-10 18:03:07       1120 76 STREET   Brooklyn     11228   \n",
       "7148494    2018-05-04 17:04:02  801 WOODWARD AVENUE  Ridgewood     11385   \n",
       "\n",
       "            addr_lat  ...   borough  unit  floornumber  line  \\\n",
       "rental_id             ...                                      \n",
       "7410124    40.633999  ...  Brooklyn    47         47.0   NaN   \n",
       "7352536    40.621860  ...  Brooklyn     2          2.0   NaN   \n",
       "7148494    40.703639  ...    Queens     3          3.0   NaN   \n",
       "\n",
       "           dist_centralPark  dist_timeSquare  dist_soho  dist_tribeca  \\\n",
       "rental_id                                                               \n",
       "7410124           17.153177        14.305187  10.200890      9.339331   \n",
       "7352536           18.026849        15.303167  11.305622     10.505364   \n",
       "7148494            9.964682         9.205950   8.699408      9.003434   \n",
       "\n",
       "           dist_flatiron_district  dist_mid_manhattan  \n",
       "rental_id                                              \n",
       "7410124                 12.279846           14.008280  \n",
       "7352536                 13.275444           14.981746  \n",
       "7148494                  8.393060            8.886171  \n",
       "\n",
       "[3 rows x 44 columns]"
      ]
     },
     "execution_count": 79,
     "metadata": {},
     "output_type": "execute_result"
    }
   ],
   "source": [
    "o_df"
   ]
  },
  {
   "cell_type": "code",
   "execution_count": 80,
   "metadata": {
    "colab": {
     "base_uri": "https://localhost:8080/",
     "height": 547
    },
    "colab_type": "code",
    "id": "WTVs29D52N2_",
    "outputId": "2bc3adb8-1eda-481f-c0a0-ae0f2984709b"
   },
   "outputs": [
    {
     "data": {
      "text/html": [
       "<div>\n",
       "<style scoped>\n",
       "    .dataframe tbody tr th:only-of-type {\n",
       "        vertical-align: middle;\n",
       "    }\n",
       "\n",
       "    .dataframe tbody tr th {\n",
       "        vertical-align: top;\n",
       "    }\n",
       "\n",
       "    .dataframe thead th {\n",
       "        text-align: right;\n",
       "    }\n",
       "</style>\n",
       "<table border=\"1\" class=\"dataframe\">\n",
       "  <thead>\n",
       "    <tr style=\"text-align: right;\">\n",
       "      <th></th>\n",
       "      <th>addr_unit</th>\n",
       "      <th>building_id</th>\n",
       "      <th>bedrooms</th>\n",
       "      <th>bathrooms</th>\n",
       "      <th>size_sqft</th>\n",
       "      <th>created_at</th>\n",
       "      <th>addr_street</th>\n",
       "      <th>addr_city</th>\n",
       "      <th>addr_zip</th>\n",
       "      <th>addr_lat</th>\n",
       "      <th>...</th>\n",
       "      <th>borough</th>\n",
       "      <th>unit</th>\n",
       "      <th>floornumber</th>\n",
       "      <th>line</th>\n",
       "      <th>dist_centralPark</th>\n",
       "      <th>dist_timeSquare</th>\n",
       "      <th>dist_soho</th>\n",
       "      <th>dist_tribeca</th>\n",
       "      <th>dist_flatiron_district</th>\n",
       "      <th>dist_mid_manhattan</th>\n",
       "    </tr>\n",
       "    <tr>\n",
       "      <th>rental_id</th>\n",
       "      <th></th>\n",
       "      <th></th>\n",
       "      <th></th>\n",
       "      <th></th>\n",
       "      <th></th>\n",
       "      <th></th>\n",
       "      <th></th>\n",
       "      <th></th>\n",
       "      <th></th>\n",
       "      <th></th>\n",
       "      <th></th>\n",
       "      <th></th>\n",
       "      <th></th>\n",
       "      <th></th>\n",
       "      <th></th>\n",
       "      <th></th>\n",
       "      <th></th>\n",
       "      <th></th>\n",
       "      <th></th>\n",
       "      <th></th>\n",
       "      <th></th>\n",
       "    </tr>\n",
       "  </thead>\n",
       "  <tbody>\n",
       "    <tr>\n",
       "      <td>7204471</td>\n",
       "      <td>#1</td>\n",
       "      <td>205114</td>\n",
       "      <td>8</td>\n",
       "      <td>3.0</td>\n",
       "      <td>3500.0</td>\n",
       "      <td>2018-05-24 03:09:47</td>\n",
       "      <td>98 LINCOLN PLACE</td>\n",
       "      <td>Brooklyn</td>\n",
       "      <td>11217</td>\n",
       "      <td>40.676331</td>\n",
       "      <td>...</td>\n",
       "      <td>Brooklyn</td>\n",
       "      <td>1</td>\n",
       "      <td>1.0</td>\n",
       "      <td>NaN</td>\n",
       "      <td>11.570058</td>\n",
       "      <td>9.110862</td>\n",
       "      <td>5.671313</td>\n",
       "      <td>5.191368</td>\n",
       "      <td>7.181807</td>\n",
       "      <td>8.757631</td>\n",
       "    </tr>\n",
       "    <tr>\n",
       "      <td>7217803</td>\n",
       "      <td>#UPPER</td>\n",
       "      <td>20905</td>\n",
       "      <td>7</td>\n",
       "      <td>4.0</td>\n",
       "      <td>5000.0</td>\n",
       "      <td>2018-05-29 21:15:31</td>\n",
       "      <td>116 SULLIVAN STREET</td>\n",
       "      <td>New York</td>\n",
       "      <td>10012</td>\n",
       "      <td>40.726101</td>\n",
       "      <td>...</td>\n",
       "      <td>Manhattan</td>\n",
       "      <td>UPPER</td>\n",
       "      <td>NaN</td>\n",
       "      <td>NaN</td>\n",
       "      <td>6.790507</td>\n",
       "      <td>3.837968</td>\n",
       "      <td>0.311564</td>\n",
       "      <td>1.191010</td>\n",
       "      <td>1.884161</td>\n",
       "      <td>3.576317</td>\n",
       "    </tr>\n",
       "    <tr>\n",
       "      <td>7356136</td>\n",
       "      <td>NaN</td>\n",
       "      <td>71734</td>\n",
       "      <td>7</td>\n",
       "      <td>4.0</td>\n",
       "      <td>6950.0</td>\n",
       "      <td>2018-07-11 15:50:18</td>\n",
       "      <td>461 EAST 57 STREET</td>\n",
       "      <td>New York</td>\n",
       "      <td>10022</td>\n",
       "      <td>40.757728</td>\n",
       "      <td>...</td>\n",
       "      <td>Manhattan</td>\n",
       "      <td>NaN</td>\n",
       "      <td>NaN</td>\n",
       "      <td>NaN</td>\n",
       "      <td>2.501412</td>\n",
       "      <td>2.079118</td>\n",
       "      <td>5.223512</td>\n",
       "      <td>6.117854</td>\n",
       "      <td>3.163891</td>\n",
       "      <td>1.977768</td>\n",
       "    </tr>\n",
       "    <tr>\n",
       "      <td>7146658</td>\n",
       "      <td>NaN</td>\n",
       "      <td>56881</td>\n",
       "      <td>7</td>\n",
       "      <td>7.0</td>\n",
       "      <td>7000.0</td>\n",
       "      <td>2018-05-04 12:49:49</td>\n",
       "      <td>51 WEST 73 STREET</td>\n",
       "      <td>New York</td>\n",
       "      <td>10023</td>\n",
       "      <td>40.777983</td>\n",
       "      <td>...</td>\n",
       "      <td>Manhattan</td>\n",
       "      <td>NaN</td>\n",
       "      <td>NaN</td>\n",
       "      <td>NaN</td>\n",
       "      <td>1.070336</td>\n",
       "      <td>2.323677</td>\n",
       "      <td>6.450762</td>\n",
       "      <td>7.344339</td>\n",
       "      <td>4.349694</td>\n",
       "      <td>2.625732</td>\n",
       "    </tr>\n",
       "    <tr>\n",
       "      <td>7371637</td>\n",
       "      <td>#1</td>\n",
       "      <td>283312</td>\n",
       "      <td>7</td>\n",
       "      <td>2.0</td>\n",
       "      <td>1800.0</td>\n",
       "      <td>2018-07-16 16:27:49</td>\n",
       "      <td>1033A DE KALB AVENUE</td>\n",
       "      <td>Brooklyn</td>\n",
       "      <td>11221</td>\n",
       "      <td>40.693642</td>\n",
       "      <td>...</td>\n",
       "      <td>Brooklyn</td>\n",
       "      <td>1</td>\n",
       "      <td>1.0</td>\n",
       "      <td>NaN</td>\n",
       "      <td>9.959251</td>\n",
       "      <td>8.384776</td>\n",
       "      <td>6.711762</td>\n",
       "      <td>6.801873</td>\n",
       "      <td>7.034430</td>\n",
       "      <td>8.025079</td>\n",
       "    </tr>\n",
       "  </tbody>\n",
       "</table>\n",
       "<p>5 rows × 44 columns</p>\n",
       "</div>"
      ],
      "text/plain": [
       "          addr_unit  building_id  bedrooms  bathrooms  size_sqft  \\\n",
       "rental_id                                                          \n",
       "7204471          #1       205114         8        3.0     3500.0   \n",
       "7217803      #UPPER        20905         7        4.0     5000.0   \n",
       "7356136         NaN        71734         7        4.0     6950.0   \n",
       "7146658         NaN        56881         7        7.0     7000.0   \n",
       "7371637          #1       283312         7        2.0     1800.0   \n",
       "\n",
       "                    created_at           addr_street addr_city  addr_zip  \\\n",
       "rental_id                                                                  \n",
       "7204471    2018-05-24 03:09:47      98 LINCOLN PLACE  Brooklyn     11217   \n",
       "7217803    2018-05-29 21:15:31   116 SULLIVAN STREET  New York     10012   \n",
       "7356136    2018-07-11 15:50:18    461 EAST 57 STREET  New York     10022   \n",
       "7146658    2018-05-04 12:49:49     51 WEST 73 STREET  New York     10023   \n",
       "7371637    2018-07-16 16:27:49  1033A DE KALB AVENUE  Brooklyn     11221   \n",
       "\n",
       "            addr_lat  ...    borough   unit  floornumber  line  \\\n",
       "rental_id             ...                                        \n",
       "7204471    40.676331  ...   Brooklyn      1          1.0   NaN   \n",
       "7217803    40.726101  ...  Manhattan  UPPER          NaN   NaN   \n",
       "7356136    40.757728  ...  Manhattan    NaN          NaN   NaN   \n",
       "7146658    40.777983  ...  Manhattan    NaN          NaN   NaN   \n",
       "7371637    40.693642  ...   Brooklyn      1          1.0   NaN   \n",
       "\n",
       "           dist_centralPark  dist_timeSquare  dist_soho  dist_tribeca  \\\n",
       "rental_id                                                               \n",
       "7204471           11.570058         9.110862   5.671313      5.191368   \n",
       "7217803            6.790507         3.837968   0.311564      1.191010   \n",
       "7356136            2.501412         2.079118   5.223512      6.117854   \n",
       "7146658            1.070336         2.323677   6.450762      7.344339   \n",
       "7371637            9.959251         8.384776   6.711762      6.801873   \n",
       "\n",
       "           dist_flatiron_district  dist_mid_manhattan  \n",
       "rental_id                                              \n",
       "7204471                  7.181807            8.757631  \n",
       "7217803                  1.884161            3.576317  \n",
       "7356136                  3.163891            1.977768  \n",
       "7146658                  4.349694            2.625732  \n",
       "7371637                  7.034430            8.025079  \n",
       "\n",
       "[5 rows x 44 columns]"
      ]
     },
     "execution_count": 80,
     "metadata": {},
     "output_type": "execute_result"
    }
   ],
   "source": [
    "obd_df = train_df.loc[train_df.bedrooms> 6]\n",
    "obd_df"
   ]
  },
  {
   "cell_type": "code",
   "execution_count": 81,
   "metadata": {
    "colab": {
     "base_uri": "https://localhost:8080/",
     "height": 270
    },
    "colab_type": "code",
    "id": "qvPoZyl-2qO9",
    "outputId": "956f5746-24bd-4427-ccb8-6ed8d2573186"
   },
   "outputs": [
    {
     "data": {
      "text/html": [
       "<div>\n",
       "<style scoped>\n",
       "    .dataframe tbody tr th:only-of-type {\n",
       "        vertical-align: middle;\n",
       "    }\n",
       "\n",
       "    .dataframe tbody tr th {\n",
       "        vertical-align: top;\n",
       "    }\n",
       "\n",
       "    .dataframe thead th {\n",
       "        text-align: right;\n",
       "    }\n",
       "</style>\n",
       "<table border=\"1\" class=\"dataframe\">\n",
       "  <thead>\n",
       "    <tr style=\"text-align: right;\">\n",
       "      <th></th>\n",
       "      <th>addr_unit</th>\n",
       "      <th>building_id</th>\n",
       "      <th>bedrooms</th>\n",
       "      <th>bathrooms</th>\n",
       "      <th>size_sqft</th>\n",
       "      <th>created_at</th>\n",
       "      <th>addr_street</th>\n",
       "      <th>addr_city</th>\n",
       "      <th>addr_zip</th>\n",
       "      <th>addr_lat</th>\n",
       "      <th>...</th>\n",
       "      <th>borough</th>\n",
       "      <th>unit</th>\n",
       "      <th>floornumber</th>\n",
       "      <th>line</th>\n",
       "      <th>dist_centralPark</th>\n",
       "      <th>dist_timeSquare</th>\n",
       "      <th>dist_soho</th>\n",
       "      <th>dist_tribeca</th>\n",
       "      <th>dist_flatiron_district</th>\n",
       "      <th>dist_mid_manhattan</th>\n",
       "    </tr>\n",
       "    <tr>\n",
       "      <th>rental_id</th>\n",
       "      <th></th>\n",
       "      <th></th>\n",
       "      <th></th>\n",
       "      <th></th>\n",
       "      <th></th>\n",
       "      <th></th>\n",
       "      <th></th>\n",
       "      <th></th>\n",
       "      <th></th>\n",
       "      <th></th>\n",
       "      <th></th>\n",
       "      <th></th>\n",
       "      <th></th>\n",
       "      <th></th>\n",
       "      <th></th>\n",
       "      <th></th>\n",
       "      <th></th>\n",
       "      <th></th>\n",
       "      <th></th>\n",
       "      <th></th>\n",
       "      <th></th>\n",
       "    </tr>\n",
       "  </thead>\n",
       "  <tbody>\n",
       "    <tr>\n",
       "      <td>7236325</td>\n",
       "      <td>#7</td>\n",
       "      <td>87595</td>\n",
       "      <td>2</td>\n",
       "      <td>20.0</td>\n",
       "      <td>1200.0</td>\n",
       "      <td>2018-06-04 15:07:12</td>\n",
       "      <td>420 EAST 86 STREET</td>\n",
       "      <td>New York</td>\n",
       "      <td>10028</td>\n",
       "      <td>40.776358</td>\n",
       "      <td>...</td>\n",
       "      <td>Manhattan</td>\n",
       "      <td>7</td>\n",
       "      <td>NaN</td>\n",
       "      <td>NaN</td>\n",
       "      <td>1.414322</td>\n",
       "      <td>3.696479</td>\n",
       "      <td>7.454566</td>\n",
       "      <td>8.359724</td>\n",
       "      <td>5.330073</td>\n",
       "      <td>3.798398</td>\n",
       "    </tr>\n",
       "    <tr>\n",
       "      <td>7151821</td>\n",
       "      <td>#6</td>\n",
       "      <td>126724</td>\n",
       "      <td>3</td>\n",
       "      <td>12.0</td>\n",
       "      <td>1200.0</td>\n",
       "      <td>2018-05-06 20:10:38</td>\n",
       "      <td>821 RIVERSIDE DRIVE</td>\n",
       "      <td>New York</td>\n",
       "      <td>10032</td>\n",
       "      <td>40.835610</td>\n",
       "      <td>...</td>\n",
       "      <td>Manhattan</td>\n",
       "      <td>6</td>\n",
       "      <td>6.0</td>\n",
       "      <td>NaN</td>\n",
       "      <td>6.383994</td>\n",
       "      <td>9.243970</td>\n",
       "      <td>13.374523</td>\n",
       "      <td>14.271114</td>\n",
       "      <td>11.252127</td>\n",
       "      <td>9.523600</td>\n",
       "    </tr>\n",
       "    <tr>\n",
       "      <td>7160572</td>\n",
       "      <td>#D</td>\n",
       "      <td>951334</td>\n",
       "      <td>2</td>\n",
       "      <td>12.0</td>\n",
       "      <td>1069.0</td>\n",
       "      <td>2018-05-09 10:46:26</td>\n",
       "      <td>105 OCEANA DRIVE EAST</td>\n",
       "      <td>Brooklyn</td>\n",
       "      <td>11235</td>\n",
       "      <td>40.576302</td>\n",
       "      <td>...</td>\n",
       "      <td>Brooklyn</td>\n",
       "      <td>D</td>\n",
       "      <td>NaN</td>\n",
       "      <td>NaN</td>\n",
       "      <td>22.659068</td>\n",
       "      <td>20.341527</td>\n",
       "      <td>16.790220</td>\n",
       "      <td>16.153150</td>\n",
       "      <td>18.422548</td>\n",
       "      <td>19.984654</td>\n",
       "    </tr>\n",
       "  </tbody>\n",
       "</table>\n",
       "<p>3 rows × 44 columns</p>\n",
       "</div>"
      ],
      "text/plain": [
       "          addr_unit  building_id  bedrooms  bathrooms  size_sqft  \\\n",
       "rental_id                                                          \n",
       "7236325          #7        87595         2       20.0     1200.0   \n",
       "7151821          #6       126724         3       12.0     1200.0   \n",
       "7160572          #D       951334         2       12.0     1069.0   \n",
       "\n",
       "                    created_at            addr_street addr_city  addr_zip  \\\n",
       "rental_id                                                                   \n",
       "7236325    2018-06-04 15:07:12     420 EAST 86 STREET  New York     10028   \n",
       "7151821    2018-05-06 20:10:38    821 RIVERSIDE DRIVE  New York     10032   \n",
       "7160572    2018-05-09 10:46:26  105 OCEANA DRIVE EAST  Brooklyn     11235   \n",
       "\n",
       "            addr_lat  ...    borough  unit  floornumber  line  \\\n",
       "rental_id             ...                                       \n",
       "7236325    40.776358  ...  Manhattan     7          NaN   NaN   \n",
       "7151821    40.835610  ...  Manhattan     6          6.0   NaN   \n",
       "7160572    40.576302  ...   Brooklyn     D          NaN   NaN   \n",
       "\n",
       "           dist_centralPark  dist_timeSquare  dist_soho  dist_tribeca  \\\n",
       "rental_id                                                               \n",
       "7236325            1.414322         3.696479   7.454566      8.359724   \n",
       "7151821            6.383994         9.243970  13.374523     14.271114   \n",
       "7160572           22.659068        20.341527  16.790220     16.153150   \n",
       "\n",
       "           dist_flatiron_district  dist_mid_manhattan  \n",
       "rental_id                                              \n",
       "7236325                  5.330073            3.798398  \n",
       "7151821                 11.252127            9.523600  \n",
       "7160572                 18.422548           19.984654  \n",
       "\n",
       "[3 rows x 44 columns]"
      ]
     },
     "execution_count": 81,
     "metadata": {},
     "output_type": "execute_result"
    }
   ],
   "source": [
    "obath_df = train_df.loc[train_df.bathrooms>=8]\n",
    "obath_df\n",
    "## Clearly row 7160572 of 12 bathrooms is an error as the description says 2 bed 2 bath\n",
    "## row 7236325 also seems an error as there are only 2 bedrooms, most likely it should be 2 bath"
   ]
  },
  {
   "cell_type": "markdown",
   "metadata": {
    "colab_type": "text",
    "id": "9ZXTYUh73_Z5"
   },
   "source": [
    "At this point we are going to just be mindful of the outliers. In Part 2 we may consider adjusting these but it will depend if they will have an impact upon the results. At the moment they are only a couple of points out of 12,000."
   ]
  },
  {
   "cell_type": "markdown",
   "metadata": {
    "colab_type": "text",
    "id": "aPjrrxHJot6h"
   },
   "source": [
    "## Data Modelling \n",
    "This section we look at different models and model our training data"
   ]
  },
  {
   "cell_type": "code",
   "execution_count": 82,
   "metadata": {
    "colab": {
     "base_uri": "https://localhost:8080/",
     "height": 202
    },
    "colab_type": "code",
    "id": "sgsw3jxTpHL5",
    "outputId": "a040b3a3-cb4e-460f-ce38-bebc7f3eba37"
   },
   "outputs": [
    {
     "name": "stderr",
     "output_type": "stream",
     "text": [
      "c:\\users\\taimoor\\appdata\\local\\programs\\python\\python37-32\\lib\\site-packages\\sklearn\\ensemble\\forest.py:245: FutureWarning: The default value of n_estimators will change from 10 in version 0.20 to 100 in 0.22.\n",
      "  \"10 in version 0.20 to 100 in 0.22.\", FutureWarning)\n"
     ]
    },
    {
     "data": {
      "text/plain": [
       "GradientBoostingRegressor(alpha=0.9, criterion='friedman_mse', init=None,\n",
       "                          learning_rate=0.1, loss='ls', max_depth=3,\n",
       "                          max_features=None, max_leaf_nodes=None,\n",
       "                          min_impurity_decrease=0.0, min_impurity_split=None,\n",
       "                          min_samples_leaf=1, min_samples_split=2,\n",
       "                          min_weight_fraction_leaf=0.0, n_estimators=100,\n",
       "                          n_iter_no_change=None, presort='auto',\n",
       "                          random_state=None, subsample=1.0, tol=0.0001,\n",
       "                          validation_fraction=0.1, verbose=0, warm_start=False)"
      ]
     },
     "execution_count": 82,
     "metadata": {},
     "output_type": "execute_result"
    }
   ],
   "source": [
    "# training a linear regression model\n",
    "lreg = LinearRegression()\n",
    "lreg.fit(train_features, train_target)\n",
    "\n",
    "# training a random forest regression model\n",
    "rf = RandomForestRegressor()\n",
    "rf.fit(train_features, train_target)\n",
    "\n",
    "#training a gradient boosting regressor\n",
    "gbt = GradientBoostingRegressor( )\n",
    "gbt.fit(train_features, train_target)"
   ]
  },
  {
   "cell_type": "code",
   "execution_count": 83,
   "metadata": {
    "colab": {},
    "colab_type": "code",
    "id": "8sNqibK39M43"
   },
   "outputs": [],
   "source": [
    "test_features = test_df[feature_cols] \n",
    "\n",
    "# impute missing values with medians\n",
    "test_features = test_features.fillna(train_features.mean(), axis=0)"
   ]
  },
  {
   "cell_type": "code",
   "execution_count": 84,
   "metadata": {
    "colab": {
     "base_uri": "https://localhost:8080/",
     "height": 34
    },
    "colab_type": "code",
    "id": "eb0I0fZM8E7R",
    "outputId": "8e709551-b8c0-43de-dc0b-381cf31f5399"
   },
   "outputs": [
    {
     "data": {
      "text/plain": [
       "3265570.2121609617"
      ]
     },
     "execution_count": 84,
     "metadata": {},
     "output_type": "execute_result"
    }
   ],
   "source": [
    "# construct predictions for linear regression \n",
    "test_df['predicted'] = lreg.predict(test_features)\n",
    "\n",
    "mean_squared_error(test_df['rent'], test_df['predicted'])"
   ]
  },
  {
   "cell_type": "code",
   "execution_count": 85,
   "metadata": {
    "colab": {
     "base_uri": "https://localhost:8080/",
     "height": 373
    },
    "colab_type": "code",
    "id": "4gni9W5AitcY",
    "outputId": "e84f3aa6-2b29-4f09-9dde-9de83928842e"
   },
   "outputs": [
    {
     "data": {
      "text/html": [
       "<div>\n",
       "<style scoped>\n",
       "    .dataframe tbody tr th:only-of-type {\n",
       "        vertical-align: middle;\n",
       "    }\n",
       "\n",
       "    .dataframe tbody tr th {\n",
       "        vertical-align: top;\n",
       "    }\n",
       "\n",
       "    .dataframe thead th {\n",
       "        text-align: right;\n",
       "    }\n",
       "</style>\n",
       "<table border=\"1\" class=\"dataframe\">\n",
       "  <thead>\n",
       "    <tr style=\"text-align: right;\">\n",
       "      <th></th>\n",
       "      <th>Est. Coefficient</th>\n",
       "    </tr>\n",
       "  </thead>\n",
       "  <tbody>\n",
       "    <tr>\n",
       "      <td>bedrooms</td>\n",
       "      <td>-10.962669</td>\n",
       "    </tr>\n",
       "    <tr>\n",
       "      <td>year_built</td>\n",
       "      <td>-0.064152</td>\n",
       "    </tr>\n",
       "    <tr>\n",
       "      <td>bathrooms</td>\n",
       "      <td>1161.560270</td>\n",
       "    </tr>\n",
       "    <tr>\n",
       "      <td>min_to_subway</td>\n",
       "      <td>-0.003285</td>\n",
       "    </tr>\n",
       "    <tr>\n",
       "      <td>size_sqft</td>\n",
       "      <td>3.393845</td>\n",
       "    </tr>\n",
       "    <tr>\n",
       "      <td>no_fee</td>\n",
       "      <td>-182.431463</td>\n",
       "    </tr>\n",
       "    <tr>\n",
       "      <td>has_doorman</td>\n",
       "      <td>781.299058</td>\n",
       "    </tr>\n",
       "    <tr>\n",
       "      <td>has_washer_dryer</td>\n",
       "      <td>327.662684</td>\n",
       "    </tr>\n",
       "    <tr>\n",
       "      <td>floornumber</td>\n",
       "      <td>37.277993</td>\n",
       "    </tr>\n",
       "    <tr>\n",
       "      <td>dist_centralPark</td>\n",
       "      <td>21.509645</td>\n",
       "    </tr>\n",
       "    <tr>\n",
       "      <td>dist_timeSquare</td>\n",
       "      <td>-2467.574982</td>\n",
       "    </tr>\n",
       "    <tr>\n",
       "      <td>dist_soho</td>\n",
       "      <td>-1739.836522</td>\n",
       "    </tr>\n",
       "    <tr>\n",
       "      <td>dist_tribeca</td>\n",
       "      <td>1274.947939</td>\n",
       "    </tr>\n",
       "    <tr>\n",
       "      <td>dist_flatiron_district</td>\n",
       "      <td>-25.085892</td>\n",
       "    </tr>\n",
       "    <tr>\n",
       "      <td>dist_mid_manhattan</td>\n",
       "      <td>2792.478100</td>\n",
       "    </tr>\n",
       "  </tbody>\n",
       "</table>\n",
       "</div>"
      ],
      "text/plain": [
       "                        Est. Coefficient\n",
       "bedrooms                      -10.962669\n",
       "year_built                     -0.064152\n",
       "bathrooms                    1161.560270\n",
       "min_to_subway                  -0.003285\n",
       "size_sqft                       3.393845\n",
       "no_fee                       -182.431463\n",
       "has_doorman                   781.299058\n",
       "has_washer_dryer              327.662684\n",
       "floornumber                    37.277993\n",
       "dist_centralPark               21.509645\n",
       "dist_timeSquare             -2467.574982\n",
       "dist_soho                   -1739.836522\n",
       "dist_tribeca                 1274.947939\n",
       "dist_flatiron_district        -25.085892\n",
       "dist_mid_manhattan           2792.478100"
      ]
     },
     "execution_count": 85,
     "metadata": {},
     "output_type": "execute_result"
    }
   ],
   "source": [
    "pd.DataFrame(lreg.coef_, index=feature_cols,  columns = ['Est. Coefficient'])"
   ]
  },
  {
   "cell_type": "code",
   "execution_count": 86,
   "metadata": {
    "colab": {
     "base_uri": "https://localhost:8080/",
     "height": 305
    },
    "colab_type": "code",
    "id": "pswqLCf5kZdP",
    "outputId": "015feaf2-a1b0-4d8f-b12b-01a5d72d0866"
   },
   "outputs": [
    {
     "data": {
      "image/png": "[encoded data removed]",
      "text/plain": [
       "<Figure size 432x288 with 1 Axes>"
      ]
     },
     "metadata": {
      "needs_background": "light"
     },
     "output_type": "display_data"
    }
   ],
   "source": [
    "_ = plt.scatter(train_df['rent'], lreg.predict(train_features))\n",
    "_ = plt.xlabel(\"Rents: $Y_i$\")\n",
    "_ = plt.ylabel(\"Predicted rents: $\\hat{Y}_i$\")\n",
    "_ = plt.title(\"Rents vs Predicted Rents: $Y_i$ vs $\\hat{Y}_i$\")\n",
    "_ = plt.plot([0, 20000], [0, 20000], linewidth=4, color='red')"
   ]
  },
  {
   "cell_type": "code",
   "execution_count": 87,
   "metadata": {
    "colab": {
     "base_uri": "https://localhost:8080/",
     "height": 34
    },
    "colab_type": "code",
    "id": "Sp72Ave09snn",
    "outputId": "093bdd00-3ba4-4dc1-81af-c7ca2abe4a53"
   },
   "outputs": [
    {
     "data": {
      "text/plain": [
       "1839862.1320637246"
      ]
     },
     "execution_count": 87,
     "metadata": {},
     "output_type": "execute_result"
    }
   ],
   "source": [
    "# construct predictions for random forest regression\n",
    "test_df['predicted'] = rf.predict(test_features)\n",
    "\n",
    "mean_squared_error(test_df['rent'], test_df['predicted'])"
   ]
  },
  {
   "cell_type": "code",
   "execution_count": 88,
   "metadata": {
    "colab": {
     "base_uri": "https://localhost:8080/",
     "height": 34
    },
    "colab_type": "code",
    "id": "9eDsuYKX9ouI",
    "outputId": "e2e239bb-9548-419d-9abb-426e8683c811"
   },
   "outputs": [
    {
     "data": {
      "text/plain": [
       "1716402.768758501"
      ]
     },
     "execution_count": 88,
     "metadata": {},
     "output_type": "execute_result"
    }
   ],
   "source": [
    "# construct predictions for gradient boosting regression\n",
    "test_df['predicted'] = gbt.predict(test_features)\n",
    "\n",
    "mean_squared_error(test_df['rent'], test_df['predicted'])"
   ]
  },
  {
   "cell_type": "markdown",
   "metadata": {
    "colab_type": "text",
    "id": "9IVaqCL3pKBX"
   },
   "source": [
    "## Summary of Results and Further Work\n",
    "This section we look at the results of the modelling. Compare the results of the different models and then make decisions about further work to try improve the accuracy of our model in predicting the rents."
   ]
  },
  {
   "cell_type": "markdown",
   "metadata": {
    "colab_type": "text",
    "id": "TogmF-qsbvsP"
   },
   "source": [
    "|        Model       |                  Description              |         MSE       |\n",
    "|:-------------------|:-----------------------------------------:|------------------:|\n",
    "|  Linear Regression |         NaN replaced with median    | 3149962.910345236|\n",
    "|  Random Forrest    |            NaN replaced with median       | 1833051.7196996452 |\n",
    "|  Linear Regression | NaN replaced with mean | 3148860.408871098|\n",
    "|   Random Forrest   | NaN replaced with mean | 1835560.7531356928|\n",
    "|  Linear Regression | Sqft 0 values set to mean in train | 3400583.9516334846|\n",
    "|   Random Forrest   | Sqft 0 values set to mean in train | 1798566.6084322825|\n",
    "|  Linear Regression | Sqft 0 values set to 300 in test and train | 3206089.0731793316|\n",
    "|   Random Forrest   | Sqft 0 values set to 300 in test and train | 1804390.4514228716|\n",
    "|  Linear Regression | Bedrooms 0 values set to 1 in test and train |3154388.2122088782 |\n",
    "|   Random Forrest   | Bedrooms 0 values set to 1 in test and train |1987356.283059113 |"
   ]
  },
  {
   "cell_type": "markdown",
   "metadata": {
    "colab_type": "text",
    "id": "_ARZmVOeyxyj"
   },
   "source": [
    "Notes about analysis:\n",
    "\n",
    "SQft min of 300 was just an estimated guess for min value.\n",
    "\n",
    "Changing min number of bedrooms from 0 to 1 increased the MSE for RF model and decreased the importance of the bedrooms feature from 2 to 1%. Dont recommend we do this as 0 bedroom represents studios in general looking at descriptions. "
   ]
  },
  {
   "cell_type": "code",
   "execution_count": 89,
   "metadata": {
    "colab": {
     "base_uri": "https://localhost:8080/",
     "height": 218
    },
    "colab_type": "code",
    "id": "myzjIGHjpDdT",
    "outputId": "f6f585bf-0f64-411d-fe84-52bcf37f0420",
    "scrolled": false
   },
   "outputs": [
    {
     "name": "stdout",
     "output_type": "stream",
     "text": [
      "Variable: size_sqft            Importance: 0.54\n",
      "Variable: bathrooms            Importance: 0.14\n",
      "Variable: dist_flatiron_district Importance: 0.14\n",
      "Variable: year_built           Importance: 0.02\n",
      "Variable: min_to_subway        Importance: 0.02\n",
      "Variable: floornumber          Importance: 0.02\n",
      "Variable: dist_timeSquare      Importance: 0.02\n",
      "Variable: dist_soho            Importance: 0.02\n",
      "Variable: dist_tribeca         Importance: 0.02\n",
      "Variable: dist_mid_manhattan   Importance: 0.02\n",
      "Variable: bedrooms             Importance: 0.01\n",
      "Variable: has_doorman          Importance: 0.01\n",
      "Variable: has_washer_dryer     Importance: 0.01\n",
      "Variable: dist_centralPark     Importance: 0.01\n",
      "Variable: no_fee               Importance: 0.0\n"
     ]
    },
    {
     "data": {
      "text/plain": [
       "[None,\n",
       " None,\n",
       " None,\n",
       " None,\n",
       " None,\n",
       " None,\n",
       " None,\n",
       " None,\n",
       " None,\n",
       " None,\n",
       " None,\n",
       " None,\n",
       " None,\n",
       " None,\n",
       " None]"
      ]
     },
     "execution_count": 89,
     "metadata": {},
     "output_type": "execute_result"
    }
   ],
   "source": [
    "# Get numerical feature importances\n",
    "importances = list(rf.feature_importances_)\n",
    "# List of tuples with variable and importance\n",
    "feature_importances = [(feature, round(importance, 2)) for feature, importance in zip(test_features, importances)]\n",
    "# Sort the feature importances by most important first\n",
    "feature_importances = sorted(feature_importances, key = lambda x: x[1], reverse = True)\n",
    "# Print out the feature and importances \n",
    "[print('Variable: {:20} Importance: {}'.format(*pair)) for pair in feature_importances]"
   ]
  },
  {
   "cell_type": "code",
   "execution_count": 90,
   "metadata": {
    "colab": {},
    "colab_type": "code",
    "id": "gChBHajzuvD5"
   },
   "outputs": [],
   "source": [
    "train_df.to_csv('cleaned_data.csv', index = False)"
   ]
  }
 ],
 "metadata": {
  "colab": {
   "collapsed_sections": [],
   "name": "Part 2 Final Project_Data Clean.ipynb",
   "provenance": []
  },
  "kernelspec": {
   "display_name": "Python 3",
   "language": "python",
   "name": "python3"
  },
  "language_info": {
   "codemirror_mode": {
    "name": "ipython",
    "version": 3
   },
   "file_extension": ".py",
   "mimetype": "text/x-python",
   "name": "python",
   "nbconvert_exporter": "python",
   "pygments_lexer": "ipython3",
   "version": "3.7.0"
  }
 },
 "nbformat": 4,
 "nbformat_minor": 1
}

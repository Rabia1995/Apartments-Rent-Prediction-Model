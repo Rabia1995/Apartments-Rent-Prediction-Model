{
 "cells": [
  {
   "cell_type": "markdown",
   "metadata": {
    "colab_type": "text",
    "id": "V6W7COL-nwCv"
   },
   "source": [
    "# Data Science Final Project: Part 1 Analysis\n",
    "\n",
    "This is a preliminary analysis of the rental data to predict rents for test 2 data. It is expected further work in Part 2 will result in improved estimations. This analysis and the outcomes will form the basis of Part 2.  \n",
    "This file has been broken up into 3 parts: \n",
    "\n",
    "\n",
    "1.   Data Exploration [https://colab.research.google.com/drive/1ui-CU-qfreGNuP69NaVPlmFKIiNBFxuL#scrollTo=K-ZZpcoaiGY6]\n",
    "2.   Data Preprocessing [https://colab.research.google.com/drive/1ui-CU-qfreGNuP69NaVPlmFKIiNBFxuL#scrollTo=HgGR6M-aojEZ]\n",
    "3.   Data Modelling [https://colab.research.google.com/drive/1ui-CU-qfreGNuP69NaVPlmFKIiNBFxuL#scrollTo=aPjrrxHJot6h]\n",
    "4.  Summary of Results and Further Work [https://colab.research.google.com/drive/1ui-CU-qfreGNuP69NaVPlmFKIiNBFxuL#scrollTo=9IVaqCL3pKBX]\n",
    "\n",
    "\n",
    "\n"
   ]
  },
  {
   "cell_type": "code",
   "execution_count": 0,
   "metadata": {
    "colab": {},
    "colab_type": "code",
    "id": "uTI3FuQFqCEH"
   },
   "outputs": [],
   "source": [
    "import numpy as np\n",
    "import pandas as pd\n",
    "import matplotlib.pyplot as plt\n",
    "import seaborn as sns\n",
    "\n",
    "from sklearn.linear_model import LinearRegression\n",
    "from sklearn.metrics import mean_squared_error\n",
    "\n",
    "from sklearn.ensemble import RandomForestRegressor\n",
    "from sklearn.ensemble import GradientBoostingRegressor\n",
    "\n",
    "%matplotlib inline"
   ]
  },
  {
   "cell_type": "code",
   "execution_count": 0,
   "metadata": {
    "colab": {},
    "colab_type": "code",
    "id": "fn-ehv0SqH7y"
   },
   "outputs": [],
   "source": [
    "train_df = pd.read_csv('https://grantmlong.com/data/SE_rents2018_train.csv', index_col=0)\n",
    "test_df = pd.read_csv('https://grantmlong.com/data/SE_rents2018_test1.csv', index_col=0)\n",
    "test2_df = pd.read_csv('https://grantmlong.com/data/SE_rents2018_test2.csv', index_col=0)\n",
    "submit2_df = pd.read_csv('https://grantmlong.com/data/SE_rents2018_test3.csv', index_col=0)"
   ]
  },
  {
   "cell_type": "markdown",
   "metadata": {
    "colab_type": "text",
    "id": "K-ZZpcoaiGY6"
   },
   "source": [
    "## Data Exploration\n",
    "\n",
    "This section we look at the data and determine the features for our model. We build our training data\n",
    "\n",
    "\n"
   ]
  },
  {
   "cell_type": "code",
   "execution_count": 7,
   "metadata": {
    "colab": {
     "base_uri": "https://localhost:8080/",
     "height": 1000
    },
    "colab_type": "code",
    "executionInfo": {
     "elapsed": 667,
     "status": "ok",
     "timestamp": 1574288979145,
     "user": {
      "displayName": "Jacinta Moore",
      "photoUrl": "",
      "userId": "14215851766389388616"
     },
     "user_tz": 300
    },
    "id": "D5_s5QoOohQ9",
    "outputId": "1c8511c2-2655-4d73-f9cc-bbeea3a92b6a"
   },
   "outputs": [
    {
     "data": {
      "text/html": [
       "<div>\n",
       "<style scoped>\n",
       "    .dataframe tbody tr th:only-of-type {\n",
       "        vertical-align: middle;\n",
       "    }\n",
       "\n",
       "    .dataframe tbody tr th {\n",
       "        vertical-align: top;\n",
       "    }\n",
       "\n",
       "    .dataframe thead th {\n",
       "        text-align: right;\n",
       "    }\n",
       "</style>\n",
       "<table border=\"1\" class=\"dataframe\">\n",
       "  <thead>\n",
       "    <tr style=\"text-align: right;\">\n",
       "      <th>rental_id</th>\n",
       "      <th>7141042</th>\n",
       "      <th>7341928</th>\n",
       "      <th>7170343</th>\n",
       "      <th>7376350</th>\n",
       "      <th>7151179</th>\n",
       "    </tr>\n",
       "  </thead>\n",
       "  <tbody>\n",
       "    <tr>\n",
       "      <th>addr_unit</th>\n",
       "      <td>#10E</td>\n",
       "      <td>#6C</td>\n",
       "      <td>#11A</td>\n",
       "      <td>#4A</td>\n",
       "      <td>#2F</td>\n",
       "    </tr>\n",
       "    <tr>\n",
       "      <th>building_id</th>\n",
       "      <td>18717778</td>\n",
       "      <td>69106</td>\n",
       "      <td>18717766</td>\n",
       "      <td>18350323</td>\n",
       "      <td>341611</td>\n",
       "    </tr>\n",
       "    <tr>\n",
       "      <th>bedrooms</th>\n",
       "      <td>1</td>\n",
       "      <td>3</td>\n",
       "      <td>3</td>\n",
       "      <td>1</td>\n",
       "      <td>3</td>\n",
       "    </tr>\n",
       "    <tr>\n",
       "      <th>bathrooms</th>\n",
       "      <td>1</td>\n",
       "      <td>1</td>\n",
       "      <td>1</td>\n",
       "      <td>1</td>\n",
       "      <td>1</td>\n",
       "    </tr>\n",
       "    <tr>\n",
       "      <th>size_sqft</th>\n",
       "      <td>763</td>\n",
       "      <td>1100</td>\n",
       "      <td>948</td>\n",
       "      <td>675</td>\n",
       "      <td>1000</td>\n",
       "    </tr>\n",
       "    <tr>\n",
       "      <th>created_at</th>\n",
       "      <td>2018-05-03 06:00:14</td>\n",
       "      <td>2018-07-07 10:03:07</td>\n",
       "      <td>2018-05-11 16:55:21</td>\n",
       "      <td>2018-07-17 17:56:43</td>\n",
       "      <td>2018-05-06 11:47:50</td>\n",
       "    </tr>\n",
       "    <tr>\n",
       "      <th>addr_street</th>\n",
       "      <td>12 STUYVESANT OVAL</td>\n",
       "      <td>279 E 44 STREET</td>\n",
       "      <td>309 AVENUE C</td>\n",
       "      <td>23-92 24 STREET</td>\n",
       "      <td>186 BROADWAY</td>\n",
       "    </tr>\n",
       "    <tr>\n",
       "      <th>addr_city</th>\n",
       "      <td>New York</td>\n",
       "      <td>New York</td>\n",
       "      <td>New York</td>\n",
       "      <td>Astoria</td>\n",
       "      <td>Brooklyn</td>\n",
       "    </tr>\n",
       "    <tr>\n",
       "      <th>addr_zip</th>\n",
       "      <td>10009</td>\n",
       "      <td>10017</td>\n",
       "      <td>10009</td>\n",
       "      <td>11105</td>\n",
       "      <td>11211</td>\n",
       "    </tr>\n",
       "    <tr>\n",
       "      <th>addr_lat</th>\n",
       "      <td>40.7317</td>\n",
       "      <td>40.7515</td>\n",
       "      <td>40.7317</td>\n",
       "      <td>40.7756</td>\n",
       "      <td>40.7097</td>\n",
       "    </tr>\n",
       "    <tr>\n",
       "      <th>addr_lon</th>\n",
       "      <td>-73.9779</td>\n",
       "      <td>-73.9714</td>\n",
       "      <td>-73.9779</td>\n",
       "      <td>-73.9198</td>\n",
       "      <td>-73.9621</td>\n",
       "    </tr>\n",
       "    <tr>\n",
       "      <th>bin</th>\n",
       "      <td>1.08286e+06</td>\n",
       "      <td>1.03757e+06</td>\n",
       "      <td>1.08285e+06</td>\n",
       "      <td>4.44579e+06</td>\n",
       "      <td>3.05954e+06</td>\n",
       "    </tr>\n",
       "    <tr>\n",
       "      <th>bbl</th>\n",
       "      <td>1009720001</td>\n",
       "      <td>1013180022</td>\n",
       "      <td>1009720001</td>\n",
       "      <td>4008750001</td>\n",
       "      <td>3021330003</td>\n",
       "    </tr>\n",
       "    <tr>\n",
       "      <th>floor_count</th>\n",
       "      <td>0</td>\n",
       "      <td>21</td>\n",
       "      <td>0</td>\n",
       "      <td>0</td>\n",
       "      <td>4</td>\n",
       "    </tr>\n",
       "    <tr>\n",
       "      <th>year_built</th>\n",
       "      <td>NaN</td>\n",
       "      <td>1964</td>\n",
       "      <td>NaN</td>\n",
       "      <td>NaN</td>\n",
       "      <td>1920</td>\n",
       "    </tr>\n",
       "    <tr>\n",
       "      <th>min_to_subway</th>\n",
       "      <td>1.5667</td>\n",
       "      <td>1.8333</td>\n",
       "      <td>1.5667</td>\n",
       "      <td>6.1833</td>\n",
       "      <td>2.55</td>\n",
       "    </tr>\n",
       "    <tr>\n",
       "      <th>has_doorman</th>\n",
       "      <td>0</td>\n",
       "      <td>1</td>\n",
       "      <td>0</td>\n",
       "      <td>0</td>\n",
       "      <td>0</td>\n",
       "    </tr>\n",
       "    <tr>\n",
       "      <th>has_elevator</th>\n",
       "      <td>1</td>\n",
       "      <td>1</td>\n",
       "      <td>1</td>\n",
       "      <td>0</td>\n",
       "      <td>0</td>\n",
       "    </tr>\n",
       "    <tr>\n",
       "      <th>has_fireplace</th>\n",
       "      <td>0</td>\n",
       "      <td>0</td>\n",
       "      <td>0</td>\n",
       "      <td>0</td>\n",
       "      <td>0</td>\n",
       "    </tr>\n",
       "    <tr>\n",
       "      <th>has_dishwasher</th>\n",
       "      <td>1</td>\n",
       "      <td>1</td>\n",
       "      <td>1</td>\n",
       "      <td>0</td>\n",
       "      <td>0</td>\n",
       "    </tr>\n",
       "    <tr>\n",
       "      <th>is_furnished</th>\n",
       "      <td>0</td>\n",
       "      <td>0</td>\n",
       "      <td>0</td>\n",
       "      <td>0</td>\n",
       "      <td>0</td>\n",
       "    </tr>\n",
       "    <tr>\n",
       "      <th>has_gym</th>\n",
       "      <td>0</td>\n",
       "      <td>0</td>\n",
       "      <td>0</td>\n",
       "      <td>0</td>\n",
       "      <td>0</td>\n",
       "    </tr>\n",
       "    <tr>\n",
       "      <th>allows_pets</th>\n",
       "      <td>1</td>\n",
       "      <td>1</td>\n",
       "      <td>1</td>\n",
       "      <td>0</td>\n",
       "      <td>1</td>\n",
       "    </tr>\n",
       "    <tr>\n",
       "      <th>has_washer_dryer</th>\n",
       "      <td>0</td>\n",
       "      <td>0</td>\n",
       "      <td>0</td>\n",
       "      <td>0</td>\n",
       "      <td>0</td>\n",
       "    </tr>\n",
       "    <tr>\n",
       "      <th>has_garage</th>\n",
       "      <td>1</td>\n",
       "      <td>1</td>\n",
       "      <td>1</td>\n",
       "      <td>0</td>\n",
       "      <td>0</td>\n",
       "    </tr>\n",
       "    <tr>\n",
       "      <th>has_roofdeck</th>\n",
       "      <td>0</td>\n",
       "      <td>0</td>\n",
       "      <td>0</td>\n",
       "      <td>0</td>\n",
       "      <td>0</td>\n",
       "    </tr>\n",
       "    <tr>\n",
       "      <th>has_concierge</th>\n",
       "      <td>0</td>\n",
       "      <td>1</td>\n",
       "      <td>0</td>\n",
       "      <td>0</td>\n",
       "      <td>0</td>\n",
       "    </tr>\n",
       "    <tr>\n",
       "      <th>has_pool</th>\n",
       "      <td>0</td>\n",
       "      <td>0</td>\n",
       "      <td>0</td>\n",
       "      <td>0</td>\n",
       "      <td>0</td>\n",
       "    </tr>\n",
       "    <tr>\n",
       "      <th>has_garden</th>\n",
       "      <td>0</td>\n",
       "      <td>0</td>\n",
       "      <td>0</td>\n",
       "      <td>0</td>\n",
       "      <td>0</td>\n",
       "    </tr>\n",
       "    <tr>\n",
       "      <th>has_childrens_playroom</th>\n",
       "      <td>0</td>\n",
       "      <td>0</td>\n",
       "      <td>0</td>\n",
       "      <td>0</td>\n",
       "      <td>0</td>\n",
       "    </tr>\n",
       "    <tr>\n",
       "      <th>rent</th>\n",
       "      <td>3617</td>\n",
       "      <td>4050</td>\n",
       "      <td>4875</td>\n",
       "      <td>1850</td>\n",
       "      <td>3595</td>\n",
       "    </tr>\n",
       "    <tr>\n",
       "      <th>no_fee</th>\n",
       "      <td>1</td>\n",
       "      <td>0</td>\n",
       "      <td>1</td>\n",
       "      <td>0</td>\n",
       "      <td>1</td>\n",
       "    </tr>\n",
       "    <tr>\n",
       "      <th>description</th>\n",
       "      <td>1 year free wi-fi &amp; cable on any units with al...</td>\n",
       "      <td>Spacious 3 bedroom apartment located on the 6t...</td>\n",
       "      <td>1 year free wi-fi &amp; cable on any units with al...</td>\n",
       "      <td>Bright and spacious (rent stabilized) one bedr...</td>\n",
       "      <td>What a great 3 bedroom apt. located in the bes...</td>\n",
       "    </tr>\n",
       "    <tr>\n",
       "      <th>neighborhood</th>\n",
       "      <td>Stuyvesant Town/PCV</td>\n",
       "      <td>Midtown East</td>\n",
       "      <td>Stuyvesant Town/PCV</td>\n",
       "      <td>Astoria</td>\n",
       "      <td>Williamsburg</td>\n",
       "    </tr>\n",
       "    <tr>\n",
       "      <th>borough</th>\n",
       "      <td>Manhattan</td>\n",
       "      <td>Manhattan</td>\n",
       "      <td>Manhattan</td>\n",
       "      <td>Queens</td>\n",
       "      <td>Brooklyn</td>\n",
       "    </tr>\n",
       "    <tr>\n",
       "      <th>unit</th>\n",
       "      <td>10E</td>\n",
       "      <td>6C</td>\n",
       "      <td>11A</td>\n",
       "      <td>4A</td>\n",
       "      <td>2F</td>\n",
       "    </tr>\n",
       "    <tr>\n",
       "      <th>floornumber</th>\n",
       "      <td>10</td>\n",
       "      <td>6</td>\n",
       "      <td>11</td>\n",
       "      <td>4</td>\n",
       "      <td>2</td>\n",
       "    </tr>\n",
       "    <tr>\n",
       "      <th>line</th>\n",
       "      <td>E</td>\n",
       "      <td>C</td>\n",
       "      <td>A</td>\n",
       "      <td>A</td>\n",
       "      <td>F</td>\n",
       "    </tr>\n",
       "  </tbody>\n",
       "</table>\n",
       "</div>"
      ],
      "text/plain": [
       "rental_id                                                         7141042  ...                                            7151179\n",
       "addr_unit                                                            #10E  ...                                                #2F\n",
       "building_id                                                      18717778  ...                                             341611\n",
       "bedrooms                                                                1  ...                                                  3\n",
       "bathrooms                                                               1  ...                                                  1\n",
       "size_sqft                                                             763  ...                                               1000\n",
       "created_at                                            2018-05-03 06:00:14  ...                                2018-05-06 11:47:50\n",
       "addr_street                                            12 STUYVESANT OVAL  ...                                       186 BROADWAY\n",
       "addr_city                                                        New York  ...                                           Brooklyn\n",
       "addr_zip                                                            10009  ...                                              11211\n",
       "addr_lat                                                          40.7317  ...                                            40.7097\n",
       "addr_lon                                                         -73.9779  ...                                           -73.9621\n",
       "bin                                                           1.08286e+06  ...                                        3.05954e+06\n",
       "bbl                                                            1009720001  ...                                         3021330003\n",
       "floor_count                                                             0  ...                                                  4\n",
       "year_built                                                            NaN  ...                                               1920\n",
       "min_to_subway                                                      1.5667  ...                                               2.55\n",
       "has_doorman                                                             0  ...                                                  0\n",
       "has_elevator                                                            1  ...                                                  0\n",
       "has_fireplace                                                           0  ...                                                  0\n",
       "has_dishwasher                                                          1  ...                                                  0\n",
       "is_furnished                                                            0  ...                                                  0\n",
       "has_gym                                                                 0  ...                                                  0\n",
       "allows_pets                                                             1  ...                                                  1\n",
       "has_washer_dryer                                                        0  ...                                                  0\n",
       "has_garage                                                              1  ...                                                  0\n",
       "has_roofdeck                                                            0  ...                                                  0\n",
       "has_concierge                                                           0  ...                                                  0\n",
       "has_pool                                                                0  ...                                                  0\n",
       "has_garden                                                              0  ...                                                  0\n",
       "has_childrens_playroom                                                  0  ...                                                  0\n",
       "rent                                                                 3617  ...                                               3595\n",
       "no_fee                                                                  1  ...                                                  1\n",
       "description             1 year free wi-fi & cable on any units with al...  ...  What a great 3 bedroom apt. located in the bes...\n",
       "neighborhood                                          Stuyvesant Town/PCV  ...                                       Williamsburg\n",
       "borough                                                         Manhattan  ...                                           Brooklyn\n",
       "unit                                                                  10E  ...                                                 2F\n",
       "floornumber                                                            10  ...                                                  2\n",
       "line                                                                    E  ...                                                  F\n",
       "\n",
       "[38 rows x 5 columns]"
      ]
     },
     "execution_count": 7,
     "metadata": {
      "tags": []
     },
     "output_type": "execute_result"
    }
   ],
   "source": [
    "train_df.sample(5).transpose()"
   ]
  },
  {
   "cell_type": "code",
   "execution_count": 5,
   "metadata": {
    "colab": {
     "base_uri": "https://localhost:8080/",
     "height": 269
    },
    "colab_type": "code",
    "executionInfo": {
     "elapsed": 1467,
     "status": "ok",
     "timestamp": 1574267879659,
     "user": {
      "displayName": "Jacinta Moore",
      "photoUrl": "",
      "userId": "14215851766389388616"
     },
     "user_tz": 300
    },
    "id": "6j_eaNSqrT5D",
    "outputId": "82da949e-e3cd-47a4-9dbd-492e4941fc56"
   },
   "outputs": [
    {
     "data": {
      "image/png": "[encoded data removed]",
      "text/plain": [
       "<Figure size 432x288 with 1 Axes>"
      ]
     },
     "metadata": {
      "tags": []
     },
     "output_type": "display_data"
    }
   ],
   "source": [
    "_ = plt.hist(train_df['rent'], bins=100)"
   ]
  },
  {
   "cell_type": "code",
   "execution_count": 7,
   "metadata": {
    "colab": {
     "base_uri": "https://localhost:8080/",
     "height": 168
    },
    "colab_type": "code",
    "executionInfo": {
     "elapsed": 1028,
     "status": "ok",
     "timestamp": 1574267930188,
     "user": {
      "displayName": "Jacinta Moore",
      "photoUrl": "",
      "userId": "14215851766389388616"
     },
     "user_tz": 300
    },
    "id": "K5EQekB9rUKa",
    "outputId": "fcfe3ad2-213e-4855-80eb-e5d595342a96"
   },
   "outputs": [
    {
     "data": {
      "text/plain": [
       "count    12000.000000\n",
       "mean      3605.762917\n",
       "std       2897.069446\n",
       "min       1250.000000\n",
       "25%       2250.000000\n",
       "50%       2900.000000\n",
       "75%       3900.000000\n",
       "max      50000.000000\n",
       "Name: rent, dtype: float64"
      ]
     },
     "execution_count": 7,
     "metadata": {
      "tags": []
     },
     "output_type": "execute_result"
    }
   ],
   "source": [
    "train_df['rent'].describe()"
   ]
  },
  {
   "cell_type": "code",
   "execution_count": 8,
   "metadata": {
    "colab": {
     "base_uri": "https://localhost:8080/",
     "height": 34
    },
    "colab_type": "code",
    "executionInfo": {
     "elapsed": 718,
     "status": "ok",
     "timestamp": 1574268013277,
     "user": {
      "displayName": "Jacinta Moore",
      "photoUrl": "",
      "userId": "14215851766389388616"
     },
     "user_tz": 300
    },
    "id": "-lxPtxAprUfW",
    "outputId": "f5ccc0d1-bd7b-4db5-a541-c808d68bcec6"
   },
   "outputs": [
    {
     "data": {
      "text/plain": [
       "0"
      ]
     },
     "execution_count": 8,
     "metadata": {
      "tags": []
     },
     "output_type": "execute_result"
    }
   ],
   "source": [
    "train_df['rent'].isna().sum()"
   ]
  },
  {
   "cell_type": "code",
   "execution_count": 9,
   "metadata": {
    "colab": {
     "base_uri": "https://localhost:8080/",
     "height": 54
    },
    "colab_type": "code",
    "executionInfo": {
     "elapsed": 422,
     "status": "ok",
     "timestamp": 1574268076654,
     "user": {
      "displayName": "Jacinta Moore",
      "photoUrl": "",
      "userId": "14215851766389388616"
     },
     "user_tz": 300
    },
    "id": "EAAqPpaCnI0d",
    "outputId": "27d107a8-bb5f-4cba-8957-e97f3b4e5d54"
   },
   "outputs": [
    {
     "name": "stdout",
     "output_type": "stream",
     "text": [
      "['addr_unit', 'building_id', 'bedrooms', 'bathrooms', 'size_sqft', 'created_at', 'addr_street', 'addr_city', 'addr_zip', 'addr_lat', 'addr_lon', 'bin', 'bbl', 'floor_count', 'year_built', 'min_to_subway', 'has_doorman', 'has_elevator', 'has_fireplace', 'has_dishwasher', 'is_furnished', 'has_gym', 'allows_pets', 'has_washer_dryer', 'has_garage', 'has_roofdeck', 'has_concierge', 'has_pool', 'has_garden', 'has_childrens_playroom', 'rent', 'no_fee', 'description', 'neighborhood', 'borough', 'unit', 'floornumber', 'line']\n"
     ]
    }
   ],
   "source": [
    "print(list(train_df))"
   ]
  },
  {
   "cell_type": "code",
   "execution_count": 11,
   "metadata": {
    "colab": {
     "base_uri": "https://localhost:8080/",
     "height": 304
    },
    "colab_type": "code",
    "executionInfo": {
     "elapsed": 448,
     "status": "ok",
     "timestamp": 1574268130808,
     "user": {
      "displayName": "Jacinta Moore",
      "photoUrl": "",
      "userId": "14215851766389388616"
     },
     "user_tz": 300
    },
    "id": "aMnR3TkCnI0f",
    "outputId": "9243401e-202d-401b-9ca3-9f1f7a0b7f0b"
   },
   "outputs": [
    {
     "data": {
      "text/html": [
       "<div>\n",
       "<style scoped>\n",
       "    .dataframe tbody tr th:only-of-type {\n",
       "        vertical-align: middle;\n",
       "    }\n",
       "\n",
       "    .dataframe tbody tr th {\n",
       "        vertical-align: top;\n",
       "    }\n",
       "\n",
       "    .dataframe thead th {\n",
       "        text-align: right;\n",
       "    }\n",
       "</style>\n",
       "<table border=\"1\" class=\"dataframe\">\n",
       "  <thead>\n",
       "    <tr style=\"text-align: right;\">\n",
       "      <th></th>\n",
       "      <th>building_id</th>\n",
       "      <th>bedrooms</th>\n",
       "      <th>bathrooms</th>\n",
       "      <th>size_sqft</th>\n",
       "      <th>addr_zip</th>\n",
       "      <th>addr_lat</th>\n",
       "      <th>addr_lon</th>\n",
       "      <th>bin</th>\n",
       "      <th>bbl</th>\n",
       "      <th>floor_count</th>\n",
       "      <th>year_built</th>\n",
       "      <th>min_to_subway</th>\n",
       "      <th>has_doorman</th>\n",
       "      <th>has_elevator</th>\n",
       "      <th>has_fireplace</th>\n",
       "      <th>has_dishwasher</th>\n",
       "      <th>is_furnished</th>\n",
       "      <th>has_gym</th>\n",
       "      <th>allows_pets</th>\n",
       "      <th>has_washer_dryer</th>\n",
       "      <th>has_garage</th>\n",
       "      <th>has_roofdeck</th>\n",
       "      <th>has_concierge</th>\n",
       "      <th>has_pool</th>\n",
       "      <th>has_garden</th>\n",
       "      <th>has_childrens_playroom</th>\n",
       "      <th>rent</th>\n",
       "      <th>no_fee</th>\n",
       "      <th>floornumber</th>\n",
       "    </tr>\n",
       "  </thead>\n",
       "  <tbody>\n",
       "    <tr>\n",
       "      <th>count</th>\n",
       "      <td>1.200000e+04</td>\n",
       "      <td>12000.000000</td>\n",
       "      <td>12000.000000</td>\n",
       "      <td>12000.000000</td>\n",
       "      <td>12000.000000</td>\n",
       "      <td>12000.000000</td>\n",
       "      <td>12000.000000</td>\n",
       "      <td>1.199900e+04</td>\n",
       "      <td>1.200000e+04</td>\n",
       "      <td>12000.000000</td>\n",
       "      <td>11597.000000</td>\n",
       "      <td>11874.000000</td>\n",
       "      <td>12000.000000</td>\n",
       "      <td>12000.000000</td>\n",
       "      <td>12000.000000</td>\n",
       "      <td>12000.000000</td>\n",
       "      <td>12000.000000</td>\n",
       "      <td>12000.000000</td>\n",
       "      <td>12000.000000</td>\n",
       "      <td>12000.000000</td>\n",
       "      <td>12000.000000</td>\n",
       "      <td>12000.000000</td>\n",
       "      <td>12000.000000</td>\n",
       "      <td>12000.000000</td>\n",
       "      <td>12000.000000</td>\n",
       "      <td>12000.000000</td>\n",
       "      <td>12000.000000</td>\n",
       "      <td>12000.000000</td>\n",
       "      <td>10723.000000</td>\n",
       "    </tr>\n",
       "    <tr>\n",
       "      <th>mean</th>\n",
       "      <td>1.529133e+06</td>\n",
       "      <td>1.657667</td>\n",
       "      <td>1.239500</td>\n",
       "      <td>850.465750</td>\n",
       "      <td>10682.779667</td>\n",
       "      <td>40.727507</td>\n",
       "      <td>-73.956837</td>\n",
       "      <td>2.370093e+06</td>\n",
       "      <td>2.287120e+09</td>\n",
       "      <td>10.266608</td>\n",
       "      <td>1935.982668</td>\n",
       "      <td>73.588716</td>\n",
       "      <td>0.300333</td>\n",
       "      <td>0.466083</td>\n",
       "      <td>0.035917</td>\n",
       "      <td>0.542583</td>\n",
       "      <td>0.029833</td>\n",
       "      <td>0.293000</td>\n",
       "      <td>0.496667</td>\n",
       "      <td>0.271667</td>\n",
       "      <td>0.170000</td>\n",
       "      <td>0.264083</td>\n",
       "      <td>0.208583</td>\n",
       "      <td>0.073167</td>\n",
       "      <td>0.132083</td>\n",
       "      <td>0.090500</td>\n",
       "      <td>3605.762917</td>\n",
       "      <td>0.490000</td>\n",
       "      <td>6.182738</td>\n",
       "    </tr>\n",
       "    <tr>\n",
       "      <th>std</th>\n",
       "      <td>4.301123e+06</td>\n",
       "      <td>1.079771</td>\n",
       "      <td>0.560208</td>\n",
       "      <td>515.773101</td>\n",
       "      <td>593.370964</td>\n",
       "      <td>0.053241</td>\n",
       "      <td>0.043024</td>\n",
       "      <td>1.242919e+06</td>\n",
       "      <td>1.202105e+09</td>\n",
       "      <td>12.019787</td>\n",
       "      <td>158.157134</td>\n",
       "      <td>2681.611157</td>\n",
       "      <td>0.458422</td>\n",
       "      <td>0.498869</td>\n",
       "      <td>0.186090</td>\n",
       "      <td>0.498204</td>\n",
       "      <td>0.170134</td>\n",
       "      <td>0.455157</td>\n",
       "      <td>0.500010</td>\n",
       "      <td>0.444837</td>\n",
       "      <td>0.375648</td>\n",
       "      <td>0.440862</td>\n",
       "      <td>0.406313</td>\n",
       "      <td>0.260421</td>\n",
       "      <td>0.338595</td>\n",
       "      <td>0.286909</td>\n",
       "      <td>2897.069446</td>\n",
       "      <td>0.499921</td>\n",
       "      <td>7.671545</td>\n",
       "    </tr>\n",
       "    <tr>\n",
       "      <th>min</th>\n",
       "      <td>7.300000e+01</td>\n",
       "      <td>0.000000</td>\n",
       "      <td>0.000000</td>\n",
       "      <td>0.000000</td>\n",
       "      <td>10001.000000</td>\n",
       "      <td>40.573898</td>\n",
       "      <td>-74.141570</td>\n",
       "      <td>1.000000e+06</td>\n",
       "      <td>0.000000e+00</td>\n",
       "      <td>0.000000</td>\n",
       "      <td>0.000000</td>\n",
       "      <td>0.016700</td>\n",
       "      <td>0.000000</td>\n",
       "      <td>0.000000</td>\n",
       "      <td>0.000000</td>\n",
       "      <td>0.000000</td>\n",
       "      <td>0.000000</td>\n",
       "      <td>0.000000</td>\n",
       "      <td>0.000000</td>\n",
       "      <td>0.000000</td>\n",
       "      <td>0.000000</td>\n",
       "      <td>0.000000</td>\n",
       "      <td>0.000000</td>\n",
       "      <td>0.000000</td>\n",
       "      <td>0.000000</td>\n",
       "      <td>0.000000</td>\n",
       "      <td>1250.000000</td>\n",
       "      <td>0.000000</td>\n",
       "      <td>0.000000</td>\n",
       "    </tr>\n",
       "    <tr>\n",
       "      <th>25%</th>\n",
       "      <td>6.209200e+04</td>\n",
       "      <td>1.000000</td>\n",
       "      <td>1.000000</td>\n",
       "      <td>610.000000</td>\n",
       "      <td>10023.000000</td>\n",
       "      <td>40.693256</td>\n",
       "      <td>-73.986076</td>\n",
       "      <td>1.052139e+06</td>\n",
       "      <td>1.011220e+09</td>\n",
       "      <td>3.000000</td>\n",
       "      <td>1915.000000</td>\n",
       "      <td>1.616700</td>\n",
       "      <td>0.000000</td>\n",
       "      <td>0.000000</td>\n",
       "      <td>0.000000</td>\n",
       "      <td>0.000000</td>\n",
       "      <td>0.000000</td>\n",
       "      <td>0.000000</td>\n",
       "      <td>0.000000</td>\n",
       "      <td>0.000000</td>\n",
       "      <td>0.000000</td>\n",
       "      <td>0.000000</td>\n",
       "      <td>0.000000</td>\n",
       "      <td>0.000000</td>\n",
       "      <td>0.000000</td>\n",
       "      <td>0.000000</td>\n",
       "      <td>2250.000000</td>\n",
       "      <td>0.000000</td>\n",
       "      <td>2.000000</td>\n",
       "    </tr>\n",
       "    <tr>\n",
       "      <th>50%</th>\n",
       "      <td>2.495815e+05</td>\n",
       "      <td>2.000000</td>\n",
       "      <td>1.000000</td>\n",
       "      <td>800.000000</td>\n",
       "      <td>11103.000000</td>\n",
       "      <td>40.729028</td>\n",
       "      <td>-73.961700</td>\n",
       "      <td>3.019358e+06</td>\n",
       "      <td>3.006580e+09</td>\n",
       "      <td>5.000000</td>\n",
       "      <td>1931.000000</td>\n",
       "      <td>2.750000</td>\n",
       "      <td>0.000000</td>\n",
       "      <td>0.000000</td>\n",
       "      <td>0.000000</td>\n",
       "      <td>1.000000</td>\n",
       "      <td>0.000000</td>\n",
       "      <td>0.000000</td>\n",
       "      <td>0.000000</td>\n",
       "      <td>0.000000</td>\n",
       "      <td>0.000000</td>\n",
       "      <td>0.000000</td>\n",
       "      <td>0.000000</td>\n",
       "      <td>0.000000</td>\n",
       "      <td>0.000000</td>\n",
       "      <td>0.000000</td>\n",
       "      <td>2900.000000</td>\n",
       "      <td>0.000000</td>\n",
       "      <td>3.000000</td>\n",
       "    </tr>\n",
       "    <tr>\n",
       "      <th>75%</th>\n",
       "      <td>8.225132e+05</td>\n",
       "      <td>2.000000</td>\n",
       "      <td>1.000000</td>\n",
       "      <td>1000.000000</td>\n",
       "      <td>11218.000000</td>\n",
       "      <td>40.764599</td>\n",
       "      <td>-73.936663</td>\n",
       "      <td>3.326098e+06</td>\n",
       "      <td>3.050580e+09</td>\n",
       "      <td>12.000000</td>\n",
       "      <td>1987.000000</td>\n",
       "      <td>4.366700</td>\n",
       "      <td>1.000000</td>\n",
       "      <td>1.000000</td>\n",
       "      <td>0.000000</td>\n",
       "      <td>1.000000</td>\n",
       "      <td>0.000000</td>\n",
       "      <td>1.000000</td>\n",
       "      <td>1.000000</td>\n",
       "      <td>1.000000</td>\n",
       "      <td>0.000000</td>\n",
       "      <td>1.000000</td>\n",
       "      <td>0.000000</td>\n",
       "      <td>0.000000</td>\n",
       "      <td>0.000000</td>\n",
       "      <td>0.000000</td>\n",
       "      <td>3900.000000</td>\n",
       "      <td>1.000000</td>\n",
       "      <td>6.000000</td>\n",
       "    </tr>\n",
       "    <tr>\n",
       "      <th>max</th>\n",
       "      <td>1.877210e+07</td>\n",
       "      <td>8.000000</td>\n",
       "      <td>20.000000</td>\n",
       "      <td>10000.000000</td>\n",
       "      <td>11694.000000</td>\n",
       "      <td>40.909842</td>\n",
       "      <td>-73.730550</td>\n",
       "      <td>5.158986e+06</td>\n",
       "      <td>5.010640e+09</td>\n",
       "      <td>90.000000</td>\n",
       "      <td>2019.000000</td>\n",
       "      <td>103343.616700</td>\n",
       "      <td>1.000000</td>\n",
       "      <td>1.000000</td>\n",
       "      <td>1.000000</td>\n",
       "      <td>1.000000</td>\n",
       "      <td>1.000000</td>\n",
       "      <td>1.000000</td>\n",
       "      <td>1.000000</td>\n",
       "      <td>1.000000</td>\n",
       "      <td>1.000000</td>\n",
       "      <td>1.000000</td>\n",
       "      <td>1.000000</td>\n",
       "      <td>1.000000</td>\n",
       "      <td>1.000000</td>\n",
       "      <td>1.000000</td>\n",
       "      <td>50000.000000</td>\n",
       "      <td>1.000000</td>\n",
       "      <td>78.000000</td>\n",
       "    </tr>\n",
       "  </tbody>\n",
       "</table>\n",
       "</div>"
      ],
      "text/plain": [
       "        building_id      bedrooms  ...        no_fee   floornumber\n",
       "count  1.200000e+04  12000.000000  ...  12000.000000  10723.000000\n",
       "mean   1.529133e+06      1.657667  ...      0.490000      6.182738\n",
       "std    4.301123e+06      1.079771  ...      0.499921      7.671545\n",
       "min    7.300000e+01      0.000000  ...      0.000000      0.000000\n",
       "25%    6.209200e+04      1.000000  ...      0.000000      2.000000\n",
       "50%    2.495815e+05      2.000000  ...      0.000000      3.000000\n",
       "75%    8.225132e+05      2.000000  ...      1.000000      6.000000\n",
       "max    1.877210e+07      8.000000  ...      1.000000     78.000000\n",
       "\n",
       "[8 rows x 29 columns]"
      ]
     },
     "execution_count": 11,
     "metadata": {
      "tags": []
     },
     "output_type": "execute_result"
    }
   ],
   "source": [
    "train_df.describe()"
   ]
  },
  {
   "cell_type": "code",
   "execution_count": 12,
   "metadata": {
    "colab": {
     "base_uri": "https://localhost:8080/",
     "height": 926
    },
    "colab_type": "code",
    "executionInfo": {
     "elapsed": 462,
     "status": "ok",
     "timestamp": 1574268135627,
     "user": {
      "displayName": "Jacinta Moore",
      "photoUrl": "",
      "userId": "14215851766389388616"
     },
     "user_tz": 300
    },
    "id": "M3j05EiHr627",
    "outputId": "9b2fb7ec-d962-4e55-cd0e-077552459704"
   },
   "outputs": [
    {
     "data": {
      "text/html": [
       "<div>\n",
       "<style scoped>\n",
       "    .dataframe tbody tr th:only-of-type {\n",
       "        vertical-align: middle;\n",
       "    }\n",
       "\n",
       "    .dataframe tbody tr th {\n",
       "        vertical-align: top;\n",
       "    }\n",
       "\n",
       "    .dataframe thead th {\n",
       "        text-align: right;\n",
       "    }\n",
       "</style>\n",
       "<table border=\"1\" class=\"dataframe\">\n",
       "  <thead>\n",
       "    <tr style=\"text-align: right;\">\n",
       "      <th></th>\n",
       "      <th>building_id</th>\n",
       "      <th>bedrooms</th>\n",
       "      <th>bathrooms</th>\n",
       "      <th>size_sqft</th>\n",
       "      <th>addr_zip</th>\n",
       "      <th>addr_lat</th>\n",
       "      <th>addr_lon</th>\n",
       "      <th>bin</th>\n",
       "      <th>bbl</th>\n",
       "      <th>floor_count</th>\n",
       "      <th>year_built</th>\n",
       "      <th>min_to_subway</th>\n",
       "      <th>has_doorman</th>\n",
       "      <th>has_elevator</th>\n",
       "      <th>has_fireplace</th>\n",
       "      <th>has_dishwasher</th>\n",
       "      <th>is_furnished</th>\n",
       "      <th>has_gym</th>\n",
       "      <th>allows_pets</th>\n",
       "      <th>has_washer_dryer</th>\n",
       "      <th>has_garage</th>\n",
       "      <th>has_roofdeck</th>\n",
       "      <th>has_concierge</th>\n",
       "      <th>has_pool</th>\n",
       "      <th>has_garden</th>\n",
       "      <th>has_childrens_playroom</th>\n",
       "      <th>rent</th>\n",
       "      <th>no_fee</th>\n",
       "      <th>floornumber</th>\n",
       "    </tr>\n",
       "  </thead>\n",
       "  <tbody>\n",
       "    <tr>\n",
       "      <th>building_id</th>\n",
       "      <td>1.000000</td>\n",
       "      <td>-0.001813</td>\n",
       "      <td>-0.016501</td>\n",
       "      <td>-0.006433</td>\n",
       "      <td>0.064199</td>\n",
       "      <td>-0.008653</td>\n",
       "      <td>0.105315</td>\n",
       "      <td>0.117460</td>\n",
       "      <td>0.090194</td>\n",
       "      <td>-0.116488</td>\n",
       "      <td>0.026593</td>\n",
       "      <td>-0.006980</td>\n",
       "      <td>-0.042830</td>\n",
       "      <td>0.061696</td>\n",
       "      <td>-0.031611</td>\n",
       "      <td>0.023323</td>\n",
       "      <td>-0.012521</td>\n",
       "      <td>0.004550</td>\n",
       "      <td>0.040899</td>\n",
       "      <td>-0.030651</td>\n",
       "      <td>0.099141</td>\n",
       "      <td>-0.012773</td>\n",
       "      <td>-0.060398</td>\n",
       "      <td>0.038340</td>\n",
       "      <td>0.064100</td>\n",
       "      <td>0.011357</td>\n",
       "      <td>-0.035145</td>\n",
       "      <td>0.052429</td>\n",
       "      <td>-0.003418</td>\n",
       "    </tr>\n",
       "    <tr>\n",
       "      <th>bedrooms</th>\n",
       "      <td>-0.001813</td>\n",
       "      <td>1.000000</td>\n",
       "      <td>0.464287</td>\n",
       "      <td>0.525537</td>\n",
       "      <td>0.187639</td>\n",
       "      <td>-0.114986</td>\n",
       "      <td>0.093089</td>\n",
       "      <td>0.142331</td>\n",
       "      <td>0.151078</td>\n",
       "      <td>-0.228858</td>\n",
       "      <td>-0.056614</td>\n",
       "      <td>0.014171</td>\n",
       "      <td>-0.233059</td>\n",
       "      <td>-0.278231</td>\n",
       "      <td>0.049998</td>\n",
       "      <td>0.046002</td>\n",
       "      <td>-0.046021</td>\n",
       "      <td>-0.206094</td>\n",
       "      <td>0.023819</td>\n",
       "      <td>0.117120</td>\n",
       "      <td>-0.116837</td>\n",
       "      <td>-0.085111</td>\n",
       "      <td>-0.202524</td>\n",
       "      <td>-0.091116</td>\n",
       "      <td>0.048234</td>\n",
       "      <td>-0.083456</td>\n",
       "      <td>0.353337</td>\n",
       "      <td>-0.004335</td>\n",
       "      <td>-0.158895</td>\n",
       "    </tr>\n",
       "    <tr>\n",
       "      <th>bathrooms</th>\n",
       "      <td>-0.016501</td>\n",
       "      <td>0.464287</td>\n",
       "      <td>1.000000</td>\n",
       "      <td>0.565788</td>\n",
       "      <td>-0.088524</td>\n",
       "      <td>0.028441</td>\n",
       "      <td>-0.062992</td>\n",
       "      <td>-0.100642</td>\n",
       "      <td>-0.106358</td>\n",
       "      <td>0.091489</td>\n",
       "      <td>-0.004480</td>\n",
       "      <td>0.017966</td>\n",
       "      <td>0.108987</td>\n",
       "      <td>0.095867</td>\n",
       "      <td>0.124532</td>\n",
       "      <td>0.161132</td>\n",
       "      <td>0.050068</td>\n",
       "      <td>0.113062</td>\n",
       "      <td>0.087348</td>\n",
       "      <td>0.298722</td>\n",
       "      <td>0.051650</td>\n",
       "      <td>0.102592</td>\n",
       "      <td>0.105276</td>\n",
       "      <td>0.089527</td>\n",
       "      <td>0.104741</td>\n",
       "      <td>0.111949</td>\n",
       "      <td>0.611987</td>\n",
       "      <td>-0.003053</td>\n",
       "      <td>0.116938</td>\n",
       "    </tr>\n",
       "    <tr>\n",
       "      <th>size_sqft</th>\n",
       "      <td>-0.006433</td>\n",
       "      <td>0.525537</td>\n",
       "      <td>0.565788</td>\n",
       "      <td>1.000000</td>\n",
       "      <td>0.000576</td>\n",
       "      <td>-0.037717</td>\n",
       "      <td>-0.035054</td>\n",
       "      <td>-0.013148</td>\n",
       "      <td>-0.011608</td>\n",
       "      <td>0.020547</td>\n",
       "      <td>-0.021524</td>\n",
       "      <td>0.007718</td>\n",
       "      <td>0.047766</td>\n",
       "      <td>0.029836</td>\n",
       "      <td>0.155044</td>\n",
       "      <td>0.111761</td>\n",
       "      <td>0.041965</td>\n",
       "      <td>0.022605</td>\n",
       "      <td>0.032325</td>\n",
       "      <td>0.263907</td>\n",
       "      <td>0.005959</td>\n",
       "      <td>0.026781</td>\n",
       "      <td>0.040962</td>\n",
       "      <td>0.051020</td>\n",
       "      <td>0.137652</td>\n",
       "      <td>0.068867</td>\n",
       "      <td>0.649984</td>\n",
       "      <td>-0.074162</td>\n",
       "      <td>0.054328</td>\n",
       "    </tr>\n",
       "    <tr>\n",
       "      <th>addr_zip</th>\n",
       "      <td>0.064199</td>\n",
       "      <td>0.187639</td>\n",
       "      <td>-0.088524</td>\n",
       "      <td>0.000576</td>\n",
       "      <td>1.000000</td>\n",
       "      <td>-0.577385</td>\n",
       "      <td>0.462277</td>\n",
       "      <td>0.950995</td>\n",
       "      <td>0.952018</td>\n",
       "      <td>-0.447352</td>\n",
       "      <td>-0.004916</td>\n",
       "      <td>0.023660</td>\n",
       "      <td>-0.410034</td>\n",
       "      <td>-0.362939</td>\n",
       "      <td>-0.072233</td>\n",
       "      <td>-0.166108</td>\n",
       "      <td>-0.135857</td>\n",
       "      <td>-0.287916</td>\n",
       "      <td>-0.115378</td>\n",
       "      <td>-0.113234</td>\n",
       "      <td>-0.116047</td>\n",
       "      <td>-0.107670</td>\n",
       "      <td>-0.354300</td>\n",
       "      <td>-0.193333</td>\n",
       "      <td>-0.006699</td>\n",
       "      <td>-0.162588</td>\n",
       "      <td>-0.325241</td>\n",
       "      <td>-0.066025</td>\n",
       "      <td>-0.376063</td>\n",
       "    </tr>\n",
       "    <tr>\n",
       "      <th>addr_lat</th>\n",
       "      <td>-0.008653</td>\n",
       "      <td>-0.114986</td>\n",
       "      <td>0.028441</td>\n",
       "      <td>-0.037717</td>\n",
       "      <td>-0.577385</td>\n",
       "      <td>1.000000</td>\n",
       "      <td>0.219029</td>\n",
       "      <td>-0.429858</td>\n",
       "      <td>-0.424711</td>\n",
       "      <td>0.195647</td>\n",
       "      <td>-0.002415</td>\n",
       "      <td>-0.026215</td>\n",
       "      <td>0.191486</td>\n",
       "      <td>0.167685</td>\n",
       "      <td>0.019505</td>\n",
       "      <td>0.078029</td>\n",
       "      <td>0.054610</td>\n",
       "      <td>0.115376</td>\n",
       "      <td>0.015503</td>\n",
       "      <td>0.013967</td>\n",
       "      <td>0.057687</td>\n",
       "      <td>-0.000782</td>\n",
       "      <td>0.146865</td>\n",
       "      <td>0.104243</td>\n",
       "      <td>0.000178</td>\n",
       "      <td>0.066387</td>\n",
       "      <td>0.109536</td>\n",
       "      <td>0.002401</td>\n",
       "      <td>0.170598</td>\n",
       "    </tr>\n",
       "    <tr>\n",
       "      <th>addr_lon</th>\n",
       "      <td>0.105315</td>\n",
       "      <td>0.093089</td>\n",
       "      <td>-0.062992</td>\n",
       "      <td>-0.035054</td>\n",
       "      <td>0.462277</td>\n",
       "      <td>0.219029</td>\n",
       "      <td>1.000000</td>\n",
       "      <td>0.554511</td>\n",
       "      <td>0.563806</td>\n",
       "      <td>-0.281790</td>\n",
       "      <td>-0.003623</td>\n",
       "      <td>-0.012528</td>\n",
       "      <td>-0.259673</td>\n",
       "      <td>-0.182011</td>\n",
       "      <td>-0.070451</td>\n",
       "      <td>-0.138343</td>\n",
       "      <td>-0.085478</td>\n",
       "      <td>-0.224737</td>\n",
       "      <td>-0.153365</td>\n",
       "      <td>-0.165555</td>\n",
       "      <td>-0.055615</td>\n",
       "      <td>-0.168426</td>\n",
       "      <td>-0.270704</td>\n",
       "      <td>-0.100606</td>\n",
       "      <td>-0.038981</td>\n",
       "      <td>-0.140828</td>\n",
       "      <td>-0.262711</td>\n",
       "      <td>-0.041091</td>\n",
       "      <td>-0.239193</td>\n",
       "    </tr>\n",
       "    <tr>\n",
       "      <th>bin</th>\n",
       "      <td>0.117460</td>\n",
       "      <td>0.142331</td>\n",
       "      <td>-0.100642</td>\n",
       "      <td>-0.013148</td>\n",
       "      <td>0.950995</td>\n",
       "      <td>-0.429858</td>\n",
       "      <td>0.554511</td>\n",
       "      <td>1.000000</td>\n",
       "      <td>0.994155</td>\n",
       "      <td>-0.426813</td>\n",
       "      <td>0.010451</td>\n",
       "      <td>0.021091</td>\n",
       "      <td>-0.380284</td>\n",
       "      <td>-0.326176</td>\n",
       "      <td>-0.084767</td>\n",
       "      <td>-0.173532</td>\n",
       "      <td>-0.131706</td>\n",
       "      <td>-0.263453</td>\n",
       "      <td>-0.144695</td>\n",
       "      <td>-0.119801</td>\n",
       "      <td>-0.089042</td>\n",
       "      <td>-0.112548</td>\n",
       "      <td>-0.323696</td>\n",
       "      <td>-0.182156</td>\n",
       "      <td>-0.007928</td>\n",
       "      <td>-0.144938</td>\n",
       "      <td>-0.332165</td>\n",
       "      <td>-0.111486</td>\n",
       "      <td>-0.350957</td>\n",
       "    </tr>\n",
       "    <tr>\n",
       "      <th>bbl</th>\n",
       "      <td>0.090194</td>\n",
       "      <td>0.151078</td>\n",
       "      <td>-0.106358</td>\n",
       "      <td>-0.011608</td>\n",
       "      <td>0.952018</td>\n",
       "      <td>-0.424711</td>\n",
       "      <td>0.563806</td>\n",
       "      <td>0.994155</td>\n",
       "      <td>1.000000</td>\n",
       "      <td>-0.442496</td>\n",
       "      <td>0.005694</td>\n",
       "      <td>0.015880</td>\n",
       "      <td>-0.403373</td>\n",
       "      <td>-0.351657</td>\n",
       "      <td>-0.081656</td>\n",
       "      <td>-0.185248</td>\n",
       "      <td>-0.132950</td>\n",
       "      <td>-0.292240</td>\n",
       "      <td>-0.160086</td>\n",
       "      <td>-0.137143</td>\n",
       "      <td>-0.109457</td>\n",
       "      <td>-0.135245</td>\n",
       "      <td>-0.346828</td>\n",
       "      <td>-0.193851</td>\n",
       "      <td>-0.021434</td>\n",
       "      <td>-0.169315</td>\n",
       "      <td>-0.339157</td>\n",
       "      <td>-0.126716</td>\n",
       "      <td>-0.367065</td>\n",
       "    </tr>\n",
       "    <tr>\n",
       "      <th>floor_count</th>\n",
       "      <td>-0.116488</td>\n",
       "      <td>-0.228858</td>\n",
       "      <td>0.091489</td>\n",
       "      <td>0.020547</td>\n",
       "      <td>-0.447352</td>\n",
       "      <td>0.195647</td>\n",
       "      <td>-0.281790</td>\n",
       "      <td>-0.426813</td>\n",
       "      <td>-0.442496</td>\n",
       "      <td>1.000000</td>\n",
       "      <td>0.151318</td>\n",
       "      <td>-0.011722</td>\n",
       "      <td>0.664202</td>\n",
       "      <td>0.560443</td>\n",
       "      <td>-0.024808</td>\n",
       "      <td>0.229530</td>\n",
       "      <td>0.112042</td>\n",
       "      <td>0.633673</td>\n",
       "      <td>0.205669</td>\n",
       "      <td>0.177199</td>\n",
       "      <td>0.380581</td>\n",
       "      <td>0.361168</td>\n",
       "      <td>0.655252</td>\n",
       "      <td>0.498138</td>\n",
       "      <td>0.084536</td>\n",
       "      <td>0.395460</td>\n",
       "      <td>0.253517</td>\n",
       "      <td>0.185316</td>\n",
       "      <td>0.769707</td>\n",
       "    </tr>\n",
       "    <tr>\n",
       "      <th>year_built</th>\n",
       "      <td>0.026593</td>\n",
       "      <td>-0.056614</td>\n",
       "      <td>-0.004480</td>\n",
       "      <td>-0.021524</td>\n",
       "      <td>-0.004916</td>\n",
       "      <td>-0.002415</td>\n",
       "      <td>-0.003623</td>\n",
       "      <td>0.010451</td>\n",
       "      <td>0.005694</td>\n",
       "      <td>0.151318</td>\n",
       "      <td>1.000000</td>\n",
       "      <td>-0.031395</td>\n",
       "      <td>0.094629</td>\n",
       "      <td>0.091877</td>\n",
       "      <td>-0.008686</td>\n",
       "      <td>0.025308</td>\n",
       "      <td>-0.014327</td>\n",
       "      <td>0.095762</td>\n",
       "      <td>0.044294</td>\n",
       "      <td>0.006949</td>\n",
       "      <td>0.084148</td>\n",
       "      <td>0.082307</td>\n",
       "      <td>0.085210</td>\n",
       "      <td>0.051083</td>\n",
       "      <td>0.006335</td>\n",
       "      <td>0.051941</td>\n",
       "      <td>-0.001037</td>\n",
       "      <td>0.049746</td>\n",
       "      <td>0.095295</td>\n",
       "    </tr>\n",
       "    <tr>\n",
       "      <th>min_to_subway</th>\n",
       "      <td>-0.006980</td>\n",
       "      <td>0.014171</td>\n",
       "      <td>0.017966</td>\n",
       "      <td>0.007718</td>\n",
       "      <td>0.023660</td>\n",
       "      <td>-0.026215</td>\n",
       "      <td>-0.012528</td>\n",
       "      <td>0.021091</td>\n",
       "      <td>0.015880</td>\n",
       "      <td>-0.011722</td>\n",
       "      <td>-0.031395</td>\n",
       "      <td>1.000000</td>\n",
       "      <td>-0.016984</td>\n",
       "      <td>0.014982</td>\n",
       "      <td>-0.005077</td>\n",
       "      <td>0.004460</td>\n",
       "      <td>-0.004594</td>\n",
       "      <td>-0.009413</td>\n",
       "      <td>-0.006284</td>\n",
       "      <td>0.035343</td>\n",
       "      <td>0.031686</td>\n",
       "      <td>0.006643</td>\n",
       "      <td>-0.013324</td>\n",
       "      <td>-0.007238</td>\n",
       "      <td>0.009395</td>\n",
       "      <td>-0.007989</td>\n",
       "      <td>0.000010</td>\n",
       "      <td>-0.005945</td>\n",
       "      <td>-0.012333</td>\n",
       "    </tr>\n",
       "    <tr>\n",
       "      <th>has_doorman</th>\n",
       "      <td>-0.042830</td>\n",
       "      <td>-0.233059</td>\n",
       "      <td>0.108987</td>\n",
       "      <td>0.047766</td>\n",
       "      <td>-0.410034</td>\n",
       "      <td>0.191486</td>\n",
       "      <td>-0.259673</td>\n",
       "      <td>-0.380284</td>\n",
       "      <td>-0.403373</td>\n",
       "      <td>0.664202</td>\n",
       "      <td>0.094629</td>\n",
       "      <td>-0.016984</td>\n",
       "      <td>1.000000</td>\n",
       "      <td>0.663331</td>\n",
       "      <td>-0.027788</td>\n",
       "      <td>0.295768</td>\n",
       "      <td>0.078518</td>\n",
       "      <td>0.685812</td>\n",
       "      <td>0.292331</td>\n",
       "      <td>0.248036</td>\n",
       "      <td>0.406196</td>\n",
       "      <td>0.421955</td>\n",
       "      <td>0.668138</td>\n",
       "      <td>0.340186</td>\n",
       "      <td>0.142268</td>\n",
       "      <td>0.345234</td>\n",
       "      <td>0.273486</td>\n",
       "      <td>0.252027</td>\n",
       "      <td>0.523314</td>\n",
       "    </tr>\n",
       "    <tr>\n",
       "      <th>has_elevator</th>\n",
       "      <td>0.061696</td>\n",
       "      <td>-0.278231</td>\n",
       "      <td>0.095867</td>\n",
       "      <td>0.029836</td>\n",
       "      <td>-0.362939</td>\n",
       "      <td>0.167685</td>\n",
       "      <td>-0.182011</td>\n",
       "      <td>-0.326176</td>\n",
       "      <td>-0.351657</td>\n",
       "      <td>0.560443</td>\n",
       "      <td>0.091877</td>\n",
       "      <td>0.014982</td>\n",
       "      <td>0.663331</td>\n",
       "      <td>1.000000</td>\n",
       "      <td>-0.050167</td>\n",
       "      <td>0.305924</td>\n",
       "      <td>0.081639</td>\n",
       "      <td>0.606066</td>\n",
       "      <td>0.243948</td>\n",
       "      <td>0.203386</td>\n",
       "      <td>0.392328</td>\n",
       "      <td>0.409244</td>\n",
       "      <td>0.526443</td>\n",
       "      <td>0.273776</td>\n",
       "      <td>0.099298</td>\n",
       "      <td>0.304430</td>\n",
       "      <td>0.238692</td>\n",
       "      <td>0.228047</td>\n",
       "      <td>0.453474</td>\n",
       "    </tr>\n",
       "    <tr>\n",
       "      <th>has_fireplace</th>\n",
       "      <td>-0.031611</td>\n",
       "      <td>0.049998</td>\n",
       "      <td>0.124532</td>\n",
       "      <td>0.155044</td>\n",
       "      <td>-0.072233</td>\n",
       "      <td>0.019505</td>\n",
       "      <td>-0.070451</td>\n",
       "      <td>-0.084767</td>\n",
       "      <td>-0.081656</td>\n",
       "      <td>-0.024808</td>\n",
       "      <td>-0.008686</td>\n",
       "      <td>-0.005077</td>\n",
       "      <td>-0.027788</td>\n",
       "      <td>-0.050167</td>\n",
       "      <td>1.000000</td>\n",
       "      <td>0.053168</td>\n",
       "      <td>0.042491</td>\n",
       "      <td>-0.036684</td>\n",
       "      <td>0.016961</td>\n",
       "      <td>0.088507</td>\n",
       "      <td>-0.030127</td>\n",
       "      <td>-0.013023</td>\n",
       "      <td>-0.025240</td>\n",
       "      <td>0.000800</td>\n",
       "      <td>0.049034</td>\n",
       "      <td>-0.010935</td>\n",
       "      <td>0.163483</td>\n",
       "      <td>-0.052129</td>\n",
       "      <td>-0.008051</td>\n",
       "    </tr>\n",
       "    <tr>\n",
       "      <th>has_dishwasher</th>\n",
       "      <td>0.023323</td>\n",
       "      <td>0.046002</td>\n",
       "      <td>0.161132</td>\n",
       "      <td>0.111761</td>\n",
       "      <td>-0.166108</td>\n",
       "      <td>0.078029</td>\n",
       "      <td>-0.138343</td>\n",
       "      <td>-0.173532</td>\n",
       "      <td>-0.185248</td>\n",
       "      <td>0.229530</td>\n",
       "      <td>0.025308</td>\n",
       "      <td>0.004460</td>\n",
       "      <td>0.295768</td>\n",
       "      <td>0.305924</td>\n",
       "      <td>0.053168</td>\n",
       "      <td>1.000000</td>\n",
       "      <td>0.043021</td>\n",
       "      <td>0.322053</td>\n",
       "      <td>0.256673</td>\n",
       "      <td>0.334376</td>\n",
       "      <td>0.212473</td>\n",
       "      <td>0.286309</td>\n",
       "      <td>0.258104</td>\n",
       "      <td>0.112804</td>\n",
       "      <td>0.089919</td>\n",
       "      <td>0.121131</td>\n",
       "      <td>0.187002</td>\n",
       "      <td>0.276597</td>\n",
       "      <td>0.172159</td>\n",
       "    </tr>\n",
       "    <tr>\n",
       "      <th>is_furnished</th>\n",
       "      <td>-0.012521</td>\n",
       "      <td>-0.046021</td>\n",
       "      <td>0.050068</td>\n",
       "      <td>0.041965</td>\n",
       "      <td>-0.135857</td>\n",
       "      <td>0.054610</td>\n",
       "      <td>-0.085478</td>\n",
       "      <td>-0.131706</td>\n",
       "      <td>-0.132950</td>\n",
       "      <td>0.112042</td>\n",
       "      <td>-0.014327</td>\n",
       "      <td>-0.004594</td>\n",
       "      <td>0.078518</td>\n",
       "      <td>0.081639</td>\n",
       "      <td>0.042491</td>\n",
       "      <td>0.043021</td>\n",
       "      <td>1.000000</td>\n",
       "      <td>0.072221</td>\n",
       "      <td>-0.014506</td>\n",
       "      <td>0.086711</td>\n",
       "      <td>-0.002425</td>\n",
       "      <td>0.058287</td>\n",
       "      <td>0.076347</td>\n",
       "      <td>0.054185</td>\n",
       "      <td>0.034308</td>\n",
       "      <td>0.059076</td>\n",
       "      <td>0.133343</td>\n",
       "      <td>-0.028827</td>\n",
       "      <td>0.090309</td>\n",
       "    </tr>\n",
       "    <tr>\n",
       "      <th>has_gym</th>\n",
       "      <td>0.004550</td>\n",
       "      <td>-0.206094</td>\n",
       "      <td>0.113062</td>\n",
       "      <td>0.022605</td>\n",
       "      <td>-0.287916</td>\n",
       "      <td>0.115376</td>\n",
       "      <td>-0.224737</td>\n",
       "      <td>-0.263453</td>\n",
       "      <td>-0.292240</td>\n",
       "      <td>0.633673</td>\n",
       "      <td>0.095762</td>\n",
       "      <td>-0.009413</td>\n",
       "      <td>0.685812</td>\n",
       "      <td>0.606066</td>\n",
       "      <td>-0.036684</td>\n",
       "      <td>0.322053</td>\n",
       "      <td>0.072221</td>\n",
       "      <td>1.000000</td>\n",
       "      <td>0.292123</td>\n",
       "      <td>0.292996</td>\n",
       "      <td>0.432486</td>\n",
       "      <td>0.535142</td>\n",
       "      <td>0.664979</td>\n",
       "      <td>0.394261</td>\n",
       "      <td>0.169583</td>\n",
       "      <td>0.460646</td>\n",
       "      <td>0.248213</td>\n",
       "      <td>0.285377</td>\n",
       "      <td>0.518792</td>\n",
       "    </tr>\n",
       "    <tr>\n",
       "      <th>allows_pets</th>\n",
       "      <td>0.040899</td>\n",
       "      <td>0.023819</td>\n",
       "      <td>0.087348</td>\n",
       "      <td>0.032325</td>\n",
       "      <td>-0.115378</td>\n",
       "      <td>0.015503</td>\n",
       "      <td>-0.153365</td>\n",
       "      <td>-0.144695</td>\n",
       "      <td>-0.160086</td>\n",
       "      <td>0.205669</td>\n",
       "      <td>0.044294</td>\n",
       "      <td>-0.006284</td>\n",
       "      <td>0.292331</td>\n",
       "      <td>0.243948</td>\n",
       "      <td>0.016961</td>\n",
       "      <td>0.256673</td>\n",
       "      <td>-0.014506</td>\n",
       "      <td>0.292123</td>\n",
       "      <td>1.000000</td>\n",
       "      <td>0.177554</td>\n",
       "      <td>0.180943</td>\n",
       "      <td>0.270345</td>\n",
       "      <td>0.266168</td>\n",
       "      <td>0.093398</td>\n",
       "      <td>0.130835</td>\n",
       "      <td>0.162443</td>\n",
       "      <td>0.149247</td>\n",
       "      <td>0.271594</td>\n",
       "      <td>0.175281</td>\n",
       "    </tr>\n",
       "    <tr>\n",
       "      <th>has_washer_dryer</th>\n",
       "      <td>-0.030651</td>\n",
       "      <td>0.117120</td>\n",
       "      <td>0.298722</td>\n",
       "      <td>0.263907</td>\n",
       "      <td>-0.113234</td>\n",
       "      <td>0.013967</td>\n",
       "      <td>-0.165555</td>\n",
       "      <td>-0.119801</td>\n",
       "      <td>-0.137143</td>\n",
       "      <td>0.177199</td>\n",
       "      <td>0.006949</td>\n",
       "      <td>0.035343</td>\n",
       "      <td>0.248036</td>\n",
       "      <td>0.203386</td>\n",
       "      <td>0.088507</td>\n",
       "      <td>0.334376</td>\n",
       "      <td>0.086711</td>\n",
       "      <td>0.292996</td>\n",
       "      <td>0.177554</td>\n",
       "      <td>1.000000</td>\n",
       "      <td>0.088676</td>\n",
       "      <td>0.239291</td>\n",
       "      <td>0.268367</td>\n",
       "      <td>0.106097</td>\n",
       "      <td>0.121955</td>\n",
       "      <td>0.191961</td>\n",
       "      <td>0.343123</td>\n",
       "      <td>0.120897</td>\n",
       "      <td>0.154859</td>\n",
       "    </tr>\n",
       "    <tr>\n",
       "      <th>has_garage</th>\n",
       "      <td>0.099141</td>\n",
       "      <td>-0.116837</td>\n",
       "      <td>0.051650</td>\n",
       "      <td>0.005959</td>\n",
       "      <td>-0.116047</td>\n",
       "      <td>0.057687</td>\n",
       "      <td>-0.055615</td>\n",
       "      <td>-0.089042</td>\n",
       "      <td>-0.109457</td>\n",
       "      <td>0.380581</td>\n",
       "      <td>0.084148</td>\n",
       "      <td>0.031686</td>\n",
       "      <td>0.406196</td>\n",
       "      <td>0.392328</td>\n",
       "      <td>-0.030127</td>\n",
       "      <td>0.212473</td>\n",
       "      <td>-0.002425</td>\n",
       "      <td>0.432486</td>\n",
       "      <td>0.180943</td>\n",
       "      <td>0.088676</td>\n",
       "      <td>1.000000</td>\n",
       "      <td>0.295535</td>\n",
       "      <td>0.383031</td>\n",
       "      <td>0.323507</td>\n",
       "      <td>0.148442</td>\n",
       "      <td>0.244646</td>\n",
       "      <td>0.095437</td>\n",
       "      <td>0.180798</td>\n",
       "      <td>0.311203</td>\n",
       "    </tr>\n",
       "    <tr>\n",
       "      <th>has_roofdeck</th>\n",
       "      <td>-0.012773</td>\n",
       "      <td>-0.085111</td>\n",
       "      <td>0.102592</td>\n",
       "      <td>0.026781</td>\n",
       "      <td>-0.107670</td>\n",
       "      <td>-0.000782</td>\n",
       "      <td>-0.168426</td>\n",
       "      <td>-0.112548</td>\n",
       "      <td>-0.135245</td>\n",
       "      <td>0.361168</td>\n",
       "      <td>0.082307</td>\n",
       "      <td>0.006643</td>\n",
       "      <td>0.421955</td>\n",
       "      <td>0.409244</td>\n",
       "      <td>-0.013023</td>\n",
       "      <td>0.286309</td>\n",
       "      <td>0.058287</td>\n",
       "      <td>0.535142</td>\n",
       "      <td>0.270345</td>\n",
       "      <td>0.239291</td>\n",
       "      <td>0.295535</td>\n",
       "      <td>1.000000</td>\n",
       "      <td>0.413147</td>\n",
       "      <td>0.193187</td>\n",
       "      <td>0.166055</td>\n",
       "      <td>0.297292</td>\n",
       "      <td>0.174243</td>\n",
       "      <td>0.260231</td>\n",
       "      <td>0.291481</td>\n",
       "    </tr>\n",
       "    <tr>\n",
       "      <th>has_concierge</th>\n",
       "      <td>-0.060398</td>\n",
       "      <td>-0.202524</td>\n",
       "      <td>0.105276</td>\n",
       "      <td>0.040962</td>\n",
       "      <td>-0.354300</td>\n",
       "      <td>0.146865</td>\n",
       "      <td>-0.270704</td>\n",
       "      <td>-0.323696</td>\n",
       "      <td>-0.346828</td>\n",
       "      <td>0.655252</td>\n",
       "      <td>0.085210</td>\n",
       "      <td>-0.013324</td>\n",
       "      <td>0.668138</td>\n",
       "      <td>0.526443</td>\n",
       "      <td>-0.025240</td>\n",
       "      <td>0.258104</td>\n",
       "      <td>0.076347</td>\n",
       "      <td>0.664979</td>\n",
       "      <td>0.266168</td>\n",
       "      <td>0.268367</td>\n",
       "      <td>0.383031</td>\n",
       "      <td>0.413147</td>\n",
       "      <td>1.000000</td>\n",
       "      <td>0.342509</td>\n",
       "      <td>0.179550</td>\n",
       "      <td>0.475757</td>\n",
       "      <td>0.260079</td>\n",
       "      <td>0.210697</td>\n",
       "      <td>0.535699</td>\n",
       "    </tr>\n",
       "    <tr>\n",
       "      <th>has_pool</th>\n",
       "      <td>0.038340</td>\n",
       "      <td>-0.091116</td>\n",
       "      <td>0.089527</td>\n",
       "      <td>0.051020</td>\n",
       "      <td>-0.193333</td>\n",
       "      <td>0.104243</td>\n",
       "      <td>-0.100606</td>\n",
       "      <td>-0.182156</td>\n",
       "      <td>-0.193851</td>\n",
       "      <td>0.498138</td>\n",
       "      <td>0.051083</td>\n",
       "      <td>-0.007238</td>\n",
       "      <td>0.340186</td>\n",
       "      <td>0.273776</td>\n",
       "      <td>0.000800</td>\n",
       "      <td>0.112804</td>\n",
       "      <td>0.054185</td>\n",
       "      <td>0.394261</td>\n",
       "      <td>0.093398</td>\n",
       "      <td>0.106097</td>\n",
       "      <td>0.323507</td>\n",
       "      <td>0.193187</td>\n",
       "      <td>0.342509</td>\n",
       "      <td>1.000000</td>\n",
       "      <td>0.088873</td>\n",
       "      <td>0.367574</td>\n",
       "      <td>0.170412</td>\n",
       "      <td>0.065794</td>\n",
       "      <td>0.398257</td>\n",
       "    </tr>\n",
       "    <tr>\n",
       "      <th>has_garden</th>\n",
       "      <td>0.064100</td>\n",
       "      <td>0.048234</td>\n",
       "      <td>0.104741</td>\n",
       "      <td>0.137652</td>\n",
       "      <td>-0.006699</td>\n",
       "      <td>0.000178</td>\n",
       "      <td>-0.038981</td>\n",
       "      <td>-0.007928</td>\n",
       "      <td>-0.021434</td>\n",
       "      <td>0.084536</td>\n",
       "      <td>0.006335</td>\n",
       "      <td>0.009395</td>\n",
       "      <td>0.142268</td>\n",
       "      <td>0.099298</td>\n",
       "      <td>0.049034</td>\n",
       "      <td>0.089919</td>\n",
       "      <td>0.034308</td>\n",
       "      <td>0.169583</td>\n",
       "      <td>0.130835</td>\n",
       "      <td>0.121955</td>\n",
       "      <td>0.148442</td>\n",
       "      <td>0.166055</td>\n",
       "      <td>0.179550</td>\n",
       "      <td>0.088873</td>\n",
       "      <td>1.000000</td>\n",
       "      <td>0.247550</td>\n",
       "      <td>0.138419</td>\n",
       "      <td>0.053346</td>\n",
       "      <td>0.062580</td>\n",
       "    </tr>\n",
       "    <tr>\n",
       "      <th>has_childrens_playroom</th>\n",
       "      <td>0.011357</td>\n",
       "      <td>-0.083456</td>\n",
       "      <td>0.111949</td>\n",
       "      <td>0.068867</td>\n",
       "      <td>-0.162588</td>\n",
       "      <td>0.066387</td>\n",
       "      <td>-0.140828</td>\n",
       "      <td>-0.144938</td>\n",
       "      <td>-0.169315</td>\n",
       "      <td>0.395460</td>\n",
       "      <td>0.051941</td>\n",
       "      <td>-0.007989</td>\n",
       "      <td>0.345234</td>\n",
       "      <td>0.304430</td>\n",
       "      <td>-0.010935</td>\n",
       "      <td>0.121131</td>\n",
       "      <td>0.059076</td>\n",
       "      <td>0.460646</td>\n",
       "      <td>0.162443</td>\n",
       "      <td>0.191961</td>\n",
       "      <td>0.244646</td>\n",
       "      <td>0.297292</td>\n",
       "      <td>0.475757</td>\n",
       "      <td>0.367574</td>\n",
       "      <td>0.247550</td>\n",
       "      <td>1.000000</td>\n",
       "      <td>0.193130</td>\n",
       "      <td>0.087075</td>\n",
       "      <td>0.322977</td>\n",
       "    </tr>\n",
       "    <tr>\n",
       "      <th>rent</th>\n",
       "      <td>-0.035145</td>\n",
       "      <td>0.353337</td>\n",
       "      <td>0.611987</td>\n",
       "      <td>0.649984</td>\n",
       "      <td>-0.325241</td>\n",
       "      <td>0.109536</td>\n",
       "      <td>-0.262711</td>\n",
       "      <td>-0.332165</td>\n",
       "      <td>-0.339157</td>\n",
       "      <td>0.253517</td>\n",
       "      <td>-0.001037</td>\n",
       "      <td>0.000010</td>\n",
       "      <td>0.273486</td>\n",
       "      <td>0.238692</td>\n",
       "      <td>0.163483</td>\n",
       "      <td>0.187002</td>\n",
       "      <td>0.133343</td>\n",
       "      <td>0.248213</td>\n",
       "      <td>0.149247</td>\n",
       "      <td>0.343123</td>\n",
       "      <td>0.095437</td>\n",
       "      <td>0.174243</td>\n",
       "      <td>0.260079</td>\n",
       "      <td>0.170412</td>\n",
       "      <td>0.138419</td>\n",
       "      <td>0.193130</td>\n",
       "      <td>1.000000</td>\n",
       "      <td>-0.001163</td>\n",
       "      <td>0.267151</td>\n",
       "    </tr>\n",
       "    <tr>\n",
       "      <th>no_fee</th>\n",
       "      <td>0.052429</td>\n",
       "      <td>-0.004335</td>\n",
       "      <td>-0.003053</td>\n",
       "      <td>-0.074162</td>\n",
       "      <td>-0.066025</td>\n",
       "      <td>0.002401</td>\n",
       "      <td>-0.041091</td>\n",
       "      <td>-0.111486</td>\n",
       "      <td>-0.126716</td>\n",
       "      <td>0.185316</td>\n",
       "      <td>0.049746</td>\n",
       "      <td>-0.005945</td>\n",
       "      <td>0.252027</td>\n",
       "      <td>0.228047</td>\n",
       "      <td>-0.052129</td>\n",
       "      <td>0.276597</td>\n",
       "      <td>-0.028827</td>\n",
       "      <td>0.285377</td>\n",
       "      <td>0.271594</td>\n",
       "      <td>0.120897</td>\n",
       "      <td>0.180798</td>\n",
       "      <td>0.260231</td>\n",
       "      <td>0.210697</td>\n",
       "      <td>0.065794</td>\n",
       "      <td>0.053346</td>\n",
       "      <td>0.087075</td>\n",
       "      <td>-0.001163</td>\n",
       "      <td>1.000000</td>\n",
       "      <td>0.157909</td>\n",
       "    </tr>\n",
       "    <tr>\n",
       "      <th>floornumber</th>\n",
       "      <td>-0.003418</td>\n",
       "      <td>-0.158895</td>\n",
       "      <td>0.116938</td>\n",
       "      <td>0.054328</td>\n",
       "      <td>-0.376063</td>\n",
       "      <td>0.170598</td>\n",
       "      <td>-0.239193</td>\n",
       "      <td>-0.350957</td>\n",
       "      <td>-0.367065</td>\n",
       "      <td>0.769707</td>\n",
       "      <td>0.095295</td>\n",
       "      <td>-0.012333</td>\n",
       "      <td>0.523314</td>\n",
       "      <td>0.453474</td>\n",
       "      <td>-0.008051</td>\n",
       "      <td>0.172159</td>\n",
       "      <td>0.090309</td>\n",
       "      <td>0.518792</td>\n",
       "      <td>0.175281</td>\n",
       "      <td>0.154859</td>\n",
       "      <td>0.311203</td>\n",
       "      <td>0.291481</td>\n",
       "      <td>0.535699</td>\n",
       "      <td>0.398257</td>\n",
       "      <td>0.062580</td>\n",
       "      <td>0.322977</td>\n",
       "      <td>0.267151</td>\n",
       "      <td>0.157909</td>\n",
       "      <td>1.000000</td>\n",
       "    </tr>\n",
       "  </tbody>\n",
       "</table>\n",
       "</div>"
      ],
      "text/plain": [
       "                        building_id  bedrooms  ...    no_fee  floornumber\n",
       "building_id                1.000000 -0.001813  ...  0.052429    -0.003418\n",
       "bedrooms                  -0.001813  1.000000  ... -0.004335    -0.158895\n",
       "bathrooms                 -0.016501  0.464287  ... -0.003053     0.116938\n",
       "size_sqft                 -0.006433  0.525537  ... -0.074162     0.054328\n",
       "addr_zip                   0.064199  0.187639  ... -0.066025    -0.376063\n",
       "addr_lat                  -0.008653 -0.114986  ...  0.002401     0.170598\n",
       "addr_lon                   0.105315  0.093089  ... -0.041091    -0.239193\n",
       "bin                        0.117460  0.142331  ... -0.111486    -0.350957\n",
       "bbl                        0.090194  0.151078  ... -0.126716    -0.367065\n",
       "floor_count               -0.116488 -0.228858  ...  0.185316     0.769707\n",
       "year_built                 0.026593 -0.056614  ...  0.049746     0.095295\n",
       "min_to_subway             -0.006980  0.014171  ... -0.005945    -0.012333\n",
       "has_doorman               -0.042830 -0.233059  ...  0.252027     0.523314\n",
       "has_elevator               0.061696 -0.278231  ...  0.228047     0.453474\n",
       "has_fireplace             -0.031611  0.049998  ... -0.052129    -0.008051\n",
       "has_dishwasher             0.023323  0.046002  ...  0.276597     0.172159\n",
       "is_furnished              -0.012521 -0.046021  ... -0.028827     0.090309\n",
       "has_gym                    0.004550 -0.206094  ...  0.285377     0.518792\n",
       "allows_pets                0.040899  0.023819  ...  0.271594     0.175281\n",
       "has_washer_dryer          -0.030651  0.117120  ...  0.120897     0.154859\n",
       "has_garage                 0.099141 -0.116837  ...  0.180798     0.311203\n",
       "has_roofdeck              -0.012773 -0.085111  ...  0.260231     0.291481\n",
       "has_concierge             -0.060398 -0.202524  ...  0.210697     0.535699\n",
       "has_pool                   0.038340 -0.091116  ...  0.065794     0.398257\n",
       "has_garden                 0.064100  0.048234  ...  0.053346     0.062580\n",
       "has_childrens_playroom     0.011357 -0.083456  ...  0.087075     0.322977\n",
       "rent                      -0.035145  0.353337  ... -0.001163     0.267151\n",
       "no_fee                     0.052429 -0.004335  ...  1.000000     0.157909\n",
       "floornumber               -0.003418 -0.158895  ...  0.157909     1.000000\n",
       "\n",
       "[29 rows x 29 columns]"
      ]
     },
     "execution_count": 12,
     "metadata": {
      "tags": []
     },
     "output_type": "execute_result"
    }
   ],
   "source": [
    "train_df.corr()"
   ]
  },
  {
   "cell_type": "code",
   "execution_count": 14,
   "metadata": {
    "colab": {
     "base_uri": "https://localhost:8080/",
     "height": 327
    },
    "colab_type": "code",
    "executionInfo": {
     "elapsed": 593,
     "status": "ok",
     "timestamp": 1574268467183,
     "user": {
      "displayName": "Jacinta Moore",
      "photoUrl": "",
      "userId": "14215851766389388616"
     },
     "user_tz": 300
    },
    "id": "OCUPl-BEr7L8",
    "outputId": "27abfd84-117a-4908-ba9f-8a0cec921884"
   },
   "outputs": [
    {
     "data": {
      "image/png": "[encoded data removed]",
      "text/plain": [
       "<Figure size 432x288 with 1 Axes>"
      ]
     },
     "metadata": {
      "tags": []
     },
     "output_type": "display_data"
    }
   ],
   "source": [
    "def heatmap(x, y, size):\n",
    "    fig, ax = plt.subplots()\n",
    "    \n",
    "    # Mapping from column names to integer coordinates\n",
    "    x_labels = [v for v in sorted(x.unique())]\n",
    "    y_labels = [v for v in sorted(y.unique())]\n",
    "    x_to_num = {p[1]:p[0] for p in enumerate(x_labels)} \n",
    "    y_to_num = {p[1]:p[0] for p in enumerate(y_labels)} \n",
    "    \n",
    "    size_scale = 500\n",
    "    ax.scatter(\n",
    "        x=x.map(x_to_num), # Use mapping for x\n",
    "        y=y.map(y_to_num), # Use mapping for y\n",
    "        s=size * size_scale, # Vector of square sizes, proportional to size parameter\n",
    "        marker='s' # Use square as scatterplot marker\n",
    "    )\n",
    "    \n",
    "    # Show column labels on the axes\n",
    "    ax.set_xticks([x_to_num[v] for v in x_labels])\n",
    "    ax.set_xticklabels(x_labels, rotation=45, horizontalalignment='right')\n",
    "    ax.set_yticks([y_to_num[v] for v in y_labels])\n",
    "    ax.set_yticklabels(y_labels)\n",
    "    \n",
    "\n",
    "columns = [\n",
    "    'bedrooms', 'year_built', 'bathrooms', 'min_to_subway', \n",
    "    'size_sqft', 'no_fee', 'has_doorman', 'rent', 'has_washer_dryer', 'has_concierge', 'floornumber'\n",
    "]\n",
    "corr = train_df[columns].corr()\n",
    "corr = pd.melt(corr.reset_index(), id_vars='index') # Unpivot the dataframe, so we can get pair of arrays for x and y\n",
    "corr.columns = ['x', 'y', 'value']\n",
    "heatmap(\n",
    "    x=corr['x'],\n",
    "    y=corr['y'],\n",
    "    size=corr['value'].abs()\n",
    ")"
   ]
  },
  {
   "cell_type": "code",
   "execution_count": 16,
   "metadata": {
    "colab": {
     "base_uri": "https://localhost:8080/",
     "height": 265
    },
    "colab_type": "code",
    "executionInfo": {
     "elapsed": 857,
     "status": "ok",
     "timestamp": 1574268500700,
     "user": {
      "displayName": "Jacinta Moore",
      "photoUrl": "",
      "userId": "14215851766389388616"
     },
     "user_tz": 300
    },
    "id": "Pe5SOF-Nr7kZ",
    "outputId": "181857ac-4ccf-4609-8d0e-10b749c24357"
   },
   "outputs": [
    {
     "data": {
      "image/png": "[encoded data removed]",
      "text/plain": [
       "<Figure size 432x288 with 1 Axes>"
      ]
     },
     "metadata": {
      "tags": []
     },
     "output_type": "display_data"
    }
   ],
   "source": [
    "_ = plt.plot(train_df['rent'], train_df['size_sqft'], marker='.', linestyle='none')"
   ]
  },
  {
   "cell_type": "code",
   "execution_count": 17,
   "metadata": {
    "colab": {
     "base_uri": "https://localhost:8080/",
     "height": 265
    },
    "colab_type": "code",
    "executionInfo": {
     "elapsed": 556,
     "status": "ok",
     "timestamp": 1574268528088,
     "user": {
      "displayName": "Jacinta Moore",
      "photoUrl": "",
      "userId": "14215851766389388616"
     },
     "user_tz": 300
    },
    "id": "gqlfNGGctxXa",
    "outputId": "bec22ef2-7d47-4e07-d713-60c06d961242"
   },
   "outputs": [
    {
     "data": {
      "image/png": "[encoded data removed]",
      "text/plain": [
       "<Figure size 432x288 with 1 Axes>"
      ]
     },
     "metadata": {
      "tags": []
     },
     "output_type": "display_data"
    }
   ],
   "source": [
    "_ = plt.plot(train_df['rent'], train_df['bathrooms'], marker='.', linestyle='none')"
   ]
  },
  {
   "cell_type": "code",
   "execution_count": 51,
   "metadata": {
    "colab": {
     "base_uri": "https://localhost:8080/",
     "height": 265
    },
    "colab_type": "code",
    "executionInfo": {
     "elapsed": 728,
     "status": "ok",
     "timestamp": 1574269927866,
     "user": {
      "displayName": "Jacinta Moore",
      "photoUrl": "",
      "userId": "14215851766389388616"
     },
     "user_tz": 300
    },
    "id": "8vhR-bRdzG0X",
    "outputId": "54a43449-e71a-4bb7-8f23-6005c80cdd93"
   },
   "outputs": [
    {
     "data": {
      "image/png": "[encoded data removed]",
      "text/plain": [
       "<Figure size 432x288 with 1 Axes>"
      ]
     },
     "metadata": {
      "tags": []
     },
     "output_type": "display_data"
    }
   ],
   "source": [
    "_ = plt.plot(train_df['rent'], train_df['bedrooms'], marker='.', linestyle='none')"
   ]
  },
  {
   "cell_type": "code",
   "execution_count": 0,
   "metadata": {
    "colab": {},
    "colab_type": "code",
    "id": "sB4zNUHzuY-G"
   },
   "outputs": [],
   "source": [
    "# extract usable features\n",
    "feature_cols = [\n",
    "    'bedrooms', 'year_built', 'bathrooms', 'min_to_subway', \n",
    "    'size_sqft', 'no_fee', 'has_doorman',  'has_washer_dryer', 'floornumber'\n",
    "]\n",
    "train_features = train_df[feature_cols] "
   ]
  },
  {
   "cell_type": "markdown",
   "metadata": {
    "colab_type": "text",
    "id": "HgGR6M-aojEZ"
   },
   "source": [
    "## Data Preprocessing\n",
    "\n",
    "This section we look at missing data and outliers and deal with these\n",
    "\n"
   ]
  },
  {
   "cell_type": "markdown",
   "metadata": {
    "colab_type": "text",
    "id": "m2jx_CgDtHyB"
   },
   "source": [
    "#### 1. Missing Data\n",
    "'min_to_subway', 'year_built' , 'floornumber' have NaNs. Solutions: drop or impute. This round we will impute as the feature 'floornumber' has 10% (1200) values missing and dropping this would reduce the data to only 10,000 points. "
   ]
  },
  {
   "cell_type": "code",
   "execution_count": 25,
   "metadata": {
    "colab": {
     "base_uri": "https://localhost:8080/",
     "height": 34
    },
    "colab_type": "code",
    "executionInfo": {
     "elapsed": 524,
     "status": "ok",
     "timestamp": 1574269168983,
     "user": {
      "displayName": "Jacinta Moore",
      "photoUrl": "",
      "userId": "14215851766389388616"
     },
     "user_tz": 300
    },
    "id": "2R36HvWvudbC",
    "outputId": "8c794102-2d16-4b44-bd6b-f240b5ba1d42"
   },
   "outputs": [
    {
     "data": {
      "text/plain": [
       "0"
      ]
     },
     "execution_count": 25,
     "metadata": {
      "tags": []
     },
     "output_type": "execute_result"
    }
   ],
   "source": [
    "train_df['bedrooms'].isna().sum()\n"
   ]
  },
  {
   "cell_type": "code",
   "execution_count": 29,
   "metadata": {
    "colab": {
     "base_uri": "https://localhost:8080/",
     "height": 34
    },
    "colab_type": "code",
    "executionInfo": {
     "elapsed": 749,
     "status": "ok",
     "timestamp": 1574269176217,
     "user": {
      "displayName": "Jacinta Moore",
      "photoUrl": "",
      "userId": "14215851766389388616"
     },
     "user_tz": 300
    },
    "id": "3hHU0IGOv8Na",
    "outputId": "27b71d33-799d-4a87-b676-156d738fef20"
   },
   "outputs": [
    {
     "data": {
      "text/plain": [
       "403"
      ]
     },
     "execution_count": 29,
     "metadata": {
      "tags": []
     },
     "output_type": "execute_result"
    }
   ],
   "source": [
    "train_df['year_built'].isna().sum()"
   ]
  },
  {
   "cell_type": "code",
   "execution_count": 27,
   "metadata": {
    "colab": {
     "base_uri": "https://localhost:8080/",
     "height": 34
    },
    "colab_type": "code",
    "executionInfo": {
     "elapsed": 419,
     "status": "ok",
     "timestamp": 1574269171652,
     "user": {
      "displayName": "Jacinta Moore",
      "photoUrl": "",
      "userId": "14215851766389388616"
     },
     "user_tz": 300
    },
    "id": "sxjWSZD7v8gO",
    "outputId": "da18bc25-1241-4cce-cec0-0563fc96f49a"
   },
   "outputs": [
    {
     "data": {
      "text/plain": [
       "0"
      ]
     },
     "execution_count": 27,
     "metadata": {
      "tags": []
     },
     "output_type": "execute_result"
    }
   ],
   "source": [
    "train_df['bathrooms'].isna().sum()"
   ]
  },
  {
   "cell_type": "code",
   "execution_count": 28,
   "metadata": {
    "colab": {
     "base_uri": "https://localhost:8080/",
     "height": 34
    },
    "colab_type": "code",
    "executionInfo": {
     "elapsed": 430,
     "status": "ok",
     "timestamp": 1574269173256,
     "user": {
      "displayName": "Jacinta Moore",
      "photoUrl": "",
      "userId": "14215851766389388616"
     },
     "user_tz": 300
    },
    "id": "-4GEN3upv8wT",
    "outputId": "36372df1-f6b2-466d-a653-2b5cb8ffe1bf"
   },
   "outputs": [
    {
     "data": {
      "text/plain": [
       "126"
      ]
     },
     "execution_count": 28,
     "metadata": {
      "tags": []
     },
     "output_type": "execute_result"
    }
   ],
   "source": [
    "train_df['min_to_subway'].isna().sum()"
   ]
  },
  {
   "cell_type": "code",
   "execution_count": 30,
   "metadata": {
    "colab": {
     "base_uri": "https://localhost:8080/",
     "height": 34
    },
    "colab_type": "code",
    "executionInfo": {
     "elapsed": 412,
     "status": "ok",
     "timestamp": 1574269178762,
     "user": {
      "displayName": "Jacinta Moore",
      "photoUrl": "",
      "userId": "14215851766389388616"
     },
     "user_tz": 300
    },
    "id": "9JHTWqHYv8_z",
    "outputId": "8f522428-b644-4cb9-f6ed-6d8d2640dd54"
   },
   "outputs": [
    {
     "data": {
      "text/plain": [
       "0"
      ]
     },
     "execution_count": 30,
     "metadata": {
      "tags": []
     },
     "output_type": "execute_result"
    }
   ],
   "source": [
    "train_df['size_sqft'].isna().sum()"
   ]
  },
  {
   "cell_type": "code",
   "execution_count": 31,
   "metadata": {
    "colab": {
     "base_uri": "https://localhost:8080/",
     "height": 34
    },
    "colab_type": "code",
    "executionInfo": {
     "elapsed": 670,
     "status": "ok",
     "timestamp": 1574269182871,
     "user": {
      "displayName": "Jacinta Moore",
      "photoUrl": "",
      "userId": "14215851766389388616"
     },
     "user_tz": 300
    },
    "id": "wiaSyv9qv9QI",
    "outputId": "450ef1ef-08b6-45ad-ef3a-cd3f8ee31a8e"
   },
   "outputs": [
    {
     "data": {
      "text/plain": [
       "0"
      ]
     },
     "execution_count": 31,
     "metadata": {
      "tags": []
     },
     "output_type": "execute_result"
    }
   ],
   "source": [
    "train_df['no_fee'].isna().sum()"
   ]
  },
  {
   "cell_type": "code",
   "execution_count": 32,
   "metadata": {
    "colab": {
     "base_uri": "https://localhost:8080/",
     "height": 34
    },
    "colab_type": "code",
    "executionInfo": {
     "elapsed": 549,
     "status": "ok",
     "timestamp": 1574269184735,
     "user": {
      "displayName": "Jacinta Moore",
      "photoUrl": "",
      "userId": "14215851766389388616"
     },
     "user_tz": 300
    },
    "id": "dTp4ZaChwILQ",
    "outputId": "625c4d7b-7dab-4da8-9f29-af38c2c43782"
   },
   "outputs": [
    {
     "data": {
      "text/plain": [
       "0"
      ]
     },
     "execution_count": 32,
     "metadata": {
      "tags": []
     },
     "output_type": "execute_result"
    }
   ],
   "source": [
    "train_df['has_doorman'].isna().sum()"
   ]
  },
  {
   "cell_type": "code",
   "execution_count": 33,
   "metadata": {
    "colab": {
     "base_uri": "https://localhost:8080/",
     "height": 34
    },
    "colab_type": "code",
    "executionInfo": {
     "elapsed": 594,
     "status": "ok",
     "timestamp": 1574269186482,
     "user": {
      "displayName": "Jacinta Moore",
      "photoUrl": "",
      "userId": "14215851766389388616"
     },
     "user_tz": 300
    },
    "id": "6eBdNYVgwIfG",
    "outputId": "bf031996-01fc-4808-ce31-d3055237cd20"
   },
   "outputs": [
    {
     "data": {
      "text/plain": [
       "0"
      ]
     },
     "execution_count": 33,
     "metadata": {
      "tags": []
     },
     "output_type": "execute_result"
    }
   ],
   "source": [
    "train_df['has_washer_dryer'].isna().sum()"
   ]
  },
  {
   "cell_type": "code",
   "execution_count": 37,
   "metadata": {
    "colab": {
     "base_uri": "https://localhost:8080/",
     "height": 34
    },
    "colab_type": "code",
    "executionInfo": {
     "elapsed": 401,
     "status": "ok",
     "timestamp": 1574269427727,
     "user": {
      "displayName": "Jacinta Moore",
      "photoUrl": "",
      "userId": "14215851766389388616"
     },
     "user_tz": 300
    },
    "id": "IjUpxThGwLGD",
    "outputId": "ee98f9bd-2027-4059-a1eb-5aa70fbf4775"
   },
   "outputs": [
    {
     "data": {
      "text/plain": [
       "1277"
      ]
     },
     "execution_count": 37,
     "metadata": {
      "tags": []
     },
     "output_type": "execute_result"
    }
   ],
   "source": [
    "train_df['floornumber'].isna().sum()"
   ]
  },
  {
   "cell_type": "code",
   "execution_count": 40,
   "metadata": {
    "colab": {
     "base_uri": "https://localhost:8080/",
     "height": 168
    },
    "colab_type": "code",
    "executionInfo": {
     "elapsed": 411,
     "status": "ok",
     "timestamp": 1574269501520,
     "user": {
      "displayName": "Jacinta Moore",
      "photoUrl": "",
      "userId": "14215851766389388616"
     },
     "user_tz": 300
    },
    "id": "19X_Je-ixdib",
    "outputId": "ef7662ad-ce7e-4a1e-a80e-dcbcbb91a292"
   },
   "outputs": [
    {
     "data": {
      "text/plain": [
       "count    10723.000000\n",
       "mean         6.182738\n",
       "std          7.671545\n",
       "min          0.000000\n",
       "25%          2.000000\n",
       "50%          3.000000\n",
       "75%          6.000000\n",
       "max         78.000000\n",
       "Name: floornumber, dtype: float64"
      ]
     },
     "execution_count": 40,
     "metadata": {
      "tags": []
     },
     "output_type": "execute_result"
    }
   ],
   "source": [
    "train_df['floornumber'].describe()"
   ]
  },
  {
   "cell_type": "code",
   "execution_count": 44,
   "metadata": {
    "colab": {
     "base_uri": "https://localhost:8080/",
     "height": 168
    },
    "colab_type": "code",
    "executionInfo": {
     "elapsed": 407,
     "status": "ok",
     "timestamp": 1574269613053,
     "user": {
      "displayName": "Jacinta Moore",
      "photoUrl": "",
      "userId": "14215851766389388616"
     },
     "user_tz": 300
    },
    "id": "m0Lsg3gAx798",
    "outputId": "f7602dfa-1d09-44fe-b552-d43d1478b133"
   },
   "outputs": [
    {
     "data": {
      "text/plain": [
       "count     11874.000000\n",
       "mean         73.588716\n",
       "std        2681.611157\n",
       "min           0.016700\n",
       "25%           1.616700\n",
       "50%           2.750000\n",
       "75%           4.366700\n",
       "max      103343.616700\n",
       "Name: min_to_subway, dtype: float64"
      ]
     },
     "execution_count": 44,
     "metadata": {
      "tags": []
     },
     "output_type": "execute_result"
    }
   ],
   "source": [
    "train_df['min_to_subway'].describe()"
   ]
  },
  {
   "cell_type": "code",
   "execution_count": 45,
   "metadata": {
    "colab": {
     "base_uri": "https://localhost:8080/",
     "height": 168
    },
    "colab_type": "code",
    "executionInfo": {
     "elapsed": 456,
     "status": "ok",
     "timestamp": 1574269623121,
     "user": {
      "displayName": "Jacinta Moore",
      "photoUrl": "",
      "userId": "14215851766389388616"
     },
     "user_tz": 300
    },
    "id": "ZYg37N89x8aQ",
    "outputId": "90f3dd7b-8e18-4c49-a3d7-c6895590ae5a"
   },
   "outputs": [
    {
     "data": {
      "text/plain": [
       "count    11597.000000\n",
       "mean      1935.982668\n",
       "std        158.157134\n",
       "min          0.000000\n",
       "25%       1915.000000\n",
       "50%       1931.000000\n",
       "75%       1987.000000\n",
       "max       2019.000000\n",
       "Name: year_built, dtype: float64"
      ]
     },
     "execution_count": 45,
     "metadata": {
      "tags": []
     },
     "output_type": "execute_result"
    }
   ],
   "source": [
    "train_df['year_built'].describe()"
   ]
  },
  {
   "cell_type": "markdown",
   "metadata": {
    "colab_type": "text",
    "id": "gQw2F3DKyQTz"
   },
   "source": [
    "The features all have large outliers that result in a much higher mean than median so we will use median for the impute value for the missing values. "
   ]
  },
  {
   "cell_type": "code",
   "execution_count": 0,
   "metadata": {
    "colab": {},
    "colab_type": "code",
    "id": "smFM_TWEuXz9"
   },
   "outputs": [],
   "source": [
    "# impute missing values with medians\n",
    "train_features = train_features.fillna(train_features.median(), axis=0)\n",
    "\n",
    "# construct target vector\n",
    "train_target = train_df['rent']"
   ]
  },
  {
   "cell_type": "markdown",
   "metadata": {
    "colab_type": "text",
    "id": "_mMjb8rGsjXG"
   },
   "source": [
    "#### 2. Outlier Data\n",
    "From the above analysis it can be seen that the size_sqft and bathrooms have the value 0 for some data points. It is not possible for a rental space to have no size and it unusal for no bathroom in a rental. "
   ]
  },
  {
   "cell_type": "code",
   "execution_count": 52,
   "metadata": {
    "colab": {
     "base_uri": "https://localhost:8080/",
     "height": 34
    },
    "colab_type": "code",
    "executionInfo": {
     "elapsed": 398,
     "status": "ok",
     "timestamp": 1574270008054,
     "user": {
      "displayName": "Jacinta Moore",
      "photoUrl": "",
      "userId": "14215851766389388616"
     },
     "user_tz": 300
    },
    "id": "816TIZKRsjJH",
    "outputId": "64d80b15-5ae4-44f9-ce6f-0689aa925c30"
   },
   "outputs": [
    {
     "data": {
      "text/plain": [
       "841"
      ]
     },
     "execution_count": 52,
     "metadata": {
      "tags": []
     },
     "output_type": "execute_result"
    }
   ],
   "source": [
    "(train_features['size_sqft']==0).sum()\n",
    "## 841 values have outlier value of 0 for size_sqft"
   ]
  },
  {
   "cell_type": "code",
   "execution_count": 53,
   "metadata": {
    "colab": {
     "base_uri": "https://localhost:8080/",
     "height": 34
    },
    "colab_type": "code",
    "executionInfo": {
     "elapsed": 406,
     "status": "ok",
     "timestamp": 1574270009715,
     "user": {
      "displayName": "Jacinta Moore",
      "photoUrl": "",
      "userId": "14215851766389388616"
     },
     "user_tz": 300
    },
    "id": "BOOKcH1Yh1oN",
    "outputId": "ad1f6e3b-8da2-41af-9cee-76171921f4d1"
   },
   "outputs": [
    {
     "data": {
      "text/plain": [
       "4"
      ]
     },
     "execution_count": 53,
     "metadata": {
      "tags": []
     },
     "output_type": "execute_result"
    }
   ],
   "source": [
    "(train_features['bathrooms']==0).sum()\n",
    "## 841 values have outlier value of 0 for size_sqft"
   ]
  },
  {
   "cell_type": "code",
   "execution_count": 54,
   "metadata": {
    "colab": {
     "base_uri": "https://localhost:8080/",
     "height": 34
    },
    "colab_type": "code",
    "executionInfo": {
     "elapsed": 424,
     "status": "ok",
     "timestamp": 1574270011276,
     "user": {
      "displayName": "Jacinta Moore",
      "photoUrl": "",
      "userId": "14215851766389388616"
     },
     "user_tz": 300
    },
    "id": "7jcdosFlyvaH",
    "outputId": "fc5efc46-6834-420d-d447-910e42ac3552"
   },
   "outputs": [
    {
     "data": {
      "text/plain": [
       "1556"
      ]
     },
     "execution_count": 54,
     "metadata": {
      "tags": []
     },
     "output_type": "execute_result"
    }
   ],
   "source": [
    "(train_features['bedrooms']==0).sum()\n",
    "## 841 values have outlier value of 0 for size_sqft"
   ]
  },
  {
   "cell_type": "markdown",
   "metadata": {
    "colab_type": "text",
    "id": "2RqfEddy32cf"
   },
   "source": [
    "##### Large data points"
   ]
  },
  {
   "cell_type": "code",
   "execution_count": 0,
   "metadata": {
    "colab": {},
    "colab_type": "code",
    "id": "ZpVZasEf0ubq"
   },
   "outputs": [],
   "source": [
    "o_df = train_df.loc[train_df.size_sqft>=8000]"
   ]
  },
  {
   "cell_type": "code",
   "execution_count": 67,
   "metadata": {
    "colab": {
     "base_uri": "https://localhost:8080/",
     "height": 387
    },
    "colab_type": "code",
    "executionInfo": {
     "elapsed": 525,
     "status": "ok",
     "timestamp": 1574270638865,
     "user": {
      "displayName": "Jacinta Moore",
      "photoUrl": "",
      "userId": "14215851766389388616"
     },
     "user_tz": 300
    },
    "id": "7bVrJjpC1qYI",
    "outputId": "0b028906-5d11-4766-e3c2-81d53d2d7094"
   },
   "outputs": [
    {
     "data": {
      "text/html": [
       "<div>\n",
       "<style scoped>\n",
       "    .dataframe tbody tr th:only-of-type {\n",
       "        vertical-align: middle;\n",
       "    }\n",
       "\n",
       "    .dataframe tbody tr th {\n",
       "        vertical-align: top;\n",
       "    }\n",
       "\n",
       "    .dataframe thead th {\n",
       "        text-align: right;\n",
       "    }\n",
       "</style>\n",
       "<table border=\"1\" class=\"dataframe\">\n",
       "  <thead>\n",
       "    <tr style=\"text-align: right;\">\n",
       "      <th></th>\n",
       "      <th>addr_unit</th>\n",
       "      <th>building_id</th>\n",
       "      <th>bedrooms</th>\n",
       "      <th>bathrooms</th>\n",
       "      <th>size_sqft</th>\n",
       "      <th>created_at</th>\n",
       "      <th>addr_street</th>\n",
       "      <th>addr_city</th>\n",
       "      <th>addr_zip</th>\n",
       "      <th>addr_lat</th>\n",
       "      <th>addr_lon</th>\n",
       "      <th>bin</th>\n",
       "      <th>bbl</th>\n",
       "      <th>floor_count</th>\n",
       "      <th>year_built</th>\n",
       "      <th>min_to_subway</th>\n",
       "      <th>has_doorman</th>\n",
       "      <th>has_elevator</th>\n",
       "      <th>has_fireplace</th>\n",
       "      <th>has_dishwasher</th>\n",
       "      <th>is_furnished</th>\n",
       "      <th>has_gym</th>\n",
       "      <th>allows_pets</th>\n",
       "      <th>has_washer_dryer</th>\n",
       "      <th>has_garage</th>\n",
       "      <th>has_roofdeck</th>\n",
       "      <th>has_concierge</th>\n",
       "      <th>has_pool</th>\n",
       "      <th>has_garden</th>\n",
       "      <th>has_childrens_playroom</th>\n",
       "      <th>rent</th>\n",
       "      <th>no_fee</th>\n",
       "      <th>description</th>\n",
       "      <th>neighborhood</th>\n",
       "      <th>borough</th>\n",
       "      <th>unit</th>\n",
       "      <th>floornumber</th>\n",
       "      <th>line</th>\n",
       "    </tr>\n",
       "    <tr>\n",
       "      <th>rental_id</th>\n",
       "      <th></th>\n",
       "      <th></th>\n",
       "      <th></th>\n",
       "      <th></th>\n",
       "      <th></th>\n",
       "      <th></th>\n",
       "      <th></th>\n",
       "      <th></th>\n",
       "      <th></th>\n",
       "      <th></th>\n",
       "      <th></th>\n",
       "      <th></th>\n",
       "      <th></th>\n",
       "      <th></th>\n",
       "      <th></th>\n",
       "      <th></th>\n",
       "      <th></th>\n",
       "      <th></th>\n",
       "      <th></th>\n",
       "      <th></th>\n",
       "      <th></th>\n",
       "      <th></th>\n",
       "      <th></th>\n",
       "      <th></th>\n",
       "      <th></th>\n",
       "      <th></th>\n",
       "      <th></th>\n",
       "      <th></th>\n",
       "      <th></th>\n",
       "      <th></th>\n",
       "      <th></th>\n",
       "      <th></th>\n",
       "      <th></th>\n",
       "      <th></th>\n",
       "      <th></th>\n",
       "      <th></th>\n",
       "      <th></th>\n",
       "      <th></th>\n",
       "    </tr>\n",
       "  </thead>\n",
       "  <tbody>\n",
       "    <tr>\n",
       "      <th>7410124</th>\n",
       "      <td>#47</td>\n",
       "      <td>18246988</td>\n",
       "      <td>2</td>\n",
       "      <td>1.0</td>\n",
       "      <td>8500.0</td>\n",
       "      <td>2018-07-25 20:14:29</td>\n",
       "      <td>180 72 STREET</td>\n",
       "      <td>Brooklyn</td>\n",
       "      <td>11209</td>\n",
       "      <td>40.633999</td>\n",
       "      <td>-74.030701</td>\n",
       "      <td>3337149.0</td>\n",
       "      <td>3059060018</td>\n",
       "      <td>0.0</td>\n",
       "      <td>NaN</td>\n",
       "      <td>6.2000</td>\n",
       "      <td>0</td>\n",
       "      <td>1</td>\n",
       "      <td>0</td>\n",
       "      <td>1</td>\n",
       "      <td>0</td>\n",
       "      <td>0</td>\n",
       "      <td>1</td>\n",
       "      <td>0</td>\n",
       "      <td>0</td>\n",
       "      <td>0</td>\n",
       "      <td>0</td>\n",
       "      <td>0</td>\n",
       "      <td>1</td>\n",
       "      <td>0</td>\n",
       "      <td>2400</td>\n",
       "      <td>0</td>\n",
       "      <td>HOT!! HUGE 2 BEDROOM IN A BEAUTIFUL PREWAR  BU...</td>\n",
       "      <td>Bay Ridge</td>\n",
       "      <td>Brooklyn</td>\n",
       "      <td>47</td>\n",
       "      <td>47.0</td>\n",
       "      <td>NaN</td>\n",
       "    </tr>\n",
       "    <tr>\n",
       "      <th>7352536</th>\n",
       "      <td>#2</td>\n",
       "      <td>683038</td>\n",
       "      <td>2</td>\n",
       "      <td>1.0</td>\n",
       "      <td>10000.0</td>\n",
       "      <td>2018-07-10 18:03:07</td>\n",
       "      <td>1120 76 STREET</td>\n",
       "      <td>Brooklyn</td>\n",
       "      <td>11228</td>\n",
       "      <td>40.621860</td>\n",
       "      <td>-74.012089</td>\n",
       "      <td>3160481.0</td>\n",
       "      <td>3062310013</td>\n",
       "      <td>3.0</td>\n",
       "      <td>1955.0</td>\n",
       "      <td>11.9833</td>\n",
       "      <td>0</td>\n",
       "      <td>0</td>\n",
       "      <td>0</td>\n",
       "      <td>0</td>\n",
       "      <td>0</td>\n",
       "      <td>0</td>\n",
       "      <td>0</td>\n",
       "      <td>0</td>\n",
       "      <td>0</td>\n",
       "      <td>0</td>\n",
       "      <td>0</td>\n",
       "      <td>0</td>\n",
       "      <td>1</td>\n",
       "      <td>0</td>\n",
       "      <td>2300</td>\n",
       "      <td>0</td>\n",
       "      <td>Beautiful two bedroom apartment in private hou...</td>\n",
       "      <td>Dyker Heights</td>\n",
       "      <td>Brooklyn</td>\n",
       "      <td>2</td>\n",
       "      <td>2.0</td>\n",
       "      <td>NaN</td>\n",
       "    </tr>\n",
       "    <tr>\n",
       "      <th>7148494</th>\n",
       "      <td>#3</td>\n",
       "      <td>1493896</td>\n",
       "      <td>5</td>\n",
       "      <td>1.0</td>\n",
       "      <td>9999.0</td>\n",
       "      <td>2018-05-04 17:04:02</td>\n",
       "      <td>801 WOODWARD AVENUE</td>\n",
       "      <td>Ridgewood</td>\n",
       "      <td>11385</td>\n",
       "      <td>40.703639</td>\n",
       "      <td>-73.903097</td>\n",
       "      <td>4083359.0</td>\n",
       "      <td>4034820062</td>\n",
       "      <td>3.0</td>\n",
       "      <td>1901.0</td>\n",
       "      <td>1.4000</td>\n",
       "      <td>0</td>\n",
       "      <td>0</td>\n",
       "      <td>0</td>\n",
       "      <td>0</td>\n",
       "      <td>0</td>\n",
       "      <td>0</td>\n",
       "      <td>1</td>\n",
       "      <td>0</td>\n",
       "      <td>0</td>\n",
       "      <td>0</td>\n",
       "      <td>0</td>\n",
       "      <td>0</td>\n",
       "      <td>0</td>\n",
       "      <td>0</td>\n",
       "      <td>4000</td>\n",
       "      <td>1</td>\n",
       "      <td>NO FEE! Expansive, true 5BR/1.5BA full-floor a...</td>\n",
       "      <td>Ridgewood</td>\n",
       "      <td>Queens</td>\n",
       "      <td>3</td>\n",
       "      <td>3.0</td>\n",
       "      <td>NaN</td>\n",
       "    </tr>\n",
       "  </tbody>\n",
       "</table>\n",
       "</div>"
      ],
      "text/plain": [
       "          addr_unit  building_id  bedrooms  ...  unit  floornumber line\n",
       "rental_id                                   ...                        \n",
       "7410124         #47     18246988         2  ...    47         47.0  NaN\n",
       "7352536          #2       683038         2  ...     2          2.0  NaN\n",
       "7148494          #3      1493896         5  ...     3          3.0  NaN\n",
       "\n",
       "[3 rows x 38 columns]"
      ]
     },
     "execution_count": 67,
     "metadata": {
      "tags": []
     },
     "output_type": "execute_result"
    }
   ],
   "source": [
    "o_df"
   ]
  },
  {
   "cell_type": "code",
   "execution_count": 72,
   "metadata": {
    "colab": {
     "base_uri": "https://localhost:8080/",
     "height": 547
    },
    "colab_type": "code",
    "executionInfo": {
     "elapsed": 400,
     "status": "ok",
     "timestamp": 1574271099355,
     "user": {
      "displayName": "Jacinta Moore",
      "photoUrl": "",
      "userId": "14215851766389388616"
     },
     "user_tz": 300
    },
    "id": "WTVs29D52N2_",
    "outputId": "5ca30304-0837-4658-b65b-13fac4edaf88"
   },
   "outputs": [
    {
     "data": {
      "text/html": [
       "<div>\n",
       "<style scoped>\n",
       "    .dataframe tbody tr th:only-of-type {\n",
       "        vertical-align: middle;\n",
       "    }\n",
       "\n",
       "    .dataframe tbody tr th {\n",
       "        vertical-align: top;\n",
       "    }\n",
       "\n",
       "    .dataframe thead th {\n",
       "        text-align: right;\n",
       "    }\n",
       "</style>\n",
       "<table border=\"1\" class=\"dataframe\">\n",
       "  <thead>\n",
       "    <tr style=\"text-align: right;\">\n",
       "      <th></th>\n",
       "      <th>addr_unit</th>\n",
       "      <th>building_id</th>\n",
       "      <th>bedrooms</th>\n",
       "      <th>bathrooms</th>\n",
       "      <th>size_sqft</th>\n",
       "      <th>created_at</th>\n",
       "      <th>addr_street</th>\n",
       "      <th>addr_city</th>\n",
       "      <th>addr_zip</th>\n",
       "      <th>addr_lat</th>\n",
       "      <th>addr_lon</th>\n",
       "      <th>bin</th>\n",
       "      <th>bbl</th>\n",
       "      <th>floor_count</th>\n",
       "      <th>year_built</th>\n",
       "      <th>min_to_subway</th>\n",
       "      <th>has_doorman</th>\n",
       "      <th>has_elevator</th>\n",
       "      <th>has_fireplace</th>\n",
       "      <th>has_dishwasher</th>\n",
       "      <th>is_furnished</th>\n",
       "      <th>has_gym</th>\n",
       "      <th>allows_pets</th>\n",
       "      <th>has_washer_dryer</th>\n",
       "      <th>has_garage</th>\n",
       "      <th>has_roofdeck</th>\n",
       "      <th>has_concierge</th>\n",
       "      <th>has_pool</th>\n",
       "      <th>has_garden</th>\n",
       "      <th>has_childrens_playroom</th>\n",
       "      <th>rent</th>\n",
       "      <th>no_fee</th>\n",
       "      <th>description</th>\n",
       "      <th>neighborhood</th>\n",
       "      <th>borough</th>\n",
       "      <th>unit</th>\n",
       "      <th>floornumber</th>\n",
       "      <th>line</th>\n",
       "    </tr>\n",
       "    <tr>\n",
       "      <th>rental_id</th>\n",
       "      <th></th>\n",
       "      <th></th>\n",
       "      <th></th>\n",
       "      <th></th>\n",
       "      <th></th>\n",
       "      <th></th>\n",
       "      <th></th>\n",
       "      <th></th>\n",
       "      <th></th>\n",
       "      <th></th>\n",
       "      <th></th>\n",
       "      <th></th>\n",
       "      <th></th>\n",
       "      <th></th>\n",
       "      <th></th>\n",
       "      <th></th>\n",
       "      <th></th>\n",
       "      <th></th>\n",
       "      <th></th>\n",
       "      <th></th>\n",
       "      <th></th>\n",
       "      <th></th>\n",
       "      <th></th>\n",
       "      <th></th>\n",
       "      <th></th>\n",
       "      <th></th>\n",
       "      <th></th>\n",
       "      <th></th>\n",
       "      <th></th>\n",
       "      <th></th>\n",
       "      <th></th>\n",
       "      <th></th>\n",
       "      <th></th>\n",
       "      <th></th>\n",
       "      <th></th>\n",
       "      <th></th>\n",
       "      <th></th>\n",
       "      <th></th>\n",
       "    </tr>\n",
       "  </thead>\n",
       "  <tbody>\n",
       "    <tr>\n",
       "      <th>7204471</th>\n",
       "      <td>#1</td>\n",
       "      <td>205114</td>\n",
       "      <td>8</td>\n",
       "      <td>3.0</td>\n",
       "      <td>3500.0</td>\n",
       "      <td>2018-05-24 03:09:47</td>\n",
       "      <td>98 LINCOLN PLACE</td>\n",
       "      <td>Brooklyn</td>\n",
       "      <td>11217</td>\n",
       "      <td>40.676331</td>\n",
       "      <td>-73.976775</td>\n",
       "      <td>3019614.0</td>\n",
       "      <td>3009510013</td>\n",
       "      <td>3.0</td>\n",
       "      <td>1899.0</td>\n",
       "      <td>3.0333</td>\n",
       "      <td>0</td>\n",
       "      <td>0</td>\n",
       "      <td>0</td>\n",
       "      <td>0</td>\n",
       "      <td>0</td>\n",
       "      <td>0</td>\n",
       "      <td>0</td>\n",
       "      <td>1</td>\n",
       "      <td>0</td>\n",
       "      <td>0</td>\n",
       "      <td>0</td>\n",
       "      <td>0</td>\n",
       "      <td>1</td>\n",
       "      <td>0</td>\n",
       "      <td>15000</td>\n",
       "      <td>0</td>\n",
       "      <td>This gorgeous four story home radiates eleganc...</td>\n",
       "      <td>Park Slope</td>\n",
       "      <td>Brooklyn</td>\n",
       "      <td>1</td>\n",
       "      <td>1.0</td>\n",
       "      <td>NaN</td>\n",
       "    </tr>\n",
       "    <tr>\n",
       "      <th>7217803</th>\n",
       "      <td>#UPPER</td>\n",
       "      <td>20905</td>\n",
       "      <td>7</td>\n",
       "      <td>4.0</td>\n",
       "      <td>5000.0</td>\n",
       "      <td>2018-05-29 21:15:31</td>\n",
       "      <td>116 SULLIVAN STREET</td>\n",
       "      <td>New York</td>\n",
       "      <td>10012</td>\n",
       "      <td>40.726101</td>\n",
       "      <td>-74.002899</td>\n",
       "      <td>1007810.0</td>\n",
       "      <td>1005040029</td>\n",
       "      <td>5.0</td>\n",
       "      <td>1900.0</td>\n",
       "      <td>1.0167</td>\n",
       "      <td>0</td>\n",
       "      <td>0</td>\n",
       "      <td>1</td>\n",
       "      <td>0</td>\n",
       "      <td>0</td>\n",
       "      <td>0</td>\n",
       "      <td>1</td>\n",
       "      <td>1</td>\n",
       "      <td>0</td>\n",
       "      <td>1</td>\n",
       "      <td>0</td>\n",
       "      <td>0</td>\n",
       "      <td>1</td>\n",
       "      <td>0</td>\n",
       "      <td>45000</td>\n",
       "      <td>0</td>\n",
       "      <td>The Upper Apartment at 116 Sullivan Street is ...</td>\n",
       "      <td>Soho</td>\n",
       "      <td>Manhattan</td>\n",
       "      <td>UPPER</td>\n",
       "      <td>NaN</td>\n",
       "      <td>NaN</td>\n",
       "    </tr>\n",
       "    <tr>\n",
       "      <th>7356136</th>\n",
       "      <td>NaN</td>\n",
       "      <td>71734</td>\n",
       "      <td>7</td>\n",
       "      <td>4.0</td>\n",
       "      <td>6950.0</td>\n",
       "      <td>2018-07-11 15:50:18</td>\n",
       "      <td>461 EAST 57 STREET</td>\n",
       "      <td>New York</td>\n",
       "      <td>10022</td>\n",
       "      <td>40.757728</td>\n",
       "      <td>-73.960818</td>\n",
       "      <td>1081204.0</td>\n",
       "      <td>1013690022</td>\n",
       "      <td>4.0</td>\n",
       "      <td>1900.0</td>\n",
       "      <td>3.1833</td>\n",
       "      <td>0</td>\n",
       "      <td>0</td>\n",
       "      <td>0</td>\n",
       "      <td>0</td>\n",
       "      <td>0</td>\n",
       "      <td>0</td>\n",
       "      <td>0</td>\n",
       "      <td>0</td>\n",
       "      <td>0</td>\n",
       "      <td>0</td>\n",
       "      <td>0</td>\n",
       "      <td>0</td>\n",
       "      <td>1</td>\n",
       "      <td>0</td>\n",
       "      <td>25000</td>\n",
       "      <td>0</td>\n",
       "      <td>461 East 57th Street is a grand 32’ wide, four...</td>\n",
       "      <td>Midtown East</td>\n",
       "      <td>Manhattan</td>\n",
       "      <td>NaN</td>\n",
       "      <td>NaN</td>\n",
       "      <td>NaN</td>\n",
       "    </tr>\n",
       "    <tr>\n",
       "      <th>7146658</th>\n",
       "      <td>NaN</td>\n",
       "      <td>56881</td>\n",
       "      <td>7</td>\n",
       "      <td>7.0</td>\n",
       "      <td>7000.0</td>\n",
       "      <td>2018-05-04 12:49:49</td>\n",
       "      <td>51 WEST 73 STREET</td>\n",
       "      <td>New York</td>\n",
       "      <td>10023</td>\n",
       "      <td>40.777983</td>\n",
       "      <td>-73.977430</td>\n",
       "      <td>1028690.0</td>\n",
       "      <td>1011260107</td>\n",
       "      <td>4.0</td>\n",
       "      <td>1910.0</td>\n",
       "      <td>2.3167</td>\n",
       "      <td>0</td>\n",
       "      <td>1</td>\n",
       "      <td>1</td>\n",
       "      <td>1</td>\n",
       "      <td>0</td>\n",
       "      <td>0</td>\n",
       "      <td>0</td>\n",
       "      <td>1</td>\n",
       "      <td>0</td>\n",
       "      <td>0</td>\n",
       "      <td>0</td>\n",
       "      <td>0</td>\n",
       "      <td>1</td>\n",
       "      <td>0</td>\n",
       "      <td>29500</td>\n",
       "      <td>0</td>\n",
       "      <td>This park block single family ELEVATOR townhou...</td>\n",
       "      <td>Upper West Side</td>\n",
       "      <td>Manhattan</td>\n",
       "      <td>NaN</td>\n",
       "      <td>NaN</td>\n",
       "      <td>NaN</td>\n",
       "    </tr>\n",
       "    <tr>\n",
       "      <th>7371637</th>\n",
       "      <td>#1</td>\n",
       "      <td>283312</td>\n",
       "      <td>7</td>\n",
       "      <td>2.0</td>\n",
       "      <td>1800.0</td>\n",
       "      <td>2018-07-16 16:27:49</td>\n",
       "      <td>1033A DE KALB AVENUE</td>\n",
       "      <td>Brooklyn</td>\n",
       "      <td>11221</td>\n",
       "      <td>40.693642</td>\n",
       "      <td>-73.933648</td>\n",
       "      <td>3388351.0</td>\n",
       "      <td>3015990075</td>\n",
       "      <td>3.0</td>\n",
       "      <td>1931.0</td>\n",
       "      <td>4.1167</td>\n",
       "      <td>0</td>\n",
       "      <td>0</td>\n",
       "      <td>0</td>\n",
       "      <td>0</td>\n",
       "      <td>0</td>\n",
       "      <td>0</td>\n",
       "      <td>1</td>\n",
       "      <td>0</td>\n",
       "      <td>0</td>\n",
       "      <td>0</td>\n",
       "      <td>0</td>\n",
       "      <td>0</td>\n",
       "      <td>0</td>\n",
       "      <td>0</td>\n",
       "      <td>4195</td>\n",
       "      <td>1</td>\n",
       "      <td>This is a huge floor through apt. with no less...</td>\n",
       "      <td>Bedford-Stuyvesant</td>\n",
       "      <td>Brooklyn</td>\n",
       "      <td>1</td>\n",
       "      <td>1.0</td>\n",
       "      <td>NaN</td>\n",
       "    </tr>\n",
       "  </tbody>\n",
       "</table>\n",
       "</div>"
      ],
      "text/plain": [
       "          addr_unit  building_id  bedrooms  ...   unit  floornumber line\n",
       "rental_id                                   ...                         \n",
       "7204471          #1       205114         8  ...      1          1.0  NaN\n",
       "7217803      #UPPER        20905         7  ...  UPPER          NaN  NaN\n",
       "7356136         NaN        71734         7  ...    NaN          NaN  NaN\n",
       "7146658         NaN        56881         7  ...    NaN          NaN  NaN\n",
       "7371637          #1       283312         7  ...      1          1.0  NaN\n",
       "\n",
       "[5 rows x 38 columns]"
      ]
     },
     "execution_count": 72,
     "metadata": {
      "tags": []
     },
     "output_type": "execute_result"
    }
   ],
   "source": [
    "obd_df = train_df.loc[train_df.bedrooms> 6]\n",
    "obd_df"
   ]
  },
  {
   "cell_type": "code",
   "execution_count": 71,
   "metadata": {
    "colab": {
     "base_uri": "https://localhost:8080/",
     "height": 270
    },
    "colab_type": "code",
    "executionInfo": {
     "elapsed": 401,
     "status": "ok",
     "timestamp": 1574270902302,
     "user": {
      "displayName": "Jacinta Moore",
      "photoUrl": "",
      "userId": "14215851766389388616"
     },
     "user_tz": 300
    },
    "id": "qvPoZyl-2qO9",
    "outputId": "bda4199e-325a-437a-a0c9-e5a00ee0298b"
   },
   "outputs": [
    {
     "data": {
      "text/html": [
       "<div>\n",
       "<style scoped>\n",
       "    .dataframe tbody tr th:only-of-type {\n",
       "        vertical-align: middle;\n",
       "    }\n",
       "\n",
       "    .dataframe tbody tr th {\n",
       "        vertical-align: top;\n",
       "    }\n",
       "\n",
       "    .dataframe thead th {\n",
       "        text-align: right;\n",
       "    }\n",
       "</style>\n",
       "<table border=\"1\" class=\"dataframe\">\n",
       "  <thead>\n",
       "    <tr style=\"text-align: right;\">\n",
       "      <th></th>\n",
       "      <th>addr_unit</th>\n",
       "      <th>building_id</th>\n",
       "      <th>bedrooms</th>\n",
       "      <th>bathrooms</th>\n",
       "      <th>size_sqft</th>\n",
       "      <th>created_at</th>\n",
       "      <th>addr_street</th>\n",
       "      <th>addr_city</th>\n",
       "      <th>addr_zip</th>\n",
       "      <th>addr_lat</th>\n",
       "      <th>addr_lon</th>\n",
       "      <th>bin</th>\n",
       "      <th>bbl</th>\n",
       "      <th>floor_count</th>\n",
       "      <th>year_built</th>\n",
       "      <th>min_to_subway</th>\n",
       "      <th>has_doorman</th>\n",
       "      <th>has_elevator</th>\n",
       "      <th>has_fireplace</th>\n",
       "      <th>has_dishwasher</th>\n",
       "      <th>is_furnished</th>\n",
       "      <th>has_gym</th>\n",
       "      <th>allows_pets</th>\n",
       "      <th>has_washer_dryer</th>\n",
       "      <th>has_garage</th>\n",
       "      <th>has_roofdeck</th>\n",
       "      <th>has_concierge</th>\n",
       "      <th>has_pool</th>\n",
       "      <th>has_garden</th>\n",
       "      <th>has_childrens_playroom</th>\n",
       "      <th>rent</th>\n",
       "      <th>no_fee</th>\n",
       "      <th>description</th>\n",
       "      <th>neighborhood</th>\n",
       "      <th>borough</th>\n",
       "      <th>unit</th>\n",
       "      <th>floornumber</th>\n",
       "      <th>line</th>\n",
       "    </tr>\n",
       "    <tr>\n",
       "      <th>rental_id</th>\n",
       "      <th></th>\n",
       "      <th></th>\n",
       "      <th></th>\n",
       "      <th></th>\n",
       "      <th></th>\n",
       "      <th></th>\n",
       "      <th></th>\n",
       "      <th></th>\n",
       "      <th></th>\n",
       "      <th></th>\n",
       "      <th></th>\n",
       "      <th></th>\n",
       "      <th></th>\n",
       "      <th></th>\n",
       "      <th></th>\n",
       "      <th></th>\n",
       "      <th></th>\n",
       "      <th></th>\n",
       "      <th></th>\n",
       "      <th></th>\n",
       "      <th></th>\n",
       "      <th></th>\n",
       "      <th></th>\n",
       "      <th></th>\n",
       "      <th></th>\n",
       "      <th></th>\n",
       "      <th></th>\n",
       "      <th></th>\n",
       "      <th></th>\n",
       "      <th></th>\n",
       "      <th></th>\n",
       "      <th></th>\n",
       "      <th></th>\n",
       "      <th></th>\n",
       "      <th></th>\n",
       "      <th></th>\n",
       "      <th></th>\n",
       "      <th></th>\n",
       "    </tr>\n",
       "  </thead>\n",
       "  <tbody>\n",
       "    <tr>\n",
       "      <th>7236325</th>\n",
       "      <td>#7</td>\n",
       "      <td>87595</td>\n",
       "      <td>2</td>\n",
       "      <td>20.0</td>\n",
       "      <td>1200.0</td>\n",
       "      <td>2018-06-04 15:07:12</td>\n",
       "      <td>420 EAST 86 STREET</td>\n",
       "      <td>New York</td>\n",
       "      <td>10028</td>\n",
       "      <td>40.776358</td>\n",
       "      <td>-73.948907</td>\n",
       "      <td>1085655.0</td>\n",
       "      <td>1015657501</td>\n",
       "      <td>6.0</td>\n",
       "      <td>1935.0</td>\n",
       "      <td>5.6833</td>\n",
       "      <td>0</td>\n",
       "      <td>1</td>\n",
       "      <td>1</td>\n",
       "      <td>1</td>\n",
       "      <td>0</td>\n",
       "      <td>0</td>\n",
       "      <td>0</td>\n",
       "      <td>0</td>\n",
       "      <td>0</td>\n",
       "      <td>0</td>\n",
       "      <td>0</td>\n",
       "      <td>0</td>\n",
       "      <td>0</td>\n",
       "      <td>0</td>\n",
       "      <td>5000</td>\n",
       "      <td>0</td>\n",
       "      <td>.</td>\n",
       "      <td>Upper East Side</td>\n",
       "      <td>Manhattan</td>\n",
       "      <td>7</td>\n",
       "      <td>NaN</td>\n",
       "      <td>NaN</td>\n",
       "    </tr>\n",
       "    <tr>\n",
       "      <th>7151821</th>\n",
       "      <td>#6</td>\n",
       "      <td>126724</td>\n",
       "      <td>3</td>\n",
       "      <td>12.0</td>\n",
       "      <td>1200.0</td>\n",
       "      <td>2018-05-06 20:10:38</td>\n",
       "      <td>821 RIVERSIDE DRIVE</td>\n",
       "      <td>New York</td>\n",
       "      <td>10032</td>\n",
       "      <td>40.835610</td>\n",
       "      <td>-73.946140</td>\n",
       "      <td>1063285.0</td>\n",
       "      <td>1021350004</td>\n",
       "      <td>3.0</td>\n",
       "      <td>1900.0</td>\n",
       "      <td>2.1333</td>\n",
       "      <td>0</td>\n",
       "      <td>0</td>\n",
       "      <td>0</td>\n",
       "      <td>1</td>\n",
       "      <td>0</td>\n",
       "      <td>0</td>\n",
       "      <td>1</td>\n",
       "      <td>1</td>\n",
       "      <td>0</td>\n",
       "      <td>0</td>\n",
       "      <td>0</td>\n",
       "      <td>0</td>\n",
       "      <td>0</td>\n",
       "      <td>0</td>\n",
       "      <td>3200</td>\n",
       "      <td>1</td>\n",
       "      <td>Washington Heights\\nOversized True 3 Bedroom\\n...</td>\n",
       "      <td>Washington Heights</td>\n",
       "      <td>Manhattan</td>\n",
       "      <td>6</td>\n",
       "      <td>6.0</td>\n",
       "      <td>NaN</td>\n",
       "    </tr>\n",
       "    <tr>\n",
       "      <th>7160572</th>\n",
       "      <td>#D</td>\n",
       "      <td>951334</td>\n",
       "      <td>2</td>\n",
       "      <td>12.0</td>\n",
       "      <td>1069.0</td>\n",
       "      <td>2018-05-09 10:46:26</td>\n",
       "      <td>105 OCEANA DRIVE EAST</td>\n",
       "      <td>Brooklyn</td>\n",
       "      <td>11235</td>\n",
       "      <td>40.576302</td>\n",
       "      <td>-73.957497</td>\n",
       "      <td>3350420.0</td>\n",
       "      <td>3087207512</td>\n",
       "      <td>7.0</td>\n",
       "      <td>2002.0</td>\n",
       "      <td>2.4833</td>\n",
       "      <td>0</td>\n",
       "      <td>1</td>\n",
       "      <td>0</td>\n",
       "      <td>1</td>\n",
       "      <td>0</td>\n",
       "      <td>1</td>\n",
       "      <td>1</td>\n",
       "      <td>1</td>\n",
       "      <td>0</td>\n",
       "      <td>0</td>\n",
       "      <td>0</td>\n",
       "      <td>1</td>\n",
       "      <td>0</td>\n",
       "      <td>0</td>\n",
       "      <td>2700</td>\n",
       "      <td>0</td>\n",
       "      <td>Nice 2 bed 2bath at Oceana Condominium&amp;Club\\r\\...</td>\n",
       "      <td>Brighton Beach</td>\n",
       "      <td>Brooklyn</td>\n",
       "      <td>D</td>\n",
       "      <td>NaN</td>\n",
       "      <td>NaN</td>\n",
       "    </tr>\n",
       "  </tbody>\n",
       "</table>\n",
       "</div>"
      ],
      "text/plain": [
       "          addr_unit  building_id  bedrooms  ...  unit  floornumber line\n",
       "rental_id                                   ...                        \n",
       "7236325          #7        87595         2  ...     7          NaN  NaN\n",
       "7151821          #6       126724         3  ...     6          6.0  NaN\n",
       "7160572          #D       951334         2  ...     D          NaN  NaN\n",
       "\n",
       "[3 rows x 38 columns]"
      ]
     },
     "execution_count": 71,
     "metadata": {
      "tags": []
     },
     "output_type": "execute_result"
    }
   ],
   "source": [
    "obath_df = train_df.loc[train_df.bathrooms>=8]\n",
    "obath_df\n",
    "## Clearly row 7160572 of 12 bathrooms is an error as the description says 2 bed 2 bath\n",
    "## row 7236325 also seems an error as there are only 2 bedrooms, most likely it should be 2 bath"
   ]
  },
  {
   "cell_type": "markdown",
   "metadata": {
    "colab_type": "text",
    "id": "9ZXTYUh73_Z5"
   },
   "source": [
    "At this point we are going to just be mindful of the outliers. In Part 2 we may consider adjusting these but it will depend if they will have an impact upon the results. At the moment they are only a couple of points out of 12,000."
   ]
  },
  {
   "cell_type": "markdown",
   "metadata": {
    "colab_type": "text",
    "id": "aPjrrxHJot6h"
   },
   "source": [
    "## Data Modelling \n",
    "This section we look at different models and model our training data"
   ]
  },
  {
   "cell_type": "code",
   "execution_count": 24,
   "metadata": {
    "colab": {
     "base_uri": "https://localhost:8080/",
     "height": 202
    },
    "colab_type": "code",
    "executionInfo": {
     "elapsed": 1210,
     "status": "ok",
     "timestamp": 1574289937911,
     "user": {
      "displayName": "Jacinta Moore",
      "photoUrl": "",
      "userId": "14215851766389388616"
     },
     "user_tz": 300
    },
    "id": "sgsw3jxTpHL5",
    "outputId": "ceaaad6e-fe51-4766-a2b8-e5105c466973"
   },
   "outputs": [
    {
     "name": "stderr",
     "output_type": "stream",
     "text": [
      "/usr/local/lib/python3.6/dist-packages/sklearn/ensemble/forest.py:245: FutureWarning: The default value of n_estimators will change from 10 in version 0.20 to 100 in 0.22.\n",
      "  \"10 in version 0.20 to 100 in 0.22.\", FutureWarning)\n"
     ]
    },
    {
     "data": {
      "text/plain": [
       "GradientBoostingRegressor(alpha=0.9, criterion='friedman_mse', init=None,\n",
       "                          learning_rate=0.1, loss='ls', max_depth=3,\n",
       "                          max_features=None, max_leaf_nodes=None,\n",
       "                          min_impurity_decrease=0.0, min_impurity_split=None,\n",
       "                          min_samples_leaf=1, min_samples_split=2,\n",
       "                          min_weight_fraction_leaf=0.0, n_estimators=100,\n",
       "                          n_iter_no_change=None, presort='auto',\n",
       "                          random_state=None, subsample=1.0, tol=0.0001,\n",
       "                          validation_fraction=0.1, verbose=0, warm_start=False)"
      ]
     },
     "execution_count": 24,
     "metadata": {
      "tags": []
     },
     "output_type": "execute_result"
    }
   ],
   "source": [
    "# training a linear regression model\n",
    "lreg = LinearRegression()\n",
    "lreg.fit(train_features, train_target)\n",
    "\n",
    "# training a random forest regression model\n",
    "rf = RandomForestRegressor()\n",
    "rf.fit(train_features, train_target)\n",
    "\n",
    "#training a gradient boosting regressor\n",
    "gbt = GradientBoostingRegressor( )\n",
    "gbt.fit(train_features, train_target)"
   ]
  },
  {
   "cell_type": "code",
   "execution_count": 0,
   "metadata": {
    "colab": {},
    "colab_type": "code",
    "id": "8sNqibK39M43"
   },
   "outputs": [],
   "source": [
    "test_features = test_df[feature_cols] \n",
    "\n",
    "# impute missing values with medians\n",
    "test_features = test_features.fillna(train_features.median(), axis=0)"
   ]
  },
  {
   "cell_type": "code",
   "execution_count": 16,
   "metadata": {
    "colab": {
     "base_uri": "https://localhost:8080/",
     "height": 34
    },
    "colab_type": "code",
    "executionInfo": {
     "elapsed": 406,
     "status": "ok",
     "timestamp": 1574289427116,
     "user": {
      "displayName": "Jacinta Moore",
      "photoUrl": "",
      "userId": "14215851766389388616"
     },
     "user_tz": 300
    },
    "id": "eb0I0fZM8E7R",
    "outputId": "2eaa6367-4fcd-420b-fcaa-94d7bc5ea0e1"
   },
   "outputs": [
    {
     "data": {
      "text/plain": [
       "3674316.2820333852"
      ]
     },
     "execution_count": 16,
     "metadata": {
      "tags": []
     },
     "output_type": "execute_result"
    }
   ],
   "source": [
    "# construct predictions for linear regression \n",
    "test_df['predicted'] = lreg.predict(test_features)\n",
    "\n",
    "mean_squared_error(test_df['rent'], test_df['predicted'])"
   ]
  },
  {
   "cell_type": "code",
   "execution_count": 18,
   "metadata": {
    "colab": {
     "base_uri": "https://localhost:8080/",
     "height": 34
    },
    "colab_type": "code",
    "executionInfo": {
     "elapsed": 389,
     "status": "ok",
     "timestamp": 1574289550007,
     "user": {
      "displayName": "Jacinta Moore",
      "photoUrl": "",
      "userId": "14215851766389388616"
     },
     "user_tz": 300
    },
    "id": "Sp72Ave09snn",
    "outputId": "43d9fc8f-da5e-40f0-873e-3bb4e37a11a7"
   },
   "outputs": [
    {
     "data": {
      "text/plain": [
       "2220135.581283559"
      ]
     },
     "execution_count": 18,
     "metadata": {
      "tags": []
     },
     "output_type": "execute_result"
    }
   ],
   "source": [
    "# construct predictions for random forest regression\n",
    "test_df['predicted'] = rf.predict(test_features)\n",
    "\n",
    "mean_squared_error(test_df['rent'], test_df['predicted'])"
   ]
  },
  {
   "cell_type": "code",
   "execution_count": 25,
   "metadata": {
    "colab": {
     "base_uri": "https://localhost:8080/",
     "height": 34
    },
    "colab_type": "code",
    "executionInfo": {
     "elapsed": 306,
     "status": "ok",
     "timestamp": 1574289941803,
     "user": {
      "displayName": "Jacinta Moore",
      "photoUrl": "",
      "userId": "14215851766389388616"
     },
     "user_tz": 300
    },
    "id": "9eDsuYKX9ouI",
    "outputId": "480e3a03-f187-447b-d3b2-ed09ceb40f91"
   },
   "outputs": [
    {
     "data": {
      "text/plain": [
       "2367734.7918685228"
      ]
     },
     "execution_count": 25,
     "metadata": {
      "tags": []
     },
     "output_type": "execute_result"
    }
   ],
   "source": [
    "# construct predictions for gradient boosting regression\n",
    "test_df['predicted'] = gbt.predict(test_features)\n",
    "\n",
    "mean_squared_error(test_df['rent'], test_df['predicted'])"
   ]
  },
  {
   "cell_type": "markdown",
   "metadata": {
    "colab_type": "text",
    "id": "9IVaqCL3pKBX"
   },
   "source": [
    "## Summary of Results and Further Work\n",
    "This section we look at the results of the modelling. Compare the results of the different models and then make decisions about further work to try improve the accuracy of our model in predicting the rents."
   ]
  },
  {
   "cell_type": "markdown",
   "metadata": {
    "colab_type": "text",
    "id": "CfvBsqOD_34F"
   },
   "source": [
    "Model | Description| MSE\n",
    "--- | --- | --\n",
    "Linear Regression | train_df: No additional data | 3674316.2820333852\n",
    "Random Forrest | train_df: No additional | 2220135.581283559\n",
    "Gradient Boosting | train_df: No additional | 2367734.7918685228"
   ]
  }
 ],
 "metadata": {
  "colab": {
   "collapsed_sections": [],
   "name": "Part 1 Final Project.ipynb",
   "provenance": []
  },
  "kernelspec": {
   "display_name": "Python 3",
   "language": "python",
   "name": "python3"
  },
  "language_info": {
   "codemirror_mode": {
    "name": "ipython",
    "version": 3
   },
   "file_extension": ".py",
   "mimetype": "text/x-python",
   "name": "python",
   "nbconvert_exporter": "python",
   "pygments_lexer": "ipython3",
   "version": "3.7.0"
  }
 },
 "nbformat": 4,
 "nbformat_minor": 1
}

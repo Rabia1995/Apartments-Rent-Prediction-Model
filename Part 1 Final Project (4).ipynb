{
 "cells": [
  {
   "cell_type": "markdown",
   "metadata": {
    "colab_type": "text",
    "id": "V6W7COL-nwCv"
   },
   "source": [
    "# Data Science Final Project: Part 1 Analysis\n",
    "\n",
    "This is a preliminary analysis of the rental data to predict rents for test 2 data. It is expected further work in Part 2 will result in improved estimations. This analysis and the outcomes will form the basis of Part 2.  \n",
    "This file has been broken up into 3 parts: \n",
    "\n",
    "\n",
    "1.   Data Exploration [https://colab.research.google.com/drive/1ui-CU-qfreGNuP69NaVPlmFKIiNBFxuL#scrollTo=K-ZZpcoaiGY6]\n",
    "2.   Data Preprocessing [https://colab.research.google.com/drive/1ui-CU-qfreGNuP69NaVPlmFKIiNBFxuL#scrollTo=HgGR6M-aojEZ]\n",
    "3.   Data Modelling [https://colab.research.google.com/drive/1ui-CU-qfreGNuP69NaVPlmFKIiNBFxuL#scrollTo=aPjrrxHJot6h]\n",
    "4.  Summary of Results and Further Work [https://colab.research.google.com/drive/1ui-CU-qfreGNuP69NaVPlmFKIiNBFxuL#scrollTo=9IVaqCL3pKBX]\n",
    "\n",
    "\n",
    "\n"
   ]
  },
  {
   "cell_type": "code",
   "execution_count": 1,
   "metadata": {
    "colab": {},
    "colab_type": "code",
    "id": "uTI3FuQFqCEH"
   },
   "outputs": [],
   "source": [
    "import numpy as np\n",
    "import pandas as pd\n",
    "import matplotlib.pyplot as plt\n",
    "import seaborn as sns\n",
    "\n",
    "from sklearn.linear_model import LinearRegression\n",
    "from sklearn.metrics import mean_squared_error\n",
    "from sklearn.neighbors import KNeighborsRegressor\n",
    "\n",
    "\n",
    "from sklearn.ensemble import RandomForestRegressor\n",
    "from sklearn.ensemble import GradientBoostingRegressor\n",
    "\n",
    "%matplotlib inline"
   ]
  },
  {
   "cell_type": "code",
   "execution_count": 2,
   "metadata": {
    "colab": {},
    "colab_type": "code",
    "id": "fn-ehv0SqH7y"
   },
   "outputs": [],
   "source": [
    "train_df = pd.read_csv('https://grantmlong.com/data/SE_rents2018_train.csv', index_col=0)\n",
    "test_df = pd.read_csv('https://grantmlong.com/data/SE_rents2018_test1.csv', index_col=0)\n",
    "submit1_df = pd.read_csv('https://grantmlong.com/data/SE_rents2018_test2.csv', index_col=0)\n",
    "submit2_df = pd.read_csv('https://grantmlong.com/data/SE_rents2018_test3.csv', index_col=0)"
   ]
  },
  {
   "cell_type": "markdown",
   "metadata": {
    "colab_type": "text",
    "id": "K-ZZpcoaiGY6"
   },
   "source": [
    "## Data Exploration\n",
    "\n",
    "This section we look at the data and determine the features for our model. We build our training data\n",
    "\n",
    "\n"
   ]
  },
  {
   "cell_type": "code",
   "execution_count": 3,
   "metadata": {
    "colab": {
     "base_uri": "https://localhost:8080/",
     "height": 1000
    },
    "colab_type": "code",
    "executionInfo": {
     "elapsed": 664,
     "status": "ok",
     "timestamp": 1574435373250,
     "user": {
      "displayName": "Jacinta Moore",
      "photoUrl": "",
      "userId": "14215851766389388616"
     },
     "user_tz": 300
    },
    "id": "D5_s5QoOohQ9",
    "outputId": "b88109de-21e0-4f88-f01c-d703606c3995"
   },
   "outputs": [
    {
     "data": {
      "text/html": [
       "<div>\n",
       "<style scoped>\n",
       "    .dataframe tbody tr th:only-of-type {\n",
       "        vertical-align: middle;\n",
       "    }\n",
       "\n",
       "    .dataframe tbody tr th {\n",
       "        vertical-align: top;\n",
       "    }\n",
       "\n",
       "    .dataframe thead th {\n",
       "        text-align: right;\n",
       "    }\n",
       "</style>\n",
       "<table border=\"1\" class=\"dataframe\">\n",
       "  <thead>\n",
       "    <tr style=\"text-align: right;\">\n",
       "      <th>rental_id</th>\n",
       "      <th>7321711</th>\n",
       "      <th>7234495</th>\n",
       "      <th>7174345</th>\n",
       "      <th>7250641</th>\n",
       "      <th>7364116</th>\n",
       "    </tr>\n",
       "  </thead>\n",
       "  <tbody>\n",
       "    <tr>\n",
       "      <td>addr_unit</td>\n",
       "      <td>#1B</td>\n",
       "      <td>#2</td>\n",
       "      <td>#D3</td>\n",
       "      <td>#3F</td>\n",
       "      <td>#1B</td>\n",
       "    </tr>\n",
       "    <tr>\n",
       "      <td>building_id</td>\n",
       "      <td>198016</td>\n",
       "      <td>48442</td>\n",
       "      <td>1297417</td>\n",
       "      <td>383323</td>\n",
       "      <td>331207</td>\n",
       "    </tr>\n",
       "    <tr>\n",
       "      <td>bedrooms</td>\n",
       "      <td>1</td>\n",
       "      <td>3</td>\n",
       "      <td>1</td>\n",
       "      <td>4</td>\n",
       "      <td>2</td>\n",
       "    </tr>\n",
       "    <tr>\n",
       "      <td>bathrooms</td>\n",
       "      <td>1</td>\n",
       "      <td>1</td>\n",
       "      <td>1</td>\n",
       "      <td>4</td>\n",
       "      <td>1</td>\n",
       "    </tr>\n",
       "    <tr>\n",
       "      <td>size_sqft</td>\n",
       "      <td>520</td>\n",
       "      <td>1005</td>\n",
       "      <td>715</td>\n",
       "      <td>1200</td>\n",
       "      <td>700</td>\n",
       "    </tr>\n",
       "    <tr>\n",
       "      <td>created_at</td>\n",
       "      <td>2018-06-30 09:31:53</td>\n",
       "      <td>2018-06-04 10:33:52</td>\n",
       "      <td>2018-05-14 11:44:58</td>\n",
       "      <td>2018-06-07 16:58:02</td>\n",
       "      <td>2018-07-13 14:26:13</td>\n",
       "    </tr>\n",
       "    <tr>\n",
       "      <td>addr_street</td>\n",
       "      <td>411 20 STREET</td>\n",
       "      <td>633 2 AVENUE</td>\n",
       "      <td>25-34 CRESCENT STREET</td>\n",
       "      <td>186 SCHOLES STREET</td>\n",
       "      <td>221 ST JAMES PLACE</td>\n",
       "    </tr>\n",
       "    <tr>\n",
       "      <td>addr_city</td>\n",
       "      <td>Brooklyn</td>\n",
       "      <td>New York</td>\n",
       "      <td>Astoria</td>\n",
       "      <td>Brooklyn</td>\n",
       "      <td>Brooklyn</td>\n",
       "    </tr>\n",
       "    <tr>\n",
       "      <td>addr_zip</td>\n",
       "      <td>11215</td>\n",
       "      <td>10016</td>\n",
       "      <td>11102</td>\n",
       "      <td>11206</td>\n",
       "      <td>11238</td>\n",
       "    </tr>\n",
       "    <tr>\n",
       "      <td>addr_lat</td>\n",
       "      <td>40.6586</td>\n",
       "      <td>40.7453</td>\n",
       "      <td>40.7724</td>\n",
       "      <td>40.7087</td>\n",
       "      <td>40.683</td>\n",
       "    </tr>\n",
       "    <tr>\n",
       "      <td>addr_lon</td>\n",
       "      <td>-73.9868</td>\n",
       "      <td>-73.9759</td>\n",
       "      <td>-73.9226</td>\n",
       "      <td>-73.9416</td>\n",
       "      <td>-73.9635</td>\n",
       "    </tr>\n",
       "    <tr>\n",
       "      <td>bin</td>\n",
       "      <td>3.01728e+06</td>\n",
       "      <td>1.02016e+06</td>\n",
       "      <td>4.01911e+06</td>\n",
       "      <td>3.07101e+06</td>\n",
       "      <td>3.05668e+06</td>\n",
       "    </tr>\n",
       "    <tr>\n",
       "      <td>bbl</td>\n",
       "      <td>3008870059</td>\n",
       "      <td>1009150032</td>\n",
       "      <td>4008720068</td>\n",
       "      <td>3030450001</td>\n",
       "      <td>3019800001</td>\n",
       "    </tr>\n",
       "    <tr>\n",
       "      <td>floor_count</td>\n",
       "      <td>2</td>\n",
       "      <td>4</td>\n",
       "      <td>6</td>\n",
       "      <td>3</td>\n",
       "      <td>4</td>\n",
       "    </tr>\n",
       "    <tr>\n",
       "      <td>year_built</td>\n",
       "      <td>1920</td>\n",
       "      <td>1910</td>\n",
       "      <td>1965</td>\n",
       "      <td>1920</td>\n",
       "      <td>1930</td>\n",
       "    </tr>\n",
       "    <tr>\n",
       "      <td>min_to_subway</td>\n",
       "      <td>3.45</td>\n",
       "      <td>3.4667</td>\n",
       "      <td>3.4833</td>\n",
       "      <td>1.65</td>\n",
       "      <td>1.45</td>\n",
       "    </tr>\n",
       "    <tr>\n",
       "      <td>has_doorman</td>\n",
       "      <td>0</td>\n",
       "      <td>0</td>\n",
       "      <td>0</td>\n",
       "      <td>0</td>\n",
       "      <td>0</td>\n",
       "    </tr>\n",
       "    <tr>\n",
       "      <td>has_elevator</td>\n",
       "      <td>0</td>\n",
       "      <td>0</td>\n",
       "      <td>0</td>\n",
       "      <td>0</td>\n",
       "      <td>0</td>\n",
       "    </tr>\n",
       "    <tr>\n",
       "      <td>has_fireplace</td>\n",
       "      <td>0</td>\n",
       "      <td>0</td>\n",
       "      <td>0</td>\n",
       "      <td>0</td>\n",
       "      <td>0</td>\n",
       "    </tr>\n",
       "    <tr>\n",
       "      <td>has_dishwasher</td>\n",
       "      <td>0</td>\n",
       "      <td>0</td>\n",
       "      <td>1</td>\n",
       "      <td>1</td>\n",
       "      <td>1</td>\n",
       "    </tr>\n",
       "    <tr>\n",
       "      <td>is_furnished</td>\n",
       "      <td>0</td>\n",
       "      <td>0</td>\n",
       "      <td>0</td>\n",
       "      <td>0</td>\n",
       "      <td>0</td>\n",
       "    </tr>\n",
       "    <tr>\n",
       "      <td>has_gym</td>\n",
       "      <td>0</td>\n",
       "      <td>0</td>\n",
       "      <td>0</td>\n",
       "      <td>0</td>\n",
       "      <td>0</td>\n",
       "    </tr>\n",
       "    <tr>\n",
       "      <td>allows_pets</td>\n",
       "      <td>0</td>\n",
       "      <td>0</td>\n",
       "      <td>0</td>\n",
       "      <td>1</td>\n",
       "      <td>1</td>\n",
       "    </tr>\n",
       "    <tr>\n",
       "      <td>has_washer_dryer</td>\n",
       "      <td>0</td>\n",
       "      <td>0</td>\n",
       "      <td>0</td>\n",
       "      <td>0</td>\n",
       "      <td>0</td>\n",
       "    </tr>\n",
       "    <tr>\n",
       "      <td>has_garage</td>\n",
       "      <td>0</td>\n",
       "      <td>0</td>\n",
       "      <td>0</td>\n",
       "      <td>0</td>\n",
       "      <td>0</td>\n",
       "    </tr>\n",
       "    <tr>\n",
       "      <td>has_roofdeck</td>\n",
       "      <td>0</td>\n",
       "      <td>0</td>\n",
       "      <td>0</td>\n",
       "      <td>1</td>\n",
       "      <td>1</td>\n",
       "    </tr>\n",
       "    <tr>\n",
       "      <td>has_concierge</td>\n",
       "      <td>0</td>\n",
       "      <td>0</td>\n",
       "      <td>0</td>\n",
       "      <td>0</td>\n",
       "      <td>0</td>\n",
       "    </tr>\n",
       "    <tr>\n",
       "      <td>has_pool</td>\n",
       "      <td>0</td>\n",
       "      <td>0</td>\n",
       "      <td>0</td>\n",
       "      <td>0</td>\n",
       "      <td>0</td>\n",
       "    </tr>\n",
       "    <tr>\n",
       "      <td>has_garden</td>\n",
       "      <td>0</td>\n",
       "      <td>0</td>\n",
       "      <td>0</td>\n",
       "      <td>0</td>\n",
       "      <td>0</td>\n",
       "    </tr>\n",
       "    <tr>\n",
       "      <td>has_childrens_playroom</td>\n",
       "      <td>0</td>\n",
       "      <td>0</td>\n",
       "      <td>0</td>\n",
       "      <td>0</td>\n",
       "      <td>0</td>\n",
       "    </tr>\n",
       "    <tr>\n",
       "      <td>rent</td>\n",
       "      <td>1475</td>\n",
       "      <td>4500</td>\n",
       "      <td>1995</td>\n",
       "      <td>5200</td>\n",
       "      <td>2600</td>\n",
       "    </tr>\n",
       "    <tr>\n",
       "      <td>no_fee</td>\n",
       "      <td>1</td>\n",
       "      <td>0</td>\n",
       "      <td>0</td>\n",
       "      <td>1</td>\n",
       "      <td>1</td>\n",
       "    </tr>\n",
       "    <tr>\n",
       "      <td>description</td>\n",
       "      <td>No FEE/NO BROKER   Cozy 1 bedroom apartment in...</td>\n",
       "      <td>Enjoy the 2nd floor all to yourselves with thi...</td>\n",
       "      <td>Renovated, Gorgeous, HUGE 1 bedroom in prime A...</td>\n",
       "      <td>Truly rare, high quality finishes with this BR...</td>\n",
       "      <td>Beautiful 2 bedroom available on Saint James a...</td>\n",
       "    </tr>\n",
       "    <tr>\n",
       "      <td>neighborhood</td>\n",
       "      <td>Greenwood</td>\n",
       "      <td>Midtown East</td>\n",
       "      <td>Astoria</td>\n",
       "      <td>Williamsburg</td>\n",
       "      <td>Clinton Hill</td>\n",
       "    </tr>\n",
       "    <tr>\n",
       "      <td>borough</td>\n",
       "      <td>Brooklyn</td>\n",
       "      <td>Manhattan</td>\n",
       "      <td>Queens</td>\n",
       "      <td>Brooklyn</td>\n",
       "      <td>Brooklyn</td>\n",
       "    </tr>\n",
       "    <tr>\n",
       "      <td>unit</td>\n",
       "      <td>1B</td>\n",
       "      <td>2</td>\n",
       "      <td>D3</td>\n",
       "      <td>3F</td>\n",
       "      <td>1B</td>\n",
       "    </tr>\n",
       "    <tr>\n",
       "      <td>floornumber</td>\n",
       "      <td>1</td>\n",
       "      <td>2</td>\n",
       "      <td>3</td>\n",
       "      <td>3</td>\n",
       "      <td>1</td>\n",
       "    </tr>\n",
       "    <tr>\n",
       "      <td>line</td>\n",
       "      <td>B</td>\n",
       "      <td>NaN</td>\n",
       "      <td>D</td>\n",
       "      <td>F</td>\n",
       "      <td>B</td>\n",
       "    </tr>\n",
       "  </tbody>\n",
       "</table>\n",
       "</div>"
      ],
      "text/plain": [
       "rental_id                                                         7321711  \\\n",
       "addr_unit                                                             #1B   \n",
       "building_id                                                        198016   \n",
       "bedrooms                                                                1   \n",
       "bathrooms                                                               1   \n",
       "size_sqft                                                             520   \n",
       "created_at                                            2018-06-30 09:31:53   \n",
       "addr_street                                                 411 20 STREET   \n",
       "addr_city                                                        Brooklyn   \n",
       "addr_zip                                                            11215   \n",
       "addr_lat                                                          40.6586   \n",
       "addr_lon                                                         -73.9868   \n",
       "bin                                                           3.01728e+06   \n",
       "bbl                                                            3008870059   \n",
       "floor_count                                                             2   \n",
       "year_built                                                           1920   \n",
       "min_to_subway                                                        3.45   \n",
       "has_doorman                                                             0   \n",
       "has_elevator                                                            0   \n",
       "has_fireplace                                                           0   \n",
       "has_dishwasher                                                          0   \n",
       "is_furnished                                                            0   \n",
       "has_gym                                                                 0   \n",
       "allows_pets                                                             0   \n",
       "has_washer_dryer                                                        0   \n",
       "has_garage                                                              0   \n",
       "has_roofdeck                                                            0   \n",
       "has_concierge                                                           0   \n",
       "has_pool                                                                0   \n",
       "has_garden                                                              0   \n",
       "has_childrens_playroom                                                  0   \n",
       "rent                                                                 1475   \n",
       "no_fee                                                                  1   \n",
       "description             No FEE/NO BROKER   Cozy 1 bedroom apartment in...   \n",
       "neighborhood                                                    Greenwood   \n",
       "borough                                                          Brooklyn   \n",
       "unit                                                                   1B   \n",
       "floornumber                                                             1   \n",
       "line                                                                    B   \n",
       "\n",
       "rental_id                                                         7234495  \\\n",
       "addr_unit                                                              #2   \n",
       "building_id                                                         48442   \n",
       "bedrooms                                                                3   \n",
       "bathrooms                                                               1   \n",
       "size_sqft                                                            1005   \n",
       "created_at                                            2018-06-04 10:33:52   \n",
       "addr_street                                                  633 2 AVENUE   \n",
       "addr_city                                                        New York   \n",
       "addr_zip                                                            10016   \n",
       "addr_lat                                                          40.7453   \n",
       "addr_lon                                                         -73.9759   \n",
       "bin                                                           1.02016e+06   \n",
       "bbl                                                            1009150032   \n",
       "floor_count                                                             4   \n",
       "year_built                                                           1910   \n",
       "min_to_subway                                                      3.4667   \n",
       "has_doorman                                                             0   \n",
       "has_elevator                                                            0   \n",
       "has_fireplace                                                           0   \n",
       "has_dishwasher                                                          0   \n",
       "is_furnished                                                            0   \n",
       "has_gym                                                                 0   \n",
       "allows_pets                                                             0   \n",
       "has_washer_dryer                                                        0   \n",
       "has_garage                                                              0   \n",
       "has_roofdeck                                                            0   \n",
       "has_concierge                                                           0   \n",
       "has_pool                                                                0   \n",
       "has_garden                                                              0   \n",
       "has_childrens_playroom                                                  0   \n",
       "rent                                                                 4500   \n",
       "no_fee                                                                  0   \n",
       "description             Enjoy the 2nd floor all to yourselves with thi...   \n",
       "neighborhood                                                 Midtown East   \n",
       "borough                                                         Manhattan   \n",
       "unit                                                                    2   \n",
       "floornumber                                                             2   \n",
       "line                                                                  NaN   \n",
       "\n",
       "rental_id                                                         7174345  \\\n",
       "addr_unit                                                             #D3   \n",
       "building_id                                                       1297417   \n",
       "bedrooms                                                                1   \n",
       "bathrooms                                                               1   \n",
       "size_sqft                                                             715   \n",
       "created_at                                            2018-05-14 11:44:58   \n",
       "addr_street                                         25-34 CRESCENT STREET   \n",
       "addr_city                                                         Astoria   \n",
       "addr_zip                                                            11102   \n",
       "addr_lat                                                          40.7724   \n",
       "addr_lon                                                         -73.9226   \n",
       "bin                                                           4.01911e+06   \n",
       "bbl                                                            4008720068   \n",
       "floor_count                                                             6   \n",
       "year_built                                                           1965   \n",
       "min_to_subway                                                      3.4833   \n",
       "has_doorman                                                             0   \n",
       "has_elevator                                                            0   \n",
       "has_fireplace                                                           0   \n",
       "has_dishwasher                                                          1   \n",
       "is_furnished                                                            0   \n",
       "has_gym                                                                 0   \n",
       "allows_pets                                                             0   \n",
       "has_washer_dryer                                                        0   \n",
       "has_garage                                                              0   \n",
       "has_roofdeck                                                            0   \n",
       "has_concierge                                                           0   \n",
       "has_pool                                                                0   \n",
       "has_garden                                                              0   \n",
       "has_childrens_playroom                                                  0   \n",
       "rent                                                                 1995   \n",
       "no_fee                                                                  0   \n",
       "description             Renovated, Gorgeous, HUGE 1 bedroom in prime A...   \n",
       "neighborhood                                                      Astoria   \n",
       "borough                                                            Queens   \n",
       "unit                                                                   D3   \n",
       "floornumber                                                             3   \n",
       "line                                                                    D   \n",
       "\n",
       "rental_id                                                         7250641  \\\n",
       "addr_unit                                                             #3F   \n",
       "building_id                                                        383323   \n",
       "bedrooms                                                                4   \n",
       "bathrooms                                                               4   \n",
       "size_sqft                                                            1200   \n",
       "created_at                                            2018-06-07 16:58:02   \n",
       "addr_street                                            186 SCHOLES STREET   \n",
       "addr_city                                                        Brooklyn   \n",
       "addr_zip                                                            11206   \n",
       "addr_lat                                                          40.7087   \n",
       "addr_lon                                                         -73.9416   \n",
       "bin                                                           3.07101e+06   \n",
       "bbl                                                            3030450001   \n",
       "floor_count                                                             3   \n",
       "year_built                                                           1920   \n",
       "min_to_subway                                                        1.65   \n",
       "has_doorman                                                             0   \n",
       "has_elevator                                                            0   \n",
       "has_fireplace                                                           0   \n",
       "has_dishwasher                                                          1   \n",
       "is_furnished                                                            0   \n",
       "has_gym                                                                 0   \n",
       "allows_pets                                                             1   \n",
       "has_washer_dryer                                                        0   \n",
       "has_garage                                                              0   \n",
       "has_roofdeck                                                            1   \n",
       "has_concierge                                                           0   \n",
       "has_pool                                                                0   \n",
       "has_garden                                                              0   \n",
       "has_childrens_playroom                                                  0   \n",
       "rent                                                                 5200   \n",
       "no_fee                                                                  1   \n",
       "description             Truly rare, high quality finishes with this BR...   \n",
       "neighborhood                                                 Williamsburg   \n",
       "borough                                                          Brooklyn   \n",
       "unit                                                                   3F   \n",
       "floornumber                                                             3   \n",
       "line                                                                    F   \n",
       "\n",
       "rental_id                                                         7364116  \n",
       "addr_unit                                                             #1B  \n",
       "building_id                                                        331207  \n",
       "bedrooms                                                                2  \n",
       "bathrooms                                                               1  \n",
       "size_sqft                                                             700  \n",
       "created_at                                            2018-07-13 14:26:13  \n",
       "addr_street                                            221 ST JAMES PLACE  \n",
       "addr_city                                                        Brooklyn  \n",
       "addr_zip                                                            11238  \n",
       "addr_lat                                                           40.683  \n",
       "addr_lon                                                         -73.9635  \n",
       "bin                                                           3.05668e+06  \n",
       "bbl                                                            3019800001  \n",
       "floor_count                                                             4  \n",
       "year_built                                                           1930  \n",
       "min_to_subway                                                        1.45  \n",
       "has_doorman                                                             0  \n",
       "has_elevator                                                            0  \n",
       "has_fireplace                                                           0  \n",
       "has_dishwasher                                                          1  \n",
       "is_furnished                                                            0  \n",
       "has_gym                                                                 0  \n",
       "allows_pets                                                             1  \n",
       "has_washer_dryer                                                        0  \n",
       "has_garage                                                              0  \n",
       "has_roofdeck                                                            1  \n",
       "has_concierge                                                           0  \n",
       "has_pool                                                                0  \n",
       "has_garden                                                              0  \n",
       "has_childrens_playroom                                                  0  \n",
       "rent                                                                 2600  \n",
       "no_fee                                                                  1  \n",
       "description             Beautiful 2 bedroom available on Saint James a...  \n",
       "neighborhood                                                 Clinton Hill  \n",
       "borough                                                          Brooklyn  \n",
       "unit                                                                   1B  \n",
       "floornumber                                                             1  \n",
       "line                                                                    B  "
      ]
     },
     "execution_count": 3,
     "metadata": {},
     "output_type": "execute_result"
    }
   ],
   "source": [
    "train_df.sample(5).transpose()"
   ]
  },
  {
   "cell_type": "code",
   "execution_count": 4,
   "metadata": {
    "colab": {
     "base_uri": "https://localhost:8080/",
     "height": 34
    },
    "colab_type": "code",
    "executionInfo": {
     "elapsed": 417,
     "status": "ok",
     "timestamp": 1574368676864,
     "user": {
      "displayName": "Jacinta Moore",
      "photoUrl": "",
      "userId": "14215851766389388616"
     },
     "user_tz": 300
    },
    "id": "Z5F5catir0BW",
    "outputId": "34ff74de-266d-4537-ca26-c67b75489874"
   },
   "outputs": [
    {
     "data": {
      "text/plain": [
       "(12000, 38)"
      ]
     },
     "execution_count": 4,
     "metadata": {},
     "output_type": "execute_result"
    }
   ],
   "source": [
    "train_df.shape"
   ]
  },
  {
   "cell_type": "code",
   "execution_count": 5,
   "metadata": {
    "colab": {
     "base_uri": "https://localhost:8080/",
     "height": 34
    },
    "colab_type": "code",
    "executionInfo": {
     "elapsed": 390,
     "status": "ok",
     "timestamp": 1574368687206,
     "user": {
      "displayName": "Jacinta Moore",
      "photoUrl": "",
      "userId": "14215851766389388616"
     },
     "user_tz": 300
    },
    "id": "e-o5NYKor5j1",
    "outputId": "ef990429-d838-4277-96ba-dbac2a67b54e"
   },
   "outputs": [
    {
     "data": {
      "text/plain": [
       "(2000, 38)"
      ]
     },
     "execution_count": 5,
     "metadata": {},
     "output_type": "execute_result"
    }
   ],
   "source": [
    "test_df.shape"
   ]
  },
  {
   "cell_type": "code",
   "execution_count": 6,
   "metadata": {},
   "outputs": [
    {
     "data": {
      "text/plain": [
       "(2000, 38)"
      ]
     },
     "execution_count": 6,
     "metadata": {},
     "output_type": "execute_result"
    }
   ],
   "source": [
    "submit1_df.shape"
   ]
  },
  {
   "cell_type": "code",
   "execution_count": 8,
   "metadata": {
    "colab": {
     "base_uri": "https://localhost:8080/",
     "height": 269
    },
    "colab_type": "code",
    "executionInfo": {
     "elapsed": 800,
     "status": "ok",
     "timestamp": 1574366466380,
     "user": {
      "displayName": "Jacinta Moore",
      "photoUrl": "",
      "userId": "14215851766389388616"
     },
     "user_tz": 300
    },
    "id": "6j_eaNSqrT5D",
    "outputId": "b09f9e52-c735-41fa-aef3-8995a0288693"
   },
   "outputs": [
    {
     "data": {
      "image/png": "[encoded data removed]",
      "text/plain": [
       "<Figure size 432x288 with 1 Axes>"
      ]
     },
     "metadata": {
      "needs_background": "light"
     },
     "output_type": "display_data"
    }
   ],
   "source": [
    "_ = plt.hist(train_df['rent'], bins=100)"
   ]
  },
  {
   "cell_type": "code",
   "execution_count": null,
   "metadata": {
    "colab": {
     "base_uri": "https://localhost:8080/",
     "height": 168
    },
    "colab_type": "code",
    "executionInfo": {
     "elapsed": 496,
     "status": "ok",
     "timestamp": 1574366467446,
     "user": {
      "displayName": "Jacinta Moore",
      "photoUrl": "",
      "userId": "14215851766389388616"
     },
     "user_tz": 300
    },
    "id": "K5EQekB9rUKa",
    "outputId": "53c7277d-84ca-4a28-8ea2-72e63cfc424d"
   },
   "outputs": [],
   "source": [
    "train_df['rent'].describe()"
   ]
  },
  {
   "cell_type": "code",
   "execution_count": null,
   "metadata": {
    "colab": {
     "base_uri": "https://localhost:8080/",
     "height": 34
    },
    "colab_type": "code",
    "executionInfo": {
     "elapsed": 368,
     "status": "ok",
     "timestamp": 1574366472147,
     "user": {
      "displayName": "Jacinta Moore",
      "photoUrl": "",
      "userId": "14215851766389388616"
     },
     "user_tz": 300
    },
    "id": "-lxPtxAprUfW",
    "outputId": "b73166aa-2926-4b71-dfda-2d5d825a9806"
   },
   "outputs": [],
   "source": [
    "train_df['rent'].isna().sum()"
   ]
  },
  {
   "cell_type": "code",
   "execution_count": null,
   "metadata": {
    "colab": {
     "base_uri": "https://localhost:8080/",
     "height": 54
    },
    "colab_type": "code",
    "executionInfo": {
     "elapsed": 343,
     "status": "ok",
     "timestamp": 1574366473330,
     "user": {
      "displayName": "Jacinta Moore",
      "photoUrl": "",
      "userId": "14215851766389388616"
     },
     "user_tz": 300
    },
    "id": "EAAqPpaCnI0d",
    "outputId": "9603f889-3f78-4983-e2b0-ce83b0b570ba"
   },
   "outputs": [],
   "source": [
    "print(list(train_df))"
   ]
  },
  {
   "cell_type": "code",
   "execution_count": null,
   "metadata": {
    "colab": {
     "base_uri": "https://localhost:8080/",
     "height": 304
    },
    "colab_type": "code",
    "executionInfo": {
     "elapsed": 650,
     "status": "ok",
     "timestamp": 1574366474768,
     "user": {
      "displayName": "Jacinta Moore",
      "photoUrl": "",
      "userId": "14215851766389388616"
     },
     "user_tz": 300
    },
    "id": "aMnR3TkCnI0f",
    "outputId": "ddbf6bf3-d724-483d-d770-d4281e997a5b"
   },
   "outputs": [],
   "source": [
    "train_df.describe()"
   ]
  },
  {
   "cell_type": "code",
   "execution_count": 9,
   "metadata": {
    "colab": {
     "base_uri": "https://localhost:8080/",
     "height": 926
    },
    "colab_type": "code",
    "executionInfo": {
     "elapsed": 449,
     "status": "ok",
     "timestamp": 1574366479688,
     "user": {
      "displayName": "Jacinta Moore",
      "photoUrl": "",
      "userId": "14215851766389388616"
     },
     "user_tz": 300
    },
    "id": "M3j05EiHr627",
    "outputId": "e31fdf32-fa4b-4d0c-dcc7-0ee39bffd62b",
    "scrolled": false
   },
   "outputs": [
    {
     "data": {
      "text/html": [
       "<div>\n",
       "<style scoped>\n",
       "    .dataframe tbody tr th:only-of-type {\n",
       "        vertical-align: middle;\n",
       "    }\n",
       "\n",
       "    .dataframe tbody tr th {\n",
       "        vertical-align: top;\n",
       "    }\n",
       "\n",
       "    .dataframe thead th {\n",
       "        text-align: right;\n",
       "    }\n",
       "</style>\n",
       "<table border=\"1\" class=\"dataframe\">\n",
       "  <thead>\n",
       "    <tr style=\"text-align: right;\">\n",
       "      <th></th>\n",
       "      <th>building_id</th>\n",
       "      <th>bedrooms</th>\n",
       "      <th>bathrooms</th>\n",
       "      <th>size_sqft</th>\n",
       "      <th>addr_zip</th>\n",
       "      <th>addr_lat</th>\n",
       "      <th>addr_lon</th>\n",
       "      <th>bin</th>\n",
       "      <th>bbl</th>\n",
       "      <th>floor_count</th>\n",
       "      <th>...</th>\n",
       "      <th>has_washer_dryer</th>\n",
       "      <th>has_garage</th>\n",
       "      <th>has_roofdeck</th>\n",
       "      <th>has_concierge</th>\n",
       "      <th>has_pool</th>\n",
       "      <th>has_garden</th>\n",
       "      <th>has_childrens_playroom</th>\n",
       "      <th>rent</th>\n",
       "      <th>no_fee</th>\n",
       "      <th>floornumber</th>\n",
       "    </tr>\n",
       "  </thead>\n",
       "  <tbody>\n",
       "    <tr>\n",
       "      <td>building_id</td>\n",
       "      <td>1.000000</td>\n",
       "      <td>-0.001813</td>\n",
       "      <td>-0.016501</td>\n",
       "      <td>-0.006433</td>\n",
       "      <td>0.064199</td>\n",
       "      <td>-0.008653</td>\n",
       "      <td>0.105315</td>\n",
       "      <td>0.117460</td>\n",
       "      <td>0.090194</td>\n",
       "      <td>-0.116488</td>\n",
       "      <td>...</td>\n",
       "      <td>-0.030651</td>\n",
       "      <td>0.099141</td>\n",
       "      <td>-0.012773</td>\n",
       "      <td>-0.060398</td>\n",
       "      <td>0.038340</td>\n",
       "      <td>0.064100</td>\n",
       "      <td>0.011357</td>\n",
       "      <td>-0.035145</td>\n",
       "      <td>0.052429</td>\n",
       "      <td>-0.003418</td>\n",
       "    </tr>\n",
       "    <tr>\n",
       "      <td>bedrooms</td>\n",
       "      <td>-0.001813</td>\n",
       "      <td>1.000000</td>\n",
       "      <td>0.464287</td>\n",
       "      <td>0.525537</td>\n",
       "      <td>0.187639</td>\n",
       "      <td>-0.114986</td>\n",
       "      <td>0.093089</td>\n",
       "      <td>0.142331</td>\n",
       "      <td>0.151078</td>\n",
       "      <td>-0.228858</td>\n",
       "      <td>...</td>\n",
       "      <td>0.117120</td>\n",
       "      <td>-0.116837</td>\n",
       "      <td>-0.085111</td>\n",
       "      <td>-0.202524</td>\n",
       "      <td>-0.091116</td>\n",
       "      <td>0.048234</td>\n",
       "      <td>-0.083456</td>\n",
       "      <td>0.353337</td>\n",
       "      <td>-0.004335</td>\n",
       "      <td>-0.158895</td>\n",
       "    </tr>\n",
       "    <tr>\n",
       "      <td>bathrooms</td>\n",
       "      <td>-0.016501</td>\n",
       "      <td>0.464287</td>\n",
       "      <td>1.000000</td>\n",
       "      <td>0.565788</td>\n",
       "      <td>-0.088524</td>\n",
       "      <td>0.028441</td>\n",
       "      <td>-0.062992</td>\n",
       "      <td>-0.100642</td>\n",
       "      <td>-0.106358</td>\n",
       "      <td>0.091489</td>\n",
       "      <td>...</td>\n",
       "      <td>0.298722</td>\n",
       "      <td>0.051650</td>\n",
       "      <td>0.102592</td>\n",
       "      <td>0.105276</td>\n",
       "      <td>0.089527</td>\n",
       "      <td>0.104741</td>\n",
       "      <td>0.111949</td>\n",
       "      <td>0.611987</td>\n",
       "      <td>-0.003053</td>\n",
       "      <td>0.116938</td>\n",
       "    </tr>\n",
       "    <tr>\n",
       "      <td>size_sqft</td>\n",
       "      <td>-0.006433</td>\n",
       "      <td>0.525537</td>\n",
       "      <td>0.565788</td>\n",
       "      <td>1.000000</td>\n",
       "      <td>0.000576</td>\n",
       "      <td>-0.037717</td>\n",
       "      <td>-0.035054</td>\n",
       "      <td>-0.013148</td>\n",
       "      <td>-0.011608</td>\n",
       "      <td>0.020547</td>\n",
       "      <td>...</td>\n",
       "      <td>0.263907</td>\n",
       "      <td>0.005959</td>\n",
       "      <td>0.026781</td>\n",
       "      <td>0.040962</td>\n",
       "      <td>0.051020</td>\n",
       "      <td>0.137652</td>\n",
       "      <td>0.068867</td>\n",
       "      <td>0.649984</td>\n",
       "      <td>-0.074162</td>\n",
       "      <td>0.054328</td>\n",
       "    </tr>\n",
       "    <tr>\n",
       "      <td>addr_zip</td>\n",
       "      <td>0.064199</td>\n",
       "      <td>0.187639</td>\n",
       "      <td>-0.088524</td>\n",
       "      <td>0.000576</td>\n",
       "      <td>1.000000</td>\n",
       "      <td>-0.577385</td>\n",
       "      <td>0.462277</td>\n",
       "      <td>0.950995</td>\n",
       "      <td>0.952018</td>\n",
       "      <td>-0.447352</td>\n",
       "      <td>...</td>\n",
       "      <td>-0.113234</td>\n",
       "      <td>-0.116047</td>\n",
       "      <td>-0.107670</td>\n",
       "      <td>-0.354300</td>\n",
       "      <td>-0.193333</td>\n",
       "      <td>-0.006699</td>\n",
       "      <td>-0.162588</td>\n",
       "      <td>-0.325241</td>\n",
       "      <td>-0.066025</td>\n",
       "      <td>-0.376063</td>\n",
       "    </tr>\n",
       "    <tr>\n",
       "      <td>addr_lat</td>\n",
       "      <td>-0.008653</td>\n",
       "      <td>-0.114986</td>\n",
       "      <td>0.028441</td>\n",
       "      <td>-0.037717</td>\n",
       "      <td>-0.577385</td>\n",
       "      <td>1.000000</td>\n",
       "      <td>0.219029</td>\n",
       "      <td>-0.429858</td>\n",
       "      <td>-0.424711</td>\n",
       "      <td>0.195647</td>\n",
       "      <td>...</td>\n",
       "      <td>0.013967</td>\n",
       "      <td>0.057687</td>\n",
       "      <td>-0.000782</td>\n",
       "      <td>0.146865</td>\n",
       "      <td>0.104243</td>\n",
       "      <td>0.000178</td>\n",
       "      <td>0.066387</td>\n",
       "      <td>0.109536</td>\n",
       "      <td>0.002401</td>\n",
       "      <td>0.170598</td>\n",
       "    </tr>\n",
       "    <tr>\n",
       "      <td>addr_lon</td>\n",
       "      <td>0.105315</td>\n",
       "      <td>0.093089</td>\n",
       "      <td>-0.062992</td>\n",
       "      <td>-0.035054</td>\n",
       "      <td>0.462277</td>\n",
       "      <td>0.219029</td>\n",
       "      <td>1.000000</td>\n",
       "      <td>0.554511</td>\n",
       "      <td>0.563806</td>\n",
       "      <td>-0.281790</td>\n",
       "      <td>...</td>\n",
       "      <td>-0.165555</td>\n",
       "      <td>-0.055615</td>\n",
       "      <td>-0.168426</td>\n",
       "      <td>-0.270704</td>\n",
       "      <td>-0.100606</td>\n",
       "      <td>-0.038981</td>\n",
       "      <td>-0.140828</td>\n",
       "      <td>-0.262711</td>\n",
       "      <td>-0.041091</td>\n",
       "      <td>-0.239193</td>\n",
       "    </tr>\n",
       "    <tr>\n",
       "      <td>bin</td>\n",
       "      <td>0.117460</td>\n",
       "      <td>0.142331</td>\n",
       "      <td>-0.100642</td>\n",
       "      <td>-0.013148</td>\n",
       "      <td>0.950995</td>\n",
       "      <td>-0.429858</td>\n",
       "      <td>0.554511</td>\n",
       "      <td>1.000000</td>\n",
       "      <td>0.994155</td>\n",
       "      <td>-0.426813</td>\n",
       "      <td>...</td>\n",
       "      <td>-0.119801</td>\n",
       "      <td>-0.089042</td>\n",
       "      <td>-0.112548</td>\n",
       "      <td>-0.323696</td>\n",
       "      <td>-0.182156</td>\n",
       "      <td>-0.007928</td>\n",
       "      <td>-0.144938</td>\n",
       "      <td>-0.332165</td>\n",
       "      <td>-0.111486</td>\n",
       "      <td>-0.350957</td>\n",
       "    </tr>\n",
       "    <tr>\n",
       "      <td>bbl</td>\n",
       "      <td>0.090194</td>\n",
       "      <td>0.151078</td>\n",
       "      <td>-0.106358</td>\n",
       "      <td>-0.011608</td>\n",
       "      <td>0.952018</td>\n",
       "      <td>-0.424711</td>\n",
       "      <td>0.563806</td>\n",
       "      <td>0.994155</td>\n",
       "      <td>1.000000</td>\n",
       "      <td>-0.442496</td>\n",
       "      <td>...</td>\n",
       "      <td>-0.137143</td>\n",
       "      <td>-0.109457</td>\n",
       "      <td>-0.135245</td>\n",
       "      <td>-0.346828</td>\n",
       "      <td>-0.193851</td>\n",
       "      <td>-0.021434</td>\n",
       "      <td>-0.169315</td>\n",
       "      <td>-0.339157</td>\n",
       "      <td>-0.126716</td>\n",
       "      <td>-0.367065</td>\n",
       "    </tr>\n",
       "    <tr>\n",
       "      <td>floor_count</td>\n",
       "      <td>-0.116488</td>\n",
       "      <td>-0.228858</td>\n",
       "      <td>0.091489</td>\n",
       "      <td>0.020547</td>\n",
       "      <td>-0.447352</td>\n",
       "      <td>0.195647</td>\n",
       "      <td>-0.281790</td>\n",
       "      <td>-0.426813</td>\n",
       "      <td>-0.442496</td>\n",
       "      <td>1.000000</td>\n",
       "      <td>...</td>\n",
       "      <td>0.177199</td>\n",
       "      <td>0.380581</td>\n",
       "      <td>0.361168</td>\n",
       "      <td>0.655252</td>\n",
       "      <td>0.498138</td>\n",
       "      <td>0.084536</td>\n",
       "      <td>0.395460</td>\n",
       "      <td>0.253517</td>\n",
       "      <td>0.185316</td>\n",
       "      <td>0.769707</td>\n",
       "    </tr>\n",
       "    <tr>\n",
       "      <td>year_built</td>\n",
       "      <td>0.026593</td>\n",
       "      <td>-0.056614</td>\n",
       "      <td>-0.004480</td>\n",
       "      <td>-0.021524</td>\n",
       "      <td>-0.004916</td>\n",
       "      <td>-0.002415</td>\n",
       "      <td>-0.003623</td>\n",
       "      <td>0.010451</td>\n",
       "      <td>0.005694</td>\n",
       "      <td>0.151318</td>\n",
       "      <td>...</td>\n",
       "      <td>0.006949</td>\n",
       "      <td>0.084148</td>\n",
       "      <td>0.082307</td>\n",
       "      <td>0.085210</td>\n",
       "      <td>0.051083</td>\n",
       "      <td>0.006335</td>\n",
       "      <td>0.051941</td>\n",
       "      <td>-0.001037</td>\n",
       "      <td>0.049746</td>\n",
       "      <td>0.095295</td>\n",
       "    </tr>\n",
       "    <tr>\n",
       "      <td>min_to_subway</td>\n",
       "      <td>-0.006980</td>\n",
       "      <td>0.014171</td>\n",
       "      <td>0.017966</td>\n",
       "      <td>0.007718</td>\n",
       "      <td>0.023660</td>\n",
       "      <td>-0.026215</td>\n",
       "      <td>-0.012528</td>\n",
       "      <td>0.021091</td>\n",
       "      <td>0.015880</td>\n",
       "      <td>-0.011722</td>\n",
       "      <td>...</td>\n",
       "      <td>0.035343</td>\n",
       "      <td>0.031686</td>\n",
       "      <td>0.006643</td>\n",
       "      <td>-0.013324</td>\n",
       "      <td>-0.007238</td>\n",
       "      <td>0.009395</td>\n",
       "      <td>-0.007989</td>\n",
       "      <td>0.000010</td>\n",
       "      <td>-0.005945</td>\n",
       "      <td>-0.012333</td>\n",
       "    </tr>\n",
       "    <tr>\n",
       "      <td>has_doorman</td>\n",
       "      <td>-0.042830</td>\n",
       "      <td>-0.233059</td>\n",
       "      <td>0.108987</td>\n",
       "      <td>0.047766</td>\n",
       "      <td>-0.410034</td>\n",
       "      <td>0.191486</td>\n",
       "      <td>-0.259673</td>\n",
       "      <td>-0.380284</td>\n",
       "      <td>-0.403373</td>\n",
       "      <td>0.664202</td>\n",
       "      <td>...</td>\n",
       "      <td>0.248036</td>\n",
       "      <td>0.406196</td>\n",
       "      <td>0.421955</td>\n",
       "      <td>0.668138</td>\n",
       "      <td>0.340186</td>\n",
       "      <td>0.142268</td>\n",
       "      <td>0.345234</td>\n",
       "      <td>0.273486</td>\n",
       "      <td>0.252027</td>\n",
       "      <td>0.523314</td>\n",
       "    </tr>\n",
       "    <tr>\n",
       "      <td>has_elevator</td>\n",
       "      <td>0.061696</td>\n",
       "      <td>-0.278231</td>\n",
       "      <td>0.095867</td>\n",
       "      <td>0.029836</td>\n",
       "      <td>-0.362939</td>\n",
       "      <td>0.167685</td>\n",
       "      <td>-0.182011</td>\n",
       "      <td>-0.326176</td>\n",
       "      <td>-0.351657</td>\n",
       "      <td>0.560443</td>\n",
       "      <td>...</td>\n",
       "      <td>0.203386</td>\n",
       "      <td>0.392328</td>\n",
       "      <td>0.409244</td>\n",
       "      <td>0.526443</td>\n",
       "      <td>0.273776</td>\n",
       "      <td>0.099298</td>\n",
       "      <td>0.304430</td>\n",
       "      <td>0.238692</td>\n",
       "      <td>0.228047</td>\n",
       "      <td>0.453474</td>\n",
       "    </tr>\n",
       "    <tr>\n",
       "      <td>has_fireplace</td>\n",
       "      <td>-0.031611</td>\n",
       "      <td>0.049998</td>\n",
       "      <td>0.124532</td>\n",
       "      <td>0.155044</td>\n",
       "      <td>-0.072233</td>\n",
       "      <td>0.019505</td>\n",
       "      <td>-0.070451</td>\n",
       "      <td>-0.084767</td>\n",
       "      <td>-0.081656</td>\n",
       "      <td>-0.024808</td>\n",
       "      <td>...</td>\n",
       "      <td>0.088507</td>\n",
       "      <td>-0.030127</td>\n",
       "      <td>-0.013023</td>\n",
       "      <td>-0.025240</td>\n",
       "      <td>0.000800</td>\n",
       "      <td>0.049034</td>\n",
       "      <td>-0.010935</td>\n",
       "      <td>0.163483</td>\n",
       "      <td>-0.052129</td>\n",
       "      <td>-0.008051</td>\n",
       "    </tr>\n",
       "    <tr>\n",
       "      <td>has_dishwasher</td>\n",
       "      <td>0.023323</td>\n",
       "      <td>0.046002</td>\n",
       "      <td>0.161132</td>\n",
       "      <td>0.111761</td>\n",
       "      <td>-0.166108</td>\n",
       "      <td>0.078029</td>\n",
       "      <td>-0.138343</td>\n",
       "      <td>-0.173532</td>\n",
       "      <td>-0.185248</td>\n",
       "      <td>0.229530</td>\n",
       "      <td>...</td>\n",
       "      <td>0.334376</td>\n",
       "      <td>0.212473</td>\n",
       "      <td>0.286309</td>\n",
       "      <td>0.258104</td>\n",
       "      <td>0.112804</td>\n",
       "      <td>0.089919</td>\n",
       "      <td>0.121131</td>\n",
       "      <td>0.187002</td>\n",
       "      <td>0.276597</td>\n",
       "      <td>0.172159</td>\n",
       "    </tr>\n",
       "    <tr>\n",
       "      <td>is_furnished</td>\n",
       "      <td>-0.012521</td>\n",
       "      <td>-0.046021</td>\n",
       "      <td>0.050068</td>\n",
       "      <td>0.041965</td>\n",
       "      <td>-0.135857</td>\n",
       "      <td>0.054610</td>\n",
       "      <td>-0.085478</td>\n",
       "      <td>-0.131706</td>\n",
       "      <td>-0.132950</td>\n",
       "      <td>0.112042</td>\n",
       "      <td>...</td>\n",
       "      <td>0.086711</td>\n",
       "      <td>-0.002425</td>\n",
       "      <td>0.058287</td>\n",
       "      <td>0.076347</td>\n",
       "      <td>0.054185</td>\n",
       "      <td>0.034308</td>\n",
       "      <td>0.059076</td>\n",
       "      <td>0.133343</td>\n",
       "      <td>-0.028827</td>\n",
       "      <td>0.090309</td>\n",
       "    </tr>\n",
       "    <tr>\n",
       "      <td>has_gym</td>\n",
       "      <td>0.004550</td>\n",
       "      <td>-0.206094</td>\n",
       "      <td>0.113062</td>\n",
       "      <td>0.022605</td>\n",
       "      <td>-0.287916</td>\n",
       "      <td>0.115376</td>\n",
       "      <td>-0.224737</td>\n",
       "      <td>-0.263453</td>\n",
       "      <td>-0.292240</td>\n",
       "      <td>0.633673</td>\n",
       "      <td>...</td>\n",
       "      <td>0.292996</td>\n",
       "      <td>0.432486</td>\n",
       "      <td>0.535142</td>\n",
       "      <td>0.664979</td>\n",
       "      <td>0.394261</td>\n",
       "      <td>0.169583</td>\n",
       "      <td>0.460646</td>\n",
       "      <td>0.248213</td>\n",
       "      <td>0.285377</td>\n",
       "      <td>0.518792</td>\n",
       "    </tr>\n",
       "    <tr>\n",
       "      <td>allows_pets</td>\n",
       "      <td>0.040899</td>\n",
       "      <td>0.023819</td>\n",
       "      <td>0.087348</td>\n",
       "      <td>0.032325</td>\n",
       "      <td>-0.115378</td>\n",
       "      <td>0.015503</td>\n",
       "      <td>-0.153365</td>\n",
       "      <td>-0.144695</td>\n",
       "      <td>-0.160086</td>\n",
       "      <td>0.205669</td>\n",
       "      <td>...</td>\n",
       "      <td>0.177554</td>\n",
       "      <td>0.180943</td>\n",
       "      <td>0.270345</td>\n",
       "      <td>0.266168</td>\n",
       "      <td>0.093398</td>\n",
       "      <td>0.130835</td>\n",
       "      <td>0.162443</td>\n",
       "      <td>0.149247</td>\n",
       "      <td>0.271594</td>\n",
       "      <td>0.175281</td>\n",
       "    </tr>\n",
       "    <tr>\n",
       "      <td>has_washer_dryer</td>\n",
       "      <td>-0.030651</td>\n",
       "      <td>0.117120</td>\n",
       "      <td>0.298722</td>\n",
       "      <td>0.263907</td>\n",
       "      <td>-0.113234</td>\n",
       "      <td>0.013967</td>\n",
       "      <td>-0.165555</td>\n",
       "      <td>-0.119801</td>\n",
       "      <td>-0.137143</td>\n",
       "      <td>0.177199</td>\n",
       "      <td>...</td>\n",
       "      <td>1.000000</td>\n",
       "      <td>0.088676</td>\n",
       "      <td>0.239291</td>\n",
       "      <td>0.268367</td>\n",
       "      <td>0.106097</td>\n",
       "      <td>0.121955</td>\n",
       "      <td>0.191961</td>\n",
       "      <td>0.343123</td>\n",
       "      <td>0.120897</td>\n",
       "      <td>0.154859</td>\n",
       "    </tr>\n",
       "    <tr>\n",
       "      <td>has_garage</td>\n",
       "      <td>0.099141</td>\n",
       "      <td>-0.116837</td>\n",
       "      <td>0.051650</td>\n",
       "      <td>0.005959</td>\n",
       "      <td>-0.116047</td>\n",
       "      <td>0.057687</td>\n",
       "      <td>-0.055615</td>\n",
       "      <td>-0.089042</td>\n",
       "      <td>-0.109457</td>\n",
       "      <td>0.380581</td>\n",
       "      <td>...</td>\n",
       "      <td>0.088676</td>\n",
       "      <td>1.000000</td>\n",
       "      <td>0.295535</td>\n",
       "      <td>0.383031</td>\n",
       "      <td>0.323507</td>\n",
       "      <td>0.148442</td>\n",
       "      <td>0.244646</td>\n",
       "      <td>0.095437</td>\n",
       "      <td>0.180798</td>\n",
       "      <td>0.311203</td>\n",
       "    </tr>\n",
       "    <tr>\n",
       "      <td>has_roofdeck</td>\n",
       "      <td>-0.012773</td>\n",
       "      <td>-0.085111</td>\n",
       "      <td>0.102592</td>\n",
       "      <td>0.026781</td>\n",
       "      <td>-0.107670</td>\n",
       "      <td>-0.000782</td>\n",
       "      <td>-0.168426</td>\n",
       "      <td>-0.112548</td>\n",
       "      <td>-0.135245</td>\n",
       "      <td>0.361168</td>\n",
       "      <td>...</td>\n",
       "      <td>0.239291</td>\n",
       "      <td>0.295535</td>\n",
       "      <td>1.000000</td>\n",
       "      <td>0.413147</td>\n",
       "      <td>0.193187</td>\n",
       "      <td>0.166055</td>\n",
       "      <td>0.297292</td>\n",
       "      <td>0.174243</td>\n",
       "      <td>0.260231</td>\n",
       "      <td>0.291481</td>\n",
       "    </tr>\n",
       "    <tr>\n",
       "      <td>has_concierge</td>\n",
       "      <td>-0.060398</td>\n",
       "      <td>-0.202524</td>\n",
       "      <td>0.105276</td>\n",
       "      <td>0.040962</td>\n",
       "      <td>-0.354300</td>\n",
       "      <td>0.146865</td>\n",
       "      <td>-0.270704</td>\n",
       "      <td>-0.323696</td>\n",
       "      <td>-0.346828</td>\n",
       "      <td>0.655252</td>\n",
       "      <td>...</td>\n",
       "      <td>0.268367</td>\n",
       "      <td>0.383031</td>\n",
       "      <td>0.413147</td>\n",
       "      <td>1.000000</td>\n",
       "      <td>0.342509</td>\n",
       "      <td>0.179550</td>\n",
       "      <td>0.475757</td>\n",
       "      <td>0.260079</td>\n",
       "      <td>0.210697</td>\n",
       "      <td>0.535699</td>\n",
       "    </tr>\n",
       "    <tr>\n",
       "      <td>has_pool</td>\n",
       "      <td>0.038340</td>\n",
       "      <td>-0.091116</td>\n",
       "      <td>0.089527</td>\n",
       "      <td>0.051020</td>\n",
       "      <td>-0.193333</td>\n",
       "      <td>0.104243</td>\n",
       "      <td>-0.100606</td>\n",
       "      <td>-0.182156</td>\n",
       "      <td>-0.193851</td>\n",
       "      <td>0.498138</td>\n",
       "      <td>...</td>\n",
       "      <td>0.106097</td>\n",
       "      <td>0.323507</td>\n",
       "      <td>0.193187</td>\n",
       "      <td>0.342509</td>\n",
       "      <td>1.000000</td>\n",
       "      <td>0.088873</td>\n",
       "      <td>0.367574</td>\n",
       "      <td>0.170412</td>\n",
       "      <td>0.065794</td>\n",
       "      <td>0.398257</td>\n",
       "    </tr>\n",
       "    <tr>\n",
       "      <td>has_garden</td>\n",
       "      <td>0.064100</td>\n",
       "      <td>0.048234</td>\n",
       "      <td>0.104741</td>\n",
       "      <td>0.137652</td>\n",
       "      <td>-0.006699</td>\n",
       "      <td>0.000178</td>\n",
       "      <td>-0.038981</td>\n",
       "      <td>-0.007928</td>\n",
       "      <td>-0.021434</td>\n",
       "      <td>0.084536</td>\n",
       "      <td>...</td>\n",
       "      <td>0.121955</td>\n",
       "      <td>0.148442</td>\n",
       "      <td>0.166055</td>\n",
       "      <td>0.179550</td>\n",
       "      <td>0.088873</td>\n",
       "      <td>1.000000</td>\n",
       "      <td>0.247550</td>\n",
       "      <td>0.138419</td>\n",
       "      <td>0.053346</td>\n",
       "      <td>0.062580</td>\n",
       "    </tr>\n",
       "    <tr>\n",
       "      <td>has_childrens_playroom</td>\n",
       "      <td>0.011357</td>\n",
       "      <td>-0.083456</td>\n",
       "      <td>0.111949</td>\n",
       "      <td>0.068867</td>\n",
       "      <td>-0.162588</td>\n",
       "      <td>0.066387</td>\n",
       "      <td>-0.140828</td>\n",
       "      <td>-0.144938</td>\n",
       "      <td>-0.169315</td>\n",
       "      <td>0.395460</td>\n",
       "      <td>...</td>\n",
       "      <td>0.191961</td>\n",
       "      <td>0.244646</td>\n",
       "      <td>0.297292</td>\n",
       "      <td>0.475757</td>\n",
       "      <td>0.367574</td>\n",
       "      <td>0.247550</td>\n",
       "      <td>1.000000</td>\n",
       "      <td>0.193130</td>\n",
       "      <td>0.087075</td>\n",
       "      <td>0.322977</td>\n",
       "    </tr>\n",
       "    <tr>\n",
       "      <td>rent</td>\n",
       "      <td>-0.035145</td>\n",
       "      <td>0.353337</td>\n",
       "      <td>0.611987</td>\n",
       "      <td>0.649984</td>\n",
       "      <td>-0.325241</td>\n",
       "      <td>0.109536</td>\n",
       "      <td>-0.262711</td>\n",
       "      <td>-0.332165</td>\n",
       "      <td>-0.339157</td>\n",
       "      <td>0.253517</td>\n",
       "      <td>...</td>\n",
       "      <td>0.343123</td>\n",
       "      <td>0.095437</td>\n",
       "      <td>0.174243</td>\n",
       "      <td>0.260079</td>\n",
       "      <td>0.170412</td>\n",
       "      <td>0.138419</td>\n",
       "      <td>0.193130</td>\n",
       "      <td>1.000000</td>\n",
       "      <td>-0.001163</td>\n",
       "      <td>0.267151</td>\n",
       "    </tr>\n",
       "    <tr>\n",
       "      <td>no_fee</td>\n",
       "      <td>0.052429</td>\n",
       "      <td>-0.004335</td>\n",
       "      <td>-0.003053</td>\n",
       "      <td>-0.074162</td>\n",
       "      <td>-0.066025</td>\n",
       "      <td>0.002401</td>\n",
       "      <td>-0.041091</td>\n",
       "      <td>-0.111486</td>\n",
       "      <td>-0.126716</td>\n",
       "      <td>0.185316</td>\n",
       "      <td>...</td>\n",
       "      <td>0.120897</td>\n",
       "      <td>0.180798</td>\n",
       "      <td>0.260231</td>\n",
       "      <td>0.210697</td>\n",
       "      <td>0.065794</td>\n",
       "      <td>0.053346</td>\n",
       "      <td>0.087075</td>\n",
       "      <td>-0.001163</td>\n",
       "      <td>1.000000</td>\n",
       "      <td>0.157909</td>\n",
       "    </tr>\n",
       "    <tr>\n",
       "      <td>floornumber</td>\n",
       "      <td>-0.003418</td>\n",
       "      <td>-0.158895</td>\n",
       "      <td>0.116938</td>\n",
       "      <td>0.054328</td>\n",
       "      <td>-0.376063</td>\n",
       "      <td>0.170598</td>\n",
       "      <td>-0.239193</td>\n",
       "      <td>-0.350957</td>\n",
       "      <td>-0.367065</td>\n",
       "      <td>0.769707</td>\n",
       "      <td>...</td>\n",
       "      <td>0.154859</td>\n",
       "      <td>0.311203</td>\n",
       "      <td>0.291481</td>\n",
       "      <td>0.535699</td>\n",
       "      <td>0.398257</td>\n",
       "      <td>0.062580</td>\n",
       "      <td>0.322977</td>\n",
       "      <td>0.267151</td>\n",
       "      <td>0.157909</td>\n",
       "      <td>1.000000</td>\n",
       "    </tr>\n",
       "  </tbody>\n",
       "</table>\n",
       "<p>29 rows × 29 columns</p>\n",
       "</div>"
      ],
      "text/plain": [
       "                        building_id  bedrooms  bathrooms  size_sqft  addr_zip  \\\n",
       "building_id                1.000000 -0.001813  -0.016501  -0.006433  0.064199   \n",
       "bedrooms                  -0.001813  1.000000   0.464287   0.525537  0.187639   \n",
       "bathrooms                 -0.016501  0.464287   1.000000   0.565788 -0.088524   \n",
       "size_sqft                 -0.006433  0.525537   0.565788   1.000000  0.000576   \n",
       "addr_zip                   0.064199  0.187639  -0.088524   0.000576  1.000000   \n",
       "addr_lat                  -0.008653 -0.114986   0.028441  -0.037717 -0.577385   \n",
       "addr_lon                   0.105315  0.093089  -0.062992  -0.035054  0.462277   \n",
       "bin                        0.117460  0.142331  -0.100642  -0.013148  0.950995   \n",
       "bbl                        0.090194  0.151078  -0.106358  -0.011608  0.952018   \n",
       "floor_count               -0.116488 -0.228858   0.091489   0.020547 -0.447352   \n",
       "year_built                 0.026593 -0.056614  -0.004480  -0.021524 -0.004916   \n",
       "min_to_subway             -0.006980  0.014171   0.017966   0.007718  0.023660   \n",
       "has_doorman               -0.042830 -0.233059   0.108987   0.047766 -0.410034   \n",
       "has_elevator               0.061696 -0.278231   0.095867   0.029836 -0.362939   \n",
       "has_fireplace             -0.031611  0.049998   0.124532   0.155044 -0.072233   \n",
       "has_dishwasher             0.023323  0.046002   0.161132   0.111761 -0.166108   \n",
       "is_furnished              -0.012521 -0.046021   0.050068   0.041965 -0.135857   \n",
       "has_gym                    0.004550 -0.206094   0.113062   0.022605 -0.287916   \n",
       "allows_pets                0.040899  0.023819   0.087348   0.032325 -0.115378   \n",
       "has_washer_dryer          -0.030651  0.117120   0.298722   0.263907 -0.113234   \n",
       "has_garage                 0.099141 -0.116837   0.051650   0.005959 -0.116047   \n",
       "has_roofdeck              -0.012773 -0.085111   0.102592   0.026781 -0.107670   \n",
       "has_concierge             -0.060398 -0.202524   0.105276   0.040962 -0.354300   \n",
       "has_pool                   0.038340 -0.091116   0.089527   0.051020 -0.193333   \n",
       "has_garden                 0.064100  0.048234   0.104741   0.137652 -0.006699   \n",
       "has_childrens_playroom     0.011357 -0.083456   0.111949   0.068867 -0.162588   \n",
       "rent                      -0.035145  0.353337   0.611987   0.649984 -0.325241   \n",
       "no_fee                     0.052429 -0.004335  -0.003053  -0.074162 -0.066025   \n",
       "floornumber               -0.003418 -0.158895   0.116938   0.054328 -0.376063   \n",
       "\n",
       "                        addr_lat  addr_lon       bin       bbl  floor_count  \\\n",
       "building_id            -0.008653  0.105315  0.117460  0.090194    -0.116488   \n",
       "bedrooms               -0.114986  0.093089  0.142331  0.151078    -0.228858   \n",
       "bathrooms               0.028441 -0.062992 -0.100642 -0.106358     0.091489   \n",
       "size_sqft              -0.037717 -0.035054 -0.013148 -0.011608     0.020547   \n",
       "addr_zip               -0.577385  0.462277  0.950995  0.952018    -0.447352   \n",
       "addr_lat                1.000000  0.219029 -0.429858 -0.424711     0.195647   \n",
       "addr_lon                0.219029  1.000000  0.554511  0.563806    -0.281790   \n",
       "bin                    -0.429858  0.554511  1.000000  0.994155    -0.426813   \n",
       "bbl                    -0.424711  0.563806  0.994155  1.000000    -0.442496   \n",
       "floor_count             0.195647 -0.281790 -0.426813 -0.442496     1.000000   \n",
       "year_built             -0.002415 -0.003623  0.010451  0.005694     0.151318   \n",
       "min_to_subway          -0.026215 -0.012528  0.021091  0.015880    -0.011722   \n",
       "has_doorman             0.191486 -0.259673 -0.380284 -0.403373     0.664202   \n",
       "has_elevator            0.167685 -0.182011 -0.326176 -0.351657     0.560443   \n",
       "has_fireplace           0.019505 -0.070451 -0.084767 -0.081656    -0.024808   \n",
       "has_dishwasher          0.078029 -0.138343 -0.173532 -0.185248     0.229530   \n",
       "is_furnished            0.054610 -0.085478 -0.131706 -0.132950     0.112042   \n",
       "has_gym                 0.115376 -0.224737 -0.263453 -0.292240     0.633673   \n",
       "allows_pets             0.015503 -0.153365 -0.144695 -0.160086     0.205669   \n",
       "has_washer_dryer        0.013967 -0.165555 -0.119801 -0.137143     0.177199   \n",
       "has_garage              0.057687 -0.055615 -0.089042 -0.109457     0.380581   \n",
       "has_roofdeck           -0.000782 -0.168426 -0.112548 -0.135245     0.361168   \n",
       "has_concierge           0.146865 -0.270704 -0.323696 -0.346828     0.655252   \n",
       "has_pool                0.104243 -0.100606 -0.182156 -0.193851     0.498138   \n",
       "has_garden              0.000178 -0.038981 -0.007928 -0.021434     0.084536   \n",
       "has_childrens_playroom  0.066387 -0.140828 -0.144938 -0.169315     0.395460   \n",
       "rent                    0.109536 -0.262711 -0.332165 -0.339157     0.253517   \n",
       "no_fee                  0.002401 -0.041091 -0.111486 -0.126716     0.185316   \n",
       "floornumber             0.170598 -0.239193 -0.350957 -0.367065     0.769707   \n",
       "\n",
       "                        ...  has_washer_dryer  has_garage  has_roofdeck  \\\n",
       "building_id             ...         -0.030651    0.099141     -0.012773   \n",
       "bedrooms                ...          0.117120   -0.116837     -0.085111   \n",
       "bathrooms               ...          0.298722    0.051650      0.102592   \n",
       "size_sqft               ...          0.263907    0.005959      0.026781   \n",
       "addr_zip                ...         -0.113234   -0.116047     -0.107670   \n",
       "addr_lat                ...          0.013967    0.057687     -0.000782   \n",
       "addr_lon                ...         -0.165555   -0.055615     -0.168426   \n",
       "bin                     ...         -0.119801   -0.089042     -0.112548   \n",
       "bbl                     ...         -0.137143   -0.109457     -0.135245   \n",
       "floor_count             ...          0.177199    0.380581      0.361168   \n",
       "year_built              ...          0.006949    0.084148      0.082307   \n",
       "min_to_subway           ...          0.035343    0.031686      0.006643   \n",
       "has_doorman             ...          0.248036    0.406196      0.421955   \n",
       "has_elevator            ...          0.203386    0.392328      0.409244   \n",
       "has_fireplace           ...          0.088507   -0.030127     -0.013023   \n",
       "has_dishwasher          ...          0.334376    0.212473      0.286309   \n",
       "is_furnished            ...          0.086711   -0.002425      0.058287   \n",
       "has_gym                 ...          0.292996    0.432486      0.535142   \n",
       "allows_pets             ...          0.177554    0.180943      0.270345   \n",
       "has_washer_dryer        ...          1.000000    0.088676      0.239291   \n",
       "has_garage              ...          0.088676    1.000000      0.295535   \n",
       "has_roofdeck            ...          0.239291    0.295535      1.000000   \n",
       "has_concierge           ...          0.268367    0.383031      0.413147   \n",
       "has_pool                ...          0.106097    0.323507      0.193187   \n",
       "has_garden              ...          0.121955    0.148442      0.166055   \n",
       "has_childrens_playroom  ...          0.191961    0.244646      0.297292   \n",
       "rent                    ...          0.343123    0.095437      0.174243   \n",
       "no_fee                  ...          0.120897    0.180798      0.260231   \n",
       "floornumber             ...          0.154859    0.311203      0.291481   \n",
       "\n",
       "                        has_concierge  has_pool  has_garden  \\\n",
       "building_id                 -0.060398  0.038340    0.064100   \n",
       "bedrooms                    -0.202524 -0.091116    0.048234   \n",
       "bathrooms                    0.105276  0.089527    0.104741   \n",
       "size_sqft                    0.040962  0.051020    0.137652   \n",
       "addr_zip                    -0.354300 -0.193333   -0.006699   \n",
       "addr_lat                     0.146865  0.104243    0.000178   \n",
       "addr_lon                    -0.270704 -0.100606   -0.038981   \n",
       "bin                         -0.323696 -0.182156   -0.007928   \n",
       "bbl                         -0.346828 -0.193851   -0.021434   \n",
       "floor_count                  0.655252  0.498138    0.084536   \n",
       "year_built                   0.085210  0.051083    0.006335   \n",
       "min_to_subway               -0.013324 -0.007238    0.009395   \n",
       "has_doorman                  0.668138  0.340186    0.142268   \n",
       "has_elevator                 0.526443  0.273776    0.099298   \n",
       "has_fireplace               -0.025240  0.000800    0.049034   \n",
       "has_dishwasher               0.258104  0.112804    0.089919   \n",
       "is_furnished                 0.076347  0.054185    0.034308   \n",
       "has_gym                      0.664979  0.394261    0.169583   \n",
       "allows_pets                  0.266168  0.093398    0.130835   \n",
       "has_washer_dryer             0.268367  0.106097    0.121955   \n",
       "has_garage                   0.383031  0.323507    0.148442   \n",
       "has_roofdeck                 0.413147  0.193187    0.166055   \n",
       "has_concierge                1.000000  0.342509    0.179550   \n",
       "has_pool                     0.342509  1.000000    0.088873   \n",
       "has_garden                   0.179550  0.088873    1.000000   \n",
       "has_childrens_playroom       0.475757  0.367574    0.247550   \n",
       "rent                         0.260079  0.170412    0.138419   \n",
       "no_fee                       0.210697  0.065794    0.053346   \n",
       "floornumber                  0.535699  0.398257    0.062580   \n",
       "\n",
       "                        has_childrens_playroom      rent    no_fee  \\\n",
       "building_id                           0.011357 -0.035145  0.052429   \n",
       "bedrooms                             -0.083456  0.353337 -0.004335   \n",
       "bathrooms                             0.111949  0.611987 -0.003053   \n",
       "size_sqft                             0.068867  0.649984 -0.074162   \n",
       "addr_zip                             -0.162588 -0.325241 -0.066025   \n",
       "addr_lat                              0.066387  0.109536  0.002401   \n",
       "addr_lon                             -0.140828 -0.262711 -0.041091   \n",
       "bin                                  -0.144938 -0.332165 -0.111486   \n",
       "bbl                                  -0.169315 -0.339157 -0.126716   \n",
       "floor_count                           0.395460  0.253517  0.185316   \n",
       "year_built                            0.051941 -0.001037  0.049746   \n",
       "min_to_subway                        -0.007989  0.000010 -0.005945   \n",
       "has_doorman                           0.345234  0.273486  0.252027   \n",
       "has_elevator                          0.304430  0.238692  0.228047   \n",
       "has_fireplace                        -0.010935  0.163483 -0.052129   \n",
       "has_dishwasher                        0.121131  0.187002  0.276597   \n",
       "is_furnished                          0.059076  0.133343 -0.028827   \n",
       "has_gym                               0.460646  0.248213  0.285377   \n",
       "allows_pets                           0.162443  0.149247  0.271594   \n",
       "has_washer_dryer                      0.191961  0.343123  0.120897   \n",
       "has_garage                            0.244646  0.095437  0.180798   \n",
       "has_roofdeck                          0.297292  0.174243  0.260231   \n",
       "has_concierge                         0.475757  0.260079  0.210697   \n",
       "has_pool                              0.367574  0.170412  0.065794   \n",
       "has_garden                            0.247550  0.138419  0.053346   \n",
       "has_childrens_playroom                1.000000  0.193130  0.087075   \n",
       "rent                                  0.193130  1.000000 -0.001163   \n",
       "no_fee                                0.087075 -0.001163  1.000000   \n",
       "floornumber                           0.322977  0.267151  0.157909   \n",
       "\n",
       "                        floornumber  \n",
       "building_id               -0.003418  \n",
       "bedrooms                  -0.158895  \n",
       "bathrooms                  0.116938  \n",
       "size_sqft                  0.054328  \n",
       "addr_zip                  -0.376063  \n",
       "addr_lat                   0.170598  \n",
       "addr_lon                  -0.239193  \n",
       "bin                       -0.350957  \n",
       "bbl                       -0.367065  \n",
       "floor_count                0.769707  \n",
       "year_built                 0.095295  \n",
       "min_to_subway             -0.012333  \n",
       "has_doorman                0.523314  \n",
       "has_elevator               0.453474  \n",
       "has_fireplace             -0.008051  \n",
       "has_dishwasher             0.172159  \n",
       "is_furnished               0.090309  \n",
       "has_gym                    0.518792  \n",
       "allows_pets                0.175281  \n",
       "has_washer_dryer           0.154859  \n",
       "has_garage                 0.311203  \n",
       "has_roofdeck               0.291481  \n",
       "has_concierge              0.535699  \n",
       "has_pool                   0.398257  \n",
       "has_garden                 0.062580  \n",
       "has_childrens_playroom     0.322977  \n",
       "rent                       0.267151  \n",
       "no_fee                     0.157909  \n",
       "floornumber                1.000000  \n",
       "\n",
       "[29 rows x 29 columns]"
      ]
     },
     "execution_count": 9,
     "metadata": {},
     "output_type": "execute_result"
    }
   ],
   "source": [
    "train_df.corr()"
   ]
  },
  {
   "cell_type": "code",
   "execution_count": 10,
   "metadata": {},
   "outputs": [
    {
     "data": {
      "text/html": [
       "<div>\n",
       "<style scoped>\n",
       "    .dataframe tbody tr th:only-of-type {\n",
       "        vertical-align: middle;\n",
       "    }\n",
       "\n",
       "    .dataframe tbody tr th {\n",
       "        vertical-align: top;\n",
       "    }\n",
       "\n",
       "    .dataframe thead th {\n",
       "        text-align: right;\n",
       "    }\n",
       "</style>\n",
       "<table border=\"1\" class=\"dataframe\">\n",
       "  <thead>\n",
       "    <tr style=\"text-align: right;\">\n",
       "      <th></th>\n",
       "      <th>bedrooms</th>\n",
       "      <th>bathrooms</th>\n",
       "      <th>min_to_subway</th>\n",
       "      <th>size_sqft</th>\n",
       "      <th>floornumber</th>\n",
       "      <th>year_built</th>\n",
       "      <th>has_doorman</th>\n",
       "      <th>rent</th>\n",
       "    </tr>\n",
       "  </thead>\n",
       "  <tbody>\n",
       "    <tr>\n",
       "      <td>bedrooms</td>\n",
       "      <td>1.000000</td>\n",
       "      <td>0.464287</td>\n",
       "      <td>0.014171</td>\n",
       "      <td>0.525537</td>\n",
       "      <td>-0.158895</td>\n",
       "      <td>-0.056614</td>\n",
       "      <td>-0.233059</td>\n",
       "      <td>0.353337</td>\n",
       "    </tr>\n",
       "    <tr>\n",
       "      <td>bathrooms</td>\n",
       "      <td>0.464287</td>\n",
       "      <td>1.000000</td>\n",
       "      <td>0.017966</td>\n",
       "      <td>0.565788</td>\n",
       "      <td>0.116938</td>\n",
       "      <td>-0.004480</td>\n",
       "      <td>0.108987</td>\n",
       "      <td>0.611987</td>\n",
       "    </tr>\n",
       "    <tr>\n",
       "      <td>min_to_subway</td>\n",
       "      <td>0.014171</td>\n",
       "      <td>0.017966</td>\n",
       "      <td>1.000000</td>\n",
       "      <td>0.007718</td>\n",
       "      <td>-0.012333</td>\n",
       "      <td>-0.031395</td>\n",
       "      <td>-0.016984</td>\n",
       "      <td>0.000010</td>\n",
       "    </tr>\n",
       "    <tr>\n",
       "      <td>size_sqft</td>\n",
       "      <td>0.525537</td>\n",
       "      <td>0.565788</td>\n",
       "      <td>0.007718</td>\n",
       "      <td>1.000000</td>\n",
       "      <td>0.054328</td>\n",
       "      <td>-0.021524</td>\n",
       "      <td>0.047766</td>\n",
       "      <td>0.649984</td>\n",
       "    </tr>\n",
       "    <tr>\n",
       "      <td>floornumber</td>\n",
       "      <td>-0.158895</td>\n",
       "      <td>0.116938</td>\n",
       "      <td>-0.012333</td>\n",
       "      <td>0.054328</td>\n",
       "      <td>1.000000</td>\n",
       "      <td>0.095295</td>\n",
       "      <td>0.523314</td>\n",
       "      <td>0.267151</td>\n",
       "    </tr>\n",
       "    <tr>\n",
       "      <td>year_built</td>\n",
       "      <td>-0.056614</td>\n",
       "      <td>-0.004480</td>\n",
       "      <td>-0.031395</td>\n",
       "      <td>-0.021524</td>\n",
       "      <td>0.095295</td>\n",
       "      <td>1.000000</td>\n",
       "      <td>0.094629</td>\n",
       "      <td>-0.001037</td>\n",
       "    </tr>\n",
       "    <tr>\n",
       "      <td>has_doorman</td>\n",
       "      <td>-0.233059</td>\n",
       "      <td>0.108987</td>\n",
       "      <td>-0.016984</td>\n",
       "      <td>0.047766</td>\n",
       "      <td>0.523314</td>\n",
       "      <td>0.094629</td>\n",
       "      <td>1.000000</td>\n",
       "      <td>0.273486</td>\n",
       "    </tr>\n",
       "    <tr>\n",
       "      <td>rent</td>\n",
       "      <td>0.353337</td>\n",
       "      <td>0.611987</td>\n",
       "      <td>0.000010</td>\n",
       "      <td>0.649984</td>\n",
       "      <td>0.267151</td>\n",
       "      <td>-0.001037</td>\n",
       "      <td>0.273486</td>\n",
       "      <td>1.000000</td>\n",
       "    </tr>\n",
       "  </tbody>\n",
       "</table>\n",
       "</div>"
      ],
      "text/plain": [
       "               bedrooms  bathrooms  min_to_subway  size_sqft  floornumber  \\\n",
       "bedrooms       1.000000   0.464287       0.014171   0.525537    -0.158895   \n",
       "bathrooms      0.464287   1.000000       0.017966   0.565788     0.116938   \n",
       "min_to_subway  0.014171   0.017966       1.000000   0.007718    -0.012333   \n",
       "size_sqft      0.525537   0.565788       0.007718   1.000000     0.054328   \n",
       "floornumber   -0.158895   0.116938      -0.012333   0.054328     1.000000   \n",
       "year_built    -0.056614  -0.004480      -0.031395  -0.021524     0.095295   \n",
       "has_doorman   -0.233059   0.108987      -0.016984   0.047766     0.523314   \n",
       "rent           0.353337   0.611987       0.000010   0.649984     0.267151   \n",
       "\n",
       "               year_built  has_doorman      rent  \n",
       "bedrooms        -0.056614    -0.233059  0.353337  \n",
       "bathrooms       -0.004480     0.108987  0.611987  \n",
       "min_to_subway   -0.031395    -0.016984  0.000010  \n",
       "size_sqft       -0.021524     0.047766  0.649984  \n",
       "floornumber      0.095295     0.523314  0.267151  \n",
       "year_built       1.000000     0.094629 -0.001037  \n",
       "has_doorman      0.094629     1.000000  0.273486  \n",
       "rent            -0.001037     0.273486  1.000000  "
      ]
     },
     "execution_count": 10,
     "metadata": {},
     "output_type": "execute_result"
    }
   ],
   "source": [
    "# calculate correlation matrix\n",
    "corr = train_df[[\"bedrooms\", \"bathrooms\", \"min_to_subway\", \"size_sqft\", \"floornumber\", \"year_built\",\"has_doorman\", \"rent\"]].corr()\n",
    "corr"
   ]
  },
  {
   "cell_type": "code",
   "execution_count": 11,
   "metadata": {},
   "outputs": [
    {
     "data": {
      "image/png": "[encoded data removed]",
      "text/plain": [
       "<Figure size 576x432 with 2 Axes>"
      ]
     },
     "metadata": {
      "needs_background": "light"
     },
     "output_type": "display_data"
    }
   ],
   "source": [
    "# visualize correlation matrix\n",
    "plt.subplots(figsize=(8,6))\n",
    "\n",
    "fig = sns.heatmap(corr, \n",
    "            xticklabels=corr.columns.values,\n",
    "            yticklabels=corr.columns.values)\n",
    "\n"
   ]
  },
  {
   "cell_type": "markdown",
   "metadata": {},
   "source": [
    "Note: Bedrooms has the highest correlation (positive) with rent"
   ]
  },
  {
   "cell_type": "code",
   "execution_count": null,
   "metadata": {
    "colab": {
     "base_uri": "https://localhost:8080/",
     "height": 327
    },
    "colab_type": "code",
    "executionInfo": {
     "elapsed": 1031,
     "status": "ok",
     "timestamp": 1574435384610,
     "user": {
      "displayName": "Jacinta Moore",
      "photoUrl": "",
      "userId": "14215851766389388616"
     },
     "user_tz": 300
    },
    "id": "OCUPl-BEr7L8",
    "outputId": "3fa5da5b-9409-4942-ad7b-74edbcb3cc5a"
   },
   "outputs": [],
   "source": [
    "def heatmap(x, y, size):\n",
    "    fig, ax = plt.subplots()\n",
    "    \n",
    "    # Mapping from column names to integer coordinates\n",
    "    x_labels = [v for v in sorted(x.unique())]\n",
    "    y_labels = [v for v in sorted(y.unique())]\n",
    "    x_to_num = {p[1]:p[0] for p in enumerate(x_labels)} \n",
    "    y_to_num = {p[1]:p[0] for p in enumerate(y_labels)} \n",
    "    \n",
    "    size_scale = 500\n",
    "    ax.scatter(\n",
    "        x=x.map(x_to_num), # Use mapping for x\n",
    "        y=y.map(y_to_num), # Use mapping for y\n",
    "        s=size * size_scale, # Vector of square sizes, proportional to size parameter\n",
    "        marker='s' # Use square as scatterplot marker\n",
    "    )\n",
    "    \n",
    "    # Show column labels on the axes\n",
    "    ax.set_xticks([x_to_num[v] for v in x_labels])\n",
    "    ax.set_xticklabels(x_labels, rotation=45, horizontalalignment='right')\n",
    "    ax.set_yticks([y_to_num[v] for v in y_labels])\n",
    "    ax.set_yticklabels(y_labels)\n",
    "    \n",
    "\n",
    "columns = [\n",
    "    'bedrooms', 'year_built', 'bathrooms', 'min_to_subway', \n",
    "    'size_sqft', 'no_fee', 'has_doorman', 'rent', 'has_washer_dryer', 'has_concierge', 'floornumber'\n",
    "]\n",
    "corr = train_df[columns].corr()\n",
    "corr = pd.melt(corr.reset_index(), id_vars='index') # Unpivot the dataframe, so we can get pair of arrays for x and y\n",
    "corr.columns = ['x', 'y', 'value']\n",
    "heatmap(\n",
    "    x=corr['x'],\n",
    "    y=corr['y'],\n",
    "    size=corr['value'].abs()\n",
    ")"
   ]
  },
  {
   "cell_type": "code",
   "execution_count": null,
   "metadata": {
    "colab": {
     "base_uri": "https://localhost:8080/",
     "height": 265
    },
    "colab_type": "code",
    "executionInfo": {
     "elapsed": 510,
     "status": "ok",
     "timestamp": 1574366489146,
     "user": {
      "displayName": "Jacinta Moore",
      "photoUrl": "",
      "userId": "14215851766389388616"
     },
     "user_tz": 300
    },
    "id": "Pe5SOF-Nr7kZ",
    "outputId": "6de9e0c4-9960-43ed-b971-76a02adfc018"
   },
   "outputs": [],
   "source": [
    "_ = plt.plot(train_df['rent'], train_df['size_sqft'], marker='.', linestyle='none')"
   ]
  },
  {
   "cell_type": "code",
   "execution_count": null,
   "metadata": {
    "colab": {
     "base_uri": "https://localhost:8080/",
     "height": 265
    },
    "colab_type": "code",
    "executionInfo": {
     "elapsed": 449,
     "status": "ok",
     "timestamp": 1574366490675,
     "user": {
      "displayName": "Jacinta Moore",
      "photoUrl": "",
      "userId": "14215851766389388616"
     },
     "user_tz": 300
    },
    "id": "gqlfNGGctxXa",
    "outputId": "377d8464-79a3-4566-bb53-c68732f5f918"
   },
   "outputs": [],
   "source": [
    "_ = plt.plot(train_df['rent'], train_df['bathrooms'], marker='.', linestyle='none')"
   ]
  },
  {
   "cell_type": "code",
   "execution_count": null,
   "metadata": {
    "colab": {
     "base_uri": "https://localhost:8080/",
     "height": 265
    },
    "colab_type": "code",
    "executionInfo": {
     "elapsed": 689,
     "status": "ok",
     "timestamp": 1574366494729,
     "user": {
      "displayName": "Jacinta Moore",
      "photoUrl": "",
      "userId": "14215851766389388616"
     },
     "user_tz": 300
    },
    "id": "8vhR-bRdzG0X",
    "outputId": "bbd62b7b-1d5d-4b41-9dea-fbe8c7453c80"
   },
   "outputs": [],
   "source": [
    "_ = plt.plot(train_df['rent'], train_df['bedrooms'], marker='.', linestyle='none')"
   ]
  },
  {
   "cell_type": "code",
   "execution_count": 12,
   "metadata": {
    "colab": {},
    "colab_type": "code",
    "id": "sB4zNUHzuY-G"
   },
   "outputs": [],
   "source": [
    "# extract usable features\n",
    "feature_cols = [\n",
    "    'bedrooms', 'year_built', 'bathrooms', 'min_to_subway', \n",
    "    'size_sqft', 'no_fee', 'has_doorman',  'has_washer_dryer', 'floornumber'\n",
    "]\n",
    "train_features = train_df[feature_cols] "
   ]
  },
  {
   "cell_type": "code",
   "execution_count": 13,
   "metadata": {},
   "outputs": [],
   "source": [
    "# extract usable features\n",
    "feature_cols = [\n",
    "    'bedrooms', 'year_built', 'bathrooms', 'min_to_subway', \n",
    "    'size_sqft', 'no_fee', 'has_doorman',  'has_washer_dryer', 'floornumber'\n",
    "]\n",
    "test_features = test_df[feature_cols] "
   ]
  },
  {
   "cell_type": "code",
   "execution_count": 14,
   "metadata": {},
   "outputs": [],
   "source": [
    "# extract usable features\n",
    "feature_cols = [\n",
    "    'bedrooms', 'year_built', 'bathrooms', 'min_to_subway', \n",
    "    'size_sqft', 'no_fee', 'has_doorman',  'has_washer_dryer', 'floornumber'\n",
    "]\n",
    "test_features = test_df[feature_cols] "
   ]
  },
  {
   "cell_type": "code",
   "execution_count": 42,
   "metadata": {},
   "outputs": [
    {
     "name": "stderr",
     "output_type": "stream",
     "text": [
      "c:\\users\\taimoor\\appdata\\local\\programs\\python\\python37-32\\lib\\site-packages\\seaborn\\axisgrid.py:2262: UserWarning: The `size` paramter has been renamed to `height`; please update your code.\n",
      "  warnings.warn(msg, UserWarning)\n"
     ]
    },
    {
     "data": {
      "text/plain": [
       "<Figure size 720x720 with 0 Axes>"
      ]
     },
     "metadata": {},
     "output_type": "display_data"
    },
    {
     "data": {
      "image/png": "[encoded data removed]",
      "text/plain": [
       "<Figure size 720x720 with 3 Axes>"
      ]
     },
     "metadata": {
      "needs_background": "light"
     },
     "output_type": "display_data"
    },
    {
     "data": {
      "text/plain": [
       "<function seaborn.utils.despine(fig=None, ax=None, top=True, right=True, left=False, bottom=False, offset=None, trim=False)>"
      ]
     },
     "execution_count": 42,
     "metadata": {},
     "output_type": "execute_result"
    }
   ],
   "source": [
    "plt.figure(figsize=(10,10))\n",
    "sns.jointplot(x=train_df.addr_lat.values, y = train_df.addr_lon.values, size = 10)\n",
    "plt.ylabel('Longitude', fontsize=12)\n",
    "plt.xlabel('Latitude', fontsize=12)\n",
    "plt.show()\n",
    "sns.despine"
   ]
  },
  {
   "cell_type": "markdown",
   "metadata": {
    "colab_type": "text",
    "id": "LA2ArZzOlOek"
   },
   "source": [
    "Adding a new feature using existing data: Distance to Central Park. Idea: the closer to central park the more the rent. "
   ]
  },
  {
   "cell_type": "code",
   "execution_count": 15,
   "metadata": {
    "colab": {},
    "colab_type": "code",
    "id": "YzmUaQuYlNwy"
   },
   "outputs": [],
   "source": [
    "def deg2rad(deg):\n",
    "  return deg * (np.pi/180)\n",
    "\n",
    "def getDistanceFromLatLonInKm(lat1,lon1,lat2=40.78,lon2=-73.965):\n",
    "  R = 6371  # Radius of the earth in km\n",
    "  dLat = deg2rad(lat2-lat1) \n",
    "  dLon = deg2rad(lon2-lon1) \n",
    "  a = np.sin(dLat/2) * np.sin(dLat/2) + np.cos(deg2rad(lat1)) * np.cos(deg2rad(lat2)) * np.sin(dLon/2) * np.sin(dLon/2)\n",
    "  c = 2 * np.arctan2(np.sqrt(a), np.sqrt(1-a)) \n",
    "  d = R * c  # Distance in km\n",
    "  return d"
   ]
  },
  {
   "cell_type": "code",
   "execution_count": 16,
   "metadata": {
    "colab": {},
    "colab_type": "code",
    "id": "qF0InZIGl_Qr"
   },
   "outputs": [],
   "source": [
    "train_df2 = train_df\n",
    "test_df2 = test_df"
   ]
  },
  {
   "cell_type": "code",
   "execution_count": 17,
   "metadata": {
    "colab": {},
    "colab_type": "code",
    "id": "2WFLT4galaR8"
   },
   "outputs": [],
   "source": [
    "train_df2['dist_centralPark'] = getDistanceFromLatLonInKm(train_df['addr_lat'], train_df['addr_lon'])\n",
    "test_df2['dist_centralPark'] = getDistanceFromLatLonInKm(test_df['addr_lat'], test_df['addr_lon'])"
   ]
  },
  {
   "cell_type": "code",
   "execution_count": 18,
   "metadata": {
    "colab": {},
    "colab_type": "code",
    "id": "hSpZAEMyrsJt"
   },
   "outputs": [],
   "source": [
    "submit1_df['dist_centralPark'] = getDistanceFromLatLonInKm(submit1_df['addr_lat'], submit1_df['addr_lon'])"
   ]
  },
  {
   "cell_type": "code",
   "execution_count": 19,
   "metadata": {
    "colab": {
     "base_uri": "https://localhost:8080/",
     "height": 386
    },
    "colab_type": "code",
    "executionInfo": {
     "elapsed": 528,
     "status": "ok",
     "timestamp": 1574435418299,
     "user": {
      "displayName": "Jacinta Moore",
      "photoUrl": "",
      "userId": "14215851766389388616"
     },
     "user_tz": 300
    },
    "id": "BflWgnb7lar9",
    "outputId": "a05247ed-63ff-4a05-f925-2c348e92a6c8"
   },
   "outputs": [
    {
     "data": {
      "text/plain": [
       "rental_id\n",
       "7236931    14.796742\n",
       "7331920     7.806511\n",
       "7139224     2.743952\n",
       "7364827     3.660724\n",
       "7242151    11.126183\n",
       "7171210     2.331770\n",
       "7286986     7.900183\n",
       "7418503     2.803593\n",
       "7304773     3.370226\n",
       "7180240     2.530775\n",
       "7199509     6.520788\n",
       "7374106     7.727537\n",
       "7211146     5.455471\n",
       "7205032     9.249498\n",
       "7303381     6.165054\n",
       "7257553    10.045174\n",
       "7371094     9.455008\n",
       "7386616    19.309963\n",
       "7161667     1.416285\n",
       "7256881     1.781116\n",
       "Name: dist_centralPark, dtype: float64"
      ]
     },
     "execution_count": 19,
     "metadata": {},
     "output_type": "execute_result"
    }
   ],
   "source": [
    "train_df2['dist_centralPark'].head(20)"
   ]
  },
  {
   "cell_type": "code",
   "execution_count": null,
   "metadata": {
    "colab": {
     "base_uri": "https://localhost:8080/",
     "height": 282
    },
    "colab_type": "code",
    "executionInfo": {
     "elapsed": 1580,
     "status": "ok",
     "timestamp": 1574435442770,
     "user": {
      "displayName": "Jacinta Moore",
      "photoUrl": "",
      "userId": "14215851766389388616"
     },
     "user_tz": 300
    },
    "id": "ChbpI5i1qwgY",
    "outputId": "7d4bd60d-4e73-4217-8fd1-c655b74b5512"
   },
   "outputs": [],
   "source": [
    "_ = plt.plot(train_df['rent'], train_df2['dist_centralPark'], marker='.', linestyle='none')\n",
    "plt.xlim(0, 10000)\n",
    "# not really a correlation"
   ]
  },
  {
   "cell_type": "code",
   "execution_count": 20,
   "metadata": {
    "colab": {},
    "colab_type": "code",
    "id": "lHDDen61ltp7"
   },
   "outputs": [],
   "source": [
    "# extract usable features\n",
    "feature_cols2 = [\n",
    "    'bedrooms', 'year_built', 'bathrooms', 'min_to_subway', \n",
    "    'size_sqft', 'no_fee', 'has_doorman',  'has_washer_dryer', 'floornumber', 'dist_centralPark'\n",
    "]\n",
    "train_features2 = train_df2[feature_cols2] "
   ]
  },
  {
   "cell_type": "code",
   "execution_count": 21,
   "metadata": {},
   "outputs": [],
   "source": [
    "# extract usable features\n",
    "feature_cols2 = [\n",
    "    'bedrooms', 'year_built', 'bathrooms', 'min_to_subway', \n",
    "    'size_sqft', 'no_fee', 'has_doorman',  'has_washer_dryer', 'floornumber', 'dist_centralPark'\n",
    "]\n",
    "test_features2 = test_df2[feature_cols2] "
   ]
  },
  {
   "cell_type": "code",
   "execution_count": 22,
   "metadata": {},
   "outputs": [],
   "source": [
    "def deg2rad(deg):\n",
    "  return deg * (np.pi/180)\n",
    "\n",
    "def getDistanceFromLatLonInKm2(lat1,lon1,lat2=40.758,lon2=-73.9855):\n",
    "  R = 6371  # Radius of the earth in km\n",
    "  dLat = deg2rad(lat2-lat1) \n",
    "  dLon = deg2rad(lon2-lon1) \n",
    "  a = np.sin(dLat/2) * np.sin(dLat/2) + np.cos(deg2rad(lat1)) * np.cos(deg2rad(lat2)) * np.sin(dLon/2) * np.sin(dLon/2)\n",
    "  c = 2 * np.arctan2(np.sqrt(a), np.sqrt(1-a)) \n",
    "  d = R * c  # Distance in km\n",
    "  return d"
   ]
  },
  {
   "cell_type": "code",
   "execution_count": 23,
   "metadata": {},
   "outputs": [],
   "source": [
    "train_df3 = train_df\n",
    "test_df3 = test_df"
   ]
  },
  {
   "cell_type": "code",
   "execution_count": 24,
   "metadata": {},
   "outputs": [],
   "source": [
    "train_df3['dist_timeSquare'] = getDistanceFromLatLonInKm2(train_df['addr_lat'], train_df['addr_lon'])\n",
    "test_df3['dist_timeSquare'] = getDistanceFromLatLonInKm2(test_df['addr_lat'], test_df['addr_lon'])"
   ]
  },
  {
   "cell_type": "code",
   "execution_count": 25,
   "metadata": {},
   "outputs": [],
   "source": [
    "submit1_df['dist_timeSquare'] = getDistanceFromLatLonInKm2(submit1_df['addr_lat'], submit1_df['addr_lon'])"
   ]
  },
  {
   "cell_type": "code",
   "execution_count": 26,
   "metadata": {},
   "outputs": [
    {
     "data": {
      "text/plain": [
       "rental_id\n",
       "7236931    12.529424\n",
       "7331920     4.882349\n",
       "7139224     1.535301\n",
       "7364827     0.747939\n",
       "7242151     9.213716\n",
       "7171210     5.180434\n",
       "7286986     8.966177\n",
       "7418503     4.594814\n",
       "7304773     1.008166\n",
       "7180240     1.543220\n",
       "7199509     7.190453\n",
       "7374106     5.890000\n",
       "7211146     8.381801\n",
       "7205032     8.244336\n",
       "7303381     9.016044\n",
       "7257553     8.325541\n",
       "7371094     7.129432\n",
       "7386616    16.851094\n",
       "7161667     2.554158\n",
       "7256881     4.394017\n",
       "Name: dist_timeSquare, dtype: float64"
      ]
     },
     "execution_count": 26,
     "metadata": {},
     "output_type": "execute_result"
    }
   ],
   "source": [
    "train_df3['dist_timeSquare'].head(20)"
   ]
  },
  {
   "cell_type": "code",
   "execution_count": null,
   "metadata": {},
   "outputs": [],
   "source": [
    "_ = plt.plot(train_df['rent'], train_df3['dist_timeSquare'], marker='.', linestyle='none')\n",
    "plt.xlim(0, 10000)\n",
    "# not really a correlation"
   ]
  },
  {
   "cell_type": "code",
   "execution_count": 44,
   "metadata": {},
   "outputs": [
    {
     "data": {
      "text/plain": [
       "Text(0.5, 1.0, 'Rent Vs Dist to Time Square')"
      ]
     },
     "execution_count": 44,
     "metadata": {},
     "output_type": "execute_result"
    },
    {
     "data": {
      "image/png": "[encoded data removed]",
      "text/plain": [
       "<Figure size 432x288 with 1 Axes>"
      ]
     },
     "metadata": {
      "needs_background": "light"
     },
     "output_type": "display_data"
    }
   ],
   "source": [
    "plt.scatter(train_df.rent, train_df.dist_timeSquare)\n",
    "plt.title(\"Rent Vs Dist to Time Square\")"
   ]
  },
  {
   "cell_type": "code",
   "execution_count": 27,
   "metadata": {},
   "outputs": [],
   "source": [
    "# extract usable features\n",
    "feature_cols3 = [\n",
    "    'bedrooms', 'year_built', 'bathrooms', 'min_to_subway', \n",
    "    'size_sqft', 'no_fee', 'has_doorman',  'has_washer_dryer', 'floornumber', 'dist_centralPark', 'dist_timeSquare'\n",
    "]\n",
    "train_features3 = train_df3[feature_cols3] "
   ]
  },
  {
   "cell_type": "code",
   "execution_count": 28,
   "metadata": {},
   "outputs": [],
   "source": [
    "# extract usable features\n",
    "feature_cols3 = [\n",
    "    'bedrooms', 'year_built', 'bathrooms', 'min_to_subway', \n",
    "    'size_sqft', 'no_fee', 'has_doorman',  'has_washer_dryer', 'floornumber', 'dist_centralPark', 'dist_timeSquare'\n",
    "]\n",
    "test_features3 = test_df3[feature_cols3] "
   ]
  },
  {
   "cell_type": "code",
   "execution_count": 45,
   "metadata": {},
   "outputs": [
    {
     "data": {
      "text/plain": [
       "<matplotlib.collections.PathCollection at 0x12ba73f0>"
      ]
     },
     "execution_count": 45,
     "metadata": {},
     "output_type": "execute_result"
    },
    {
     "data": {
      "image/png": "[encoded data removed]",
      "text/plain": [
       "<Figure size 432x288 with 1 Axes>"
      ]
     },
     "metadata": {
      "needs_background": "light"
     },
     "output_type": "display_data"
    }
   ],
   "source": [
    "plt.scatter(train_df.addr_zip, train_df.rent)"
   ]
  },
  {
   "cell_type": "markdown",
   "metadata": {
    "colab_type": "text",
    "id": "HgGR6M-aojEZ"
   },
   "source": [
    "## Data Preprocessing\n",
    "\n",
    "This section we look at missing data and outliers and deal with these\n",
    "\n"
   ]
  },
  {
   "cell_type": "markdown",
   "metadata": {
    "colab_type": "text",
    "id": "m2jx_CgDtHyB"
   },
   "source": [
    "#### 1. Missing Data\n",
    "'min_to_subway', 'year_built' , 'floornumber' have NaNs. Solutions: drop or impute. This round we will impute as the feature 'floornumber' has 10% (1200) values missing and dropping this would reduce the data to only 10,000 points. "
   ]
  },
  {
   "cell_type": "code",
   "execution_count": null,
   "metadata": {
    "colab": {
     "base_uri": "https://localhost:8080/",
     "height": 34
    },
    "colab_type": "code",
    "executionInfo": {
     "elapsed": 325,
     "status": "ok",
     "timestamp": 1574366505378,
     "user": {
      "displayName": "Jacinta Moore",
      "photoUrl": "",
      "userId": "14215851766389388616"
     },
     "user_tz": 300
    },
    "id": "2R36HvWvudbC",
    "outputId": "04bb2886-0935-4873-845f-3e679659b5c5"
   },
   "outputs": [],
   "source": [
    "train_df['bedrooms'].isna().sum()\n"
   ]
  },
  {
   "cell_type": "code",
   "execution_count": null,
   "metadata": {
    "colab": {
     "base_uri": "https://localhost:8080/",
     "height": 34
    },
    "colab_type": "code",
    "executionInfo": {
     "elapsed": 338,
     "status": "ok",
     "timestamp": 1574366507347,
     "user": {
      "displayName": "Jacinta Moore",
      "photoUrl": "",
      "userId": "14215851766389388616"
     },
     "user_tz": 300
    },
    "id": "3hHU0IGOv8Na",
    "outputId": "e1ac3994-5e1a-4a82-b09e-ba42be3b1418"
   },
   "outputs": [],
   "source": [
    "train_df['year_built'].isna().sum()"
   ]
  },
  {
   "cell_type": "code",
   "execution_count": null,
   "metadata": {
    "colab": {
     "base_uri": "https://localhost:8080/",
     "height": 34
    },
    "colab_type": "code",
    "executionInfo": {
     "elapsed": 363,
     "status": "ok",
     "timestamp": 1574366508204,
     "user": {
      "displayName": "Jacinta Moore",
      "photoUrl": "",
      "userId": "14215851766389388616"
     },
     "user_tz": 300
    },
    "id": "sxjWSZD7v8gO",
    "outputId": "84aff1c6-c20b-4af7-e154-8e09de3fa07e"
   },
   "outputs": [],
   "source": [
    "train_df['bathrooms'].isna().sum()"
   ]
  },
  {
   "cell_type": "code",
   "execution_count": null,
   "metadata": {
    "colab": {
     "base_uri": "https://localhost:8080/",
     "height": 34
    },
    "colab_type": "code",
    "executionInfo": {
     "elapsed": 372,
     "status": "ok",
     "timestamp": 1574366509349,
     "user": {
      "displayName": "Jacinta Moore",
      "photoUrl": "",
      "userId": "14215851766389388616"
     },
     "user_tz": 300
    },
    "id": "-4GEN3upv8wT",
    "outputId": "f538343c-f2af-4586-ebb8-c62fff1acc8e"
   },
   "outputs": [],
   "source": [
    "train_df['min_to_subway'].isna().sum()"
   ]
  },
  {
   "cell_type": "code",
   "execution_count": null,
   "metadata": {
    "colab": {
     "base_uri": "https://localhost:8080/",
     "height": 34
    },
    "colab_type": "code",
    "executionInfo": {
     "elapsed": 406,
     "status": "ok",
     "timestamp": 1574366510713,
     "user": {
      "displayName": "Jacinta Moore",
      "photoUrl": "",
      "userId": "14215851766389388616"
     },
     "user_tz": 300
    },
    "id": "9JHTWqHYv8_z",
    "outputId": "15ffe7e8-6f31-483b-f26c-cdf69395b063"
   },
   "outputs": [],
   "source": [
    "train_df['size_sqft'].isna().sum()"
   ]
  },
  {
   "cell_type": "code",
   "execution_count": null,
   "metadata": {
    "colab": {
     "base_uri": "https://localhost:8080/",
     "height": 34
    },
    "colab_type": "code",
    "executionInfo": {
     "elapsed": 670,
     "status": "ok",
     "timestamp": 1574269182871,
     "user": {
      "displayName": "Jacinta Moore",
      "photoUrl": "",
      "userId": "14215851766389388616"
     },
     "user_tz": 300
    },
    "id": "wiaSyv9qv9QI",
    "outputId": "450ef1ef-08b6-45ad-ef3a-cd3f8ee31a8e"
   },
   "outputs": [],
   "source": [
    "train_df['no_fee'].isna().sum()"
   ]
  },
  {
   "cell_type": "code",
   "execution_count": null,
   "metadata": {
    "colab": {
     "base_uri": "https://localhost:8080/",
     "height": 34
    },
    "colab_type": "code",
    "executionInfo": {
     "elapsed": 549,
     "status": "ok",
     "timestamp": 1574269184735,
     "user": {
      "displayName": "Jacinta Moore",
      "photoUrl": "",
      "userId": "14215851766389388616"
     },
     "user_tz": 300
    },
    "id": "dTp4ZaChwILQ",
    "outputId": "625c4d7b-7dab-4da8-9f29-af38c2c43782"
   },
   "outputs": [],
   "source": [
    "train_df['has_doorman'].isna().sum()"
   ]
  },
  {
   "cell_type": "code",
   "execution_count": null,
   "metadata": {
    "colab": {
     "base_uri": "https://localhost:8080/",
     "height": 34
    },
    "colab_type": "code",
    "executionInfo": {
     "elapsed": 594,
     "status": "ok",
     "timestamp": 1574269186482,
     "user": {
      "displayName": "Jacinta Moore",
      "photoUrl": "",
      "userId": "14215851766389388616"
     },
     "user_tz": 300
    },
    "id": "6eBdNYVgwIfG",
    "outputId": "bf031996-01fc-4808-ce31-d3055237cd20"
   },
   "outputs": [],
   "source": [
    "train_df['has_washer_dryer'].isna().sum()"
   ]
  },
  {
   "cell_type": "code",
   "execution_count": null,
   "metadata": {},
   "outputs": [],
   "source": [
    "test_df.isna().sum()"
   ]
  },
  {
   "cell_type": "code",
   "execution_count": null,
   "metadata": {
    "colab": {
     "base_uri": "https://localhost:8080/",
     "height": 34
    },
    "colab_type": "code",
    "executionInfo": {
     "elapsed": 401,
     "status": "ok",
     "timestamp": 1574269427727,
     "user": {
      "displayName": "Jacinta Moore",
      "photoUrl": "",
      "userId": "14215851766389388616"
     },
     "user_tz": 300
    },
    "id": "IjUpxThGwLGD",
    "outputId": "ee98f9bd-2027-4059-a1eb-5aa70fbf4775"
   },
   "outputs": [],
   "source": [
    "train_df['floornumber'].isna().sum()"
   ]
  },
  {
   "cell_type": "code",
   "execution_count": null,
   "metadata": {},
   "outputs": [],
   "source": [
    "train_df['floornumber'].describe()"
   ]
  },
  {
   "cell_type": "code",
   "execution_count": null,
   "metadata": {
    "colab": {
     "base_uri": "https://localhost:8080/",
     "height": 168
    },
    "colab_type": "code",
    "executionInfo": {
     "elapsed": 434,
     "status": "ok",
     "timestamp": 1574368441620,
     "user": {
      "displayName": "Jacinta Moore",
      "photoUrl": "",
      "userId": "14215851766389388616"
     },
     "user_tz": 300
    },
    "id": "Y703Ub8Pq1xY",
    "outputId": "643c5a16-836e-4929-a0fd-7d93f9f5b8bf"
   },
   "outputs": [],
   "source": [
    "test_df['floornumber'].describe()"
   ]
  },
  {
   "cell_type": "code",
   "execution_count": null,
   "metadata": {
    "colab": {
     "base_uri": "https://localhost:8080/",
     "height": 168
    },
    "colab_type": "code",
    "executionInfo": {
     "elapsed": 407,
     "status": "ok",
     "timestamp": 1574269613053,
     "user": {
      "displayName": "Jacinta Moore",
      "photoUrl": "",
      "userId": "14215851766389388616"
     },
     "user_tz": 300
    },
    "id": "m0Lsg3gAx798",
    "outputId": "f7602dfa-1d09-44fe-b552-d43d1478b133"
   },
   "outputs": [],
   "source": [
    "train_df['min_to_subway'].describe()"
   ]
  },
  {
   "cell_type": "code",
   "execution_count": null,
   "metadata": {
    "colab": {
     "base_uri": "https://localhost:8080/",
     "height": 168
    },
    "colab_type": "code",
    "executionInfo": {
     "elapsed": 337,
     "status": "ok",
     "timestamp": 1574368484388,
     "user": {
      "displayName": "Jacinta Moore",
      "photoUrl": "",
      "userId": "14215851766389388616"
     },
     "user_tz": 300
    },
    "id": "K1qvrG43q1ag",
    "outputId": "8a45bd9a-7bf8-4893-b4b8-6d3b629bedc8",
    "scrolled": true
   },
   "outputs": [],
   "source": [
    "test_df['min_to_subway'].describe()"
   ]
  },
  {
   "cell_type": "code",
   "execution_count": null,
   "metadata": {
    "colab": {
     "base_uri": "https://localhost:8080/",
     "height": 168
    },
    "colab_type": "code",
    "executionInfo": {
     "elapsed": 456,
     "status": "ok",
     "timestamp": 1574269623121,
     "user": {
      "displayName": "Jacinta Moore",
      "photoUrl": "",
      "userId": "14215851766389388616"
     },
     "user_tz": 300
    },
    "id": "ZYg37N89x8aQ",
    "outputId": "90f3dd7b-8e18-4c49-a3d7-c6895590ae5a"
   },
   "outputs": [],
   "source": [
    "train_df['year_built'].describe()"
   ]
  },
  {
   "cell_type": "code",
   "execution_count": null,
   "metadata": {
    "colab": {
     "base_uri": "https://localhost:8080/",
     "height": 168
    },
    "colab_type": "code",
    "executionInfo": {
     "elapsed": 450,
     "status": "ok",
     "timestamp": 1574368518853,
     "user": {
      "displayName": "Jacinta Moore",
      "photoUrl": "",
      "userId": "14215851766389388616"
     },
     "user_tz": 300
    },
    "id": "UNPKj6bNrNXr",
    "outputId": "cbe9955e-fffc-479b-95a5-ddb71d643cb8"
   },
   "outputs": [],
   "source": [
    "test_df['year_built'].describe()"
   ]
  },
  {
   "cell_type": "markdown",
   "metadata": {
    "colab_type": "text",
    "id": "gQw2F3DKyQTz"
   },
   "source": [
    "The features all have large outliers that result in a much higher mean than median so we will use median for the impute value for the missing values. "
   ]
  },
  {
   "cell_type": "code",
   "execution_count": 29,
   "metadata": {
    "colab": {},
    "colab_type": "code",
    "id": "smFM_TWEuXz9"
   },
   "outputs": [],
   "source": [
    "# impute missing values with medians\n",
    "train_features = train_features.fillna(train_features.median(), axis=0)\n",
    "\n",
    "# construct target vector\n",
    "train_target = train_df['rent']"
   ]
  },
  {
   "cell_type": "code",
   "execution_count": 30,
   "metadata": {
    "colab": {},
    "colab_type": "code",
    "id": "Vre3NyZhnnQJ"
   },
   "outputs": [],
   "source": [
    "# impute missing values with medians\n",
    "train_features2 = train_features2.fillna(train_features2.median(), axis=0)\n",
    "\n",
    "# construct target vector\n",
    "train_target2 = train_df2['rent']"
   ]
  },
  {
   "cell_type": "code",
   "execution_count": 31,
   "metadata": {},
   "outputs": [],
   "source": [
    "# impute missing values with medians\n",
    "train_features3 = train_features3.fillna(train_features3.median(), axis=0)\n",
    "\n",
    "# construct target vector\n",
    "train_target3 = train_df3['rent']"
   ]
  },
  {
   "cell_type": "markdown",
   "metadata": {
    "colab_type": "text",
    "id": "_mMjb8rGsjXG"
   },
   "source": [
    "#### 2. Outlier Data\n",
    "From the above analysis it can be seen that the size_sqft and bathrooms have the value 0 for some data points. It is not possible for a rental space to have no size and it unusal for no bathroom in a rental. "
   ]
  },
  {
   "cell_type": "code",
   "execution_count": null,
   "metadata": {
    "colab": {
     "base_uri": "https://localhost:8080/",
     "height": 34
    },
    "colab_type": "code",
    "executionInfo": {
     "elapsed": 439,
     "status": "ok",
     "timestamp": 1574366519612,
     "user": {
      "displayName": "Jacinta Moore",
      "photoUrl": "",
      "userId": "14215851766389388616"
     },
     "user_tz": 300
    },
    "id": "816TIZKRsjJH",
    "outputId": "b5243056-6099-47a3-b312-675bcc2a2f60"
   },
   "outputs": [],
   "source": [
    "(train_features['size_sqft']==0).sum()\n",
    "## 841 values have outlier value of 0 for size_sqft"
   ]
  },
  {
   "cell_type": "code",
   "execution_count": null,
   "metadata": {
    "colab": {
     "base_uri": "https://localhost:8080/",
     "height": 34
    },
    "colab_type": "code",
    "executionInfo": {
     "elapsed": 378,
     "status": "ok",
     "timestamp": 1574368580605,
     "user": {
      "displayName": "Jacinta Moore",
      "photoUrl": "",
      "userId": "14215851766389388616"
     },
     "user_tz": 300
    },
    "id": "ukccAkmlrewp",
    "outputId": "76b48a1e-17ca-4d2e-a74f-cb8e7f990d82"
   },
   "outputs": [],
   "source": [
    "(test_features['size_sqft']==0).sum()"
   ]
  },
  {
   "cell_type": "code",
   "execution_count": null,
   "metadata": {
    "colab": {
     "base_uri": "https://localhost:8080/",
     "height": 34
    },
    "colab_type": "code",
    "executionInfo": {
     "elapsed": 586,
     "status": "ok",
     "timestamp": 1574433997994,
     "user": {
      "displayName": "Jacinta Moore",
      "photoUrl": "",
      "userId": "14215851766389388616"
     },
     "user_tz": 300
    },
    "id": "MJIItKF-saFI",
    "outputId": "d84b6c42-2bf9-4623-e423-fb49528af111"
   },
   "outputs": [],
   "source": [
    "(submit1_df['size_sqft']==0).sum()"
   ]
  },
  {
   "cell_type": "code",
   "execution_count": null,
   "metadata": {
    "colab": {
     "base_uri": "https://localhost:8080/",
     "height": 34
    },
    "colab_type": "code",
    "executionInfo": {
     "elapsed": 430,
     "status": "ok",
     "timestamp": 1574366521561,
     "user": {
      "displayName": "Jacinta Moore",
      "photoUrl": "",
      "userId": "14215851766389388616"
     },
     "user_tz": 300
    },
    "id": "BOOKcH1Yh1oN",
    "outputId": "3fe56fdc-09e7-4eac-9550-ad157d0ef53d"
   },
   "outputs": [],
   "source": [
    "(train_features['bathrooms']==0).sum()\n",
    "## 4 values have outlier value of 0 for bathrooms...No bathrooms??"
   ]
  },
  {
   "cell_type": "code",
   "execution_count": null,
   "metadata": {
    "colab": {
     "base_uri": "https://localhost:8080/",
     "height": 34
    },
    "colab_type": "code",
    "executionInfo": {
     "elapsed": 369,
     "status": "ok",
     "timestamp": 1574368604854,
     "user": {
      "displayName": "Jacinta Moore",
      "photoUrl": "",
      "userId": "14215851766389388616"
     },
     "user_tz": 300
    },
    "id": "EWZxxglqrkC0",
    "outputId": "49ddcf20-d2d1-4961-ec99-c2c5281d8e7d"
   },
   "outputs": [],
   "source": [
    "(test_features['bathrooms']==0).sum()"
   ]
  },
  {
   "cell_type": "code",
   "execution_count": null,
   "metadata": {
    "colab": {
     "base_uri": "https://localhost:8080/",
     "height": 34
    },
    "colab_type": "code",
    "executionInfo": {
     "elapsed": 424,
     "status": "ok",
     "timestamp": 1574270011276,
     "user": {
      "displayName": "Jacinta Moore",
      "photoUrl": "",
      "userId": "14215851766389388616"
     },
     "user_tz": 300
    },
    "id": "7jcdosFlyvaH",
    "outputId": "fc5efc46-6834-420d-d447-910e42ac3552"
   },
   "outputs": [],
   "source": [
    "(train_features['bedrooms']==0).sum()\n",
    "## 1556 values have outlier value of 0 for bedrooms...No bedrooms??Commercial rental?"
   ]
  },
  {
   "cell_type": "code",
   "execution_count": null,
   "metadata": {
    "colab": {},
    "colab_type": "code",
    "id": "5r0n9ZApqLvP"
   },
   "outputs": [],
   "source": [
    "no_bedrooms = train_df[train_df['bedrooms']==0]"
   ]
  },
  {
   "cell_type": "code",
   "execution_count": null,
   "metadata": {
    "colab": {
     "base_uri": "https://localhost:8080/",
     "height": 813
    },
    "colab_type": "code",
    "executionInfo": {
     "elapsed": 385,
     "status": "ok",
     "timestamp": 1574369033771,
     "user": {
      "displayName": "Jacinta Moore",
      "photoUrl": "",
      "userId": "14215851766389388616"
     },
     "user_tz": 300
    },
    "id": "RSmOrsZPtMg7",
    "outputId": "06b110bd-64bd-4da0-b1d7-082d64ccc9fb"
   },
   "outputs": [],
   "source": [
    "no_bedrooms.head(10)"
   ]
  },
  {
   "cell_type": "code",
   "execution_count": null,
   "metadata": {
    "colab": {
     "base_uri": "https://localhost:8080/",
     "height": 34
    },
    "colab_type": "code",
    "executionInfo": {
     "elapsed": 585,
     "status": "ok",
     "timestamp": 1574434075761,
     "user": {
      "displayName": "Jacinta Moore",
      "photoUrl": "",
      "userId": "14215851766389388616"
     },
     "user_tz": 300
    },
    "id": "nlVemw79rpvO",
    "outputId": "6f304e76-79aa-4c31-a088-8c5330a82553"
   },
   "outputs": [],
   "source": [
    "(test_features['bedrooms']==0).sum()"
   ]
  },
  {
   "cell_type": "code",
   "execution_count": null,
   "metadata": {
    "colab": {
     "base_uri": "https://localhost:8080/",
     "height": 34
    },
    "colab_type": "code",
    "executionInfo": {
     "elapsed": 515,
     "status": "ok",
     "timestamp": 1574434039682,
     "user": {
      "displayName": "Jacinta Moore",
      "photoUrl": "",
      "userId": "14215851766389388616"
     },
     "user_tz": 300
    },
    "id": "mV-eUQDGspWk",
    "outputId": "497e6440-15ff-4014-a42e-51a7f061ba64"
   },
   "outputs": [],
   "source": [
    "(submit1_df['bedrooms']==0).sum()"
   ]
  },
  {
   "cell_type": "markdown",
   "metadata": {
    "colab_type": "text",
    "id": "2RqfEddy32cf"
   },
   "source": [
    "##### Large data points"
   ]
  },
  {
   "cell_type": "code",
   "execution_count": null,
   "metadata": {
    "colab": {},
    "colab_type": "code",
    "id": "ZpVZasEf0ubq"
   },
   "outputs": [],
   "source": [
    "o_df = train_df.loc[train_df.size_sqft>=8000]"
   ]
  },
  {
   "cell_type": "code",
   "execution_count": null,
   "metadata": {
    "colab": {
     "base_uri": "https://localhost:8080/",
     "height": 387
    },
    "colab_type": "code",
    "executionInfo": {
     "elapsed": 525,
     "status": "ok",
     "timestamp": 1574270638865,
     "user": {
      "displayName": "Jacinta Moore",
      "photoUrl": "",
      "userId": "14215851766389388616"
     },
     "user_tz": 300
    },
    "id": "7bVrJjpC1qYI",
    "outputId": "0b028906-5d11-4766-e3c2-81d53d2d7094"
   },
   "outputs": [],
   "source": [
    "o_df"
   ]
  },
  {
   "cell_type": "code",
   "execution_count": null,
   "metadata": {
    "colab": {
     "base_uri": "https://localhost:8080/",
     "height": 547
    },
    "colab_type": "code",
    "executionInfo": {
     "elapsed": 400,
     "status": "ok",
     "timestamp": 1574271099355,
     "user": {
      "displayName": "Jacinta Moore",
      "photoUrl": "",
      "userId": "14215851766389388616"
     },
     "user_tz": 300
    },
    "id": "WTVs29D52N2_",
    "outputId": "5ca30304-0837-4658-b65b-13fac4edaf88"
   },
   "outputs": [],
   "source": [
    "obd_df = train_df.loc[train_df.bedrooms> 6]\n",
    "obd_df"
   ]
  },
  {
   "cell_type": "code",
   "execution_count": null,
   "metadata": {
    "colab": {
     "base_uri": "https://localhost:8080/",
     "height": 270
    },
    "colab_type": "code",
    "executionInfo": {
     "elapsed": 401,
     "status": "ok",
     "timestamp": 1574270902302,
     "user": {
      "displayName": "Jacinta Moore",
      "photoUrl": "",
      "userId": "14215851766389388616"
     },
     "user_tz": 300
    },
    "id": "qvPoZyl-2qO9",
    "outputId": "bda4199e-325a-437a-a0c9-e5a00ee0298b"
   },
   "outputs": [],
   "source": [
    "obath_df = train_df.loc[train_df.bathrooms>=8]\n",
    "obath_df\n",
    "## Clearly row 7160572 of 12 bathrooms is an error as the description says 2 bed 2 bath\n",
    "## row 7236325 also seems an error as there are only 2 bedrooms, most likely it should be 2 bath"
   ]
  },
  {
   "cell_type": "markdown",
   "metadata": {
    "colab_type": "text",
    "id": "9ZXTYUh73_Z5"
   },
   "source": [
    "At this point we are going to just be mindful of the outliers. In Part 2 we may consider adjusting these but it will depend if they will have an impact upon the results. At the moment they are only a couple of points out of 12,000."
   ]
  },
  {
   "cell_type": "markdown",
   "metadata": {
    "colab_type": "text",
    "id": "aPjrrxHJot6h"
   },
   "source": [
    "## Data Modelling \n",
    "This section we look at different models and model our training data"
   ]
  },
  {
   "cell_type": "code",
   "execution_count": null,
   "metadata": {
    "colab": {
     "base_uri": "https://localhost:8080/",
     "height": 202
    },
    "colab_type": "code",
    "executionInfo": {
     "elapsed": 1560,
     "status": "ok",
     "timestamp": 1574435479871,
     "user": {
      "displayName": "Jacinta Moore",
      "photoUrl": "",
      "userId": "14215851766389388616"
     },
     "user_tz": 300
    },
    "id": "sgsw3jxTpHL5",
    "outputId": "91513f4c-ef66-4175-9a74-5f35c2b10f69"
   },
   "outputs": [],
   "source": [
    "# training a linear regression model\n",
    "lreg = LinearRegression()\n",
    "lreg.fit(train_features, train_target)\n",
    "\n",
    "# training a random forest regression model\n",
    "rf = RandomForestRegressor()\n",
    "rf.fit(train_features, train_target)\n",
    "\n",
    "#training a gradient boosting regressor\n",
    "gbt = GradientBoostingRegressor( )\n",
    "gbt.fit(train_features, train_target)"
   ]
  },
  {
   "cell_type": "code",
   "execution_count": null,
   "metadata": {
    "colab": {},
    "colab_type": "code",
    "id": "8sNqibK39M43"
   },
   "outputs": [],
   "source": [
    "test_features = test_df[feature_cols] \n",
    "\n",
    "# impute missing values with medians\n",
    "test_features = test_features.fillna(train_features.median(), axis=0)"
   ]
  },
  {
   "cell_type": "code",
   "execution_count": null,
   "metadata": {
    "colab": {
     "base_uri": "https://localhost:8080/",
     "height": 34
    },
    "colab_type": "code",
    "executionInfo": {
     "elapsed": 589,
     "status": "ok",
     "timestamp": 1574435487189,
     "user": {
      "displayName": "Jacinta Moore",
      "photoUrl": "",
      "userId": "14215851766389388616"
     },
     "user_tz": 300
    },
    "id": "eb0I0fZM8E7R",
    "outputId": "3ddbf70a-7b8f-48b9-976e-1feb3855bd5d"
   },
   "outputs": [],
   "source": [
    "# construct predictions for linear regression \n",
    "test_df['predicted'] = lreg.predict(test_features)\n",
    "\n",
    "mean_squared_error(test_df['rent'], test_df['predicted'])"
   ]
  },
  {
   "cell_type": "code",
   "execution_count": null,
   "metadata": {
    "colab": {
     "base_uri": "https://localhost:8080/",
     "height": 314
    },
    "colab_type": "code",
    "executionInfo": {
     "elapsed": 820,
     "status": "ok",
     "timestamp": 1574435489349,
     "user": {
      "displayName": "Jacinta Moore",
      "photoUrl": "",
      "userId": "14215851766389388616"
     },
     "user_tz": 300
    },
    "id": "4gni9W5AitcY",
    "outputId": "8edd566e-dd7d-4967-96b2-399de25d5840"
   },
   "outputs": [],
   "source": [
    "pd.DataFrame(lreg.coef_, index=feature_cols,  columns = ['Est. Coefficient'])"
   ]
  },
  {
   "cell_type": "code",
   "execution_count": null,
   "metadata": {
    "colab": {
     "base_uri": "https://localhost:8080/",
     "height": 305
    },
    "colab_type": "code",
    "executionInfo": {
     "elapsed": 998,
     "status": "ok",
     "timestamp": 1574435494831,
     "user": {
      "displayName": "Jacinta Moore",
      "photoUrl": "",
      "userId": "14215851766389388616"
     },
     "user_tz": 300
    },
    "id": "pswqLCf5kZdP",
    "outputId": "7b2d9830-b46b-4c6e-bb04-03dd94d49fee"
   },
   "outputs": [],
   "source": [
    "_ = plt.scatter(train_df['rent'], lreg.predict(train_features))\n",
    "_ = plt.xlabel(\"Rents: $Y_i$\")\n",
    "_ = plt.ylabel(\"Predicted rents: $\\hat{Y}_i$\")\n",
    "_ = plt.title(\"Rents vs Predicted Rents: $Y_i$ vs $\\hat{Y}_i$\")\n",
    "_ = plt.plot([0, 20000], [0, 20000], linewidth=4, color='red')"
   ]
  },
  {
   "cell_type": "code",
   "execution_count": null,
   "metadata": {
    "colab": {
     "base_uri": "https://localhost:8080/",
     "height": 34
    },
    "colab_type": "code",
    "executionInfo": {
     "elapsed": 504,
     "status": "ok",
     "timestamp": 1574435496806,
     "user": {
      "displayName": "Jacinta Moore",
      "photoUrl": "",
      "userId": "14215851766389388616"
     },
     "user_tz": 300
    },
    "id": "Sp72Ave09snn",
    "outputId": "9db18233-1d6e-44aa-f7bd-e0f845342186"
   },
   "outputs": [],
   "source": [
    "# construct predictions for random forest regression\n",
    "test_df['predicted'] = rf.predict(test_features)\n",
    "\n",
    "mean_squared_error(test_df['rent'], test_df['predicted'])"
   ]
  },
  {
   "cell_type": "code",
   "execution_count": null,
   "metadata": {
    "colab": {
     "base_uri": "https://localhost:8080/",
     "height": 34
    },
    "colab_type": "code",
    "executionInfo": {
     "elapsed": 630,
     "status": "ok",
     "timestamp": 1574435502551,
     "user": {
      "displayName": "Jacinta Moore",
      "photoUrl": "",
      "userId": "14215851766389388616"
     },
     "user_tz": 300
    },
    "id": "9eDsuYKX9ouI",
    "outputId": "069309a5-4b41-4290-b30a-5a81d8ae6161"
   },
   "outputs": [],
   "source": [
    "# construct predictions for gradient boosting regression\n",
    "test_df['predicted'] = gbt.predict(test_features)\n",
    "\n",
    "mean_squared_error(test_df['rent'], test_df['predicted'])"
   ]
  },
  {
   "cell_type": "markdown",
   "metadata": {
    "colab_type": "text",
    "id": "nLFP6LTykfII"
   },
   "source": [
    "### 2. Model 2: Adding an additional feature: Distance to Central Park"
   ]
  },
  {
   "cell_type": "code",
   "execution_count": null,
   "metadata": {
    "colab": {
     "base_uri": "https://localhost:8080/",
     "height": 202
    },
    "colab_type": "code",
    "executionInfo": {
     "elapsed": 1631,
     "status": "ok",
     "timestamp": 1574436661570,
     "user": {
      "displayName": "Jacinta Moore",
      "photoUrl": "",
      "userId": "14215851766389388616"
     },
     "user_tz": 300
    },
    "id": "rmIFaPmYnGEa",
    "outputId": "748b0b95-40ad-4708-855c-05cbb0c92f80"
   },
   "outputs": [],
   "source": [
    "# training and test model for train_df2\n",
    "# training a linear regression model\n",
    "lreg2 = LinearRegression()\n",
    "lreg2.fit(train_features2, train_target2)\n",
    "\n",
    "# training a random forest regression model\n",
    "rf2 = RandomForestRegressor()\n",
    "rf2.fit(train_features2, train_target2)\n",
    "\n",
    "#training a gradient boosting regressor\n",
    "gbt2 = GradientBoostingRegressor( )\n",
    "gbt2.fit(train_features2, train_target2)\n"
   ]
  },
  {
   "cell_type": "code",
   "execution_count": null,
   "metadata": {
    "colab": {},
    "colab_type": "code",
    "id": "sUYGoFELn_Hm"
   },
   "outputs": [],
   "source": [
    "test_features2 = test_df2[feature_cols2] \n",
    "\n",
    "# impute missing values with medians\n",
    "test_features2 = test_features2.fillna(train_features2.median(), axis=0)"
   ]
  },
  {
   "cell_type": "code",
   "execution_count": null,
   "metadata": {
    "colab": {
     "base_uri": "https://localhost:8080/",
     "height": 34
    },
    "colab_type": "code",
    "executionInfo": {
     "elapsed": 788,
     "status": "ok",
     "timestamp": 1574436675990,
     "user": {
      "displayName": "Jacinta Moore",
      "photoUrl": "",
      "userId": "14215851766389388616"
     },
     "user_tz": 300
    },
    "id": "a0H6idztoHEs",
    "outputId": "6389db4b-972e-4396-8c39-83b2202f49a9",
    "scrolled": true
   },
   "outputs": [],
   "source": [
    "# construct predictions for linear regression \n",
    "test_df2['predicted'] = lreg2.predict(test_features2)\n",
    "\n",
    "mean_squared_error(test_df2['rent'], test_df2['predicted'])"
   ]
  },
  {
   "cell_type": "code",
   "execution_count": null,
   "metadata": {
    "colab": {
     "base_uri": "https://localhost:8080/",
     "height": 34
    },
    "colab_type": "code",
    "executionInfo": {
     "elapsed": 838,
     "status": "ok",
     "timestamp": 1574436687867,
     "user": {
      "displayName": "Jacinta Moore",
      "photoUrl": "",
      "userId": "14215851766389388616"
     },
     "user_tz": 300
    },
    "id": "Tt5WXyY-oK5M",
    "outputId": "fd513d32-a5be-46c7-8959-fb5647061f89"
   },
   "outputs": [],
   "source": [
    "# construct predictions for random forest regression\n",
    "test_df2['predicted'] = rf2.predict(test_features2)\n",
    "\n",
    "mean_squared_error(test_df2['rent'], test_df2['predicted'])"
   ]
  },
  {
   "cell_type": "code",
   "execution_count": null,
   "metadata": {},
   "outputs": [],
   "source": [
    "# training and test model for train_df2\n",
    "# training a linear regression model\n",
    "lreg3 = LinearRegression()\n",
    "lreg3.fit(train_features3, train_target3)\n",
    "\n",
    "# training a random forest regression model\n",
    "rf3 = RandomForestRegressor()\n",
    "rf3.fit(train_features3, train_target3)\n",
    "\n",
    "knn = KNeighborsRegressor()\n",
    "knn.fit(train_features3, train_target3)\n",
    "\n",
    "#training a gradient boosting regressor\n",
    "gbt3 = GradientBoostingRegressor( )\n",
    "gbt3.fit(train_features3, train_target3)\n",
    "\n"
   ]
  },
  {
   "cell_type": "code",
   "execution_count": 35,
   "metadata": {},
   "outputs": [],
   "source": [
    "test_features3 = test_df3[feature_cols3] \n",
    "\n",
    "# impute missing values with medians\n",
    "test_features3 = test_features3.fillna(train_features3.median(), axis=0)"
   ]
  },
  {
   "cell_type": "code",
   "execution_count": null,
   "metadata": {},
   "outputs": [],
   "source": [
    "# construct predictions for linear regression \n",
    "test_df3['predicted'] = lreg3.predict(test_features3)\n",
    "\n",
    "mean_squared_error(test_df3['rent'], test_df3['predicted'])"
   ]
  },
  {
   "cell_type": "code",
   "execution_count": null,
   "metadata": {},
   "outputs": [],
   "source": [
    "# construct predictions for random forest regression\n",
    "test_df3['predicted'] = rf3.predict(test_features3)\n",
    "\n",
    "mean_squared_error(test_df3['rent'], test_df3['predicted'])"
   ]
  },
  {
   "cell_type": "code",
   "execution_count": null,
   "metadata": {},
   "outputs": [],
   "source": [
    "# construct predictions for random forest regression\n",
    "test_df3['predicted'] = gbt3.predict(test_features3)\n",
    "\n",
    "mean_squared_error(test_df3['rent'], test_df3['predicted'])"
   ]
  },
  {
   "cell_type": "code",
   "execution_count": 41,
   "metadata": {},
   "outputs": [
    {
     "data": {
      "text/plain": [
       "3352000.97816"
      ]
     },
     "execution_count": 41,
     "metadata": {},
     "output_type": "execute_result"
    }
   ],
   "source": [
    "# construct predictions for random forest regression\n",
    "test_df3['predicted'] = knn.predict(test_features3)\n",
    "mean_squared_error(test_df3['rent'], test_df3['predicted'])"
   ]
  },
  {
   "cell_type": "code",
   "execution_count": null,
   "metadata": {},
   "outputs": [],
   "source": [
    "from sklearn.model_selection import RandomizedSearchCV, GridSearchCV"
   ]
  },
  {
   "cell_type": "code",
   "execution_count": null,
   "metadata": {},
   "outputs": [],
   "source": [
    "# Number of trees used in the boosting process\n",
    "n_estimators = [100, 500, 900, 1100, 1500]\n",
    "\n",
    "# Maximum depth of each tree\n",
    "max_depth = [2, 3, 5, 10, 15]\n",
    "\n",
    "# Minimum number of samples per leaf\n",
    "min_samples_leaf = [1, 2, 4, 6, 8]\n",
    "\n",
    "# Minimum number of samples to split a node\n",
    "min_samples_split = [2, 4, 6, 10]\n",
    "\n",
    "# Maximum number of features to consider for making splits\n",
    "max_features = ['auto', 'sqrt', 'log2', None]\n",
    "\n",
    "# Method of selecting samples for training each tree\n",
    "bootstrap = [True, False]\n",
    "\n",
    "# Define the grid of hyperparameters to search\n",
    "hyperparameter_grid = {'n_estimators': n_estimators,\n",
    "                       'max_depth': max_depth,\n",
    "                       'min_samples_leaf': min_samples_leaf,\n",
    "                       'min_samples_split': min_samples_split,\n",
    "                       'max_features': max_features,\n",
    "                       'bootstrap': bootstrap}"
   ]
  },
  {
   "cell_type": "code",
   "execution_count": null,
   "metadata": {},
   "outputs": [],
   "source": [
    "# Create the model to use for hyperparameter tuning\n",
    "model = RandomForestRegressor(random_state = 42)\n",
    "\n",
    "# Set up the random search with 4-fold cross validation\n",
    "random_cv = RandomizedSearchCV(estimator=model,\n",
    "                               param_distributions=hyperparameter_grid,\n",
    "                               cv=4, n_iter=25, \n",
    "                               scoring = 'neg_mean_squared_error',\n",
    "                               n_jobs = -1, verbose = 1, \n",
    "                               return_train_score = True,\n",
    "                               random_state=42)"
   ]
  },
  {
   "cell_type": "code",
   "execution_count": null,
   "metadata": {},
   "outputs": [],
   "source": [
    "# Fit on the training data\n",
    "random_cv.fit(train_features3, train_target3)"
   ]
  },
  {
   "cell_type": "code",
   "execution_count": null,
   "metadata": {},
   "outputs": [],
   "source": [
    "# Get all of the cv results and sort by the test performance\n",
    "random_results = pd.DataFrame(random_cv.cv_results_).sort_values('mean_test_score', ascending = False)\n",
    "\n",
    "random_results.head(10)"
   ]
  },
  {
   "cell_type": "code",
   "execution_count": null,
   "metadata": {},
   "outputs": [],
   "source": [
    "random_cv.best_estimator_"
   ]
  },
  {
   "cell_type": "code",
   "execution_count": null,
   "metadata": {},
   "outputs": [],
   "source": [
    "# Create a range of trees to evaluate\n",
    "trees_grid = {'n_estimators': [100, 150, 200, 250, 300, 350, 400, 450, 500, 550, 600, 650, 700, 750, 800]}\n",
    "\n",
    "model = RandomForestRegressor(max_depth = 15,\n",
    "                                  min_samples_leaf = 2,\n",
    "                                  min_samples_split = 10,\n",
    "                                  max_features = 'sqrt',\n",
    "                                  random_state = 42)\n",
    "\n",
    "# Grid Search Object using the trees range and the random forest model\n",
    "grid_search = GridSearchCV(estimator = model, param_grid=trees_grid, cv = 4, \n",
    "                           scoring = 'neg_mean_squared_error', verbose = 1,\n",
    "                           n_jobs = -1, return_train_score = True)"
   ]
  },
  {
   "cell_type": "code",
   "execution_count": null,
   "metadata": {},
   "outputs": [],
   "source": [
    "# Fit the grid search\n",
    "grid_search.fit(train_features3, train_target3)"
   ]
  },
  {
   "cell_type": "code",
   "execution_count": null,
   "metadata": {},
   "outputs": [],
   "source": [
    "import matplotlib.pyplot as plt\n",
    "%matplotlib inline\n",
    "\n",
    "\n",
    "# Set default font size\n",
    "plt.rcParams['font.size'] = 24\n",
    "\n",
    "from IPython.core.pylabtools import figsize"
   ]
  },
  {
   "cell_type": "code",
   "execution_count": null,
   "metadata": {},
   "outputs": [],
   "source": [
    "# Get the results into a dataframe\n",
    "results = pd.DataFrame(grid_search.cv_results_)\n",
    "\n",
    "# Plot the training and testing error vs number of trees\n",
    "figsize(8, 8)\n",
    "plt.style.use('fivethirtyeight')\n",
    "plt.plot(results['param_n_estimators'], -1 * results['mean_test_score'], label = 'Testing Error')\n",
    "plt.plot(results['param_n_estimators'], -1 * results['mean_train_score'], label = 'Training Error')\n",
    "plt.xlabel('Number of Trees'); plt.ylabel('Mean Squared Error'); plt.legend();\n",
    "plt.title('Performance vs Number of Trees');"
   ]
  },
  {
   "cell_type": "code",
   "execution_count": null,
   "metadata": {},
   "outputs": [],
   "source": [
    "test_features3 = test_df3[feature_cols3] \n",
    "\n",
    "# impute missing values with medians\n",
    "test_features3 = test_features3.fillna(train_features3.median(), axis=0)"
   ]
  },
  {
   "cell_type": "code",
   "execution_count": null,
   "metadata": {},
   "outputs": [],
   "source": [
    "# construct predictions for linear regression \n",
    "test_df3['predicted'] = grid_search.predict(test_features3)\n",
    "\n",
    "mean_squared_error(test_df3['rent'], test_df3['predicted'])"
   ]
  },
  {
   "cell_type": "code",
   "execution_count": null,
   "metadata": {},
   "outputs": [],
   "source": []
  },
  {
   "cell_type": "markdown",
   "metadata": {
    "colab_type": "text",
    "id": "9IVaqCL3pKBX"
   },
   "source": [
    "## Summary of Results and Further Work\n",
    "This section we look at the results of the modelling. Compare the results of the different models and then make decisions about further work to try improve the accuracy of our model in predicting the rents."
   ]
  },
  {
   "cell_type": "markdown",
   "metadata": {},
   "source": [
    "|        Model       |                  Description              |         MSE       |\n",
    "|:-------------------|:-----------------------------------------:|------------------:|\n",
    "|  Linear Regression |         train_df: No additional data      | 3674316.2820333852|\n",
    "|  Random Forrest    |            train_df: No additional        | 2284878.990318595 |\n",
    "|  Gradient Boosting |            train_df: No additional        | 2367734.7918685228|\n",
    "|  Linear Regression | train_df2: Central Park distance included | 3475046.5877851504|\n",
    "|   Random Forrest   | train_df2: Central Park distance included | 2065466.2843227144|\n",
    "|  Linear Regression | train_df3: Time Square distance included  | 3149962.9103451534|\n",
    "|   Random Forrest   | train_df3: Time Square distance included  | 1714305.522788979 |"
   ]
  },
  {
   "cell_type": "code",
   "execution_count": null,
   "metadata": {
    "colab": {
     "base_uri": "https://localhost:8080/",
     "height": 202
    },
    "colab_type": "code",
    "executionInfo": {
     "elapsed": 490,
     "status": "ok",
     "timestamp": 1574435539314,
     "user": {
      "displayName": "Jacinta Moore",
      "photoUrl": "",
      "userId": "14215851766389388616"
     },
     "user_tz": 300
    },
    "id": "myzjIGHjpDdT",
    "outputId": "1c9a8837-ed11-4f8d-f41d-0daefa88e75e",
    "scrolled": false
   },
   "outputs": [],
   "source": [
    "# Get numerical feature importances\n",
    "importances = list(rf2.feature_importances_)\n",
    "# List of tuples with variable and importance\n",
    "feature_importances = [(feature, round(importance, 2)) for feature, importance in zip(test_features2, importances)]\n",
    "# Sort the feature importances by most important first\n",
    "feature_importances = sorted(feature_importances, key = lambda x: x[1], reverse = True)\n",
    "# Print out the feature and importances \n",
    "[print('Variable: {:20} Importance: {}'.format(*pair)) for pair in feature_importances]"
   ]
  },
  {
   "cell_type": "code",
   "execution_count": null,
   "metadata": {},
   "outputs": [],
   "source": [
    "# Get numerical feature importances\n",
    "importances = list(rf3.feature_importances_)\n",
    "# List of tuples with variable and importance\n",
    "feature_importances = [(feature, round(importance, 2)) for feature, importance in zip(test_features3, importances)]\n",
    "# Sort the feature importances by most important first\n",
    "feature_importances = sorted(feature_importances, key = lambda x: x[1], reverse = True)\n",
    "# Print out the feature and importances \n",
    "[print('Variable: {:20} Importance: {}'.format(*pair)) for pair in feature_importances]"
   ]
  },
  {
   "cell_type": "markdown",
   "metadata": {
    "colab_type": "text",
    "id": "ZLPsk7jHpjAa"
   },
   "source": [
    "The results above show that for the Random Forrest Regressor the features with the most importance are size_sqft, number of bathrooms and distance to Time Square. The red flag is the number of bedrooms does not have a significant influence whereas we would expect it would. This could be the result of 10-13% of the data having recorded 0 number of bedrooms, where we would expect at least one and inspection of the data shows its not commerical but residential. "
   ]
  },
  {
   "cell_type": "markdown",
   "metadata": {
    "colab_type": "text",
    "id": "0kLiTVGGpgYf"
   },
   "source": [
    "## Modelling of Data for Submission"
   ]
  },
  {
   "cell_type": "code",
   "execution_count": null,
   "metadata": {
    "colab": {
     "base_uri": "https://localhost:8080/",
     "height": 134
    },
    "colab_type": "code",
    "executionInfo": {
     "elapsed": 1130,
     "status": "ok",
     "timestamp": 1574436723990,
     "user": {
      "displayName": "Jacinta Moore",
      "photoUrl": "",
      "userId": "14215851766389388616"
     },
     "user_tz": 300
    },
    "id": "hI8pt4UitrHu",
    "outputId": "1f3d8b46-883b-45f8-acf0-99d2538633f1"
   },
   "outputs": [],
   "source": [
    "master_df = train_df3.append(test_df3, sort=False)\n",
    "\n",
    "master_features = master_df[feature_cols3].fillna(master_df[feature_cols3].median(), axis=0)\n",
    "master_target = master_df['rent']\n",
    "\n",
    "rf.fit(master_features, master_target)"
   ]
  },
  {
   "cell_type": "code",
   "execution_count": null,
   "metadata": {},
   "outputs": [],
   "source": [
    "master_df = train_df3.append(test_df3 sort=False)\n",
    "master_features = master_df[feature_col2]"
   ]
  },
  {
   "cell_type": "code",
   "execution_count": null,
   "metadata": {},
   "outputs": [],
   "source": [
    "master_df['predicted'] = rf.predict(master_features)\n",
    "\n",
    "mean_squared_error(master_df['rent'], master_df['predicted'])"
   ]
  },
  {
   "cell_type": "markdown",
   "metadata": {
    "colab_type": "text",
    "id": "vvFNyj9Vt_P0"
   },
   "source": [
    "### Create Submission"
   ]
  },
  {
   "cell_type": "code",
   "execution_count": null,
   "metadata": {
    "colab": {
     "base_uri": "https://localhost:8080/",
     "height": 34
    },
    "colab_type": "code",
    "executionInfo": {
     "elapsed": 492,
     "status": "ok",
     "timestamp": 1574436729033,
     "user": {
      "displayName": "Jacinta Moore",
      "photoUrl": "",
      "userId": "14215851766389388616"
     },
     "user_tz": 300
    },
    "id": "b2M3eLpdt6Kf",
    "outputId": "1e190298-d8fc-4596-e747-dfa7a92c224d"
   },
   "outputs": [],
   "source": [
    "submit1_features3 = submit1_df[feature_cols3].fillna(master_df[feature_cols3].median(), axis=0)\n",
    "submit1_df['predictions'] = rf.predict(submit1_features3)\n",
    "submit1_df['predictions'].to_csv('sample_submission1.csv', header=True)\n",
    "\n",
    "submit1_df['fake_rent'] = np.ones(submit1_df['predictions'].shape) * master_target.median()\n",
    "mean_squared_error(submit1_df['predictions'], submit1_df['fake_rent'])"
   ]
  },
  {
   "cell_type": "code",
   "execution_count": null,
   "metadata": {
    "colab": {},
    "colab_type": "code",
    "id": "gChBHajzuvD5"
   },
   "outputs": [],
   "source": []
  }
 ],
 "metadata": {
  "colab": {
   "collapsed_sections": [],
   "name": "Part 1 Final Project.ipynb",
   "provenance": []
  },
  "kernelspec": {
   "display_name": "Python 3",
   "language": "python",
   "name": "python3"
  },
  "language_info": {
   "codemirror_mode": {
    "name": "ipython",
    "version": 3
   },
   "file_extension": ".py",
   "mimetype": "text/x-python",
   "name": "python",
   "nbconvert_exporter": "python",
   "pygments_lexer": "ipython3",
   "version": "3.7.0"
  }
 },
 "nbformat": 4,
 "nbformat_minor": 1
}
